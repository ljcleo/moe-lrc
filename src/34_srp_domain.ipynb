{
 "cells": [
  {
   "cell_type": "code",
   "execution_count": null,
   "id": "b8c075df",
   "metadata": {},
   "outputs": [],
   "source": [
    "from pathlib import Path\n",
    "\n",
    "import pandas as pd\n",
    "import plotly.express as px\n",
    "import plotly.graph_objects as go\n",
    "from plotly.subplots import make_subplots\n",
    "\n",
    "from misc import data_config, model_config"
   ]
  },
  {
   "cell_type": "code",
   "execution_count": 3,
   "id": "1bce6fc7",
   "metadata": {},
   "outputs": [
    {
     "data": {
      "text/html": [
       "<div>\n",
       "<style scoped>\n",
       "    .dataframe tbody tr th:only-of-type {\n",
       "        vertical-align: middle;\n",
       "    }\n",
       "\n",
       "    .dataframe tbody tr th {\n",
       "        vertical-align: top;\n",
       "    }\n",
       "\n",
       "    .dataframe thead th {\n",
       "        text-align: right;\n",
       "    }\n",
       "</style>\n",
       "<table border=\"1\" class=\"dataframe\">\n",
       "  <thead>\n",
       "    <tr style=\"text-align: right;\">\n",
       "      <th></th>\n",
       "      <th>model_name</th>\n",
       "      <th>model_abbr</th>\n",
       "      <th>model_type</th>\n",
       "      <th>model_num_params</th>\n",
       "      <th>model_num_layers</th>\n",
       "      <th>model_num_experts</th>\n",
       "      <th>model_top_k</th>\n",
       "      <th>model_attn</th>\n",
       "    </tr>\n",
       "    <tr>\n",
       "      <th>key</th>\n",
       "      <th></th>\n",
       "      <th></th>\n",
       "      <th></th>\n",
       "      <th></th>\n",
       "      <th></th>\n",
       "      <th></th>\n",
       "      <th></th>\n",
       "      <th></th>\n",
       "    </tr>\n",
       "  </thead>\n",
       "  <tbody>\n",
       "    <tr>\n",
       "      <th>powermoe</th>\n",
       "      <td>PowerMoE-3B</td>\n",
       "      <td>PW</td>\n",
       "      <td>causal</td>\n",
       "      <td>3.30</td>\n",
       "      <td>32</td>\n",
       "      <td>40</td>\n",
       "      <td>8</td>\n",
       "      <td>flash_attention_2</td>\n",
       "    </tr>\n",
       "    <tr>\n",
       "      <th>llamamoe</th>\n",
       "      <td>LLaMA-MoE-v1-3.5B</td>\n",
       "      <td>LL1</td>\n",
       "      <td>causal</td>\n",
       "      <td>6.74</td>\n",
       "      <td>32</td>\n",
       "      <td>16</td>\n",
       "      <td>4</td>\n",
       "      <td>eager</td>\n",
       "    </tr>\n",
       "    <tr>\n",
       "      <th>olmoe</th>\n",
       "      <td>OLMoE-1B-7B-0125</td>\n",
       "      <td>OL</td>\n",
       "      <td>causal</td>\n",
       "      <td>6.92</td>\n",
       "      <td>16</td>\n",
       "      <td>64</td>\n",
       "      <td>8</td>\n",
       "      <td>flash_attention_2</td>\n",
       "    </tr>\n",
       "    <tr>\n",
       "      <th>switch</th>\n",
       "      <td>SwitchTransformers-Base-128</td>\n",
       "      <td>ST</td>\n",
       "      <td>seq2seq</td>\n",
       "      <td>7.42</td>\n",
       "      <td>24</td>\n",
       "      <td>128</td>\n",
       "      <td>1</td>\n",
       "      <td>eager</td>\n",
       "    </tr>\n",
       "    <tr>\n",
       "      <th>llamamoe2</th>\n",
       "      <td>LLaMA-MoE-v2-3.8B</td>\n",
       "      <td>LL2</td>\n",
       "      <td>causal</td>\n",
       "      <td>8.03</td>\n",
       "      <td>32</td>\n",
       "      <td>8</td>\n",
       "      <td>2</td>\n",
       "      <td>flash_attention_2</td>\n",
       "    </tr>\n",
       "    <tr>\n",
       "      <th>jetmoe</th>\n",
       "      <td>JetMoE-8B</td>\n",
       "      <td>JT</td>\n",
       "      <td>causal</td>\n",
       "      <td>8.52</td>\n",
       "      <td>24</td>\n",
       "      <td>8</td>\n",
       "      <td>2</td>\n",
       "      <td>flash_attention_2</td>\n",
       "    </tr>\n",
       "    <tr>\n",
       "      <th>openmoe</th>\n",
       "      <td>OpenMoE-8B</td>\n",
       "      <td>OP</td>\n",
       "      <td>causal</td>\n",
       "      <td>11.86</td>\n",
       "      <td>24</td>\n",
       "      <td>32</td>\n",
       "      <td>2</td>\n",
       "      <td>eager</td>\n",
       "    </tr>\n",
       "    <tr>\n",
       "      <th>minicpm</th>\n",
       "      <td>MiniCPM-MoE-8x2B</td>\n",
       "      <td>MC</td>\n",
       "      <td>causal</td>\n",
       "      <td>13.87</td>\n",
       "      <td>40</td>\n",
       "      <td>8</td>\n",
       "      <td>2</td>\n",
       "      <td>flash_attention_2</td>\n",
       "    </tr>\n",
       "    <tr>\n",
       "      <th>qwen</th>\n",
       "      <td>Qwen1.5-MoE-A2.7B</td>\n",
       "      <td>QW1</td>\n",
       "      <td>causal</td>\n",
       "      <td>14.32</td>\n",
       "      <td>24</td>\n",
       "      <td>60</td>\n",
       "      <td>4</td>\n",
       "      <td>flash_attention_2</td>\n",
       "    </tr>\n",
       "    <tr>\n",
       "      <th>deepseek2</th>\n",
       "      <td>DeepSeek-V2-Lite</td>\n",
       "      <td>DS2</td>\n",
       "      <td>causal</td>\n",
       "      <td>15.71</td>\n",
       "      <td>27</td>\n",
       "      <td>64</td>\n",
       "      <td>6</td>\n",
       "      <td>flash_attention_2</td>\n",
       "    </tr>\n",
       "    <tr>\n",
       "      <th>deepseek</th>\n",
       "      <td>DeepSeekMoE</td>\n",
       "      <td>DS1</td>\n",
       "      <td>causal</td>\n",
       "      <td>16.38</td>\n",
       "      <td>28</td>\n",
       "      <td>64</td>\n",
       "      <td>6</td>\n",
       "      <td>flash_attention_2</td>\n",
       "    </tr>\n",
       "    <tr>\n",
       "      <th>xverse</th>\n",
       "      <td>XVERSE-MoE-A4.2B</td>\n",
       "      <td>XV</td>\n",
       "      <td>causal</td>\n",
       "      <td>25.78</td>\n",
       "      <td>28</td>\n",
       "      <td>64</td>\n",
       "      <td>6</td>\n",
       "      <td>flash_attention_2</td>\n",
       "    </tr>\n",
       "    <tr>\n",
       "      <th>qwen3</th>\n",
       "      <td>Qwen3-30B-A3B</td>\n",
       "      <td>QW3</td>\n",
       "      <td>causal</td>\n",
       "      <td>30.53</td>\n",
       "      <td>48</td>\n",
       "      <td>128</td>\n",
       "      <td>8</td>\n",
       "      <td>flash_attention_2</td>\n",
       "    </tr>\n",
       "    <tr>\n",
       "      <th>yuan</th>\n",
       "      <td>Yuan2.0-M32</td>\n",
       "      <td>Y2</td>\n",
       "      <td>causal</td>\n",
       "      <td>39.94</td>\n",
       "      <td>24</td>\n",
       "      <td>32</td>\n",
       "      <td>2</td>\n",
       "      <td>flash_attention_2</td>\n",
       "    </tr>\n",
       "    <tr>\n",
       "      <th>phi</th>\n",
       "      <td>Phi-3.5-MoE</td>\n",
       "      <td>PH</td>\n",
       "      <td>causal</td>\n",
       "      <td>41.87</td>\n",
       "      <td>32</td>\n",
       "      <td>16</td>\n",
       "      <td>2</td>\n",
       "      <td>flash_attention_2</td>\n",
       "    </tr>\n",
       "    <tr>\n",
       "      <th>grin</th>\n",
       "      <td>GRIN-MoE</td>\n",
       "      <td>GR</td>\n",
       "      <td>causal</td>\n",
       "      <td>41.87</td>\n",
       "      <td>32</td>\n",
       "      <td>16</td>\n",
       "      <td>2</td>\n",
       "      <td>flash_attention_2</td>\n",
       "    </tr>\n",
       "    <tr>\n",
       "      <th>mixtral</th>\n",
       "      <td>Mixtral-8x7B-v0.1</td>\n",
       "      <td>MX</td>\n",
       "      <td>causal</td>\n",
       "      <td>46.70</td>\n",
       "      <td>32</td>\n",
       "      <td>8</td>\n",
       "      <td>2</td>\n",
       "      <td>flash_attention_2</td>\n",
       "    </tr>\n",
       "    <tr>\n",
       "      <th>jamba</th>\n",
       "      <td>Jamba-Mini-1.6</td>\n",
       "      <td>JB</td>\n",
       "      <td>causal</td>\n",
       "      <td>51.57</td>\n",
       "      <td>32</td>\n",
       "      <td>16</td>\n",
       "      <td>2</td>\n",
       "      <td>flash_attention_2</td>\n",
       "    </tr>\n",
       "    <tr>\n",
       "      <th>nllb</th>\n",
       "      <td>NLLB-MoE-54B</td>\n",
       "      <td>NL</td>\n",
       "      <td>seq2seq</td>\n",
       "      <td>54.50</td>\n",
       "      <td>48</td>\n",
       "      <td>128</td>\n",
       "      <td>2</td>\n",
       "      <td>eager</td>\n",
       "    </tr>\n",
       "    <tr>\n",
       "      <th>qwen2</th>\n",
       "      <td>Qwen2-57B-A14B</td>\n",
       "      <td>QW2</td>\n",
       "      <td>causal</td>\n",
       "      <td>57.41</td>\n",
       "      <td>28</td>\n",
       "      <td>64</td>\n",
       "      <td>8</td>\n",
       "      <td>flash_attention_2</td>\n",
       "    </tr>\n",
       "  </tbody>\n",
       "</table>\n",
       "</div>"
      ],
      "text/plain": [
       "                            model_name model_abbr model_type  \\\n",
       "key                                                            \n",
       "powermoe                   PowerMoE-3B         PW     causal   \n",
       "llamamoe             LLaMA-MoE-v1-3.5B        LL1     causal   \n",
       "olmoe                 OLMoE-1B-7B-0125         OL     causal   \n",
       "switch     SwitchTransformers-Base-128         ST    seq2seq   \n",
       "llamamoe2            LLaMA-MoE-v2-3.8B        LL2     causal   \n",
       "jetmoe                       JetMoE-8B         JT     causal   \n",
       "openmoe                     OpenMoE-8B         OP     causal   \n",
       "minicpm               MiniCPM-MoE-8x2B         MC     causal   \n",
       "qwen                 Qwen1.5-MoE-A2.7B        QW1     causal   \n",
       "deepseek2             DeepSeek-V2-Lite        DS2     causal   \n",
       "deepseek                   DeepSeekMoE        DS1     causal   \n",
       "xverse                XVERSE-MoE-A4.2B         XV     causal   \n",
       "qwen3                    Qwen3-30B-A3B        QW3     causal   \n",
       "yuan                       Yuan2.0-M32         Y2     causal   \n",
       "phi                        Phi-3.5-MoE         PH     causal   \n",
       "grin                          GRIN-MoE         GR     causal   \n",
       "mixtral              Mixtral-8x7B-v0.1         MX     causal   \n",
       "jamba                   Jamba-Mini-1.6         JB     causal   \n",
       "nllb                      NLLB-MoE-54B         NL    seq2seq   \n",
       "qwen2                   Qwen2-57B-A14B        QW2     causal   \n",
       "\n",
       "           model_num_params  model_num_layers  model_num_experts  model_top_k  \\\n",
       "key                                                                             \n",
       "powermoe               3.30                32                 40            8   \n",
       "llamamoe               6.74                32                 16            4   \n",
       "olmoe                  6.92                16                 64            8   \n",
       "switch                 7.42                24                128            1   \n",
       "llamamoe2              8.03                32                  8            2   \n",
       "jetmoe                 8.52                24                  8            2   \n",
       "openmoe               11.86                24                 32            2   \n",
       "minicpm               13.87                40                  8            2   \n",
       "qwen                  14.32                24                 60            4   \n",
       "deepseek2             15.71                27                 64            6   \n",
       "deepseek              16.38                28                 64            6   \n",
       "xverse                25.78                28                 64            6   \n",
       "qwen3                 30.53                48                128            8   \n",
       "yuan                  39.94                24                 32            2   \n",
       "phi                   41.87                32                 16            2   \n",
       "grin                  41.87                32                 16            2   \n",
       "mixtral               46.70                32                  8            2   \n",
       "jamba                 51.57                32                 16            2   \n",
       "nllb                  54.50                48                128            2   \n",
       "qwen2                 57.41                28                 64            8   \n",
       "\n",
       "                  model_attn  \n",
       "key                           \n",
       "powermoe   flash_attention_2  \n",
       "llamamoe               eager  \n",
       "olmoe      flash_attention_2  \n",
       "switch                 eager  \n",
       "llamamoe2  flash_attention_2  \n",
       "jetmoe     flash_attention_2  \n",
       "openmoe                eager  \n",
       "minicpm    flash_attention_2  \n",
       "qwen       flash_attention_2  \n",
       "deepseek2  flash_attention_2  \n",
       "deepseek   flash_attention_2  \n",
       "xverse     flash_attention_2  \n",
       "qwen3      flash_attention_2  \n",
       "yuan       flash_attention_2  \n",
       "phi        flash_attention_2  \n",
       "grin       flash_attention_2  \n",
       "mixtral    flash_attention_2  \n",
       "jamba      flash_attention_2  \n",
       "nllb                   eager  \n",
       "qwen2      flash_attention_2  "
      ]
     },
     "execution_count": 3,
     "metadata": {},
     "output_type": "execute_result"
    }
   ],
   "source": [
    "main_model_config = (\n",
    "    model_config.query(\"main\")\n",
    "    .drop(columns=\"main\")\n",
    "    .rename(columns={k: f\"model_{k}\" for k in model_config.columns})\n",
    ")\n",
    "\n",
    "new_name = {\n",
    "    \"powermoe\": \"PowerMoE\",\n",
    "    \"llamamoe\": \"LLaMA-MoE-v1\",\n",
    "    \"olmoe\": \"OLMoE\",\n",
    "    \"switch\": \"SwitchTransformers\",\n",
    "    \"llamamoe2\": \"LLaMA-MoE-v2\",\n",
    "    \"jetmoe\": \"JetMoE\",\n",
    "    \"openmoe\": \"OpenMoE\",\n",
    "    \"minicpm\": \"MiniCPM-MoE\",\n",
    "    \"qwen\": \"Qwen1.5-MoE\",\n",
    "    \"deepseek2\": \"DeepSeek-V2-Lite\",\n",
    "    \"deepseek\": \"DeepSeekMoE\",\n",
    "    \"xverse\": \"XVERSE-MoE\",\n",
    "    \"qwen3\": \"Qwen3\",\n",
    "    \"yuan\": \"Yuan2.0\",\n",
    "    \"phi\": \"Phi-3.5-MoE\",\n",
    "    \"grin\": \"GRIN-MoE\",\n",
    "    \"mixtral\": \"Mixtral-8x7B\",\n",
    "    \"jamba\": \"Jamba-Mini\",\n",
    "    \"nllb\": \"NLLB-MoE\",\n",
    "    \"qwen2\": \"Qwen2\",\n",
    "}\n",
    "\n",
    "model_colors = {\n",
    "    key: px.colors.qualitative.Dark24[i] for i, key in enumerate(main_model_config.index.values)\n",
    "}\n",
    "\n",
    "seg_lens = (4, 16, 64, 256)\n",
    "seg_len_colors = {key: px.colors.qualitative.Plotly[i] for i, key in enumerate(seg_lens)}\n",
    "main_model_config"
   ]
  },
  {
   "cell_type": "code",
   "execution_count": 4,
   "id": "a1cd2c90",
   "metadata": {},
   "outputs": [
    {
     "data": {
      "text/html": [
       "<div>\n",
       "<style scoped>\n",
       "    .dataframe tbody tr th:only-of-type {\n",
       "        vertical-align: middle;\n",
       "    }\n",
       "\n",
       "    .dataframe tbody tr th {\n",
       "        vertical-align: top;\n",
       "    }\n",
       "\n",
       "    .dataframe thead th {\n",
       "        text-align: right;\n",
       "    }\n",
       "</style>\n",
       "<table border=\"1\" class=\"dataframe\">\n",
       "  <thead>\n",
       "    <tr style=\"text-align: right;\">\n",
       "      <th></th>\n",
       "      <th>data_name</th>\n",
       "      <th>data_abbr</th>\n",
       "    </tr>\n",
       "    <tr>\n",
       "      <th>key</th>\n",
       "      <th></th>\n",
       "      <th></th>\n",
       "    </tr>\n",
       "  </thead>\n",
       "  <tbody>\n",
       "    <tr>\n",
       "      <th>c4</th>\n",
       "      <td>C4</td>\n",
       "      <td>C4</td>\n",
       "    </tr>\n",
       "    <tr>\n",
       "      <th>cc2306</th>\n",
       "      <td>CommonCrawl</td>\n",
       "      <td>CC</td>\n",
       "    </tr>\n",
       "    <tr>\n",
       "      <th>book</th>\n",
       "      <td>Books</td>\n",
       "      <td>BK</td>\n",
       "    </tr>\n",
       "    <tr>\n",
       "      <th>wikipedia</th>\n",
       "      <td>Wikipedia</td>\n",
       "      <td>WK</td>\n",
       "    </tr>\n",
       "    <tr>\n",
       "      <th>arxiv</th>\n",
       "      <td>ArXiv</td>\n",
       "      <td>AX</td>\n",
       "    </tr>\n",
       "    <tr>\n",
       "      <th>stackexchange</th>\n",
       "      <td>StackExchange</td>\n",
       "      <td>SE</td>\n",
       "    </tr>\n",
       "    <tr>\n",
       "      <th>github</th>\n",
       "      <td>GitHub</td>\n",
       "      <td>GH</td>\n",
       "    </tr>\n",
       "    <tr>\n",
       "      <th>lmarena</th>\n",
       "      <td>LMArena</td>\n",
       "      <td>LM</td>\n",
       "    </tr>\n",
       "    <tr>\n",
       "      <th>math</th>\n",
       "      <td>OpenMath</td>\n",
       "      <td>OM</td>\n",
       "    </tr>\n",
       "    <tr>\n",
       "      <th>code</th>\n",
       "      <td>OpenCode</td>\n",
       "      <td>OC</td>\n",
       "    </tr>\n",
       "    <tr>\n",
       "      <th>science</th>\n",
       "      <td>OpenScience</td>\n",
       "      <td>OS</td>\n",
       "    </tr>\n",
       "  </tbody>\n",
       "</table>\n",
       "</div>"
      ],
      "text/plain": [
       "                   data_name data_abbr\n",
       "key                                   \n",
       "c4                        C4        C4\n",
       "cc2306           CommonCrawl        CC\n",
       "book                   Books        BK\n",
       "wikipedia          Wikipedia        WK\n",
       "arxiv                  ArXiv        AX\n",
       "stackexchange  StackExchange        SE\n",
       "github                GitHub        GH\n",
       "lmarena              LMArena        LM\n",
       "math                OpenMath        OM\n",
       "code                OpenCode        OC\n",
       "science          OpenScience        OS"
      ]
     },
     "execution_count": 4,
     "metadata": {},
     "output_type": "execute_result"
    }
   ],
   "source": [
    "main_data_config = data_config.rename(columns={k: f\"data_{k}\" for k in data_config.columns})\n",
    "main_data_config"
   ]
  },
  {
   "cell_type": "code",
   "execution_count": 5,
   "id": "2e5d1cc1",
   "metadata": {},
   "outputs": [],
   "source": [
    "def make_abbr(df):\n",
    "    return (\n",
    "        f\"{df['model_abbr']}{'d' if df['is_decoder'] else 'e'}\"\n",
    "        if df[\"model_type\"] == \"seq2seq\"\n",
    "        else df[\"model_abbr\"]\n",
    "    )"
   ]
  },
  {
   "cell_type": "code",
   "execution_count": null,
   "id": "dc6146cd",
   "metadata": {},
   "outputs": [
    {
     "data": {
      "text/html": [
       "<div>\n",
       "<style scoped>\n",
       "    .dataframe tbody tr th:only-of-type {\n",
       "        vertical-align: middle;\n",
       "    }\n",
       "\n",
       "    .dataframe tbody tr th {\n",
       "        vertical-align: top;\n",
       "    }\n",
       "\n",
       "    .dataframe thead th {\n",
       "        text-align: right;\n",
       "    }\n",
       "</style>\n",
       "<table border=\"1\" class=\"dataframe\">\n",
       "  <thead>\n",
       "    <tr style=\"text-align: right;\">\n",
       "      <th></th>\n",
       "      <th>dataset</th>\n",
       "      <th>c4</th>\n",
       "      <th>cc2306</th>\n",
       "      <th>book</th>\n",
       "      <th>wikipedia</th>\n",
       "      <th>arxiv</th>\n",
       "      <th>stackexchange</th>\n",
       "      <th>github</th>\n",
       "      <th>lmarena</th>\n",
       "      <th>math</th>\n",
       "      <th>code</th>\n",
       "      <th>science</th>\n",
       "    </tr>\n",
       "    <tr>\n",
       "      <th>model</th>\n",
       "      <th>is_decoder</th>\n",
       "      <th></th>\n",
       "      <th></th>\n",
       "      <th></th>\n",
       "      <th></th>\n",
       "      <th></th>\n",
       "      <th></th>\n",
       "      <th></th>\n",
       "      <th></th>\n",
       "      <th></th>\n",
       "      <th></th>\n",
       "      <th></th>\n",
       "    </tr>\n",
       "  </thead>\n",
       "  <tbody>\n",
       "    <tr>\n",
       "      <th>powermoe</th>\n",
       "      <th>True</th>\n",
       "      <td>0.528772</td>\n",
       "      <td>0.527592</td>\n",
       "      <td>0.530765</td>\n",
       "      <td>0.546199</td>\n",
       "      <td>0.566806</td>\n",
       "      <td>0.563160</td>\n",
       "      <td>0.563980</td>\n",
       "      <td>0.551285</td>\n",
       "      <td>0.571675</td>\n",
       "      <td>0.562916</td>\n",
       "      <td>0.554246</td>\n",
       "    </tr>\n",
       "    <tr>\n",
       "      <th>llamamoe</th>\n",
       "      <th>True</th>\n",
       "      <td>0.450365</td>\n",
       "      <td>0.450565</td>\n",
       "      <td>0.448192</td>\n",
       "      <td>0.454389</td>\n",
       "      <td>0.454172</td>\n",
       "      <td>0.455140</td>\n",
       "      <td>0.456557</td>\n",
       "      <td>0.456482</td>\n",
       "      <td>0.451833</td>\n",
       "      <td>0.452922</td>\n",
       "      <td>0.451186</td>\n",
       "    </tr>\n",
       "    <tr>\n",
       "      <th>olmoe</th>\n",
       "      <th>True</th>\n",
       "      <td>0.455232</td>\n",
       "      <td>0.454706</td>\n",
       "      <td>0.455410</td>\n",
       "      <td>0.526970</td>\n",
       "      <td>0.535874</td>\n",
       "      <td>0.550433</td>\n",
       "      <td>0.565604</td>\n",
       "      <td>0.523845</td>\n",
       "      <td>0.529720</td>\n",
       "      <td>0.547402</td>\n",
       "      <td>0.488658</td>\n",
       "    </tr>\n",
       "    <tr>\n",
       "      <th rowspan=\"2\" valign=\"top\">switch</th>\n",
       "      <th>False</th>\n",
       "      <td>0.168423</td>\n",
       "      <td>0.169951</td>\n",
       "      <td>0.166393</td>\n",
       "      <td>0.200539</td>\n",
       "      <td>0.202298</td>\n",
       "      <td>0.198313</td>\n",
       "      <td>0.209620</td>\n",
       "      <td>0.201653</td>\n",
       "      <td>0.212789</td>\n",
       "      <td>0.199277</td>\n",
       "      <td>0.179113</td>\n",
       "    </tr>\n",
       "    <tr>\n",
       "      <th>True</th>\n",
       "      <td>0.163001</td>\n",
       "      <td>0.162464</td>\n",
       "      <td>0.164019</td>\n",
       "      <td>0.207586</td>\n",
       "      <td>0.199107</td>\n",
       "      <td>0.196396</td>\n",
       "      <td>0.210864</td>\n",
       "      <td>0.203753</td>\n",
       "      <td>0.207760</td>\n",
       "      <td>0.195783</td>\n",
       "      <td>0.185368</td>\n",
       "    </tr>\n",
       "    <tr>\n",
       "      <th>llamamoe2</th>\n",
       "      <th>True</th>\n",
       "      <td>0.809891</td>\n",
       "      <td>0.807653</td>\n",
       "      <td>0.811540</td>\n",
       "      <td>0.817960</td>\n",
       "      <td>0.793941</td>\n",
       "      <td>0.767787</td>\n",
       "      <td>0.763904</td>\n",
       "      <td>0.776578</td>\n",
       "      <td>0.748637</td>\n",
       "      <td>0.719554</td>\n",
       "      <td>0.783998</td>\n",
       "    </tr>\n",
       "    <tr>\n",
       "      <th>jetmoe</th>\n",
       "      <th>True</th>\n",
       "      <td>0.475049</td>\n",
       "      <td>0.474884</td>\n",
       "      <td>0.470432</td>\n",
       "      <td>0.480482</td>\n",
       "      <td>0.475177</td>\n",
       "      <td>0.475215</td>\n",
       "      <td>0.470728</td>\n",
       "      <td>0.477087</td>\n",
       "      <td>0.473551</td>\n",
       "      <td>0.473441</td>\n",
       "      <td>0.474037</td>\n",
       "    </tr>\n",
       "    <tr>\n",
       "      <th>openmoe</th>\n",
       "      <th>True</th>\n",
       "      <td>0.269967</td>\n",
       "      <td>0.275923</td>\n",
       "      <td>0.287056</td>\n",
       "      <td>0.280349</td>\n",
       "      <td>0.297329</td>\n",
       "      <td>0.288142</td>\n",
       "      <td>0.297447</td>\n",
       "      <td>0.289828</td>\n",
       "      <td>0.291917</td>\n",
       "      <td>0.284828</td>\n",
       "      <td>0.300237</td>\n",
       "    </tr>\n",
       "    <tr>\n",
       "      <th>minicpm</th>\n",
       "      <th>True</th>\n",
       "      <td>0.491174</td>\n",
       "      <td>0.490462</td>\n",
       "      <td>0.486214</td>\n",
       "      <td>0.497590</td>\n",
       "      <td>0.489688</td>\n",
       "      <td>0.486447</td>\n",
       "      <td>0.483491</td>\n",
       "      <td>0.494263</td>\n",
       "      <td>0.486060</td>\n",
       "      <td>0.482844</td>\n",
       "      <td>0.486034</td>\n",
       "    </tr>\n",
       "    <tr>\n",
       "      <th>qwen</th>\n",
       "      <th>True</th>\n",
       "      <td>0.308066</td>\n",
       "      <td>0.308014</td>\n",
       "      <td>0.301221</td>\n",
       "      <td>0.325069</td>\n",
       "      <td>0.305697</td>\n",
       "      <td>0.309131</td>\n",
       "      <td>0.303476</td>\n",
       "      <td>0.318335</td>\n",
       "      <td>0.291613</td>\n",
       "      <td>0.302159</td>\n",
       "      <td>0.303838</td>\n",
       "    </tr>\n",
       "    <tr>\n",
       "      <th>deepseek2</th>\n",
       "      <th>True</th>\n",
       "      <td>0.381817</td>\n",
       "      <td>0.379821</td>\n",
       "      <td>0.370162</td>\n",
       "      <td>0.382164</td>\n",
       "      <td>0.387526</td>\n",
       "      <td>0.377972</td>\n",
       "      <td>0.370019</td>\n",
       "      <td>0.384008</td>\n",
       "      <td>0.382382</td>\n",
       "      <td>0.374575</td>\n",
       "      <td>0.384436</td>\n",
       "    </tr>\n",
       "    <tr>\n",
       "      <th>deepseek</th>\n",
       "      <th>True</th>\n",
       "      <td>0.371197</td>\n",
       "      <td>0.370892</td>\n",
       "      <td>0.358760</td>\n",
       "      <td>0.370769</td>\n",
       "      <td>0.370943</td>\n",
       "      <td>0.369748</td>\n",
       "      <td>0.362639</td>\n",
       "      <td>0.374351</td>\n",
       "      <td>0.373639</td>\n",
       "      <td>0.366440</td>\n",
       "      <td>0.373458</td>\n",
       "    </tr>\n",
       "    <tr>\n",
       "      <th>xverse</th>\n",
       "      <th>True</th>\n",
       "      <td>0.384331</td>\n",
       "      <td>0.377736</td>\n",
       "      <td>0.370037</td>\n",
       "      <td>0.381811</td>\n",
       "      <td>0.378047</td>\n",
       "      <td>0.392678</td>\n",
       "      <td>0.379447</td>\n",
       "      <td>0.397639</td>\n",
       "      <td>0.406488</td>\n",
       "      <td>0.384778</td>\n",
       "      <td>0.392354</td>\n",
       "    </tr>\n",
       "    <tr>\n",
       "      <th>qwen3</th>\n",
       "      <th>True</th>\n",
       "      <td>0.542329</td>\n",
       "      <td>0.553316</td>\n",
       "      <td>0.584927</td>\n",
       "      <td>0.585007</td>\n",
       "      <td>0.561391</td>\n",
       "      <td>0.532862</td>\n",
       "      <td>0.552902</td>\n",
       "      <td>0.532742</td>\n",
       "      <td>0.502111</td>\n",
       "      <td>0.479942</td>\n",
       "      <td>0.526369</td>\n",
       "    </tr>\n",
       "    <tr>\n",
       "      <th>yuan</th>\n",
       "      <th>True</th>\n",
       "      <td>0.653304</td>\n",
       "      <td>0.649474</td>\n",
       "      <td>0.636344</td>\n",
       "      <td>0.680396</td>\n",
       "      <td>0.632825</td>\n",
       "      <td>0.614251</td>\n",
       "      <td>0.598322</td>\n",
       "      <td>0.653868</td>\n",
       "      <td>0.621010</td>\n",
       "      <td>0.603999</td>\n",
       "      <td>0.643604</td>\n",
       "    </tr>\n",
       "    <tr>\n",
       "      <th>phi</th>\n",
       "      <th>True</th>\n",
       "      <td>0.468310</td>\n",
       "      <td>0.470277</td>\n",
       "      <td>0.474483</td>\n",
       "      <td>0.518176</td>\n",
       "      <td>0.542557</td>\n",
       "      <td>0.562901</td>\n",
       "      <td>0.592005</td>\n",
       "      <td>0.514949</td>\n",
       "      <td>0.557173</td>\n",
       "      <td>0.542555</td>\n",
       "      <td>0.492962</td>\n",
       "    </tr>\n",
       "    <tr>\n",
       "      <th>grin</th>\n",
       "      <th>True</th>\n",
       "      <td>0.461833</td>\n",
       "      <td>0.465260</td>\n",
       "      <td>0.467894</td>\n",
       "      <td>0.521847</td>\n",
       "      <td>0.523523</td>\n",
       "      <td>0.546484</td>\n",
       "      <td>0.573885</td>\n",
       "      <td>0.507493</td>\n",
       "      <td>0.517386</td>\n",
       "      <td>0.509530</td>\n",
       "      <td>0.474846</td>\n",
       "    </tr>\n",
       "    <tr>\n",
       "      <th>mixtral</th>\n",
       "      <th>True</th>\n",
       "      <td>0.489905</td>\n",
       "      <td>0.490541</td>\n",
       "      <td>0.483831</td>\n",
       "      <td>0.494474</td>\n",
       "      <td>0.498267</td>\n",
       "      <td>0.497043</td>\n",
       "      <td>0.495310</td>\n",
       "      <td>0.497289</td>\n",
       "      <td>0.495414</td>\n",
       "      <td>0.494691</td>\n",
       "      <td>0.493056</td>\n",
       "    </tr>\n",
       "    <tr>\n",
       "      <th>jamba</th>\n",
       "      <th>True</th>\n",
       "      <td>0.371475</td>\n",
       "      <td>0.374259</td>\n",
       "      <td>0.370831</td>\n",
       "      <td>0.387589</td>\n",
       "      <td>0.385996</td>\n",
       "      <td>0.385788</td>\n",
       "      <td>0.381558</td>\n",
       "      <td>0.382765</td>\n",
       "      <td>0.387225</td>\n",
       "      <td>0.381447</td>\n",
       "      <td>0.383050</td>\n",
       "    </tr>\n",
       "    <tr>\n",
       "      <th rowspan=\"2\" valign=\"top\">nllb</th>\n",
       "      <th>False</th>\n",
       "      <td>0.235108</td>\n",
       "      <td>0.236458</td>\n",
       "      <td>0.235773</td>\n",
       "      <td>0.247138</td>\n",
       "      <td>0.271155</td>\n",
       "      <td>0.257176</td>\n",
       "      <td>0.282331</td>\n",
       "      <td>0.253425</td>\n",
       "      <td>0.283785</td>\n",
       "      <td>0.267692</td>\n",
       "      <td>0.244788</td>\n",
       "    </tr>\n",
       "    <tr>\n",
       "      <th>True</th>\n",
       "      <td>0.286624</td>\n",
       "      <td>0.287399</td>\n",
       "      <td>0.280328</td>\n",
       "      <td>0.340935</td>\n",
       "      <td>0.319238</td>\n",
       "      <td>0.313202</td>\n",
       "      <td>0.328805</td>\n",
       "      <td>0.332768</td>\n",
       "      <td>0.326112</td>\n",
       "      <td>0.315045</td>\n",
       "      <td>0.307162</td>\n",
       "    </tr>\n",
       "    <tr>\n",
       "      <th>qwen2</th>\n",
       "      <th>True</th>\n",
       "      <td>0.367747</td>\n",
       "      <td>0.368375</td>\n",
       "      <td>0.367396</td>\n",
       "      <td>0.373407</td>\n",
       "      <td>0.371282</td>\n",
       "      <td>0.366613</td>\n",
       "      <td>0.365654</td>\n",
       "      <td>0.369563</td>\n",
       "      <td>0.363913</td>\n",
       "      <td>0.364182</td>\n",
       "      <td>0.363668</td>\n",
       "    </tr>\n",
       "  </tbody>\n",
       "</table>\n",
       "</div>"
      ],
      "text/plain": [
       "dataset                     c4    cc2306      book  wikipedia     arxiv  \\\n",
       "model     is_decoder                                                      \n",
       "powermoe  True        0.528772  0.527592  0.530765   0.546199  0.566806   \n",
       "llamamoe  True        0.450365  0.450565  0.448192   0.454389  0.454172   \n",
       "olmoe     True        0.455232  0.454706  0.455410   0.526970  0.535874   \n",
       "switch    False       0.168423  0.169951  0.166393   0.200539  0.202298   \n",
       "          True        0.163001  0.162464  0.164019   0.207586  0.199107   \n",
       "llamamoe2 True        0.809891  0.807653  0.811540   0.817960  0.793941   \n",
       "jetmoe    True        0.475049  0.474884  0.470432   0.480482  0.475177   \n",
       "openmoe   True        0.269967  0.275923  0.287056   0.280349  0.297329   \n",
       "minicpm   True        0.491174  0.490462  0.486214   0.497590  0.489688   \n",
       "qwen      True        0.308066  0.308014  0.301221   0.325069  0.305697   \n",
       "deepseek2 True        0.381817  0.379821  0.370162   0.382164  0.387526   \n",
       "deepseek  True        0.371197  0.370892  0.358760   0.370769  0.370943   \n",
       "xverse    True        0.384331  0.377736  0.370037   0.381811  0.378047   \n",
       "qwen3     True        0.542329  0.553316  0.584927   0.585007  0.561391   \n",
       "yuan      True        0.653304  0.649474  0.636344   0.680396  0.632825   \n",
       "phi       True        0.468310  0.470277  0.474483   0.518176  0.542557   \n",
       "grin      True        0.461833  0.465260  0.467894   0.521847  0.523523   \n",
       "mixtral   True        0.489905  0.490541  0.483831   0.494474  0.498267   \n",
       "jamba     True        0.371475  0.374259  0.370831   0.387589  0.385996   \n",
       "nllb      False       0.235108  0.236458  0.235773   0.247138  0.271155   \n",
       "          True        0.286624  0.287399  0.280328   0.340935  0.319238   \n",
       "qwen2     True        0.367747  0.368375  0.367396   0.373407  0.371282   \n",
       "\n",
       "dataset               stackexchange    github   lmarena      math      code  \\\n",
       "model     is_decoder                                                          \n",
       "powermoe  True             0.563160  0.563980  0.551285  0.571675  0.562916   \n",
       "llamamoe  True             0.455140  0.456557  0.456482  0.451833  0.452922   \n",
       "olmoe     True             0.550433  0.565604  0.523845  0.529720  0.547402   \n",
       "switch    False            0.198313  0.209620  0.201653  0.212789  0.199277   \n",
       "          True             0.196396  0.210864  0.203753  0.207760  0.195783   \n",
       "llamamoe2 True             0.767787  0.763904  0.776578  0.748637  0.719554   \n",
       "jetmoe    True             0.475215  0.470728  0.477087  0.473551  0.473441   \n",
       "openmoe   True             0.288142  0.297447  0.289828  0.291917  0.284828   \n",
       "minicpm   True             0.486447  0.483491  0.494263  0.486060  0.482844   \n",
       "qwen      True             0.309131  0.303476  0.318335  0.291613  0.302159   \n",
       "deepseek2 True             0.377972  0.370019  0.384008  0.382382  0.374575   \n",
       "deepseek  True             0.369748  0.362639  0.374351  0.373639  0.366440   \n",
       "xverse    True             0.392678  0.379447  0.397639  0.406488  0.384778   \n",
       "qwen3     True             0.532862  0.552902  0.532742  0.502111  0.479942   \n",
       "yuan      True             0.614251  0.598322  0.653868  0.621010  0.603999   \n",
       "phi       True             0.562901  0.592005  0.514949  0.557173  0.542555   \n",
       "grin      True             0.546484  0.573885  0.507493  0.517386  0.509530   \n",
       "mixtral   True             0.497043  0.495310  0.497289  0.495414  0.494691   \n",
       "jamba     True             0.385788  0.381558  0.382765  0.387225  0.381447   \n",
       "nllb      False            0.257176  0.282331  0.253425  0.283785  0.267692   \n",
       "          True             0.313202  0.328805  0.332768  0.326112  0.315045   \n",
       "qwen2     True             0.366613  0.365654  0.369563  0.363913  0.364182   \n",
       "\n",
       "dataset                science  \n",
       "model     is_decoder            \n",
       "powermoe  True        0.554246  \n",
       "llamamoe  True        0.451186  \n",
       "olmoe     True        0.488658  \n",
       "switch    False       0.179113  \n",
       "          True        0.185368  \n",
       "llamamoe2 True        0.783998  \n",
       "jetmoe    True        0.474037  \n",
       "openmoe   True        0.300237  \n",
       "minicpm   True        0.486034  \n",
       "qwen      True        0.303838  \n",
       "deepseek2 True        0.384436  \n",
       "deepseek  True        0.373458  \n",
       "xverse    True        0.392354  \n",
       "qwen3     True        0.526369  \n",
       "yuan      True        0.643604  \n",
       "phi       True        0.492962  \n",
       "grin      True        0.474846  \n",
       "mixtral   True        0.493056  \n",
       "jamba     True        0.383050  \n",
       "nllb      False       0.244788  \n",
       "          True        0.307162  \n",
       "qwen2     True        0.363668  "
      ]
     },
     "execution_count": 6,
     "metadata": {},
     "output_type": "execute_result"
    }
   ],
   "source": [
    "root_dir = Path(\"../output/srp_mpq\")\n",
    "\n",
    "dfs = {\n",
    "    p.stem: pd.merge(pd.read_parquet(p), main_model_config, left_on=\"model\", right_index=True)\n",
    "    for p in root_dir.glob(\"*.parquet\")\n",
    "}\n",
    "\n",
    "for key in dfs.keys():\n",
    "    if \"dataset\" in dfs[key].columns:\n",
    "        dfs[key] = pd.merge(dfs[key], main_data_config, left_on=\"dataset\", right_index=True)\n",
    "\n",
    "for df in dfs.values():\n",
    "    df[\"model\"] = df[\"model\"].astype(model_config.index.dtype)\n",
    "    if \"dataset\" in df.columns:\n",
    "        df[\"dataset\"] = df[\"dataset\"].astype(data_config.index.dtype)\n",
    "\n",
    "sorted_model_keys = (\n",
    "    dfs[\"mg\"].query(\"is_decoder and seg_len == 16\").sort_values(\"best_f1\", ascending=False)[\"model\"]\n",
    ")\n",
    "\n",
    "dfs[\"md\"].query(\"seg_len == 16\").pivot(\n",
    "    index=[\"model\", \"is_decoder\"], columns=\"dataset\", values=\"best_f1\"\n",
    ")"
   ]
  },
  {
   "cell_type": "code",
   "execution_count": null,
   "id": "d020d225",
   "metadata": {},
   "outputs": [
    {
     "data": {
      "text/html": [
       "<div>\n",
       "<style scoped>\n",
       "    .dataframe tbody tr th:only-of-type {\n",
       "        vertical-align: middle;\n",
       "    }\n",
       "\n",
       "    .dataframe tbody tr th {\n",
       "        vertical-align: top;\n",
       "    }\n",
       "\n",
       "    .dataframe thead th {\n",
       "        text-align: right;\n",
       "    }\n",
       "</style>\n",
       "<table border=\"1\" class=\"dataframe\">\n",
       "  <thead>\n",
       "    <tr style=\"text-align: right;\">\n",
       "      <th></th>\n",
       "      <th>dataset</th>\n",
       "      <th>c4</th>\n",
       "      <th>cc2306</th>\n",
       "      <th>book</th>\n",
       "      <th>wikipedia</th>\n",
       "      <th>arxiv</th>\n",
       "      <th>stackexchange</th>\n",
       "      <th>github</th>\n",
       "      <th>lmarena</th>\n",
       "      <th>math</th>\n",
       "      <th>code</th>\n",
       "      <th>science</th>\n",
       "    </tr>\n",
       "    <tr>\n",
       "      <th>model</th>\n",
       "      <th>is_decoder</th>\n",
       "      <th></th>\n",
       "      <th></th>\n",
       "      <th></th>\n",
       "      <th></th>\n",
       "      <th></th>\n",
       "      <th></th>\n",
       "      <th></th>\n",
       "      <th></th>\n",
       "      <th></th>\n",
       "      <th></th>\n",
       "      <th></th>\n",
       "    </tr>\n",
       "  </thead>\n",
       "  <tbody>\n",
       "    <tr>\n",
       "      <th>powermoe</th>\n",
       "      <th>True</th>\n",
       "      <td>-0.041592</td>\n",
       "      <td>-0.043732</td>\n",
       "      <td>-0.037980</td>\n",
       "      <td>-0.010006</td>\n",
       "      <td>0.027344</td>\n",
       "      <td>0.020737</td>\n",
       "      <td>0.022222</td>\n",
       "      <td>-0.000788</td>\n",
       "      <td>0.036169</td>\n",
       "      <td>0.020293</td>\n",
       "      <td>0.004579</td>\n",
       "    </tr>\n",
       "    <tr>\n",
       "      <th>llamamoe</th>\n",
       "      <th>True</th>\n",
       "      <td>-0.005554</td>\n",
       "      <td>-0.005112</td>\n",
       "      <td>-0.010352</td>\n",
       "      <td>0.003333</td>\n",
       "      <td>0.002852</td>\n",
       "      <td>0.004990</td>\n",
       "      <td>0.008118</td>\n",
       "      <td>0.007955</td>\n",
       "      <td>-0.002313</td>\n",
       "      <td>0.000093</td>\n",
       "      <td>-0.003741</td>\n",
       "    </tr>\n",
       "    <tr>\n",
       "      <th>olmoe</th>\n",
       "      <th>True</th>\n",
       "      <td>-0.105762</td>\n",
       "      <td>-0.106794</td>\n",
       "      <td>-0.105412</td>\n",
       "      <td>0.035159</td>\n",
       "      <td>0.052648</td>\n",
       "      <td>0.081247</td>\n",
       "      <td>0.111048</td>\n",
       "      <td>0.029019</td>\n",
       "      <td>0.040560</td>\n",
       "      <td>0.075293</td>\n",
       "      <td>-0.040101</td>\n",
       "    </tr>\n",
       "    <tr>\n",
       "      <th rowspan=\"2\" valign=\"top\">switch</th>\n",
       "      <th>False</th>\n",
       "      <td>-0.128535</td>\n",
       "      <td>-0.120633</td>\n",
       "      <td>-0.139042</td>\n",
       "      <td>0.037640</td>\n",
       "      <td>0.046741</td>\n",
       "      <td>0.026119</td>\n",
       "      <td>0.084627</td>\n",
       "      <td>0.043404</td>\n",
       "      <td>0.101023</td>\n",
       "      <td>0.031107</td>\n",
       "      <td>-0.073224</td>\n",
       "    </tr>\n",
       "    <tr>\n",
       "      <th>True</th>\n",
       "      <td>-0.154185</td>\n",
       "      <td>-0.156974</td>\n",
       "      <td>-0.148906</td>\n",
       "      <td>0.077168</td>\n",
       "      <td>0.033168</td>\n",
       "      <td>0.019100</td>\n",
       "      <td>0.094177</td>\n",
       "      <td>0.057274</td>\n",
       "      <td>0.078067</td>\n",
       "      <td>0.015921</td>\n",
       "      <td>-0.038125</td>\n",
       "    </tr>\n",
       "    <tr>\n",
       "      <th>llamamoe2</th>\n",
       "      <th>True</th>\n",
       "      <td>0.036215</td>\n",
       "      <td>0.033352</td>\n",
       "      <td>0.038325</td>\n",
       "      <td>0.046539</td>\n",
       "      <td>0.015807</td>\n",
       "      <td>-0.017655</td>\n",
       "      <td>-0.022623</td>\n",
       "      <td>-0.006408</td>\n",
       "      <td>-0.042156</td>\n",
       "      <td>-0.079367</td>\n",
       "      <td>0.003086</td>\n",
       "    </tr>\n",
       "    <tr>\n",
       "      <th>jetmoe</th>\n",
       "      <th>True</th>\n",
       "      <td>0.001072</td>\n",
       "      <td>0.000725</td>\n",
       "      <td>-0.008656</td>\n",
       "      <td>0.012522</td>\n",
       "      <td>0.001344</td>\n",
       "      <td>0.001422</td>\n",
       "      <td>-0.008034</td>\n",
       "      <td>0.005367</td>\n",
       "      <td>-0.002085</td>\n",
       "      <td>-0.002316</td>\n",
       "      <td>-0.001060</td>\n",
       "    </tr>\n",
       "    <tr>\n",
       "      <th>openmoe</th>\n",
       "      <th>True</th>\n",
       "      <td>-0.061715</td>\n",
       "      <td>-0.041017</td>\n",
       "      <td>-0.002322</td>\n",
       "      <td>-0.025634</td>\n",
       "      <td>0.033379</td>\n",
       "      <td>0.001449</td>\n",
       "      <td>0.033791</td>\n",
       "      <td>0.007311</td>\n",
       "      <td>0.014573</td>\n",
       "      <td>-0.010069</td>\n",
       "      <td>0.043488</td>\n",
       "    </tr>\n",
       "    <tr>\n",
       "      <th>minicpm</th>\n",
       "      <th>True</th>\n",
       "      <td>0.005396</td>\n",
       "      <td>0.003939</td>\n",
       "      <td>-0.004757</td>\n",
       "      <td>0.018529</td>\n",
       "      <td>0.002355</td>\n",
       "      <td>-0.004278</td>\n",
       "      <td>-0.010330</td>\n",
       "      <td>0.011720</td>\n",
       "      <td>-0.005071</td>\n",
       "      <td>-0.011655</td>\n",
       "      <td>-0.005124</td>\n",
       "    </tr>\n",
       "    <tr>\n",
       "      <th>qwen</th>\n",
       "      <th>True</th>\n",
       "      <td>0.003274</td>\n",
       "      <td>0.003107</td>\n",
       "      <td>-0.019016</td>\n",
       "      <td>0.058650</td>\n",
       "      <td>-0.004441</td>\n",
       "      <td>0.006743</td>\n",
       "      <td>-0.011672</td>\n",
       "      <td>0.036717</td>\n",
       "      <td>-0.050308</td>\n",
       "      <td>-0.015963</td>\n",
       "      <td>-0.010495</td>\n",
       "    </tr>\n",
       "    <tr>\n",
       "      <th>deepseek2</th>\n",
       "      <th>True</th>\n",
       "      <td>0.007010</td>\n",
       "      <td>0.001745</td>\n",
       "      <td>-0.023729</td>\n",
       "      <td>0.007924</td>\n",
       "      <td>0.022066</td>\n",
       "      <td>-0.003132</td>\n",
       "      <td>-0.024106</td>\n",
       "      <td>0.012788</td>\n",
       "      <td>0.008500</td>\n",
       "      <td>-0.012091</td>\n",
       "      <td>0.013917</td>\n",
       "    </tr>\n",
       "    <tr>\n",
       "      <th>deepseek</th>\n",
       "      <th>True</th>\n",
       "      <td>0.004966</td>\n",
       "      <td>0.004140</td>\n",
       "      <td>-0.028707</td>\n",
       "      <td>0.003805</td>\n",
       "      <td>0.004276</td>\n",
       "      <td>0.001042</td>\n",
       "      <td>-0.018206</td>\n",
       "      <td>0.013504</td>\n",
       "      <td>0.011576</td>\n",
       "      <td>-0.007914</td>\n",
       "      <td>0.011085</td>\n",
       "    </tr>\n",
       "    <tr>\n",
       "      <th>xverse</th>\n",
       "      <th>True</th>\n",
       "      <td>-0.003852</td>\n",
       "      <td>-0.020945</td>\n",
       "      <td>-0.040900</td>\n",
       "      <td>-0.010383</td>\n",
       "      <td>-0.020138</td>\n",
       "      <td>0.017783</td>\n",
       "      <td>-0.016510</td>\n",
       "      <td>0.030643</td>\n",
       "      <td>0.053577</td>\n",
       "      <td>-0.002692</td>\n",
       "      <td>0.016944</td>\n",
       "    </tr>\n",
       "    <tr>\n",
       "      <th>qwen3</th>\n",
       "      <th>True</th>\n",
       "      <td>0.001660</td>\n",
       "      <td>0.021954</td>\n",
       "      <td>0.080338</td>\n",
       "      <td>0.080486</td>\n",
       "      <td>0.036868</td>\n",
       "      <td>-0.015825</td>\n",
       "      <td>0.021188</td>\n",
       "      <td>-0.016046</td>\n",
       "      <td>-0.072621</td>\n",
       "      <td>-0.113566</td>\n",
       "      <td>-0.027817</td>\n",
       "    </tr>\n",
       "    <tr>\n",
       "      <th>yuan</th>\n",
       "      <th>True</th>\n",
       "      <td>0.029119</td>\n",
       "      <td>0.023086</td>\n",
       "      <td>0.002402</td>\n",
       "      <td>0.071796</td>\n",
       "      <td>-0.003142</td>\n",
       "      <td>-0.032400</td>\n",
       "      <td>-0.057492</td>\n",
       "      <td>0.030007</td>\n",
       "      <td>-0.021753</td>\n",
       "      <td>-0.048549</td>\n",
       "      <td>0.013839</td>\n",
       "    </tr>\n",
       "    <tr>\n",
       "      <th>phi</th>\n",
       "      <th>True</th>\n",
       "      <td>-0.099006</td>\n",
       "      <td>-0.095222</td>\n",
       "      <td>-0.087131</td>\n",
       "      <td>-0.003068</td>\n",
       "      <td>0.043839</td>\n",
       "      <td>0.082978</td>\n",
       "      <td>0.138973</td>\n",
       "      <td>-0.009278</td>\n",
       "      <td>0.071959</td>\n",
       "      <td>0.043834</td>\n",
       "      <td>-0.051579</td>\n",
       "    </tr>\n",
       "    <tr>\n",
       "      <th>grin</th>\n",
       "      <th>True</th>\n",
       "      <td>-0.083400</td>\n",
       "      <td>-0.076598</td>\n",
       "      <td>-0.071370</td>\n",
       "      <td>0.035710</td>\n",
       "      <td>0.039036</td>\n",
       "      <td>0.084607</td>\n",
       "      <td>0.138989</td>\n",
       "      <td>0.007222</td>\n",
       "      <td>0.026856</td>\n",
       "      <td>0.011264</td>\n",
       "      <td>-0.057572</td>\n",
       "    </tr>\n",
       "    <tr>\n",
       "      <th>mixtral</th>\n",
       "      <th>True</th>\n",
       "      <td>-0.007484</td>\n",
       "      <td>-0.006194</td>\n",
       "      <td>-0.019788</td>\n",
       "      <td>0.001774</td>\n",
       "      <td>0.009457</td>\n",
       "      <td>0.006977</td>\n",
       "      <td>0.003468</td>\n",
       "      <td>0.007476</td>\n",
       "      <td>0.003677</td>\n",
       "      <td>0.002212</td>\n",
       "      <td>-0.001101</td>\n",
       "    </tr>\n",
       "    <tr>\n",
       "      <th>jamba</th>\n",
       "      <th>True</th>\n",
       "      <td>-0.024452</td>\n",
       "      <td>-0.017141</td>\n",
       "      <td>-0.026144</td>\n",
       "      <td>0.017865</td>\n",
       "      <td>0.013681</td>\n",
       "      <td>0.013135</td>\n",
       "      <td>0.002026</td>\n",
       "      <td>0.005197</td>\n",
       "      <td>0.016909</td>\n",
       "      <td>0.001737</td>\n",
       "      <td>0.005944</td>\n",
       "    </tr>\n",
       "    <tr>\n",
       "      <th rowspan=\"2\" valign=\"top\">nllb</th>\n",
       "      <th>False</th>\n",
       "      <td>-0.068501</td>\n",
       "      <td>-0.063153</td>\n",
       "      <td>-0.065867</td>\n",
       "      <td>-0.020836</td>\n",
       "      <td>0.074320</td>\n",
       "      <td>0.018935</td>\n",
       "      <td>0.118597</td>\n",
       "      <td>0.004072</td>\n",
       "      <td>0.124358</td>\n",
       "      <td>0.060597</td>\n",
       "      <td>-0.030149</td>\n",
       "    </tr>\n",
       "    <tr>\n",
       "      <th>True</th>\n",
       "      <td>-0.085804</td>\n",
       "      <td>-0.083332</td>\n",
       "      <td>-0.105883</td>\n",
       "      <td>0.087424</td>\n",
       "      <td>0.018219</td>\n",
       "      <td>-0.001032</td>\n",
       "      <td>0.048736</td>\n",
       "      <td>0.061374</td>\n",
       "      <td>0.040145</td>\n",
       "      <td>0.004847</td>\n",
       "      <td>-0.020296</td>\n",
       "    </tr>\n",
       "    <tr>\n",
       "      <th>qwen2</th>\n",
       "      <th>True</th>\n",
       "      <td>0.000845</td>\n",
       "      <td>0.002554</td>\n",
       "      <td>-0.000112</td>\n",
       "      <td>0.016249</td>\n",
       "      <td>0.010464</td>\n",
       "      <td>-0.002241</td>\n",
       "      <td>-0.004851</td>\n",
       "      <td>0.005786</td>\n",
       "      <td>-0.009591</td>\n",
       "      <td>-0.008858</td>\n",
       "      <td>-0.010256</td>\n",
       "    </tr>\n",
       "  </tbody>\n",
       "</table>\n",
       "</div>"
      ],
      "text/plain": [
       "dataset                     c4    cc2306      book  wikipedia     arxiv  \\\n",
       "model     is_decoder                                                      \n",
       "powermoe  True       -0.041592 -0.043732 -0.037980  -0.010006  0.027344   \n",
       "llamamoe  True       -0.005554 -0.005112 -0.010352   0.003333  0.002852   \n",
       "olmoe     True       -0.105762 -0.106794 -0.105412   0.035159  0.052648   \n",
       "switch    False      -0.128535 -0.120633 -0.139042   0.037640  0.046741   \n",
       "          True       -0.154185 -0.156974 -0.148906   0.077168  0.033168   \n",
       "llamamoe2 True        0.036215  0.033352  0.038325   0.046539  0.015807   \n",
       "jetmoe    True        0.001072  0.000725 -0.008656   0.012522  0.001344   \n",
       "openmoe   True       -0.061715 -0.041017 -0.002322  -0.025634  0.033379   \n",
       "minicpm   True        0.005396  0.003939 -0.004757   0.018529  0.002355   \n",
       "qwen      True        0.003274  0.003107 -0.019016   0.058650 -0.004441   \n",
       "deepseek2 True        0.007010  0.001745 -0.023729   0.007924  0.022066   \n",
       "deepseek  True        0.004966  0.004140 -0.028707   0.003805  0.004276   \n",
       "xverse    True       -0.003852 -0.020945 -0.040900  -0.010383 -0.020138   \n",
       "qwen3     True        0.001660  0.021954  0.080338   0.080486  0.036868   \n",
       "yuan      True        0.029119  0.023086  0.002402   0.071796 -0.003142   \n",
       "phi       True       -0.099006 -0.095222 -0.087131  -0.003068  0.043839   \n",
       "grin      True       -0.083400 -0.076598 -0.071370   0.035710  0.039036   \n",
       "mixtral   True       -0.007484 -0.006194 -0.019788   0.001774  0.009457   \n",
       "jamba     True       -0.024452 -0.017141 -0.026144   0.017865  0.013681   \n",
       "nllb      False      -0.068501 -0.063153 -0.065867  -0.020836  0.074320   \n",
       "          True       -0.085804 -0.083332 -0.105883   0.087424  0.018219   \n",
       "qwen2     True        0.000845  0.002554 -0.000112   0.016249  0.010464   \n",
       "\n",
       "dataset               stackexchange    github   lmarena      math      code  \\\n",
       "model     is_decoder                                                          \n",
       "powermoe  True             0.020737  0.022222 -0.000788  0.036169  0.020293   \n",
       "llamamoe  True             0.004990  0.008118  0.007955 -0.002313  0.000093   \n",
       "olmoe     True             0.081247  0.111048  0.029019  0.040560  0.075293   \n",
       "switch    False            0.026119  0.084627  0.043404  0.101023  0.031107   \n",
       "          True             0.019100  0.094177  0.057274  0.078067  0.015921   \n",
       "llamamoe2 True            -0.017655 -0.022623 -0.006408 -0.042156 -0.079367   \n",
       "jetmoe    True             0.001422 -0.008034  0.005367 -0.002085 -0.002316   \n",
       "openmoe   True             0.001449  0.033791  0.007311  0.014573 -0.010069   \n",
       "minicpm   True            -0.004278 -0.010330  0.011720 -0.005071 -0.011655   \n",
       "qwen      True             0.006743 -0.011672  0.036717 -0.050308 -0.015963   \n",
       "deepseek2 True            -0.003132 -0.024106  0.012788  0.008500 -0.012091   \n",
       "deepseek  True             0.001042 -0.018206  0.013504  0.011576 -0.007914   \n",
       "xverse    True             0.017783 -0.016510  0.030643  0.053577 -0.002692   \n",
       "qwen3     True            -0.015825  0.021188 -0.016046 -0.072621 -0.113566   \n",
       "yuan      True            -0.032400 -0.057492  0.030007 -0.021753 -0.048549   \n",
       "phi       True             0.082978  0.138973 -0.009278  0.071959  0.043834   \n",
       "grin      True             0.084607  0.138989  0.007222  0.026856  0.011264   \n",
       "mixtral   True             0.006977  0.003468  0.007476  0.003677  0.002212   \n",
       "jamba     True             0.013135  0.002026  0.005197  0.016909  0.001737   \n",
       "nllb      False            0.018935  0.118597  0.004072  0.124358  0.060597   \n",
       "          True            -0.001032  0.048736  0.061374  0.040145  0.004847   \n",
       "qwen2     True            -0.002241 -0.004851  0.005786 -0.009591 -0.008858   \n",
       "\n",
       "dataset                science  \n",
       "model     is_decoder            \n",
       "powermoe  True        0.004579  \n",
       "llamamoe  True       -0.003741  \n",
       "olmoe     True       -0.040101  \n",
       "switch    False      -0.073224  \n",
       "          True       -0.038125  \n",
       "llamamoe2 True        0.003086  \n",
       "jetmoe    True       -0.001060  \n",
       "openmoe   True        0.043488  \n",
       "minicpm   True       -0.005124  \n",
       "qwen      True       -0.010495  \n",
       "deepseek2 True        0.013917  \n",
       "deepseek  True        0.011085  \n",
       "xverse    True        0.016944  \n",
       "qwen3     True       -0.027817  \n",
       "yuan      True        0.013839  \n",
       "phi       True       -0.051579  \n",
       "grin      True       -0.057572  \n",
       "mixtral   True       -0.001101  \n",
       "jamba     True        0.005944  \n",
       "nllb      False      -0.030149  \n",
       "          True       -0.020296  \n",
       "qwen2     True       -0.010256  "
      ]
     },
     "execution_count": 9,
     "metadata": {},
     "output_type": "execute_result"
    }
   ],
   "source": [
    "sample_seg_len = 16\n",
    "\n",
    "mdf = (\n",
    "    pd.merge(\n",
    "        dfs[\"mg\"]\n",
    "        .drop(columns=[\"best_m\", \"ci_lb\", \"ci_ub\"])\n",
    "        .rename(columns={\"best_f1\": \"gen_best_f1\"}),\n",
    "        dfs[\"md\"].drop(columns=[\"act_r\", \"best_m\", \"ci_lb\", \"ci_ub\"]),\n",
    "    )\n",
    "    .query(f\"seg_len == {sample_seg_len}\")\n",
    "    .drop(columns=\"seg_len\")\n",
    ")\n",
    "\n",
    "mdf[\"f1_diff\"] = (mdf[\"best_f1\"] - mdf[\"gen_best_f1\"]) / mdf[\"gen_best_f1\"]\n",
    "mdf.pivot(index=[\"model\", \"is_decoder\"], columns=\"dataset\", values=\"f1_diff\")"
   ]
  },
  {
   "cell_type": "code",
   "execution_count": 11,
   "id": "ad3f137c",
   "metadata": {},
   "outputs": [
    {
     "data": {
      "application/vnd.plotly.v1+json": {
       "config": {
        "plotlyServerURL": "https://plot.ly"
       },
       "data": [
        {
         "hoverinfo": "skip",
         "marker": {
          "color": "#DA16FF"
         },
         "opacity": 1,
         "showlegend": false,
         "type": "bar",
         "x": [
          "C4",
          "CC",
          "BK",
          "WK",
          "AX",
          "SE",
          "GH",
          "LM",
          "OM",
          "OC",
          "OS"
         ],
         "xaxis": "x",
         "y": {
          "bdata": "WSOLJLiKoj+2R34KexOhPyqLdrJZn6M/4767PvrTpz+OfYOJ0S+QPx/i53gmFJK/PhY/EWkql7/GM6r5MD96v9sxg5d+laW/q7+Q8GlRtL/m8BMH8EdpPw==",
          "dtype": "f8"
         },
         "yaxis": "y"
        },
        {
         "hoverinfo": "skip",
         "marker": {
          "color": "#B2828D"
         },
         "opacity": 1,
         "showlegend": false,
         "type": "bar",
         "x": [
          "C4",
          "CC",
          "BK",
          "WK",
          "AX",
          "SE",
          "GH",
          "LM",
          "OM",
          "OC",
          "OS"
         ],
         "xaxis": "x2",
         "y": {
          "bdata": "opiaf2DRnT8XjqZ436OXP4HMe4HarWM/Q3hAODFhsj+xxtB5sLxpv1NFxzrLlqC/8K50I41vrb+k6508ErqeP3b/FHJjRpa/XhfRMGTbqL84l9Vog1eMPw==",
          "dtype": "f8"
         },
         "yaxis": "y2"
        },
        {
         "hoverinfo": "skip",
         "marker": {
          "color": "#2E91E5"
         },
         "opacity": 1,
         "showlegend": false,
         "type": "bar",
         "x": [
          "C4",
          "CC",
          "BK",
          "WK",
          "AX",
          "SE",
          "GH",
          "LM",
          "OM",
          "OC",
          "OS"
         ],
         "xaxis": "x3",
         "y": {
          "bdata": "lWIoUJdLpb+73SJlBWSmv/ddo3QkcqO/ihzmYu19hL8B7QGgAwCcPy4o3of8O5U/GUbFVnPBlj+QyMO1nc5Jv/hOh3bChKI/VvULCp7HlD870wT36sFyPw==",
          "dtype": "f8"
         },
         "yaxis": "y3"
        },
        {
         "hoverinfo": "skip",
         "marker": {
          "color": "#FC0080"
         },
         "opacity": 1,
         "showlegend": false,
         "type": "bar",
         "x": [
          "C4",
          "CC",
          "BK",
          "WK",
          "AX",
          "SE",
          "GH",
          "LM",
          "OM",
          "OC",
          "OS"
         ],
         "xaxis": "x4",
         "y": {
          "bdata": "AOXbdW00Wz/jHDR/EnuWPyuXOmAHkbQ/9CZ/JrSatD/ZvU7mU+CiPyH9V3tyNJC/65i4fj6ylT+Q/91+Vm6Qv/KCGs9Ol7K/TtT1arESvb9C2hNCCHycvw==",
          "dtype": "f8"
         },
         "yaxis": "y4"
        },
        {
         "hoverinfo": "skip",
         "marker": {
          "color": "#6C7C32"
         },
         "opacity": 1,
         "showlegend": false,
         "type": "bar",
         "x": [
          "C4",
          "CC",
          "BK",
          "WK",
          "AX",
          "SE",
          "GH",
          "LM",
          "OM",
          "OC",
          "OS"
         ],
         "xaxis": "x5",
         "y": {
          "bdata": "+YHK8nZYub/hMhWGc2C4v2M1XwI2Tra/1+vp3dchab/6m6e1GXKmP2wz7L8TPrU/j2GHU9/JwT8xAjz1GQCDvxfa/d3ta7I/tI5wjmxxpj/Hj9SzjGiqvw==",
          "dtype": "f8"
         },
         "yaxis": "y5"
        },
        {
         "hoverinfo": "skip",
         "marker": {
          "color": "#1CA71C"
         },
         "opacity": 1,
         "showlegend": false,
         "type": "bar",
         "x": [
          "C4",
          "CC",
          "BK",
          "WK",
          "AX",
          "SE",
          "GH",
          "LM",
          "OM",
          "OC",
          "OS"
         ],
         "xaxis": "x6",
         "y": {
          "bdata": "iEZQhzETu79kH7E53Fa7v8+j0AFF/Lq/c/t34FYAoj/q31FPq/SqP5E4FtSfzLQ/gOMBN6ptvD8baWJPCredPzGF84hKxKQ/KVN+XmZGsz9Rrk0tFoikvw==",
          "dtype": "f8"
         },
         "yaxis": "y6"
        },
        {
         "hoverinfo": "skip",
         "marker": {
          "color": "#778AAE"
         },
         "opacity": 1,
         "showlegend": false,
         "type": "bar",
         "x": [
          "C4",
          "CC",
          "BK",
          "WK",
          "AX",
          "SE",
          "GH",
          "LM",
          "OM",
          "OC",
          "OS"
         ],
         "xaxis": "x7",
         "y": {
          "bdata": "35FE/7lZtb+W/A2v85uzv/f0fthPRbK/RNgcf4dIoj8bz04Si/yjP1we7PnJqLU/kSkYZGfKwT/B1PyH/5R9P32zc1EDgJs/rMwA9JkRhz++3R+yDnqtvw==",
          "dtype": "f8"
         },
         "yaxis": "y7"
        },
        {
         "hoverinfo": "skip",
         "marker": {
          "color": "#862A16"
         },
         "opacity": 1,
         "showlegend": false,
         "type": "bar",
         "x": [
          "C4",
          "CC",
          "BK",
          "WK",
          "AX",
          "SE",
          "GH",
          "LM",
          "OM",
          "OC",
          "OS"
         ],
         "xaxis": "x8",
         "y": {
          "bdata": "uxdTe8infr+RPe6NN195v2CHjPZMQ5S/tzfBfsIQXT+98RVd+V2DPzvsqIX5k3w/JN3TjlpobD+pcOKBjZ9+P2UizdEbIG4/qIDpE6YfYj+DdDS4WQhSvw==",
          "dtype": "f8"
         },
         "yaxis": "y8"
        },
        {
         "hoverinfo": "skip",
         "marker": {
          "color": "#750D86"
         },
         "opacity": 1,
         "showlegend": false,
         "type": "bar",
         "x": [
          "C4",
          "CC",
          "BK",
          "WK",
          "AX",
          "SE",
          "GH",
          "LM",
          "OM",
          "OC",
          "OS"
         ],
         "xaxis": "x9",
         "y": {
          "bdata": "7Yz1ZyYadj9WPCsfsiJwP8vh6Oroe3O/iMyNt1r5kj8dtRo8O0tjP7jBan4HhnG/Sh3Z7/Anhb+FfXErlQCIP39evCCoxXS/LVwy5HTeh78Fg3vZefx0vw==",
          "dtype": "f8"
         },
         "yaxis": "y9"
        },
        {
         "hoverinfo": "skip",
         "marker": {
          "color": "#222A2A"
         },
         "opacity": 1,
         "showlegend": false,
         "type": "bar",
         "x": [
          "C4",
          "CC",
          "BK",
          "WK",
          "AX",
          "SE",
          "GH",
          "LM",
          "OM",
          "OC",
          "OS"
         ],
         "xaxis": "x10",
         "y": {
          "bdata": "3CkbB06SUT9+u6RBrsFHPzGfJhlHuoG/z/o75CyliT8lvvR+dQNWP7dv12jHTVc/Y1f1QuBzgL/EQAMxOvt1P8Od0EMhFGG/gk0AfEj4Yr8g7VCLkVxRvw==",
          "dtype": "f8"
         },
         "yaxis": "y10"
        },
        {
         "hoverinfo": "skip",
         "marker": {
          "color": "#E15F99"
         },
         "opacity": 1,
         "showlegend": false,
         "type": "bar",
         "x": [
          "C4",
          "CC",
          "BK",
          "WK",
          "AX",
          "SE",
          "GH",
          "LM",
          "OM",
          "OC",
          "OS"
         ],
         "xaxis": "x11",
         "y": {
          "bdata": "itVR+ta/dr/z3UQE7+90vxc3LyA2M4W/SPvNjwVNaz+vt/w2cV1nP0F1pezCcHQ/nxWpM1aggD9mvCPykEqAP6GGiwTv8WK/M4esJ3tkGD9BEkV/NaVuvw==",
          "dtype": "f8"
         },
         "yaxis": "y11"
        },
        {
         "hoverinfo": "skip",
         "marker": {
          "color": "#FB00D1"
         },
         "opacity": 1,
         "showlegend": false,
         "type": "bar",
         "x": [
          "C4",
          "CC",
          "BK",
          "WK",
          "AX",
          "SE",
          "GH",
          "LM",
          "OM",
          "OC",
          "OS"
         ],
         "xaxis": "x12",
         "y": {
          "bdata": "LSIczXmOb79uPKDAqXKVvzXk/dHI8KS/nEO9DsRDhb/BKKspFJ+UvwptwjPSNZI/8mv8Ex3okL8yOmDEwGCfP4DL54lybqs//mgYE9ANZr9AvTAm0FmRPw==",
          "dtype": "f8"
         },
         "yaxis": "y12"
        },
        {
         "hoverinfo": "skip",
         "marker": {
          "color": "#A777F1"
         },
         "opacity": 1,
         "showlegend": false,
         "type": "bar",
         "x": [
          "C4",
          "CC",
          "BK",
          "WK",
          "AX",
          "SE",
          "GH",
          "LM",
          "OM",
          "OC",
          "OS"
         ],
         "xaxis": "x13",
         "y": {
          "bdata": "2fGRaPgJmb/Xic8dhY2RvwN1K7BwxZq/UtcHjTJLkj+96+cUlASMP189rp1e5oo/GmEgiMaYYD/GaDmXFkl1P7l/pIx7UJE/db1qjkV0XD+1xCcpKFl4Pw==",
          "dtype": "f8"
         },
         "yaxis": "y13"
        },
        {
         "hoverinfo": "skip",
         "marker": {
          "color": "#511CFB"
         },
         "opacity": 1,
         "showlegend": false,
         "type": "bar",
         "x": [
          "C4",
          "CC",
          "BK",
          "WK",
          "AX",
          "SE",
          "GH",
          "LM",
          "OM",
          "OC",
          "OS"
         ],
         "xaxis": "x14",
         "y": {
          "bdata": "ECd4/6K2fD+oJ1oTgZVcP0w7cStsTJi/njXMbos6gD8bwx9GYpiWPxQ1IsLRp2m/3Q6LykivmL+hMi+DjTCKP4yFUU2HaIE/LDnRLBvDiL9e/bozcoCMPw==",
          "dtype": "f8"
         },
         "yaxis": "y14"
        },
        {
         "hoverinfo": "skip",
         "marker": {
          "color": "#00A08B"
         },
         "opacity": 1,
         "showlegend": false,
         "type": "bar",
         "x": [
          "C4",
          "CC",
          "BK",
          "WK",
          "AX",
          "SE",
          "GH",
          "LM",
          "OM",
          "OC",
          "OS"
         ],
         "xaxis": "x15",
         "y": {
          "bdata": "f55uLcRWdD/F3dKgAPVwPyPrAqVuZZ2/9y+yUUosbz/GEMJ9J4RxPxqZ3harEFE/hfAXcoKkkr/3D2HEDKiLP+AXiooatYc/QELDPB41gL+t2j39xrOGPw==",
          "dtype": "f8"
         },
         "yaxis": "y15"
        },
        {
         "hoverinfo": "skip",
         "marker": {
          "color": "#1616A7"
         },
         "opacity": 1,
         "showlegend": false,
         "type": "bar",
         "x": [
          "C4",
          "CC",
          "BK",
          "WK",
          "AX",
          "SE",
          "GH",
          "LM",
          "OM",
          "OC",
          "OS"
         ],
         "xaxis": "x16",
         "y": {
          "bdata": "rBvXRPmwSz8BidYAtOxkP2+GLs1+Vx2/afJ8nK6jkD8puqgg+m2FP/lwkST1W2K/wSpReazec78RaN2YXrN3P3Tg8eOVpIO/3SVfaiokgr/5j8wMPgGFvw==",
          "dtype": "f8"
         },
         "yaxis": "y16"
        },
        {
         "hoverinfo": "skip",
         "marker": {
          "color": "#620042"
         },
         "opacity": 0.5,
         "showlegend": false,
         "type": "bar",
         "x": [
          "C4",
          "CC",
          "BK",
          "WK",
          "AX",
          "SE",
          "GH",
          "LM",
          "OM",
          "OC",
          "OS"
         ],
         "xaxis": "x17",
         "y": {
          "bdata": "G4I0IEaJsb/vJK5/xiqwvwaknOug3LC/Q3zOjOxVlb8yzk/xpwazP6+xx5SvY5M/7Mj8Gltcvj+oPb2iTa5wP0hRADb01b8/yXFXOpcGrz/9b56vS9+evw==",
          "dtype": "f8"
         },
         "yaxis": "y17"
        },
        {
         "hoverinfo": "skip",
         "marker": {
          "color": "#620042"
         },
         "opacity": 1,
         "showlegend": false,
         "type": "bar",
         "x": [
          "C4",
          "CC",
          "BK",
          "WK",
          "AX",
          "SE",
          "GH",
          "LM",
          "OM",
          "OC",
          "OS"
         ],
         "xaxis": "x17",
         "y": {
          "bdata": "N6FJiTz3tb9CWtHNP1W1vxjwOTEjG7u/nFd5J2hhtj+vw/DCDaiSP+ejzLDM51C/RrLKl/DzqD9JxJ9jZGyvPzeg4XfijaQ/v7PK5VLacz+W5b5HcciUvw==",
          "dtype": "f8"
         },
         "yaxis": "y17"
        },
        {
         "hoverinfo": "skip",
         "marker": {
          "color": "#EB663B"
         },
         "opacity": 1,
         "showlegend": false,
         "type": "bar",
         "x": [
          "C4",
          "CC",
          "BK",
          "WK",
          "AX",
          "SE",
          "GH",
          "LM",
          "OM",
          "OC",
          "OS"
         ],
         "xaxis": "x18",
         "y": {
          "bdata": "ogC/kx7Saj9wworxAXNpP6jpEdvyeJO/WTMj8mMHrj9xLEXi9jByv/bZPtMRnns/e8iV3lHnh78a0T17nMyiPzsdcPwBwqm/STXT8YNYkL/wDsWAe36Fvw==",
          "dtype": "f8"
         },
         "yaxis": "y18"
        },
        {
         "hoverinfo": "skip",
         "marker": {
          "color": "#B68100"
         },
         "opacity": 1,
         "showlegend": false,
         "type": "bar",
         "x": [
          "C4",
          "CC",
          "BK",
          "WK",
          "AX",
          "SE",
          "GH",
          "LM",
          "OM",
          "OC",
          "OS"
         ],
         "xaxis": "x19",
         "y": {
          "bdata": "vw82xyuZr79a7KHkMQClvyYZV5BTBmO/oKgeIuM/mr8ivBUQGhehP0kupGuZv1c/kgj2WxFNoT8Ww9IM+PF9P8FLClFI2I0/Lv28zM+ehL8aHVSGEkSmPw==",
          "dtype": "f8"
         },
         "yaxis": "y19"
        },
        {
         "hoverinfo": "skip",
         "marker": {
          "color": "#FB0D0D"
         },
         "opacity": 0.5,
         "showlegend": false,
         "type": "bar",
         "x": [
          "C4",
          "CC",
          "BK",
          "WK",
          "AX",
          "SE",
          "GH",
          "LM",
          "OM",
          "OC",
          "OS"
         ],
         "xaxis": "x20",
         "y": {
          "bdata": "wkipYNVzwL+/bpPbyuG+v0BCLMQizMG/jUztGJtFoz9pnF4LX+6nP0VCD+MGv5o/mCVWpxeqtT+yASw8CTmmP73ItT6e3Lk/7ojevZ3anz8t8yUI0L6yvw==",
          "dtype": "f8"
         },
         "yaxis": "y20"
        },
        {
         "hoverinfo": "skip",
         "marker": {
          "color": "#FB0D0D"
         },
         "opacity": 1,
         "showlegend": false,
         "type": "bar",
         "x": [
          "C4",
          "CC",
          "BK",
          "WK",
          "AX",
          "SE",
          "GH",
          "LM",
          "OM",
          "OC",
          "OS"
         ],
         "xaxis": "x20",
         "y": {
          "bdata": "nq7idVO8w7+AN47/uRfEvwKm3w1bD8O/EpTv+0LBsz8czmsIW/ugP1baaDDojpM/uqQHVfcbuD/dVuIYBFOtP57g17ow/LM/wPOJ2ZpNkD9+IqlNG4Wjvw==",
          "dtype": "f8"
         },
         "yaxis": "y20"
        }
       ],
       "layout": {
        "annotations": [
         {
          "font": {
           "size": 20
          },
          "showarrow": false,
          "text": "LLaMA-MoE-v2",
          "x": 0.04775,
          "xanchor": "center",
          "xref": "paper",
          "y": 1,
          "yanchor": "bottom",
          "yref": "paper"
         },
         {
          "font": {
           "size": 20
          },
          "showarrow": false,
          "text": "Yuan2.0",
          "x": 0.14825,
          "xanchor": "center",
          "xref": "paper",
          "y": 1,
          "yanchor": "bottom",
          "yref": "paper"
         },
         {
          "font": {
           "size": 20
          },
          "showarrow": false,
          "text": "PowerMoE",
          "x": 0.24875,
          "xanchor": "center",
          "xref": "paper",
          "y": 1,
          "yanchor": "bottom",
          "yref": "paper"
         },
         {
          "font": {
           "size": 20
          },
          "showarrow": false,
          "text": "Qwen3",
          "x": 0.34925,
          "xanchor": "center",
          "xref": "paper",
          "y": 1,
          "yanchor": "bottom",
          "yref": "paper"
         },
         {
          "font": {
           "size": 20
          },
          "showarrow": false,
          "text": "Phi-3.5-MoE",
          "x": 0.44975000000000004,
          "xanchor": "center",
          "xref": "paper",
          "y": 1,
          "yanchor": "bottom",
          "yref": "paper"
         },
         {
          "font": {
           "size": 20
          },
          "showarrow": false,
          "text": "OLMoE",
          "x": 0.5502500000000001,
          "xanchor": "center",
          "xref": "paper",
          "y": 1,
          "yanchor": "bottom",
          "yref": "paper"
         },
         {
          "font": {
           "size": 20
          },
          "showarrow": false,
          "text": "GRIN-MoE",
          "x": 0.6507499999999999,
          "xanchor": "center",
          "xref": "paper",
          "y": 1,
          "yanchor": "bottom",
          "yref": "paper"
         },
         {
          "font": {
           "size": 20
          },
          "showarrow": false,
          "text": "Mixtral-8x7B",
          "x": 0.75125,
          "xanchor": "center",
          "xref": "paper",
          "y": 1,
          "yanchor": "bottom",
          "yref": "paper"
         },
         {
          "font": {
           "size": 20
          },
          "showarrow": false,
          "text": "MiniCPM-MoE",
          "x": 0.85175,
          "xanchor": "center",
          "xref": "paper",
          "y": 1,
          "yanchor": "bottom",
          "yref": "paper"
         },
         {
          "font": {
           "size": 20
          },
          "showarrow": false,
          "text": "JetMoE",
          "x": 0.95225,
          "xanchor": "center",
          "xref": "paper",
          "y": 1,
          "yanchor": "bottom",
          "yref": "paper"
         },
         {
          "font": {
           "size": 20
          },
          "showarrow": false,
          "text": "LLaMA-MoE-v1",
          "x": 0.04775,
          "xanchor": "center",
          "xref": "paper",
          "y": 0.45,
          "yanchor": "bottom",
          "yref": "paper"
         },
         {
          "font": {
           "size": 20
          },
          "showarrow": false,
          "text": "XVERSE-MoE",
          "x": 0.14825,
          "xanchor": "center",
          "xref": "paper",
          "y": 0.45,
          "yanchor": "bottom",
          "yref": "paper"
         },
         {
          "font": {
           "size": 20
          },
          "showarrow": false,
          "text": "Jamba-Mini",
          "x": 0.24875,
          "xanchor": "center",
          "xref": "paper",
          "y": 0.45,
          "yanchor": "bottom",
          "yref": "paper"
         },
         {
          "font": {
           "size": 20
          },
          "showarrow": false,
          "text": "DeepSeek-V2-Lite",
          "x": 0.34925,
          "xanchor": "center",
          "xref": "paper",
          "y": 0.45,
          "yanchor": "bottom",
          "yref": "paper"
         },
         {
          "font": {
           "size": 20
          },
          "showarrow": false,
          "text": "DeepSeekMoE",
          "x": 0.44975000000000004,
          "xanchor": "center",
          "xref": "paper",
          "y": 0.45,
          "yanchor": "bottom",
          "yref": "paper"
         },
         {
          "font": {
           "size": 20
          },
          "showarrow": false,
          "text": "Qwen2",
          "x": 0.5502500000000001,
          "xanchor": "center",
          "xref": "paper",
          "y": 0.45,
          "yanchor": "bottom",
          "yref": "paper"
         },
         {
          "font": {
           "size": 20
          },
          "showarrow": false,
          "text": "NLLB-MoE",
          "x": 0.6507499999999999,
          "xanchor": "center",
          "xref": "paper",
          "y": 0.45,
          "yanchor": "bottom",
          "yref": "paper"
         },
         {
          "font": {
           "size": 20
          },
          "showarrow": false,
          "text": "Qwen1.5-MoE",
          "x": 0.75125,
          "xanchor": "center",
          "xref": "paper",
          "y": 0.45,
          "yanchor": "bottom",
          "yref": "paper"
         },
         {
          "font": {
           "size": 20
          },
          "showarrow": false,
          "text": "OpenMoE",
          "x": 0.85175,
          "xanchor": "center",
          "xref": "paper",
          "y": 0.45,
          "yanchor": "bottom",
          "yref": "paper"
         },
         {
          "font": {
           "size": 20
          },
          "showarrow": false,
          "text": "SwitchTransformers",
          "x": 0.95225,
          "xanchor": "center",
          "xref": "paper",
          "y": 0.45,
          "yanchor": "bottom",
          "yref": "paper"
         }
        ],
        "height": 500,
        "margin": {
         "b": 15,
         "l": 60,
         "r": 15,
         "t": 30
        },
        "template": {
         "data": {
          "bar": [
           {
            "error_x": {
             "color": "#2a3f5f"
            },
            "error_y": {
             "color": "#2a3f5f"
            },
            "marker": {
             "line": {
              "color": "#E5ECF6",
              "width": 0.5
             },
             "pattern": {
              "fillmode": "overlay",
              "size": 10,
              "solidity": 0.2
             }
            },
            "type": "bar"
           }
          ],
          "barpolar": [
           {
            "marker": {
             "line": {
              "color": "#E5ECF6",
              "width": 0.5
             },
             "pattern": {
              "fillmode": "overlay",
              "size": 10,
              "solidity": 0.2
             }
            },
            "type": "barpolar"
           }
          ],
          "carpet": [
           {
            "aaxis": {
             "endlinecolor": "#2a3f5f",
             "gridcolor": "white",
             "linecolor": "white",
             "minorgridcolor": "white",
             "startlinecolor": "#2a3f5f"
            },
            "baxis": {
             "endlinecolor": "#2a3f5f",
             "gridcolor": "white",
             "linecolor": "white",
             "minorgridcolor": "white",
             "startlinecolor": "#2a3f5f"
            },
            "type": "carpet"
           }
          ],
          "choropleth": [
           {
            "colorbar": {
             "outlinewidth": 0,
             "ticks": ""
            },
            "type": "choropleth"
           }
          ],
          "contour": [
           {
            "colorbar": {
             "outlinewidth": 0,
             "ticks": ""
            },
            "colorscale": [
             [
              0,
              "#0d0887"
             ],
             [
              0.1111111111111111,
              "#46039f"
             ],
             [
              0.2222222222222222,
              "#7201a8"
             ],
             [
              0.3333333333333333,
              "#9c179e"
             ],
             [
              0.4444444444444444,
              "#bd3786"
             ],
             [
              0.5555555555555556,
              "#d8576b"
             ],
             [
              0.6666666666666666,
              "#ed7953"
             ],
             [
              0.7777777777777778,
              "#fb9f3a"
             ],
             [
              0.8888888888888888,
              "#fdca26"
             ],
             [
              1,
              "#f0f921"
             ]
            ],
            "type": "contour"
           }
          ],
          "contourcarpet": [
           {
            "colorbar": {
             "outlinewidth": 0,
             "ticks": ""
            },
            "type": "contourcarpet"
           }
          ],
          "heatmap": [
           {
            "colorbar": {
             "outlinewidth": 0,
             "ticks": ""
            },
            "colorscale": [
             [
              0,
              "#0d0887"
             ],
             [
              0.1111111111111111,
              "#46039f"
             ],
             [
              0.2222222222222222,
              "#7201a8"
             ],
             [
              0.3333333333333333,
              "#9c179e"
             ],
             [
              0.4444444444444444,
              "#bd3786"
             ],
             [
              0.5555555555555556,
              "#d8576b"
             ],
             [
              0.6666666666666666,
              "#ed7953"
             ],
             [
              0.7777777777777778,
              "#fb9f3a"
             ],
             [
              0.8888888888888888,
              "#fdca26"
             ],
             [
              1,
              "#f0f921"
             ]
            ],
            "type": "heatmap"
           }
          ],
          "histogram": [
           {
            "marker": {
             "pattern": {
              "fillmode": "overlay",
              "size": 10,
              "solidity": 0.2
             }
            },
            "type": "histogram"
           }
          ],
          "histogram2d": [
           {
            "colorbar": {
             "outlinewidth": 0,
             "ticks": ""
            },
            "colorscale": [
             [
              0,
              "#0d0887"
             ],
             [
              0.1111111111111111,
              "#46039f"
             ],
             [
              0.2222222222222222,
              "#7201a8"
             ],
             [
              0.3333333333333333,
              "#9c179e"
             ],
             [
              0.4444444444444444,
              "#bd3786"
             ],
             [
              0.5555555555555556,
              "#d8576b"
             ],
             [
              0.6666666666666666,
              "#ed7953"
             ],
             [
              0.7777777777777778,
              "#fb9f3a"
             ],
             [
              0.8888888888888888,
              "#fdca26"
             ],
             [
              1,
              "#f0f921"
             ]
            ],
            "type": "histogram2d"
           }
          ],
          "histogram2dcontour": [
           {
            "colorbar": {
             "outlinewidth": 0,
             "ticks": ""
            },
            "colorscale": [
             [
              0,
              "#0d0887"
             ],
             [
              0.1111111111111111,
              "#46039f"
             ],
             [
              0.2222222222222222,
              "#7201a8"
             ],
             [
              0.3333333333333333,
              "#9c179e"
             ],
             [
              0.4444444444444444,
              "#bd3786"
             ],
             [
              0.5555555555555556,
              "#d8576b"
             ],
             [
              0.6666666666666666,
              "#ed7953"
             ],
             [
              0.7777777777777778,
              "#fb9f3a"
             ],
             [
              0.8888888888888888,
              "#fdca26"
             ],
             [
              1,
              "#f0f921"
             ]
            ],
            "type": "histogram2dcontour"
           }
          ],
          "mesh3d": [
           {
            "colorbar": {
             "outlinewidth": 0,
             "ticks": ""
            },
            "type": "mesh3d"
           }
          ],
          "parcoords": [
           {
            "line": {
             "colorbar": {
              "outlinewidth": 0,
              "ticks": ""
             }
            },
            "type": "parcoords"
           }
          ],
          "pie": [
           {
            "automargin": true,
            "type": "pie"
           }
          ],
          "scatter": [
           {
            "fillpattern": {
             "fillmode": "overlay",
             "size": 10,
             "solidity": 0.2
            },
            "type": "scatter"
           }
          ],
          "scatter3d": [
           {
            "line": {
             "colorbar": {
              "outlinewidth": 0,
              "ticks": ""
             }
            },
            "marker": {
             "colorbar": {
              "outlinewidth": 0,
              "ticks": ""
             }
            },
            "type": "scatter3d"
           }
          ],
          "scattercarpet": [
           {
            "marker": {
             "colorbar": {
              "outlinewidth": 0,
              "ticks": ""
             }
            },
            "type": "scattercarpet"
           }
          ],
          "scattergeo": [
           {
            "marker": {
             "colorbar": {
              "outlinewidth": 0,
              "ticks": ""
             }
            },
            "type": "scattergeo"
           }
          ],
          "scattergl": [
           {
            "marker": {
             "colorbar": {
              "outlinewidth": 0,
              "ticks": ""
             }
            },
            "type": "scattergl"
           }
          ],
          "scattermap": [
           {
            "marker": {
             "colorbar": {
              "outlinewidth": 0,
              "ticks": ""
             }
            },
            "type": "scattermap"
           }
          ],
          "scattermapbox": [
           {
            "marker": {
             "colorbar": {
              "outlinewidth": 0,
              "ticks": ""
             }
            },
            "type": "scattermapbox"
           }
          ],
          "scatterpolar": [
           {
            "marker": {
             "colorbar": {
              "outlinewidth": 0,
              "ticks": ""
             }
            },
            "type": "scatterpolar"
           }
          ],
          "scatterpolargl": [
           {
            "marker": {
             "colorbar": {
              "outlinewidth": 0,
              "ticks": ""
             }
            },
            "type": "scatterpolargl"
           }
          ],
          "scatterternary": [
           {
            "marker": {
             "colorbar": {
              "outlinewidth": 0,
              "ticks": ""
             }
            },
            "type": "scatterternary"
           }
          ],
          "surface": [
           {
            "colorbar": {
             "outlinewidth": 0,
             "ticks": ""
            },
            "colorscale": [
             [
              0,
              "#0d0887"
             ],
             [
              0.1111111111111111,
              "#46039f"
             ],
             [
              0.2222222222222222,
              "#7201a8"
             ],
             [
              0.3333333333333333,
              "#9c179e"
             ],
             [
              0.4444444444444444,
              "#bd3786"
             ],
             [
              0.5555555555555556,
              "#d8576b"
             ],
             [
              0.6666666666666666,
              "#ed7953"
             ],
             [
              0.7777777777777778,
              "#fb9f3a"
             ],
             [
              0.8888888888888888,
              "#fdca26"
             ],
             [
              1,
              "#f0f921"
             ]
            ],
            "type": "surface"
           }
          ],
          "table": [
           {
            "cells": {
             "fill": {
              "color": "#EBF0F8"
             },
             "line": {
              "color": "white"
             }
            },
            "header": {
             "fill": {
              "color": "#C8D4E3"
             },
             "line": {
              "color": "white"
             }
            },
            "type": "table"
           }
          ]
         },
         "layout": {
          "annotationdefaults": {
           "arrowcolor": "#2a3f5f",
           "arrowhead": 0,
           "arrowwidth": 1
          },
          "autotypenumbers": "strict",
          "coloraxis": {
           "colorbar": {
            "outlinewidth": 0,
            "ticks": ""
           }
          },
          "colorscale": {
           "diverging": [
            [
             0,
             "#8e0152"
            ],
            [
             0.1,
             "#c51b7d"
            ],
            [
             0.2,
             "#de77ae"
            ],
            [
             0.3,
             "#f1b6da"
            ],
            [
             0.4,
             "#fde0ef"
            ],
            [
             0.5,
             "#f7f7f7"
            ],
            [
             0.6,
             "#e6f5d0"
            ],
            [
             0.7,
             "#b8e186"
            ],
            [
             0.8,
             "#7fbc41"
            ],
            [
             0.9,
             "#4d9221"
            ],
            [
             1,
             "#276419"
            ]
           ],
           "sequential": [
            [
             0,
             "#0d0887"
            ],
            [
             0.1111111111111111,
             "#46039f"
            ],
            [
             0.2222222222222222,
             "#7201a8"
            ],
            [
             0.3333333333333333,
             "#9c179e"
            ],
            [
             0.4444444444444444,
             "#bd3786"
            ],
            [
             0.5555555555555556,
             "#d8576b"
            ],
            [
             0.6666666666666666,
             "#ed7953"
            ],
            [
             0.7777777777777778,
             "#fb9f3a"
            ],
            [
             0.8888888888888888,
             "#fdca26"
            ],
            [
             1,
             "#f0f921"
            ]
           ],
           "sequentialminus": [
            [
             0,
             "#0d0887"
            ],
            [
             0.1111111111111111,
             "#46039f"
            ],
            [
             0.2222222222222222,
             "#7201a8"
            ],
            [
             0.3333333333333333,
             "#9c179e"
            ],
            [
             0.4444444444444444,
             "#bd3786"
            ],
            [
             0.5555555555555556,
             "#d8576b"
            ],
            [
             0.6666666666666666,
             "#ed7953"
            ],
            [
             0.7777777777777778,
             "#fb9f3a"
            ],
            [
             0.8888888888888888,
             "#fdca26"
            ],
            [
             1,
             "#f0f921"
            ]
           ]
          },
          "colorway": [
           "#636efa",
           "#EF553B",
           "#00cc96",
           "#ab63fa",
           "#FFA15A",
           "#19d3f3",
           "#FF6692",
           "#B6E880",
           "#FF97FF",
           "#FECB52"
          ],
          "font": {
           "color": "#2a3f5f"
          },
          "geo": {
           "bgcolor": "white",
           "lakecolor": "white",
           "landcolor": "#E5ECF6",
           "showlakes": true,
           "showland": true,
           "subunitcolor": "white"
          },
          "hoverlabel": {
           "align": "left"
          },
          "hovermode": "closest",
          "mapbox": {
           "style": "light"
          },
          "paper_bgcolor": "white",
          "plot_bgcolor": "#E5ECF6",
          "polar": {
           "angularaxis": {
            "gridcolor": "white",
            "linecolor": "white",
            "ticks": ""
           },
           "bgcolor": "#E5ECF6",
           "radialaxis": {
            "gridcolor": "white",
            "linecolor": "white",
            "ticks": ""
           }
          },
          "scene": {
           "xaxis": {
            "backgroundcolor": "#E5ECF6",
            "gridcolor": "white",
            "gridwidth": 2,
            "linecolor": "white",
            "showbackground": true,
            "ticks": "",
            "zerolinecolor": "white"
           },
           "yaxis": {
            "backgroundcolor": "#E5ECF6",
            "gridcolor": "white",
            "gridwidth": 2,
            "linecolor": "white",
            "showbackground": true,
            "ticks": "",
            "zerolinecolor": "white"
           },
           "zaxis": {
            "backgroundcolor": "#E5ECF6",
            "gridcolor": "white",
            "gridwidth": 2,
            "linecolor": "white",
            "showbackground": true,
            "ticks": "",
            "zerolinecolor": "white"
           }
          },
          "shapedefaults": {
           "line": {
            "color": "#2a3f5f"
           }
          },
          "ternary": {
           "aaxis": {
            "gridcolor": "white",
            "linecolor": "white",
            "ticks": ""
           },
           "baxis": {
            "gridcolor": "white",
            "linecolor": "white",
            "ticks": ""
           },
           "bgcolor": "#E5ECF6",
           "caxis": {
            "gridcolor": "white",
            "linecolor": "white",
            "ticks": ""
           }
          },
          "title": {
           "x": 0.05
          },
          "xaxis": {
           "automargin": true,
           "gridcolor": "white",
           "linecolor": "white",
           "ticks": "",
           "title": {
            "standoff": 15
           },
           "zerolinecolor": "white",
           "zerolinewidth": 2
          },
          "yaxis": {
           "automargin": true,
           "gridcolor": "white",
           "linecolor": "white",
           "ticks": "",
           "title": {
            "standoff": 15
           },
           "zerolinecolor": "white",
           "zerolinewidth": 2
          }
         }
        },
        "width": 2400,
        "xaxis": {
         "anchor": "y",
         "domain": [
          0,
          0.0955
         ],
         "matches": "x11",
         "showticklabels": false,
         "tickangle": 0,
         "tickfont": {
          "size": 12
         }
        },
        "xaxis10": {
         "anchor": "y10",
         "domain": [
          0.9045000000000001,
          1
         ],
         "matches": "x11",
         "showticklabels": false,
         "tickangle": 0,
         "tickfont": {
          "size": 12
         }
        },
        "xaxis11": {
         "anchor": "y11",
         "domain": [
          0,
          0.0955
         ],
         "showticklabels": true,
         "tickangle": 0,
         "tickfont": {
          "size": 12
         }
        },
        "xaxis12": {
         "anchor": "y12",
         "domain": [
          0.1005,
          0.196
         ],
         "matches": "x11",
         "showticklabels": true,
         "tickangle": 0,
         "tickfont": {
          "size": 12
         }
        },
        "xaxis13": {
         "anchor": "y13",
         "domain": [
          0.201,
          0.2965
         ],
         "matches": "x11",
         "showticklabels": true,
         "tickangle": 0,
         "tickfont": {
          "size": 12
         }
        },
        "xaxis14": {
         "anchor": "y14",
         "domain": [
          0.3015,
          0.397
         ],
         "matches": "x11",
         "showticklabels": true,
         "tickangle": 0,
         "tickfont": {
          "size": 12
         }
        },
        "xaxis15": {
         "anchor": "y15",
         "domain": [
          0.402,
          0.49750000000000005
         ],
         "matches": "x11",
         "showticklabels": true,
         "tickangle": 0,
         "tickfont": {
          "size": 12
         }
        },
        "xaxis16": {
         "anchor": "y16",
         "domain": [
          0.5025000000000001,
          0.5980000000000001
         ],
         "matches": "x11",
         "showticklabels": true,
         "tickangle": 0,
         "tickfont": {
          "size": 12
         }
        },
        "xaxis17": {
         "anchor": "y17",
         "domain": [
          0.603,
          0.6985
         ],
         "matches": "x11",
         "showticklabels": true,
         "tickangle": 0,
         "tickfont": {
          "size": 12
         }
        },
        "xaxis18": {
         "anchor": "y18",
         "domain": [
          0.7035,
          0.799
         ],
         "matches": "x11",
         "showticklabels": true,
         "tickangle": 0,
         "tickfont": {
          "size": 12
         }
        },
        "xaxis19": {
         "anchor": "y19",
         "domain": [
          0.804,
          0.8995000000000001
         ],
         "matches": "x11",
         "showticklabels": true,
         "tickangle": 0,
         "tickfont": {
          "size": 12
         }
        },
        "xaxis2": {
         "anchor": "y2",
         "domain": [
          0.1005,
          0.196
         ],
         "matches": "x11",
         "showticklabels": false,
         "tickangle": 0,
         "tickfont": {
          "size": 12
         }
        },
        "xaxis20": {
         "anchor": "y20",
         "domain": [
          0.9045000000000001,
          1
         ],
         "matches": "x11",
         "showticklabels": true,
         "tickangle": 0,
         "tickfont": {
          "size": 12
         }
        },
        "xaxis3": {
         "anchor": "y3",
         "domain": [
          0.201,
          0.2965
         ],
         "matches": "x11",
         "showticklabels": false,
         "tickangle": 0,
         "tickfont": {
          "size": 12
         }
        },
        "xaxis4": {
         "anchor": "y4",
         "domain": [
          0.3015,
          0.397
         ],
         "matches": "x11",
         "showticklabels": false,
         "tickangle": 0,
         "tickfont": {
          "size": 12
         }
        },
        "xaxis5": {
         "anchor": "y5",
         "domain": [
          0.402,
          0.49750000000000005
         ],
         "matches": "x11",
         "showticklabels": false,
         "tickangle": 0,
         "tickfont": {
          "size": 12
         }
        },
        "xaxis6": {
         "anchor": "y6",
         "domain": [
          0.5025000000000001,
          0.5980000000000001
         ],
         "matches": "x11",
         "showticklabels": false,
         "tickangle": 0,
         "tickfont": {
          "size": 12
         }
        },
        "xaxis7": {
         "anchor": "y7",
         "domain": [
          0.603,
          0.6985
         ],
         "matches": "x11",
         "showticklabels": false,
         "tickangle": 0,
         "tickfont": {
          "size": 12
         }
        },
        "xaxis8": {
         "anchor": "y8",
         "domain": [
          0.7035,
          0.799
         ],
         "matches": "x11",
         "showticklabels": false,
         "tickangle": 0,
         "tickfont": {
          "size": 12
         }
        },
        "xaxis9": {
         "anchor": "y9",
         "domain": [
          0.804,
          0.8995000000000001
         ],
         "matches": "x11",
         "showticklabels": false,
         "tickangle": 0,
         "tickfont": {
          "size": 12
         }
        },
        "yaxis": {
         "anchor": "x",
         "domain": [
          0.55,
          1
         ],
         "matches": "y11",
         "showticklabels": true,
         "tickfont": {
          "size": 16
         },
         "ticktext": [
          "-10%",
          "SRP<br>(E,16)",
          "+10%"
         ],
         "tickvals": [
          -0.1,
          0,
          0.1
         ]
        },
        "yaxis10": {
         "anchor": "x10",
         "domain": [
          0.55,
          1
         ],
         "matches": "y11",
         "showticklabels": false,
         "tickvals": [
          -0.1,
          0,
          0.1
         ]
        },
        "yaxis11": {
         "anchor": "x11",
         "domain": [
          0,
          0.45
         ],
         "showticklabels": true,
         "tickfont": {
          "size": 16
         },
         "ticktext": [
          "-10%",
          "SRP<br>(E,16)",
          "+10%"
         ],
         "tickvals": [
          -0.1,
          0,
          0.1
         ]
        },
        "yaxis12": {
         "anchor": "x12",
         "domain": [
          0,
          0.45
         ],
         "matches": "y11",
         "showticklabels": false,
         "tickvals": [
          -0.1,
          0,
          0.1
         ]
        },
        "yaxis13": {
         "anchor": "x13",
         "domain": [
          0,
          0.45
         ],
         "matches": "y11",
         "showticklabels": false,
         "tickvals": [
          -0.1,
          0,
          0.1
         ]
        },
        "yaxis14": {
         "anchor": "x14",
         "domain": [
          0,
          0.45
         ],
         "matches": "y11",
         "showticklabels": false,
         "tickvals": [
          -0.1,
          0,
          0.1
         ]
        },
        "yaxis15": {
         "anchor": "x15",
         "domain": [
          0,
          0.45
         ],
         "matches": "y11",
         "showticklabels": false,
         "tickvals": [
          -0.1,
          0,
          0.1
         ]
        },
        "yaxis16": {
         "anchor": "x16",
         "domain": [
          0,
          0.45
         ],
         "matches": "y11",
         "showticklabels": false,
         "tickvals": [
          -0.1,
          0,
          0.1
         ]
        },
        "yaxis17": {
         "anchor": "x17",
         "domain": [
          0,
          0.45
         ],
         "matches": "y11",
         "showticklabels": false,
         "tickvals": [
          -0.1,
          0,
          0.1
         ]
        },
        "yaxis18": {
         "anchor": "x18",
         "domain": [
          0,
          0.45
         ],
         "matches": "y11",
         "showticklabels": false,
         "tickvals": [
          -0.1,
          0,
          0.1
         ]
        },
        "yaxis19": {
         "anchor": "x19",
         "domain": [
          0,
          0.45
         ],
         "matches": "y11",
         "showticklabels": false,
         "tickvals": [
          -0.1,
          0,
          0.1
         ]
        },
        "yaxis2": {
         "anchor": "x2",
         "domain": [
          0.55,
          1
         ],
         "matches": "y11",
         "showticklabels": false,
         "tickvals": [
          -0.1,
          0,
          0.1
         ]
        },
        "yaxis20": {
         "anchor": "x20",
         "domain": [
          0,
          0.45
         ],
         "matches": "y11",
         "showticklabels": false,
         "tickvals": [
          -0.1,
          0,
          0.1
         ]
        },
        "yaxis3": {
         "anchor": "x3",
         "domain": [
          0.55,
          1
         ],
         "matches": "y11",
         "showticklabels": false,
         "tickvals": [
          -0.1,
          0,
          0.1
         ]
        },
        "yaxis4": {
         "anchor": "x4",
         "domain": [
          0.55,
          1
         ],
         "matches": "y11",
         "showticklabels": false,
         "tickvals": [
          -0.1,
          0,
          0.1
         ]
        },
        "yaxis5": {
         "anchor": "x5",
         "domain": [
          0.55,
          1
         ],
         "matches": "y11",
         "showticklabels": false,
         "tickvals": [
          -0.1,
          0,
          0.1
         ]
        },
        "yaxis6": {
         "anchor": "x6",
         "domain": [
          0.55,
          1
         ],
         "matches": "y11",
         "showticklabels": false,
         "tickvals": [
          -0.1,
          0,
          0.1
         ]
        },
        "yaxis7": {
         "anchor": "x7",
         "domain": [
          0.55,
          1
         ],
         "matches": "y11",
         "showticklabels": false,
         "tickvals": [
          -0.1,
          0,
          0.1
         ]
        },
        "yaxis8": {
         "anchor": "x8",
         "domain": [
          0.55,
          1
         ],
         "matches": "y11",
         "showticklabels": false,
         "tickvals": [
          -0.1,
          0,
          0.1
         ]
        },
        "yaxis9": {
         "anchor": "x9",
         "domain": [
          0.55,
          1
         ],
         "matches": "y11",
         "showticklabels": false,
         "tickvals": [
          -0.1,
          0,
          0.1
         ]
        }
       }
      }
     },
     "metadata": {},
     "output_type": "display_data"
    }
   ],
   "source": [
    "num_cols = 10\n",
    "num_rows = (len(main_model_config) - 1) // num_cols + 1\n",
    "\n",
    "fig = make_subplots(\n",
    "    rows=num_rows,\n",
    "    cols=num_cols,\n",
    "    shared_xaxes=\"all\",\n",
    "    shared_yaxes=\"all\",\n",
    "    horizontal_spacing=0.005,\n",
    "    vertical_spacing=0.1,\n",
    "    subplot_titles=sorted_model_keys.map(new_name).values,\n",
    ")\n",
    "\n",
    "font_size = [12, 16, 18, 20]\n",
    "\n",
    "for i, key in enumerate(sorted_model_keys):\n",
    "    if (mdf[\"model\"] == key).sum() == 0:\n",
    "        continue\n",
    "\n",
    "    row = i // num_cols + 1\n",
    "    col = i % num_cols + 1\n",
    "\n",
    "    for is_decoder in (False, True):\n",
    "        tmpdf = mdf.query(f\"model == '{key}' and is_decoder == {is_decoder}\")\n",
    "        if len(tmpdf) == 0:\n",
    "            continue\n",
    "\n",
    "        fig.add_bar(\n",
    "            x=tmpdf[\"data_abbr\"],\n",
    "            y=tmpdf[\"f1_diff\"],\n",
    "            hoverinfo=\"skip\",\n",
    "            marker=go.bar.Marker(color=model_colors[key]),\n",
    "            opacity=1 if is_decoder else 0.5,\n",
    "            showlegend=False,\n",
    "            row=row,\n",
    "            col=col,\n",
    "        )\n",
    "\n",
    "    fig.update_xaxes(\n",
    "        showticklabels=row == num_rows,\n",
    "        tickangle=0,\n",
    "        tickfont=go.layout.xaxis.Tickfont(size=font_size[0]),\n",
    "        row=row,\n",
    "        col=col,\n",
    "    )\n",
    "\n",
    "    fig.update_yaxes(showticklabels=col == 1, tickvals=[-0.1, 0, 0.1], row=row, col=col)\n",
    "\n",
    "    if col == 1:\n",
    "        fig.update_yaxes(\n",
    "            tickfont=go.layout.yaxis.Tickfont(size=font_size[1]),\n",
    "            ticktext=[\"-10%\", \"SRP<br>(E,16)\", \"+10%\"],\n",
    "            row=row,\n",
    "            col=col,\n",
    "        )\n",
    "\n",
    "fig.update_annotations(font=go.layout.annotation.Font(size=font_size[3]))\n",
    "fig.update_layout(margin=go.layout.Margin(l=60, r=15, t=30, b=15), width=2400, height=500)\n",
    "fig.write_image(\"./plot/msrpdd.pdf\", width=fig.layout.width, height=fig.layout.height)\n",
    "fig.show()"
   ]
  },
  {
   "cell_type": "code",
   "execution_count": 13,
   "id": "a643d985",
   "metadata": {},
   "outputs": [
    {
     "data": {
      "text/html": [
       "<div>\n",
       "<style scoped>\n",
       "    .dataframe tbody tr th:only-of-type {\n",
       "        vertical-align: middle;\n",
       "    }\n",
       "\n",
       "    .dataframe tbody tr th {\n",
       "        vertical-align: top;\n",
       "    }\n",
       "\n",
       "    .dataframe thead th {\n",
       "        text-align: right;\n",
       "    }\n",
       "</style>\n",
       "<table border=\"1\" class=\"dataframe\">\n",
       "  <thead>\n",
       "    <tr style=\"text-align: right;\">\n",
       "      <th></th>\n",
       "      <th>model</th>\n",
       "      <th>is_decoder</th>\n",
       "      <th>layer_idx</th>\n",
       "      <th>expert_idx</th>\n",
       "      <th>dataset</th>\n",
       "      <th>act_r</th>\n",
       "      <th>best_f1</th>\n",
       "      <th>ci_lb</th>\n",
       "      <th>ci_ub</th>\n",
       "      <th>best_m</th>\n",
       "      <th>model_name</th>\n",
       "      <th>model_abbr</th>\n",
       "      <th>model_type</th>\n",
       "      <th>model_num_params</th>\n",
       "      <th>model_num_layers</th>\n",
       "      <th>model_num_experts</th>\n",
       "      <th>model_top_k</th>\n",
       "      <th>model_attn</th>\n",
       "      <th>data_name</th>\n",
       "      <th>data_abbr</th>\n",
       "    </tr>\n",
       "  </thead>\n",
       "  <tbody>\n",
       "    <tr>\n",
       "      <th>1</th>\n",
       "      <td>powermoe</td>\n",
       "      <td>True</td>\n",
       "      <td>0</td>\n",
       "      <td>0</td>\n",
       "      <td>c4</td>\n",
       "      <td>0.694848</td>\n",
       "      <td>0.820701</td>\n",
       "      <td>0.819219</td>\n",
       "      <td>0.822131</td>\n",
       "      <td>1.423875</td>\n",
       "      <td>PowerMoE-3B</td>\n",
       "      <td>PW</td>\n",
       "      <td>causal</td>\n",
       "      <td>3.30</td>\n",
       "      <td>32</td>\n",
       "      <td>40</td>\n",
       "      <td>8</td>\n",
       "      <td>flash_attention_2</td>\n",
       "      <td>C4</td>\n",
       "      <td>C4</td>\n",
       "    </tr>\n",
       "    <tr>\n",
       "      <th>5</th>\n",
       "      <td>powermoe</td>\n",
       "      <td>True</td>\n",
       "      <td>0</td>\n",
       "      <td>0</td>\n",
       "      <td>cc2306</td>\n",
       "      <td>0.691056</td>\n",
       "      <td>0.818060</td>\n",
       "      <td>0.816703</td>\n",
       "      <td>0.819371</td>\n",
       "      <td>1.431446</td>\n",
       "      <td>PowerMoE-3B</td>\n",
       "      <td>PW</td>\n",
       "      <td>causal</td>\n",
       "      <td>3.30</td>\n",
       "      <td>32</td>\n",
       "      <td>40</td>\n",
       "      <td>8</td>\n",
       "      <td>flash_attention_2</td>\n",
       "      <td>CommonCrawl</td>\n",
       "      <td>CC</td>\n",
       "    </tr>\n",
       "    <tr>\n",
       "      <th>9</th>\n",
       "      <td>powermoe</td>\n",
       "      <td>True</td>\n",
       "      <td>0</td>\n",
       "      <td>0</td>\n",
       "      <td>book</td>\n",
       "      <td>0.646680</td>\n",
       "      <td>0.787783</td>\n",
       "      <td>0.786134</td>\n",
       "      <td>0.789406</td>\n",
       "      <td>1.486747</td>\n",
       "      <td>PowerMoE-3B</td>\n",
       "      <td>PW</td>\n",
       "      <td>causal</td>\n",
       "      <td>3.30</td>\n",
       "      <td>32</td>\n",
       "      <td>40</td>\n",
       "      <td>8</td>\n",
       "      <td>flash_attention_2</td>\n",
       "      <td>Books</td>\n",
       "      <td>BK</td>\n",
       "    </tr>\n",
       "    <tr>\n",
       "      <th>13</th>\n",
       "      <td>powermoe</td>\n",
       "      <td>True</td>\n",
       "      <td>0</td>\n",
       "      <td>0</td>\n",
       "      <td>wikipedia</td>\n",
       "      <td>0.563178</td>\n",
       "      <td>0.741508</td>\n",
       "      <td>0.738549</td>\n",
       "      <td>0.744411</td>\n",
       "      <td>1.563096</td>\n",
       "      <td>PowerMoE-3B</td>\n",
       "      <td>PW</td>\n",
       "      <td>causal</td>\n",
       "      <td>3.30</td>\n",
       "      <td>32</td>\n",
       "      <td>40</td>\n",
       "      <td>8</td>\n",
       "      <td>flash_attention_2</td>\n",
       "      <td>Wikipedia</td>\n",
       "      <td>WK</td>\n",
       "    </tr>\n",
       "    <tr>\n",
       "      <th>17</th>\n",
       "      <td>powermoe</td>\n",
       "      <td>True</td>\n",
       "      <td>0</td>\n",
       "      <td>0</td>\n",
       "      <td>arxiv</td>\n",
       "      <td>0.562731</td>\n",
       "      <td>0.729254</td>\n",
       "      <td>0.726513</td>\n",
       "      <td>0.732068</td>\n",
       "      <td>1.626349</td>\n",
       "      <td>PowerMoE-3B</td>\n",
       "      <td>PW</td>\n",
       "      <td>causal</td>\n",
       "      <td>3.30</td>\n",
       "      <td>32</td>\n",
       "      <td>40</td>\n",
       "      <td>8</td>\n",
       "      <td>flash_attention_2</td>\n",
       "      <td>ArXiv</td>\n",
       "      <td>AX</td>\n",
       "    </tr>\n",
       "    <tr>\n",
       "      <th>...</th>\n",
       "      <td>...</td>\n",
       "      <td>...</td>\n",
       "      <td>...</td>\n",
       "      <td>...</td>\n",
       "      <td>...</td>\n",
       "      <td>...</td>\n",
       "      <td>...</td>\n",
       "      <td>...</td>\n",
       "      <td>...</td>\n",
       "      <td>...</td>\n",
       "      <td>...</td>\n",
       "      <td>...</td>\n",
       "      <td>...</td>\n",
       "      <td>...</td>\n",
       "      <td>...</td>\n",
       "      <td>...</td>\n",
       "      <td>...</td>\n",
       "      <td>...</td>\n",
       "      <td>...</td>\n",
       "      <td>...</td>\n",
       "    </tr>\n",
       "    <tr>\n",
       "      <th>1216493</th>\n",
       "      <td>qwen2</td>\n",
       "      <td>True</td>\n",
       "      <td>27</td>\n",
       "      <td>63</td>\n",
       "      <td>github</td>\n",
       "      <td>0.129654</td>\n",
       "      <td>0.331546</td>\n",
       "      <td>0.330146</td>\n",
       "      <td>0.332850</td>\n",
       "      <td>2.651764</td>\n",
       "      <td>Qwen2-57B-A14B</td>\n",
       "      <td>QW2</td>\n",
       "      <td>causal</td>\n",
       "      <td>57.41</td>\n",
       "      <td>28</td>\n",
       "      <td>64</td>\n",
       "      <td>8</td>\n",
       "      <td>flash_attention_2</td>\n",
       "      <td>GitHub</td>\n",
       "      <td>GH</td>\n",
       "    </tr>\n",
       "    <tr>\n",
       "      <th>1216497</th>\n",
       "      <td>qwen2</td>\n",
       "      <td>True</td>\n",
       "      <td>27</td>\n",
       "      <td>63</td>\n",
       "      <td>lmarena</td>\n",
       "      <td>0.126167</td>\n",
       "      <td>0.330782</td>\n",
       "      <td>0.329645</td>\n",
       "      <td>0.331981</td>\n",
       "      <td>2.611124</td>\n",
       "      <td>Qwen2-57B-A14B</td>\n",
       "      <td>QW2</td>\n",
       "      <td>causal</td>\n",
       "      <td>57.41</td>\n",
       "      <td>28</td>\n",
       "      <td>64</td>\n",
       "      <td>8</td>\n",
       "      <td>flash_attention_2</td>\n",
       "      <td>LMArena</td>\n",
       "      <td>LM</td>\n",
       "    </tr>\n",
       "    <tr>\n",
       "      <th>1216501</th>\n",
       "      <td>qwen2</td>\n",
       "      <td>True</td>\n",
       "      <td>27</td>\n",
       "      <td>63</td>\n",
       "      <td>math</td>\n",
       "      <td>0.132522</td>\n",
       "      <td>0.319218</td>\n",
       "      <td>0.318248</td>\n",
       "      <td>0.320188</td>\n",
       "      <td>2.704185</td>\n",
       "      <td>Qwen2-57B-A14B</td>\n",
       "      <td>QW2</td>\n",
       "      <td>causal</td>\n",
       "      <td>57.41</td>\n",
       "      <td>28</td>\n",
       "      <td>64</td>\n",
       "      <td>8</td>\n",
       "      <td>flash_attention_2</td>\n",
       "      <td>OpenMath</td>\n",
       "      <td>OM</td>\n",
       "    </tr>\n",
       "    <tr>\n",
       "      <th>1216505</th>\n",
       "      <td>qwen2</td>\n",
       "      <td>True</td>\n",
       "      <td>27</td>\n",
       "      <td>63</td>\n",
       "      <td>code</td>\n",
       "      <td>0.131186</td>\n",
       "      <td>0.325957</td>\n",
       "      <td>0.325040</td>\n",
       "      <td>0.326883</td>\n",
       "      <td>2.679304</td>\n",
       "      <td>Qwen2-57B-A14B</td>\n",
       "      <td>QW2</td>\n",
       "      <td>causal</td>\n",
       "      <td>57.41</td>\n",
       "      <td>28</td>\n",
       "      <td>64</td>\n",
       "      <td>8</td>\n",
       "      <td>flash_attention_2</td>\n",
       "      <td>OpenCode</td>\n",
       "      <td>OC</td>\n",
       "    </tr>\n",
       "    <tr>\n",
       "      <th>1216509</th>\n",
       "      <td>qwen2</td>\n",
       "      <td>True</td>\n",
       "      <td>27</td>\n",
       "      <td>63</td>\n",
       "      <td>science</td>\n",
       "      <td>0.128230</td>\n",
       "      <td>0.326457</td>\n",
       "      <td>0.325236</td>\n",
       "      <td>0.327796</td>\n",
       "      <td>2.651956</td>\n",
       "      <td>Qwen2-57B-A14B</td>\n",
       "      <td>QW2</td>\n",
       "      <td>causal</td>\n",
       "      <td>57.41</td>\n",
       "      <td>28</td>\n",
       "      <td>64</td>\n",
       "      <td>8</td>\n",
       "      <td>flash_attention_2</td>\n",
       "      <td>OpenScience</td>\n",
       "      <td>OS</td>\n",
       "    </tr>\n",
       "  </tbody>\n",
       "</table>\n",
       "<p>260128 rows × 20 columns</p>\n",
       "</div>"
      ],
      "text/plain": [
       "            model  is_decoder  layer_idx  expert_idx    dataset     act_r  \\\n",
       "1        powermoe        True          0           0         c4  0.694848   \n",
       "5        powermoe        True          0           0     cc2306  0.691056   \n",
       "9        powermoe        True          0           0       book  0.646680   \n",
       "13       powermoe        True          0           0  wikipedia  0.563178   \n",
       "17       powermoe        True          0           0      arxiv  0.562731   \n",
       "...           ...         ...        ...         ...        ...       ...   \n",
       "1216493     qwen2        True         27          63     github  0.129654   \n",
       "1216497     qwen2        True         27          63    lmarena  0.126167   \n",
       "1216501     qwen2        True         27          63       math  0.132522   \n",
       "1216505     qwen2        True         27          63       code  0.131186   \n",
       "1216509     qwen2        True         27          63    science  0.128230   \n",
       "\n",
       "          best_f1     ci_lb     ci_ub    best_m      model_name model_abbr  \\\n",
       "1        0.820701  0.819219  0.822131  1.423875     PowerMoE-3B         PW   \n",
       "5        0.818060  0.816703  0.819371  1.431446     PowerMoE-3B         PW   \n",
       "9        0.787783  0.786134  0.789406  1.486747     PowerMoE-3B         PW   \n",
       "13       0.741508  0.738549  0.744411  1.563096     PowerMoE-3B         PW   \n",
       "17       0.729254  0.726513  0.732068  1.626349     PowerMoE-3B         PW   \n",
       "...           ...       ...       ...       ...             ...        ...   \n",
       "1216493  0.331546  0.330146  0.332850  2.651764  Qwen2-57B-A14B        QW2   \n",
       "1216497  0.330782  0.329645  0.331981  2.611124  Qwen2-57B-A14B        QW2   \n",
       "1216501  0.319218  0.318248  0.320188  2.704185  Qwen2-57B-A14B        QW2   \n",
       "1216505  0.325957  0.325040  0.326883  2.679304  Qwen2-57B-A14B        QW2   \n",
       "1216509  0.326457  0.325236  0.327796  2.651956  Qwen2-57B-A14B        QW2   \n",
       "\n",
       "        model_type  model_num_params  model_num_layers  model_num_experts  \\\n",
       "1           causal              3.30                32                 40   \n",
       "5           causal              3.30                32                 40   \n",
       "9           causal              3.30                32                 40   \n",
       "13          causal              3.30                32                 40   \n",
       "17          causal              3.30                32                 40   \n",
       "...            ...               ...               ...                ...   \n",
       "1216493     causal             57.41                28                 64   \n",
       "1216497     causal             57.41                28                 64   \n",
       "1216501     causal             57.41                28                 64   \n",
       "1216505     causal             57.41                28                 64   \n",
       "1216509     causal             57.41                28                 64   \n",
       "\n",
       "         model_top_k         model_attn    data_name data_abbr  \n",
       "1                  8  flash_attention_2           C4        C4  \n",
       "5                  8  flash_attention_2  CommonCrawl        CC  \n",
       "9                  8  flash_attention_2        Books        BK  \n",
       "13                 8  flash_attention_2    Wikipedia        WK  \n",
       "17                 8  flash_attention_2        ArXiv        AX  \n",
       "...              ...                ...          ...       ...  \n",
       "1216493            8  flash_attention_2       GitHub        GH  \n",
       "1216497            8  flash_attention_2      LMArena        LM  \n",
       "1216501            8  flash_attention_2     OpenMath        OM  \n",
       "1216505            8  flash_attention_2     OpenCode        OC  \n",
       "1216509            8  flash_attention_2  OpenScience        OS  \n",
       "\n",
       "[260128 rows x 20 columns]"
      ]
     },
     "execution_count": 13,
     "metadata": {},
     "output_type": "execute_result"
    }
   ],
   "source": [
    "sedf = dfs[\"ed\"].query(f\"seg_len == {sample_seg_len}\").drop(columns=\"seg_len\")\n",
    "sedf"
   ]
  },
  {
   "cell_type": "code",
   "execution_count": 14,
   "id": "52f02c69",
   "metadata": {},
   "outputs": [
    {
     "data": {
      "text/html": [
       "<div>\n",
       "<style scoped>\n",
       "    .dataframe tbody tr th:only-of-type {\n",
       "        vertical-align: middle;\n",
       "    }\n",
       "\n",
       "    .dataframe tbody tr th {\n",
       "        vertical-align: top;\n",
       "    }\n",
       "\n",
       "    .dataframe thead th {\n",
       "        text-align: right;\n",
       "    }\n",
       "</style>\n",
       "<table border=\"1\" class=\"dataframe\">\n",
       "  <thead>\n",
       "    <tr style=\"text-align: right;\">\n",
       "      <th></th>\n",
       "      <th>dataset</th>\n",
       "      <th>c4</th>\n",
       "      <th>cc2306</th>\n",
       "      <th>book</th>\n",
       "      <th>wikipedia</th>\n",
       "      <th>arxiv</th>\n",
       "      <th>stackexchange</th>\n",
       "      <th>github</th>\n",
       "      <th>lmarena</th>\n",
       "      <th>math</th>\n",
       "      <th>code</th>\n",
       "      <th>science</th>\n",
       "    </tr>\n",
       "    <tr>\n",
       "      <th>model</th>\n",
       "      <th>dataset</th>\n",
       "      <th></th>\n",
       "      <th></th>\n",
       "      <th></th>\n",
       "      <th></th>\n",
       "      <th></th>\n",
       "      <th></th>\n",
       "      <th></th>\n",
       "      <th></th>\n",
       "      <th></th>\n",
       "      <th></th>\n",
       "      <th></th>\n",
       "    </tr>\n",
       "  </thead>\n",
       "  <tbody>\n",
       "    <tr>\n",
       "      <th rowspan=\"5\" valign=\"top\">powermoe</th>\n",
       "      <th>c4</th>\n",
       "      <td>1.000000</td>\n",
       "      <td>0.978744</td>\n",
       "      <td>0.937798</td>\n",
       "      <td>0.729134</td>\n",
       "      <td>0.679949</td>\n",
       "      <td>0.686345</td>\n",
       "      <td>0.564100</td>\n",
       "      <td>0.823599</td>\n",
       "      <td>0.585133</td>\n",
       "      <td>0.593146</td>\n",
       "      <td>0.800213</td>\n",
       "    </tr>\n",
       "    <tr>\n",
       "      <th>cc2306</th>\n",
       "      <td>0.978744</td>\n",
       "      <td>1.000000</td>\n",
       "      <td>0.929031</td>\n",
       "      <td>0.787864</td>\n",
       "      <td>0.670279</td>\n",
       "      <td>0.663258</td>\n",
       "      <td>0.559120</td>\n",
       "      <td>0.809376</td>\n",
       "      <td>0.571252</td>\n",
       "      <td>0.568623</td>\n",
       "      <td>0.774152</td>\n",
       "    </tr>\n",
       "    <tr>\n",
       "      <th>book</th>\n",
       "      <td>0.937798</td>\n",
       "      <td>0.929031</td>\n",
       "      <td>1.000000</td>\n",
       "      <td>0.674666</td>\n",
       "      <td>0.604702</td>\n",
       "      <td>0.610619</td>\n",
       "      <td>0.488287</td>\n",
       "      <td>0.755546</td>\n",
       "      <td>0.540597</td>\n",
       "      <td>0.519877</td>\n",
       "      <td>0.755625</td>\n",
       "    </tr>\n",
       "    <tr>\n",
       "      <th>wikipedia</th>\n",
       "      <td>0.729134</td>\n",
       "      <td>0.787864</td>\n",
       "      <td>0.674666</td>\n",
       "      <td>1.000000</td>\n",
       "      <td>0.609821</td>\n",
       "      <td>0.557400</td>\n",
       "      <td>0.537901</td>\n",
       "      <td>0.813285</td>\n",
       "      <td>0.492111</td>\n",
       "      <td>0.454688</td>\n",
       "      <td>0.590608</td>\n",
       "    </tr>\n",
       "    <tr>\n",
       "      <th>arxiv</th>\n",
       "      <td>0.679949</td>\n",
       "      <td>0.670279</td>\n",
       "      <td>0.604702</td>\n",
       "      <td>0.609821</td>\n",
       "      <td>1.000000</td>\n",
       "      <td>0.914722</td>\n",
       "      <td>0.883749</td>\n",
       "      <td>0.856527</td>\n",
       "      <td>0.923905</td>\n",
       "      <td>0.897171</td>\n",
       "      <td>0.915194</td>\n",
       "    </tr>\n",
       "    <tr>\n",
       "      <th>...</th>\n",
       "      <th>...</th>\n",
       "      <td>...</td>\n",
       "      <td>...</td>\n",
       "      <td>...</td>\n",
       "      <td>...</td>\n",
       "      <td>...</td>\n",
       "      <td>...</td>\n",
       "      <td>...</td>\n",
       "      <td>...</td>\n",
       "      <td>...</td>\n",
       "      <td>...</td>\n",
       "      <td>...</td>\n",
       "    </tr>\n",
       "    <tr>\n",
       "      <th rowspan=\"5\" valign=\"top\">qwen2</th>\n",
       "      <th>github</th>\n",
       "      <td>0.995873</td>\n",
       "      <td>0.995659</td>\n",
       "      <td>0.993598</td>\n",
       "      <td>0.991678</td>\n",
       "      <td>0.996925</td>\n",
       "      <td>0.998279</td>\n",
       "      <td>1.000000</td>\n",
       "      <td>0.994579</td>\n",
       "      <td>0.992560</td>\n",
       "      <td>0.993134</td>\n",
       "      <td>0.990244</td>\n",
       "    </tr>\n",
       "    <tr>\n",
       "      <th>lmarena</th>\n",
       "      <td>0.995634</td>\n",
       "      <td>0.995559</td>\n",
       "      <td>0.994369</td>\n",
       "      <td>0.993262</td>\n",
       "      <td>0.994733</td>\n",
       "      <td>0.995635</td>\n",
       "      <td>0.994579</td>\n",
       "      <td>1.000000</td>\n",
       "      <td>0.987454</td>\n",
       "      <td>0.991225</td>\n",
       "      <td>0.990327</td>\n",
       "    </tr>\n",
       "    <tr>\n",
       "      <th>math</th>\n",
       "      <td>0.990996</td>\n",
       "      <td>0.990550</td>\n",
       "      <td>0.987398</td>\n",
       "      <td>0.983966</td>\n",
       "      <td>0.992528</td>\n",
       "      <td>0.993363</td>\n",
       "      <td>0.992560</td>\n",
       "      <td>0.987454</td>\n",
       "      <td>1.000000</td>\n",
       "      <td>0.992970</td>\n",
       "      <td>0.989587</td>\n",
       "    </tr>\n",
       "    <tr>\n",
       "      <th>code</th>\n",
       "      <td>0.991311</td>\n",
       "      <td>0.991136</td>\n",
       "      <td>0.987676</td>\n",
       "      <td>0.983942</td>\n",
       "      <td>0.991664</td>\n",
       "      <td>0.993705</td>\n",
       "      <td>0.993134</td>\n",
       "      <td>0.991225</td>\n",
       "      <td>0.992970</td>\n",
       "      <td>1.000000</td>\n",
       "      <td>0.987842</td>\n",
       "    </tr>\n",
       "    <tr>\n",
       "      <th>science</th>\n",
       "      <td>0.992160</td>\n",
       "      <td>0.992390</td>\n",
       "      <td>0.990305</td>\n",
       "      <td>0.985988</td>\n",
       "      <td>0.991286</td>\n",
       "      <td>0.992325</td>\n",
       "      <td>0.990244</td>\n",
       "      <td>0.990327</td>\n",
       "      <td>0.989587</td>\n",
       "      <td>0.987842</td>\n",
       "      <td>1.000000</td>\n",
       "    </tr>\n",
       "  </tbody>\n",
       "</table>\n",
       "<p>220 rows × 11 columns</p>\n",
       "</div>"
      ],
      "text/plain": [
       "dataset                   c4    cc2306      book  wikipedia     arxiv  \\\n",
       "model    dataset                                                        \n",
       "powermoe c4         1.000000  0.978744  0.937798   0.729134  0.679949   \n",
       "         cc2306     0.978744  1.000000  0.929031   0.787864  0.670279   \n",
       "         book       0.937798  0.929031  1.000000   0.674666  0.604702   \n",
       "         wikipedia  0.729134  0.787864  0.674666   1.000000  0.609821   \n",
       "         arxiv      0.679949  0.670279  0.604702   0.609821  1.000000   \n",
       "...                      ...       ...       ...        ...       ...   \n",
       "qwen2    github     0.995873  0.995659  0.993598   0.991678  0.996925   \n",
       "         lmarena    0.995634  0.995559  0.994369   0.993262  0.994733   \n",
       "         math       0.990996  0.990550  0.987398   0.983966  0.992528   \n",
       "         code       0.991311  0.991136  0.987676   0.983942  0.991664   \n",
       "         science    0.992160  0.992390  0.990305   0.985988  0.991286   \n",
       "\n",
       "dataset             stackexchange    github   lmarena      math      code  \\\n",
       "model    dataset                                                            \n",
       "powermoe c4              0.686345  0.564100  0.823599  0.585133  0.593146   \n",
       "         cc2306          0.663258  0.559120  0.809376  0.571252  0.568623   \n",
       "         book            0.610619  0.488287  0.755546  0.540597  0.519877   \n",
       "         wikipedia       0.557400  0.537901  0.813285  0.492111  0.454688   \n",
       "         arxiv           0.914722  0.883749  0.856527  0.923905  0.897171   \n",
       "...                           ...       ...       ...       ...       ...   \n",
       "qwen2    github          0.998279  1.000000  0.994579  0.992560  0.993134   \n",
       "         lmarena         0.995635  0.994579  1.000000  0.987454  0.991225   \n",
       "         math            0.993363  0.992560  0.987454  1.000000  0.992970   \n",
       "         code            0.993705  0.993134  0.991225  0.992970  1.000000   \n",
       "         science         0.992325  0.990244  0.990327  0.989587  0.987842   \n",
       "\n",
       "dataset              science  \n",
       "model    dataset              \n",
       "powermoe c4         0.800213  \n",
       "         cc2306     0.774152  \n",
       "         book       0.755625  \n",
       "         wikipedia  0.590608  \n",
       "         arxiv      0.915194  \n",
       "...                      ...  \n",
       "qwen2    github     0.990244  \n",
       "         lmarena    0.990327  \n",
       "         math       0.989587  \n",
       "         code       0.987842  \n",
       "         science    1.000000  \n",
       "\n",
       "[220 rows x 11 columns]"
      ]
     },
     "execution_count": 14,
     "metadata": {},
     "output_type": "execute_result"
    }
   ],
   "source": [
    "dsedf = (\n",
    "    sedf.pivot(\n",
    "        index=[\"model\", \"is_decoder\", \"layer_idx\", \"expert_idx\"],\n",
    "        columns=\"dataset\",\n",
    "        values=\"act_r\",\n",
    "    )\n",
    "    .groupby(\"model\", observed=True)\n",
    "    .corr()\n",
    ")\n",
    "\n",
    "dsedf"
   ]
  },
  {
   "cell_type": "code",
   "execution_count": 17,
   "id": "80919d70",
   "metadata": {},
   "outputs": [
    {
     "data": {
      "application/vnd.plotly.v1+json": {
       "config": {
        "plotlyServerURL": "https://plot.ly"
       },
       "data": [
        {
         "colorbar": {
          "tickfont": {
           "size": 16
          }
         },
         "colorscale": [
          [
           0,
           "rgb(5,48,97)"
          ],
          [
           0.1,
           "rgb(33,102,172)"
          ],
          [
           0.2,
           "rgb(67,147,195)"
          ],
          [
           0.3,
           "rgb(146,197,222)"
          ],
          [
           0.4,
           "rgb(209,229,240)"
          ],
          [
           0.5,
           "rgb(247,247,247)"
          ],
          [
           0.6,
           "rgb(253,219,199)"
          ],
          [
           0.7,
           "rgb(244,165,130)"
          ],
          [
           0.8,
           "rgb(214,96,77)"
          ],
          [
           0.9,
           "rgb(178,24,43)"
          ],
          [
           1,
           "rgb(103,0,31)"
          ]
         ],
         "hoverinfo": "skip",
         "showscale": true,
         "type": "heatmap",
         "x": [
          "C4",
          "CC",
          "BK",
          "WK",
          "AX",
          "SE",
          "GH",
          "LM",
          "OM",
          "OC",
          "OS"
         ],
         "xaxis": "x",
         "y": [
          "C4",
          "CC",
          "BK",
          "WK",
          "AX",
          "SE",
          "GH",
          "LM",
          "OM",
          "OC",
          "OS"
         ],
         "yaxis": "y",
         "z": {
          "bdata": "AAAAAAAA8D/qQr0pGPrvP6Cual9c8e8/R1uLLjtE7j8/1eaoayvtP36jWN7JRes/4RVZA1836D8Zxh/2ti7uPwT+1Vvp8eg/ViQT/wJ75j8mY9ZPkaLuP+pCvSkY+u8/AAAAAAAA8D9XX86sM/PvP5ZrBeOei+4/unZbnpdI7T8KegIjQk/rP9tONYVyW+g/Xjwtg5hO7j/VfDCrC/foP/2fA2FYc+Y/6u/RDw+h7j+grmpfXPHvP1dfzqwz8+8/AAAAAAAA8D+yvpfa9WDuPzLvwxpsLe0/N+jr3To36z/XypXTHDPoP0r5OHmENe4/XP+cV4zy6D8ZztQ5E2HmP/rL4t+3le4/R1uLLjtE7j+WawXjnovuP7K+l9r1YO4/AAAAAAAA8D/IhsACfzrtP+wq4XUKIes/aO6cZGsl6T8GsHEao5XuP1sjdVg0Pug/DwGX99Dl5T/wAKvKCl/tPz/V5qhrK+0/unZbnpdI7T8y78MabC3tP8iGwAJ/Ou0/AAAAAAAA8D/TezCX+iLuPyuI+vd1tuw/31GgsR4i7z+1XGk3wKPtP8dH6KUN9eo/Ythl985L7z9+o1jeyUXrPwp6AiNCT+s/N+jr3To36z/sKuF1CiHrP9N7MJf6Iu4/AAAAAAAA8D/ezVmoTlLvP6Wwcg+ide4/DFsTHKPx6j8FuRxREJLuPyINgfB24+w/4RVZA1836D/bTjWFclvoP9fKldMcM+g/aO6cZGsl6T8riPr3dbbsP97NWahOUu8/AAAAAAAA8D89F04nBvrsP+Jru8zRduk/LoeaHBzW7j9qaxM2RHnqPxnGH/a2Lu4/Xjwtg5hO7j9K+Th5hDXuPwawcRqjle4/31GgsR4i7z+lsHIPonXuPz0XTicG+uw/AAAAAAAA8D8GqcxVrC7rP3CIh92oBOs/yGeiq4jY7j8E/tVb6fHoP9V8MKsL9+g/XP+cV4zy6D9bI3VYND7oP7VcaTfAo+0/DFsTHKPx6j/ia7vM0XbpPwapzFWsLus/AAAAAAAA8D9ms5ThGkjpP2f1PiYEVu0/ViQT/wJ75j/9nwNhWHPmPxnO1DkTYeY/DwGX99Dl5T/HR+ilDfXqPwW5HFEQku4/LoeaHBzW7j9wiIfdqATrP2azlOEaSOk/AAAAAAAA8D8jLJV7PDzpPyZj1k+Rou4/6u/RDw+h7j/6y+Lft5XuP/AAq8oKX+0/Ythl985L7z8iDYHwduPsP2prEzZEeeo/yGeiq4jY7j9n9T4mBFbtPyMslXs8POk/AAAAAAAA8D8=",
          "dtype": "f8",
          "shape": "11, 11"
         },
         "zmax": 1,
         "zmin": -1
        },
        {
         "colorbar": {
          "tickfont": {
           "size": 16
          }
         },
         "colorscale": [
          [
           0,
           "rgb(5,48,97)"
          ],
          [
           0.1,
           "rgb(33,102,172)"
          ],
          [
           0.2,
           "rgb(67,147,195)"
          ],
          [
           0.3,
           "rgb(146,197,222)"
          ],
          [
           0.4,
           "rgb(209,229,240)"
          ],
          [
           0.5,
           "rgb(247,247,247)"
          ],
          [
           0.6,
           "rgb(253,219,199)"
          ],
          [
           0.7,
           "rgb(244,165,130)"
          ],
          [
           0.8,
           "rgb(214,96,77)"
          ],
          [
           0.9,
           "rgb(178,24,43)"
          ],
          [
           1,
           "rgb(103,0,31)"
          ]
         ],
         "hoverinfo": "skip",
         "showscale": false,
         "type": "heatmap",
         "x": [
          "C4",
          "CC",
          "BK",
          "WK",
          "AX",
          "SE",
          "GH",
          "LM",
          "OM",
          "OC",
          "OS"
         ],
         "xaxis": "x2",
         "y": [
          "C4",
          "CC",
          "BK",
          "WK",
          "AX",
          "SE",
          "GH",
          "LM",
          "OM",
          "OC",
          "OS"
         ],
         "yaxis": "y2",
         "z": {
          "bdata": "AAAAAAAA8D+iOIJWw+/vP+IiCyyDv+8/lDUBqEA37T+/TKjltHPqPzHIfph/7ug/jx+evThP5D85hU+PvmDsP93fkgIBh+k/aBDe4xdF5z9Zf5fSdQLuP6I4glbD7+8/AAAAAAAA8D/jEpgvsbTvP+gBAexPiu0/wFMhA+1m6j+haKcNPcjoP2nlDPMmR+Q//v9pa2tn7D9omWRgwH7pPxOO9mM8Huc/Kkz11FLn7T/iIgssg7/vP+MSmC+xtO8/AAAAAAAA8D9ym7uJR6vsP0Xfjp3Ngek/OdBkYV7v5z8HW2yuVS7jP27vpltOkus/Og5N7hSc6D/uiwE9eDbmP5ZGoNzHeO0/lDUBqEA37T/oAQHsT4rtP3Kbu4lHq+w/AAAAAAAA8D8kAeGY9fXqP6zIj2mIfuk/rIov8GNa5j+zrVgkK9btPwEYlb2VDOo/K9QYNP4F6D+33RqB3ZrsP79MqOW0c+o/wFMhA+1m6j9F346dzYHpPyQB4Zj19eo/AAAAAAAA8D8z9QCIWhbuP334iBw6HOw/sy323jUR7j84CIe19XfvP/b4iD04ZO0/phiuUTt07j8xyH6Yf+7oP6Fopw09yOg/OdBkYV7v5z+syI9piH7pPzP1AIhaFu4/AAAAAAAA8D+8O3dg6vruPxJwkfxGIe4/0WxvaAim7T8eXImOxmnvPz/JUXZj/ew/jx+evThP5D9p5QzzJkfkPwdbbK5VLuM/rIov8GNa5j99+IgcOhzsP7w7d2Dq+u4/AAAAAAAA8D8GaRxUqQjsP0U9uCMpt+s/aPnHwZKt7j/vYiTVKmnpPzmFT4++YOw//v9pa2tn7D9u76ZbTpLrP7OtWCQr1u0/sy323jUR7j8ScJH8RiHuPwZpHFSpCOw/AAAAAAAA8D/6+adH7VjtPx4dpmb+PO0/GALCahpP7j/d35ICAYfpP2iZZGDAfuk/Og5N7hSc6D8BGJW9lQzqPzgIh7X1d+8/0WxvaAim7T9FPbgjKbfrP/r5p0ftWO0/AAAAAAAA8D93SZ7jBjTtP+f5K/x3BO4/aBDe4xdF5z8TjvZjPB7nP+6LAT14NuY/K9QYNP4F6D/2+Ig9OGTtPx5ciY7Gae8/aPnHwZKt7j8eHaZm/jztP3dJnuMGNO0/AAAAAAAA8D/bjpsQxBLsP1l/l9J1Au4/Kkz11FLn7T+WRqDcx3jtP7fdGoHdmuw/phiuUTt07j8/yVF2Y/3sP+9iJNUqaek/GALCahpP7j/n+Sv8dwTuP9uOmxDEEuw/AAAAAAAA8D8=",
          "dtype": "f8",
          "shape": "11, 11"
         },
         "zmax": 1,
         "zmin": -1
        },
        {
         "colorbar": {
          "tickfont": {
           "size": 16
          }
         },
         "colorscale": [
          [
           0,
           "rgb(5,48,97)"
          ],
          [
           0.1,
           "rgb(33,102,172)"
          ],
          [
           0.2,
           "rgb(67,147,195)"
          ],
          [
           0.3,
           "rgb(146,197,222)"
          ],
          [
           0.4,
           "rgb(209,229,240)"
          ],
          [
           0.5,
           "rgb(247,247,247)"
          ],
          [
           0.6,
           "rgb(253,219,199)"
          ],
          [
           0.7,
           "rgb(244,165,130)"
          ],
          [
           0.8,
           "rgb(214,96,77)"
          ],
          [
           0.9,
           "rgb(178,24,43)"
          ],
          [
           1,
           "rgb(103,0,31)"
          ]
         ],
         "hoverinfo": "skip",
         "showscale": false,
         "type": "heatmap",
         "x": [
          "C4",
          "CC",
          "BK",
          "WK",
          "AX",
          "SE",
          "GH",
          "LM",
          "OM",
          "OC",
          "OS"
         ],
         "xaxis": "x3",
         "y": [
          "C4",
          "CC",
          "BK",
          "WK",
          "AX",
          "SE",
          "GH",
          "LM",
          "OM",
          "OC",
          "OS"
         ],
         "yaxis": "y3",
         "z": {
          "bdata": "AAAAAAAA8D+iPLXo3lHvP/9Cp2JxAu4/tWL5ZxBV5z8F9i1VJcLlPxVGD32K9uU/eI7OtRsN4j/xbsza61rqPwVAGP9nueI/A+hdmA374j9XNucWWJvpP6I8tejeUe8/AAAAAAAA8D8aMNOOnrrtP5+HDbguNuk/nylDdO1y5T8UWLHiZznlP84LAs1P5OE/ZALaSWnm6T8bHU4xs0fiP5QkBYEoMuI/HAsp8NrF6D//QqdicQLuPxow046euu0/AAAAAAAA8D+h4U8k3JblPw3QC0+4WeM/tBieLDGK4z+023MuGEDfP/pQVnBvLeg/wLUUqJJM4T/Le9nQ1KLgP2KNEFYVLug/tWL5ZxBV5z+fhw24LjbpP6HhTyTcluU/AAAAAAAA8D9MGdgGqIPjP9tAiGM51uE/TnxI3ns24T82W4hSbQbqP+Ij1Qe/ft8/QsQXIZ0Z3T8SijIjQ+biPwX2LVUlwuU/nylDdO1y5T8N0AtPuFnjP0wZ2Aaog+M/AAAAAAAA8D8+0slvZ0XtP27WmN2rR+w/Bi/qL6to6z+T8yCQoZDtP8wx7Qaftew/q4qau0VJ7T8VRg99ivblPxRYseJnOeU/tBieLDGK4z/bQIhjOdbhPz7SyW9nRe0/AAAAAAAA8D+aYD5xB9fuPyO6u8fn2Os/NaQ2wSWI6j/9vyWi3X/uP/D5/F3sXus/eI7OtRsN4j/OCwLNT+ThP7Tbcy4YQN8/TnxI3ns24T9u1pjdq0fsP5pgPnEH1+4/AAAAAAAA8D+LvOUAVm3qP1W0c3koGOk/GlOoUCDu7T+GLBg2vkPoP/FuzNrrWuo/ZALaSWnm6T/6UFZwby3oPzZbiFJtBuo/Bi/qL6to6z8jurvH59jrP4u85QBWbeo/AAAAAAAA8D9BNsO3bk3nPwOO28RDW+k/gs3qULdP6z8FQBj/Z7niPxsdTjGzR+I/wLUUqJJM4T/iI9UHv37fP5PzIJChkO0/NaQ2wSWI6j9VtHN5KBjpP0E2w7duTec/AAAAAAAA8D/J0NkrP7/rPwoLax34Q+w/A+hdmA374j+UJAWBKDLiP8t72dDUouA/QsQXIZ0Z3T/MMe0Gn7XsP/2/JaLdf+4/GlOoUCDu7T8DjtvEQ1vpP8nQ2Ss/v+s/AAAAAAAA8D826LZ6rozqP1c25xZYm+k/HAsp8NrF6D9ijRBWFS7oPxKKMiND5uI/q4qau0VJ7T/w+fxd7F7rP4YsGDa+Q+g/gs3qULdP6z8KC2sd+EPsPzbotnqujOo/AAAAAAAA8D8=",
          "dtype": "f8",
          "shape": "11, 11"
         },
         "zmax": 1,
         "zmin": -1
        },
        {
         "colorbar": {
          "tickfont": {
           "size": 16
          }
         },
         "colorscale": [
          [
           0,
           "rgb(5,48,97)"
          ],
          [
           0.1,
           "rgb(33,102,172)"
          ],
          [
           0.2,
           "rgb(67,147,195)"
          ],
          [
           0.3,
           "rgb(146,197,222)"
          ],
          [
           0.4,
           "rgb(209,229,240)"
          ],
          [
           0.5,
           "rgb(247,247,247)"
          ],
          [
           0.6,
           "rgb(253,219,199)"
          ],
          [
           0.7,
           "rgb(244,165,130)"
          ],
          [
           0.8,
           "rgb(214,96,77)"
          ],
          [
           0.9,
           "rgb(178,24,43)"
          ],
          [
           1,
           "rgb(103,0,31)"
          ]
         ],
         "hoverinfo": "skip",
         "showscale": false,
         "type": "heatmap",
         "x": [
          "C4",
          "CC",
          "BK",
          "WK",
          "AX",
          "SE",
          "GH",
          "LM",
          "OM",
          "OC",
          "OS"
         ],
         "xaxis": "x4",
         "y": [
          "C4",
          "CC",
          "BK",
          "WK",
          "AX",
          "SE",
          "GH",
          "LM",
          "OM",
          "OC",
          "OS"
         ],
         "yaxis": "y4",
         "z": {
          "bdata": "AAAAAAAA8D9irLSM8TXtP/aaVAJheOc/tdsOyYm34D+sGGOGgEy6v/b/kbwyuay/8x+YQyNq0r9YmslMHDngP4K9opS0+si/xFzhN2Lz0L8giy3TwKvAP2KstIzxNe0/AAAAAAAA8D/jIoEL6hPoP2bhKZp0muQ/6hPiyiNOub+WekP+rLa/v6svhkACo9K/JwBG7J+n1z+adn0bGDbJv7/oSRZIqNG/XzrvP9dvtz/2mlQCYXjnP+MigQvqE+g/AAAAAAAA8D+OfnByb63bPx2DebKoH8C/XWQJiQ1ct7/Vr6ti6WfQv7fcDoGHl9Q/ZnGXebVqxL9OPlakMe3Ov7kJ24k5kbs/tdsOyYm34D9m4SmadJrkP45+cHJvrds/AAAAAAAA8D/129KZSRqzvxywpKe0U8O/mtYgLK2CyL9wB1HMXpDbP8FHJji6YcS/aebJU/hizL9PjJhJ/Kmyv6wYY4aATLq/6hPiyiNOub8dg3myqB/Av/Xb0plJGrO/AAAAAAAA8D8trZsSb02LPz1m34nasbm/DoDYtVZIsL8O8DXiGijgPx7AoAUlOKu/vuROsA4r4z/2/5G8Mrmsv5Z6Q/6str+/XWQJiQ1ct78csKSntFPDvy2tmxJvTYs/AAAAAAAA8D+0YWyCuSPoP17zojYOQtU/mOR6kcROwb9WxxIHyo7YPybcV55iOoa/8x+YQyNq0r+rL4ZAAqPSv9Wvq2LpZ9C/mtYgLK2CyL89Zt+J2rG5v7RhbIK5I+g/AAAAAAAA8D9r4fN1yqK+PwuW7dMAn86/sRHCmo0q2j/LKEG2fyvUv1iayUwcOeA/JwBG7J+n1z+33A6Bh5fUP3AHUcxekNs/DoDYtVZIsL9e86I2DkLVP2vh83XKor4/AAAAAAAA8D/jD5j+QQvSvzaFK30ge2G/SlEWL81Xqz+CvaKUtPrIv5p2fRsYNsm/ZnGXebVqxL/BRyY4umHEvw7wNeIaKOA/mOR6kcROwb8Llu3TAJ/Ov+MPmP5BC9K/AAAAAAAA8D9PSc6cY/2cP7B1rM3UVeE/xFzhN2Lz0L+/6EkWSKjRv04+VqQx7c6/aebJU/hizL8ewKAFJTirv1bHEgfKjtg/sRHCmo0q2j82hSt9IHthv09Jzpxj/Zw/AAAAAAAA8D82N2EwBiDDvyCLLdPAq8A/XzrvP9dvtz+5CduJOZG7P0+MmEn8qbK/vuROsA4r4z8m3FeeYjqGv8soQbZ/K9S/SlEWL81Xqz+wdazN1FXhPzY3YTAGIMO/AAAAAAAA8D8=",
          "dtype": "f8",
          "shape": "11, 11"
         },
         "zmax": 1,
         "zmin": -1
        },
        {
         "colorbar": {
          "tickfont": {
           "size": 16
          }
         },
         "colorscale": [
          [
           0,
           "rgb(5,48,97)"
          ],
          [
           0.1,
           "rgb(33,102,172)"
          ],
          [
           0.2,
           "rgb(67,147,195)"
          ],
          [
           0.3,
           "rgb(146,197,222)"
          ],
          [
           0.4,
           "rgb(209,229,240)"
          ],
          [
           0.5,
           "rgb(247,247,247)"
          ],
          [
           0.6,
           "rgb(253,219,199)"
          ],
          [
           0.7,
           "rgb(244,165,130)"
          ],
          [
           0.8,
           "rgb(214,96,77)"
          ],
          [
           0.9,
           "rgb(178,24,43)"
          ],
          [
           1,
           "rgb(103,0,31)"
          ]
         ],
         "hoverinfo": "skip",
         "showscale": false,
         "type": "heatmap",
         "x": [
          "C4",
          "CC",
          "BK",
          "WK",
          "AX",
          "SE",
          "GH",
          "LM",
          "OM",
          "OC",
          "OS"
         ],
         "xaxis": "x5",
         "y": [
          "C4",
          "CC",
          "BK",
          "WK",
          "AX",
          "SE",
          "GH",
          "LM",
          "OM",
          "OC",
          "OS"
         ],
         "yaxis": "y5",
         "z": {
          "bdata": "AAAAAAAA8D+5IizenY3sP6ZZGgQoGuk/NZNA+yX6xT/UMgRGOYnav5HWhcpbht2/iPq/rIG/4b/ScGCYQ8W7v8JFJqZEGdq/vGmDduPU4L/xfyLiMvqYv7kiLN6djew/AAAAAAAA8D9mr5+MeX3nPyW+HCLL69c/QhR19F8u278/+ChJQMXgv/fE357gM+K/lI2TCENlyb9mZHolW6PZv5zDk/iZHOK/Z5QiU6KGu7+mWRoEKBrpP2avn4x5fec/AAAAAAAA8D/ZO3JgaM/AP47bO3YZgti/bk6qDZ/w2b/USvz5ugDev93yyzIJV72/S+5xTopw1b9yzIyTfkXdv+lzx5MU2ZG/NZNA+yX6xT8lvhwiy+vXP9k7cmBoz8A/AAAAAAAA8D/7TWrzuTPKv+/FOlAyMdO/i4881chqzb8lSjdq4YzRP56y9jmbMsm/tXiimSt81L/K9A6T03nOv9QyBEY5idq/QhR19F8u27+O2zt2GYLYv/tNavO5M8q/AAAAAAAA8D+jhy7wYYneP8thEiUF0Ns/I4B0Y+mp0D91gxn9oPHrP9Lagl1mLOI/rgHF9KfU5z+R1oXKW4bdvz/4KElAxeC/bk6qDZ/w2b/vxTpQMjHTv6OHLvBhid4/AAAAAAAA8D9IzPpqd47uPxFzowdauN8/T6zgeEH41T97Z/RbvB7sP74rrWd2HMM/iPq/rIG/4b/3xN+e4DPiv9RK/Pm6AN6/i4881chqzb/LYRIlBdDbP0jM+mp3ju4/AAAAAAAA8D/TnuLf0r/fP4/5xdouRdI/3TNpgfUs6z+kZjPuibeTP9JwYJhDxbu/lI2TCENlyb/d8ssyCVe9vyVKN2rhjNE/I4B0Y+mp0D8Rc6MHWrjfP9Oe4t/Sv98/AAAAAAAA8D+aNjrtriXAP+3btr8G5Ns/aLzp94izwT/CRSamRBnav2ZkeiVbo9m/S+5xTopw1b+esvY5mzLJv3WDGf2g8es/T6zgeEH41T+P+cXaLkXSP5o2Ou2uJcA/AAAAAAAA8D/En+gcyY/fPyELdDfl/uc/vGmDduPU4L+cw5P4mRziv3LMjJN+Rd2/tXiimSt81L/S2oJdZiziP3tn9Fu8Huw/3TNpgfUs6z/t27a/BuTbP8Sf6BzJj98/AAAAAAAA8D/c9LPx7ErQP/F/IuIy+pi/Z5QiU6KGu7/pc8eTFNmRv8r0DpPTec6/rgHF9KfU5z++K61ndhzDP6RmM+6Jt5M/aLzp94izwT8hC3Q35f7nP9z0s/HsStA/AAAAAAAA8D8=",
          "dtype": "f8",
          "shape": "11, 11"
         },
         "zmax": 1,
         "zmin": -1
        },
        {
         "colorbar": {
          "tickfont": {
           "size": 16
          }
         },
         "colorscale": [
          [
           0,
           "rgb(5,48,97)"
          ],
          [
           0.1,
           "rgb(33,102,172)"
          ],
          [
           0.2,
           "rgb(67,147,195)"
          ],
          [
           0.3,
           "rgb(146,197,222)"
          ],
          [
           0.4,
           "rgb(209,229,240)"
          ],
          [
           0.5,
           "rgb(247,247,247)"
          ],
          [
           0.6,
           "rgb(253,219,199)"
          ],
          [
           0.7,
           "rgb(244,165,130)"
          ],
          [
           0.8,
           "rgb(214,96,77)"
          ],
          [
           0.9,
           "rgb(178,24,43)"
          ],
          [
           1,
           "rgb(103,0,31)"
          ]
         ],
         "hoverinfo": "skip",
         "showscale": false,
         "type": "heatmap",
         "x": [
          "C4",
          "CC",
          "BK",
          "WK",
          "AX",
          "SE",
          "GH",
          "LM",
          "OM",
          "OC",
          "OS"
         ],
         "xaxis": "x6",
         "y": [
          "C4",
          "CC",
          "BK",
          "WK",
          "AX",
          "SE",
          "GH",
          "LM",
          "OM",
          "OC",
          "OS"
         ],
         "yaxis": "y6",
         "z": {
          "bdata": "AAAAAAAA8D+V0yshijDnPyfxqWZQpNQ/tvKkPbyJo79+WyVCre3Xv9yQnYCGxtW/cJnxfcHR278TEO2cg9rOv4yhrrsXCde/yg/W5U9D2L8wpu3aXArKv5XTKyGKMOc/AAAAAAAA8D9NiO2UT1XXP6tSU9JqgcQ/29oqzSD/178o2NAvnTfcv/gHjAHiyN2/bmB0/Cqh1L8W34l7cZLXvypX+cHePN2/3t25mdhb0b8n8almUKTUP02I7ZRPVdc/AAAAAAAA8D++3oKSR0muvyFM0uxxedm/2MCh9mmN2b9zP+0IC0Xav1F1ITpIp9S/exJI80Z71b9B7sr9BCrav2X6qFzYIM+/tvKkPbyJo7+rUlPSaoHEP77egpJHSa6/AAAAAAAA8D/QOKUOYHWuP538BrWo2n4//YxVOMpQrz9vfEVH1GviP6+mC9I0e5C/LIZuiFP9q78KnXUQINmwv35bJUKt7de/29oqzSD/178hTNLscXnZv9A4pQ5gda4/AAAAAAAA8D+/AiSz1QznP3SB0JGvtuY/aFE/eipK4j9jPKyxIDDtPzSm8uwfYek/6SjvjmmV6j/ckJ2AhsbVvyjY0C+dN9y/2MCh9mmN2b+d/Aa1qNp+P78CJLPVDOc/AAAAAAAA8D9LC0N6vOPuPxdTCt6z6uY/3EyhkLa54z/DRbxcuWDuP1pcQp1hpt4/cJnxfcHR27/4B4wB4sjdv3M/7QgLRdq//YxVOMpQrz90gdCRr7bmP0sLQ3q84+4/AAAAAAAA8D/+es1xUd7mP+VsAQ6LduM/ogR/ikzX7T9OfseyyfjZPxMQ7ZyD2s6/bmB0/Cqh1L9RdSE6SKfUv298RUfUa+I/aFE/eipK4j8XUwres+rmP/56zXFR3uY/AAAAAAAA8D8dClLABF3bP9/mOSL4+OQ/9anB/b7J1z+Moa67FwnXvxbfiXtxkte/exJI80Z71b+vpgvSNHuQv2M8rLEgMO0/3EyhkLa54z/lbAEOi3bjPx0KUsAEXds/AAAAAAAA8D/+BtRbQ1nnP/3zDFeFeOo/yg/W5U9D2L8qV/nB3jzdv0Huyv0EKtq/LIZuiFP9q780pvLsH2HpP8NFvFy5YO4/ogR/ikzX7T/f5jki+PjkP/4G1FtDWec/AAAAAAAA8D8oEX6DGk7iPzCm7dpcCsq/3t25mdhb0b9l+qhc2CDPvwqddRAg2bC/6SjvjmmV6j9aXEKdYabeP05+x7LJ+Nk/9anB/b7J1z/98wxXhXjqPygRfoMaTuI/AAAAAAAA8D8=",
          "dtype": "f8",
          "shape": "11, 11"
         },
         "zmax": 1,
         "zmin": -1
        },
        {
         "colorbar": {
          "tickfont": {
           "size": 16
          }
         },
         "colorscale": [
          [
           0,
           "rgb(5,48,97)"
          ],
          [
           0.1,
           "rgb(33,102,172)"
          ],
          [
           0.2,
           "rgb(67,147,195)"
          ],
          [
           0.3,
           "rgb(146,197,222)"
          ],
          [
           0.4,
           "rgb(209,229,240)"
          ],
          [
           0.5,
           "rgb(247,247,247)"
          ],
          [
           0.6,
           "rgb(253,219,199)"
          ],
          [
           0.7,
           "rgb(244,165,130)"
          ],
          [
           0.8,
           "rgb(214,96,77)"
          ],
          [
           0.9,
           "rgb(178,24,43)"
          ],
          [
           1,
           "rgb(103,0,31)"
          ]
         ],
         "hoverinfo": "skip",
         "showscale": false,
         "type": "heatmap",
         "x": [
          "C4",
          "CC",
          "BK",
          "WK",
          "AX",
          "SE",
          "GH",
          "LM",
          "OM",
          "OC",
          "OS"
         ],
         "xaxis": "x7",
         "y": [
          "C4",
          "CC",
          "BK",
          "WK",
          "AX",
          "SE",
          "GH",
          "LM",
          "OM",
          "OC",
          "OS"
         ],
         "yaxis": "y7",
         "z": {
          "bdata": "AAAAAAAA8D/n/fHdT1vsP0SaMRyRuug/VfawLE5swz8KC57qOd7gv8WzKGrWHOK/9omdYL9l5L+5j6aJ0nPPv2CjIfS6fOC/2NBBophU5b/zg0g225DCv+f98d1PW+w/AAAAAAAA8D+jYIUqobTmP3EQEkXR79Y/XHIcn0Dw37+5gUlqUCLjv2eLwOHSt+O/ByaSKb4/0b8fr+guZrXdv/AqSu2SGeW/24b7JAdVyr9EmjEckbroP6NghSqhtOY/AAAAAAAA8D9um0e4zqG7P8ie14wN+9y/0shmFRr+3b/TBBix3obgv3BwaEtCa8m/vAQ84JGw2b9KFS6UAFbhvx6mjdAC5rS/VfawLE5swz9xEBJF0e/WP26bR7jOobs/AAAAAAAA8D+kCedKA1PIvwWlLx0XitG/BFswRVLDx7+nNFv7cv/aP2IeLqyA0cS/Ne7IUxbD0r+9L+dw3O/QvwoLnuo53uC/XHIcn0Dw37/InteMDfvcv6QJ50oDU8i/AAAAAAAA8D/8/hyI20zcP7jqMUPDsNk/mzOZe1N/xD8iMNuKDdnqP1ooeP9o498/Z1JU5cxO5j/Fsyhq1hziv7mBSWpQIuO/0shmFRr+3b8FpS8dF4rRv/z+HIjbTNw/AAAAAAAA8D9drNWNDl/uP9qlYZH6Bds/TfwAyHrF0j/7pi/D7dzrP3GCMeQ/Fq0/9omdYL9l5L9ni8Dh0rfjv9MEGLHehuC/BFswRVLDx7+46jFDw7DZP12s1Y0OX+4/AAAAAAAA8D+u9oSxDWvdP2NlZLaouc4/CR4Zgdog6z8J1/HC8Zy0v7mPponSc8+/ByaSKb4/0b9wcGhLQmvJv6c0W/ty/9o/mzOZe1N/xD/apWGR+gXbP672hLENa90/AAAAAAAA8D/KCYsQqcmXPzZcxqUC+dQ/1vsaB4Dcqb9goyH0unzgvx+v6C5mtd2/vAQ84JGw2b9iHi6sgNHEvyIw24oN2eo/TfwAyHrF0j9jZWS2qLnOP8oJixCpyZc/AAAAAAAA8D8ELPA+4LPaP/EiPWEW++U/2NBBophU5b/wKkrtkhnlv0oVLpQAVuG/Ne7IUxbD0r9aKHj/aOPfP/umL8Pt3Os/CR4Zgdog6z82XMalAvnUPwQs8D7gs9o/AAAAAAAA8D/E74jUBYO6P/ODSDbbkMK/24b7JAdVyr8epo3QAua0v70v53Dc79C/Z1JU5cxO5j9xgjHkPxatPwnX8cLxnLS/1vsaB4Dcqb/xIj1hFvvlP8TviNQFg7o/AAAAAAAA8D8=",
          "dtype": "f8",
          "shape": "11, 11"
         },
         "zmax": 1,
         "zmin": -1
        },
        {
         "colorbar": {
          "tickfont": {
           "size": 16
          }
         },
         "colorscale": [
          [
           0,
           "rgb(5,48,97)"
          ],
          [
           0.1,
           "rgb(33,102,172)"
          ],
          [
           0.2,
           "rgb(67,147,195)"
          ],
          [
           0.3,
           "rgb(146,197,222)"
          ],
          [
           0.4,
           "rgb(209,229,240)"
          ],
          [
           0.5,
           "rgb(247,247,247)"
          ],
          [
           0.6,
           "rgb(253,219,199)"
          ],
          [
           0.7,
           "rgb(244,165,130)"
          ],
          [
           0.8,
           "rgb(214,96,77)"
          ],
          [
           0.9,
           "rgb(178,24,43)"
          ],
          [
           1,
           "rgb(103,0,31)"
          ]
         ],
         "hoverinfo": "skip",
         "showscale": false,
         "type": "heatmap",
         "x": [
          "C4",
          "CC",
          "BK",
          "WK",
          "AX",
          "SE",
          "GH",
          "LM",
          "OM",
          "OC",
          "OS"
         ],
         "xaxis": "x8",
         "y": [
          "C4",
          "CC",
          "BK",
          "WK",
          "AX",
          "SE",
          "GH",
          "LM",
          "OM",
          "OC",
          "OS"
         ],
         "yaxis": "y8",
         "z": {
          "bdata": "AAAAAAAA8D/ofg/N5q3pPxN8/iv4S+g/dq+O74GG4z8eVV2N94blP9CrK1vTAOc/vGJ0XBo94j8Ooc+5nfbkPy40/SuFVs8/YGic8U9Syz8NdZ+qeNjgP+h+D83mrek/AAAAAAAA8D9LaPvcuFLnP9oo3h+Dreg/e9667r4f5j8M1p3oexLnP4ksHLwV0OQ/A4/+6HCv4j8LhdnzVo3WP5mts2zCWdA/fKw+I0TG4D8TfP4r+EvoP0to+9y4Uuc/AAAAAAAA8D8nMoLoPQjdP4lHZOxOd+M/8+kSEDd24j83UA2a+9ndP3tw3IrkmeQ/AE6PqI3d0z+aPKcolvnDP4J716uw6OI/dq+O74GG4z/aKN4fg63oPycygug9CN0/AAAAAAAA8D8PphTkPsrkP7kER1iDQ+U/Vj7qO71g5T/R/JVn9LXkP+54SNRJKM0/r01bG3jd0T+Bf3NYukTVPx5VXY33huU/e9667r4f5j+JR2TsTnfjPw+mFOQ+yuQ/AAAAAAAA8D9jfEjOKhHqP1vqaS9Kqec/6J3EMff15z+CMNeLtATePw6mfk20w9w/VUDLngvL4j/Qqytb0wDnPwzWneh7Euc/8+kSEDd24j+5BEdYg0PlP2N8SM4qEeo/AAAAAAAA8D8BYgI01hvqP9mBEh6zweY/xZpMRZuL2z907l2QUIveP2m4P6/Hh+I/vGJ0XBo94j+JLBy8FdDkPzdQDZr72d0/Vj7qO71g5T9b6mkvSqnnPwFiAjTWG+o/AAAAAAAA8D94X0vdETvmP6FMVIJ07ck/yYhAnYXE1D+gNXzpydraPw6hz7md9uQ/A4/+6HCv4j97cNyK5JnkP9H8lWf0teQ/6J3EMff15z/ZgRIes8HmP3hfS90RO+Y/AAAAAAAA8D9jbmOGgHXOP0jq9hSwG9Y/QebRGdxE4T8uNP0rhVbPPwuF2fNWjdY/AE6PqI3d0z/ueEjUSSjNP4Iw14u0BN4/xZpMRZuL2z+hTFSCdO3JP2NuY4aAdc4/AAAAAAAA8D++VmHHnMbaPyxGVuvYP+M/YGic8U9Syz+ZrbNswlnQP5o8pyiW+cM/r01bG3jd0T8Opn5NtMPcP3TuXZBQi94/yYhAnYXE1D9I6vYUsBvWP75WYcecxto/AAAAAAAA8D8BmugLybjYPw11n6p42OA/fKw+I0TG4D+Ce9ersOjiP4F/c1i6RNU/VUDLngvL4j9puD+vx4fiP6A1fOnJ2to/QebRGdxE4T8sRlbr2D/jPwGa6AvJuNg/AAAAAAAA8D8=",
          "dtype": "f8",
          "shape": "11, 11"
         },
         "zmax": 1,
         "zmin": -1
        },
        {
         "colorbar": {
          "tickfont": {
           "size": 16
          }
         },
         "colorscale": [
          [
           0,
           "rgb(5,48,97)"
          ],
          [
           0.1,
           "rgb(33,102,172)"
          ],
          [
           0.2,
           "rgb(67,147,195)"
          ],
          [
           0.3,
           "rgb(146,197,222)"
          ],
          [
           0.4,
           "rgb(209,229,240)"
          ],
          [
           0.5,
           "rgb(247,247,247)"
          ],
          [
           0.6,
           "rgb(253,219,199)"
          ],
          [
           0.7,
           "rgb(244,165,130)"
          ],
          [
           0.8,
           "rgb(214,96,77)"
          ],
          [
           0.9,
           "rgb(178,24,43)"
          ],
          [
           1,
           "rgb(103,0,31)"
          ]
         ],
         "hoverinfo": "skip",
         "showscale": false,
         "type": "heatmap",
         "x": [
          "C4",
          "CC",
          "BK",
          "WK",
          "AX",
          "SE",
          "GH",
          "LM",
          "OM",
          "OC",
          "OS"
         ],
         "xaxis": "x9",
         "y": [
          "C4",
          "CC",
          "BK",
          "WK",
          "AX",
          "SE",
          "GH",
          "LM",
          "OM",
          "OC",
          "OS"
         ],
         "yaxis": "y9",
         "z": {
          "bdata": "AAAAAAAA8D9cCaH7qL7tPwCXB5XWrOk/6Dpl1vtz1j/5Ze34kS7gP9x2Cl8ZCd8/OGKY7Km6yz+V9I5vEkTXP0UtETlaQME/CPswGCWNwj9HB6kc1KjfP1wJofuovu0/AAAAAAAA8D+liBQMpWrpP4ahVnoM/9w/XzVncHdM4T+NKehkMXXgP4CfcioVINU/BrmInILX1z+A05SND2XDP0VbDKfbS8s/Y2gdpngr4D8AlweV1qzpP6WIFAylauk/AAAAAAAA8D8OOCs4J9bTP73dodOYI90/lnh/J0ne3D9yAj3ROS3NP9WjConpYdg/0nxGjCBkzj/BuMjWXDrJP4OBY9ix7eE/6Dpl1vtz1j+GoVZ6DP/cPw44Kzgn1tM/AAAAAAAA8D/PbxBQmjPdP5LmDZ2K2dk/oK//CZrh4D/Ee30LSBvnPymoyvjby7U/2hpG0PYJxz8pUChzYB6+P/ll7fiRLuA/XzVncHdM4T+93aHTmCPdP89vEFCaM90/AAAAAAAA8D+eGPWNBwrqP0FHK9bTbeQ/C7NewZVC4z9UyhM5AjrkPznZsUfoVeA/wuLZO0AQ5D/cdgpfGQnfP40p6GQxdeA/lnh/J0ne3D+S5g2ditnZP54Y9Y0HCuo/AAAAAAAA8D8eWt3nZY7pP3Tz8/KJF+Q/u6M71kTi3z8V4nxQqW3iP8dJQXEqo+I/OGKY7Km6yz+An3IqFSDVP3ICPdE5Lc0/oK//CZrh4D9BRyvW023kPx5a3edljuk/AAAAAAAA8D8yPG3ehnjlP5cS67HNWtE/cEu9uG1y4j/SiuOVg6XQP5X0jm8SRNc/BrmInILX1z/VowqJ6WHYP8R7fQtIG+c/C7NewZVC4z908/PyiRfkPzI8bd6GeOU/AAAAAAAA8D9iSWAqhtHSP81nwmwGptw/SRmPhmvZ1j9FLRE5WkDBP4DTlI0PZcM/0nxGjCBkzj8pqMr428u1P1TKEzkCOuQ/u6M71kTi3z+XEuuxzVrRP2JJYCqG0dI/AAAAAAAA8D++RrTA0j/gP7qpsGJv0eM/CPswGCWNwj9FWwyn20vLP8G4yNZcOsk/2hpG0PYJxz852bFH6FXgPxXifFCpbeI/cEu9uG1y4j/NZ8JsBqbcP75GtMDSP+A/AAAAAAAA8D9kNEmJPZDXP0cHqRzUqN8/Y2gdpngr4D+DgWPYse3hPylQKHNgHr4/wuLZO0AQ5D/HSUFxKqPiP9KK45WDpdA/SRmPhmvZ1j+6qbBib9HjP2Q0SYk9kNc/AAAAAAAA8D8=",
          "dtype": "f8",
          "shape": "11, 11"
         },
         "zmax": 1,
         "zmin": -1
        },
        {
         "colorbar": {
          "tickfont": {
           "size": 16
          }
         },
         "colorscale": [
          [
           0,
           "rgb(5,48,97)"
          ],
          [
           0.1,
           "rgb(33,102,172)"
          ],
          [
           0.2,
           "rgb(67,147,195)"
          ],
          [
           0.3,
           "rgb(146,197,222)"
          ],
          [
           0.4,
           "rgb(209,229,240)"
          ],
          [
           0.5,
           "rgb(247,247,247)"
          ],
          [
           0.6,
           "rgb(253,219,199)"
          ],
          [
           0.7,
           "rgb(244,165,130)"
          ],
          [
           0.8,
           "rgb(214,96,77)"
          ],
          [
           0.9,
           "rgb(178,24,43)"
          ],
          [
           1,
           "rgb(103,0,31)"
          ]
         ],
         "hoverinfo": "skip",
         "showscale": false,
         "type": "heatmap",
         "x": [
          "C4",
          "CC",
          "BK",
          "WK",
          "AX",
          "SE",
          "GH",
          "LM",
          "OM",
          "OC",
          "OS"
         ],
         "xaxis": "x10",
         "y": [
          "C4",
          "CC",
          "BK",
          "WK",
          "AX",
          "SE",
          "GH",
          "LM",
          "OM",
          "OC",
          "OS"
         ],
         "yaxis": "y10",
         "z": {
          "bdata": "AAAAAAAA8D+8sbQYcOnXP0Tce1RXrdQ/18LBvZ5+0r9K9o7naxy0P7lQNvu3ptA/Jshbba1KYT+XjGk7GkWWPyqZYrWLTsu/aaickkRkuL8qhm9MhW/FP7yxtBhw6dc/AAAAAAAA8D8hcgukWYXKP0yY+OnoqcU/DT7BmtxxtT95B+R7s5+1PxwPoSz+M7U/mZfpAFdVt790+lBBF4XEv1Quun1auJ6/pg/XawnpqL9E3HtUV63UPyFyC6RZhco/AAAAAAAA8D+WJgWTQZjQvxnA9wHLb4Q/PDqrvgSElj+VMKFgt5/Avw9w1XVVj5q/U7Wq1G5oiD/4AfnNziq1vw4n/BrYhs0/18LBvZ5+0r9MmPjp6KnFP5YmBZNBmNC/AAAAAAAA8D8rq0WRrBi/P/b7ccMaLMa/YYdHeebsvD9VAPrf0nPgP0AKDUGNWqY/WLmETWeZnT/Dise118TPv0r2judrHLQ/DT7BmtxxtT8ZwPcBy2+EPyurRZGsGL8/AAAAAAAA8D9xPm9darHiP5KaCfME4eI/P3FShEnx1T8F2LGB6v7VP9fyet7MtN8/zluRhrp22z+5UDb7t6bQP3kH5Huzn7U/PDqrvgSElj/2+3HDGizGv3E+b11qseI/AAAAAAAA8D9rr/hAVLnpP5jhqbAI8rk/OfmNJO2BkD+b/n++5v7UP3rmATSVuto/Jshbba1KYT8cD6Es/jO1P5UwoWC3n8C/YYdHeebsvD+SmgnzBOHiP2uv+EBUuek/AAAAAAAA8D9d4/+0ZCrOP37QzTuNGqQ/xQQwtLru1D8d6J1WLgvMP5eMaTsaRZY/mZfpAFdVt78PcNV1VY+av1UA+t/Sc+A/P3FShEnx1T+Y4amwCPK5P13j/7RkKs4/AAAAAAAA8D9lzdneU66FP50Uzp58OdE/3xrg66GbzD8qmWK1i07Lv3T6UEEXhcS/U7Wq1G5oiD9ACg1BjVqmPwXYsYHq/tU/OfmNJO2BkD9+0M07jRqkP2XN2d5TroU/AAAAAAAA8D8BbxjHtPneP5jZjTewC9E/aaickkRkuL9ULrp9Wriev/gB+c3OKrW/WLmETWeZnT/X8nrezLTfP5v+f77m/tQ/xQQwtLru1D+dFM6efDnRPwFvGMe0+d4/AAAAAAAA8D/9UXm8/+nSPyqGb0yFb8U/pg/XawnpqL8OJ/wa2IbNP8OKx7XXxM+/zluRhrp22z965gE0lbraPx3onVYuC8w/3xrg66GbzD+Y2Y03sAvRP/1Rebz/6dI/AAAAAAAA8D8=",
          "dtype": "f8",
          "shape": "11, 11"
         },
         "zmax": 1,
         "zmin": -1
        },
        {
         "colorbar": {
          "tickfont": {
           "size": 16
          }
         },
         "colorscale": [
          [
           0,
           "rgb(5,48,97)"
          ],
          [
           0.1,
           "rgb(33,102,172)"
          ],
          [
           0.2,
           "rgb(67,147,195)"
          ],
          [
           0.3,
           "rgb(146,197,222)"
          ],
          [
           0.4,
           "rgb(209,229,240)"
          ],
          [
           0.5,
           "rgb(247,247,247)"
          ],
          [
           0.6,
           "rgb(253,219,199)"
          ],
          [
           0.7,
           "rgb(244,165,130)"
          ],
          [
           0.8,
           "rgb(214,96,77)"
          ],
          [
           0.9,
           "rgb(178,24,43)"
          ],
          [
           1,
           "rgb(103,0,31)"
          ]
         ],
         "hoverinfo": "skip",
         "showscale": false,
         "type": "heatmap",
         "x": [
          "C4",
          "CC",
          "BK",
          "WK",
          "AX",
          "SE",
          "GH",
          "LM",
          "OM",
          "OC",
          "OS"
         ],
         "xaxis": "x11",
         "y": [
          "C4",
          "CC",
          "BK",
          "WK",
          "AX",
          "SE",
          "GH",
          "LM",
          "OM",
          "OC",
          "OS"
         ],
         "yaxis": "y11",
         "z": {
          "bdata": "AAAAAAAA8D8xEBASop/vP8VSd+au1u4/2d6jr3gt7T94/nkFhXrsPzpoxP+3/Ow/Oe+OiMNl6j/U+cO1QAPqPww0phfSm+Q/TwwLwJsX5T9mPTCgsNjnPzEQEBKin+8/AAAAAAAA8D86t951zAfvP7gP9Mw8d+0/nLmEPlgb7T8TTQG2QDDtP6l4EMYTk+o/rEGi0KRM6j9m/Xd9HO3lP9xZTLkg6+U/cCYRnBID6T/FUnfmrtbuPzq33nXMB+8/AAAAAAAA8D8p4H2pEHnsPyhLVJA0mOw/aoqsWtId7T+gXMI0aO/qPyoGdtoQvOo/hCpRasHR5D/edNAAzpjlPznHkkC8Y+k/2d6jr3gt7T+4D/TMPHftPyngfakQeew/AAAAAAAA8D+OdrUSasHsP9kkgFZp0+s/WbgRyB756j/GDYTe4AzsP7t61XwI7uQ/GyaZmCYQ4z8Kg09LxF7nP3j+eQWFeuw/nLmEPlgb7T8oS1SQNJjsP452tRJqwew/AAAAAAAA8D9itWksdzPuP4jF5UMR0ew/9Y2dLa2M6z9SpX9rOuDnP+MJUCEgFec/uqpwsHub6D86aMT/t/zsPxNNAbZAMO0/aoqsWtId7T/ZJIBWadPrP2K1aSx3M+4/AAAAAAAA8D+5HZWbOzHuP9ptYZuOZes/38qA3bQx5j+BYftMFJXoP/khgZNd4Og/Oe+OiMNl6j+peBDGE5PqP6BcwjRo7+o/WbgRyB756j+IxeVDEdHsP7kdlZs7Me4/AAAAAAAA8D8aJyCCS6DsPy1gehBeZ+I/iot4tvFt5D/rsiNiAvDmP9T5w7VAA+o/rEGi0KRM6j8qBnbaELzqP8YNhN7gDOw/9Y2dLa2M6z/abWGbjmXrPxonIIJLoOw/AAAAAAAA8D8J8iRyQ2DhP8X47oP+3OE/yEBY2f6o6D8MNKYX0pvkP2b9d30c7eU/hCpRasHR5D+7etV8CO7kP1Klf2s64Oc/38qA3bQx5j8tYHoQXmfiPwnyJHJDYOE/AAAAAAAA8D/NH1/zQRfoP7AWJ/USCeY/TwwLwJsX5T/cWUy5IOvlP9500ADOmOU/GyaZmCYQ4z/jCVAhIBXnP4Fh+0wUleg/iot4tvFt5D/F+O6D/tzhP80fX/NBF+g/AAAAAAAA8D9DAjdFbfTlP2Y9MKCw2Oc/cCYRnBID6T85x5JAvGPpPwqDT0vEXuc/uqpwsHub6D/5IYGTXeDoP+uyI2IC8OY/yEBY2f6o6D+wFif1EgnmP0MCN0Vt9OU/AAAAAAAA8D8=",
          "dtype": "f8",
          "shape": "11, 11"
         },
         "zmax": 1,
         "zmin": -1
        },
        {
         "colorbar": {
          "tickfont": {
           "size": 16
          }
         },
         "colorscale": [
          [
           0,
           "rgb(5,48,97)"
          ],
          [
           0.1,
           "rgb(33,102,172)"
          ],
          [
           0.2,
           "rgb(67,147,195)"
          ],
          [
           0.3,
           "rgb(146,197,222)"
          ],
          [
           0.4,
           "rgb(209,229,240)"
          ],
          [
           0.5,
           "rgb(247,247,247)"
          ],
          [
           0.6,
           "rgb(253,219,199)"
          ],
          [
           0.7,
           "rgb(244,165,130)"
          ],
          [
           0.8,
           "rgb(214,96,77)"
          ],
          [
           0.9,
           "rgb(178,24,43)"
          ],
          [
           1,
           "rgb(103,0,31)"
          ]
         ],
         "hoverinfo": "skip",
         "showscale": false,
         "type": "heatmap",
         "x": [
          "C4",
          "CC",
          "BK",
          "WK",
          "AX",
          "SE",
          "GH",
          "LM",
          "OM",
          "OC",
          "OS"
         ],
         "xaxis": "x12",
         "y": [
          "C4",
          "CC",
          "BK",
          "WK",
          "AX",
          "SE",
          "GH",
          "LM",
          "OM",
          "OC",
          "OS"
         ],
         "yaxis": "y12",
         "z": {
          "bdata": "AAAAAAAA8D/4yy3mYX3rP6IjybiUBug/emox17D42T+zPia7XUjHP5p0Qb9vs8Q/TaUdW2Xnr78avZse+Q/VPxiKCylJFJM/vQAQ0Eo7pj/ucKj3XPzXP/jLLeZhfes/AAAAAAAA8D/PJKAPKSvoP3ZH8ipQMuI/UnZo1Dd3vj8ky0NoJDieP5gnjA78E8G/bejh6qHwxD+kbvj35TGiv2ynpfA7YKm/hHOhYbbh0D+iI8m4lAboP88koA8pK+g/AAAAAAAA8D/U2qSddkrXP9EjjLkMPbU/KaexZbqJkT95reuN7ZXFvwj0DUwBLss/Bs5wN4lqjL+ZH40X6Vitv7v6YVFHrdU/emox17D42T92R/IqUDLiP9TapJ12Stc/AAAAAAAA8D9BC2b7GRLJPx1yCenjo8I//qCpT+SLuj/jDPJq4nzWPzrRoZdTbrE/sLnPXRCfsj9DstUY4H3CP7M+JrtdSMc/UnZo1Dd3vj/RI4y5DD21P0ELZvsZEsk/AAAAAAAA8D/qjrkPBRvjPxeAptJOxeA/1dFxjNmK4j8smQaBhlvlP0EtG4QbneM/OdsEDMj25z+adEG/b7PEPyTLQ2gkOJ4/KaexZbqJkT8dcgnp46PCP+qOuQ8FG+M/AAAAAAAA8D8de9r6D6HsP6+LedNOZ+c/ZM9D/ybT2D9QHwuPMwHnP5Kt/dV3ytw/TaUdW2Xnr7+YJ4wO/BPBv3mt643tlcW//qCpT+SLuj8XgKbSTsXgPx172voPoew/AAAAAAAA8D9ZHsX33X/jPwl7tDNfYtI/5Q+ODT8J5j8XD3KoaYLOPxq9mx75D9U/bejh6qHwxD8I9A1MAS7LP+MM8mrifNY/1dFxjNmK4j+vi3nTTmfnP1kexffdf+M/AAAAAAAA8D/8DME7wEPVP2p1IQCzeeM/VqJ9Zi4i4T8YigspSRSTP6Ru+PflMaK/Bs5wN4lqjL860aGXU26xPyyZBoGGW+U/ZM9D/ybT2D8Je7QzX2LSP/wMwTvAQ9U/AAAAAAAA8D8gFKqYI/ThP1jFo5FYcuY/vQAQ0Eo7pj9sp6XwO2Cpv5kfjRfpWK2/sLnPXRCfsj9BLRuEG53jP1AfC48zAec/5Q+ODT8J5j9qdSEAs3njPyAUqpgj9OE/AAAAAAAA8D/wPGsZ9i/dP+5wqPdc/Nc/hHOhYbbh0D+7+mFRR63VP0Oy1RjgfcI/OdsEDMj25z+Srf3Vd8rcPxcPcqhpgs4/VqJ9Zi4i4T9YxaORWHLmP/A8axn2L90/AAAAAAAA8D8=",
          "dtype": "f8",
          "shape": "11, 11"
         },
         "zmax": 1,
         "zmin": -1
        },
        {
         "colorbar": {
          "tickfont": {
           "size": 16
          }
         },
         "colorscale": [
          [
           0,
           "rgb(5,48,97)"
          ],
          [
           0.1,
           "rgb(33,102,172)"
          ],
          [
           0.2,
           "rgb(67,147,195)"
          ],
          [
           0.3,
           "rgb(146,197,222)"
          ],
          [
           0.4,
           "rgb(209,229,240)"
          ],
          [
           0.5,
           "rgb(247,247,247)"
          ],
          [
           0.6,
           "rgb(253,219,199)"
          ],
          [
           0.7,
           "rgb(244,165,130)"
          ],
          [
           0.8,
           "rgb(214,96,77)"
          ],
          [
           0.9,
           "rgb(178,24,43)"
          ],
          [
           1,
           "rgb(103,0,31)"
          ]
         ],
         "hoverinfo": "skip",
         "showscale": false,
         "type": "heatmap",
         "x": [
          "C4",
          "CC",
          "BK",
          "WK",
          "AX",
          "SE",
          "GH",
          "LM",
          "OM",
          "OC",
          "OS"
         ],
         "xaxis": "x13",
         "y": [
          "C4",
          "CC",
          "BK",
          "WK",
          "AX",
          "SE",
          "GH",
          "LM",
          "OM",
          "OC",
          "OS"
         ],
         "yaxis": "y13",
         "z": {
          "bdata": "AAAAAAAA8D+kUcpYX17tP0fnNnX3Hes/dAas7SsD3j/4/pkplPvkP4aUNi0qweI/Lul0LDlE4j+KmElW9FrkP+v9lEWgD9o/oO6/feU53D+67tzbFDPkP6RRylhfXu0/AAAAAAAA8D8oWrAASZDqPwOFDAv6Z+M/RUzNDB4u6D+34fETExHlP3/bFzClL+U/ClMlW1HO5T81/fcrWivfP/XlhVsi098/gIfKxkgB5j9H5zZ19x3rPyhasABJkOo/AAAAAAAA8D+Q1v0sv03YP7f3MySqDuQ/hTBoNRR44T+H64FSlNPgP4Mjt0wXq+M/bHwz0kUE2D8B0n0z+tbZP/0/P6wU/eQ/dAas7SsD3j8DhQwL+mfjP5DW/Sy/Tdg/AAAAAAAA8D8cULtKUiLiP6Rv4cgJ690/B6scBrER4T8VhEUhsrbmP7Lsg3kNDtk/C4WB2eA61T9pNngtWY/YP/j+mSmU++Q/RUzNDB4u6D+39zMkqg7kPxxQu0pSIuI/AAAAAAAA8D8n63sYzD/rPx5TuQblS+s/qesXmoyl6D+ilSOMBVroP1D7gZ7GoOY/W3YnqsZs6T+GlDYtKsHiP7fh8RMTEeU/hTBoNRR44T+kb+HICevdPyfrexjMP+s/AAAAAAAA8D9zlEZKVIXuPxHxGXgEFuk/+31yjD/S5D8yRk8bANTqP+DdOdcdJec/Lul0LDlE4j9/2xcwpS/lP4frgVKU0+A/B6scBrER4T8eU7kG5UvrP3OURkpUhe4/AAAAAAAA8D+5VRE9T67pP5T5g5AC9uI/BMpruInV6T8WweiSoYDlP4qYSVb0WuQ/ClMlW1HO5T+DI7dMF6vjPxWERSGytuY/qesXmoyl6D8R8Rl4BBbpP7lVET1Pruk/AAAAAAAA8D835a5eAdPgP8A7F2g6GuY/7VwFN7BG5T/r/ZRFoA/aPzX99ytaK98/bHwz0kUE2D+y7IN5DQ7ZP6KVI4wFWug/+31yjD/S5D+U+YOQAvbiPzflrl4B0+A/AAAAAAAA8D+OlwbujSvkP62miYNND+k/oO6/feU53D/15YVbItPfPwHSfTP61tk/C4WB2eA61T9Q+4GexqDmPzJGTxsA1Oo/BMpruInV6T/AOxdoOhrmP46XBu6NK+Q/AAAAAAAA8D8hV5fg6mrkP7ru3NsUM+Q/gIfKxkgB5j/9Pz+sFP3kP2k2eC1Zj9g/W3YnqsZs6T/g3TnXHSXnPxbB6JKhgOU/7VwFN7BG5T+tpomDTQ/pPyFXl+DqauQ/AAAAAAAA8D8=",
          "dtype": "f8",
          "shape": "11, 11"
         },
         "zmax": 1,
         "zmin": -1
        },
        {
         "colorbar": {
          "tickfont": {
           "size": 16
          }
         },
         "colorscale": [
          [
           0,
           "rgb(5,48,97)"
          ],
          [
           0.1,
           "rgb(33,102,172)"
          ],
          [
           0.2,
           "rgb(67,147,195)"
          ],
          [
           0.3,
           "rgb(146,197,222)"
          ],
          [
           0.4,
           "rgb(209,229,240)"
          ],
          [
           0.5,
           "rgb(247,247,247)"
          ],
          [
           0.6,
           "rgb(253,219,199)"
          ],
          [
           0.7,
           "rgb(244,165,130)"
          ],
          [
           0.8,
           "rgb(214,96,77)"
          ],
          [
           0.9,
           "rgb(178,24,43)"
          ],
          [
           1,
           "rgb(103,0,31)"
          ]
         ],
         "hoverinfo": "skip",
         "showscale": false,
         "type": "heatmap",
         "x": [
          "C4",
          "CC",
          "BK",
          "WK",
          "AX",
          "SE",
          "GH",
          "LM",
          "OM",
          "OC",
          "OS"
         ],
         "xaxis": "x14",
         "y": [
          "C4",
          "CC",
          "BK",
          "WK",
          "AX",
          "SE",
          "GH",
          "LM",
          "OM",
          "OC",
          "OS"
         ],
         "yaxis": "y14",
         "z": {
          "bdata": "AAAAAAAA8D+2be3YBC/jP6jJv9tv4N0/qleHO0R8sz9cxeqy8lpfv8p1SI/bFqw/LHVdyZK0ur9R2MLRb9/KP7X6hv60r7+/5Lzuzgw+k7/SIScH7b/FP7Zt7dgEL+M/AAAAAAAA8D8UveGvovveP+7oPt+sN9o/21OgP7cZaT/tdTlDkJC5v12e9DBzir6/8WnCxv6YkD+1DN8Uer69v4Z7NYEomre/Mx0NGrFErz+oyb/bb+DdPxS94a+i+94/AAAAAAAA8D9ou2aVDfDAP/rEDNZvh7i/m/04eV/yur+C7QlrI3nHvyiSHe2+dKQ/x8TFD2MLwL/VTmLI+FDAv9LQxMlWRcI/qleHO0R8sz/u6D7frDfaP2i7ZpUN8MA/AAAAAAAA8D8al1XgYaKoPy2eXsimBKe/s+gUP+PBqj/IdZHn77XQPx0Vjuu0abW/GQEd2tIarb9z6uFtER+uv1zF6rLyWl+/21OgP7cZaT/6xAzWb4e4vxqXVeBhoqg/AAAAAAAA8D/H5sjXYFniPxnyvzvFyuI/JrfSo7tD4D/3oqJ+pwPnP2dznsvIoeM/goprtqM35j/KdUiP2xasP+11OUOQkLm/m/04eV/yur8tnl7IpgSnv8fmyNdgWeI/AAAAAAAA8D+UaxdWXBrtPwcIO9ETFOU/A+7s6A5c1j+WBk0QqLDoP+28SW40edg/LHVdyZK0ur9dnvQwc4q+v4LtCWsjece/s+gUP+PBqj8Z8r87xcriP5RrF1ZcGu0/AAAAAAAA8D/3YqgkivHkPyQIlSfLRtM/6IV4cLSj5z+xgMWY6NXQP1HYwtFv38o/8WnCxv6YkD8okh3tvnSkP8h1kefvtdA/JrfSo7tD4D8HCDvRExTlP/diqCSK8eQ/AAAAAAAA8D8UKBt0H9bJP3+O/LRa1OM/FSVTUXTC2T+1+ob+tK+/v7UM3xR6vr2/x8TFD2MLwL8dFY7rtGm1v/eion6nA+c/A+7s6A5c1j8kCJUny0bTPxQoG3Qf1sk/AAAAAAAA8D+yKp2FXqDhP7ZmSxwqVeY/5Lzuzgw+k7+GezWBKJq3v9VOYsj4UMC/GQEd2tIarb9nc57LyKHjP5YGTRCosOg/6IV4cLSj5z9/jvy0WtTjP7IqnYVeoOE/AAAAAAAA8D/fK++Ku9XeP9IhJwftv8U/Mx0NGrFErz/S0MTJVkXCP3Pq4W0RH66/goprtqM35j/tvEluNHnYP7GAxZjo1dA/FSVTUXTC2T+2ZkscKlXmP98r74q71d4/AAAAAAAA8D8=",
          "dtype": "f8",
          "shape": "11, 11"
         },
         "zmax": 1,
         "zmin": -1
        },
        {
         "colorbar": {
          "tickfont": {
           "size": 16
          }
         },
         "colorscale": [
          [
           0,
           "rgb(5,48,97)"
          ],
          [
           0.1,
           "rgb(33,102,172)"
          ],
          [
           0.2,
           "rgb(67,147,195)"
          ],
          [
           0.3,
           "rgb(146,197,222)"
          ],
          [
           0.4,
           "rgb(209,229,240)"
          ],
          [
           0.5,
           "rgb(247,247,247)"
          ],
          [
           0.6,
           "rgb(253,219,199)"
          ],
          [
           0.7,
           "rgb(244,165,130)"
          ],
          [
           0.8,
           "rgb(214,96,77)"
          ],
          [
           0.9,
           "rgb(178,24,43)"
          ],
          [
           1,
           "rgb(103,0,31)"
          ]
         ],
         "hoverinfo": "skip",
         "showscale": false,
         "type": "heatmap",
         "x": [
          "C4",
          "CC",
          "BK",
          "WK",
          "AX",
          "SE",
          "GH",
          "LM",
          "OM",
          "OC",
          "OS"
         ],
         "xaxis": "x15",
         "y": [
          "C4",
          "CC",
          "BK",
          "WK",
          "AX",
          "SE",
          "GH",
          "LM",
          "OM",
          "OC",
          "OS"
         ],
         "yaxis": "y15",
         "z": {
          "bdata": "AAAAAAAA8D8zKMQOrLnfP3ao+iptu9o/vDdmZYRxjr9XAOysyul7PyBEi1FVh6g/aEvywvUsvb/EHxvaSS69P2ZwwhcmP7i/ekCiCrWalb9bqunO1J7DPzMoxA6sud8/AAAAAAAA8D9Hme3Fgu3YPzBQK3GF9dU/UgoBhKkkgT+SRAmKVVHBv0qsLrmUvsG/XIVJ4vR7t7/ejVSKJ/y9vz5CajNRir6/gRs1UwizpT92qPoqbbvaP0eZ7cWC7dg/AAAAAAAA8D9phYyYzDuXP3JeiHiv7LW/ODivS1WTv781Rnj79afKv211voK4zZW/iMsMcv8Eur+I9zdQXsu/v4U+Fr+MDsE/vDdmZYRxjr8wUCtxhfXVP2mFjJjMO5c/AAAAAAAA8D/5ygwtmfumP+Bo75DPvqu/VmHD00xdoT/6z0PUbH3NP3HbZ5xtVq+/qxYcWvNZs7/CBMhuKWetv1cA7KzK6Xs/UgoBhKkkgT9yXoh4r+y1v/nKDC2Z+6Y/AAAAAAAA8D/BMGpTgQviP5qD4TYcaOI/4g5TIS9x4D8rk56TdhPmP35ppcw2I+M/sZ4oXA5i5j8gRItRVYeoP5JECYpVUcG/ODivS1WTv7/gaO+Qz76rv8EwalOBC+I/AAAAAAAA8D8i0wz78rTsP8wtXBhuJOQ/QgypbZUg1z/vXO9mmgvnP89wGuE/rdk/aEvywvUsvb9KrC65lL7BvzVGePv1p8q/VmHD00xdoT+ag+E2HGjiPyLTDPvytOw/AAAAAAAA8D/lORX5GeLjP3Vn33hzZtM/3aPH51YL5j9ZrB1stLbSP8QfG9pJLr0/XIVJ4vR7t79tdb6CuM2Vv/rPQ9Rsfc0/4g5TIS9x4D/MLVwYbiTkP+U5FfkZ4uM/AAAAAAAA8D8BbTF5QU7QPz2ajv1ET+I//fjKwb6+3D9mcMIXJj+4v96NVIon/L2/iMsMcv8Eur9x22ecbVavvyuTnpN2E+Y/QgypbZUg1z91Z994c2bTPwFtMXlBTtA/AAAAAAAA8D8oeWmNq0/iP/BBDUP7hOY/ekCiCrWalb8+QmozUYq+v4j3N1Bey7+/qxYcWvNZs79+aaXMNiPjP+9c72aaC+c/3aPH51YL5j89mo79RE/iPyh5aY2rT+I/AAAAAAAA8D+HnQ74uTngP1uq6c7UnsM/gRs1UwizpT+FPha/jA7BP8IEyG4pZ62/sZ4oXA5i5j/PcBrhP63ZP1msHWy0ttI//fjKwb6+3D/wQQ1D+4TmP4edDvi5OeA/AAAAAAAA8D8=",
          "dtype": "f8",
          "shape": "11, 11"
         },
         "zmax": 1,
         "zmin": -1
        },
        {
         "colorbar": {
          "tickfont": {
           "size": 16
          }
         },
         "colorscale": [
          [
           0,
           "rgb(5,48,97)"
          ],
          [
           0.1,
           "rgb(33,102,172)"
          ],
          [
           0.2,
           "rgb(67,147,195)"
          ],
          [
           0.3,
           "rgb(146,197,222)"
          ],
          [
           0.4,
           "rgb(209,229,240)"
          ],
          [
           0.5,
           "rgb(247,247,247)"
          ],
          [
           0.6,
           "rgb(253,219,199)"
          ],
          [
           0.7,
           "rgb(244,165,130)"
          ],
          [
           0.8,
           "rgb(214,96,77)"
          ],
          [
           0.9,
           "rgb(178,24,43)"
          ],
          [
           1,
           "rgb(103,0,31)"
          ]
         ],
         "hoverinfo": "skip",
         "showscale": false,
         "type": "heatmap",
         "x": [
          "C4",
          "CC",
          "BK",
          "WK",
          "AX",
          "SE",
          "GH",
          "LM",
          "OM",
          "OC",
          "OS"
         ],
         "xaxis": "x16",
         "y": [
          "C4",
          "CC",
          "BK",
          "WK",
          "AX",
          "SE",
          "GH",
          "LM",
          "OM",
          "OC",
          "OS"
         ],
         "yaxis": "y16",
         "z": {
          "bdata": "AAAAAAAA8D+4gRGQAPzvP1FeOmQZ7u8/RMqLPwbU7z9d/avwj+TvPxXaOQUS7u8/HJDUITHe7z/yTCdcPNzvPxZ4PEI+tu8/c9yXTNG47z+2t4BZx7/vP7iBEZAA/O8/AAAAAAAA8D8av8Z6Qe/vPwLbXHWI1O8/nb9DgCzk7z+tC1hgoevvP0+HKtVv3O8/cgWiv57b7z8YMLAPlbLvP6KV72lit+8/FodpCajB7z9RXjpkGe7vPxq/xnpB7+8/AAAAAAAA8D+jeV7M9c3vPxjWErJF0+8/vfeeQZ3a7z+ijy36jsvvP4nmDZrf0e8/38fP0sOY7z9SGno1CpvvPxZ1iiiVsO8/RMqLPwbU7z8C21x1iNTvP6N5Xsz1ze8/AAAAAAAA8D+Xj5XNEcDvPwK22wbkw+8/lhtt8tO77z/v8quHzMjvP5zTDe2lfO8/p8xky3R87z+C7uggNo3vP139q/CP5O8/nb9DgCzk7z8Y1hKyRdPvP5ePlc0RwO8/AAAAAAAA8D+zc/miK+rvP2LdRc3O5u8/AM88f9rU7z+n5SUpysLvP3H0HzO1u+8/PhYcpJy47z8V2jkFEu7vP60LWGCh6+8/vfeeQZ3a7z8CttsG5MPvP7Nz+aIr6u8/AAAAAAAA8D8rAxCi5/HvPw7058893O8/CzGqEaHJ7z/A8LjubszvP9oiGh4gwe8/HJDUITHe7z9PhyrVb9zvP6KPLfqOy+8/lhtt8tO77z9i3UXNzubvPysDEKLn8e8/AAAAAAAA8D+70ON+l9PvP7svmHkMw+8/OuRlTMHH7z8Y+beeE7DvP/JMJ1w83O8/cgWiv57b7z+J5g2a39HvP+/yq4fMyO8/AM88f9rU7z8O9OfPPdzvP7vQ436X0+8/AAAAAAAA8D9w+2ixOZnvPygHJCUduO8/M/5cu8Kw7z8WeDxCPrbvPxgwsA+Vsu8/38fP0sOY7z+c0w3tpXzvP6flJSnKwu8/CzGqEaHJ7z+7L5h5DMPvP3D7aLE5me8/AAAAAAAA8D8h94dUaMbvP2TgvEqyqu8/c9yXTNG47z+ile9pYrfvP1IaejUKm+8/p8xky3R87z9x9B8ztbvvP8DwuO5uzO8/OuRlTMHH7z8oByQlHbjvPyH3h1Roxu8/AAAAAAAA8D938isEZ5zvP7a3gFnHv+8/FodpCajB7z8WdYoolbDvP4Lu6CA2je8/PhYcpJy47z/aIhoeIMHvPxj5t54TsO8/M/5cu8Kw7z9k4LxKsqrvP3fyKwRnnO8/AAAAAAAA8D8=",
          "dtype": "f8",
          "shape": "11, 11"
         },
         "zmax": 1,
         "zmin": -1
        },
        {
         "colorbar": {
          "tickfont": {
           "size": 16
          }
         },
         "colorscale": [
          [
           0,
           "rgb(5,48,97)"
          ],
          [
           0.1,
           "rgb(33,102,172)"
          ],
          [
           0.2,
           "rgb(67,147,195)"
          ],
          [
           0.3,
           "rgb(146,197,222)"
          ],
          [
           0.4,
           "rgb(209,229,240)"
          ],
          [
           0.5,
           "rgb(247,247,247)"
          ],
          [
           0.6,
           "rgb(253,219,199)"
          ],
          [
           0.7,
           "rgb(244,165,130)"
          ],
          [
           0.8,
           "rgb(214,96,77)"
          ],
          [
           0.9,
           "rgb(178,24,43)"
          ],
          [
           1,
           "rgb(103,0,31)"
          ]
         ],
         "hoverinfo": "skip",
         "showscale": false,
         "type": "heatmap",
         "x": [
          "C4",
          "CC",
          "BK",
          "WK",
          "AX",
          "SE",
          "GH",
          "LM",
          "OM",
          "OC",
          "OS"
         ],
         "xaxis": "x17",
         "y": [
          "C4",
          "CC",
          "BK",
          "WK",
          "AX",
          "SE",
          "GH",
          "LM",
          "OM",
          "OC",
          "OS"
         ],
         "yaxis": "y17",
         "z": {
          "bdata": "AAAAAAAA8D+X7LG6iZLvP/6lgOLoUu4/Lw6SCInG5j+vaV7q+7PmP9w3Ex1rEek//GKBna/h5D/RKoMgfL/oP75h4YiKxOY/SkyybLuT5z/LLKUop9TrP5fssbqJku8/AAAAAAAA8D8d3CS0di7uP7ayjaLz6eY/Kl1/5Mw25z8e9Ho3rwPpPyoOg5xOHOU/G4F3siG36D+QylU1MxnnPxR0zM7ztuc/S5acx8D96z/+pYDi6FLuPx3cJLR2Lu4/AAAAAAAA8D+f7QrJ7/zlP28PWO0cFuU/P0qObkZ65z/K14KypbDjPxUpS382kOc//m6yJnFc5T/uvSl/HO7lP97HWJUKfuo/Lw6SCInG5j+2so2i8+nmP5/tCsnv/OU/AAAAAAAA8D+YO9g1krniP77b1NDVHuU/uU6wlZxW4z/76/QGoqvpP5LYmbJWZuI/PMwCwHbB5D/xwbvjVTPkP69pXur7s+Y/Kl1/5Mw25z9vD1jtHBblP5g72DWSueI/AAAAAAAA8D8+QvF5zK/sP0C8aIOypOw/FsLq5WTW6j8oa3+IRzLuP6qaThrrVOs/V75UO+8U6z/cNxMdaxHpPx70ejevA+k/P0qObkZ65z++29TQ1R7lPz5C8XnMr+w/AAAAAAAA8D/TsoXs+PTuP2hiVEBBM+0/V3wPa0le6z+71raJDU7tPwlc6ucTmuo//GKBna/h5D8qDoOcThzlP8rXgrKlsOM/uU6wlZxW4z9AvGiDsqTsP9Oyhez49O4/AAAAAAAA8D9PLoacy1bsPxuAStIqguo/Ts3cs6kf7D+I4PVPCOnnP9EqgyB8v+g/G4F3siG36D8VKUt/NpDnP/vr9Aaiq+k/FsLq5WTW6j9oYlRAQTPtP08uhpzLVuw/AAAAAAAA8D+HA8iQDuDpP9FIQ77crew/g6aCG7ix6T++YeGIisTmP5DKVTUzGec//m6yJnFc5T+S2JmyVmbiPyhrf4hHMu4/V3wPa0le6z8bgErSKoLqP4cDyJAO4Ok/AAAAAAAA8D8E1juCVNTqPy13iOtguus/SkyybLuT5z8UdMzO87bnP+69KX8c7uU/PMwCwHbB5D+qmk4a61TrP7vWtokNTu0/Ts3cs6kf7D/RSEO+3K3sPwTWO4JU1Oo/AAAAAAAA8D/xoKR6Zr3pP8sspSin1Os/S5acx8D96z/ex1iVCn7qP/HBu+NVM+Q/V75UO+8U6z8JXOrnE5rqP4jg9U8I6ec/g6aCG7ix6T8td4jrYLrrP/GgpHpmvek/AAAAAAAA8D8=",
          "dtype": "f8",
          "shape": "11, 11"
         },
         "zmax": 1,
         "zmin": -1
        },
        {
         "colorbar": {
          "tickfont": {
           "size": 16
          }
         },
         "colorscale": [
          [
           0,
           "rgb(5,48,97)"
          ],
          [
           0.1,
           "rgb(33,102,172)"
          ],
          [
           0.2,
           "rgb(67,147,195)"
          ],
          [
           0.3,
           "rgb(146,197,222)"
          ],
          [
           0.4,
           "rgb(209,229,240)"
          ],
          [
           0.5,
           "rgb(247,247,247)"
          ],
          [
           0.6,
           "rgb(253,219,199)"
          ],
          [
           0.7,
           "rgb(244,165,130)"
          ],
          [
           0.8,
           "rgb(214,96,77)"
          ],
          [
           0.9,
           "rgb(178,24,43)"
          ],
          [
           1,
           "rgb(103,0,31)"
          ]
         ],
         "hoverinfo": "skip",
         "showscale": false,
         "type": "heatmap",
         "x": [
          "C4",
          "CC",
          "BK",
          "WK",
          "AX",
          "SE",
          "GH",
          "LM",
          "OM",
          "OC",
          "OS"
         ],
         "xaxis": "x18",
         "y": [
          "C4",
          "CC",
          "BK",
          "WK",
          "AX",
          "SE",
          "GH",
          "LM",
          "OM",
          "OC",
          "OS"
         ],
         "yaxis": "y18",
         "z": {
          "bdata": "AAAAAAAA8D/bkKYQytW2P4nitPisOdI/pvjWhtZBu7+zv3GrY7HLv7cwne/i+7a/t6stn5Shz7/xiZ/33l7Dv++6n+G2ga+/xcZveclvzr/TwrqwG5O2v9uQphDK1bY/AAAAAAAA8D+6eahSI3jIP4J+a0JFgdM/WRvJw9ZAs78lZ4vu/YLGvwPox1nBIcG/DMnf9beNxL9X+0RZ3gCUvxeQFxhY0LG/+i6c3RRuYb+J4rT4rDnSP7p5qFIjeMg/AAAAAAAA8D8LWzFOU3+zP+yegbdo6MO/SnfA6EzhxL/MNzSxZmzQv2Z609NElpq/ggTG9swSsr8dFI5BVOK9vzasOLk7Ip0/pvjWhtZBu7+CfmtCRYHTPwtbMU5Tf7M/AAAAAAAA8D8s9C2MVjivv0ne02BuIMa/JBVhJVJHv7+eUlPzmiPUP2SM1COWFYM//uzzXp7Dv7/m9QcD51Wnv7O/catjscu/WRvJw9ZAs7/snoG3aOjDvyz0LYxWOK+/AAAAAAAA8D+793RExSLPP2g5CI3RUNY/0YwpnLUu0j983NMLrbzaP4G6cAuLTNI/Jc8q+4Mo2z+3MJ3v4vu2vyVni+79gsa/SnfA6EzhxL9J3tNgbiDGv7v3dETFIs8/AAAAAAAA8D8fGyzm7uzqPz38/L86WtU/X/FOZE7ymj+t7YtnT2HSP1xRpda8paW/t6stn5Shz78D6MdZwSHBv8w3NLFmbNC/JBVhJVJHv79oOQiN0VDWPx8bLObu7Oo/AAAAAAAA8D9CJllLN/zXP3OUKTEoQpu/eHUwEGmL1D8PcFRr1Eiqv/GJn/feXsO/DMnf9beNxL9metPTRJaav55SU/OaI9Q/0YwpnLUu0j89/Py/OlrVP0ImWUs3/Nc/AAAAAAAA8D9bm0ZqQMWGv3EcgDh4YNY/XUJknTEmvD/vup/htoGvv1f7RFneAJS/ggTG9swSsr9kjNQjlhWDP3zc0wutvNo/X/FOZE7ymj9zlCkxKEKbv1ubRmpAxYa/AAAAAAAA8D/tzvJN7aPHP2j7gb2oTtw/xcZveclvzr8XkBcYWNCxvx0UjkFU4r2//uzzXp7Dv7+BunALi0zSP63ti2dPYdI/eHUwEGmL1D9xHIA4eGDWP+3O8k3to8c/AAAAAAAA8D/ilzfJtlS5P9PCurAbk7a/+i6c3RRuYb82rDi5OyKdP+b1BwPnVae/Jc8q+4Mo2z9cUaXWvKWlvw9wVGvUSKq/XUJknTEmvD9o+4G9qE7cP+KXN8m2VLk/AAAAAAAA8D8=",
          "dtype": "f8",
          "shape": "11, 11"
         },
         "zmax": 1,
         "zmin": -1
        },
        {
         "colorbar": {
          "tickfont": {
           "size": 16
          }
         },
         "colorscale": [
          [
           0,
           "rgb(5,48,97)"
          ],
          [
           0.1,
           "rgb(33,102,172)"
          ],
          [
           0.2,
           "rgb(67,147,195)"
          ],
          [
           0.3,
           "rgb(146,197,222)"
          ],
          [
           0.4,
           "rgb(209,229,240)"
          ],
          [
           0.5,
           "rgb(247,247,247)"
          ],
          [
           0.6,
           "rgb(253,219,199)"
          ],
          [
           0.7,
           "rgb(244,165,130)"
          ],
          [
           0.8,
           "rgb(214,96,77)"
          ],
          [
           0.9,
           "rgb(178,24,43)"
          ],
          [
           1,
           "rgb(103,0,31)"
          ]
         ],
         "hoverinfo": "skip",
         "showscale": false,
         "type": "heatmap",
         "x": [
          "C4",
          "CC",
          "BK",
          "WK",
          "AX",
          "SE",
          "GH",
          "LM",
          "OM",
          "OC",
          "OS"
         ],
         "xaxis": "x19",
         "y": [
          "C4",
          "CC",
          "BK",
          "WK",
          "AX",
          "SE",
          "GH",
          "LM",
          "OM",
          "OC",
          "OS"
         ],
         "yaxis": "y19",
         "z": {
          "bdata": "AAAAAAAA8D8dnoExwi/vPxH+439dfO4/lKFnG/nk7T/Ymdho7NDsP2LahD2Jke0/8Imi3y/T6j8gQIkj8DTtP7mNXLQPZOk/CkJU7Zgt6D8JenhnIs/sPx2egTHCL+8/AAAAAAAA8D9WQtpC+2vvP4VmnP2+uu4/sY7LNcHn7T/pSC/b/HztPwD5ixDyU+s/NNkueHDF7T/45jVOd4ToP93u+FY/teY/Oz3Vvluk7T8R/uN/XXzuP1ZC2kL7a+8/AAAAAAAA8D/ejMktNGDuP9B3yPq+K+4/ENN/xWgu7T+H0RYNZtjqP8NfDxWG1u0/sv3I6VdT6D+04BRrXiTmP8dOJ4JYJe4/lKFnG/nk7T+FZpz9vrruP96MyS00YO4/AAAAAAAA8D/8V50nQ53tP2amUoAO1uw/aWFJyii56j/Oj7bYx/PtPyDMMhaPPuk/kWp09qcL5z8707kfQgLtP9iZ2Gjs0Ow/sY7LNcHn7T/Qd8j6vivuP/xXnSdDne0/AAAAAAAA8D+eXGxvV5ftP6zBnkTnPOw/gbRpsYL+7T//z5byNrHqP8e/Cw7wJuc/kH/LmPwm7j9i2oQ9iZHtP+lIL9v8fO0/ENN/xWgu7T9mplKADtbsP55cbG9Xl+0/AAAAAAAA8D9jdnuyvKjuP6Am/KFoXe4/Cd1aEKBr6z/Kom1E1hbrP+AL7K7FFe0/8Imi3y/T6j8A+YsQ8lPrP4fRFg1m2Oo/aWFJyii56j+swZ5E5zzsP2N2e7K8qO4/AAAAAAAA8D8Fhz1taQbtP7B+YkPSJOk/Wat5q/PO6D8z669cMAbrPyBAiSPwNO0/NNkueHDF7T/DXw8VhtbtP86PttjH8+0/gbRpsYL+7T+gJvyhaF3uPwWHPW1pBu0/AAAAAAAA8D/hskcV09DqPztaobEeNOk/Xtlu9YPe7T+5jVy0D2TpP/jmNU53hOg/sv3I6VdT6D8gzDIWjz7pP//PlvI2seo/Cd1aEKBr6z+wfmJD0iTpP+GyRxXT0Oo/AAAAAAAA8D/rF67ULLnqP7sMrVTXbeo/CkJU7Zgt6D/d7vhWP7XmP7TgFGteJOY/kWp09qcL5z/HvwsO8CbnP8qibUTWFus/Wat5q/PO6D87WqGxHjTpP+sXrtQsueo/AAAAAAAA8D/fyxtPminnPwl6eGciz+w/Oz3Vvluk7T/HTieCWCXuPzvTuR9CAu0/kH/LmPwm7j/gC+yuxRXtPzPrr1wwBus/Xtlu9YPe7T+7DK1U123qP9/LG0+aKec/AAAAAAAA8D8=",
          "dtype": "f8",
          "shape": "11, 11"
         },
         "zmax": 1,
         "zmin": -1
        },
        {
         "colorbar": {
          "tickfont": {
           "size": 16
          }
         },
         "colorscale": [
          [
           0,
           "rgb(5,48,97)"
          ],
          [
           0.1,
           "rgb(33,102,172)"
          ],
          [
           0.2,
           "rgb(67,147,195)"
          ],
          [
           0.3,
           "rgb(146,197,222)"
          ],
          [
           0.4,
           "rgb(209,229,240)"
          ],
          [
           0.5,
           "rgb(247,247,247)"
          ],
          [
           0.6,
           "rgb(253,219,199)"
          ],
          [
           0.7,
           "rgb(244,165,130)"
          ],
          [
           0.8,
           "rgb(214,96,77)"
          ],
          [
           0.9,
           "rgb(178,24,43)"
          ],
          [
           1,
           "rgb(103,0,31)"
          ]
         ],
         "hoverinfo": "skip",
         "showscale": false,
         "type": "heatmap",
         "x": [
          "C4",
          "CC",
          "BK",
          "WK",
          "AX",
          "SE",
          "GH",
          "LM",
          "OM",
          "OC",
          "OS"
         ],
         "xaxis": "x20",
         "y": [
          "C4",
          "CC",
          "BK",
          "WK",
          "AX",
          "SE",
          "GH",
          "LM",
          "OM",
          "OC",
          "OS"
         ],
         "yaxis": "y20",
         "z": {
          "bdata": "AAAAAAAA8D84UNvRctTqPwzTPYVRn+Q//avukxpoyD+z48Z90FvHPyYShpkWMtI/2eAGCVX1yj9RXd4jWUfQP09+tlSZl8o/lsY0RB3Dzj+zuUODXtXZPzhQ29Fy1Oo/AAAAAAAA8D8fGlaJ/8blP+1MjHfWGNQ/gQkb1IIw0z+vvS4Z4vXXPw5dJq/8HNY/HSL+1BTo1z/Zsyr9qMvSP1Bd5HqE+dU/asR/BZCl3D8M0z2FUZ/kPx8aVon/xuU/AAAAAAAA8D/E1kNLbivRPy6K0SWG7dE/BM9rDv6Q1z8qe6S5Rs/UP6h5Znb0atg/IOj8qTJ30D/BNtCxFOfVP6KOUeU2k9k//avukxpoyD/tTIx31hjUP8TWQ0tuK9E/AAAAAAAA8D+D504CkwraP+up1gTTkdg/adGSqdjv2j8c/P2o/JDmP50dAElA6tQ/qCjeqhgB1D+IYh6ug93SP7Pjxn3QW8c/gQkb1IIw0z8uitElhu3RP4PnTgKTCto/AAAAAAAA8D911yah2OXoPymS3j5JQ+k/RWHKg9Ru6T/megpAHrXrP2Wd3hIIsec/xmafBxF+5T8mEoaZFjLSP6+9Lhni9dc/BM9rDv6Q1z/rqdYE05HYP3XXJqHY5eg/AAAAAAAA8D/XHUXpx9HuP4GFnPqy4uo/guzMHiC65j+Sp5JrEcHsP8TDhB506OQ/2eAGCVX1yj8OXSav/BzWPyp7pLlGz9Q/adGSqdjv2j8pkt4+SUPpP9cdRenH0e4/AAAAAAAA8D+5U+pIe4zrP31CsmAv1+U/CeN7bDd96z+xdOGj5JLjP1Fd3iNZR9A/HSL+1BTo1z+oeWZ29GrYPxz8/aj8kOY/RWHKg9Ru6T+BhZz6suLqP7lT6kh7jOs/AAAAAAAA8D9McCxLG4HnP3WdUVNpSOo/w0N7VSc/5D9PfrZUmZfKP9mzKv2oy9I/IOj8qTJ30D+dHQBJQOrUP+Z6CkAetes/guzMHiC65j99QrJgL9flP0xwLEsbgec/AAAAAAAA8D9T2o7uDULoP1NmLcbgseg/lsY0RB3Dzj9QXeR6hPnVP8E20LEU59U/qCjeqhgB1D9lnd4SCLHnP5KnkmsRwew/CeN7bDd96z91nVFTaUjqP1Paju4NQug/AAAAAAAA8D+fQgCs+VfkP7O5Q4Ne1dk/asR/BZCl3D+ijlHlNpPZP4hiHq6D3dI/xmafBxF+5T/Ew4QedOjkP7F04aPkkuM/w0N7VSc/5D9TZi3G4LHoP59CAKz5V+Q/AAAAAAAA8D8=",
          "dtype": "f8",
          "shape": "11, 11"
         },
         "zmax": 1,
         "zmin": -1
        }
       ],
       "layout": {
        "annotations": [
         {
          "font": {
           "size": 20
          },
          "showarrow": false,
          "text": "LLaMA-MoE-v2",
          "x": 0.04775,
          "xanchor": "center",
          "xref": "paper",
          "y": 1,
          "yanchor": "bottom",
          "yref": "paper"
         },
         {
          "font": {
           "size": 20
          },
          "showarrow": false,
          "text": "Yuan2.0",
          "x": 0.14825,
          "xanchor": "center",
          "xref": "paper",
          "y": 1,
          "yanchor": "bottom",
          "yref": "paper"
         },
         {
          "font": {
           "size": 20
          },
          "showarrow": false,
          "text": "PowerMoE",
          "x": 0.24875,
          "xanchor": "center",
          "xref": "paper",
          "y": 1,
          "yanchor": "bottom",
          "yref": "paper"
         },
         {
          "font": {
           "size": 20
          },
          "showarrow": false,
          "text": "Qwen3",
          "x": 0.34925,
          "xanchor": "center",
          "xref": "paper",
          "y": 1,
          "yanchor": "bottom",
          "yref": "paper"
         },
         {
          "font": {
           "size": 20
          },
          "showarrow": false,
          "text": "Phi-3.5-MoE",
          "x": 0.44975000000000004,
          "xanchor": "center",
          "xref": "paper",
          "y": 1,
          "yanchor": "bottom",
          "yref": "paper"
         },
         {
          "font": {
           "size": 20
          },
          "showarrow": false,
          "text": "OLMoE",
          "x": 0.5502500000000001,
          "xanchor": "center",
          "xref": "paper",
          "y": 1,
          "yanchor": "bottom",
          "yref": "paper"
         },
         {
          "font": {
           "size": 20
          },
          "showarrow": false,
          "text": "GRIN-MoE",
          "x": 0.6507499999999999,
          "xanchor": "center",
          "xref": "paper",
          "y": 1,
          "yanchor": "bottom",
          "yref": "paper"
         },
         {
          "font": {
           "size": 20
          },
          "showarrow": false,
          "text": "Mixtral-8x7B",
          "x": 0.75125,
          "xanchor": "center",
          "xref": "paper",
          "y": 1,
          "yanchor": "bottom",
          "yref": "paper"
         },
         {
          "font": {
           "size": 20
          },
          "showarrow": false,
          "text": "MiniCPM-MoE",
          "x": 0.85175,
          "xanchor": "center",
          "xref": "paper",
          "y": 1,
          "yanchor": "bottom",
          "yref": "paper"
         },
         {
          "font": {
           "size": 20
          },
          "showarrow": false,
          "text": "JetMoE",
          "x": 0.95225,
          "xanchor": "center",
          "xref": "paper",
          "y": 1,
          "yanchor": "bottom",
          "yref": "paper"
         },
         {
          "font": {
           "size": 20
          },
          "showarrow": false,
          "text": "LLaMA-MoE-v1",
          "x": 0.04775,
          "xanchor": "center",
          "xref": "paper",
          "y": 0.45,
          "yanchor": "bottom",
          "yref": "paper"
         },
         {
          "font": {
           "size": 20
          },
          "showarrow": false,
          "text": "XVERSE-MoE",
          "x": 0.14825,
          "xanchor": "center",
          "xref": "paper",
          "y": 0.45,
          "yanchor": "bottom",
          "yref": "paper"
         },
         {
          "font": {
           "size": 20
          },
          "showarrow": false,
          "text": "Jamba-Mini",
          "x": 0.24875,
          "xanchor": "center",
          "xref": "paper",
          "y": 0.45,
          "yanchor": "bottom",
          "yref": "paper"
         },
         {
          "font": {
           "size": 20
          },
          "showarrow": false,
          "text": "DeepSeek-V2-Lite",
          "x": 0.34925,
          "xanchor": "center",
          "xref": "paper",
          "y": 0.45,
          "yanchor": "bottom",
          "yref": "paper"
         },
         {
          "font": {
           "size": 20
          },
          "showarrow": false,
          "text": "DeepSeekMoE",
          "x": 0.44975000000000004,
          "xanchor": "center",
          "xref": "paper",
          "y": 0.45,
          "yanchor": "bottom",
          "yref": "paper"
         },
         {
          "font": {
           "size": 20
          },
          "showarrow": false,
          "text": "Qwen2",
          "x": 0.5502500000000001,
          "xanchor": "center",
          "xref": "paper",
          "y": 0.45,
          "yanchor": "bottom",
          "yref": "paper"
         },
         {
          "font": {
           "size": 20
          },
          "showarrow": false,
          "text": "NLLB-MoE",
          "x": 0.6507499999999999,
          "xanchor": "center",
          "xref": "paper",
          "y": 0.45,
          "yanchor": "bottom",
          "yref": "paper"
         },
         {
          "font": {
           "size": 20
          },
          "showarrow": false,
          "text": "Qwen1.5-MoE",
          "x": 0.75125,
          "xanchor": "center",
          "xref": "paper",
          "y": 0.45,
          "yanchor": "bottom",
          "yref": "paper"
         },
         {
          "font": {
           "size": 20
          },
          "showarrow": false,
          "text": "OpenMoE",
          "x": 0.85175,
          "xanchor": "center",
          "xref": "paper",
          "y": 0.45,
          "yanchor": "bottom",
          "yref": "paper"
         },
         {
          "font": {
           "size": 20
          },
          "showarrow": false,
          "text": "SwitchTransformers",
          "x": 0.95225,
          "xanchor": "center",
          "xref": "paper",
          "y": 0.45,
          "yanchor": "bottom",
          "yref": "paper"
         }
        ],
        "height": 500,
        "margin": {
         "b": 15,
         "l": 30,
         "r": 15,
         "t": 30
        },
        "template": {
         "data": {
          "bar": [
           {
            "error_x": {
             "color": "#2a3f5f"
            },
            "error_y": {
             "color": "#2a3f5f"
            },
            "marker": {
             "line": {
              "color": "#E5ECF6",
              "width": 0.5
             },
             "pattern": {
              "fillmode": "overlay",
              "size": 10,
              "solidity": 0.2
             }
            },
            "type": "bar"
           }
          ],
          "barpolar": [
           {
            "marker": {
             "line": {
              "color": "#E5ECF6",
              "width": 0.5
             },
             "pattern": {
              "fillmode": "overlay",
              "size": 10,
              "solidity": 0.2
             }
            },
            "type": "barpolar"
           }
          ],
          "carpet": [
           {
            "aaxis": {
             "endlinecolor": "#2a3f5f",
             "gridcolor": "white",
             "linecolor": "white",
             "minorgridcolor": "white",
             "startlinecolor": "#2a3f5f"
            },
            "baxis": {
             "endlinecolor": "#2a3f5f",
             "gridcolor": "white",
             "linecolor": "white",
             "minorgridcolor": "white",
             "startlinecolor": "#2a3f5f"
            },
            "type": "carpet"
           }
          ],
          "choropleth": [
           {
            "colorbar": {
             "outlinewidth": 0,
             "ticks": ""
            },
            "type": "choropleth"
           }
          ],
          "contour": [
           {
            "colorbar": {
             "outlinewidth": 0,
             "ticks": ""
            },
            "colorscale": [
             [
              0,
              "#0d0887"
             ],
             [
              0.1111111111111111,
              "#46039f"
             ],
             [
              0.2222222222222222,
              "#7201a8"
             ],
             [
              0.3333333333333333,
              "#9c179e"
             ],
             [
              0.4444444444444444,
              "#bd3786"
             ],
             [
              0.5555555555555556,
              "#d8576b"
             ],
             [
              0.6666666666666666,
              "#ed7953"
             ],
             [
              0.7777777777777778,
              "#fb9f3a"
             ],
             [
              0.8888888888888888,
              "#fdca26"
             ],
             [
              1,
              "#f0f921"
             ]
            ],
            "type": "contour"
           }
          ],
          "contourcarpet": [
           {
            "colorbar": {
             "outlinewidth": 0,
             "ticks": ""
            },
            "type": "contourcarpet"
           }
          ],
          "heatmap": [
           {
            "colorbar": {
             "outlinewidth": 0,
             "ticks": ""
            },
            "colorscale": [
             [
              0,
              "#0d0887"
             ],
             [
              0.1111111111111111,
              "#46039f"
             ],
             [
              0.2222222222222222,
              "#7201a8"
             ],
             [
              0.3333333333333333,
              "#9c179e"
             ],
             [
              0.4444444444444444,
              "#bd3786"
             ],
             [
              0.5555555555555556,
              "#d8576b"
             ],
             [
              0.6666666666666666,
              "#ed7953"
             ],
             [
              0.7777777777777778,
              "#fb9f3a"
             ],
             [
              0.8888888888888888,
              "#fdca26"
             ],
             [
              1,
              "#f0f921"
             ]
            ],
            "type": "heatmap"
           }
          ],
          "histogram": [
           {
            "marker": {
             "pattern": {
              "fillmode": "overlay",
              "size": 10,
              "solidity": 0.2
             }
            },
            "type": "histogram"
           }
          ],
          "histogram2d": [
           {
            "colorbar": {
             "outlinewidth": 0,
             "ticks": ""
            },
            "colorscale": [
             [
              0,
              "#0d0887"
             ],
             [
              0.1111111111111111,
              "#46039f"
             ],
             [
              0.2222222222222222,
              "#7201a8"
             ],
             [
              0.3333333333333333,
              "#9c179e"
             ],
             [
              0.4444444444444444,
              "#bd3786"
             ],
             [
              0.5555555555555556,
              "#d8576b"
             ],
             [
              0.6666666666666666,
              "#ed7953"
             ],
             [
              0.7777777777777778,
              "#fb9f3a"
             ],
             [
              0.8888888888888888,
              "#fdca26"
             ],
             [
              1,
              "#f0f921"
             ]
            ],
            "type": "histogram2d"
           }
          ],
          "histogram2dcontour": [
           {
            "colorbar": {
             "outlinewidth": 0,
             "ticks": ""
            },
            "colorscale": [
             [
              0,
              "#0d0887"
             ],
             [
              0.1111111111111111,
              "#46039f"
             ],
             [
              0.2222222222222222,
              "#7201a8"
             ],
             [
              0.3333333333333333,
              "#9c179e"
             ],
             [
              0.4444444444444444,
              "#bd3786"
             ],
             [
              0.5555555555555556,
              "#d8576b"
             ],
             [
              0.6666666666666666,
              "#ed7953"
             ],
             [
              0.7777777777777778,
              "#fb9f3a"
             ],
             [
              0.8888888888888888,
              "#fdca26"
             ],
             [
              1,
              "#f0f921"
             ]
            ],
            "type": "histogram2dcontour"
           }
          ],
          "mesh3d": [
           {
            "colorbar": {
             "outlinewidth": 0,
             "ticks": ""
            },
            "type": "mesh3d"
           }
          ],
          "parcoords": [
           {
            "line": {
             "colorbar": {
              "outlinewidth": 0,
              "ticks": ""
             }
            },
            "type": "parcoords"
           }
          ],
          "pie": [
           {
            "automargin": true,
            "type": "pie"
           }
          ],
          "scatter": [
           {
            "fillpattern": {
             "fillmode": "overlay",
             "size": 10,
             "solidity": 0.2
            },
            "type": "scatter"
           }
          ],
          "scatter3d": [
           {
            "line": {
             "colorbar": {
              "outlinewidth": 0,
              "ticks": ""
             }
            },
            "marker": {
             "colorbar": {
              "outlinewidth": 0,
              "ticks": ""
             }
            },
            "type": "scatter3d"
           }
          ],
          "scattercarpet": [
           {
            "marker": {
             "colorbar": {
              "outlinewidth": 0,
              "ticks": ""
             }
            },
            "type": "scattercarpet"
           }
          ],
          "scattergeo": [
           {
            "marker": {
             "colorbar": {
              "outlinewidth": 0,
              "ticks": ""
             }
            },
            "type": "scattergeo"
           }
          ],
          "scattergl": [
           {
            "marker": {
             "colorbar": {
              "outlinewidth": 0,
              "ticks": ""
             }
            },
            "type": "scattergl"
           }
          ],
          "scattermap": [
           {
            "marker": {
             "colorbar": {
              "outlinewidth": 0,
              "ticks": ""
             }
            },
            "type": "scattermap"
           }
          ],
          "scattermapbox": [
           {
            "marker": {
             "colorbar": {
              "outlinewidth": 0,
              "ticks": ""
             }
            },
            "type": "scattermapbox"
           }
          ],
          "scatterpolar": [
           {
            "marker": {
             "colorbar": {
              "outlinewidth": 0,
              "ticks": ""
             }
            },
            "type": "scatterpolar"
           }
          ],
          "scatterpolargl": [
           {
            "marker": {
             "colorbar": {
              "outlinewidth": 0,
              "ticks": ""
             }
            },
            "type": "scatterpolargl"
           }
          ],
          "scatterternary": [
           {
            "marker": {
             "colorbar": {
              "outlinewidth": 0,
              "ticks": ""
             }
            },
            "type": "scatterternary"
           }
          ],
          "surface": [
           {
            "colorbar": {
             "outlinewidth": 0,
             "ticks": ""
            },
            "colorscale": [
             [
              0,
              "#0d0887"
             ],
             [
              0.1111111111111111,
              "#46039f"
             ],
             [
              0.2222222222222222,
              "#7201a8"
             ],
             [
              0.3333333333333333,
              "#9c179e"
             ],
             [
              0.4444444444444444,
              "#bd3786"
             ],
             [
              0.5555555555555556,
              "#d8576b"
             ],
             [
              0.6666666666666666,
              "#ed7953"
             ],
             [
              0.7777777777777778,
              "#fb9f3a"
             ],
             [
              0.8888888888888888,
              "#fdca26"
             ],
             [
              1,
              "#f0f921"
             ]
            ],
            "type": "surface"
           }
          ],
          "table": [
           {
            "cells": {
             "fill": {
              "color": "#EBF0F8"
             },
             "line": {
              "color": "white"
             }
            },
            "header": {
             "fill": {
              "color": "#C8D4E3"
             },
             "line": {
              "color": "white"
             }
            },
            "type": "table"
           }
          ]
         },
         "layout": {
          "annotationdefaults": {
           "arrowcolor": "#2a3f5f",
           "arrowhead": 0,
           "arrowwidth": 1
          },
          "autotypenumbers": "strict",
          "coloraxis": {
           "colorbar": {
            "outlinewidth": 0,
            "ticks": ""
           }
          },
          "colorscale": {
           "diverging": [
            [
             0,
             "#8e0152"
            ],
            [
             0.1,
             "#c51b7d"
            ],
            [
             0.2,
             "#de77ae"
            ],
            [
             0.3,
             "#f1b6da"
            ],
            [
             0.4,
             "#fde0ef"
            ],
            [
             0.5,
             "#f7f7f7"
            ],
            [
             0.6,
             "#e6f5d0"
            ],
            [
             0.7,
             "#b8e186"
            ],
            [
             0.8,
             "#7fbc41"
            ],
            [
             0.9,
             "#4d9221"
            ],
            [
             1,
             "#276419"
            ]
           ],
           "sequential": [
            [
             0,
             "#0d0887"
            ],
            [
             0.1111111111111111,
             "#46039f"
            ],
            [
             0.2222222222222222,
             "#7201a8"
            ],
            [
             0.3333333333333333,
             "#9c179e"
            ],
            [
             0.4444444444444444,
             "#bd3786"
            ],
            [
             0.5555555555555556,
             "#d8576b"
            ],
            [
             0.6666666666666666,
             "#ed7953"
            ],
            [
             0.7777777777777778,
             "#fb9f3a"
            ],
            [
             0.8888888888888888,
             "#fdca26"
            ],
            [
             1,
             "#f0f921"
            ]
           ],
           "sequentialminus": [
            [
             0,
             "#0d0887"
            ],
            [
             0.1111111111111111,
             "#46039f"
            ],
            [
             0.2222222222222222,
             "#7201a8"
            ],
            [
             0.3333333333333333,
             "#9c179e"
            ],
            [
             0.4444444444444444,
             "#bd3786"
            ],
            [
             0.5555555555555556,
             "#d8576b"
            ],
            [
             0.6666666666666666,
             "#ed7953"
            ],
            [
             0.7777777777777778,
             "#fb9f3a"
            ],
            [
             0.8888888888888888,
             "#fdca26"
            ],
            [
             1,
             "#f0f921"
            ]
           ]
          },
          "colorway": [
           "#636efa",
           "#EF553B",
           "#00cc96",
           "#ab63fa",
           "#FFA15A",
           "#19d3f3",
           "#FF6692",
           "#B6E880",
           "#FF97FF",
           "#FECB52"
          ],
          "font": {
           "color": "#2a3f5f"
          },
          "geo": {
           "bgcolor": "white",
           "lakecolor": "white",
           "landcolor": "#E5ECF6",
           "showlakes": true,
           "showland": true,
           "subunitcolor": "white"
          },
          "hoverlabel": {
           "align": "left"
          },
          "hovermode": "closest",
          "mapbox": {
           "style": "light"
          },
          "paper_bgcolor": "white",
          "plot_bgcolor": "#E5ECF6",
          "polar": {
           "angularaxis": {
            "gridcolor": "white",
            "linecolor": "white",
            "ticks": ""
           },
           "bgcolor": "#E5ECF6",
           "radialaxis": {
            "gridcolor": "white",
            "linecolor": "white",
            "ticks": ""
           }
          },
          "scene": {
           "xaxis": {
            "backgroundcolor": "#E5ECF6",
            "gridcolor": "white",
            "gridwidth": 2,
            "linecolor": "white",
            "showbackground": true,
            "ticks": "",
            "zerolinecolor": "white"
           },
           "yaxis": {
            "backgroundcolor": "#E5ECF6",
            "gridcolor": "white",
            "gridwidth": 2,
            "linecolor": "white",
            "showbackground": true,
            "ticks": "",
            "zerolinecolor": "white"
           },
           "zaxis": {
            "backgroundcolor": "#E5ECF6",
            "gridcolor": "white",
            "gridwidth": 2,
            "linecolor": "white",
            "showbackground": true,
            "ticks": "",
            "zerolinecolor": "white"
           }
          },
          "shapedefaults": {
           "line": {
            "color": "#2a3f5f"
           }
          },
          "ternary": {
           "aaxis": {
            "gridcolor": "white",
            "linecolor": "white",
            "ticks": ""
           },
           "baxis": {
            "gridcolor": "white",
            "linecolor": "white",
            "ticks": ""
           },
           "bgcolor": "#E5ECF6",
           "caxis": {
            "gridcolor": "white",
            "linecolor": "white",
            "ticks": ""
           }
          },
          "title": {
           "x": 0.05
          },
          "xaxis": {
           "automargin": true,
           "gridcolor": "white",
           "linecolor": "white",
           "ticks": "",
           "title": {
            "standoff": 15
           },
           "zerolinecolor": "white",
           "zerolinewidth": 2
          },
          "yaxis": {
           "automargin": true,
           "gridcolor": "white",
           "linecolor": "white",
           "ticks": "",
           "title": {
            "standoff": 15
           },
           "zerolinecolor": "white",
           "zerolinewidth": 2
          }
         }
        },
        "width": 2500,
        "xaxis": {
         "anchor": "y",
         "domain": [
          0,
          0.0955
         ],
         "matches": "x11",
         "showticklabels": false
        },
        "xaxis10": {
         "anchor": "y10",
         "domain": [
          0.9045000000000001,
          1
         ],
         "matches": "x11",
         "showticklabels": false
        },
        "xaxis11": {
         "anchor": "y11",
         "domain": [
          0,
          0.0955
         ],
         "tickangle": 0,
         "tickfont": {
          "size": 12
         }
        },
        "xaxis12": {
         "anchor": "y12",
         "domain": [
          0.1005,
          0.196
         ],
         "matches": "x11",
         "tickangle": 0,
         "tickfont": {
          "size": 12
         }
        },
        "xaxis13": {
         "anchor": "y13",
         "domain": [
          0.201,
          0.2965
         ],
         "matches": "x11",
         "tickangle": 0,
         "tickfont": {
          "size": 12
         }
        },
        "xaxis14": {
         "anchor": "y14",
         "domain": [
          0.3015,
          0.397
         ],
         "matches": "x11",
         "tickangle": 0,
         "tickfont": {
          "size": 12
         }
        },
        "xaxis15": {
         "anchor": "y15",
         "domain": [
          0.402,
          0.49750000000000005
         ],
         "matches": "x11",
         "tickangle": 0,
         "tickfont": {
          "size": 12
         }
        },
        "xaxis16": {
         "anchor": "y16",
         "domain": [
          0.5025000000000001,
          0.5980000000000001
         ],
         "matches": "x11",
         "tickangle": 0,
         "tickfont": {
          "size": 12
         }
        },
        "xaxis17": {
         "anchor": "y17",
         "domain": [
          0.603,
          0.6985
         ],
         "matches": "x11",
         "tickangle": 0,
         "tickfont": {
          "size": 12
         }
        },
        "xaxis18": {
         "anchor": "y18",
         "domain": [
          0.7035,
          0.799
         ],
         "matches": "x11",
         "tickangle": 0,
         "tickfont": {
          "size": 12
         }
        },
        "xaxis19": {
         "anchor": "y19",
         "domain": [
          0.804,
          0.8995000000000001
         ],
         "matches": "x11",
         "tickangle": 0,
         "tickfont": {
          "size": 12
         }
        },
        "xaxis2": {
         "anchor": "y2",
         "domain": [
          0.1005,
          0.196
         ],
         "matches": "x11",
         "showticklabels": false
        },
        "xaxis20": {
         "anchor": "y20",
         "domain": [
          0.9045000000000001,
          1
         ],
         "matches": "x11",
         "tickangle": 0,
         "tickfont": {
          "size": 12
         }
        },
        "xaxis3": {
         "anchor": "y3",
         "domain": [
          0.201,
          0.2965
         ],
         "matches": "x11",
         "showticklabels": false
        },
        "xaxis4": {
         "anchor": "y4",
         "domain": [
          0.3015,
          0.397
         ],
         "matches": "x11",
         "showticklabels": false
        },
        "xaxis5": {
         "anchor": "y5",
         "domain": [
          0.402,
          0.49750000000000005
         ],
         "matches": "x11",
         "showticklabels": false
        },
        "xaxis6": {
         "anchor": "y6",
         "domain": [
          0.5025000000000001,
          0.5980000000000001
         ],
         "matches": "x11",
         "showticklabels": false
        },
        "xaxis7": {
         "anchor": "y7",
         "domain": [
          0.603,
          0.6985
         ],
         "matches": "x11",
         "showticklabels": false
        },
        "xaxis8": {
         "anchor": "y8",
         "domain": [
          0.7035,
          0.799
         ],
         "matches": "x11",
         "showticklabels": false
        },
        "xaxis9": {
         "anchor": "y9",
         "domain": [
          0.804,
          0.8995000000000001
         ],
         "matches": "x11",
         "showticklabels": false
        },
        "yaxis": {
         "anchor": "x",
         "domain": [
          0.55,
          1
         ],
         "matches": "y11",
         "tickfont": {
          "size": 12
         }
        },
        "yaxis10": {
         "anchor": "x10",
         "domain": [
          0.55,
          1
         ],
         "matches": "y11",
         "showticklabels": false
        },
        "yaxis11": {
         "anchor": "x11",
         "domain": [
          0,
          0.45
         ],
         "tickfont": {
          "size": 12
         }
        },
        "yaxis12": {
         "anchor": "x12",
         "domain": [
          0,
          0.45
         ],
         "matches": "y11",
         "showticklabels": false
        },
        "yaxis13": {
         "anchor": "x13",
         "domain": [
          0,
          0.45
         ],
         "matches": "y11",
         "showticklabels": false
        },
        "yaxis14": {
         "anchor": "x14",
         "domain": [
          0,
          0.45
         ],
         "matches": "y11",
         "showticklabels": false
        },
        "yaxis15": {
         "anchor": "x15",
         "domain": [
          0,
          0.45
         ],
         "matches": "y11",
         "showticklabels": false
        },
        "yaxis16": {
         "anchor": "x16",
         "domain": [
          0,
          0.45
         ],
         "matches": "y11",
         "showticklabels": false
        },
        "yaxis17": {
         "anchor": "x17",
         "domain": [
          0,
          0.45
         ],
         "matches": "y11",
         "showticklabels": false
        },
        "yaxis18": {
         "anchor": "x18",
         "domain": [
          0,
          0.45
         ],
         "matches": "y11",
         "showticklabels": false
        },
        "yaxis19": {
         "anchor": "x19",
         "domain": [
          0,
          0.45
         ],
         "matches": "y11",
         "showticklabels": false
        },
        "yaxis2": {
         "anchor": "x2",
         "domain": [
          0.55,
          1
         ],
         "matches": "y11",
         "showticklabels": false
        },
        "yaxis20": {
         "anchor": "x20",
         "domain": [
          0,
          0.45
         ],
         "matches": "y11",
         "showticklabels": false
        },
        "yaxis3": {
         "anchor": "x3",
         "domain": [
          0.55,
          1
         ],
         "matches": "y11",
         "showticklabels": false
        },
        "yaxis4": {
         "anchor": "x4",
         "domain": [
          0.55,
          1
         ],
         "matches": "y11",
         "showticklabels": false
        },
        "yaxis5": {
         "anchor": "x5",
         "domain": [
          0.55,
          1
         ],
         "matches": "y11",
         "showticklabels": false
        },
        "yaxis6": {
         "anchor": "x6",
         "domain": [
          0.55,
          1
         ],
         "matches": "y11",
         "showticklabels": false
        },
        "yaxis7": {
         "anchor": "x7",
         "domain": [
          0.55,
          1
         ],
         "matches": "y11",
         "showticklabels": false
        },
        "yaxis8": {
         "anchor": "x8",
         "domain": [
          0.55,
          1
         ],
         "matches": "y11",
         "showticklabels": false
        },
        "yaxis9": {
         "anchor": "x9",
         "domain": [
          0.55,
          1
         ],
         "matches": "y11",
         "showticklabels": false
        }
       }
      }
     },
     "metadata": {},
     "output_type": "display_data"
    }
   ],
   "source": [
    "num_cols = 10\n",
    "num_rows = (len(main_model_config) - 1) // num_cols + 1\n",
    "\n",
    "fig = make_subplots(\n",
    "    rows=num_rows,\n",
    "    cols=num_cols,\n",
    "    shared_xaxes=\"all\",\n",
    "    shared_yaxes=\"all\",\n",
    "    horizontal_spacing=0.005,\n",
    "    vertical_spacing=0.1,\n",
    "    subplot_titles=sorted_model_keys.map(new_name).values,\n",
    ")\n",
    "\n",
    "font_size = [12, 16, 18, 20]\n",
    "show_scale = True\n",
    "\n",
    "for i, key in enumerate(sorted_model_keys):\n",
    "    if key not in dsedf.index.levels[0]:\n",
    "        continue\n",
    "\n",
    "    row = i // num_cols + 1\n",
    "    col = i % num_cols + 1\n",
    "    tmpdf = dsedf.loc[key]\n",
    "\n",
    "    fig.add_heatmap(\n",
    "        z=tmpdf.values,\n",
    "        x=tmpdf.columns.map(main_data_config[\"data_abbr\"]),\n",
    "        y=tmpdf.index.map(main_data_config[\"data_abbr\"]),\n",
    "        colorbar=go.heatmap.ColorBar(tickfont=go.heatmap.colorbar.Tickfont(size=font_size[1])),\n",
    "        colorscale=\"RdBu_r\",\n",
    "        hoverinfo=\"skip\",\n",
    "        zmin=-1,\n",
    "        zmax=1,\n",
    "        showscale=show_scale,\n",
    "        row=row,\n",
    "        col=col,\n",
    "    )\n",
    "\n",
    "    if row == num_rows:\n",
    "        fig.update_xaxes(\n",
    "            tickangle=0, tickfont=go.layout.xaxis.Tickfont(size=font_size[0]), row=row, col=col\n",
    "        )\n",
    "\n",
    "    if col == 1:\n",
    "        fig.update_yaxes(tickfont=go.layout.yaxis.Tickfont(size=font_size[0]), row=row, col=col)\n",
    "\n",
    "    show_scale = False\n",
    "\n",
    "fig.update_annotations(font=go.layout.annotation.Font(size=font_size[3]))\n",
    "fig.update_layout(margin=go.layout.Margin(l=30, r=15, t=30, b=15), width=2500, height=500)\n",
    "fig.write_image(\"./plot/mactdr.pdf\", width=fig.layout.width, height=fig.layout.height)\n",
    "fig.show()"
   ]
  },
  {
   "cell_type": "code",
   "execution_count": 18,
   "id": "bf7a8fa7",
   "metadata": {},
   "outputs": [
    {
     "data": {
      "text/html": [
       "<div>\n",
       "<style scoped>\n",
       "    .dataframe tbody tr th:only-of-type {\n",
       "        vertical-align: middle;\n",
       "    }\n",
       "\n",
       "    .dataframe tbody tr th {\n",
       "        vertical-align: top;\n",
       "    }\n",
       "\n",
       "    .dataframe thead th {\n",
       "        text-align: right;\n",
       "    }\n",
       "</style>\n",
       "<table border=\"1\" class=\"dataframe\">\n",
       "  <thead>\n",
       "    <tr style=\"text-align: right;\">\n",
       "      <th></th>\n",
       "      <th>dataset</th>\n",
       "      <th>c4</th>\n",
       "      <th>cc2306</th>\n",
       "      <th>book</th>\n",
       "      <th>wikipedia</th>\n",
       "      <th>arxiv</th>\n",
       "      <th>stackexchange</th>\n",
       "      <th>github</th>\n",
       "      <th>lmarena</th>\n",
       "      <th>math</th>\n",
       "      <th>code</th>\n",
       "      <th>science</th>\n",
       "    </tr>\n",
       "    <tr>\n",
       "      <th>model</th>\n",
       "      <th>dataset</th>\n",
       "      <th></th>\n",
       "      <th></th>\n",
       "      <th></th>\n",
       "      <th></th>\n",
       "      <th></th>\n",
       "      <th></th>\n",
       "      <th></th>\n",
       "      <th></th>\n",
       "      <th></th>\n",
       "      <th></th>\n",
       "      <th></th>\n",
       "    </tr>\n",
       "  </thead>\n",
       "  <tbody>\n",
       "    <tr>\n",
       "      <th rowspan=\"5\" valign=\"top\">powermoe</th>\n",
       "      <th>c4</th>\n",
       "      <td>1.000000</td>\n",
       "      <td>0.978656</td>\n",
       "      <td>0.920813</td>\n",
       "      <td>0.778592</td>\n",
       "      <td>0.732542</td>\n",
       "      <td>0.745321</td>\n",
       "      <td>0.650831</td>\n",
       "      <td>0.819693</td>\n",
       "      <td>0.655827</td>\n",
       "      <td>0.624161</td>\n",
       "      <td>0.794798</td>\n",
       "    </tr>\n",
       "    <tr>\n",
       "      <th>cc2306</th>\n",
       "      <td>0.978656</td>\n",
       "      <td>1.000000</td>\n",
       "      <td>0.927406</td>\n",
       "      <td>0.816800</td>\n",
       "      <td>0.728992</td>\n",
       "      <td>0.722863</td>\n",
       "      <td>0.642793</td>\n",
       "      <td>0.800040</td>\n",
       "      <td>0.640447</td>\n",
       "      <td>0.602126</td>\n",
       "      <td>0.778243</td>\n",
       "    </tr>\n",
       "    <tr>\n",
       "      <th>book</th>\n",
       "      <td>0.920813</td>\n",
       "      <td>0.927406</td>\n",
       "      <td>1.000000</td>\n",
       "      <td>0.732665</td>\n",
       "      <td>0.678925</td>\n",
       "      <td>0.684056</td>\n",
       "      <td>0.587517</td>\n",
       "      <td>0.756090</td>\n",
       "      <td>0.630282</td>\n",
       "      <td>0.569597</td>\n",
       "      <td>0.759754</td>\n",
       "    </tr>\n",
       "    <tr>\n",
       "      <th>wikipedia</th>\n",
       "      <td>0.778592</td>\n",
       "      <td>0.816800</td>\n",
       "      <td>0.732665</td>\n",
       "      <td>1.000000</td>\n",
       "      <td>0.645499</td>\n",
       "      <td>0.608995</td>\n",
       "      <td>0.594913</td>\n",
       "      <td>0.849671</td>\n",
       "      <td>0.539541</td>\n",
       "      <td>0.499980</td>\n",
       "      <td>0.645280</td>\n",
       "    </tr>\n",
       "    <tr>\n",
       "      <th>arxiv</th>\n",
       "      <td>0.732542</td>\n",
       "      <td>0.728992</td>\n",
       "      <td>0.678925</td>\n",
       "      <td>0.645499</td>\n",
       "      <td>1.000000</td>\n",
       "      <td>0.909202</td>\n",
       "      <td>0.874565</td>\n",
       "      <td>0.815883</td>\n",
       "      <td>0.915770</td>\n",
       "      <td>0.884068</td>\n",
       "      <td>0.913671</td>\n",
       "    </tr>\n",
       "    <tr>\n",
       "      <th>...</th>\n",
       "      <th>...</th>\n",
       "      <td>...</td>\n",
       "      <td>...</td>\n",
       "      <td>...</td>\n",
       "      <td>...</td>\n",
       "      <td>...</td>\n",
       "      <td>...</td>\n",
       "      <td>...</td>\n",
       "      <td>...</td>\n",
       "      <td>...</td>\n",
       "      <td>...</td>\n",
       "      <td>...</td>\n",
       "    </tr>\n",
       "    <tr>\n",
       "      <th rowspan=\"5\" valign=\"top\">qwen2</th>\n",
       "      <th>github</th>\n",
       "      <td>0.982161</td>\n",
       "      <td>0.983024</td>\n",
       "      <td>0.975862</td>\n",
       "      <td>0.975690</td>\n",
       "      <td>0.987926</td>\n",
       "      <td>0.995971</td>\n",
       "      <td>1.000000</td>\n",
       "      <td>0.989164</td>\n",
       "      <td>0.986760</td>\n",
       "      <td>0.988253</td>\n",
       "      <td>0.985717</td>\n",
       "    </tr>\n",
       "    <tr>\n",
       "      <th>lmarena</th>\n",
       "      <td>0.987586</td>\n",
       "      <td>0.988611</td>\n",
       "      <td>0.983376</td>\n",
       "      <td>0.985426</td>\n",
       "      <td>0.989844</td>\n",
       "      <td>0.991351</td>\n",
       "      <td>0.989164</td>\n",
       "      <td>1.000000</td>\n",
       "      <td>0.981573</td>\n",
       "      <td>0.986330</td>\n",
       "      <td>0.983254</td>\n",
       "    </tr>\n",
       "    <tr>\n",
       "      <th>math</th>\n",
       "      <td>0.981423</td>\n",
       "      <td>0.981522</td>\n",
       "      <td>0.976042</td>\n",
       "      <td>0.969141</td>\n",
       "      <td>0.984649</td>\n",
       "      <td>0.988929</td>\n",
       "      <td>0.986760</td>\n",
       "      <td>0.981573</td>\n",
       "      <td>1.000000</td>\n",
       "      <td>0.986450</td>\n",
       "      <td>0.988566</td>\n",
       "    </tr>\n",
       "    <tr>\n",
       "      <th>code</th>\n",
       "      <td>0.976833</td>\n",
       "      <td>0.978263</td>\n",
       "      <td>0.971134</td>\n",
       "      <td>0.966884</td>\n",
       "      <td>0.982610</td>\n",
       "      <td>0.988228</td>\n",
       "      <td>0.988253</td>\n",
       "      <td>0.986330</td>\n",
       "      <td>0.986450</td>\n",
       "      <td>1.000000</td>\n",
       "      <td>0.980311</td>\n",
       "    </tr>\n",
       "    <tr>\n",
       "      <th>science</th>\n",
       "      <td>0.986121</td>\n",
       "      <td>0.985947</td>\n",
       "      <td>0.982116</td>\n",
       "      <td>0.972981</td>\n",
       "      <td>0.983552</td>\n",
       "      <td>0.990224</td>\n",
       "      <td>0.985717</td>\n",
       "      <td>0.983254</td>\n",
       "      <td>0.988566</td>\n",
       "      <td>0.980311</td>\n",
       "      <td>1.000000</td>\n",
       "    </tr>\n",
       "  </tbody>\n",
       "</table>\n",
       "<p>220 rows × 11 columns</p>\n",
       "</div>"
      ],
      "text/plain": [
       "dataset                   c4    cc2306      book  wikipedia     arxiv  \\\n",
       "model    dataset                                                        \n",
       "powermoe c4         1.000000  0.978656  0.920813   0.778592  0.732542   \n",
       "         cc2306     0.978656  1.000000  0.927406   0.816800  0.728992   \n",
       "         book       0.920813  0.927406  1.000000   0.732665  0.678925   \n",
       "         wikipedia  0.778592  0.816800  0.732665   1.000000  0.645499   \n",
       "         arxiv      0.732542  0.728992  0.678925   0.645499  1.000000   \n",
       "...                      ...       ...       ...        ...       ...   \n",
       "qwen2    github     0.982161  0.983024  0.975862   0.975690  0.987926   \n",
       "         lmarena    0.987586  0.988611  0.983376   0.985426  0.989844   \n",
       "         math       0.981423  0.981522  0.976042   0.969141  0.984649   \n",
       "         code       0.976833  0.978263  0.971134   0.966884  0.982610   \n",
       "         science    0.986121  0.985947  0.982116   0.972981  0.983552   \n",
       "\n",
       "dataset             stackexchange    github   lmarena      math      code  \\\n",
       "model    dataset                                                            \n",
       "powermoe c4              0.745321  0.650831  0.819693  0.655827  0.624161   \n",
       "         cc2306          0.722863  0.642793  0.800040  0.640447  0.602126   \n",
       "         book            0.684056  0.587517  0.756090  0.630282  0.569597   \n",
       "         wikipedia       0.608995  0.594913  0.849671  0.539541  0.499980   \n",
       "         arxiv           0.909202  0.874565  0.815883  0.915770  0.884068   \n",
       "...                           ...       ...       ...       ...       ...   \n",
       "qwen2    github          0.995971  1.000000  0.989164  0.986760  0.988253   \n",
       "         lmarena         0.991351  0.989164  1.000000  0.981573  0.986330   \n",
       "         math            0.988929  0.986760  0.981573  1.000000  0.986450   \n",
       "         code            0.988228  0.988253  0.986330  0.986450  1.000000   \n",
       "         science         0.990224  0.985717  0.983254  0.988566  0.980311   \n",
       "\n",
       "dataset              science  \n",
       "model    dataset              \n",
       "powermoe c4         0.794798  \n",
       "         cc2306     0.778243  \n",
       "         book       0.759754  \n",
       "         wikipedia  0.645280  \n",
       "         arxiv      0.913671  \n",
       "...                      ...  \n",
       "qwen2    github     0.985717  \n",
       "         lmarena    0.983254  \n",
       "         math       0.988566  \n",
       "         code       0.980311  \n",
       "         science    1.000000  \n",
       "\n",
       "[220 rows x 11 columns]"
      ]
     },
     "execution_count": 18,
     "metadata": {},
     "output_type": "execute_result"
    }
   ],
   "source": [
    "csedf = (\n",
    "    sedf.pivot(\n",
    "        index=[\"model\", \"is_decoder\", \"layer_idx\", \"expert_idx\"],\n",
    "        columns=\"dataset\",\n",
    "        values=\"best_f1\",\n",
    "    )\n",
    "    .groupby(\"model\", observed=True)\n",
    "    .corr()\n",
    ")\n",
    "\n",
    "csedf"
   ]
  },
  {
   "cell_type": "code",
   "execution_count": 20,
   "id": "d1f7aaff",
   "metadata": {},
   "outputs": [
    {
     "data": {
      "application/vnd.plotly.v1+json": {
       "config": {
        "plotlyServerURL": "https://plot.ly"
       },
       "data": [
        {
         "colorbar": {
          "tickfont": {
           "size": 16
          }
         },
         "colorscale": [
          [
           0,
           "rgb(5,48,97)"
          ],
          [
           0.1,
           "rgb(33,102,172)"
          ],
          [
           0.2,
           "rgb(67,147,195)"
          ],
          [
           0.3,
           "rgb(146,197,222)"
          ],
          [
           0.4,
           "rgb(209,229,240)"
          ],
          [
           0.5,
           "rgb(247,247,247)"
          ],
          [
           0.6,
           "rgb(253,219,199)"
          ],
          [
           0.7,
           "rgb(244,165,130)"
          ],
          [
           0.8,
           "rgb(214,96,77)"
          ],
          [
           0.9,
           "rgb(178,24,43)"
          ],
          [
           1,
           "rgb(103,0,31)"
          ]
         ],
         "hoverinfo": "skip",
         "showscale": true,
         "type": "heatmap",
         "x": [
          "C4",
          "CC",
          "BK",
          "WK",
          "AX",
          "SE",
          "GH",
          "LM",
          "OM",
          "OC",
          "OS"
         ],
         "xaxis": "x",
         "y": [
          "C4",
          "CC",
          "BK",
          "WK",
          "AX",
          "SE",
          "GH",
          "LM",
          "OM",
          "OC",
          "OS"
         ],
         "yaxis": "y",
         "z": {
          "bdata": "AAAAAAAA8D8XyE98iInvP6ySqM6g5+4/S2SF4d5q7T8dODWplh/sP1Z12DeoM+s/BWu26XcN6j/WyaS2eCvsP4Pndtu8EOg//WjDNkJL5z8Bx8JTPVbsPxfIT3yIie8/AAAAAAAA8D+I8EGO30vvP0yDPatg1u0/kBKK14xm7D/wuKxzxv/qP56oj0xD1+k/dvKvGcY77D8KaIGCrcnoP7qF8BWW8OY/AiDO1Kmh7D+skqjOoOfuP4jwQY7fS+8/AAAAAAAA8D9XSjD+nrTtPzeVERbc0+s/Hz+K08MJ6j/Ynhlg4zrpP0jjl8wbk+s/MoyrNm6J6D9JZy1FQzDmP7VzgIuqcOw/S2SF4d5q7T9Mgz2rYNbtP1dKMP6etO0/AAAAAAAA8D+p2o7fQyTsP651B+ghceo/27f7jfPi6j+4d03gqQ7tPwnwwLSN7uY/scyHd8JN5j93S78oHgXrPx04NamWH+w/kBKK14xm7D83lREW3NPrP6najt9DJOw/AAAAAAAA8D+RKKCu8yXuPxLk4vhlY+0/88a4+3h/7T8gadDYR3rtPx/nW0gAXus/uYLiwg1g7j9Wddg3qDPrP/C4rHPG/+o/Hz+K08MJ6j+udQfoIXHqP5EooK7zJe4/AAAAAAAA8D8MvXlFVd/uP+opi17LGu4/VAymcsKy6j8iqjlxievtP7piWHn8x+s/BWu26XcN6j+eqI9MQ9fpP9ieGWDjOuk/27f7jfPi6j8S5OL4ZWPtPwy9eUVV3+4/AAAAAAAA8D9LNcTwcwDuP92hzTgSyeg/wFWNh3aL7T/UHv28WgjqP9bJpLZ4K+w/dvKvGcY77D9I45fMG5PrP7h3TeCpDu0/88a4+3h/7T/qKYteyxruP0s1xPBzAO4/AAAAAAAA8D8PbP0SbQ3pP7o4UXJ4Cuw/+/NPL9+A6z+D53bbvBDoPwpogYKtyeg/MoyrNm6J6D8J8MC0je7mPyBp0NhHeu0/VAymcsKy6j/doc04EsnoPw9s/RJtDek/AAAAAAAA8D+uPOQQcBLpP6EcZmkCw+0//WjDNkJL5z+6hfAVlvDmP0lnLUVDMOY/scyHd8JN5j8f51tIAF7rPyKqOXGJ6+0/wFWNh3aL7T+6OFFyeArsP6485BBwEuk/AAAAAAAA8D8rYpFX5M3oPwHHwlM9Vuw/AiDO1Kmh7D+1c4CLqnDsP3dLvygeBes/uYLiwg1g7j+6Ylh5/MfrP9Qe/bxaCOo/+/NPL9+A6z+hHGZpAsPtPytikVfkzeg/AAAAAAAA8D8=",
          "dtype": "f8",
          "shape": "11, 11"
         },
         "zmax": 1,
         "zmin": -1
        },
        {
         "colorbar": {
          "tickfont": {
           "size": 16
          }
         },
         "colorscale": [
          [
           0,
           "rgb(5,48,97)"
          ],
          [
           0.1,
           "rgb(33,102,172)"
          ],
          [
           0.2,
           "rgb(67,147,195)"
          ],
          [
           0.3,
           "rgb(146,197,222)"
          ],
          [
           0.4,
           "rgb(209,229,240)"
          ],
          [
           0.5,
           "rgb(247,247,247)"
          ],
          [
           0.6,
           "rgb(253,219,199)"
          ],
          [
           0.7,
           "rgb(244,165,130)"
          ],
          [
           0.8,
           "rgb(214,96,77)"
          ],
          [
           0.9,
           "rgb(178,24,43)"
          ],
          [
           1,
           "rgb(103,0,31)"
          ]
         ],
         "hoverinfo": "skip",
         "showscale": false,
         "type": "heatmap",
         "x": [
          "C4",
          "CC",
          "BK",
          "WK",
          "AX",
          "SE",
          "GH",
          "LM",
          "OM",
          "OC",
          "OS"
         ],
         "xaxis": "x2",
         "y": [
          "C4",
          "CC",
          "BK",
          "WK",
          "AX",
          "SE",
          "GH",
          "LM",
          "OM",
          "OC",
          "OS"
         ],
         "yaxis": "y2",
         "z": {
          "bdata": "AAAAAAAA8D9mcAKjRx/vP8CZ4GUxl+0/Qg2KH0hb6z+J4MuIgTrpP4+ifgNwkec/A1YGVWp85T/nOdghH+vlPyjw4hdhuug/S++eT5nf5z/tDi7eNUzpP2ZwAqNHH+8/AAAAAAAA8D+dFAjIqkHuPwYAbVyDS+s/YySr1LLR6T+M1wE/ednnP5ABF8tPuuU/i439F4vz5D8BxZ+DPTbpP5PomazJNug/MnwX42V56T/AmeBlMZftP50UCMiqQe4/AAAAAAAA8D/j2yKcrNDqP3tS/NzM0ec/wJjuBaAp5j+mpfnFu+vjPwgtZO3QzeM/8Dsr4mWp5z8DhFxev27mP3FAwpgBrOc/Qg2KH0hb6z8GAG1cg0vrP+PbIpys0Oo/AAAAAAAA8D8r5CEkQeznP/bVImpkL+c/BsdMrHAT5j8nURfpNq7nP6J2V0Armuc/3A6OLUvn5j97C+7ICd/nP4ngy4iBOuk/YySr1LLR6T97UvzczNHnPyvkISRB7Oc/AAAAAAAA8D/myGaNZEnrP4d+yomN+ug/4dSZPjEQ5T82lBgS/lXuP8uxMag5F+w/dFFxl8eT6z+Pon4DcJHnP4zXAT952ec/wJjuBaAp5j/21SJqZC/nP+bIZo1kSes/AAAAAAAA8D/98PiEqvrtP7Ch57Dab+Y/TFFfoagW6j8aHFVaHuDrPwt4NhUAa+c/A1YGVWp85T+QARfLT7rlP6al+cW76+M/BsdMrHAT5j+HfsqJjfroP/3w+ISq+u0/AAAAAAAA8D/PiqAOkLXlPy6/mt7N2Oc/vh0AJBsH6z/5ezoHBUflP+c52CEf6+U/i439F4vz5D8ILWTt0M3jPydRF+k2ruc/4dSZPjEQ5T+woeew2m/mP8+KoA6QteU/AAAAAAAA8D92VBAzGUDkP091c4a0+eQ/je0yfBzK5z8o8OIXYbroPwHFn4M9Nuk/8Dsr4mWp5z+idldAK5rnPzaUGBL+Ve4/TFFfoagW6j8uv5rezdjnP3ZUEDMZQOQ/AAAAAAAA8D+n9m9ZjdfrP1vDcqwN+Os/S++eT5nf5z+T6JmsyTboPwOEXF6/buY/3A6OLUvn5j/LsTGoORfsPxocVVoe4Os/vh0AJBsH6z9PdXOGtPnkP6f2b1mN1+s/AAAAAAAA8D/naGg47F3oP+0OLt41TOk/MnwX42V56T9xQMKYAaznP3sL7sgJ3+c/dFFxl8eT6z8LeDYVAGvnP/l7OgcFR+U/je0yfBzK5z9bw3KsDfjrP+doaDjsXeg/AAAAAAAA8D8=",
          "dtype": "f8",
          "shape": "11, 11"
         },
         "zmax": 1,
         "zmin": -1
        },
        {
         "colorbar": {
          "tickfont": {
           "size": 16
          }
         },
         "colorscale": [
          [
           0,
           "rgb(5,48,97)"
          ],
          [
           0.1,
           "rgb(33,102,172)"
          ],
          [
           0.2,
           "rgb(67,147,195)"
          ],
          [
           0.3,
           "rgb(146,197,222)"
          ],
          [
           0.4,
           "rgb(209,229,240)"
          ],
          [
           0.5,
           "rgb(247,247,247)"
          ],
          [
           0.6,
           "rgb(253,219,199)"
          ],
          [
           0.7,
           "rgb(244,165,130)"
          ],
          [
           0.8,
           "rgb(214,96,77)"
          ],
          [
           0.9,
           "rgb(178,24,43)"
          ],
          [
           1,
           "rgb(103,0,31)"
          ]
         ],
         "hoverinfo": "skip",
         "showscale": false,
         "type": "heatmap",
         "x": [
          "C4",
          "CC",
          "BK",
          "WK",
          "AX",
          "SE",
          "GH",
          "LM",
          "OM",
          "OC",
          "OS"
         ],
         "xaxis": "x3",
         "y": [
          "C4",
          "CC",
          "BK",
          "WK",
          "AX",
          "SE",
          "GH",
          "LM",
          "OM",
          "OC",
          "OS"
         ],
         "yaxis": "y3",
         "z": {
          "bdata": "AAAAAAAA8D8v3onPJVHvPwKCa5VNd+0/BlGY/jjq6D/tk33y+3DnP9d7uVKs2ec/BmiWSpzT5D8cUnZx7DrqP2tNCKCI/OQ/IX+qtR/54z+udTMs/G7pPy/eic8lUe8/AAAAAAAA8D/OQcsqUK3tP/HpBbk5I+o/kXo1QuZT5z9G0Y1csSHnP/Zj6jrCkeQ/OMRULO6Z6T/zJQQhin7kP7m5hIidROM/nUzyDF7n6D8CgmuVTXftP85ByypQre0/AAAAAAAA8D+mVK7K/nHnPzDj5UvAueU/J1j6ocnj5T9+xMMy8cziPxBny3njMeg/SNKjJkUr5D/ukyWIJDriP/bfLb3mT+g/BlGY/jjq6D/x6QW5OSPqP6ZUrsr+cec/AAAAAAAA8D8uGEcJ7afkP+Re/KHjfOM/iJVPVIYJ4z/MOTDPgDDrP4el/iPrQ+E/5Iv6Ma7/3z9bGF7cIqbkP+2TffL7cOc/kXo1QuZT5z8w4+VLwLnlPy4YRwntp+Q/AAAAAAAA8D/tGVolLhjtP5ZIN1Zv/Os/ZhmtmbYb6j/Y777q/U3tPzO2lvRISuw/8MtnLcs87T/Xe7lSrNnnP0bRjVyxIec/J1j6ocnj5T/kXvyh43zjP+0ZWiUuGO0/AAAAAAAA8D9HqGvEr1vuP/lqnq4wD+s/GKYW+7kF6z8BzuKRd4rtP6Wwindwkus/BmiWSpzT5D/2Y+o6wpHkP37EwzLxzOI/iJVPVIYJ4z+WSDdWb/zrP0eoa8SvW+4/AAAAAAAA8D/KHEAxYzLqPyNWtcVKKOk/3Nhv5yhY7T8nwzNtk9PoPxxSdnHsOuo/OMRULO6Z6T8QZ8t54zHoP8w5MM+AMOs/ZhmtmbYb6j/5ap6uMA/rP8ocQDFjMuo/AAAAAAAA8D9djInfYcvmP6hc7yjD7ec/SRoemhts6j9rTQigiPzkP/MlBCGKfuQ/SNKjJkUr5D+Hpf4j60PhP9jvvur9Te0/GKYW+7kF6z8jVrXFSijpP12Mid9hy+Y/AAAAAAAA8D/ORFsuWSTsP3djceQI8ew/IX+qtR/54z+5uYSInUTjP+6TJYgkOuI/5Iv6Ma7/3z8ztpb0SErsPwHO4pF3iu0/3Nhv5yhY7T+oXO8ow+3nP85EWy5ZJOw/AAAAAAAA8D/2TyxRGi7qP651Myz8buk/nUzyDF7n6D/23y295k/oP1sYXtwipuQ/8MtnLcs87T+lsIp3cJLrPyfDM22T0+g/SRoemhts6j93Y3HkCPHsP/ZPLFEaLuo/AAAAAAAA8D8=",
          "dtype": "f8",
          "shape": "11, 11"
         },
         "zmax": 1,
         "zmin": -1
        },
        {
         "colorbar": {
          "tickfont": {
           "size": 16
          }
         },
         "colorscale": [
          [
           0,
           "rgb(5,48,97)"
          ],
          [
           0.1,
           "rgb(33,102,172)"
          ],
          [
           0.2,
           "rgb(67,147,195)"
          ],
          [
           0.3,
           "rgb(146,197,222)"
          ],
          [
           0.4,
           "rgb(209,229,240)"
          ],
          [
           0.5,
           "rgb(247,247,247)"
          ],
          [
           0.6,
           "rgb(253,219,199)"
          ],
          [
           0.7,
           "rgb(244,165,130)"
          ],
          [
           0.8,
           "rgb(214,96,77)"
          ],
          [
           0.9,
           "rgb(178,24,43)"
          ],
          [
           1,
           "rgb(103,0,31)"
          ]
         ],
         "hoverinfo": "skip",
         "showscale": false,
         "type": "heatmap",
         "x": [
          "C4",
          "CC",
          "BK",
          "WK",
          "AX",
          "SE",
          "GH",
          "LM",
          "OM",
          "OC",
          "OS"
         ],
         "xaxis": "x4",
         "y": [
          "C4",
          "CC",
          "BK",
          "WK",
          "AX",
          "SE",
          "GH",
          "LM",
          "OM",
          "OC",
          "OS"
         ],
         "yaxis": "y4",
         "z": {
          "bdata": "AAAAAAAA8D/cGhiJEWDrP78yFEjgJ+U/6WBPhiI56T93G9L1AFneP8lxg2piaeA/dEGjjn5c4D/E7YN31DjoP7Pta5LMTNQ//0v3yI6M0j/+2RY56+3jP9waGIkRYOs/AAAAAAAA8D+ZvjTm3hPmP9PCKYzgduc/PEjrGGnh4T/XR6/aB/zhP/BZJu0V8+A/w+Khj0q95T+NBSNmNZ7aP/ssIzCHs9c/oGNw+BXk4T+/MhRI4CflP5m+NObeE+Y/AAAAAAAA8D/zNV3N5kjkP0LR1+rUh9c/rKOQaUKD1D9GyqLVcYnMPyu6IJuKLdk/asAZUu4l1j/NViKkAU2+PyG9Hcs2pto/6WBPhiI56T/TwimM4HbnP/M1Xc3mSOQ/AAAAAAAA8D8NiEVL6ADgP0ID+STDg90/cbYcTpKN2j/VHHuGjZXmP95TtVDi+NM/v/ZNTaMczj/5oWcyhEDhP3cb0vUAWd4/PEjrGGnh4T9C0dfq1IfXPw2IRUvoAOA/AAAAAAAA8D+B73JrGKzmP0IROhA5seA/NDDquW0R3z9p7ddmPUnkP3dw+WjXUd0/IpvwD5lH4z/JcYNqYmngP9dHr9oH/OE/rKOQaUKD1D9CA/kkw4PdP4HvcmsYrOY/AAAAAAAA8D/dUHMxzCzqP5V09vH3keM/twdskajS4D+/AMfE1DrkP1WsyGPkv9s/dEGjjn5c4D/wWSbtFfPgP0bKotVxicw/cbYcTpKN2j9CEToQObHgP91QczHMLOo/AAAAAAAA8D99jaWvKMHkP2PuvfNyjdM/7JVXJy264j/1OPQnG7vWP8Ttg3fUOOg/w+Khj0q95T8ruiCbii3ZP9Uce4aNleY/NDDquW0R3z+VdPbx95HjP32Npa8oweQ/AAAAAAAA8D+3AxhULOnSP8Kw2uU7mdc/ximacEUr4z+z7WuSzEzUP40FI2Y1nto/asAZUu4l1j/eU7VQ4vjTP2nt12Y9SeQ/twdskajS4D9j7r3zco3TP7cDGFQs6dI/AAAAAAAA8D8Qord1UUfcPwFF+aJZTOE//0v3yI6M0j/7LCMwh7PXP81WIqQBTb4/v/ZNTaMczj93cPlo11HdP78Ax8TUOuQ/7JVXJy264j/CsNrlO5nXPxCit3VRR9w/AAAAAAAA8D8Y1Df2jLfRP/7ZFjnr7eM/oGNw+BXk4T8hvR3LNqbaP/mhZzKEQOE/IpvwD5lH4z9VrMhj5L/bP/U49Ccbu9Y/ximacEUr4z8BRfmiWUzhPxjUN/aMt9E/AAAAAAAA8D8=",
          "dtype": "f8",
          "shape": "11, 11"
         },
         "zmax": 1,
         "zmin": -1
        },
        {
         "colorbar": {
          "tickfont": {
           "size": 16
          }
         },
         "colorscale": [
          [
           0,
           "rgb(5,48,97)"
          ],
          [
           0.1,
           "rgb(33,102,172)"
          ],
          [
           0.2,
           "rgb(67,147,195)"
          ],
          [
           0.3,
           "rgb(146,197,222)"
          ],
          [
           0.4,
           "rgb(209,229,240)"
          ],
          [
           0.5,
           "rgb(247,247,247)"
          ],
          [
           0.6,
           "rgb(253,219,199)"
          ],
          [
           0.7,
           "rgb(244,165,130)"
          ],
          [
           0.8,
           "rgb(214,96,77)"
          ],
          [
           0.9,
           "rgb(178,24,43)"
          ],
          [
           1,
           "rgb(103,0,31)"
          ]
         ],
         "hoverinfo": "skip",
         "showscale": false,
         "type": "heatmap",
         "x": [
          "C4",
          "CC",
          "BK",
          "WK",
          "AX",
          "SE",
          "GH",
          "LM",
          "OM",
          "OC",
          "OS"
         ],
         "xaxis": "x5",
         "y": [
          "C4",
          "CC",
          "BK",
          "WK",
          "AX",
          "SE",
          "GH",
          "LM",
          "OM",
          "OC",
          "OS"
         ],
         "yaxis": "y5",
         "z": {
          "bdata": "AAAAAAAA8D/0zBqkHM7tP1rfGQWUyuQ/C6UfLWKm4T+zZ9De8IHSP4FaYS37O88/wwtMInKqxj8BggAOZz3aP7UJ1BYzVcg/O1FYRnAktz8x5qnIeqLdP/TMGqQczu0/AAAAAAAA8D9U6GLxWw/mPzvbJSRlXOI/HXhEGfa41D8zzd8++0bKPwa4OxXENsM/AR91PQgl1T+AKXYeJpLKP4XqWa+Y/qk/iFvgB3Ai3z9a3xkFlMrkP1ToYvFbD+Y/AAAAAAAA8D8agZCy59bWP9YvbaVLTKQ/4olT2jMknr9n8V2jCbK7v9LIUWoMjbU/mdqUDSAEtD/o2/mGJ/nLv90kS1VC6M8/C6UfLWKm4T872yUkZVziPxqBkLLn1tY/AAAAAAAA8D+m8PA28UbQP1iXDqM78MQ/pJta10eeyD8K8fRtYEbiP5wRVq05mME/Ckbh9YWMuT9M5GjSlOTQP7Nn0N7wgdI/HXhEGfa41D/WL22lS0ykP6bw8DbxRtA/AAAAAAAA8D8BjEEfIEfoP8CII8q0NeU//nBI19Fu4T8UlDAYVM7qPwP5SYbisOc/SN4vLvMv6T+BWmEt+zvPPzPN3z77Rso/4olT2jMknr9Ylw6jO/DEPwGMQR8gR+g/AAAAAAAA8D9dAtrNLXztPxciIFxrNeU/jXU29dSF5D9x6J/okHzrP0V7KrVDkeE/wwtMInKqxj8GuDsVxDbDP2fxXaMJsru/pJta10eeyD/AiCPKtDXlP10C2s0tfO0/AAAAAAAA8D91ylNrTb7mP7z3LsvYmt8/kWS2OYNn6j96YCgrCurZPwGCAA5nPdo/AR91PQgl1T/SyFFqDI21Pwrx9G1gRuI//nBI19Fu4T8XIiBcazXlP3XKU2tNvuY/AAAAAAAA8D8pqFOfHZfZPyFSqio2VeI/m+4caL+63j+1CdQWM1XIP4Apdh4mkso/mdqUDSAEtD+cEVatOZjBPxSUMBhUzuo/jXU29dSF5D+89y7L2JrfPymoU58dl9k/AAAAAAAA8D8TN3lWJMLlP/qCy0Ykaek/O1FYRnAktz+F6lmvmP6pP+jb+YYn+cu/Ckbh9YWMuT8D+UmG4rDnP3Hon+iQfOs/kWS2OYNn6j8hUqoqNlXiPxM3eVYkwuU/AAAAAAAA8D8n93IQexPgPzHmqch6ot0/iFvgB3Ai3z/dJEtVQujPP0zkaNKU5NA/SN4vLvMv6T9Feyq1Q5HhP3pgKCsK6tk/m+4caL+63j/6gstGJGnpPyf3chB7E+A/AAAAAAAA8D8=",
          "dtype": "f8",
          "shape": "11, 11"
         },
         "zmax": 1,
         "zmin": -1
        },
        {
         "colorbar": {
          "tickfont": {
           "size": 16
          }
         },
         "colorscale": [
          [
           0,
           "rgb(5,48,97)"
          ],
          [
           0.1,
           "rgb(33,102,172)"
          ],
          [
           0.2,
           "rgb(67,147,195)"
          ],
          [
           0.3,
           "rgb(146,197,222)"
          ],
          [
           0.4,
           "rgb(209,229,240)"
          ],
          [
           0.5,
           "rgb(247,247,247)"
          ],
          [
           0.6,
           "rgb(253,219,199)"
          ],
          [
           0.7,
           "rgb(244,165,130)"
          ],
          [
           0.8,
           "rgb(214,96,77)"
          ],
          [
           0.9,
           "rgb(178,24,43)"
          ],
          [
           1,
           "rgb(103,0,31)"
          ]
         ],
         "hoverinfo": "skip",
         "showscale": false,
         "type": "heatmap",
         "x": [
          "C4",
          "CC",
          "BK",
          "WK",
          "AX",
          "SE",
          "GH",
          "LM",
          "OM",
          "OC",
          "OS"
         ],
         "xaxis": "x6",
         "y": [
          "C4",
          "CC",
          "BK",
          "WK",
          "AX",
          "SE",
          "GH",
          "LM",
          "OM",
          "OC",
          "OS"
         ],
         "yaxis": "y6",
         "z": {
          "bdata": "AAAAAAAA8D8YyUBXWvvtP/Jx5yUGFOM/6HAseo+r4T85gSO2APrZP69/ZJ676dw/m759kgRm1j9LYvZrQmziPzUkix5H1dM/9Lo497be0z8fN8Y8HGPhPxjJQFda++0/AAAAAAAA8D9sgxMVUtHlPxX3ZShff+M/MLZ8gqlE2j8LkWsFRhnZPw4kd9QZhdM/QrgjkFpS4T9TRks6WnjSPwEF3O/lmtA/1UCdGKmU4T/yceclBhTjP2yDExVS0eU/AAAAAAAA8D/+QppfoJ7cP1YV5LAdLrg/U9TO7JoPsT+xl6XQbbCMv8RcRe1Q3NM/EuI4UB4Tuz/awLQ6fGesvxBGpM16tdE/6HAseo+r4T8V92UoX3/jP/5Cml+gntw/AAAAAAAA8D+AuK5wMB3bP941tfXK/tg/bbsWNtEw2j/d6xxtaIXpP3OQ/Gg/ftI/tIP/CXmF0z+QDpVJcoXbPzmBI7YA+tk/MLZ8gqlE2j9WFeSwHS64P4C4rnAwHds/AAAAAAAA8D97PrB6gEDrP+EU3XLTrOk/7IyAM5i45T+My8PJFi3rP6jQRcHFcOo/24rh2hA+6j+vf2Seu+ncPwuRawVGGdk/U9TO7JoPsT/eNbX1yv7YP3s+sHqAQOs/AAAAAAAA8D/7o1D/XsztPzQrMfAiYec/tOAB5DIe6D9nV3gsHHjsP4VNRAJr1uY/m759kgRm1j8OJHfUGYXTP7GXpdBtsIy/bbsWNtEw2j/hFN1y06zpP/ujUP9ezO0/AAAAAAAA8D9k0zYUMCjnP+SwNIAnfuU/3ixAdu5r7D+RCeM2GrniP0ti9mtCbOI/QrgjkFpS4T/EXEXtUNzTP93rHG1ohek/7IyAM5i45T80KzHwImHnP2TTNhQwKOc/AAAAAAAA8D86eqn98zXhPzv2+Fa5g+Q/759BKuls5T81JIseR9XTP1NGSzpaeNI/EuI4UB4Tuz9zkPxoP37SP4zLw8kWLes/tOAB5DIe6D/ksDSAJ37lPzp6qf3zNeE/AAAAAAAA8D+aaUOGkhvpP4rugTSZI+k/9Lo497be0z8BBdzv5ZrQP9rAtDp8Z6y/tIP/CXmF0z+o0EXBxXDqP2dXeCwceOw/3ixAdu5r7D879vhWuYPkP5ppQ4aSG+k/AAAAAAAA8D/i5Idhf+HkPx83xjwcY+E/1UCdGKmU4T8QRqTNerXRP5AOlUlyhds/24rh2hA+6j+FTUQCa9bmP5EJ4zYaueI/759BKuls5T+K7oE0mSPpP+Lkh2F/4eQ/AAAAAAAA8D8=",
          "dtype": "f8",
          "shape": "11, 11"
         },
         "zmax": 1,
         "zmin": -1
        },
        {
         "colorbar": {
          "tickfont": {
           "size": 16
          }
         },
         "colorscale": [
          [
           0,
           "rgb(5,48,97)"
          ],
          [
           0.1,
           "rgb(33,102,172)"
          ],
          [
           0.2,
           "rgb(67,147,195)"
          ],
          [
           0.3,
           "rgb(146,197,222)"
          ],
          [
           0.4,
           "rgb(209,229,240)"
          ],
          [
           0.5,
           "rgb(247,247,247)"
          ],
          [
           0.6,
           "rgb(253,219,199)"
          ],
          [
           0.7,
           "rgb(244,165,130)"
          ],
          [
           0.8,
           "rgb(214,96,77)"
          ],
          [
           0.9,
           "rgb(178,24,43)"
          ],
          [
           1,
           "rgb(103,0,31)"
          ]
         ],
         "hoverinfo": "skip",
         "showscale": false,
         "type": "heatmap",
         "x": [
          "C4",
          "CC",
          "BK",
          "WK",
          "AX",
          "SE",
          "GH",
          "LM",
          "OM",
          "OC",
          "OS"
         ],
         "xaxis": "x7",
         "y": [
          "C4",
          "CC",
          "BK",
          "WK",
          "AX",
          "SE",
          "GH",
          "LM",
          "OM",
          "OC",
          "OS"
         ],
         "yaxis": "y7",
         "z": {
          "bdata": "AAAAAAAA8D8HXQTcoKftP6wClRwAiuQ/qKjncvAD4T8TrBpvoNvPPzPym7T+G8s/am2YMPt7wD80MITW2ITWP/3UkJZGXMU/uZCEwHxWpD/B7is8RcDaPwddBNygp+0/AAAAAAAA8D/lkwYHyevlP3M7nLxKi+I/lSJJM1aM0T+Tngq4CWTDP5iezQe1grM/j/zJRAQj0T8bjsFnsILJPxwUzeauYZG/bcLbJVw93D+sApUcAIrkP+WTBgfJ6+U/AAAAAAAA8D90xf43XRDXP1CXQqID/5i/rBPNt4y1uL92Z/KvmLXGv8kO0RByeaU/JYQUw0OJpj87jvNoaWfTv2nR24v1r8o/qKjncvAD4T9zO5y8SoviP3TF/jddENc/AAAAAAAA8D+xsa/M/czJP/Uxku4thMA/0e1H5UgnxT9vOJdwB0fiPzf9aZ2IysM/M7nyMcI6sz9AvlBqFvTKPxOsGm+g288/lSJJM1aM0T9Ql0KiA/+Yv7Gxr8z9zMk/AAAAAAAA8D8egWYkH67nP94IntX3QeQ/BD9P2WG93z+VUOXxH6vpP6lKXw7Q5OU/ERUyB44Z6T8z8pu0/hvLP5OeCrgJZMM/rBPNt4y1uL/1MZLuLYTAPx6BZiQfruc/AAAAAAAA8D/5z9Iim3rtP0wdmNsKNOQ/yDl3a7rR4z/c+b8LGvzqP9/ryFsxzeA/am2YMPt7wD+Yns0HtYKzP3Zn8q+Ytca/0e1H5UgnxT/eCJ7V90HkP/nP0iKbeu0/AAAAAAAA8D+geZaJ2zPmP/3ucFRmMt4/tF0UuEqZ6j9GiqKWjTzWPzQwhNbYhNY/j/zJRAQj0T/JDtEQcnmlP284l3AHR+I/BD9P2WG93z9MHZjbCjTkP6B5lonbM+Y/AAAAAAAA8D8dqr0X3ynXP+lCsrDHrOE/U4/+K+g+2j/91JCWRlzFPxuOwWewgsk/JYQUw0OJpj83/WmdiMrDP5VQ5fEfq+k/yDl3a7rR4z/97nBUZjLePx2qvRffKdc/AAAAAAAA8D/hqIrp/1rkP/UBFEU4n+g/uZCEwHxWpD8cFM3mrmGRvzuO82hpZ9O/M7nyMcI6sz+pSl8O0OTlP9z5vwsa/Oo/tF0UuEqZ6j/pQrKwx6zhP+Goiun/WuQ/AAAAAAAA8D8FBEGBgVnbP8HuKzxFwNo/bcLbJVw93D9p0duL9a/KP0C+UGoW9Mo/ERUyB44Z6T/f68hbMc3gP0aKopaNPNY/U4/+K+g+2j/1ARRFOJ/oPwUEQYGBWds/AAAAAAAA8D8=",
          "dtype": "f8",
          "shape": "11, 11"
         },
         "zmax": 1,
         "zmin": -1
        },
        {
         "colorbar": {
          "tickfont": {
           "size": 16
          }
         },
         "colorscale": [
          [
           0,
           "rgb(5,48,97)"
          ],
          [
           0.1,
           "rgb(33,102,172)"
          ],
          [
           0.2,
           "rgb(67,147,195)"
          ],
          [
           0.3,
           "rgb(146,197,222)"
          ],
          [
           0.4,
           "rgb(209,229,240)"
          ],
          [
           0.5,
           "rgb(247,247,247)"
          ],
          [
           0.6,
           "rgb(253,219,199)"
          ],
          [
           0.7,
           "rgb(244,165,130)"
          ],
          [
           0.8,
           "rgb(214,96,77)"
          ],
          [
           0.9,
           "rgb(178,24,43)"
          ],
          [
           1,
           "rgb(103,0,31)"
          ]
         ],
         "hoverinfo": "skip",
         "showscale": false,
         "type": "heatmap",
         "x": [
          "C4",
          "CC",
          "BK",
          "WK",
          "AX",
          "SE",
          "GH",
          "LM",
          "OM",
          "OC",
          "OS"
         ],
         "xaxis": "x8",
         "y": [
          "C4",
          "CC",
          "BK",
          "WK",
          "AX",
          "SE",
          "GH",
          "LM",
          "OM",
          "OC",
          "OS"
         ],
         "yaxis": "y8",
         "z": {
          "bdata": "AAAAAAAA8D+BKyIzIpHsP0855O2tFeQ/Pbw8zfDY5j9rHVmJWgzeP5DXyjf6+eY/kwoTCJ/m4D8ETxtb9dThPwyxer2x888/EjRLuBLV0D+yPJEKh63TP4ErIjMikew/AAAAAAAA8D95j6Gt9JzjP9K+dC8VkOk/ccFbvPIS3z/MtDJ3GRjnPwzKtuNcXeI/d667YKcS4D9117c4r/bTP8JcaUPJb9I/Sg5Uehki1T9POeTtrRXkP3mPoa30nOM/AAAAAAAA8D9PYtDSLDfeP5MU8ycLOeE//XVsI9Jo3j/log8+TsrYP5LTNa48YeQ/F4O5fjH21D9+RgKDo+HCP8QoBTxIH98/Pbw8zfDY5j/SvnQvFZDpP09i0NIsN94/AAAAAAAA8D//O5KR/arcP19M7KhQxOU/LvO3TKBQ5D81CQNouoXjP8vwM1kHL84/FE57SpCe1j/zogV3aUfKP2sdWYlaDN4/ccFbvPIS3z+TFPMnCznhP/87kpH9qtw/AAAAAAAA8D9rakCXqHPmP6h2ymC5v+I/W1PHidxc5T8qk3CuMfLhPwptfI/LVdw//TTEIEwk5D+Q18o3+vnmP8y0MncZGOc//XVsI9Jo3j9fTOyoUMTlP2tqQJeoc+Y/AAAAAAAA8D9UI+YmHoPoP9VSJeC4/OM/vd/2QXK73D9cJ5rPSSzhP+GE8vX8Md8/kwoTCJ/m4D8MyrbjXF3iP+WiDz5Oytg/LvO3TKBQ5D+odspgub/iP1Qj5iYeg+g/AAAAAAAA8D/IN+XXwTbjPzJBG14KiMc/3afEyPz01z90y5uq46HSPwRPG1v11OE/d667YKcS4D+S0zWuPGHkPzUJA2i6heM/W1PHidxc5T/VUiXguPzjP8g35dfBNuM/AAAAAAAA8D+torF2CwjTP4KKiwkQS9k/+QzSbA7U3j8MsXq9sfPPP3XXtziv9tM/F4O5fjH21D/L8DNZBy/OPyqTcK4x8uE/vd/2QXK73D8yQRteCojHP62isXYLCNM/AAAAAAAA8D8EpdUrdvrcP3xXoX3HkeU/EjRLuBLV0D/CXGlDyW/SP35GAoOj4cI/FE57SpCe1j8KbXyPy1XcP1wnms9JLOE/3afEyPz01z+CiosJEEvZPwSl1St2+tw/AAAAAAAA8D9VxvwzNXvYP7I8kQqHrdM/Sg5Uehki1T/EKAU8SB/fP/OiBXdpR8o//TTEIEwk5D/hhPL1/DHfP3TLm6rjodI/+QzSbA7U3j98V6F9x5HlP1XG/DM1e9g/AAAAAAAA8D8=",
          "dtype": "f8",
          "shape": "11, 11"
         },
         "zmax": 1,
         "zmin": -1
        },
        {
         "colorbar": {
          "tickfont": {
           "size": 16
          }
         },
         "colorscale": [
          [
           0,
           "rgb(5,48,97)"
          ],
          [
           0.1,
           "rgb(33,102,172)"
          ],
          [
           0.2,
           "rgb(67,147,195)"
          ],
          [
           0.3,
           "rgb(146,197,222)"
          ],
          [
           0.4,
           "rgb(209,229,240)"
          ],
          [
           0.5,
           "rgb(247,247,247)"
          ],
          [
           0.6,
           "rgb(253,219,199)"
          ],
          [
           0.7,
           "rgb(244,165,130)"
          ],
          [
           0.8,
           "rgb(214,96,77)"
          ],
          [
           0.9,
           "rgb(178,24,43)"
          ],
          [
           1,
           "rgb(103,0,31)"
          ]
         ],
         "hoverinfo": "skip",
         "showscale": false,
         "type": "heatmap",
         "x": [
          "C4",
          "CC",
          "BK",
          "WK",
          "AX",
          "SE",
          "GH",
          "LM",
          "OM",
          "OC",
          "OS"
         ],
         "xaxis": "x9",
         "y": [
          "C4",
          "CC",
          "BK",
          "WK",
          "AX",
          "SE",
          "GH",
          "LM",
          "OM",
          "OC",
          "OS"
         ],
         "yaxis": "y9",
         "z": {
          "bdata": "AAAAAAAA8D8vZNzT2JHuP6iGPZ71X+s/xGHt95N24z+c5q/M9/nlP1M3LNAeleY/xd7+XHlu4T+9M3g+hd/iP8/TcUSbJdw/vmErrH9l3z93b/jZ8ojiPy9k3NPYke4/AAAAAAAA8D/0hFTgGnbrP/WsQ2g0s+U//AuTHjql5j/bgslsmkLnPyVmYwhNb+M/kZFt3ilu4z/Z0KHirijdP0LYu/JDveA/9NXqxFOH4j+ohj2e9V/rP/SEVOAadus/AAAAAAAA8D8adAJ8ECLiP4uJ0aXsbuQ/cDUEUon45D/mAo8kIIzfPxG3ibTGSuI/LsNO5HGU3j/0TlcqzUTeP0jHs4wm4+M/xGHt95N24z/1rENoNLPlPxp0AnwQIuI/AAAAAAAA8D+njqg0ZGjiP4uBeFlN1+E/AvCrFTdQ4z8QNm0C3RnnP4ZPwSEzXdU/ShgH+lDN2T/ZOj6MRMPUP5zmr8z3+eU//AuTHjql5j+LidGl7G7kP6eOqDRkaOI/AAAAAAAA8D/vEB/hwh3rP24ry+rVd+c/AsV4xIAr5j/elDxkPPznP37+PQZD5OU/lr5vV5X65z9TNyzQHpXmP9uCyWyaQuc/cDUEUon45D+LgXhZTdfhP+8QH+HCHes/AAAAAAAA8D9ej+h9E6LrPwFr8NuaBug/X/zBe3995T/Hxb9EKhboP0uqrgUs/eU/xd7+XHlu4T8lZmMITW/jP+YCjyQgjN8/AvCrFTdQ4z9uK8vq1XfnP16P6H0Tous/AAAAAAAA8D8py/HadD/oP+AfBfytU+E/3SSKtHpy6D/ktOX/kADeP70zeD6F3+I/kZFt3ilu4z8Rt4m0xkriPxA2bQLdGec/AsV4xIAr5j8Ba/DbmgboPynL8dp0P+g/AAAAAAAA8D90sXydm0HhPyByZqqAcOQ//46DA2DN3z/P03FEmyXcP9nQoeKuKN0/LsNO5HGU3j+GT8EhM13VP96UPGQ8/Oc/X/zBe3995T/gHwX8rVPhP3SxfJ2bQeE/AAAAAAAA8D/HSvUS8sXlP7Gl6h1Wm+c/vmErrH9l3z9C2LvyQ73gP/ROVyrNRN4/ShgH+lDN2T9+/j0GQ+TlP8fFv0QqFug/3SSKtHpy6D8gcmaqgHDkP8dK9RLyxeU/AAAAAAAA8D/gDHR4zRvhP3dv+NnyiOI/9NXqxFOH4j9Ix7OMJuPjP9k6PoxEw9Q/lr5vV5X65z9Lqq4FLP3lP+S05f+QAN4//46DA2DN3z+xpeodVpvnP+AMdHjNG+E/AAAAAAAA8D8=",
          "dtype": "f8",
          "shape": "11, 11"
         },
         "zmax": 1,
         "zmin": -1
        },
        {
         "colorbar": {
          "tickfont": {
           "size": 16
          }
         },
         "colorscale": [
          [
           0,
           "rgb(5,48,97)"
          ],
          [
           0.1,
           "rgb(33,102,172)"
          ],
          [
           0.2,
           "rgb(67,147,195)"
          ],
          [
           0.3,
           "rgb(146,197,222)"
          ],
          [
           0.4,
           "rgb(209,229,240)"
          ],
          [
           0.5,
           "rgb(247,247,247)"
          ],
          [
           0.6,
           "rgb(253,219,199)"
          ],
          [
           0.7,
           "rgb(244,165,130)"
          ],
          [
           0.8,
           "rgb(214,96,77)"
          ],
          [
           0.9,
           "rgb(178,24,43)"
          ],
          [
           1,
           "rgb(103,0,31)"
          ]
         ],
         "hoverinfo": "skip",
         "showscale": false,
         "type": "heatmap",
         "x": [
          "C4",
          "CC",
          "BK",
          "WK",
          "AX",
          "SE",
          "GH",
          "LM",
          "OM",
          "OC",
          "OS"
         ],
         "xaxis": "x10",
         "y": [
          "C4",
          "CC",
          "BK",
          "WK",
          "AX",
          "SE",
          "GH",
          "LM",
          "OM",
          "OC",
          "OS"
         ],
         "yaxis": "y10",
         "z": {
          "bdata": "AAAAAAAA8D9F1zsQ50frPyNZFvzUD+c/NnVrDTdT0z/VmfhGqXTgP6W396XRZ+E/DvwvlPBg1z8iB+YztO3aP4Y3E7Ps+9A/5/qEFwU6xz835t0PevPVP0XXOxDnR+s/AAAAAAAA8D80r1tgbr/mP0AYQGyfkN4/DZKdNp3F3z/XYS9mxFzdPzJR5UnaNNg/L/NG0pwE2D/lo/jP1djNP0c9gPPiXMo/XM3n+xCu0D8jWRb81A/nPzSvW2Buv+Y/AAAAAAAA8D+bIHcyLt7KPwTH4Qvic9g/sGhLOgXi1j/2lfWaL9zKP/9SalFLptY/uqX1mbB10D8LTqKHDbTBP0xv0NwqENc/NnVrDTdT0z9AGEBsn5DeP5sgdzIu3so/AAAAAAAA8D+qWrNA6wTWP6+7Z0uRAsI/zbvacO720T+YF5UyO9zjP5uqpGnJF8k/qdu8H9eKxj+cgsS991F/v9WZ+EapdOA/DZKdNp3F3z8Ex+EL4nPYP6pas0DrBNY/AAAAAAAA8D+LSdfZrUvnP+PrPld5I+U/XgmYGzif4T88pe42VrThPxFc7KlaFOM/rNJLI25z4z+lt/el0WfhP9dhL2bEXN0/sGhLOgXi1j+vu2dLkQLCP4tJ19mtS+c/AAAAAAAA8D+3pUw95ZnqP+/WRlCe9do/FUt3OC9q2D91E5cdtofhP0bJzSUfl+E/DvwvlPBg1z8yUeVJ2jTYP/aV9Zov3Mo/zbvacO720T/j6z5XeSPlP7elTD3lmeo/AAAAAAAA8D9td+I4WVHdP6loGVZAztA/MssKaoTg3z+uc0vFR2nYPyIH5jO07do/L/NG0pwE2D//UmpRS6bWP5gXlTI73OM/XgmYGzif4T/v1kZQnvXaP2134jhZUd0/AAAAAAAA8D8S1lI1yzPRP4mfqYg+gds/RoRYVgdh2D+GNxOz7PvQP+Wj+M/V2M0/uqX1mbB10D+bqqRpyRfJPzyl7jZWtOE/FUt3OC9q2D+paBlWQM7QPxLWUjXLM9E/AAAAAAAA8D+MSL27hzfjP1PU52RNsN4/5/qEFwU6xz9HPYDz4lzKPwtOoocNtME/qdu8H9eKxj8RXOypWhTjP3UTlx22h+E/MssKaoTg3z+Jn6mIPoHbP4xIvbuHN+M/AAAAAAAA8D93/9NQjp7XPzfm3Q9689U/XM3n+xCu0D9Mb9DcKhDXP5yCxL33UX+/rNJLI25z4z9Gyc0lH5fhP65zS8VHadg/RoRYVgdh2D9T1OdkTbDeP3f/01COntc/AAAAAAAA8D8=",
          "dtype": "f8",
          "shape": "11, 11"
         },
         "zmax": 1,
         "zmin": -1
        },
        {
         "colorbar": {
          "tickfont": {
           "size": 16
          }
         },
         "colorscale": [
          [
           0,
           "rgb(5,48,97)"
          ],
          [
           0.1,
           "rgb(33,102,172)"
          ],
          [
           0.2,
           "rgb(67,147,195)"
          ],
          [
           0.3,
           "rgb(146,197,222)"
          ],
          [
           0.4,
           "rgb(209,229,240)"
          ],
          [
           0.5,
           "rgb(247,247,247)"
          ],
          [
           0.6,
           "rgb(253,219,199)"
          ],
          [
           0.7,
           "rgb(244,165,130)"
          ],
          [
           0.8,
           "rgb(214,96,77)"
          ],
          [
           0.9,
           "rgb(178,24,43)"
          ],
          [
           1,
           "rgb(103,0,31)"
          ]
         ],
         "hoverinfo": "skip",
         "showscale": false,
         "type": "heatmap",
         "x": [
          "C4",
          "CC",
          "BK",
          "WK",
          "AX",
          "SE",
          "GH",
          "LM",
          "OM",
          "OC",
          "OS"
         ],
         "xaxis": "x11",
         "y": [
          "C4",
          "CC",
          "BK",
          "WK",
          "AX",
          "SE",
          "GH",
          "LM",
          "OM",
          "OC",
          "OS"
         ],
         "yaxis": "y11",
         "z": {
          "bdata": "AAAAAAAA8D8MfELFjqXvP2pebrYtvO4/ESDxzqws7T++wQfXpHjsP+MU5JJ+0ew/yovGBHPZ6j8VX29NmMPqP44vy87kC+U/zCNfz0be5D/MOCCW3OTnPwx8QsWOpe8/AAAAAAAA8D8pbfSMiuzuP0/JdweEp+0/tIClzcMZ7T9R1YcCpQztP+odIvQRMes/QRwW59Ay6z/PJMe1uU/mP7DJWVIvouU/QuvyfXTi6D9qXm62LbzuPylt9IyK7O4/AAAAAAAA8D/1Gfs5PYDsP1O7Mz054Ow/BXiY5D8R7T88MTeOr1DrP9FByZG7pus/hCmmJfT35T9LGGx4KyPmPxjcd+PVvuk/ESDxzqws7T9PyXcHhKftP/UZ+zk9gOw/AAAAAAAA8D+atqZlbprsPzz+6tilBOw/x+se3MRx6z8W+cOBKjPsP9u++Wh0ruU/DzU4gKKn4z9geu8aV6TnP77BB9ekeOw/tIClzcMZ7T9TuzM9OeDsP5q2pmVumuw/AAAAAAAA8D/iaTHOx0XuPzflPJ1fH+0/NGwj2Fyk7D8+fKw81EjpP9UNoMBDz+c/oTuwP2266T/jFOSSftHsP1HVhwKlDO0/BXiY5D8R7T88/urYpQTsP+JpMc7HRe4/AAAAAAAA8D/cV0q0FWvuP9cySu/1cOw/nW+oE3GS5z8dFm1+OvfoP9Urb3OO4uk/yovGBHPZ6j/qHSL0ETHrPzwxN46vUOs/x+se3MRx6z835TydXx/tP9xXSrQVa+4/AAAAAAAA8D/WUADVySXtPyLrssyEt+Q/upI8z52b5T/I6DiZs3foPxVfb02Yw+o/QRwW59Ay6z/RQcmRu6brPxb5w4EqM+w/NGwj2Fyk7D/XMkrv9XDsP9ZQANXJJe0/AAAAAAAA8D931XX+/2/kP2sA57bEY+Q/eO35EAIl6j+OL8vO5AvlP88kx7W5T+Y/hCmmJfT35T/bvvlodK7lPz58rDzUSOk/nW+oE3GS5z8i67LMhLfkP3fVdf7/b+Q/AAAAAAAA8D9AhuZOyRjpP+ZKiHztmec/zCNfz0be5D+wyVlSL6LlP0sYbHgrI+Y/DzU4gKKn4z/VDaDAQ8/nPx0WbX469+g/upI8z52b5T9rAOe2xGPkP0CG5k7JGOk/AAAAAAAA8D8y5+lmhR/nP8w4IJbc5Oc/QuvyfXTi6D8Y3Hfj1b7pP2B67xpXpOc/oTuwP2266T/VK29zjuLpP8joOJmzd+g/eO35EAIl6j/mSoh87ZnnPzLn6WaFH+c/AAAAAAAA8D8=",
          "dtype": "f8",
          "shape": "11, 11"
         },
         "zmax": 1,
         "zmin": -1
        },
        {
         "colorbar": {
          "tickfont": {
           "size": 16
          }
         },
         "colorscale": [
          [
           0,
           "rgb(5,48,97)"
          ],
          [
           0.1,
           "rgb(33,102,172)"
          ],
          [
           0.2,
           "rgb(67,147,195)"
          ],
          [
           0.3,
           "rgb(146,197,222)"
          ],
          [
           0.4,
           "rgb(209,229,240)"
          ],
          [
           0.5,
           "rgb(247,247,247)"
          ],
          [
           0.6,
           "rgb(253,219,199)"
          ],
          [
           0.7,
           "rgb(244,165,130)"
          ],
          [
           0.8,
           "rgb(214,96,77)"
          ],
          [
           0.9,
           "rgb(178,24,43)"
          ],
          [
           1,
           "rgb(103,0,31)"
          ]
         ],
         "hoverinfo": "skip",
         "showscale": false,
         "type": "heatmap",
         "x": [
          "C4",
          "CC",
          "BK",
          "WK",
          "AX",
          "SE",
          "GH",
          "LM",
          "OM",
          "OC",
          "OS"
         ],
         "xaxis": "x12",
         "y": [
          "C4",
          "CC",
          "BK",
          "WK",
          "AX",
          "SE",
          "GH",
          "LM",
          "OM",
          "OC",
          "OS"
         ],
         "yaxis": "y12",
         "z": {
          "bdata": "AAAAAAAA8D9vS/uToj3uP+VdmAFSyuo/wQf00OuV6T8Xclp9i9zhP+J/5FYtuuA/ERe0VZT01z+rwn9vu0rnPwD0VAxhINo/Mt1KLKLi2D/7UdQf/IzjP29L+5OiPe4/AAAAAAAA8D84S3H3ZqvrP3am9diQIus/5LWJVj0b4T8fpD6x4RzdP+DF5+pKKdQ/jHcw1JTc5D9gUKfKkF7XPyLSYMp6E9U/qMrUiS1b4j/lXZgBUsrqPzhLcfdmq+s/AAAAAAAA8D/wz9gZA5/nP/qv48tKNt8/ar6grrLf2D+rJJbhctvOP0nBhi1TkuM/31X2IiRQ1z/yuMJDalTSP+YScPSzSOI/wQf00OuV6T92pvXYkCLrP/DP2BkDn+c/AAAAAAAA8D/NWnAfqOjgP1cS/VOjtds/Gz1Qij+61j9WR141CD/nPw0jQZWHe9c/R7yB9xfD1T8KFcybAoDgPxdyWn2L3OE/5LWJVj0b4T/6r+PLSjbfP81acB+o6OA/AAAAAAAA8D+f3UYo3uPnP3ksH99rCOU/jPPq1slA5j/GL1P4osDoP0jqVgd1WeY/zz4XNKct6j/if+RWLbrgPx+kPrHhHN0/ar6grrLf2D9XEv1To7XbP5/dRije4+c/AAAAAAAA8D+ZNJ+EoxDtP15hZCOsMec/KmAo4LtF4z8mp5dD9O/oP05u4Lf0DeQ/ERe0VZT01z/gxefqSinUP6skluFy284/Gz1Qij+61j95LB/fawjlP5k0n4SjEO0/AAAAAAAA8D+RJy07FpDkP/QQoZeKid8/3ooX4im06D8gvRNfVv7dP6vCf2+7Suc/jHcw1JTc5D9JwYYtU5LjP1ZHXjUIP+c/jPPq1slA5j9eYWQjrDHnP5EnLTsWkOQ/AAAAAAAA8D8/8Vk7tLngP2FDGBOY5uM/tlqORj345D8A9FQMYSDaP2BQp8qQXtc/31X2IiRQ1z8NI0GVh3vXP8YvU/iiwOg/KmAo4LtF4z/0EKGXionfPz/xWTu0ueA/AAAAAAAA8D9nhdKGTX3mPzhx/gg98uk/Mt1KLKLi2D8i0mDKehPVP/K4wkNqVNI/R7yB9xfD1T9I6lYHdVnmPyanl0P07+g/3ooX4im06D9hQxgTmObjP2eF0oZNfeY/AAAAAAAA8D9x/urpWXLiP/tR1B/8jOM/qMrUiS1b4j/mEnD0s0jiPwoVzJsCgOA/zz4XNKct6j9ObuC39A3kPyC9E19W/t0/tlqORj345D84cf4IPfLpP3H+6ulZcuI/AAAAAAAA8D8=",
          "dtype": "f8",
          "shape": "11, 11"
         },
         "zmax": 1,
         "zmin": -1
        },
        {
         "colorbar": {
          "tickfont": {
           "size": 16
          }
         },
         "colorscale": [
          [
           0,
           "rgb(5,48,97)"
          ],
          [
           0.1,
           "rgb(33,102,172)"
          ],
          [
           0.2,
           "rgb(67,147,195)"
          ],
          [
           0.3,
           "rgb(146,197,222)"
          ],
          [
           0.4,
           "rgb(209,229,240)"
          ],
          [
           0.5,
           "rgb(247,247,247)"
          ],
          [
           0.6,
           "rgb(253,219,199)"
          ],
          [
           0.7,
           "rgb(244,165,130)"
          ],
          [
           0.8,
           "rgb(214,96,77)"
          ],
          [
           0.9,
           "rgb(178,24,43)"
          ],
          [
           1,
           "rgb(103,0,31)"
          ]
         ],
         "hoverinfo": "skip",
         "showscale": false,
         "type": "heatmap",
         "x": [
          "C4",
          "CC",
          "BK",
          "WK",
          "AX",
          "SE",
          "GH",
          "LM",
          "OM",
          "OC",
          "OS"
         ],
         "xaxis": "x13",
         "y": [
          "C4",
          "CC",
          "BK",
          "WK",
          "AX",
          "SE",
          "GH",
          "LM",
          "OM",
          "OC",
          "OS"
         ],
         "yaxis": "y13",
         "z": {
          "bdata": "AAAAAAAA8D90tlPJBYLtP3y/G25q0Og/UJjaqzv34j/wzupkPlXjP4RQtuEdteQ/uHsi8sQ74T9ZiVTelEHlP1sc9J9e/eA/R1rLt2ot4D8svPIH6uHiP3S2U8kFgu0/AAAAAAAA8D+jca6jKuLoP566KbeV6eU/4QukGetk5j/K9+eLKjLmPxNz2Q28AOQ/YEOve/Ip5j+V3C8jNxniP/uvvfhMWuE/ruD972jd5D98vxtuatDoP6NxrqMq4ug/AAAAAAAA8D9Q3XVzF0zdP4Uwn+ZWteM/HnKET/qr4z9OQrOy/UDhP+NKVCdT/eQ/Rjv0bmJR4D9ymapncZrfP5jH3xzpWeQ/UJjaqzv34j+euim3lenlP1DddXMXTN0/AAAAAAAA8D/d338EJF7hP4Y5v2jVCuA/gxDUh9194T+ofAVDLOfnP2AlJdqh7do/fleJaafL2D9DEb6LmX7cP/DO6mQ+VeM/4QukGetk5j+FMJ/mVrXjP93ffwQkXuE/AAAAAAAA8D85LasQP0HpP3u4ok+NPOk/fZDiD0w35z/iilfOFgzpP5+lP5uMauc/yHz+VTtT6j+EULbhHbXkP8r354sqMuY/HnKET/qr4z+GOb9o1QrgPzktqxA/Qek/AAAAAAAA8D9oO+RGkbnsP2W5voOeh+c/NDPSuh6T5j/fMlfyk7bqP8vOla/Nq+Y/uHsi8sQ74T8Tc9kNvADkP05Cs7L9QOE/gxDUh9194T97uKJPjTzpP2g75EaRuew/AAAAAAAA8D9RHGGgpEboP2Tfv7mOUeM/2+uDVSsW6T9j5s7k6gLkP1mJVN6UQeU/YEOve/Ip5j/jSlQnU/3kP6h8BUMs5+c/fZDiD0w35z9lub6DnofnP1EcYaCkRug/AAAAAAAA8D82M+DqAgziPyTf0aEBmuU/BYY97D885D9bHPSfXv3gP5XcLyM3GeI/Rjv0bmJR4D9gJSXaoe3aP+KKV84WDOk/NDPSuh6T5j9k37+5jlHjPzYz4OoCDOI/AAAAAAAA8D8T4ooyqubnPyYXlN+igus/R1rLt2ot4D/7r734TFrhP3KZqmdxmt8/fleJaafL2D+fpT+bjGrnP98yV/KTtuo/2+uDVSsW6T8k39GhAZrlPxPiijKq5uc/AAAAAAAA8D/UI1mVUF3lPyy88gfq4eI/ruD972jd5D+Yx98c6VnkP0MRvouZftw/yHz+VTtT6j/LzpWvzavmP2PmzuTqAuQ/BYY97D885D8mF5TfooLrP9QjWZVQXeU/AAAAAAAA8D8=",
          "dtype": "f8",
          "shape": "11, 11"
         },
         "zmax": 1,
         "zmin": -1
        },
        {
         "colorbar": {
          "tickfont": {
           "size": 16
          }
         },
         "colorscale": [
          [
           0,
           "rgb(5,48,97)"
          ],
          [
           0.1,
           "rgb(33,102,172)"
          ],
          [
           0.2,
           "rgb(67,147,195)"
          ],
          [
           0.3,
           "rgb(146,197,222)"
          ],
          [
           0.4,
           "rgb(209,229,240)"
          ],
          [
           0.5,
           "rgb(247,247,247)"
          ],
          [
           0.6,
           "rgb(253,219,199)"
          ],
          [
           0.7,
           "rgb(244,165,130)"
          ],
          [
           0.8,
           "rgb(214,96,77)"
          ],
          [
           0.9,
           "rgb(178,24,43)"
          ],
          [
           1,
           "rgb(103,0,31)"
          ]
         ],
         "hoverinfo": "skip",
         "showscale": false,
         "type": "heatmap",
         "x": [
          "C4",
          "CC",
          "BK",
          "WK",
          "AX",
          "SE",
          "GH",
          "LM",
          "OM",
          "OC",
          "OS"
         ],
         "xaxis": "x14",
         "y": [
          "C4",
          "CC",
          "BK",
          "WK",
          "AX",
          "SE",
          "GH",
          "LM",
          "OM",
          "OC",
          "OS"
         ],
         "yaxis": "y14",
         "z": {
          "bdata": "AAAAAAAA8D9ouLJiFuDtPx86Qax2b+c/ENH8Xhtl5j8IZfH9XEfYP6LgVeGKKt8/Xpk/zsIe0z/5fpwfR3PkP+9HT9+929U/wCTKIWxV0z9KihXJCE/dP2i4smIW4O0/AAAAAAAA8D9w7pJPBzboP+Ov3ef26eg/1Z//wegM2D+D5gewl/faP/zZ+sZ29NA/okTy0j5B4j9q+pu2hXfUPzZ+CfAQAtE/OfYruCZu2z8fOkGsdm/nP3Dukk8HNug/AAAAAAAA8D8fwwHr1mDjP6J7usvs684/Ceq6kiLT0T8PdAgbdnG9P5Ia9oNZOd8/se5MoxAk0D9dS3a1NzvEP/nl1163YNg/ENH8Xhtl5j/jr93n9unoPx/DAevWYOM/AAAAAAAA8D+UK5t/OCnVPwqmeqh7s9M/98l3BWXNzz/vhCBEqKziP9l2n6IpFM4/n6jXz/rOyj/YpmuFZf3TPwhl8f1cR9g/1Z//wegM2D+ie7rL7OvOP5Qrm384KdU/AAAAAAAA8D8BhQ/HZw/oP89KF89I4+Y/dW3DjERY5D+wvUgLnZ/oPwGmU7u1v+Y/de2Tjyeu6D+i4FXhiirfP4PmB7CX99o/Ceq6kiLT0T8Kpnqoe7PTPwGFD8dnD+g/AAAAAAAA8D/bYaFXv3HsPxeCrjtObec/Vr8TcEOJ4z8gkL5sJOvoP1VY+FvIq+Q/Xpk/zsIe0z/82frGdvTQPw90CBt2cb0/98l3BWXNzz/PShfPSOPmP9thoVe/cew/AAAAAAAA8D8eHpMQzoTlP+7n8uA1nd4/jWxSReYX6D8KzuQLsvHeP/l+nB9Hc+Q/okTy0j5B4j+SGvaDWTnfP++EIESorOI/dW3DjERY5D8Xgq47Tm3nPx4ekxDOhOU/AAAAAAAA8D+hKJlmzOLdPyrraOIEouM/eEAp9B0/4z/vR0/fvdvVP2r6m7aFd9Q/se5MoxAk0D/Zdp+iKRTOP7C9SAudn+g/Vr8TcEOJ4z/u5/LgNZ3eP6EomWbM4t0/AAAAAAAA8D/MUYRgmVbmP7WrOH8Kvek/wCTKIWxV0z82fgnwEALRP11LdrU3O8Q/n6jXz/rOyj8BplO7tb/mPyCQvmwk6+g/jWxSReYX6D8q62jiBKLjP8xRhGCZVuY/AAAAAAAA8D/IXsn58qfiP0qKFckIT90/OfYruCZu2z/55ddet2DYP9ima4Vl/dM/de2Tjyeu6D9VWPhbyKvkPwrO5Auy8d4/eEAp9B0/4z+1qzh/Cr3pP8heyfnyp+I/AAAAAAAA8D8=",
          "dtype": "f8",
          "shape": "11, 11"
         },
         "zmax": 1,
         "zmin": -1
        },
        {
         "colorbar": {
          "tickfont": {
           "size": 16
          }
         },
         "colorscale": [
          [
           0,
           "rgb(5,48,97)"
          ],
          [
           0.1,
           "rgb(33,102,172)"
          ],
          [
           0.2,
           "rgb(67,147,195)"
          ],
          [
           0.3,
           "rgb(146,197,222)"
          ],
          [
           0.4,
           "rgb(209,229,240)"
          ],
          [
           0.5,
           "rgb(247,247,247)"
          ],
          [
           0.6,
           "rgb(253,219,199)"
          ],
          [
           0.7,
           "rgb(244,165,130)"
          ],
          [
           0.8,
           "rgb(214,96,77)"
          ],
          [
           0.9,
           "rgb(178,24,43)"
          ],
          [
           1,
           "rgb(103,0,31)"
          ]
         ],
         "hoverinfo": "skip",
         "showscale": false,
         "type": "heatmap",
         "x": [
          "C4",
          "CC",
          "BK",
          "WK",
          "AX",
          "SE",
          "GH",
          "LM",
          "OM",
          "OC",
          "OS"
         ],
         "xaxis": "x15",
         "y": [
          "C4",
          "CC",
          "BK",
          "WK",
          "AX",
          "SE",
          "GH",
          "LM",
          "OM",
          "OC",
          "OS"
         ],
         "yaxis": "y15",
         "z": {
          "bdata": "AAAAAAAA8D9KEETUnOHtP6aRGI3GXOc/AEaKUAXT5T84C2EfmW3bP/yXw1qOxt8/BadWwVHN1D8nl/+5M3vjP7hNWAV/JNc//rtBiZPG1D9LKqbz9CTeP0oQRNSc4e0/AAAAAAAA8D+CKTMfofjnP06mS/n8a+g/oj99aKwj3D8LhHQKLdPbP88fkhcixNI/Qe6y8HuD4T+AJc7s8sfVPx2URgaV/tI/uwKQBKnd3D+mkRiNxlznP4IpMx+h+Oc/AAAAAAAA8D8/sUy6a93iP1IOQBnt+dM/msXSmTmV0z8o9J5B5izEP3l0ltx1Nd8/mxpGTs6l0j/FCrP0aInMPw+PBZnj39g/AEaKUAXT5T9Opkv5/GvoPz+xTLpr3eI/AAAAAAAA8D9URnprt0HXP6NsY/WmSdI/6GeqtDYLzj8RbZKxVOfhPyBEndb6cNE/mYa60Fzxyz9mOpNXjBXVPzgLYR+Zbds/oj99aKwj3D9SDkAZ7fnTP1RGemu3Qdc/AAAAAAAA8D8oVCLM3mbnP8uuHHXCDeY/FxVvK3C95D+z+sjJSI7nPySXBAVmguY/SSrGgXXR6D/8l8NajsbfPwuEdAot09s/msXSmTmV0z+jbGP1pknSPyhUIszeZuc/AAAAAAAA8D9RH45JWKrsPwgPDx2tGuc/nqTr/10X4z96LuPnSH/oP/PeqofRSOQ/BadWwVHN1D/PH5IXIsTSPyj0nkHmLMQ/6GeqtDYLzj/Lrhx1wg3mP1EfjklYquw/AAAAAAAA8D/q6v+vwvjlP6o/f0PQLt0/pm3lWlxq5z+fxbuGmG3fPyeX/7kze+M/Qe6y8HuD4T95dJbcdTXfPxFtkrFU5+E/FxVvK3C95D8IDw8drRrnP+rq/6/C+OU/AAAAAAAA8D9KEqAgudLePy3mb9vg1uM/JkSOup/G4z+4TVgFfyTXP4Alzuzyx9U/mxpGTs6l0j8gRJ3W+nDRP7P6yMlIjuc/nqTr/10X4z+qP39D0C7dP0oSoCC50t4/AAAAAAAA8D8Dtne0+KrmP754Ihm19uk//rtBiZPG1D8dlEYGlf7SP8UKs/Roicw/mYa60Fzxyz8klwQFZoLmP3ou4+dIf+g/pm3lWlxq5z8t5m/b4NbjPwO2d7T4quY/AAAAAAAA8D807Jq2MdPjP0sqpvP0JN4/uwKQBKnd3D8PjwWZ49/YP2Y6k1eMFdU/SSrGgXXR6D/z3qqH0UjkP5/Fu4aYbd8/JkSOup/G4z++eCIZtfbpPzTsmrYx0+M/AAAAAAAA8D8=",
          "dtype": "f8",
          "shape": "11, 11"
         },
         "zmax": 1,
         "zmin": -1
        },
        {
         "colorbar": {
          "tickfont": {
           "size": 16
          }
         },
         "colorscale": [
          [
           0,
           "rgb(5,48,97)"
          ],
          [
           0.1,
           "rgb(33,102,172)"
          ],
          [
           0.2,
           "rgb(67,147,195)"
          ],
          [
           0.3,
           "rgb(146,197,222)"
          ],
          [
           0.4,
           "rgb(209,229,240)"
          ],
          [
           0.5,
           "rgb(247,247,247)"
          ],
          [
           0.6,
           "rgb(253,219,199)"
          ],
          [
           0.7,
           "rgb(244,165,130)"
          ],
          [
           0.8,
           "rgb(214,96,77)"
          ],
          [
           0.9,
           "rgb(178,24,43)"
          ],
          [
           1,
           "rgb(103,0,31)"
          ]
         ],
         "hoverinfo": "skip",
         "showscale": false,
         "type": "heatmap",
         "x": [
          "C4",
          "CC",
          "BK",
          "WK",
          "AX",
          "SE",
          "GH",
          "LM",
          "OM",
          "OC",
          "OS"
         ],
         "xaxis": "x16",
         "y": [
          "C4",
          "CC",
          "BK",
          "WK",
          "AX",
          "SE",
          "GH",
          "LM",
          "OM",
          "OC",
          "OS"
         ],
         "yaxis": "y16",
         "z": {
          "bdata": "AAAAAAAA8D99NmECYvLvPwmv0Rmt1u8/q3pe56KF7z8mLwgcN2/vPyca+WpNq+8/ZB5lTN1t7z+Ge73yTZrvPzLeN+fQZ+8/SO7/YjZC7z8X8asATo7vP302YQJi8u8/AAAAAAAA8D9exAQEJdfvP/rlsG6xku8/c204KNiH7z8468CmPrXvPwpFUXfvdO8/hNXzHrOi7z+vmFLKn2jvP5CYnY/uTe8/8eWK2N+M7z8Jr9EZrdbvP17EBAQl1+8/AAAAAAAA8D/CgznNoGbvP60TxQ+jRe8/tddRUR6J7z+4urQWQzrvPwX2KNLRd+8/qCJElrs77z9Tmp4diBPvP2FkVfd9be8/q3pe56KF7z/65bBusZLvP8KDOc2gZu8/AAAAAAAA8D+EzoebREvvP3KuVHU0Ve8/vFQDJto47z+18HVSnIjvP3SFPZAzA+8/uZqAzrXw7j/lNqUhqSLvPyYvCBw3b+8/c204KNiH7z+tE8UPo0XvP4TOh5tES+8/AAAAAAAA8D+tw4lUCLLvP6C2V9EWne8/8DLRos2s7z9eMGUwP4LvP7dg6sKJce8/C+sZekF57z8nGvlqTavvPzjrwKY+te8/tddRUR6J7z9yrlR1NFXvP63DiVQIsu8/AAAAAAAA8D8sedRl/97vPy49JGgmue8/GdfdFU6l7z8YH7Cdj5/vPxOPM/Xqr+8/ZB5lTN1t7z8KRVF373TvP7i6tBZDOu8/vFQDJto47z+gtlfRFp3vPyx51GX/3u8/AAAAAAAA8D+bDoMwPKfvP7KfduaIk+8/XLXEe8Wf7z9o4QXM/orvP4Z7vfJNmu8/hNXzHrOi7z8F9ijS0XfvP7XwdVKciO8/8DLRos2s7z8uPSRoJrnvP5sOgzA8p+8/AAAAAAAA8D+cvE/MCmnvPwYzAbQDkO8/FvgmLdB27z8y3jfn0GfvP6+YUsqfaO8/qCJElrs77z90hT2QMwPvP14wZTA/gu8/GdfdFU6l7z+yn3bmiJPvP5y8T8wKae8/AAAAAAAA8D/MbUk7AJHvP/A/iRZWou8/SO7/YjZC7z+QmJ2P7k3vP1Oanh2IE+8/uZqAzrXw7j+3YOrCiXHvPxgfsJ2Pn+8/XLXEe8Wf7z8GMwG0A5DvP8xtSTsAke8/AAAAAAAA8D8teHIDtV7vPxfxqwBOju8/8eWK2N+M7z9hZFX3fW3vP+U2pSGpIu8/C+sZekF57z8TjzP16q/vP2jhBcz+iu8/FvgmLdB27z/wP4kWVqLvPy14cgO1Xu8/AAAAAAAA8D8=",
          "dtype": "f8",
          "shape": "11, 11"
         },
         "zmax": 1,
         "zmin": -1
        },
        {
         "colorbar": {
          "tickfont": {
           "size": 16
          }
         },
         "colorscale": [
          [
           0,
           "rgb(5,48,97)"
          ],
          [
           0.1,
           "rgb(33,102,172)"
          ],
          [
           0.2,
           "rgb(67,147,195)"
          ],
          [
           0.3,
           "rgb(146,197,222)"
          ],
          [
           0.4,
           "rgb(209,229,240)"
          ],
          [
           0.5,
           "rgb(247,247,247)"
          ],
          [
           0.6,
           "rgb(253,219,199)"
          ],
          [
           0.7,
           "rgb(244,165,130)"
          ],
          [
           0.8,
           "rgb(214,96,77)"
          ],
          [
           0.9,
           "rgb(178,24,43)"
          ],
          [
           1,
           "rgb(103,0,31)"
          ]
         ],
         "hoverinfo": "skip",
         "showscale": false,
         "type": "heatmap",
         "x": [
          "C4",
          "CC",
          "BK",
          "WK",
          "AX",
          "SE",
          "GH",
          "LM",
          "OM",
          "OC",
          "OS"
         ],
         "xaxis": "x17",
         "y": [
          "C4",
          "CC",
          "BK",
          "WK",
          "AX",
          "SE",
          "GH",
          "LM",
          "OM",
          "OC",
          "OS"
         ],
         "yaxis": "y17",
         "z": {
          "bdata": "AAAAAAAA8D++5mGntPjrP+4D6zrUAes/h1HNy3WT4D/xUVWPdNvmP7Tb+jHNneY/MdgYVSo14z8Ogv/YJrnePwo0HdNQyeY/IDWUCol75j/jWqWr6cjnP77mYae0+Os/AAAAAAAA8D/Fg/OMB7jsP4d2S8mTVd4/WzZny3ez6D9untEiGMPnPwnxTcqZQeQ/G8SR+jkS3T+NqfmvtwPoP2AgvkEfHOg/iiY49yeb6D/uA+s61AHrP8WD84wHuOw/AAAAAAAA8D+2SIG48dveP4rmxgKS2Oc/Oq+18GDx5z9EJ81fckPkPwOEb2gjfdw/nXSTCscT6D+or0ui5PvnPxq1YZzoJOg/h1HNy3WT4D+HdkvJk1XeP7ZIgbjx294/AAAAAAAA8D/MIMF+3tfaP7eXmoAOeeA/xVBwcH1c3D/h/NA3cZ/kP/YbzYKE/No/GDiSMp/l2z9gZd7sP9baP/FRVY902+Y/WzZny3ez6D+K5sYCktjnP8wgwX7e19o/AAAAAAAA8D9fEtYdQ9LqPyjr2n+Unec/1pwVfXyz3T8eUfyZKGztP2J6KpjZzeo/95MJg2zc6j+02/oxzZ3mP26e0SIYw+c/Oq+18GDx5z+3l5qADnngP18S1h1D0uo/AAAAAAAA8D95PS6dj27pP28Ay9LNzuE/RpDCs6qz6j/x3HbathXrPwjgUZXhYeg/MdgYVSo14z8J8U3KmUHkP0QnzV9yQ+Q/xVBwcH1c3D8o69p/lJ3nP3k9Lp2Pbuk/AAAAAAAA8D8ySXCZQ23gP6zBPWgnLec/Rnr5j62j5z/v5p1wdqflPw6C/9gmud4/G8SR+jkS3T8DhG9oI33cP+H80Ddxn+Q/1pwVfXyz3T9vAMvSzc7hPzJJcJlDbeA/AAAAAAAA8D8M1V5MAA/dP9SxXcnWht8/N93Yh5Ji4T8KNB3TUMnmP42p+a+3A+g/nXSTCscT6D/2G82ChPzaPx5R/JkobO0/RpDCs6qz6j+swT1oJy3nPwzVXkwAD90/AAAAAAAA8D/XSHKRlonrPwNEug4aEus/IDWUCol75j9gIL5BHxzoP6ivS6Lk++c/GDiSMp/l2z9ieiqY2c3qP/Hcdtq2Fes/Rnr5j62j5z/UsV3J1obfP9dIcpGWies/AAAAAAAA8D89NFHgnWrpP+NapavpyOc/iiY49yeb6D8atWGc6CToP2Bl3uw/1to/95MJg2zc6j8I4FGV4WHoP+/mnXB2p+U/N93Yh5Ji4T8DRLoOGhLrPz00UeCdauk/AAAAAAAA8D8=",
          "dtype": "f8",
          "shape": "11, 11"
         },
         "zmax": 1,
         "zmin": -1
        },
        {
         "colorbar": {
          "tickfont": {
           "size": 16
          }
         },
         "colorscale": [
          [
           0,
           "rgb(5,48,97)"
          ],
          [
           0.1,
           "rgb(33,102,172)"
          ],
          [
           0.2,
           "rgb(67,147,195)"
          ],
          [
           0.3,
           "rgb(146,197,222)"
          ],
          [
           0.4,
           "rgb(209,229,240)"
          ],
          [
           0.5,
           "rgb(247,247,247)"
          ],
          [
           0.6,
           "rgb(253,219,199)"
          ],
          [
           0.7,
           "rgb(244,165,130)"
          ],
          [
           0.8,
           "rgb(214,96,77)"
          ],
          [
           0.9,
           "rgb(178,24,43)"
          ],
          [
           1,
           "rgb(103,0,31)"
          ]
         ],
         "hoverinfo": "skip",
         "showscale": false,
         "type": "heatmap",
         "x": [
          "C4",
          "CC",
          "BK",
          "WK",
          "AX",
          "SE",
          "GH",
          "LM",
          "OM",
          "OC",
          "OS"
         ],
         "xaxis": "x18",
         "y": [
          "C4",
          "CC",
          "BK",
          "WK",
          "AX",
          "SE",
          "GH",
          "LM",
          "OM",
          "OC",
          "OS"
         ],
         "yaxis": "y18",
         "z": {
          "bdata": "AAAAAAAA8D8+LyzcXRLtPx0W0++GE+g/vJ0HfMEx5D89vZg5RLXfPx9crXsOgeI/4dmXk0042z8kAI9Rxt3jPwPjvTxAu+M/eXG3gXkN2j+WdbiAbrziPz4vLNxdEu0/AAAAAAAA8D8yHE4/5YrnP8leE2L2zOY/Pp5DYTmy4D9Or10YpnLhP452qs97hNo/0g0XR3cS4j8FKpnptvviPxXepFL7Gdw/9xO1b8fC4T8dFtPvhhPoPzIcTj/liuc/AAAAAAAA8D+QyRku4rriPwHxFyZQMtY/kJWmG0C71j/s2cI2MpjJP+ADKDyJdN4/888h9j4G3j+KT/z61H3SP0TUAjIDWts/vJ0HfMEx5D/JXhNi9szmP5DJGS7iuuI/AAAAAAAA8D95r5rdD8jVPwryz2eFndU/K5bGYqrN0D9Qt3volwbkP8v6X2mGktk/ZSCOHVs90D9nF4Cb44TWPz29mDlEtd8/Pp5DYTmy4D8B8RcmUDLWP3mvmt0PyNU/AAAAAAAA8D8bdTpsf0LmPyj5kay+xuQ/CXXwJK3r4j8xoBJAkQ7nPwLziOQizeQ/hWLVEl3V5j8fXK17DoHiP06vXRimcuE/kJWmG0C71j8K8s9nhZ3VPxt1Omx/QuY/AAAAAAAA8D8ANmfM3tnsP9OpefQNoOY/192O8owW4z9zq3CxchnlP/X0/YZJG+I/4dmXk0042z+OdqrPe4TaP+zZwjYymMk/K5bGYqrN0D8o+ZGsvsbkPwA2Z8ze2ew/AAAAAAAA8D/3GM9GjqblP932EcRdWtw/o0iA3bnV4z8lezQRKgrbPyQAj1HG3eM/0g0XR3cS4j/gAyg8iXTeP1C3e+iXBuQ/CXXwJK3r4j/TqXn0DaDmP/cYz0aOpuU/AAAAAAAA8D+P9D/yjtfeP24XUkRJOuE/r6ETejVD3z8D4708QLvjPwUqmem2++I/888h9j4G3j/L+l9phpLZPzGgEkCRDuc/192O8owW4z/d9hHEXVrcP4/0P/KO194/AAAAAAAA8D8K1t4+dPjiPwjCeFqT9eg/eXG3gXkN2j8V3qRS+xncP4pP/PrUfdI/ZSCOHVs90D8C84jkIs3kP3OrcLFyGeU/o0iA3bnV4z9uF1JESTrhPwrW3j50+OI/AAAAAAAA8D/KfHges9bfP5Z1uIBuvOI/9xO1b8fC4T9E1AIyA1rbP2cXgJvjhNY/hWLVEl3V5j/19P2GSRviPyV7NBEqCts/r6ETejVD3z8Iwnhak/XoP8p8eB6z1t8/AAAAAAAA8D8=",
          "dtype": "f8",
          "shape": "11, 11"
         },
         "zmax": 1,
         "zmin": -1
        },
        {
         "colorbar": {
          "tickfont": {
           "size": 16
          }
         },
         "colorscale": [
          [
           0,
           "rgb(5,48,97)"
          ],
          [
           0.1,
           "rgb(33,102,172)"
          ],
          [
           0.2,
           "rgb(67,147,195)"
          ],
          [
           0.3,
           "rgb(146,197,222)"
          ],
          [
           0.4,
           "rgb(209,229,240)"
          ],
          [
           0.5,
           "rgb(247,247,247)"
          ],
          [
           0.6,
           "rgb(253,219,199)"
          ],
          [
           0.7,
           "rgb(244,165,130)"
          ],
          [
           0.8,
           "rgb(214,96,77)"
          ],
          [
           0.9,
           "rgb(178,24,43)"
          ],
          [
           1,
           "rgb(103,0,31)"
          ]
         ],
         "hoverinfo": "skip",
         "showscale": false,
         "type": "heatmap",
         "x": [
          "C4",
          "CC",
          "BK",
          "WK",
          "AX",
          "SE",
          "GH",
          "LM",
          "OM",
          "OC",
          "OS"
         ],
         "xaxis": "x19",
         "y": [
          "C4",
          "CC",
          "BK",
          "WK",
          "AX",
          "SE",
          "GH",
          "LM",
          "OM",
          "OC",
          "OS"
         ],
         "yaxis": "y19",
         "z": {
          "bdata": "AAAAAAAA8D/5zVwml6XvP+txZtyYpu4/Gly1rDRp7j/nD7NdmZDsP9LexY5ga+0/d+650Q0U6z+GQZyRGHTtP2tPwT/U2es/eIITYN306j9BJHZr2zPtP/nNXCaXpe8/AAAAAAAA8D9mj3ITZxjvPxyoav5lp+4/o3OGpSEo7T+phy46H3ntP/NvJ9UgOes/6PCIcDGZ7T9oicg/iunrP6LYFRuyheo/ongxeiiy7T/rcWbcmKbuP2aPchNnGO8/AAAAAAAA8D9WHFQ2MQHuPykVxhRIw+0/BQB3aqlv7T9W+AdKyRLrP1XTWdA8xe0/tHPI8rc57D9U6xlhy3bqPyFn9rKhXO4/Gly1rDRp7j8cqGr+ZafuP1YcVDYxAe4/AAAAAAAA8D9qPwPmrcrsP9KdRp2X/+w//jKMfOWj6j+xBsnqi9HtP5rYz4gz7Os/wbJls9j16j9Kxle2/efsP+cPs12ZkOw/o3OGpSEo7T8pFcYUSMPtP2o/A+atyuw/AAAAAAAA8D/QDx0SFPPtP5M8qJOdiOw/6vtTM1Md7j9DNt6AFKftP6IBHRnol+o/Wl5KBAiC7j/S3sWOYGvtP6mHLjofee0/BQB3aqlv7T/SnUadl//sP9APHRIU8+0/AAAAAAAA8D9YpLlt+W7uPxESEVOPxe4/KdATjj1V7T/U6y/+iePsP/cOIN6elO0/d+650Q0U6z/zbyfVIDnrP1b4B0rJEus//jKMfOWj6j+TPKiTnYjsP1ikuW35bu4/AAAAAAAA8D/rt/bzxTPtP8+7U51CG+s/itIIKxq46j/GWOJB4pHrP4ZBnJEYdO0/6PCIcDGZ7T9V01nQPMXtP7EGyeqL0e0/6vtTM1Md7j8REhFTj8XuP+u39vPFM+0/AAAAAAAA8D89ncXvkbntP2uyf3xRuew/rHXdaekz7j9rT8E/1NnrP2iJyD+K6es/tHPI8rc57D+a2M+IM+zrP0M23oAUp+0/KdATjj1V7T/Pu1OdQhvrPz2dxe+Rue0/AAAAAAAA8D/yBgu036bsPy/mdjWy6+0/eIITYN306j+i2BUbsoXqP1TrGWHLduo/wbJls9j16j+iAR0Z6JfqP9TrL/6J4+w/itIIKxq46j9rsn98UbnsP/IGC7Tfpuw/AAAAAAAA8D9F3My1dTTrP0EkdmvbM+0/ongxeiiy7T8hZ/ayoVzuP0rGV7b95+w/Wl5KBAiC7j/3DiDenpTtP8ZY4kHikes/rHXdaekz7j8v5nY1suvtP0XczLV1NOs/AAAAAAAA8D8=",
          "dtype": "f8",
          "shape": "11, 11"
         },
         "zmax": 1,
         "zmin": -1
        },
        {
         "colorbar": {
          "tickfont": {
           "size": 16
          }
         },
         "colorscale": [
          [
           0,
           "rgb(5,48,97)"
          ],
          [
           0.1,
           "rgb(33,102,172)"
          ],
          [
           0.2,
           "rgb(67,147,195)"
          ],
          [
           0.3,
           "rgb(146,197,222)"
          ],
          [
           0.4,
           "rgb(209,229,240)"
          ],
          [
           0.5,
           "rgb(247,247,247)"
          ],
          [
           0.6,
           "rgb(253,219,199)"
          ],
          [
           0.7,
           "rgb(244,165,130)"
          ],
          [
           0.8,
           "rgb(214,96,77)"
          ],
          [
           0.9,
           "rgb(178,24,43)"
          ],
          [
           1,
           "rgb(103,0,31)"
          ]
         ],
         "hoverinfo": "skip",
         "showscale": false,
         "type": "heatmap",
         "x": [
          "C4",
          "CC",
          "BK",
          "WK",
          "AX",
          "SE",
          "GH",
          "LM",
          "OM",
          "OC",
          "OS"
         ],
         "xaxis": "x20",
         "y": [
          "C4",
          "CC",
          "BK",
          "WK",
          "AX",
          "SE",
          "GH",
          "LM",
          "OM",
          "OC",
          "OS"
         ],
         "yaxis": "y20",
         "z": {
          "bdata": "AAAAAAAA8D8gnMXJ/RntP4R45GcNjOg/CXvs2lOc4T+O6OHawVjeP4xzfEN5hOI/YtZGw6Xn1D+HuIfjm7PhP7dzzpRbLNw/B51q13Dr3j+z917hUJ/gPyCcxcn9Ge0/AAAAAAAA8D8K1KQK1FXqP/2G0EYfTeM/0fYsG5r84T9dd/Hp9MnkP5ckqhYqhdo/qft/o0xd4z8TQRSUxxjgP0dUEHitaeE/pZUm3jJx4j+EeORnDYzoPwrUpArUVeo/AAAAAAAA8D8IiHveeoDhP3MRdxjavOA/JiK0n8Uw5D8xrk5ezvLYPyDEyu/fyOI/5AO8TXlE3j+bCcA6qcjgP5zCd0SBQeI/CXvs2lOc4T/9htBGH03jPwiIe956gOE/AAAAAAAA8D+RWEfiw5DiP6DGu/il4+M/Ycv6Pc3/3z+NwMHeP3boP5EsOlMGzeA/LtRFTLXa4D+mdeNS1sTgP47o4drBWN4/0fYsG5r84T9zEXcY2rzgP5FYR+LDkOI/AAAAAAAA8D9KpP74ehXqPwYhdYFq/eM/OHEO2d785z8bxHyZmm/qP2IH0t5AM+g/A1sld8aJ6T+Mc3xDeYTiP1138en0yeQ/JiK0n8Uw5D+gxrv4pePjP0qk/vh6Feo/AAAAAAAA8D/7LIq2ht/nP62fO3PB3+k/Aqq7ZZ0c6D/fA6PX1o3qP63FWNB12uc/YtZGw6Xn1D+XJKoWKoXaPzGuTl7O8tg/Ycv6Pc3/3z8GIXWBav3jP/ssiraG3+c/AAAAAAAA8D/0NAU+QIvlP0/u6g9X9OE/1m+utYf24j+87PVN09rgP4e4h+Obs+E/qft/o0xd4z8gxMrv38jiP43Awd4/dug/OHEO2d785z+tnztzwd/pP/Q0BT5Ai+U/AAAAAAAA8D9jcFMrIDTmP2QvbnCzIuc/oOP5HtfK5T+3c86UWyzcPxNBFJTHGOA/5AO8TXlE3j+RLDpTBs3gPxvEfJmab+o/Aqq7ZZ0c6D9P7uoPV/ThP2NwUysgNOY/AAAAAAAA8D+GLMuj/AzpP46wyDQWXuk/B51q13Dr3j9HVBB4rWnhP5sJwDqpyOA/LtRFTLXa4D9iB9LeQDPoP98Do9fWjeo/1m+utYf24j9kL25wsyLnP4Ysy6P8DOk/AAAAAAAA8D/sgEB1P5jmP7P3XuFQn+A/pZUm3jJx4j+cwndEgUHiP6Z141LWxOA/A1sld8aJ6T+txVjQddrnP7zs9U3T2uA/oOP5HtfK5T+OsMg0Fl7pP+yAQHU/mOY/AAAAAAAA8D8=",
          "dtype": "f8",
          "shape": "11, 11"
         },
         "zmax": 1,
         "zmin": -1
        }
       ],
       "layout": {
        "annotations": [
         {
          "font": {
           "size": 20
          },
          "showarrow": false,
          "text": "LLaMA-MoE-v2",
          "x": 0.04775,
          "xanchor": "center",
          "xref": "paper",
          "y": 1,
          "yanchor": "bottom",
          "yref": "paper"
         },
         {
          "font": {
           "size": 20
          },
          "showarrow": false,
          "text": "Yuan2.0",
          "x": 0.14825,
          "xanchor": "center",
          "xref": "paper",
          "y": 1,
          "yanchor": "bottom",
          "yref": "paper"
         },
         {
          "font": {
           "size": 20
          },
          "showarrow": false,
          "text": "PowerMoE",
          "x": 0.24875,
          "xanchor": "center",
          "xref": "paper",
          "y": 1,
          "yanchor": "bottom",
          "yref": "paper"
         },
         {
          "font": {
           "size": 20
          },
          "showarrow": false,
          "text": "Qwen3",
          "x": 0.34925,
          "xanchor": "center",
          "xref": "paper",
          "y": 1,
          "yanchor": "bottom",
          "yref": "paper"
         },
         {
          "font": {
           "size": 20
          },
          "showarrow": false,
          "text": "Phi-3.5-MoE",
          "x": 0.44975000000000004,
          "xanchor": "center",
          "xref": "paper",
          "y": 1,
          "yanchor": "bottom",
          "yref": "paper"
         },
         {
          "font": {
           "size": 20
          },
          "showarrow": false,
          "text": "OLMoE",
          "x": 0.5502500000000001,
          "xanchor": "center",
          "xref": "paper",
          "y": 1,
          "yanchor": "bottom",
          "yref": "paper"
         },
         {
          "font": {
           "size": 20
          },
          "showarrow": false,
          "text": "GRIN-MoE",
          "x": 0.6507499999999999,
          "xanchor": "center",
          "xref": "paper",
          "y": 1,
          "yanchor": "bottom",
          "yref": "paper"
         },
         {
          "font": {
           "size": 20
          },
          "showarrow": false,
          "text": "Mixtral-8x7B",
          "x": 0.75125,
          "xanchor": "center",
          "xref": "paper",
          "y": 1,
          "yanchor": "bottom",
          "yref": "paper"
         },
         {
          "font": {
           "size": 20
          },
          "showarrow": false,
          "text": "MiniCPM-MoE",
          "x": 0.85175,
          "xanchor": "center",
          "xref": "paper",
          "y": 1,
          "yanchor": "bottom",
          "yref": "paper"
         },
         {
          "font": {
           "size": 20
          },
          "showarrow": false,
          "text": "JetMoE",
          "x": 0.95225,
          "xanchor": "center",
          "xref": "paper",
          "y": 1,
          "yanchor": "bottom",
          "yref": "paper"
         },
         {
          "font": {
           "size": 20
          },
          "showarrow": false,
          "text": "LLaMA-MoE-v1",
          "x": 0.04775,
          "xanchor": "center",
          "xref": "paper",
          "y": 0.45,
          "yanchor": "bottom",
          "yref": "paper"
         },
         {
          "font": {
           "size": 20
          },
          "showarrow": false,
          "text": "XVERSE-MoE",
          "x": 0.14825,
          "xanchor": "center",
          "xref": "paper",
          "y": 0.45,
          "yanchor": "bottom",
          "yref": "paper"
         },
         {
          "font": {
           "size": 20
          },
          "showarrow": false,
          "text": "Jamba-Mini",
          "x": 0.24875,
          "xanchor": "center",
          "xref": "paper",
          "y": 0.45,
          "yanchor": "bottom",
          "yref": "paper"
         },
         {
          "font": {
           "size": 20
          },
          "showarrow": false,
          "text": "DeepSeek-V2-Lite",
          "x": 0.34925,
          "xanchor": "center",
          "xref": "paper",
          "y": 0.45,
          "yanchor": "bottom",
          "yref": "paper"
         },
         {
          "font": {
           "size": 20
          },
          "showarrow": false,
          "text": "DeepSeekMoE",
          "x": 0.44975000000000004,
          "xanchor": "center",
          "xref": "paper",
          "y": 0.45,
          "yanchor": "bottom",
          "yref": "paper"
         },
         {
          "font": {
           "size": 20
          },
          "showarrow": false,
          "text": "Qwen2",
          "x": 0.5502500000000001,
          "xanchor": "center",
          "xref": "paper",
          "y": 0.45,
          "yanchor": "bottom",
          "yref": "paper"
         },
         {
          "font": {
           "size": 20
          },
          "showarrow": false,
          "text": "NLLB-MoE",
          "x": 0.6507499999999999,
          "xanchor": "center",
          "xref": "paper",
          "y": 0.45,
          "yanchor": "bottom",
          "yref": "paper"
         },
         {
          "font": {
           "size": 20
          },
          "showarrow": false,
          "text": "Qwen1.5-MoE",
          "x": 0.75125,
          "xanchor": "center",
          "xref": "paper",
          "y": 0.45,
          "yanchor": "bottom",
          "yref": "paper"
         },
         {
          "font": {
           "size": 20
          },
          "showarrow": false,
          "text": "OpenMoE",
          "x": 0.85175,
          "xanchor": "center",
          "xref": "paper",
          "y": 0.45,
          "yanchor": "bottom",
          "yref": "paper"
         },
         {
          "font": {
           "size": 20
          },
          "showarrow": false,
          "text": "SwitchTransformers",
          "x": 0.95225,
          "xanchor": "center",
          "xref": "paper",
          "y": 0.45,
          "yanchor": "bottom",
          "yref": "paper"
         }
        ],
        "height": 500,
        "margin": {
         "b": 15,
         "l": 30,
         "r": 15,
         "t": 30
        },
        "template": {
         "data": {
          "bar": [
           {
            "error_x": {
             "color": "#2a3f5f"
            },
            "error_y": {
             "color": "#2a3f5f"
            },
            "marker": {
             "line": {
              "color": "#E5ECF6",
              "width": 0.5
             },
             "pattern": {
              "fillmode": "overlay",
              "size": 10,
              "solidity": 0.2
             }
            },
            "type": "bar"
           }
          ],
          "barpolar": [
           {
            "marker": {
             "line": {
              "color": "#E5ECF6",
              "width": 0.5
             },
             "pattern": {
              "fillmode": "overlay",
              "size": 10,
              "solidity": 0.2
             }
            },
            "type": "barpolar"
           }
          ],
          "carpet": [
           {
            "aaxis": {
             "endlinecolor": "#2a3f5f",
             "gridcolor": "white",
             "linecolor": "white",
             "minorgridcolor": "white",
             "startlinecolor": "#2a3f5f"
            },
            "baxis": {
             "endlinecolor": "#2a3f5f",
             "gridcolor": "white",
             "linecolor": "white",
             "minorgridcolor": "white",
             "startlinecolor": "#2a3f5f"
            },
            "type": "carpet"
           }
          ],
          "choropleth": [
           {
            "colorbar": {
             "outlinewidth": 0,
             "ticks": ""
            },
            "type": "choropleth"
           }
          ],
          "contour": [
           {
            "colorbar": {
             "outlinewidth": 0,
             "ticks": ""
            },
            "colorscale": [
             [
              0,
              "#0d0887"
             ],
             [
              0.1111111111111111,
              "#46039f"
             ],
             [
              0.2222222222222222,
              "#7201a8"
             ],
             [
              0.3333333333333333,
              "#9c179e"
             ],
             [
              0.4444444444444444,
              "#bd3786"
             ],
             [
              0.5555555555555556,
              "#d8576b"
             ],
             [
              0.6666666666666666,
              "#ed7953"
             ],
             [
              0.7777777777777778,
              "#fb9f3a"
             ],
             [
              0.8888888888888888,
              "#fdca26"
             ],
             [
              1,
              "#f0f921"
             ]
            ],
            "type": "contour"
           }
          ],
          "contourcarpet": [
           {
            "colorbar": {
             "outlinewidth": 0,
             "ticks": ""
            },
            "type": "contourcarpet"
           }
          ],
          "heatmap": [
           {
            "colorbar": {
             "outlinewidth": 0,
             "ticks": ""
            },
            "colorscale": [
             [
              0,
              "#0d0887"
             ],
             [
              0.1111111111111111,
              "#46039f"
             ],
             [
              0.2222222222222222,
              "#7201a8"
             ],
             [
              0.3333333333333333,
              "#9c179e"
             ],
             [
              0.4444444444444444,
              "#bd3786"
             ],
             [
              0.5555555555555556,
              "#d8576b"
             ],
             [
              0.6666666666666666,
              "#ed7953"
             ],
             [
              0.7777777777777778,
              "#fb9f3a"
             ],
             [
              0.8888888888888888,
              "#fdca26"
             ],
             [
              1,
              "#f0f921"
             ]
            ],
            "type": "heatmap"
           }
          ],
          "histogram": [
           {
            "marker": {
             "pattern": {
              "fillmode": "overlay",
              "size": 10,
              "solidity": 0.2
             }
            },
            "type": "histogram"
           }
          ],
          "histogram2d": [
           {
            "colorbar": {
             "outlinewidth": 0,
             "ticks": ""
            },
            "colorscale": [
             [
              0,
              "#0d0887"
             ],
             [
              0.1111111111111111,
              "#46039f"
             ],
             [
              0.2222222222222222,
              "#7201a8"
             ],
             [
              0.3333333333333333,
              "#9c179e"
             ],
             [
              0.4444444444444444,
              "#bd3786"
             ],
             [
              0.5555555555555556,
              "#d8576b"
             ],
             [
              0.6666666666666666,
              "#ed7953"
             ],
             [
              0.7777777777777778,
              "#fb9f3a"
             ],
             [
              0.8888888888888888,
              "#fdca26"
             ],
             [
              1,
              "#f0f921"
             ]
            ],
            "type": "histogram2d"
           }
          ],
          "histogram2dcontour": [
           {
            "colorbar": {
             "outlinewidth": 0,
             "ticks": ""
            },
            "colorscale": [
             [
              0,
              "#0d0887"
             ],
             [
              0.1111111111111111,
              "#46039f"
             ],
             [
              0.2222222222222222,
              "#7201a8"
             ],
             [
              0.3333333333333333,
              "#9c179e"
             ],
             [
              0.4444444444444444,
              "#bd3786"
             ],
             [
              0.5555555555555556,
              "#d8576b"
             ],
             [
              0.6666666666666666,
              "#ed7953"
             ],
             [
              0.7777777777777778,
              "#fb9f3a"
             ],
             [
              0.8888888888888888,
              "#fdca26"
             ],
             [
              1,
              "#f0f921"
             ]
            ],
            "type": "histogram2dcontour"
           }
          ],
          "mesh3d": [
           {
            "colorbar": {
             "outlinewidth": 0,
             "ticks": ""
            },
            "type": "mesh3d"
           }
          ],
          "parcoords": [
           {
            "line": {
             "colorbar": {
              "outlinewidth": 0,
              "ticks": ""
             }
            },
            "type": "parcoords"
           }
          ],
          "pie": [
           {
            "automargin": true,
            "type": "pie"
           }
          ],
          "scatter": [
           {
            "fillpattern": {
             "fillmode": "overlay",
             "size": 10,
             "solidity": 0.2
            },
            "type": "scatter"
           }
          ],
          "scatter3d": [
           {
            "line": {
             "colorbar": {
              "outlinewidth": 0,
              "ticks": ""
             }
            },
            "marker": {
             "colorbar": {
              "outlinewidth": 0,
              "ticks": ""
             }
            },
            "type": "scatter3d"
           }
          ],
          "scattercarpet": [
           {
            "marker": {
             "colorbar": {
              "outlinewidth": 0,
              "ticks": ""
             }
            },
            "type": "scattercarpet"
           }
          ],
          "scattergeo": [
           {
            "marker": {
             "colorbar": {
              "outlinewidth": 0,
              "ticks": ""
             }
            },
            "type": "scattergeo"
           }
          ],
          "scattergl": [
           {
            "marker": {
             "colorbar": {
              "outlinewidth": 0,
              "ticks": ""
             }
            },
            "type": "scattergl"
           }
          ],
          "scattermap": [
           {
            "marker": {
             "colorbar": {
              "outlinewidth": 0,
              "ticks": ""
             }
            },
            "type": "scattermap"
           }
          ],
          "scattermapbox": [
           {
            "marker": {
             "colorbar": {
              "outlinewidth": 0,
              "ticks": ""
             }
            },
            "type": "scattermapbox"
           }
          ],
          "scatterpolar": [
           {
            "marker": {
             "colorbar": {
              "outlinewidth": 0,
              "ticks": ""
             }
            },
            "type": "scatterpolar"
           }
          ],
          "scatterpolargl": [
           {
            "marker": {
             "colorbar": {
              "outlinewidth": 0,
              "ticks": ""
             }
            },
            "type": "scatterpolargl"
           }
          ],
          "scatterternary": [
           {
            "marker": {
             "colorbar": {
              "outlinewidth": 0,
              "ticks": ""
             }
            },
            "type": "scatterternary"
           }
          ],
          "surface": [
           {
            "colorbar": {
             "outlinewidth": 0,
             "ticks": ""
            },
            "colorscale": [
             [
              0,
              "#0d0887"
             ],
             [
              0.1111111111111111,
              "#46039f"
             ],
             [
              0.2222222222222222,
              "#7201a8"
             ],
             [
              0.3333333333333333,
              "#9c179e"
             ],
             [
              0.4444444444444444,
              "#bd3786"
             ],
             [
              0.5555555555555556,
              "#d8576b"
             ],
             [
              0.6666666666666666,
              "#ed7953"
             ],
             [
              0.7777777777777778,
              "#fb9f3a"
             ],
             [
              0.8888888888888888,
              "#fdca26"
             ],
             [
              1,
              "#f0f921"
             ]
            ],
            "type": "surface"
           }
          ],
          "table": [
           {
            "cells": {
             "fill": {
              "color": "#EBF0F8"
             },
             "line": {
              "color": "white"
             }
            },
            "header": {
             "fill": {
              "color": "#C8D4E3"
             },
             "line": {
              "color": "white"
             }
            },
            "type": "table"
           }
          ]
         },
         "layout": {
          "annotationdefaults": {
           "arrowcolor": "#2a3f5f",
           "arrowhead": 0,
           "arrowwidth": 1
          },
          "autotypenumbers": "strict",
          "coloraxis": {
           "colorbar": {
            "outlinewidth": 0,
            "ticks": ""
           }
          },
          "colorscale": {
           "diverging": [
            [
             0,
             "#8e0152"
            ],
            [
             0.1,
             "#c51b7d"
            ],
            [
             0.2,
             "#de77ae"
            ],
            [
             0.3,
             "#f1b6da"
            ],
            [
             0.4,
             "#fde0ef"
            ],
            [
             0.5,
             "#f7f7f7"
            ],
            [
             0.6,
             "#e6f5d0"
            ],
            [
             0.7,
             "#b8e186"
            ],
            [
             0.8,
             "#7fbc41"
            ],
            [
             0.9,
             "#4d9221"
            ],
            [
             1,
             "#276419"
            ]
           ],
           "sequential": [
            [
             0,
             "#0d0887"
            ],
            [
             0.1111111111111111,
             "#46039f"
            ],
            [
             0.2222222222222222,
             "#7201a8"
            ],
            [
             0.3333333333333333,
             "#9c179e"
            ],
            [
             0.4444444444444444,
             "#bd3786"
            ],
            [
             0.5555555555555556,
             "#d8576b"
            ],
            [
             0.6666666666666666,
             "#ed7953"
            ],
            [
             0.7777777777777778,
             "#fb9f3a"
            ],
            [
             0.8888888888888888,
             "#fdca26"
            ],
            [
             1,
             "#f0f921"
            ]
           ],
           "sequentialminus": [
            [
             0,
             "#0d0887"
            ],
            [
             0.1111111111111111,
             "#46039f"
            ],
            [
             0.2222222222222222,
             "#7201a8"
            ],
            [
             0.3333333333333333,
             "#9c179e"
            ],
            [
             0.4444444444444444,
             "#bd3786"
            ],
            [
             0.5555555555555556,
             "#d8576b"
            ],
            [
             0.6666666666666666,
             "#ed7953"
            ],
            [
             0.7777777777777778,
             "#fb9f3a"
            ],
            [
             0.8888888888888888,
             "#fdca26"
            ],
            [
             1,
             "#f0f921"
            ]
           ]
          },
          "colorway": [
           "#636efa",
           "#EF553B",
           "#00cc96",
           "#ab63fa",
           "#FFA15A",
           "#19d3f3",
           "#FF6692",
           "#B6E880",
           "#FF97FF",
           "#FECB52"
          ],
          "font": {
           "color": "#2a3f5f"
          },
          "geo": {
           "bgcolor": "white",
           "lakecolor": "white",
           "landcolor": "#E5ECF6",
           "showlakes": true,
           "showland": true,
           "subunitcolor": "white"
          },
          "hoverlabel": {
           "align": "left"
          },
          "hovermode": "closest",
          "mapbox": {
           "style": "light"
          },
          "paper_bgcolor": "white",
          "plot_bgcolor": "#E5ECF6",
          "polar": {
           "angularaxis": {
            "gridcolor": "white",
            "linecolor": "white",
            "ticks": ""
           },
           "bgcolor": "#E5ECF6",
           "radialaxis": {
            "gridcolor": "white",
            "linecolor": "white",
            "ticks": ""
           }
          },
          "scene": {
           "xaxis": {
            "backgroundcolor": "#E5ECF6",
            "gridcolor": "white",
            "gridwidth": 2,
            "linecolor": "white",
            "showbackground": true,
            "ticks": "",
            "zerolinecolor": "white"
           },
           "yaxis": {
            "backgroundcolor": "#E5ECF6",
            "gridcolor": "white",
            "gridwidth": 2,
            "linecolor": "white",
            "showbackground": true,
            "ticks": "",
            "zerolinecolor": "white"
           },
           "zaxis": {
            "backgroundcolor": "#E5ECF6",
            "gridcolor": "white",
            "gridwidth": 2,
            "linecolor": "white",
            "showbackground": true,
            "ticks": "",
            "zerolinecolor": "white"
           }
          },
          "shapedefaults": {
           "line": {
            "color": "#2a3f5f"
           }
          },
          "ternary": {
           "aaxis": {
            "gridcolor": "white",
            "linecolor": "white",
            "ticks": ""
           },
           "baxis": {
            "gridcolor": "white",
            "linecolor": "white",
            "ticks": ""
           },
           "bgcolor": "#E5ECF6",
           "caxis": {
            "gridcolor": "white",
            "linecolor": "white",
            "ticks": ""
           }
          },
          "title": {
           "x": 0.05
          },
          "xaxis": {
           "automargin": true,
           "gridcolor": "white",
           "linecolor": "white",
           "ticks": "",
           "title": {
            "standoff": 15
           },
           "zerolinecolor": "white",
           "zerolinewidth": 2
          },
          "yaxis": {
           "automargin": true,
           "gridcolor": "white",
           "linecolor": "white",
           "ticks": "",
           "title": {
            "standoff": 15
           },
           "zerolinecolor": "white",
           "zerolinewidth": 2
          }
         }
        },
        "width": 2500,
        "xaxis": {
         "anchor": "y",
         "domain": [
          0,
          0.0955
         ],
         "matches": "x11",
         "showticklabels": false
        },
        "xaxis10": {
         "anchor": "y10",
         "domain": [
          0.9045000000000001,
          1
         ],
         "matches": "x11",
         "showticklabels": false
        },
        "xaxis11": {
         "anchor": "y11",
         "domain": [
          0,
          0.0955
         ],
         "tickangle": 0,
         "tickfont": {
          "size": 12
         }
        },
        "xaxis12": {
         "anchor": "y12",
         "domain": [
          0.1005,
          0.196
         ],
         "matches": "x11",
         "tickangle": 0,
         "tickfont": {
          "size": 12
         }
        },
        "xaxis13": {
         "anchor": "y13",
         "domain": [
          0.201,
          0.2965
         ],
         "matches": "x11",
         "tickangle": 0,
         "tickfont": {
          "size": 12
         }
        },
        "xaxis14": {
         "anchor": "y14",
         "domain": [
          0.3015,
          0.397
         ],
         "matches": "x11",
         "tickangle": 0,
         "tickfont": {
          "size": 12
         }
        },
        "xaxis15": {
         "anchor": "y15",
         "domain": [
          0.402,
          0.49750000000000005
         ],
         "matches": "x11",
         "tickangle": 0,
         "tickfont": {
          "size": 12
         }
        },
        "xaxis16": {
         "anchor": "y16",
         "domain": [
          0.5025000000000001,
          0.5980000000000001
         ],
         "matches": "x11",
         "tickangle": 0,
         "tickfont": {
          "size": 12
         }
        },
        "xaxis17": {
         "anchor": "y17",
         "domain": [
          0.603,
          0.6985
         ],
         "matches": "x11",
         "tickangle": 0,
         "tickfont": {
          "size": 12
         }
        },
        "xaxis18": {
         "anchor": "y18",
         "domain": [
          0.7035,
          0.799
         ],
         "matches": "x11",
         "tickangle": 0,
         "tickfont": {
          "size": 12
         }
        },
        "xaxis19": {
         "anchor": "y19",
         "domain": [
          0.804,
          0.8995000000000001
         ],
         "matches": "x11",
         "tickangle": 0,
         "tickfont": {
          "size": 12
         }
        },
        "xaxis2": {
         "anchor": "y2",
         "domain": [
          0.1005,
          0.196
         ],
         "matches": "x11",
         "showticklabels": false
        },
        "xaxis20": {
         "anchor": "y20",
         "domain": [
          0.9045000000000001,
          1
         ],
         "matches": "x11",
         "tickangle": 0,
         "tickfont": {
          "size": 12
         }
        },
        "xaxis3": {
         "anchor": "y3",
         "domain": [
          0.201,
          0.2965
         ],
         "matches": "x11",
         "showticklabels": false
        },
        "xaxis4": {
         "anchor": "y4",
         "domain": [
          0.3015,
          0.397
         ],
         "matches": "x11",
         "showticklabels": false
        },
        "xaxis5": {
         "anchor": "y5",
         "domain": [
          0.402,
          0.49750000000000005
         ],
         "matches": "x11",
         "showticklabels": false
        },
        "xaxis6": {
         "anchor": "y6",
         "domain": [
          0.5025000000000001,
          0.5980000000000001
         ],
         "matches": "x11",
         "showticklabels": false
        },
        "xaxis7": {
         "anchor": "y7",
         "domain": [
          0.603,
          0.6985
         ],
         "matches": "x11",
         "showticklabels": false
        },
        "xaxis8": {
         "anchor": "y8",
         "domain": [
          0.7035,
          0.799
         ],
         "matches": "x11",
         "showticklabels": false
        },
        "xaxis9": {
         "anchor": "y9",
         "domain": [
          0.804,
          0.8995000000000001
         ],
         "matches": "x11",
         "showticklabels": false
        },
        "yaxis": {
         "anchor": "x",
         "domain": [
          0.55,
          1
         ],
         "matches": "y11",
         "tickfont": {
          "size": 12
         }
        },
        "yaxis10": {
         "anchor": "x10",
         "domain": [
          0.55,
          1
         ],
         "matches": "y11",
         "showticklabels": false
        },
        "yaxis11": {
         "anchor": "x11",
         "domain": [
          0,
          0.45
         ],
         "tickfont": {
          "size": 12
         }
        },
        "yaxis12": {
         "anchor": "x12",
         "domain": [
          0,
          0.45
         ],
         "matches": "y11",
         "showticklabels": false
        },
        "yaxis13": {
         "anchor": "x13",
         "domain": [
          0,
          0.45
         ],
         "matches": "y11",
         "showticklabels": false
        },
        "yaxis14": {
         "anchor": "x14",
         "domain": [
          0,
          0.45
         ],
         "matches": "y11",
         "showticklabels": false
        },
        "yaxis15": {
         "anchor": "x15",
         "domain": [
          0,
          0.45
         ],
         "matches": "y11",
         "showticklabels": false
        },
        "yaxis16": {
         "anchor": "x16",
         "domain": [
          0,
          0.45
         ],
         "matches": "y11",
         "showticklabels": false
        },
        "yaxis17": {
         "anchor": "x17",
         "domain": [
          0,
          0.45
         ],
         "matches": "y11",
         "showticklabels": false
        },
        "yaxis18": {
         "anchor": "x18",
         "domain": [
          0,
          0.45
         ],
         "matches": "y11",
         "showticklabels": false
        },
        "yaxis19": {
         "anchor": "x19",
         "domain": [
          0,
          0.45
         ],
         "matches": "y11",
         "showticklabels": false
        },
        "yaxis2": {
         "anchor": "x2",
         "domain": [
          0.55,
          1
         ],
         "matches": "y11",
         "showticklabels": false
        },
        "yaxis20": {
         "anchor": "x20",
         "domain": [
          0,
          0.45
         ],
         "matches": "y11",
         "showticklabels": false
        },
        "yaxis3": {
         "anchor": "x3",
         "domain": [
          0.55,
          1
         ],
         "matches": "y11",
         "showticklabels": false
        },
        "yaxis4": {
         "anchor": "x4",
         "domain": [
          0.55,
          1
         ],
         "matches": "y11",
         "showticklabels": false
        },
        "yaxis5": {
         "anchor": "x5",
         "domain": [
          0.55,
          1
         ],
         "matches": "y11",
         "showticklabels": false
        },
        "yaxis6": {
         "anchor": "x6",
         "domain": [
          0.55,
          1
         ],
         "matches": "y11",
         "showticklabels": false
        },
        "yaxis7": {
         "anchor": "x7",
         "domain": [
          0.55,
          1
         ],
         "matches": "y11",
         "showticklabels": false
        },
        "yaxis8": {
         "anchor": "x8",
         "domain": [
          0.55,
          1
         ],
         "matches": "y11",
         "showticklabels": false
        },
        "yaxis9": {
         "anchor": "x9",
         "domain": [
          0.55,
          1
         ],
         "matches": "y11",
         "showticklabels": false
        }
       }
      }
     },
     "metadata": {},
     "output_type": "display_data"
    }
   ],
   "source": [
    "num_cols = 10\n",
    "num_rows = (len(main_model_config) - 1) // num_cols + 1\n",
    "\n",
    "fig = make_subplots(\n",
    "    rows=num_rows,\n",
    "    cols=num_cols,\n",
    "    shared_xaxes=\"all\",\n",
    "    shared_yaxes=\"all\",\n",
    "    horizontal_spacing=0.005,\n",
    "    vertical_spacing=0.1,\n",
    "    subplot_titles=sorted_model_keys.map(new_name).values,\n",
    ")\n",
    "\n",
    "font_size = [12, 16, 18, 20]\n",
    "show_scale = True\n",
    "\n",
    "for i, key in enumerate(sorted_model_keys):\n",
    "    if key not in csedf.index.levels[0]:\n",
    "        continue\n",
    "\n",
    "    row = i // num_cols + 1\n",
    "    col = i % num_cols + 1\n",
    "    tmpdf = csedf.loc[key]\n",
    "\n",
    "    fig.add_heatmap(\n",
    "        z=tmpdf.values,\n",
    "        x=tmpdf.columns.map(main_data_config[\"data_abbr\"]),\n",
    "        y=tmpdf.index.map(main_data_config[\"data_abbr\"]),\n",
    "        colorbar=go.heatmap.ColorBar(tickfont=go.heatmap.colorbar.Tickfont(size=font_size[1])),\n",
    "        colorscale=\"RdBu_r\",\n",
    "        hoverinfo=\"skip\",\n",
    "        zmin=-1,\n",
    "        zmax=1,\n",
    "        showscale=show_scale,\n",
    "        row=row,\n",
    "        col=col,\n",
    "    )\n",
    "\n",
    "    if row == num_rows:\n",
    "        fig.update_xaxes(\n",
    "            tickangle=0, tickfont=go.layout.xaxis.Tickfont(size=font_size[0]), row=row, col=col\n",
    "        )\n",
    "\n",
    "    if col == 1:\n",
    "        fig.update_yaxes(tickfont=go.layout.yaxis.Tickfont(size=font_size[0]), row=row, col=col)\n",
    "\n",
    "    show_scale = False\n",
    "\n",
    "fig.update_annotations(font=go.layout.annotation.Font(size=font_size[3]))\n",
    "fig.update_layout(margin=go.layout.Margin(l=30, r=15, t=30, b=15), width=2500, height=500)\n",
    "fig.write_image(\"./plot/msrpdr.pdf\", width=fig.layout.width, height=fig.layout.height)\n",
    "fig.show()"
   ]
  }
 ],
 "metadata": {
  "kernelspec": {
   "display_name": "moe-lrc",
   "language": "python",
   "name": "python3"
  },
  "language_info": {
   "codemirror_mode": {
    "name": "ipython",
    "version": 3
   },
   "file_extension": ".py",
   "mimetype": "text/x-python",
   "name": "python",
   "nbconvert_exporter": "python",
   "pygments_lexer": "ipython3",
   "version": "3.13.3"
  }
 },
 "nbformat": 4,
 "nbformat_minor": 5
}
