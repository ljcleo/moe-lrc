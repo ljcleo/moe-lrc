{
 "cells": [
  {
   "cell_type": "code",
   "execution_count": null,
   "id": "b556cfdb",
   "metadata": {},
   "outputs": [],
   "source": [
    "from pathlib import Path\n",
    "\n",
    "import pandas as pd\n",
    "import plotly.express as px\n",
    "import plotly.graph_objects as go\n",
    "from plotly.subplots import make_subplots\n",
    "\n",
    "from misc import model_config"
   ]
  },
  {
   "cell_type": "code",
   "execution_count": 2,
   "id": "ce4cb996",
   "metadata": {},
   "outputs": [
    {
     "data": {
      "text/html": [
       "<div>\n",
       "<style scoped>\n",
       "    .dataframe tbody tr th:only-of-type {\n",
       "        vertical-align: middle;\n",
       "    }\n",
       "\n",
       "    .dataframe tbody tr th {\n",
       "        vertical-align: top;\n",
       "    }\n",
       "\n",
       "    .dataframe thead th {\n",
       "        text-align: right;\n",
       "    }\n",
       "</style>\n",
       "<table border=\"1\" class=\"dataframe\">\n",
       "  <thead>\n",
       "    <tr style=\"text-align: right;\">\n",
       "      <th></th>\n",
       "      <th>model_name</th>\n",
       "      <th>model_abbr</th>\n",
       "      <th>model_type</th>\n",
       "      <th>model_num_params</th>\n",
       "      <th>model_num_layers</th>\n",
       "      <th>model_num_experts</th>\n",
       "      <th>model_top_k</th>\n",
       "      <th>model_attn</th>\n",
       "    </tr>\n",
       "    <tr>\n",
       "      <th>key</th>\n",
       "      <th></th>\n",
       "      <th></th>\n",
       "      <th></th>\n",
       "      <th></th>\n",
       "      <th></th>\n",
       "      <th></th>\n",
       "      <th></th>\n",
       "      <th></th>\n",
       "    </tr>\n",
       "  </thead>\n",
       "  <tbody>\n",
       "    <tr>\n",
       "      <th>powermoe</th>\n",
       "      <td>PowerMoE-3B</td>\n",
       "      <td>PW</td>\n",
       "      <td>causal</td>\n",
       "      <td>3.30</td>\n",
       "      <td>32</td>\n",
       "      <td>40</td>\n",
       "      <td>8</td>\n",
       "      <td>flash_attention_2</td>\n",
       "    </tr>\n",
       "    <tr>\n",
       "      <th>llamamoe</th>\n",
       "      <td>LLaMA-MoE-v1-3.5B</td>\n",
       "      <td>LL1</td>\n",
       "      <td>causal</td>\n",
       "      <td>6.74</td>\n",
       "      <td>32</td>\n",
       "      <td>16</td>\n",
       "      <td>4</td>\n",
       "      <td>eager</td>\n",
       "    </tr>\n",
       "    <tr>\n",
       "      <th>olmoe</th>\n",
       "      <td>OLMoE-1B-7B-0125</td>\n",
       "      <td>OL</td>\n",
       "      <td>causal</td>\n",
       "      <td>6.92</td>\n",
       "      <td>16</td>\n",
       "      <td>64</td>\n",
       "      <td>8</td>\n",
       "      <td>flash_attention_2</td>\n",
       "    </tr>\n",
       "    <tr>\n",
       "      <th>switch</th>\n",
       "      <td>SwitchTransformers-Base-128</td>\n",
       "      <td>ST</td>\n",
       "      <td>seq2seq</td>\n",
       "      <td>7.42</td>\n",
       "      <td>24</td>\n",
       "      <td>128</td>\n",
       "      <td>1</td>\n",
       "      <td>eager</td>\n",
       "    </tr>\n",
       "    <tr>\n",
       "      <th>llamamoe2</th>\n",
       "      <td>LLaMA-MoE-v2-3.8B</td>\n",
       "      <td>LL2</td>\n",
       "      <td>causal</td>\n",
       "      <td>8.03</td>\n",
       "      <td>32</td>\n",
       "      <td>8</td>\n",
       "      <td>2</td>\n",
       "      <td>flash_attention_2</td>\n",
       "    </tr>\n",
       "    <tr>\n",
       "      <th>jetmoe</th>\n",
       "      <td>JetMoE-8B</td>\n",
       "      <td>JT</td>\n",
       "      <td>causal</td>\n",
       "      <td>8.52</td>\n",
       "      <td>24</td>\n",
       "      <td>8</td>\n",
       "      <td>2</td>\n",
       "      <td>flash_attention_2</td>\n",
       "    </tr>\n",
       "    <tr>\n",
       "      <th>openmoe</th>\n",
       "      <td>OpenMoE-8B</td>\n",
       "      <td>OP</td>\n",
       "      <td>causal</td>\n",
       "      <td>11.86</td>\n",
       "      <td>24</td>\n",
       "      <td>32</td>\n",
       "      <td>2</td>\n",
       "      <td>eager</td>\n",
       "    </tr>\n",
       "    <tr>\n",
       "      <th>minicpm</th>\n",
       "      <td>MiniCPM-MoE-8x2B</td>\n",
       "      <td>MC</td>\n",
       "      <td>causal</td>\n",
       "      <td>13.87</td>\n",
       "      <td>40</td>\n",
       "      <td>8</td>\n",
       "      <td>2</td>\n",
       "      <td>flash_attention_2</td>\n",
       "    </tr>\n",
       "    <tr>\n",
       "      <th>qwen</th>\n",
       "      <td>Qwen1.5-MoE-A2.7B</td>\n",
       "      <td>QW1</td>\n",
       "      <td>causal</td>\n",
       "      <td>14.32</td>\n",
       "      <td>24</td>\n",
       "      <td>60</td>\n",
       "      <td>4</td>\n",
       "      <td>flash_attention_2</td>\n",
       "    </tr>\n",
       "    <tr>\n",
       "      <th>deepseek2</th>\n",
       "      <td>DeepSeek-V2-Lite</td>\n",
       "      <td>DS2</td>\n",
       "      <td>causal</td>\n",
       "      <td>15.71</td>\n",
       "      <td>27</td>\n",
       "      <td>64</td>\n",
       "      <td>6</td>\n",
       "      <td>flash_attention_2</td>\n",
       "    </tr>\n",
       "    <tr>\n",
       "      <th>deepseek</th>\n",
       "      <td>DeepSeekMoE</td>\n",
       "      <td>DS1</td>\n",
       "      <td>causal</td>\n",
       "      <td>16.38</td>\n",
       "      <td>28</td>\n",
       "      <td>64</td>\n",
       "      <td>6</td>\n",
       "      <td>flash_attention_2</td>\n",
       "    </tr>\n",
       "    <tr>\n",
       "      <th>xverse</th>\n",
       "      <td>XVERSE-MoE-A4.2B</td>\n",
       "      <td>XV</td>\n",
       "      <td>causal</td>\n",
       "      <td>25.78</td>\n",
       "      <td>28</td>\n",
       "      <td>64</td>\n",
       "      <td>6</td>\n",
       "      <td>flash_attention_2</td>\n",
       "    </tr>\n",
       "    <tr>\n",
       "      <th>qwen3</th>\n",
       "      <td>Qwen3-30B-A3B</td>\n",
       "      <td>QW3</td>\n",
       "      <td>causal</td>\n",
       "      <td>30.53</td>\n",
       "      <td>48</td>\n",
       "      <td>128</td>\n",
       "      <td>8</td>\n",
       "      <td>flash_attention_2</td>\n",
       "    </tr>\n",
       "    <tr>\n",
       "      <th>yuan</th>\n",
       "      <td>Yuan2.0-M32</td>\n",
       "      <td>Y2</td>\n",
       "      <td>causal</td>\n",
       "      <td>39.94</td>\n",
       "      <td>24</td>\n",
       "      <td>32</td>\n",
       "      <td>2</td>\n",
       "      <td>flash_attention_2</td>\n",
       "    </tr>\n",
       "    <tr>\n",
       "      <th>phi</th>\n",
       "      <td>Phi-3.5-MoE</td>\n",
       "      <td>PH</td>\n",
       "      <td>causal</td>\n",
       "      <td>41.87</td>\n",
       "      <td>32</td>\n",
       "      <td>16</td>\n",
       "      <td>2</td>\n",
       "      <td>flash_attention_2</td>\n",
       "    </tr>\n",
       "    <tr>\n",
       "      <th>grin</th>\n",
       "      <td>GRIN-MoE</td>\n",
       "      <td>GR</td>\n",
       "      <td>causal</td>\n",
       "      <td>41.87</td>\n",
       "      <td>32</td>\n",
       "      <td>16</td>\n",
       "      <td>2</td>\n",
       "      <td>flash_attention_2</td>\n",
       "    </tr>\n",
       "    <tr>\n",
       "      <th>mixtral</th>\n",
       "      <td>Mixtral-8x7B-v0.1</td>\n",
       "      <td>MX</td>\n",
       "      <td>causal</td>\n",
       "      <td>46.70</td>\n",
       "      <td>32</td>\n",
       "      <td>8</td>\n",
       "      <td>2</td>\n",
       "      <td>flash_attention_2</td>\n",
       "    </tr>\n",
       "    <tr>\n",
       "      <th>jamba</th>\n",
       "      <td>Jamba-Mini-1.6</td>\n",
       "      <td>JB</td>\n",
       "      <td>causal</td>\n",
       "      <td>51.57</td>\n",
       "      <td>32</td>\n",
       "      <td>16</td>\n",
       "      <td>2</td>\n",
       "      <td>flash_attention_2</td>\n",
       "    </tr>\n",
       "    <tr>\n",
       "      <th>nllb</th>\n",
       "      <td>NLLB-MoE-54B</td>\n",
       "      <td>NL</td>\n",
       "      <td>seq2seq</td>\n",
       "      <td>54.50</td>\n",
       "      <td>48</td>\n",
       "      <td>128</td>\n",
       "      <td>2</td>\n",
       "      <td>eager</td>\n",
       "    </tr>\n",
       "    <tr>\n",
       "      <th>qwen2</th>\n",
       "      <td>Qwen2-57B-A14B</td>\n",
       "      <td>QW2</td>\n",
       "      <td>causal</td>\n",
       "      <td>57.41</td>\n",
       "      <td>28</td>\n",
       "      <td>64</td>\n",
       "      <td>8</td>\n",
       "      <td>flash_attention_2</td>\n",
       "    </tr>\n",
       "  </tbody>\n",
       "</table>\n",
       "</div>"
      ],
      "text/plain": [
       "                            model_name model_abbr model_type  \\\n",
       "key                                                            \n",
       "powermoe                   PowerMoE-3B         PW     causal   \n",
       "llamamoe             LLaMA-MoE-v1-3.5B        LL1     causal   \n",
       "olmoe                 OLMoE-1B-7B-0125         OL     causal   \n",
       "switch     SwitchTransformers-Base-128         ST    seq2seq   \n",
       "llamamoe2            LLaMA-MoE-v2-3.8B        LL2     causal   \n",
       "jetmoe                       JetMoE-8B         JT     causal   \n",
       "openmoe                     OpenMoE-8B         OP     causal   \n",
       "minicpm               MiniCPM-MoE-8x2B         MC     causal   \n",
       "qwen                 Qwen1.5-MoE-A2.7B        QW1     causal   \n",
       "deepseek2             DeepSeek-V2-Lite        DS2     causal   \n",
       "deepseek                   DeepSeekMoE        DS1     causal   \n",
       "xverse                XVERSE-MoE-A4.2B         XV     causal   \n",
       "qwen3                    Qwen3-30B-A3B        QW3     causal   \n",
       "yuan                       Yuan2.0-M32         Y2     causal   \n",
       "phi                        Phi-3.5-MoE         PH     causal   \n",
       "grin                          GRIN-MoE         GR     causal   \n",
       "mixtral              Mixtral-8x7B-v0.1         MX     causal   \n",
       "jamba                   Jamba-Mini-1.6         JB     causal   \n",
       "nllb                      NLLB-MoE-54B         NL    seq2seq   \n",
       "qwen2                   Qwen2-57B-A14B        QW2     causal   \n",
       "\n",
       "           model_num_params  model_num_layers  model_num_experts  model_top_k  \\\n",
       "key                                                                             \n",
       "powermoe               3.30                32                 40            8   \n",
       "llamamoe               6.74                32                 16            4   \n",
       "olmoe                  6.92                16                 64            8   \n",
       "switch                 7.42                24                128            1   \n",
       "llamamoe2              8.03                32                  8            2   \n",
       "jetmoe                 8.52                24                  8            2   \n",
       "openmoe               11.86                24                 32            2   \n",
       "minicpm               13.87                40                  8            2   \n",
       "qwen                  14.32                24                 60            4   \n",
       "deepseek2             15.71                27                 64            6   \n",
       "deepseek              16.38                28                 64            6   \n",
       "xverse                25.78                28                 64            6   \n",
       "qwen3                 30.53                48                128            8   \n",
       "yuan                  39.94                24                 32            2   \n",
       "phi                   41.87                32                 16            2   \n",
       "grin                  41.87                32                 16            2   \n",
       "mixtral               46.70                32                  8            2   \n",
       "jamba                 51.57                32                 16            2   \n",
       "nllb                  54.50                48                128            2   \n",
       "qwen2                 57.41                28                 64            8   \n",
       "\n",
       "                  model_attn  \n",
       "key                           \n",
       "powermoe   flash_attention_2  \n",
       "llamamoe               eager  \n",
       "olmoe      flash_attention_2  \n",
       "switch                 eager  \n",
       "llamamoe2  flash_attention_2  \n",
       "jetmoe     flash_attention_2  \n",
       "openmoe                eager  \n",
       "minicpm    flash_attention_2  \n",
       "qwen       flash_attention_2  \n",
       "deepseek2  flash_attention_2  \n",
       "deepseek   flash_attention_2  \n",
       "xverse     flash_attention_2  \n",
       "qwen3      flash_attention_2  \n",
       "yuan       flash_attention_2  \n",
       "phi        flash_attention_2  \n",
       "grin       flash_attention_2  \n",
       "mixtral    flash_attention_2  \n",
       "jamba      flash_attention_2  \n",
       "nllb                   eager  \n",
       "qwen2      flash_attention_2  "
      ]
     },
     "execution_count": 2,
     "metadata": {},
     "output_type": "execute_result"
    }
   ],
   "source": [
    "main_model_config = (\n",
    "    model_config.query(\"main\")\n",
    "    .drop(columns=\"main\")\n",
    "    .rename(columns={k: f\"model_{k}\" for k in model_config.columns})\n",
    ")\n",
    "\n",
    "new_name = {\n",
    "    \"powermoe\": \"PowerMoE\",\n",
    "    \"llamamoe\": \"LLaMA-MoE-v1\",\n",
    "    \"olmoe\": \"OLMoE\",\n",
    "    \"switch\": \"SwitchTransformers\",\n",
    "    \"llamamoe2\": \"LLaMA-MoE-v2\",\n",
    "    \"jetmoe\": \"JetMoE\",\n",
    "    \"openmoe\": \"OpenMoE\",\n",
    "    \"minicpm\": \"MiniCPM-MoE\",\n",
    "    \"qwen\": \"Qwen1.5-MoE\",\n",
    "    \"deepseek2\": \"DeepSeek-V2-Lite\",\n",
    "    \"deepseek\": \"DeepSeekMoE\",\n",
    "    \"xverse\": \"XVERSE-MoE\",\n",
    "    \"qwen3\": \"Qwen3\",\n",
    "    \"yuan\": \"Yuan2.0\",\n",
    "    \"phi\": \"Phi-3.5-MoE\",\n",
    "    \"grin\": \"GRIN-MoE\",\n",
    "    \"mixtral\": \"Mixtral-8x7B\",\n",
    "    \"jamba\": \"Jamba-Mini\",\n",
    "    \"nllb\": \"NLLB-MoE\",\n",
    "    \"qwen2\": \"Qwen2\",\n",
    "}\n",
    "\n",
    "model_colors = {\n",
    "    key: px.colors.qualitative.Dark24[i] for i, key in enumerate(main_model_config.index.values)\n",
    "}\n",
    "\n",
    "seg_lens = (4, 16, 64, 256)\n",
    "seg_len_colors = {key: px.colors.qualitative.Plotly[i] for i, key in enumerate(seg_lens)}\n",
    "main_model_config"
   ]
  },
  {
   "cell_type": "code",
   "execution_count": 3,
   "id": "64a3c828",
   "metadata": {},
   "outputs": [],
   "source": [
    "def make_abbr(df):\n",
    "    return (\n",
    "        f\"{df['model_abbr']}{'d' if df['is_decoder'] else 'e'}\"\n",
    "        if df[\"model_type\"] == \"seq2seq\"\n",
    "        else df[\"model_abbr\"]\n",
    "    )"
   ]
  },
  {
   "cell_type": "code",
   "execution_count": null,
   "id": "8e52ad8a",
   "metadata": {},
   "outputs": [
    {
     "data": {
      "text/html": [
       "<div>\n",
       "<style scoped>\n",
       "    .dataframe tbody tr th:only-of-type {\n",
       "        vertical-align: middle;\n",
       "    }\n",
       "\n",
       "    .dataframe tbody tr th {\n",
       "        vertical-align: top;\n",
       "    }\n",
       "\n",
       "    .dataframe thead th {\n",
       "        text-align: right;\n",
       "    }\n",
       "</style>\n",
       "<table border=\"1\" class=\"dataframe\">\n",
       "  <thead>\n",
       "    <tr style=\"text-align: right;\">\n",
       "      <th></th>\n",
       "      <th>model</th>\n",
       "      <th>is_decoder</th>\n",
       "      <th>seg_len</th>\n",
       "      <th>start_pos</th>\n",
       "      <th>act_r</th>\n",
       "      <th>best_f1</th>\n",
       "      <th>best_m</th>\n",
       "      <th>model_name</th>\n",
       "      <th>model_abbr</th>\n",
       "      <th>model_type</th>\n",
       "      <th>model_num_params</th>\n",
       "      <th>model_num_layers</th>\n",
       "      <th>model_num_experts</th>\n",
       "      <th>model_top_k</th>\n",
       "      <th>model_attn</th>\n",
       "    </tr>\n",
       "  </thead>\n",
       "  <tbody>\n",
       "    <tr>\n",
       "      <th>0</th>\n",
       "      <td>powermoe</td>\n",
       "      <td>True</td>\n",
       "      <td>4</td>\n",
       "      <td>0</td>\n",
       "      <td>0.200</td>\n",
       "      <td>0.616218</td>\n",
       "      <td>1.025195</td>\n",
       "      <td>PowerMoE-3B</td>\n",
       "      <td>PW</td>\n",
       "      <td>causal</td>\n",
       "      <td>3.30</td>\n",
       "      <td>32</td>\n",
       "      <td>40</td>\n",
       "      <td>8</td>\n",
       "      <td>flash_attention_2</td>\n",
       "    </tr>\n",
       "    <tr>\n",
       "      <th>1</th>\n",
       "      <td>powermoe</td>\n",
       "      <td>True</td>\n",
       "      <td>4</td>\n",
       "      <td>1</td>\n",
       "      <td>0.200</td>\n",
       "      <td>0.668296</td>\n",
       "      <td>1.089514</td>\n",
       "      <td>PowerMoE-3B</td>\n",
       "      <td>PW</td>\n",
       "      <td>causal</td>\n",
       "      <td>3.30</td>\n",
       "      <td>32</td>\n",
       "      <td>40</td>\n",
       "      <td>8</td>\n",
       "      <td>flash_attention_2</td>\n",
       "    </tr>\n",
       "    <tr>\n",
       "      <th>2</th>\n",
       "      <td>powermoe</td>\n",
       "      <td>True</td>\n",
       "      <td>4</td>\n",
       "      <td>2</td>\n",
       "      <td>0.200</td>\n",
       "      <td>0.673125</td>\n",
       "      <td>1.096706</td>\n",
       "      <td>PowerMoE-3B</td>\n",
       "      <td>PW</td>\n",
       "      <td>causal</td>\n",
       "      <td>3.30</td>\n",
       "      <td>32</td>\n",
       "      <td>40</td>\n",
       "      <td>8</td>\n",
       "      <td>flash_attention_2</td>\n",
       "    </tr>\n",
       "    <tr>\n",
       "      <th>3</th>\n",
       "      <td>powermoe</td>\n",
       "      <td>True</td>\n",
       "      <td>4</td>\n",
       "      <td>3</td>\n",
       "      <td>0.200</td>\n",
       "      <td>0.674550</td>\n",
       "      <td>1.098278</td>\n",
       "      <td>PowerMoE-3B</td>\n",
       "      <td>PW</td>\n",
       "      <td>causal</td>\n",
       "      <td>3.30</td>\n",
       "      <td>32</td>\n",
       "      <td>40</td>\n",
       "      <td>8</td>\n",
       "      <td>flash_attention_2</td>\n",
       "    </tr>\n",
       "    <tr>\n",
       "      <th>4</th>\n",
       "      <td>powermoe</td>\n",
       "      <td>True</td>\n",
       "      <td>4</td>\n",
       "      <td>4</td>\n",
       "      <td>0.200</td>\n",
       "      <td>0.675213</td>\n",
       "      <td>1.100563</td>\n",
       "      <td>PowerMoE-3B</td>\n",
       "      <td>PW</td>\n",
       "      <td>causal</td>\n",
       "      <td>3.30</td>\n",
       "      <td>32</td>\n",
       "      <td>40</td>\n",
       "      <td>8</td>\n",
       "      <td>flash_attention_2</td>\n",
       "    </tr>\n",
       "    <tr>\n",
       "      <th>...</th>\n",
       "      <td>...</td>\n",
       "      <td>...</td>\n",
       "      <td>...</td>\n",
       "      <td>...</td>\n",
       "      <td>...</td>\n",
       "      <td>...</td>\n",
       "      <td>...</td>\n",
       "      <td>...</td>\n",
       "      <td>...</td>\n",
       "      <td>...</td>\n",
       "      <td>...</td>\n",
       "      <td>...</td>\n",
       "      <td>...</td>\n",
       "      <td>...</td>\n",
       "      <td>...</td>\n",
       "    </tr>\n",
       "    <tr>\n",
       "      <th>48045</th>\n",
       "      <td>qwen2</td>\n",
       "      <td>True</td>\n",
       "      <td>256</td>\n",
       "      <td>252</td>\n",
       "      <td>0.125</td>\n",
       "      <td>0.275368</td>\n",
       "      <td>2.530671</td>\n",
       "      <td>Qwen2-57B-A14B</td>\n",
       "      <td>QW2</td>\n",
       "      <td>causal</td>\n",
       "      <td>57.41</td>\n",
       "      <td>28</td>\n",
       "      <td>64</td>\n",
       "      <td>8</td>\n",
       "      <td>flash_attention_2</td>\n",
       "    </tr>\n",
       "    <tr>\n",
       "      <th>48046</th>\n",
       "      <td>qwen2</td>\n",
       "      <td>True</td>\n",
       "      <td>256</td>\n",
       "      <td>253</td>\n",
       "      <td>0.125</td>\n",
       "      <td>0.275366</td>\n",
       "      <td>2.530599</td>\n",
       "      <td>Qwen2-57B-A14B</td>\n",
       "      <td>QW2</td>\n",
       "      <td>causal</td>\n",
       "      <td>57.41</td>\n",
       "      <td>28</td>\n",
       "      <td>64</td>\n",
       "      <td>8</td>\n",
       "      <td>flash_attention_2</td>\n",
       "    </tr>\n",
       "    <tr>\n",
       "      <th>48047</th>\n",
       "      <td>qwen2</td>\n",
       "      <td>True</td>\n",
       "      <td>256</td>\n",
       "      <td>254</td>\n",
       "      <td>0.125</td>\n",
       "      <td>0.275364</td>\n",
       "      <td>2.530506</td>\n",
       "      <td>Qwen2-57B-A14B</td>\n",
       "      <td>QW2</td>\n",
       "      <td>causal</td>\n",
       "      <td>57.41</td>\n",
       "      <td>28</td>\n",
       "      <td>64</td>\n",
       "      <td>8</td>\n",
       "      <td>flash_attention_2</td>\n",
       "    </tr>\n",
       "    <tr>\n",
       "      <th>48048</th>\n",
       "      <td>qwen2</td>\n",
       "      <td>True</td>\n",
       "      <td>256</td>\n",
       "      <td>255</td>\n",
       "      <td>0.125</td>\n",
       "      <td>0.275366</td>\n",
       "      <td>2.530530</td>\n",
       "      <td>Qwen2-57B-A14B</td>\n",
       "      <td>QW2</td>\n",
       "      <td>causal</td>\n",
       "      <td>57.41</td>\n",
       "      <td>28</td>\n",
       "      <td>64</td>\n",
       "      <td>8</td>\n",
       "      <td>flash_attention_2</td>\n",
       "    </tr>\n",
       "    <tr>\n",
       "      <th>48049</th>\n",
       "      <td>qwen2</td>\n",
       "      <td>True</td>\n",
       "      <td>256</td>\n",
       "      <td>256</td>\n",
       "      <td>0.125</td>\n",
       "      <td>0.275366</td>\n",
       "      <td>2.530509</td>\n",
       "      <td>Qwen2-57B-A14B</td>\n",
       "      <td>QW2</td>\n",
       "      <td>causal</td>\n",
       "      <td>57.41</td>\n",
       "      <td>28</td>\n",
       "      <td>64</td>\n",
       "      <td>8</td>\n",
       "      <td>flash_attention_2</td>\n",
       "    </tr>\n",
       "  </tbody>\n",
       "</table>\n",
       "<p>36066 rows × 15 columns</p>\n",
       "</div>"
      ],
      "text/plain": [
       "          model  is_decoder  seg_len  start_pos  act_r   best_f1    best_m  \\\n",
       "0      powermoe        True        4          0  0.200  0.616218  1.025195   \n",
       "1      powermoe        True        4          1  0.200  0.668296  1.089514   \n",
       "2      powermoe        True        4          2  0.200  0.673125  1.096706   \n",
       "3      powermoe        True        4          3  0.200  0.674550  1.098278   \n",
       "4      powermoe        True        4          4  0.200  0.675213  1.100563   \n",
       "...         ...         ...      ...        ...    ...       ...       ...   \n",
       "48045     qwen2        True      256        252  0.125  0.275368  2.530671   \n",
       "48046     qwen2        True      256        253  0.125  0.275366  2.530599   \n",
       "48047     qwen2        True      256        254  0.125  0.275364  2.530506   \n",
       "48048     qwen2        True      256        255  0.125  0.275366  2.530530   \n",
       "48049     qwen2        True      256        256  0.125  0.275366  2.530509   \n",
       "\n",
       "           model_name model_abbr model_type  model_num_params  \\\n",
       "0         PowerMoE-3B         PW     causal              3.30   \n",
       "1         PowerMoE-3B         PW     causal              3.30   \n",
       "2         PowerMoE-3B         PW     causal              3.30   \n",
       "3         PowerMoE-3B         PW     causal              3.30   \n",
       "4         PowerMoE-3B         PW     causal              3.30   \n",
       "...               ...        ...        ...               ...   \n",
       "48045  Qwen2-57B-A14B        QW2     causal             57.41   \n",
       "48046  Qwen2-57B-A14B        QW2     causal             57.41   \n",
       "48047  Qwen2-57B-A14B        QW2     causal             57.41   \n",
       "48048  Qwen2-57B-A14B        QW2     causal             57.41   \n",
       "48049  Qwen2-57B-A14B        QW2     causal             57.41   \n",
       "\n",
       "       model_num_layers  model_num_experts  model_top_k         model_attn  \n",
       "0                    32                 40            8  flash_attention_2  \n",
       "1                    32                 40            8  flash_attention_2  \n",
       "2                    32                 40            8  flash_attention_2  \n",
       "3                    32                 40            8  flash_attention_2  \n",
       "4                    32                 40            8  flash_attention_2  \n",
       "...                 ...                ...          ...                ...  \n",
       "48045                28                 64            8  flash_attention_2  \n",
       "48046                28                 64            8  flash_attention_2  \n",
       "48047                28                 64            8  flash_attention_2  \n",
       "48048                28                 64            8  flash_attention_2  \n",
       "48049                28                 64            8  flash_attention_2  \n",
       "\n",
       "[36066 rows x 15 columns]"
      ]
     },
     "execution_count": 4,
     "metadata": {},
     "output_type": "execute_result"
    }
   ],
   "source": [
    "root_dir = Path(\"../output/srp_pos_mpq\")\n",
    "\n",
    "dfs = {\n",
    "    p.stem: pd.merge(pd.read_parquet(p), main_model_config, left_on=\"model\", right_index=True)\n",
    "    for p in root_dir.glob(\"*.parquet\")\n",
    "}\n",
    "\n",
    "for df in dfs.values():\n",
    "    df[\"model\"] = df[\"model\"].astype(model_config.index.dtype)\n",
    "\n",
    "dfs[\"mg\"]"
   ]
  },
  {
   "cell_type": "code",
   "execution_count": 5,
   "id": "0d118f4c",
   "metadata": {},
   "outputs": [
    {
     "data": {
      "text/html": [
       "<div>\n",
       "<style scoped>\n",
       "    .dataframe tbody tr th:only-of-type {\n",
       "        vertical-align: middle;\n",
       "    }\n",
       "\n",
       "    .dataframe tbody tr th {\n",
       "        vertical-align: top;\n",
       "    }\n",
       "\n",
       "    .dataframe thead th {\n",
       "        text-align: right;\n",
       "    }\n",
       "</style>\n",
       "<table border=\"1\" class=\"dataframe\">\n",
       "  <thead>\n",
       "    <tr style=\"text-align: right;\">\n",
       "      <th></th>\n",
       "      <th>seg_len</th>\n",
       "      <th>4</th>\n",
       "      <th>16</th>\n",
       "      <th>64</th>\n",
       "      <th>256</th>\n",
       "    </tr>\n",
       "    <tr>\n",
       "      <th>model</th>\n",
       "      <th>is_decoder</th>\n",
       "      <th></th>\n",
       "      <th></th>\n",
       "      <th></th>\n",
       "      <th></th>\n",
       "    </tr>\n",
       "  </thead>\n",
       "  <tbody>\n",
       "    <tr>\n",
       "      <th>powermoe</th>\n",
       "      <th>True</th>\n",
       "      <td>0.002574</td>\n",
       "      <td>0.000756</td>\n",
       "      <td>0.000314</td>\n",
       "      <td>0.000138</td>\n",
       "    </tr>\n",
       "    <tr>\n",
       "      <th>llamamoe</th>\n",
       "      <th>True</th>\n",
       "      <td>0.002251</td>\n",
       "      <td>0.001232</td>\n",
       "      <td>0.000644</td>\n",
       "      <td>0.000197</td>\n",
       "    </tr>\n",
       "    <tr>\n",
       "      <th>olmoe</th>\n",
       "      <th>True</th>\n",
       "      <td>0.004865</td>\n",
       "      <td>0.006085</td>\n",
       "      <td>0.005223</td>\n",
       "      <td>0.002647</td>\n",
       "    </tr>\n",
       "    <tr>\n",
       "      <th rowspan=\"2\" valign=\"top\">switch</th>\n",
       "      <th>False</th>\n",
       "      <td>0.002649</td>\n",
       "      <td>0.002792</td>\n",
       "      <td>0.002069</td>\n",
       "      <td>0.000584</td>\n",
       "    </tr>\n",
       "    <tr>\n",
       "      <th>True</th>\n",
       "      <td>0.013866</td>\n",
       "      <td>0.008928</td>\n",
       "      <td>0.000835</td>\n",
       "      <td>NaN</td>\n",
       "    </tr>\n",
       "    <tr>\n",
       "      <th>llamamoe2</th>\n",
       "      <th>True</th>\n",
       "      <td>0.006526</td>\n",
       "      <td>0.003851</td>\n",
       "      <td>0.001854</td>\n",
       "      <td>0.000809</td>\n",
       "    </tr>\n",
       "    <tr>\n",
       "      <th>jetmoe</th>\n",
       "      <th>True</th>\n",
       "      <td>0.001859</td>\n",
       "      <td>0.001641</td>\n",
       "      <td>0.001258</td>\n",
       "      <td>0.000504</td>\n",
       "    </tr>\n",
       "    <tr>\n",
       "      <th>openmoe</th>\n",
       "      <th>True</th>\n",
       "      <td>0.007175</td>\n",
       "      <td>0.014517</td>\n",
       "      <td>0.009706</td>\n",
       "      <td>0.004261</td>\n",
       "    </tr>\n",
       "    <tr>\n",
       "      <th>minicpm</th>\n",
       "      <th>True</th>\n",
       "      <td>0.002201</td>\n",
       "      <td>0.001795</td>\n",
       "      <td>0.001372</td>\n",
       "      <td>0.000552</td>\n",
       "    </tr>\n",
       "    <tr>\n",
       "      <th>qwen</th>\n",
       "      <th>True</th>\n",
       "      <td>0.002048</td>\n",
       "      <td>0.003713</td>\n",
       "      <td>0.002968</td>\n",
       "      <td>0.001334</td>\n",
       "    </tr>\n",
       "    <tr>\n",
       "      <th>deepseek2</th>\n",
       "      <th>True</th>\n",
       "      <td>0.006391</td>\n",
       "      <td>0.007014</td>\n",
       "      <td>0.005442</td>\n",
       "      <td>0.002828</td>\n",
       "    </tr>\n",
       "    <tr>\n",
       "      <th>deepseek</th>\n",
       "      <th>True</th>\n",
       "      <td>0.005878</td>\n",
       "      <td>0.005510</td>\n",
       "      <td>0.004925</td>\n",
       "      <td>0.002457</td>\n",
       "    </tr>\n",
       "    <tr>\n",
       "      <th>xverse</th>\n",
       "      <th>True</th>\n",
       "      <td>0.008094</td>\n",
       "      <td>0.008471</td>\n",
       "      <td>0.006704</td>\n",
       "      <td>0.003433</td>\n",
       "    </tr>\n",
       "    <tr>\n",
       "      <th>qwen3</th>\n",
       "      <th>True</th>\n",
       "      <td>0.007445</td>\n",
       "      <td>0.006051</td>\n",
       "      <td>0.004887</td>\n",
       "      <td>0.002271</td>\n",
       "    </tr>\n",
       "    <tr>\n",
       "      <th>yuan</th>\n",
       "      <th>True</th>\n",
       "      <td>0.003460</td>\n",
       "      <td>0.001099</td>\n",
       "      <td>0.000573</td>\n",
       "      <td>0.000315</td>\n",
       "    </tr>\n",
       "    <tr>\n",
       "      <th>phi</th>\n",
       "      <th>True</th>\n",
       "      <td>0.004435</td>\n",
       "      <td>0.001751</td>\n",
       "      <td>0.000619</td>\n",
       "      <td>0.000274</td>\n",
       "    </tr>\n",
       "    <tr>\n",
       "      <th>grin</th>\n",
       "      <th>True</th>\n",
       "      <td>0.004115</td>\n",
       "      <td>0.002510</td>\n",
       "      <td>0.001988</td>\n",
       "      <td>0.001069</td>\n",
       "    </tr>\n",
       "    <tr>\n",
       "      <th>mixtral</th>\n",
       "      <th>True</th>\n",
       "      <td>0.000638</td>\n",
       "      <td>0.000621</td>\n",
       "      <td>0.000547</td>\n",
       "      <td>0.000199</td>\n",
       "    </tr>\n",
       "    <tr>\n",
       "      <th>jamba</th>\n",
       "      <th>True</th>\n",
       "      <td>0.007086</td>\n",
       "      <td>0.006877</td>\n",
       "      <td>0.005288</td>\n",
       "      <td>0.002911</td>\n",
       "    </tr>\n",
       "    <tr>\n",
       "      <th rowspan=\"2\" valign=\"top\">nllb</th>\n",
       "      <th>False</th>\n",
       "      <td>0.008160</td>\n",
       "      <td>0.004198</td>\n",
       "      <td>0.012322</td>\n",
       "      <td>0.016452</td>\n",
       "    </tr>\n",
       "    <tr>\n",
       "      <th>True</th>\n",
       "      <td>0.003501</td>\n",
       "      <td>0.013795</td>\n",
       "      <td>0.017524</td>\n",
       "      <td>0.015634</td>\n",
       "    </tr>\n",
       "    <tr>\n",
       "      <th>qwen2</th>\n",
       "      <th>True</th>\n",
       "      <td>0.004104</td>\n",
       "      <td>0.001208</td>\n",
       "      <td>0.000234</td>\n",
       "      <td>0.000180</td>\n",
       "    </tr>\n",
       "  </tbody>\n",
       "</table>\n",
       "</div>"
      ],
      "text/plain": [
       "seg_len                    4         16        64        256\n",
       "model     is_decoder                                        \n",
       "powermoe  True        0.002574  0.000756  0.000314  0.000138\n",
       "llamamoe  True        0.002251  0.001232  0.000644  0.000197\n",
       "olmoe     True        0.004865  0.006085  0.005223  0.002647\n",
       "switch    False       0.002649  0.002792  0.002069  0.000584\n",
       "          True        0.013866  0.008928  0.000835       NaN\n",
       "llamamoe2 True        0.006526  0.003851  0.001854  0.000809\n",
       "jetmoe    True        0.001859  0.001641  0.001258  0.000504\n",
       "openmoe   True        0.007175  0.014517  0.009706  0.004261\n",
       "minicpm   True        0.002201  0.001795  0.001372  0.000552\n",
       "qwen      True        0.002048  0.003713  0.002968  0.001334\n",
       "deepseek2 True        0.006391  0.007014  0.005442  0.002828\n",
       "deepseek  True        0.005878  0.005510  0.004925  0.002457\n",
       "xverse    True        0.008094  0.008471  0.006704  0.003433\n",
       "qwen3     True        0.007445  0.006051  0.004887  0.002271\n",
       "yuan      True        0.003460  0.001099  0.000573  0.000315\n",
       "phi       True        0.004435  0.001751  0.000619  0.000274\n",
       "grin      True        0.004115  0.002510  0.001988  0.001069\n",
       "mixtral   True        0.000638  0.000621  0.000547  0.000199\n",
       "jamba     True        0.007086  0.006877  0.005288  0.002911\n",
       "nllb      False       0.008160  0.004198  0.012322  0.016452\n",
       "          True        0.003501  0.013795  0.017524  0.015634\n",
       "qwen2     True        0.004104  0.001208  0.000234  0.000180"
      ]
     },
     "execution_count": 5,
     "metadata": {},
     "output_type": "execute_result"
    }
   ],
   "source": [
    "smgdf = (\n",
    "    dfs[\"mg\"]\n",
    "    .groupby([\"model\", \"is_decoder\", \"seg_len\"], as_index=False, observed=True)[[\"best_f1\"]]\n",
    "    .std()\n",
    ")\n",
    "\n",
    "smgdf.pivot(index=[\"model\", \"is_decoder\"], columns=\"seg_len\", values=\"best_f1\")"
   ]
  },
  {
   "cell_type": "code",
   "execution_count": 6,
   "id": "7c3dc9dd",
   "metadata": {},
   "outputs": [
    {
     "data": {
      "text/html": [
       "<div>\n",
       "<style scoped>\n",
       "    .dataframe tbody tr th:only-of-type {\n",
       "        vertical-align: middle;\n",
       "    }\n",
       "\n",
       "    .dataframe tbody tr th {\n",
       "        vertical-align: top;\n",
       "    }\n",
       "\n",
       "    .dataframe thead th {\n",
       "        text-align: right;\n",
       "    }\n",
       "</style>\n",
       "<table border=\"1\" class=\"dataframe\">\n",
       "  <thead>\n",
       "    <tr style=\"text-align: right;\">\n",
       "      <th></th>\n",
       "      <th>dataset</th>\n",
       "      <th>c4</th>\n",
       "      <th>cc2306</th>\n",
       "      <th>book</th>\n",
       "      <th>wikipedia</th>\n",
       "      <th>arxiv</th>\n",
       "      <th>stackexchange</th>\n",
       "      <th>github</th>\n",
       "      <th>lmarena</th>\n",
       "      <th>math</th>\n",
       "      <th>code</th>\n",
       "      <th>science</th>\n",
       "    </tr>\n",
       "    <tr>\n",
       "      <th>model</th>\n",
       "      <th>is_decoder</th>\n",
       "      <th></th>\n",
       "      <th></th>\n",
       "      <th></th>\n",
       "      <th></th>\n",
       "      <th></th>\n",
       "      <th></th>\n",
       "      <th></th>\n",
       "      <th></th>\n",
       "      <th></th>\n",
       "      <th></th>\n",
       "      <th></th>\n",
       "    </tr>\n",
       "  </thead>\n",
       "  <tbody>\n",
       "    <tr>\n",
       "      <th>powermoe</th>\n",
       "      <th>True</th>\n",
       "      <td>0.000962</td>\n",
       "      <td>0.000894</td>\n",
       "      <td>0.000945</td>\n",
       "      <td>0.000931</td>\n",
       "      <td>0.001202</td>\n",
       "      <td>0.000969</td>\n",
       "      <td>0.001341</td>\n",
       "      <td>0.001008</td>\n",
       "      <td>0.001214</td>\n",
       "      <td>0.001030</td>\n",
       "      <td>0.001095</td>\n",
       "    </tr>\n",
       "    <tr>\n",
       "      <th>llamamoe</th>\n",
       "      <th>True</th>\n",
       "      <td>0.000784</td>\n",
       "      <td>0.000811</td>\n",
       "      <td>0.000856</td>\n",
       "      <td>0.000950</td>\n",
       "      <td>0.001065</td>\n",
       "      <td>0.001368</td>\n",
       "      <td>0.002167</td>\n",
       "      <td>0.001707</td>\n",
       "      <td>0.001497</td>\n",
       "      <td>0.001142</td>\n",
       "      <td>0.001798</td>\n",
       "    </tr>\n",
       "    <tr>\n",
       "      <th>olmoe</th>\n",
       "      <th>True</th>\n",
       "      <td>0.001936</td>\n",
       "      <td>0.001909</td>\n",
       "      <td>0.002129</td>\n",
       "      <td>0.002130</td>\n",
       "      <td>0.009202</td>\n",
       "      <td>0.007762</td>\n",
       "      <td>0.014043</td>\n",
       "      <td>0.005710</td>\n",
       "      <td>0.008160</td>\n",
       "      <td>0.008573</td>\n",
       "      <td>0.005582</td>\n",
       "    </tr>\n",
       "    <tr>\n",
       "      <th rowspan=\"2\" valign=\"top\">switch</th>\n",
       "      <th>False</th>\n",
       "      <td>0.002670</td>\n",
       "      <td>0.002880</td>\n",
       "      <td>0.003012</td>\n",
       "      <td>0.004250</td>\n",
       "      <td>0.003537</td>\n",
       "      <td>0.003223</td>\n",
       "      <td>0.003628</td>\n",
       "      <td>0.003465</td>\n",
       "      <td>0.002074</td>\n",
       "      <td>0.001870</td>\n",
       "      <td>0.002746</td>\n",
       "    </tr>\n",
       "    <tr>\n",
       "      <th>True</th>\n",
       "      <td>0.011998</td>\n",
       "      <td>0.011939</td>\n",
       "      <td>0.012141</td>\n",
       "      <td>0.007719</td>\n",
       "      <td>0.008127</td>\n",
       "      <td>0.008674</td>\n",
       "      <td>0.007738</td>\n",
       "      <td>0.007896</td>\n",
       "      <td>0.007286</td>\n",
       "      <td>0.009359</td>\n",
       "      <td>0.009324</td>\n",
       "    </tr>\n",
       "    <tr>\n",
       "      <th>llamamoe2</th>\n",
       "      <th>True</th>\n",
       "      <td>0.004573</td>\n",
       "      <td>0.004275</td>\n",
       "      <td>0.004853</td>\n",
       "      <td>0.002754</td>\n",
       "      <td>0.004945</td>\n",
       "      <td>0.003722</td>\n",
       "      <td>0.004105</td>\n",
       "      <td>0.003023</td>\n",
       "      <td>0.002880</td>\n",
       "      <td>0.002784</td>\n",
       "      <td>0.005690</td>\n",
       "    </tr>\n",
       "    <tr>\n",
       "      <th>jetmoe</th>\n",
       "      <th>True</th>\n",
       "      <td>0.000857</td>\n",
       "      <td>0.000813</td>\n",
       "      <td>0.001045</td>\n",
       "      <td>0.001840</td>\n",
       "      <td>0.001525</td>\n",
       "      <td>0.001649</td>\n",
       "      <td>0.003165</td>\n",
       "      <td>0.002207</td>\n",
       "      <td>0.001871</td>\n",
       "      <td>0.001622</td>\n",
       "      <td>0.002372</td>\n",
       "    </tr>\n",
       "    <tr>\n",
       "      <th>openmoe</th>\n",
       "      <th>True</th>\n",
       "      <td>0.015577</td>\n",
       "      <td>0.014170</td>\n",
       "      <td>0.013227</td>\n",
       "      <td>0.011982</td>\n",
       "      <td>0.016763</td>\n",
       "      <td>0.014949</td>\n",
       "      <td>0.013020</td>\n",
       "      <td>0.012163</td>\n",
       "      <td>0.019367</td>\n",
       "      <td>0.016962</td>\n",
       "      <td>0.012137</td>\n",
       "    </tr>\n",
       "    <tr>\n",
       "      <th>minicpm</th>\n",
       "      <th>True</th>\n",
       "      <td>0.000858</td>\n",
       "      <td>0.000973</td>\n",
       "      <td>0.001209</td>\n",
       "      <td>0.001851</td>\n",
       "      <td>0.001937</td>\n",
       "      <td>0.001738</td>\n",
       "      <td>0.002963</td>\n",
       "      <td>0.002559</td>\n",
       "      <td>0.002161</td>\n",
       "      <td>0.001984</td>\n",
       "      <td>0.002436</td>\n",
       "    </tr>\n",
       "    <tr>\n",
       "      <th>qwen</th>\n",
       "      <th>True</th>\n",
       "      <td>0.001428</td>\n",
       "      <td>0.002061</td>\n",
       "      <td>0.002060</td>\n",
       "      <td>0.003159</td>\n",
       "      <td>0.004384</td>\n",
       "      <td>0.004701</td>\n",
       "      <td>0.006945</td>\n",
       "      <td>0.004562</td>\n",
       "      <td>0.004049</td>\n",
       "      <td>0.004163</td>\n",
       "      <td>0.004512</td>\n",
       "    </tr>\n",
       "    <tr>\n",
       "      <th>deepseek2</th>\n",
       "      <th>True</th>\n",
       "      <td>0.002711</td>\n",
       "      <td>0.002686</td>\n",
       "      <td>0.002009</td>\n",
       "      <td>0.004577</td>\n",
       "      <td>0.009264</td>\n",
       "      <td>0.008251</td>\n",
       "      <td>0.013087</td>\n",
       "      <td>0.007995</td>\n",
       "      <td>0.008813</td>\n",
       "      <td>0.008803</td>\n",
       "      <td>0.007742</td>\n",
       "    </tr>\n",
       "    <tr>\n",
       "      <th>deepseek</th>\n",
       "      <th>True</th>\n",
       "      <td>0.001876</td>\n",
       "      <td>0.001802</td>\n",
       "      <td>0.002007</td>\n",
       "      <td>0.003408</td>\n",
       "      <td>0.006698</td>\n",
       "      <td>0.006784</td>\n",
       "      <td>0.011656</td>\n",
       "      <td>0.007242</td>\n",
       "      <td>0.007681</td>\n",
       "      <td>0.007598</td>\n",
       "      <td>0.007364</td>\n",
       "    </tr>\n",
       "    <tr>\n",
       "      <th>xverse</th>\n",
       "      <th>True</th>\n",
       "      <td>0.003828</td>\n",
       "      <td>0.004240</td>\n",
       "      <td>0.003231</td>\n",
       "      <td>0.005539</td>\n",
       "      <td>0.008726</td>\n",
       "      <td>0.011651</td>\n",
       "      <td>0.017554</td>\n",
       "      <td>0.010308</td>\n",
       "      <td>0.007987</td>\n",
       "      <td>0.009759</td>\n",
       "      <td>0.009542</td>\n",
       "    </tr>\n",
       "    <tr>\n",
       "      <th>qwen3</th>\n",
       "      <th>True</th>\n",
       "      <td>0.003320</td>\n",
       "      <td>0.003256</td>\n",
       "      <td>0.004211</td>\n",
       "      <td>0.003171</td>\n",
       "      <td>0.006121</td>\n",
       "      <td>0.007841</td>\n",
       "      <td>0.011022</td>\n",
       "      <td>0.005100</td>\n",
       "      <td>0.017965</td>\n",
       "      <td>0.011956</td>\n",
       "      <td>0.004502</td>\n",
       "    </tr>\n",
       "    <tr>\n",
       "      <th>yuan</th>\n",
       "      <th>True</th>\n",
       "      <td>0.001459</td>\n",
       "      <td>0.001245</td>\n",
       "      <td>0.001619</td>\n",
       "      <td>0.001604</td>\n",
       "      <td>0.001876</td>\n",
       "      <td>0.001453</td>\n",
       "      <td>0.001252</td>\n",
       "      <td>0.001656</td>\n",
       "      <td>0.001580</td>\n",
       "      <td>0.001265</td>\n",
       "      <td>0.001589</td>\n",
       "    </tr>\n",
       "    <tr>\n",
       "      <th>phi</th>\n",
       "      <th>True</th>\n",
       "      <td>0.002551</td>\n",
       "      <td>0.002380</td>\n",
       "      <td>0.003361</td>\n",
       "      <td>0.001780</td>\n",
       "      <td>0.002786</td>\n",
       "      <td>0.002077</td>\n",
       "      <td>0.002993</td>\n",
       "      <td>0.001683</td>\n",
       "      <td>0.003107</td>\n",
       "      <td>0.002109</td>\n",
       "      <td>0.002058</td>\n",
       "    </tr>\n",
       "    <tr>\n",
       "      <th>grin</th>\n",
       "      <th>True</th>\n",
       "      <td>0.002351</td>\n",
       "      <td>0.002288</td>\n",
       "      <td>0.003348</td>\n",
       "      <td>0.001581</td>\n",
       "      <td>0.004440</td>\n",
       "      <td>0.002923</td>\n",
       "      <td>0.006316</td>\n",
       "      <td>0.002734</td>\n",
       "      <td>0.008220</td>\n",
       "      <td>0.006215</td>\n",
       "      <td>0.003229</td>\n",
       "    </tr>\n",
       "    <tr>\n",
       "      <th>mixtral</th>\n",
       "      <th>True</th>\n",
       "      <td>0.000642</td>\n",
       "      <td>0.000472</td>\n",
       "      <td>0.000450</td>\n",
       "      <td>0.000452</td>\n",
       "      <td>0.000870</td>\n",
       "      <td>0.000837</td>\n",
       "      <td>0.001509</td>\n",
       "      <td>0.000898</td>\n",
       "      <td>0.001083</td>\n",
       "      <td>0.000972</td>\n",
       "      <td>0.000781</td>\n",
       "    </tr>\n",
       "    <tr>\n",
       "      <th>jamba</th>\n",
       "      <th>True</th>\n",
       "      <td>0.002605</td>\n",
       "      <td>0.003132</td>\n",
       "      <td>0.003089</td>\n",
       "      <td>0.007885</td>\n",
       "      <td>0.005952</td>\n",
       "      <td>0.008270</td>\n",
       "      <td>0.009789</td>\n",
       "      <td>0.008185</td>\n",
       "      <td>0.010971</td>\n",
       "      <td>0.010249</td>\n",
       "      <td>0.004995</td>\n",
       "    </tr>\n",
       "    <tr>\n",
       "      <th rowspan=\"2\" valign=\"top\">nllb</th>\n",
       "      <th>False</th>\n",
       "      <td>0.001988</td>\n",
       "      <td>0.002289</td>\n",
       "      <td>0.002366</td>\n",
       "      <td>0.005201</td>\n",
       "      <td>0.006812</td>\n",
       "      <td>0.004823</td>\n",
       "      <td>0.006757</td>\n",
       "      <td>0.006590</td>\n",
       "      <td>0.007350</td>\n",
       "      <td>0.005419</td>\n",
       "      <td>0.002478</td>\n",
       "    </tr>\n",
       "    <tr>\n",
       "      <th>True</th>\n",
       "      <td>0.014629</td>\n",
       "      <td>0.014273</td>\n",
       "      <td>0.017007</td>\n",
       "      <td>0.018826</td>\n",
       "      <td>0.013515</td>\n",
       "      <td>0.012026</td>\n",
       "      <td>0.016150</td>\n",
       "      <td>0.013519</td>\n",
       "      <td>0.012764</td>\n",
       "      <td>0.012411</td>\n",
       "      <td>0.014546</td>\n",
       "    </tr>\n",
       "    <tr>\n",
       "      <th>qwen2</th>\n",
       "      <th>True</th>\n",
       "      <td>0.000608</td>\n",
       "      <td>0.000673</td>\n",
       "      <td>0.000674</td>\n",
       "      <td>0.001515</td>\n",
       "      <td>0.001570</td>\n",
       "      <td>0.001270</td>\n",
       "      <td>0.001887</td>\n",
       "      <td>0.001783</td>\n",
       "      <td>0.001298</td>\n",
       "      <td>0.001198</td>\n",
       "      <td>0.001733</td>\n",
       "    </tr>\n",
       "  </tbody>\n",
       "</table>\n",
       "</div>"
      ],
      "text/plain": [
       "dataset                     c4    cc2306      book  wikipedia     arxiv  \\\n",
       "model     is_decoder                                                      \n",
       "powermoe  True        0.000962  0.000894  0.000945   0.000931  0.001202   \n",
       "llamamoe  True        0.000784  0.000811  0.000856   0.000950  0.001065   \n",
       "olmoe     True        0.001936  0.001909  0.002129   0.002130  0.009202   \n",
       "switch    False       0.002670  0.002880  0.003012   0.004250  0.003537   \n",
       "          True        0.011998  0.011939  0.012141   0.007719  0.008127   \n",
       "llamamoe2 True        0.004573  0.004275  0.004853   0.002754  0.004945   \n",
       "jetmoe    True        0.000857  0.000813  0.001045   0.001840  0.001525   \n",
       "openmoe   True        0.015577  0.014170  0.013227   0.011982  0.016763   \n",
       "minicpm   True        0.000858  0.000973  0.001209   0.001851  0.001937   \n",
       "qwen      True        0.001428  0.002061  0.002060   0.003159  0.004384   \n",
       "deepseek2 True        0.002711  0.002686  0.002009   0.004577  0.009264   \n",
       "deepseek  True        0.001876  0.001802  0.002007   0.003408  0.006698   \n",
       "xverse    True        0.003828  0.004240  0.003231   0.005539  0.008726   \n",
       "qwen3     True        0.003320  0.003256  0.004211   0.003171  0.006121   \n",
       "yuan      True        0.001459  0.001245  0.001619   0.001604  0.001876   \n",
       "phi       True        0.002551  0.002380  0.003361   0.001780  0.002786   \n",
       "grin      True        0.002351  0.002288  0.003348   0.001581  0.004440   \n",
       "mixtral   True        0.000642  0.000472  0.000450   0.000452  0.000870   \n",
       "jamba     True        0.002605  0.003132  0.003089   0.007885  0.005952   \n",
       "nllb      False       0.001988  0.002289  0.002366   0.005201  0.006812   \n",
       "          True        0.014629  0.014273  0.017007   0.018826  0.013515   \n",
       "qwen2     True        0.000608  0.000673  0.000674   0.001515  0.001570   \n",
       "\n",
       "dataset               stackexchange    github   lmarena      math      code  \\\n",
       "model     is_decoder                                                          \n",
       "powermoe  True             0.000969  0.001341  0.001008  0.001214  0.001030   \n",
       "llamamoe  True             0.001368  0.002167  0.001707  0.001497  0.001142   \n",
       "olmoe     True             0.007762  0.014043  0.005710  0.008160  0.008573   \n",
       "switch    False            0.003223  0.003628  0.003465  0.002074  0.001870   \n",
       "          True             0.008674  0.007738  0.007896  0.007286  0.009359   \n",
       "llamamoe2 True             0.003722  0.004105  0.003023  0.002880  0.002784   \n",
       "jetmoe    True             0.001649  0.003165  0.002207  0.001871  0.001622   \n",
       "openmoe   True             0.014949  0.013020  0.012163  0.019367  0.016962   \n",
       "minicpm   True             0.001738  0.002963  0.002559  0.002161  0.001984   \n",
       "qwen      True             0.004701  0.006945  0.004562  0.004049  0.004163   \n",
       "deepseek2 True             0.008251  0.013087  0.007995  0.008813  0.008803   \n",
       "deepseek  True             0.006784  0.011656  0.007242  0.007681  0.007598   \n",
       "xverse    True             0.011651  0.017554  0.010308  0.007987  0.009759   \n",
       "qwen3     True             0.007841  0.011022  0.005100  0.017965  0.011956   \n",
       "yuan      True             0.001453  0.001252  0.001656  0.001580  0.001265   \n",
       "phi       True             0.002077  0.002993  0.001683  0.003107  0.002109   \n",
       "grin      True             0.002923  0.006316  0.002734  0.008220  0.006215   \n",
       "mixtral   True             0.000837  0.001509  0.000898  0.001083  0.000972   \n",
       "jamba     True             0.008270  0.009789  0.008185  0.010971  0.010249   \n",
       "nllb      False            0.004823  0.006757  0.006590  0.007350  0.005419   \n",
       "          True             0.012026  0.016150  0.013519  0.012764  0.012411   \n",
       "qwen2     True             0.001270  0.001887  0.001783  0.001298  0.001198   \n",
       "\n",
       "dataset                science  \n",
       "model     is_decoder            \n",
       "powermoe  True        0.001095  \n",
       "llamamoe  True        0.001798  \n",
       "olmoe     True        0.005582  \n",
       "switch    False       0.002746  \n",
       "          True        0.009324  \n",
       "llamamoe2 True        0.005690  \n",
       "jetmoe    True        0.002372  \n",
       "openmoe   True        0.012137  \n",
       "minicpm   True        0.002436  \n",
       "qwen      True        0.004512  \n",
       "deepseek2 True        0.007742  \n",
       "deepseek  True        0.007364  \n",
       "xverse    True        0.009542  \n",
       "qwen3     True        0.004502  \n",
       "yuan      True        0.001589  \n",
       "phi       True        0.002058  \n",
       "grin      True        0.003229  \n",
       "mixtral   True        0.000781  \n",
       "jamba     True        0.004995  \n",
       "nllb      False       0.002478  \n",
       "          True        0.014546  \n",
       "qwen2     True        0.001733  "
      ]
     },
     "execution_count": 6,
     "metadata": {},
     "output_type": "execute_result"
    }
   ],
   "source": [
    "sample_seg_len = 16\n",
    "\n",
    "smddf = (\n",
    "    dfs[\"md\"]\n",
    "    .query(f\"seg_len == {sample_seg_len}\")\n",
    "    .drop(columns=\"seg_len\")\n",
    "    .groupby([\"model\", \"is_decoder\", \"dataset\"], as_index=False, observed=True)[[\"best_f1\"]]\n",
    "    .std()\n",
    ")\n",
    "\n",
    "smddf.pivot(index=[\"model\", \"is_decoder\"], columns=\"dataset\", values=\"best_f1\")"
   ]
  },
  {
   "cell_type": "code",
   "execution_count": 7,
   "id": "bd192973",
   "metadata": {},
   "outputs": [
    {
     "data": {
      "text/plain": [
       "36     llamamoe2\n",
       "84          yuan\n",
       "1       powermoe\n",
       "80         qwen3\n",
       "88           phi\n",
       "13         olmoe\n",
       "92          grin\n",
       "96       mixtral\n",
       "60       minicpm\n",
       "44        jetmoe\n",
       "5       llamamoe\n",
       "76        xverse\n",
       "100        jamba\n",
       "68     deepseek2\n",
       "72      deepseek\n",
       "112        qwen2\n",
       "108         nllb\n",
       "64          qwen\n",
       "56       openmoe\n",
       "33        switch\n",
       "Name: model, dtype: category\n",
       "Categories (27, object): ['powermoe' < 'llamamoe' < 'llamamoes' < 'olmoe' ... 'mixtral' < 'jamba' < 'nllb' < 'qwen2']"
      ]
     },
     "execution_count": 7,
     "metadata": {},
     "output_type": "execute_result"
    }
   ],
   "source": [
    "sorted_model_keys = (\n",
    "    pd.merge(\n",
    "        pd.read_parquet(\"./output/srp_mpq/mg.parquet\"),\n",
    "        main_model_config,\n",
    "        left_on=\"model\",\n",
    "        right_index=True,\n",
    "    )\n",
    "    .query(\"is_decoder and seg_len == 16\")\n",
    "    .sort_values(\"best_f1\", ascending=False)[\"model\"]\n",
    ")\n",
    "\n",
    "sorted_model_keys"
   ]
  },
  {
   "cell_type": "code",
   "execution_count": 8,
   "id": "67c8534a",
   "metadata": {},
   "outputs": [
    {
     "data": {
      "text/html": [
       "<div>\n",
       "<style scoped>\n",
       "    .dataframe tbody tr th:only-of-type {\n",
       "        vertical-align: middle;\n",
       "    }\n",
       "\n",
       "    .dataframe tbody tr th {\n",
       "        vertical-align: top;\n",
       "    }\n",
       "\n",
       "    .dataframe thead th {\n",
       "        text-align: right;\n",
       "    }\n",
       "</style>\n",
       "<table border=\"1\" class=\"dataframe\">\n",
       "  <thead>\n",
       "    <tr style=\"text-align: right;\">\n",
       "      <th></th>\n",
       "      <th>model</th>\n",
       "      <th>is_decoder</th>\n",
       "      <th>seg_len</th>\n",
       "      <th>act_r</th>\n",
       "      <th>best_f1</th>\n",
       "      <th>best_m</th>\n",
       "      <th>model_name</th>\n",
       "      <th>model_abbr</th>\n",
       "      <th>model_type</th>\n",
       "      <th>model_num_params</th>\n",
       "      <th>model_num_layers</th>\n",
       "      <th>model_num_experts</th>\n",
       "      <th>model_top_k</th>\n",
       "      <th>model_attn</th>\n",
       "      <th>seg_pos</th>\n",
       "    </tr>\n",
       "  </thead>\n",
       "  <tbody>\n",
       "    <tr>\n",
       "      <th>0</th>\n",
       "      <td>powermoe</td>\n",
       "      <td>True</td>\n",
       "      <td>4</td>\n",
       "      <td>0.200</td>\n",
       "      <td>0.616218</td>\n",
       "      <td>1.025195</td>\n",
       "      <td>PowerMoE-3B</td>\n",
       "      <td>PW</td>\n",
       "      <td>causal</td>\n",
       "      <td>3.30</td>\n",
       "      <td>32</td>\n",
       "      <td>40</td>\n",
       "      <td>8</td>\n",
       "      <td>flash_attention_2</td>\n",
       "      <td>2</td>\n",
       "    </tr>\n",
       "    <tr>\n",
       "      <th>1</th>\n",
       "      <td>powermoe</td>\n",
       "      <td>True</td>\n",
       "      <td>4</td>\n",
       "      <td>0.200</td>\n",
       "      <td>0.668296</td>\n",
       "      <td>1.089514</td>\n",
       "      <td>PowerMoE-3B</td>\n",
       "      <td>PW</td>\n",
       "      <td>causal</td>\n",
       "      <td>3.30</td>\n",
       "      <td>32</td>\n",
       "      <td>40</td>\n",
       "      <td>8</td>\n",
       "      <td>flash_attention_2</td>\n",
       "      <td>3</td>\n",
       "    </tr>\n",
       "    <tr>\n",
       "      <th>2</th>\n",
       "      <td>powermoe</td>\n",
       "      <td>True</td>\n",
       "      <td>4</td>\n",
       "      <td>0.200</td>\n",
       "      <td>0.673125</td>\n",
       "      <td>1.096706</td>\n",
       "      <td>PowerMoE-3B</td>\n",
       "      <td>PW</td>\n",
       "      <td>causal</td>\n",
       "      <td>3.30</td>\n",
       "      <td>32</td>\n",
       "      <td>40</td>\n",
       "      <td>8</td>\n",
       "      <td>flash_attention_2</td>\n",
       "      <td>4</td>\n",
       "    </tr>\n",
       "    <tr>\n",
       "      <th>3</th>\n",
       "      <td>powermoe</td>\n",
       "      <td>True</td>\n",
       "      <td>4</td>\n",
       "      <td>0.200</td>\n",
       "      <td>0.674550</td>\n",
       "      <td>1.098278</td>\n",
       "      <td>PowerMoE-3B</td>\n",
       "      <td>PW</td>\n",
       "      <td>causal</td>\n",
       "      <td>3.30</td>\n",
       "      <td>32</td>\n",
       "      <td>40</td>\n",
       "      <td>8</td>\n",
       "      <td>flash_attention_2</td>\n",
       "      <td>5</td>\n",
       "    </tr>\n",
       "    <tr>\n",
       "      <th>4</th>\n",
       "      <td>powermoe</td>\n",
       "      <td>True</td>\n",
       "      <td>4</td>\n",
       "      <td>0.200</td>\n",
       "      <td>0.675213</td>\n",
       "      <td>1.100563</td>\n",
       "      <td>PowerMoE-3B</td>\n",
       "      <td>PW</td>\n",
       "      <td>causal</td>\n",
       "      <td>3.30</td>\n",
       "      <td>32</td>\n",
       "      <td>40</td>\n",
       "      <td>8</td>\n",
       "      <td>flash_attention_2</td>\n",
       "      <td>6</td>\n",
       "    </tr>\n",
       "    <tr>\n",
       "      <th>...</th>\n",
       "      <td>...</td>\n",
       "      <td>...</td>\n",
       "      <td>...</td>\n",
       "      <td>...</td>\n",
       "      <td>...</td>\n",
       "      <td>...</td>\n",
       "      <td>...</td>\n",
       "      <td>...</td>\n",
       "      <td>...</td>\n",
       "      <td>...</td>\n",
       "      <td>...</td>\n",
       "      <td>...</td>\n",
       "      <td>...</td>\n",
       "      <td>...</td>\n",
       "      <td>...</td>\n",
       "    </tr>\n",
       "    <tr>\n",
       "      <th>48045</th>\n",
       "      <td>qwen2</td>\n",
       "      <td>True</td>\n",
       "      <td>256</td>\n",
       "      <td>0.125</td>\n",
       "      <td>0.275368</td>\n",
       "      <td>2.530671</td>\n",
       "      <td>Qwen2-57B-A14B</td>\n",
       "      <td>QW2</td>\n",
       "      <td>causal</td>\n",
       "      <td>57.41</td>\n",
       "      <td>28</td>\n",
       "      <td>64</td>\n",
       "      <td>8</td>\n",
       "      <td>flash_attention_2</td>\n",
       "      <td>380</td>\n",
       "    </tr>\n",
       "    <tr>\n",
       "      <th>48046</th>\n",
       "      <td>qwen2</td>\n",
       "      <td>True</td>\n",
       "      <td>256</td>\n",
       "      <td>0.125</td>\n",
       "      <td>0.275366</td>\n",
       "      <td>2.530599</td>\n",
       "      <td>Qwen2-57B-A14B</td>\n",
       "      <td>QW2</td>\n",
       "      <td>causal</td>\n",
       "      <td>57.41</td>\n",
       "      <td>28</td>\n",
       "      <td>64</td>\n",
       "      <td>8</td>\n",
       "      <td>flash_attention_2</td>\n",
       "      <td>381</td>\n",
       "    </tr>\n",
       "    <tr>\n",
       "      <th>48047</th>\n",
       "      <td>qwen2</td>\n",
       "      <td>True</td>\n",
       "      <td>256</td>\n",
       "      <td>0.125</td>\n",
       "      <td>0.275364</td>\n",
       "      <td>2.530506</td>\n",
       "      <td>Qwen2-57B-A14B</td>\n",
       "      <td>QW2</td>\n",
       "      <td>causal</td>\n",
       "      <td>57.41</td>\n",
       "      <td>28</td>\n",
       "      <td>64</td>\n",
       "      <td>8</td>\n",
       "      <td>flash_attention_2</td>\n",
       "      <td>382</td>\n",
       "    </tr>\n",
       "    <tr>\n",
       "      <th>48048</th>\n",
       "      <td>qwen2</td>\n",
       "      <td>True</td>\n",
       "      <td>256</td>\n",
       "      <td>0.125</td>\n",
       "      <td>0.275366</td>\n",
       "      <td>2.530530</td>\n",
       "      <td>Qwen2-57B-A14B</td>\n",
       "      <td>QW2</td>\n",
       "      <td>causal</td>\n",
       "      <td>57.41</td>\n",
       "      <td>28</td>\n",
       "      <td>64</td>\n",
       "      <td>8</td>\n",
       "      <td>flash_attention_2</td>\n",
       "      <td>383</td>\n",
       "    </tr>\n",
       "    <tr>\n",
       "      <th>48049</th>\n",
       "      <td>qwen2</td>\n",
       "      <td>True</td>\n",
       "      <td>256</td>\n",
       "      <td>0.125</td>\n",
       "      <td>0.275366</td>\n",
       "      <td>2.530509</td>\n",
       "      <td>Qwen2-57B-A14B</td>\n",
       "      <td>QW2</td>\n",
       "      <td>causal</td>\n",
       "      <td>57.41</td>\n",
       "      <td>28</td>\n",
       "      <td>64</td>\n",
       "      <td>8</td>\n",
       "      <td>flash_attention_2</td>\n",
       "      <td>384</td>\n",
       "    </tr>\n",
       "  </tbody>\n",
       "</table>\n",
       "<p>36066 rows × 15 columns</p>\n",
       "</div>"
      ],
      "text/plain": [
       "          model  is_decoder  seg_len  act_r   best_f1    best_m  \\\n",
       "0      powermoe        True        4  0.200  0.616218  1.025195   \n",
       "1      powermoe        True        4  0.200  0.668296  1.089514   \n",
       "2      powermoe        True        4  0.200  0.673125  1.096706   \n",
       "3      powermoe        True        4  0.200  0.674550  1.098278   \n",
       "4      powermoe        True        4  0.200  0.675213  1.100563   \n",
       "...         ...         ...      ...    ...       ...       ...   \n",
       "48045     qwen2        True      256  0.125  0.275368  2.530671   \n",
       "48046     qwen2        True      256  0.125  0.275366  2.530599   \n",
       "48047     qwen2        True      256  0.125  0.275364  2.530506   \n",
       "48048     qwen2        True      256  0.125  0.275366  2.530530   \n",
       "48049     qwen2        True      256  0.125  0.275366  2.530509   \n",
       "\n",
       "           model_name model_abbr model_type  model_num_params  \\\n",
       "0         PowerMoE-3B         PW     causal              3.30   \n",
       "1         PowerMoE-3B         PW     causal              3.30   \n",
       "2         PowerMoE-3B         PW     causal              3.30   \n",
       "3         PowerMoE-3B         PW     causal              3.30   \n",
       "4         PowerMoE-3B         PW     causal              3.30   \n",
       "...               ...        ...        ...               ...   \n",
       "48045  Qwen2-57B-A14B        QW2     causal             57.41   \n",
       "48046  Qwen2-57B-A14B        QW2     causal             57.41   \n",
       "48047  Qwen2-57B-A14B        QW2     causal             57.41   \n",
       "48048  Qwen2-57B-A14B        QW2     causal             57.41   \n",
       "48049  Qwen2-57B-A14B        QW2     causal             57.41   \n",
       "\n",
       "       model_num_layers  model_num_experts  model_top_k         model_attn  \\\n",
       "0                    32                 40            8  flash_attention_2   \n",
       "1                    32                 40            8  flash_attention_2   \n",
       "2                    32                 40            8  flash_attention_2   \n",
       "3                    32                 40            8  flash_attention_2   \n",
       "4                    32                 40            8  flash_attention_2   \n",
       "...                 ...                ...          ...                ...   \n",
       "48045                28                 64            8  flash_attention_2   \n",
       "48046                28                 64            8  flash_attention_2   \n",
       "48047                28                 64            8  flash_attention_2   \n",
       "48048                28                 64            8  flash_attention_2   \n",
       "48049                28                 64            8  flash_attention_2   \n",
       "\n",
       "       seg_pos  \n",
       "0            2  \n",
       "1            3  \n",
       "2            4  \n",
       "3            5  \n",
       "4            6  \n",
       "...        ...  \n",
       "48045      380  \n",
       "48046      381  \n",
       "48047      382  \n",
       "48048      383  \n",
       "48049      384  \n",
       "\n",
       "[36066 rows x 15 columns]"
      ]
     },
     "execution_count": 8,
     "metadata": {},
     "output_type": "execute_result"
    }
   ],
   "source": [
    "mgdf = (\n",
    "    dfs[\"mg\"]\n",
    "    .assign(seg_pos=dfs[\"mg\"][\"start_pos\"] + dfs[\"mg\"][\"seg_len\"] // 2)\n",
    "    .drop(columns=\"start_pos\")\n",
    ")\n",
    "\n",
    "mgdf"
   ]
  },
  {
   "cell_type": "code",
   "execution_count": 10,
   "id": "af9d3922",
   "metadata": {},
   "outputs": [
    {
     "data": {
      "application/vnd.plotly.v1+json": {
       "config": {
        "plotlyServerURL": "https://plot.ly"
       },
       "data": [
        {
         "hoverinfo": "skip",
         "legendgroup": "SRP(E,4)",
         "line": {
          "color": "#636EFA"
         },
         "mode": "lines",
         "name": "SRP(E,4)",
         "showlegend": true,
         "type": "scatter",
         "x": {
          "bdata": "AgADAAQABQAGAAcACAAJAAoACwAMAA0ADgAPABAAEQASABMAFAAVABYAFwAYABkAGgAbABwAHQAeAB8AIAAhACIAIwAkACUAJgAnACgAKQAqACsALAAtAC4ALwAwADEAMgAzADQANQA2ADcAOAA5ADoAOwA8AD0APgA/AEAAQQBCAEMARABFAEYARwBIAEkASgBLAEwATQBOAE8AUABRAFIAUwBUAFUAVgBXAFgAWQBaAFsAXABdAF4AXwBgAGEAYgBjAGQAZQBmAGcAaABpAGoAawBsAG0AbgBvAHAAcQByAHMAdAB1AHYAdwB4AHkAegB7AHwAfQB+AH8AgACBAIIAgwCEAIUAhgCHAIgAiQCKAIsAjACNAI4AjwCQAJEAkgCTAJQAlQCWAJcAmACZAJoAmwCcAJ0AngCfAKAAoQCiAKMApAClAKYApwCoAKkAqgCrAKwArQCuAK8AsACxALIAswC0ALUAtgC3ALgAuQC6ALsAvAC9AL4AvwDAAMEAwgDDAMQAxQDGAMcAyADJAMoAywDMAM0AzgDPANAA0QDSANMA1ADVANYA1wDYANkA2gDbANwA3QDeAN8A4ADhAOIA4wDkAOUA5gDnAOgA6QDqAOsA7ADtAO4A7wDwAPEA8gDzAPQA9QD2APcA+AD5APoA+wD8AP0A/gD/AAABAQECAQMBBAEFAQYBBwEIAQkBCgELAQwBDQEOAQ8BEAERARIBEwEUARUBFgEXARgBGQEaARsBHAEdAR4BHwEgASEBIgEjASQBJQEmAScBKAEpASoBKwEsAS0BLgEvATABMQEyATMBNAE1ATYBNwE4ATkBOgE7ATwBPQE+AT8BQAFBAUIBQwFEAUUBRgFHAUgBSQFKAUsBTAFNAU4BTwFQAVEBUgFTAVQBVQFWAVcBWAFZAVoBWwFcAV0BXgFfAWABYQFiAWMBZAFlAWYBZwFoAWkBagFrAWwBbQFuAW8BcAFxAXIBcwF0AXUBdgF3AXgBeQF6AXsBfAF9AX4BfwGAAYEBggGDAYQBhQGGAYcBiAGJAYoBiwGMAY0BjgGPAZABkQGSAZMBlAGVAZYBlwGYAZkBmgGbAZwBnQGeAZ8BoAGhAaIBowGkAaUBpgGnAagBqQGqAasBrAGtAa4BrwGwAbEBsgGzAbQBtQG2AbcBuAG5AboBuwG8Ab0BvgG/AcABwQHCAcMBxAHFAcYBxwHIAckBygHLAcwBzQHOAc8B0AHRAdIB0wHUAdUB1gHXAdgB2QHaAdsB3AHdAd4B3wHgAeEB4gHjAeQB5QHmAecB6AHpAeoB6wHsAe0B7gHvAfAB8QHyAfMB9AH1AfYB9wH4AfkB+gH7AfwB/QH+AQ==",
          "dtype": "u2"
         },
         "xaxis": "x",
         "y": {
          "bdata": "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",
          "dtype": "f4"
         },
         "yaxis": "y"
        },
        {
         "hoverinfo": "skip",
         "legendgroup": "SRP(E,16)",
         "line": {
          "color": "#EF553B"
         },
         "mode": "lines",
         "name": "SRP(E,16)",
         "showlegend": true,
         "type": "scatter",
         "x": {
          "bdata": "CAAJAAoACwAMAA0ADgAPABAAEQASABMAFAAVABYAFwAYABkAGgAbABwAHQAeAB8AIAAhACIAIwAkACUAJgAnACgAKQAqACsALAAtAC4ALwAwADEAMgAzADQANQA2ADcAOAA5ADoAOwA8AD0APgA/AEAAQQBCAEMARABFAEYARwBIAEkASgBLAEwATQBOAE8AUABRAFIAUwBUAFUAVgBXAFgAWQBaAFsAXABdAF4AXwBgAGEAYgBjAGQAZQBmAGcAaABpAGoAawBsAG0AbgBvAHAAcQByAHMAdAB1AHYAdwB4AHkAegB7AHwAfQB+AH8AgACBAIIAgwCEAIUAhgCHAIgAiQCKAIsAjACNAI4AjwCQAJEAkgCTAJQAlQCWAJcAmACZAJoAmwCcAJ0AngCfAKAAoQCiAKMApAClAKYApwCoAKkAqgCrAKwArQCuAK8AsACxALIAswC0ALUAtgC3ALgAuQC6ALsAvAC9AL4AvwDAAMEAwgDDAMQAxQDGAMcAyADJAMoAywDMAM0AzgDPANAA0QDSANMA1ADVANYA1wDYANkA2gDbANwA3QDeAN8A4ADhAOIA4wDkAOUA5gDnAOgA6QDqAOsA7ADtAO4A7wDwAPEA8gDzAPQA9QD2APcA+AD5APoA+wD8AP0A/gD/AAABAQECAQMBBAEFAQYBBwEIAQkBCgELAQwBDQEOAQ8BEAERARIBEwEUARUBFgEXARgBGQEaARsBHAEdAR4BHwEgASEBIgEjASQBJQEmAScBKAEpASoBKwEsAS0BLgEvATABMQEyATMBNAE1ATYBNwE4ATkBOgE7ATwBPQE+AT8BQAFBAUIBQwFEAUUBRgFHAUgBSQFKAUsBTAFNAU4BTwFQAVEBUgFTAVQBVQFWAVcBWAFZAVoBWwFcAV0BXgFfAWABYQFiAWMBZAFlAWYBZwFoAWkBagFrAWwBbQFuAW8BcAFxAXIBcwF0AXUBdgF3AXgBeQF6AXsBfAF9AX4BfwGAAYEBggGDAYQBhQGGAYcBiAGJAYoBiwGMAY0BjgGPAZABkQGSAZMBlAGVAZYBlwGYAZkBmgGbAZwBnQGeAZ8BoAGhAaIBowGkAaUBpgGnAagBqQGqAasBrAGtAa4BrwGwAbEBsgGzAbQBtQG2AbcBuAG5AboBuwG8Ab0BvgG/AcABwQHCAcMBxAHFAcYBxwHIAckBygHLAcwBzQHOAc8B0AHRAdIB0wHUAdUB1gHXAdgB2QHaAdsB3AHdAd4B3wHgAeEB4gHjAeQB5QHmAecB6AHpAeoB6wHsAe0B7gHvAfAB8QHyAfMB9AH1AfYB9wH4AQ==",
          "dtype": "u2"
         },
         "xaxis": "x",
         "y": {
          "bdata": "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",
          "dtype": "f4"
         },
         "yaxis": "y"
        },
        {
         "hoverinfo": "skip",
         "legendgroup": "SRP(E,64)",
         "line": {
          "color": "#00CC96"
         },
         "mode": "lines",
         "name": "SRP(E,64)",
         "showlegend": true,
         "type": "scatter",
         "x": {
          "bdata": "IAAhACIAIwAkACUAJgAnACgAKQAqACsALAAtAC4ALwAwADEAMgAzADQANQA2ADcAOAA5ADoAOwA8AD0APgA/AEAAQQBCAEMARABFAEYARwBIAEkASgBLAEwATQBOAE8AUABRAFIAUwBUAFUAVgBXAFgAWQBaAFsAXABdAF4AXwBgAGEAYgBjAGQAZQBmAGcAaABpAGoAawBsAG0AbgBvAHAAcQByAHMAdAB1AHYAdwB4AHkAegB7AHwAfQB+AH8AgACBAIIAgwCEAIUAhgCHAIgAiQCKAIsAjACNAI4AjwCQAJEAkgCTAJQAlQCWAJcAmACZAJoAmwCcAJ0AngCfAKAAoQCiAKMApAClAKYApwCoAKkAqgCrAKwArQCuAK8AsACxALIAswC0ALUAtgC3ALgAuQC6ALsAvAC9AL4AvwDAAMEAwgDDAMQAxQDGAMcAyADJAMoAywDMAM0AzgDPANAA0QDSANMA1ADVANYA1wDYANkA2gDbANwA3QDeAN8A4ADhAOIA4wDkAOUA5gDnAOgA6QDqAOsA7ADtAO4A7wDwAPEA8gDzAPQA9QD2APcA+AD5APoA+wD8AP0A/gD/AAABAQECAQMBBAEFAQYBBwEIAQkBCgELAQwBDQEOAQ8BEAERARIBEwEUARUBFgEXARgBGQEaARsBHAEdAR4BHwEgASEBIgEjASQBJQEmAScBKAEpASoBKwEsAS0BLgEvATABMQEyATMBNAE1ATYBNwE4ATkBOgE7ATwBPQE+AT8BQAFBAUIBQwFEAUUBRgFHAUgBSQFKAUsBTAFNAU4BTwFQAVEBUgFTAVQBVQFWAVcBWAFZAVoBWwFcAV0BXgFfAWABYQFiAWMBZAFlAWYBZwFoAWkBagFrAWwBbQFuAW8BcAFxAXIBcwF0AXUBdgF3AXgBeQF6AXsBfAF9AX4BfwGAAYEBggGDAYQBhQGGAYcBiAGJAYoBiwGMAY0BjgGPAZABkQGSAZMBlAGVAZYBlwGYAZkBmgGbAZwBnQGeAZ8BoAGhAaIBowGkAaUBpgGnAagBqQGqAasBrAGtAa4BrwGwAbEBsgGzAbQBtQG2AbcBuAG5AboBuwG8Ab0BvgG/AcABwQHCAcMBxAHFAcYBxwHIAckBygHLAcwBzQHOAc8B0AHRAdIB0wHUAdUB1gHXAdgB2QHaAdsB3AHdAd4B3wHgAQ==",
          "dtype": "u2"
         },
         "xaxis": "x",
         "y": {
          "bdata": "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",
          "dtype": "f4"
         },
         "yaxis": "y"
        },
        {
         "hoverinfo": "skip",
         "legendgroup": "SRP(E,256)",
         "line": {
          "color": "#AB63FA"
         },
         "mode": "lines",
         "name": "SRP(E,256)",
         "showlegend": true,
         "type": "scatter",
         "x": {
          "bdata": "gACBAIIAgwCEAIUAhgCHAIgAiQCKAIsAjACNAI4AjwCQAJEAkgCTAJQAlQCWAJcAmACZAJoAmwCcAJ0AngCfAKAAoQCiAKMApAClAKYApwCoAKkAqgCrAKwArQCuAK8AsACxALIAswC0ALUAtgC3ALgAuQC6ALsAvAC9AL4AvwDAAMEAwgDDAMQAxQDGAMcAyADJAMoAywDMAM0AzgDPANAA0QDSANMA1ADVANYA1wDYANkA2gDbANwA3QDeAN8A4ADhAOIA4wDkAOUA5gDnAOgA6QDqAOsA7ADtAO4A7wDwAPEA8gDzAPQA9QD2APcA+AD5APoA+wD8AP0A/gD/AAABAQECAQMBBAEFAQYBBwEIAQkBCgELAQwBDQEOAQ8BEAERARIBEwEUARUBFgEXARgBGQEaARsBHAEdAR4BHwEgASEBIgEjASQBJQEmAScBKAEpASoBKwEsAS0BLgEvATABMQEyATMBNAE1ATYBNwE4ATkBOgE7ATwBPQE+AT8BQAFBAUIBQwFEAUUBRgFHAUgBSQFKAUsBTAFNAU4BTwFQAVEBUgFTAVQBVQFWAVcBWAFZAVoBWwFcAV0BXgFfAWABYQFiAWMBZAFlAWYBZwFoAWkBagFrAWwBbQFuAW8BcAFxAXIBcwF0AXUBdgF3AXgBeQF6AXsBfAF9AX4BfwGAAQ==",
          "dtype": "u2"
         },
         "xaxis": "x",
         "y": {
          "bdata": "zNA/P7lHQD+JbEA/tYJAPwOSQD/knUA/nKdAP8WvQD/OtkA/Y71APxfDQD/xx0A/rsxAP/PQQD/F1EA/Z9hAP0PcQD8F4EA/PuNAP07mQD9t6UA/QuxAPx7vQD8O8kA/hPRAP6X2QD8i+UA/c/tAP9X9QD/i/0A/CwJBP4sEQT/KBkE/7AhBP7IKQT+qDEE/yg5BPycQQT/0EUE/WhNBP2EVQT9eF0E/2hhBP3EaQT8EHEE/Lh1BP04eQT8EH0E/5B9BPwQhQT9MIkE/2CNBPyklQT8xJkE/sCZBP0gnQT8HKEE/AylBP18qQT9zK0E/uixBP/QtQT8bL0E/eTBBP5QxQT+fMkE/6DNBP8c0QT8ONkE/xjZBP8k3QT+5OEE/cjlBPwM6QT/zOkE/yjtBP/E8QT/QPUE/nj5BP3g/QT9lQEE/6EBBPypBQT/yQUE/a0JBPwRDQT+OQ0E/tUNBPyhEQT/3REE/nEVBP/5FQT8FR0E/sUdBPzpIQT8CSUE/kUlBPwtKQT+1SkE/z0pBP6xLQT8jTEE/vExBPzhNQT+0TUE/WE5BP+xOQT9mT0E/1k9BPxVQQT9PUEE/rFBBPwFRQT+CUUE/fFFBP7xRQT/uUUE/yVFBP+xRQT/sUUE/CVJBPz1SQT9mUkE/UlJBPwNTQT9JU0E/aVNBP49TQT8uVEE/uVRBPyJVQT8WVUE/ElVBP4hVQT/lVUE/h1ZBPyxXQT9PV0E/g1dBP8FXQT/TV0E/DVhBP0FYQT/5V0E/R1hBP4hYQT8rWUE/mFlBP85ZQT+UWUE/ZllBP0NZQT9VWUE/MllBPwFZQT8wWUE/UllBP19ZQT8sWUE/QllBPwZZQT/iWEE/HVlBP0RZQT9GWUE/HVlBP9hYQT/1WEE/qFhBPz5YQT88WEE/W1hBP3ZYQT94WEE/bFhBPxdYQT/aV0E/hVdBPyRXQT/DVkE/2lZBP+RWQT+zVkE/kFZBP2lWQT8DVkE/yFVBP5tVQT+5VUE/g1VBP1lVQT+sVUE/rVVBP6ZVQT/TVUE/t1VBP81VQT8LVkE/AlZBPwhWQT9zVkE/BlZBP/5VQT9VVkE/lFZBPyZWQT9DVkE/OlZBP3RWQT+lVkE/kFZBP6lWQT8AV0E/T1dBP6lXQT8PWEE/f1hBPxlZQT+PWUE/xFlBP9VZQT/8WUE/TlpBP39aQT9jWkE/31pBPxVbQT8hW0E/1FtBP19cQT+7XEE/FV1BPx1dQT9UXUE/jl1BP/JdQT8oXkE/QF5BP1FeQT8VXkE/Dl5BPx9eQT/kXUE/GF5BP4VeQT+7XkE/AF9BP/BeQT/rXkE/FV9BPzpfQT9OX0E/f19BP5ZfQT9yX0E/g19BP3RfQT8=",
          "dtype": "f4"
         },
         "yaxis": "y"
        },
        {
         "hoverinfo": "skip",
         "legendgroup": "SRP(E,4)",
         "line": {
          "color": "#636EFA"
         },
         "mode": "lines",
         "name": "SRP(E,4)",
         "showlegend": false,
         "type": "scatter",
         "x": {
          "bdata": "AgADAAQABQAGAAcACAAJAAoACwAMAA0ADgAPABAAEQASABMAFAAVABYAFwAYABkAGgAbABwAHQAeAB8AIAAhACIAIwAkACUAJgAnACgAKQAqACsALAAtAC4ALwAwADEAMgAzADQANQA2ADcAOAA5ADoAOwA8AD0APgA/AEAAQQBCAEMARABFAEYARwBIAEkASgBLAEwATQBOAE8AUABRAFIAUwBUAFUAVgBXAFgAWQBaAFsAXABdAF4AXwBgAGEAYgBjAGQAZQBmAGcAaABpAGoAawBsAG0AbgBvAHAAcQByAHMAdAB1AHYAdwB4AHkAegB7AHwAfQB+AH8AgACBAIIAgwCEAIUAhgCHAIgAiQCKAIsAjACNAI4AjwCQAJEAkgCTAJQAlQCWAJcAmACZAJoAmwCcAJ0AngCfAKAAoQCiAKMApAClAKYApwCoAKkAqgCrAKwArQCuAK8AsACxALIAswC0ALUAtgC3ALgAuQC6ALsAvAC9AL4AvwDAAMEAwgDDAMQAxQDGAMcAyADJAMoAywDMAM0AzgDPANAA0QDSANMA1ADVANYA1wDYANkA2gDbANwA3QDeAN8A4ADhAOIA4wDkAOUA5gDnAOgA6QDqAOsA7ADtAO4A7wDwAPEA8gDzAPQA9QD2APcA+AD5APoA+wD8AP0A/gD/AAABAQECAQMBBAEFAQYBBwEIAQkBCgELAQwBDQEOAQ8BEAERARIBEwEUARUBFgEXARgBGQEaARsBHAEdAR4BHwEgASEBIgEjASQBJQEmAScBKAEpASoBKwEsAS0BLgEvATABMQEyATMBNAE1ATYBNwE4ATkBOgE7ATwBPQE+AT8BQAFBAUIBQwFEAUUBRgFHAUgBSQFKAUsBTAFNAU4BTwFQAVEBUgFTAVQBVQFWAVcBWAFZAVoBWwFcAV0BXgFfAWABYQFiAWMBZAFlAWYBZwFoAWkBagFrAWwBbQFuAW8BcAFxAXIBcwF0AXUBdgF3AXgBeQF6AXsBfAF9AX4BfwGAAYEBggGDAYQBhQGGAYcBiAGJAYoBiwGMAY0BjgGPAZABkQGSAZMBlAGVAZYBlwGYAZkBmgGbAZwBnQGeAZ8BoAGhAaIBowGkAaUBpgGnAagBqQGqAasBrAGtAa4BrwGwAbEBsgGzAbQBtQG2AbcBuAG5AboBuwG8Ab0BvgG/AcABwQHCAcMBxAHFAcYBxwHIAckBygHLAcwBzQHOAc8B0AHRAdIB0wHUAdUB1gHXAdgB2QHaAdsB3AHdAd4B3wHgAeEB4gHjAeQB5QHmAecB6AHpAeoB6wHsAe0B7gHvAfAB8QHyAfMB9AH1AfYB9wH4AfkB+gH7AfwB/QH+AQ==",
          "dtype": "u2"
         },
         "xaxis": "x2",
         "y": {
          "bdata": "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",
          "dtype": "f4"
         },
         "yaxis": "y2"
        },
        {
         "hoverinfo": "skip",
         "legendgroup": "SRP(E,16)",
         "line": {
          "color": "#EF553B"
         },
         "mode": "lines",
         "name": "SRP(E,16)",
         "showlegend": false,
         "type": "scatter",
         "x": {
          "bdata": "CAAJAAoACwAMAA0ADgAPABAAEQASABMAFAAVABYAFwAYABkAGgAbABwAHQAeAB8AIAAhACIAIwAkACUAJgAnACgAKQAqACsALAAtAC4ALwAwADEAMgAzADQANQA2ADcAOAA5ADoAOwA8AD0APgA/AEAAQQBCAEMARABFAEYARwBIAEkASgBLAEwATQBOAE8AUABRAFIAUwBUAFUAVgBXAFgAWQBaAFsAXABdAF4AXwBgAGEAYgBjAGQAZQBmAGcAaABpAGoAawBsAG0AbgBvAHAAcQByAHMAdAB1AHYAdwB4AHkAegB7AHwAfQB+AH8AgACBAIIAgwCEAIUAhgCHAIgAiQCKAIsAjACNAI4AjwCQAJEAkgCTAJQAlQCWAJcAmACZAJoAmwCcAJ0AngCfAKAAoQCiAKMApAClAKYApwCoAKkAqgCrAKwArQCuAK8AsACxALIAswC0ALUAtgC3ALgAuQC6ALsAvAC9AL4AvwDAAMEAwgDDAMQAxQDGAMcAyADJAMoAywDMAM0AzgDPANAA0QDSANMA1ADVANYA1wDYANkA2gDbANwA3QDeAN8A4ADhAOIA4wDkAOUA5gDnAOgA6QDqAOsA7ADtAO4A7wDwAPEA8gDzAPQA9QD2APcA+AD5APoA+wD8AP0A/gD/AAABAQECAQMBBAEFAQYBBwEIAQkBCgELAQwBDQEOAQ8BEAERARIBEwEUARUBFgEXARgBGQEaARsBHAEdAR4BHwEgASEBIgEjASQBJQEmAScBKAEpASoBKwEsAS0BLgEvATABMQEyATMBNAE1ATYBNwE4ATkBOgE7ATwBPQE+AT8BQAFBAUIBQwFEAUUBRgFHAUgBSQFKAUsBTAFNAU4BTwFQAVEBUgFTAVQBVQFWAVcBWAFZAVoBWwFcAV0BXgFfAWABYQFiAWMBZAFlAWYBZwFoAWkBagFrAWwBbQFuAW8BcAFxAXIBcwF0AXUBdgF3AXgBeQF6AXsBfAF9AX4BfwGAAYEBggGDAYQBhQGGAYcBiAGJAYoBiwGMAY0BjgGPAZABkQGSAZMBlAGVAZYBlwGYAZkBmgGbAZwBnQGeAZ8BoAGhAaIBowGkAaUBpgGnAagBqQGqAasBrAGtAa4BrwGwAbEBsgGzAbQBtQG2AbcBuAG5AboBuwG8Ab0BvgG/AcABwQHCAcMBxAHFAcYBxwHIAckBygHLAcwBzQHOAc8B0AHRAdIB0wHUAdUB1gHXAdgB2QHaAdsB3AHdAd4B3wHgAeEB4gHjAeQB5QHmAecB6AHpAeoB6wHsAe0B7gHvAfAB8QHyAfMB9AH1AfYB9wH4AQ==",
          "dtype": "u2"
         },
         "xaxis": "x2",
         "y": {
          "bdata": "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",
          "dtype": "f4"
         },
         "yaxis": "y2"
        },
        {
         "hoverinfo": "skip",
         "legendgroup": "SRP(E,64)",
         "line": {
          "color": "#00CC96"
         },
         "mode": "lines",
         "name": "SRP(E,64)",
         "showlegend": false,
         "type": "scatter",
         "x": {
          "bdata": "IAAhACIAIwAkACUAJgAnACgAKQAqACsALAAtAC4ALwAwADEAMgAzADQANQA2ADcAOAA5ADoAOwA8AD0APgA/AEAAQQBCAEMARABFAEYARwBIAEkASgBLAEwATQBOAE8AUABRAFIAUwBUAFUAVgBXAFgAWQBaAFsAXABdAF4AXwBgAGEAYgBjAGQAZQBmAGcAaABpAGoAawBsAG0AbgBvAHAAcQByAHMAdAB1AHYAdwB4AHkAegB7AHwAfQB+AH8AgACBAIIAgwCEAIUAhgCHAIgAiQCKAIsAjACNAI4AjwCQAJEAkgCTAJQAlQCWAJcAmACZAJoAmwCcAJ0AngCfAKAAoQCiAKMApAClAKYApwCoAKkAqgCrAKwArQCuAK8AsACxALIAswC0ALUAtgC3ALgAuQC6ALsAvAC9AL4AvwDAAMEAwgDDAMQAxQDGAMcAyADJAMoAywDMAM0AzgDPANAA0QDSANMA1ADVANYA1wDYANkA2gDbANwA3QDeAN8A4ADhAOIA4wDkAOUA5gDnAOgA6QDqAOsA7ADtAO4A7wDwAPEA8gDzAPQA9QD2APcA+AD5APoA+wD8AP0A/gD/AAABAQECAQMBBAEFAQYBBwEIAQkBCgELAQwBDQEOAQ8BEAERARIBEwEUARUBFgEXARgBGQEaARsBHAEdAR4BHwEgASEBIgEjASQBJQEmAScBKAEpASoBKwEsAS0BLgEvATABMQEyATMBNAE1ATYBNwE4ATkBOgE7ATwBPQE+AT8BQAFBAUIBQwFEAUUBRgFHAUgBSQFKAUsBTAFNAU4BTwFQAVEBUgFTAVQBVQFWAVcBWAFZAVoBWwFcAV0BXgFfAWABYQFiAWMBZAFlAWYBZwFoAWkBagFrAWwBbQFuAW8BcAFxAXIBcwF0AXUBdgF3AXgBeQF6AXsBfAF9AX4BfwGAAYEBggGDAYQBhQGGAYcBiAGJAYoBiwGMAY0BjgGPAZABkQGSAZMBlAGVAZYBlwGYAZkBmgGbAZwBnQGeAZ8BoAGhAaIBowGkAaUBpgGnAagBqQGqAasBrAGtAa4BrwGwAbEBsgGzAbQBtQG2AbcBuAG5AboBuwG8Ab0BvgG/AcABwQHCAcMBxAHFAcYBxwHIAckBygHLAcwBzQHOAc8B0AHRAdIB0wHUAdUB1gHXAdgB2QHaAdsB3AHdAd4B3wHgAQ==",
          "dtype": "u2"
         },
         "xaxis": "x2",
         "y": {
          "bdata": "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",
          "dtype": "f4"
         },
         "yaxis": "y2"
        },
        {
         "hoverinfo": "skip",
         "legendgroup": "SRP(E,256)",
         "line": {
          "color": "#AB63FA"
         },
         "mode": "lines",
         "name": "SRP(E,256)",
         "showlegend": false,
         "type": "scatter",
         "x": {
          "bdata": "gACBAIIAgwCEAIUAhgCHAIgAiQCKAIsAjACNAI4AjwCQAJEAkgCTAJQAlQCWAJcAmACZAJoAmwCcAJ0AngCfAKAAoQCiAKMApAClAKYApwCoAKkAqgCrAKwArQCuAK8AsACxALIAswC0ALUAtgC3ALgAuQC6ALsAvAC9AL4AvwDAAMEAwgDDAMQAxQDGAMcAyADJAMoAywDMAM0AzgDPANAA0QDSANMA1ADVANYA1wDYANkA2gDbANwA3QDeAN8A4ADhAOIA4wDkAOUA5gDnAOgA6QDqAOsA7ADtAO4A7wDwAPEA8gDzAPQA9QD2APcA+AD5APoA+wD8AP0A/gD/AAABAQECAQMBBAEFAQYBBwEIAQkBCgELAQwBDQEOAQ8BEAERARIBEwEUARUBFgEXARgBGQEaARsBHAEdAR4BHwEgASEBIgEjASQBJQEmAScBKAEpASoBKwEsAS0BLgEvATABMQEyATMBNAE1ATYBNwE4ATkBOgE7ATwBPQE+AT8BQAFBAUIBQwFEAUUBRgFHAUgBSQFKAUsBTAFNAU4BTwFQAVEBUgFTAVQBVQFWAVcBWAFZAVoBWwFcAV0BXgFfAWABYQFiAWMBZAFlAWYBZwFoAWkBagFrAWwBbQFuAW8BcAFxAXIBcwF0AXUBdgF3AXgBeQF6AXsBfAF9AX4BfwGAAQ==",
          "dtype": "u2"
         },
         "xaxis": "x2",
         "y": {
          "bdata": "P8oYP6MWGT/zFxk/ERoZP/IaGT/PGxk/IBwZP5EbGT8AGxk/7xoZP2QaGT85Ghk/2hkZP04ZGT+rGBk/BhgZP/EXGT9tFxk/ZBcZP9oWGT8ZFhk/NhYZP94VGT9OFRk/RRUZPzsVGT/7FBk/mRQZPwYUGT8JFBk/8hMZPyQUGT/+Exk/lxMZPzgTGT8IExk/LRMZP4oTGT9qExk/0hMZP/kTGT8ZFBk/txMZP5cTGT+5Exk/5hMZP2cTGT+MExk/ihMZP5YTGT9JExk/aBMZPzcTGT+JExk/FxQZP2MUGT9xFBk/7xQZP0oVGT+YFRk/JhYZP4wWGT/3Fhk/gxcZP6kXGT/cFxk/DBgZP1IYGT/pGBk/TRkZP5AZGT/CGRk/+BkZP4oaGT9rGhk/oRoZP8caGT8kGxk/ohsZP9gbGT8wHBk/ThwZP5wcGT8SHRk/KR0ZP20dGT+XHRk/ox0ZP/0dGT8PHhk/rR4ZP+8eGT8oHxk/uB8ZP6YgGT+8IBk/5yAZPxUhGT9VIRk/aiEZP/IgGT+pIBk/oCAZP/YgGT8cIRk/9yAZPwkhGT/NIBk/QiAZP28gGT/0IBk/cSEZP9YhGT9WIhk/0yIZPzojGT+fIxk/6CMZP2kkGT8aJRk/miUZPxsnGT+RJxk//ScZP1ooGT/XKBk/HykZP3YpGT8BKhk/HioZP7wqGT9tKxk/misZPzUsGT+MLBk/8ywZP+ksGT9aLRk/gi0ZP/8tGT9iLhk/BC8ZP8EvGT9iMBk/TTAZP24wGT+NMBk/4DAZP8swGT8HMRk/LzEZPw0xGT9MMRk/8zEZPzgyGT+GMhk/DzMZP3ozGT/jMxk/QzQZP/c0GT8+NRk/2TUZP142GT+2Nhk/9TYZP2k3GT+wNxk/mTcZPyk4GT+tOBk/9jgZPy45GT/lOBk/DTkZPxo5GT8mORk/ljkZP6E5GT/bORk/0DkZPwc6GT9ROhk/mDoZP+M6GT9DOxk/TTsZP5o7GT/cOxk/gzwZP5c8GT82PRk/uz0ZPzQ+GT+IPhk/LD8ZP1A/GT/BPxk/iUAZP1JBGT+7QRk/AUIZP2JCGT97Qhk/pkIZPzlDGT/WQxk/WkQZP9NEGT+ARRk/50UZPxtGGT9IRhk/MUYZP6VGGT/VRhk/9UYZP6lGGT97Rhk/UUYZP2NGGT9iRhk/2EYZP1RHGT/SRxk/lkgZP1dJGT+ZSRk/VUkZP2VJGT/YSRk/JUoZP5ZKGT8ISxk/cUsZP0RLGT89Sxk/YksZP3FLGT8sSxk/2koZP9NKGT8KSxk/e0sZP7JLGT+NSxk/K0wZP1JMGT+1TBk/G00ZPz9NGT8sTRk/QU0ZP0xNGT9GTRk/QE0ZPwFNGT8=",
          "dtype": "f4"
         },
         "yaxis": "y2"
        },
        {
         "hoverinfo": "skip",
         "legendgroup": "SRP(E,4)",
         "line": {
          "color": "#636EFA"
         },
         "mode": "lines",
         "name": "SRP(E,4)",
         "showlegend": false,
         "type": "scatter",
         "x": {
          "bdata": "AgADAAQABQAGAAcACAAJAAoACwAMAA0ADgAPABAAEQASABMAFAAVABYAFwAYABkAGgAbABwAHQAeAB8AIAAhACIAIwAkACUAJgAnACgAKQAqACsALAAtAC4ALwAwADEAMgAzADQANQA2ADcAOAA5ADoAOwA8AD0APgA/AEAAQQBCAEMARABFAEYARwBIAEkASgBLAEwATQBOAE8AUABRAFIAUwBUAFUAVgBXAFgAWQBaAFsAXABdAF4AXwBgAGEAYgBjAGQAZQBmAGcAaABpAGoAawBsAG0AbgBvAHAAcQByAHMAdAB1AHYAdwB4AHkAegB7AHwAfQB+AH8AgACBAIIAgwCEAIUAhgCHAIgAiQCKAIsAjACNAI4AjwCQAJEAkgCTAJQAlQCWAJcAmACZAJoAmwCcAJ0AngCfAKAAoQCiAKMApAClAKYApwCoAKkAqgCrAKwArQCuAK8AsACxALIAswC0ALUAtgC3ALgAuQC6ALsAvAC9AL4AvwDAAMEAwgDDAMQAxQDGAMcAyADJAMoAywDMAM0AzgDPANAA0QDSANMA1ADVANYA1wDYANkA2gDbANwA3QDeAN8A4ADhAOIA4wDkAOUA5gDnAOgA6QDqAOsA7ADtAO4A7wDwAPEA8gDzAPQA9QD2APcA+AD5APoA+wD8AP0A/gD/AAABAQECAQMBBAEFAQYBBwEIAQkBCgELAQwBDQEOAQ8BEAERARIBEwEUARUBFgEXARgBGQEaARsBHAEdAR4BHwEgASEBIgEjASQBJQEmAScBKAEpASoBKwEsAS0BLgEvATABMQEyATMBNAE1ATYBNwE4ATkBOgE7ATwBPQE+AT8BQAFBAUIBQwFEAUUBRgFHAUgBSQFKAUsBTAFNAU4BTwFQAVEBUgFTAVQBVQFWAVcBWAFZAVoBWwFcAV0BXgFfAWABYQFiAWMBZAFlAWYBZwFoAWkBagFrAWwBbQFuAW8BcAFxAXIBcwF0AXUBdgF3AXgBeQF6AXsBfAF9AX4BfwGAAYEBggGDAYQBhQGGAYcBiAGJAYoBiwGMAY0BjgGPAZABkQGSAZMBlAGVAZYBlwGYAZkBmgGbAZwBnQGeAZ8BoAGhAaIBowGkAaUBpgGnAagBqQGqAasBrAGtAa4BrwGwAbEBsgGzAbQBtQG2AbcBuAG5AboBuwG8Ab0BvgG/AcABwQHCAcMBxAHFAcYBxwHIAckBygHLAcwBzQHOAc8B0AHRAdIB0wHUAdUB1gHXAdgB2QHaAdsB3AHdAd4B3wHgAeEB4gHjAeQB5QHmAecB6AHpAeoB6wHsAe0B7gHvAfAB8QHyAfMB9AH1AfYB9wH4AfkB+gH7AfwB/QH+AQ==",
          "dtype": "u2"
         },
         "xaxis": "x3",
         "y": {
          "bdata": "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",
          "dtype": "f4"
         },
         "yaxis": "y3"
        },
        {
         "hoverinfo": "skip",
         "legendgroup": "SRP(E,16)",
         "line": {
          "color": "#EF553B"
         },
         "mode": "lines",
         "name": "SRP(E,16)",
         "showlegend": false,
         "type": "scatter",
         "x": {
          "bdata": "CAAJAAoACwAMAA0ADgAPABAAEQASABMAFAAVABYAFwAYABkAGgAbABwAHQAeAB8AIAAhACIAIwAkACUAJgAnACgAKQAqACsALAAtAC4ALwAwADEAMgAzADQANQA2ADcAOAA5ADoAOwA8AD0APgA/AEAAQQBCAEMARABFAEYARwBIAEkASgBLAEwATQBOAE8AUABRAFIAUwBUAFUAVgBXAFgAWQBaAFsAXABdAF4AXwBgAGEAYgBjAGQAZQBmAGcAaABpAGoAawBsAG0AbgBvAHAAcQByAHMAdAB1AHYAdwB4AHkAegB7AHwAfQB+AH8AgACBAIIAgwCEAIUAhgCHAIgAiQCKAIsAjACNAI4AjwCQAJEAkgCTAJQAlQCWAJcAmACZAJoAmwCcAJ0AngCfAKAAoQCiAKMApAClAKYApwCoAKkAqgCrAKwArQCuAK8AsACxALIAswC0ALUAtgC3ALgAuQC6ALsAvAC9AL4AvwDAAMEAwgDDAMQAxQDGAMcAyADJAMoAywDMAM0AzgDPANAA0QDSANMA1ADVANYA1wDYANkA2gDbANwA3QDeAN8A4ADhAOIA4wDkAOUA5gDnAOgA6QDqAOsA7ADtAO4A7wDwAPEA8gDzAPQA9QD2APcA+AD5APoA+wD8AP0A/gD/AAABAQECAQMBBAEFAQYBBwEIAQkBCgELAQwBDQEOAQ8BEAERARIBEwEUARUBFgEXARgBGQEaARsBHAEdAR4BHwEgASEBIgEjASQBJQEmAScBKAEpASoBKwEsAS0BLgEvATABMQEyATMBNAE1ATYBNwE4ATkBOgE7ATwBPQE+AT8BQAFBAUIBQwFEAUUBRgFHAUgBSQFKAUsBTAFNAU4BTwFQAVEBUgFTAVQBVQFWAVcBWAFZAVoBWwFcAV0BXgFfAWABYQFiAWMBZAFlAWYBZwFoAWkBagFrAWwBbQFuAW8BcAFxAXIBcwF0AXUBdgF3AXgBeQF6AXsBfAF9AX4BfwGAAYEBggGDAYQBhQGGAYcBiAGJAYoBiwGMAY0BjgGPAZABkQGSAZMBlAGVAZYBlwGYAZkBmgGbAZwBnQGeAZ8BoAGhAaIBowGkAaUBpgGnAagBqQGqAasBrAGtAa4BrwGwAbEBsgGzAbQBtQG2AbcBuAG5AboBuwG8Ab0BvgG/AcABwQHCAcMBxAHFAcYBxwHIAckBygHLAcwBzQHOAc8B0AHRAdIB0wHUAdUB1gHXAdgB2QHaAdsB3AHdAd4B3wHgAeEB4gHjAeQB5QHmAecB6AHpAeoB6wHsAe0B7gHvAfAB8QHyAfMB9AH1AfYB9wH4AQ==",
          "dtype": "u2"
         },
         "xaxis": "x3",
         "y": {
          "bdata": "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",
          "dtype": "f4"
         },
         "yaxis": "y3"
        },
        {
         "hoverinfo": "skip",
         "legendgroup": "SRP(E,64)",
         "line": {
          "color": "#00CC96"
         },
         "mode": "lines",
         "name": "SRP(E,64)",
         "showlegend": false,
         "type": "scatter",
         "x": {
          "bdata": "IAAhACIAIwAkACUAJgAnACgAKQAqACsALAAtAC4ALwAwADEAMgAzADQANQA2ADcAOAA5ADoAOwA8AD0APgA/AEAAQQBCAEMARABFAEYARwBIAEkASgBLAEwATQBOAE8AUABRAFIAUwBUAFUAVgBXAFgAWQBaAFsAXABdAF4AXwBgAGEAYgBjAGQAZQBmAGcAaABpAGoAawBsAG0AbgBvAHAAcQByAHMAdAB1AHYAdwB4AHkAegB7AHwAfQB+AH8AgACBAIIAgwCEAIUAhgCHAIgAiQCKAIsAjACNAI4AjwCQAJEAkgCTAJQAlQCWAJcAmACZAJoAmwCcAJ0AngCfAKAAoQCiAKMApAClAKYApwCoAKkAqgCrAKwArQCuAK8AsACxALIAswC0ALUAtgC3ALgAuQC6ALsAvAC9AL4AvwDAAMEAwgDDAMQAxQDGAMcAyADJAMoAywDMAM0AzgDPANAA0QDSANMA1ADVANYA1wDYANkA2gDbANwA3QDeAN8A4ADhAOIA4wDkAOUA5gDnAOgA6QDqAOsA7ADtAO4A7wDwAPEA8gDzAPQA9QD2APcA+AD5APoA+wD8AP0A/gD/AAABAQECAQMBBAEFAQYBBwEIAQkBCgELAQwBDQEOAQ8BEAERARIBEwEUARUBFgEXARgBGQEaARsBHAEdAR4BHwEgASEBIgEjASQBJQEmAScBKAEpASoBKwEsAS0BLgEvATABMQEyATMBNAE1ATYBNwE4ATkBOgE7ATwBPQE+AT8BQAFBAUIBQwFEAUUBRgFHAUgBSQFKAUsBTAFNAU4BTwFQAVEBUgFTAVQBVQFWAVcBWAFZAVoBWwFcAV0BXgFfAWABYQFiAWMBZAFlAWYBZwFoAWkBagFrAWwBbQFuAW8BcAFxAXIBcwF0AXUBdgF3AXgBeQF6AXsBfAF9AX4BfwGAAYEBggGDAYQBhQGGAYcBiAGJAYoBiwGMAY0BjgGPAZABkQGSAZMBlAGVAZYBlwGYAZkBmgGbAZwBnQGeAZ8BoAGhAaIBowGkAaUBpgGnAagBqQGqAasBrAGtAa4BrwGwAbEBsgGzAbQBtQG2AbcBuAG5AboBuwG8Ab0BvgG/AcABwQHCAcMBxAHFAcYBxwHIAckBygHLAcwBzQHOAc8B0AHRAdIB0wHUAdUB1gHXAdgB2QHaAdsB3AHdAd4B3wHgAQ==",
          "dtype": "u2"
         },
         "xaxis": "x3",
         "y": {
          "bdata": "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",
          "dtype": "f4"
         },
         "yaxis": "y3"
        },
        {
         "hoverinfo": "skip",
         "legendgroup": "SRP(E,256)",
         "line": {
          "color": "#AB63FA"
         },
         "mode": "lines",
         "name": "SRP(E,256)",
         "showlegend": false,
         "type": "scatter",
         "x": {
          "bdata": "gACBAIIAgwCEAIUAhgCHAIgAiQCKAIsAjACNAI4AjwCQAJEAkgCTAJQAlQCWAJcAmACZAJoAmwCcAJ0AngCfAKAAoQCiAKMApAClAKYApwCoAKkAqgCrAKwArQCuAK8AsACxALIAswC0ALUAtgC3ALgAuQC6ALsAvAC9AL4AvwDAAMEAwgDDAMQAxQDGAMcAyADJAMoAywDMAM0AzgDPANAA0QDSANMA1ADVANYA1wDYANkA2gDbANwA3QDeAN8A4ADhAOIA4wDkAOUA5gDnAOgA6QDqAOsA7ADtAO4A7wDwAPEA8gDzAPQA9QD2APcA+AD5APoA+wD8AP0A/gD/AAABAQECAQMBBAEFAQYBBwEIAQkBCgELAQwBDQEOAQ8BEAERARIBEwEUARUBFgEXARgBGQEaARsBHAEdAR4BHwEgASEBIgEjASQBJQEmAScBKAEpASoBKwEsAS0BLgEvATABMQEyATMBNAE1ATYBNwE4ATkBOgE7ATwBPQE+AT8BQAFBAUIBQwFEAUUBRgFHAUgBSQFKAUsBTAFNAU4BTwFQAVEBUgFTAVQBVQFWAVcBWAFZAVoBWwFcAV0BXgFfAWABYQFiAWMBZAFlAWYBZwFoAWkBagFrAWwBbQFuAW8BcAFxAXIBcwF0AXUBdgF3AXgBeQF6AXsBfAF9AX4BfwGAAQ==",
          "dtype": "u2"
         },
         "xaxis": "x3",
         "y": {
          "bdata": "0Cv4PqmS+D4NqPg+SLL4PhK4+D52u/g+Mr74Ps2/+D7FwPg+bcH4PuPB+D5Hwvg+GML4PsfB+D5Vwfg+pMD4PtW/+D7+vvg+Jb74Ppq9+D5dvfg+wLz4Pta7+D5ou/g+BLv4PnO6+D5iuvg+Qrr4Pv65+D59ufg+Tbn4Pi65+D5Xufg+17j4PoS4+D5tuPg+Cbj4Prm3+D4nt/g+Mbb4Pju1+D49tfg+P7X4PuK0+D79tPg+ELX4Ptu0+D5GtPg+WrT4PhW0+D5ss/g+NrP4Piqz+D5qs/g+IrP4PpSy+D5csvg+LLL4PjGy+D5Csvg+WLL4Ptix+D4Ssvg+CbL4Psqx+D6Esfg+FrL4PhSy+D4Ssvg+ZrL4PgSz+D7Cs/g+KbT4Pk+0+D5ntPg+HbT4Pj+z+D5Gs/g+RbP4Ppuz+D7Us/g+PbT4Pmy0+D4rtfg+s7X4Phe2+D6itvg+07b4Pu22+D7stvg+Srf4Ppa3+D6pt/g+kbf4Pmq4+D5tuPg+97j4Pk+5+D6Vufg+4bn4Ps26+D59u/g+zLv4Po67+D5Lu/g+obv4Pn67+D75u/g+nLz4Pg29+D6Zvfg+t734PuG9+D6Bvvg+Hr/4Pi6/+D4Av/g+9b74Ps2++D7svvg+3b74Phu/+D4Vv/g+0L74Po2++D5cvvg+o774PgO/+D6Jv/g+/L/4Pg/A+D4jwPg+q8D4Pp/B+D5Awvg+wML4PsvD+D5ZxPg+fcT4PqLE+D4oxfg+K8X4PtPE+D6exPg+2MT4PqzE+D6mxPg+z8T4PtPE+D7NxPg+QcX4PonF+D5lxfg+fMX4PmPF+D5lxfg+xsX4PtjF+D5xxfg+5cX4PoHG+D68xvg+Ncf4PqDH+D56x/g+rcf4PgnI+D4WyPg+Ucj4Pm7I+D5nyPg+dcj4PovI+D61yPg+2sj4Pv3I+D7JyPg+4sj4Pl/J+D7/yfg+iMr4PsjK+D7zyvg+Zcv4PtrL+D4ozPg+N8z4PqzM+D53zfg+bM74PofP+D5t0Pg+rdD4Pq7Q+D6q0Pg+RNH4PtPR+D4V0vg+i9L4PjTT+D4o1Pg+CtX4Ps/V+D4E1vg+Ytb4Po/W+D6d1vg+edb4Po/W+D6N1vg+u9b4PoHW+D491vg+zdb4PpHX+D5a2Pg++dj4PqvZ+D6d2vg+9dr4PnLb+D7E2/g+Otz4PmLc+D573Pg+4tz4Phjd+D7k3Pg+99z4Pifd+D4z3fg+J934Plbd+D7Q3fg+Cd74PpPe+D7F3vg+QN/4Ptnf+D4m4Pg+LeD4Po/g+D6k4Pg+CeH4Pi7h+D5t4fg+G+H4PqLh+D4z4vg+6OL4PmPj+D5Z4/g+C+P4Pnni+D564vg+KuL4Psnh+D4=",
          "dtype": "f4"
         },
         "yaxis": "y3"
        },
        {
         "hoverinfo": "skip",
         "legendgroup": "SRP(E,4)",
         "line": {
          "color": "#636EFA"
         },
         "mode": "lines",
         "name": "SRP(E,4)",
         "showlegend": false,
         "type": "scatter",
         "x": {
          "bdata": "AgADAAQABQAGAAcACAAJAAoACwAMAA0ADgAPABAAEQASABMAFAAVABYAFwAYABkAGgAbABwAHQAeAB8AIAAhACIAIwAkACUAJgAnACgAKQAqACsALAAtAC4ALwAwADEAMgAzADQANQA2ADcAOAA5ADoAOwA8AD0APgA/AEAAQQBCAEMARABFAEYARwBIAEkASgBLAEwATQBOAE8AUABRAFIAUwBUAFUAVgBXAFgAWQBaAFsAXABdAF4AXwBgAGEAYgBjAGQAZQBmAGcAaABpAGoAawBsAG0AbgBvAHAAcQByAHMAdAB1AHYAdwB4AHkAegB7AHwAfQB+AH8AgACBAIIAgwCEAIUAhgCHAIgAiQCKAIsAjACNAI4AjwCQAJEAkgCTAJQAlQCWAJcAmACZAJoAmwCcAJ0AngCfAKAAoQCiAKMApAClAKYApwCoAKkAqgCrAKwArQCuAK8AsACxALIAswC0ALUAtgC3ALgAuQC6ALsAvAC9AL4AvwDAAMEAwgDDAMQAxQDGAMcAyADJAMoAywDMAM0AzgDPANAA0QDSANMA1ADVANYA1wDYANkA2gDbANwA3QDeAN8A4ADhAOIA4wDkAOUA5gDnAOgA6QDqAOsA7ADtAO4A7wDwAPEA8gDzAPQA9QD2APcA+AD5APoA+wD8AP0A/gD/AAABAQECAQMBBAEFAQYBBwEIAQkBCgELAQwBDQEOAQ8BEAERARIBEwEUARUBFgEXARgBGQEaARsBHAEdAR4BHwEgASEBIgEjASQBJQEmAScBKAEpASoBKwEsAS0BLgEvATABMQEyATMBNAE1ATYBNwE4ATkBOgE7ATwBPQE+AT8BQAFBAUIBQwFEAUUBRgFHAUgBSQFKAUsBTAFNAU4BTwFQAVEBUgFTAVQBVQFWAVcBWAFZAVoBWwFcAV0BXgFfAWABYQFiAWMBZAFlAWYBZwFoAWkBagFrAWwBbQFuAW8BcAFxAXIBcwF0AXUBdgF3AXgBeQF6AXsBfAF9AX4BfwGAAYEBggGDAYQBhQGGAYcBiAGJAYoBiwGMAY0BjgGPAZABkQGSAZMBlAGVAZYBlwGYAZkBmgGbAZwBnQGeAZ8BoAGhAaIBowGkAaUBpgGnAagBqQGqAasBrAGtAa4BrwGwAbEBsgGzAbQBtQG2AbcBuAG5AboBuwG8Ab0BvgG/AcABwQHCAcMBxAHFAcYBxwHIAckBygHLAcwBzQHOAc8B0AHRAdIB0wHUAdUB1gHXAdgB2QHaAdsB3AHdAd4B3wHgAeEB4gHjAeQB5QHmAecB6AHpAeoB6wHsAe0B7gHvAfAB8QHyAfMB9AH1AfYB9wH4AfkB+gH7AfwB/QH+AQ==",
          "dtype": "u2"
         },
         "xaxis": "x4",
         "y": {
          "bdata": "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",
          "dtype": "f4"
         },
         "yaxis": "y4"
        },
        {
         "hoverinfo": "skip",
         "legendgroup": "SRP(E,16)",
         "line": {
          "color": "#EF553B"
         },
         "mode": "lines",
         "name": "SRP(E,16)",
         "showlegend": false,
         "type": "scatter",
         "x": {
          "bdata": "CAAJAAoACwAMAA0ADgAPABAAEQASABMAFAAVABYAFwAYABkAGgAbABwAHQAeAB8AIAAhACIAIwAkACUAJgAnACgAKQAqACsALAAtAC4ALwAwADEAMgAzADQANQA2ADcAOAA5ADoAOwA8AD0APgA/AEAAQQBCAEMARABFAEYARwBIAEkASgBLAEwATQBOAE8AUABRAFIAUwBUAFUAVgBXAFgAWQBaAFsAXABdAF4AXwBgAGEAYgBjAGQAZQBmAGcAaABpAGoAawBsAG0AbgBvAHAAcQByAHMAdAB1AHYAdwB4AHkAegB7AHwAfQB+AH8AgACBAIIAgwCEAIUAhgCHAIgAiQCKAIsAjACNAI4AjwCQAJEAkgCTAJQAlQCWAJcAmACZAJoAmwCcAJ0AngCfAKAAoQCiAKMApAClAKYApwCoAKkAqgCrAKwArQCuAK8AsACxALIAswC0ALUAtgC3ALgAuQC6ALsAvAC9AL4AvwDAAMEAwgDDAMQAxQDGAMcAyADJAMoAywDMAM0AzgDPANAA0QDSANMA1ADVANYA1wDYANkA2gDbANwA3QDeAN8A4ADhAOIA4wDkAOUA5gDnAOgA6QDqAOsA7ADtAO4A7wDwAPEA8gDzAPQA9QD2APcA+AD5APoA+wD8AP0A/gD/AAABAQECAQMBBAEFAQYBBwEIAQkBCgELAQwBDQEOAQ8BEAERARIBEwEUARUBFgEXARgBGQEaARsBHAEdAR4BHwEgASEBIgEjASQBJQEmAScBKAEpASoBKwEsAS0BLgEvATABMQEyATMBNAE1ATYBNwE4ATkBOgE7ATwBPQE+AT8BQAFBAUIBQwFEAUUBRgFHAUgBSQFKAUsBTAFNAU4BTwFQAVEBUgFTAVQBVQFWAVcBWAFZAVoBWwFcAV0BXgFfAWABYQFiAWMBZAFlAWYBZwFoAWkBagFrAWwBbQFuAW8BcAFxAXIBcwF0AXUBdgF3AXgBeQF6AXsBfAF9AX4BfwGAAYEBggGDAYQBhQGGAYcBiAGJAYoBiwGMAY0BjgGPAZABkQGSAZMBlAGVAZYBlwGYAZkBmgGbAZwBnQGeAZ8BoAGhAaIBowGkAaUBpgGnAagBqQGqAasBrAGtAa4BrwGwAbEBsgGzAbQBtQG2AbcBuAG5AboBuwG8Ab0BvgG/AcABwQHCAcMBxAHFAcYBxwHIAckBygHLAcwBzQHOAc8B0AHRAdIB0wHUAdUB1gHXAdgB2QHaAdsB3AHdAd4B3wHgAeEB4gHjAeQB5QHmAecB6AHpAeoB6wHsAe0B7gHvAfAB8QHyAfMB9AH1AfYB9wH4AQ==",
          "dtype": "u2"
         },
         "xaxis": "x4",
         "y": {
          "bdata": "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",
          "dtype": "f4"
         },
         "yaxis": "y4"
        },
        {
         "hoverinfo": "skip",
         "legendgroup": "SRP(E,64)",
         "line": {
          "color": "#00CC96"
         },
         "mode": "lines",
         "name": "SRP(E,64)",
         "showlegend": false,
         "type": "scatter",
         "x": {
          "bdata": "IAAhACIAIwAkACUAJgAnACgAKQAqACsALAAtAC4ALwAwADEAMgAzADQANQA2ADcAOAA5ADoAOwA8AD0APgA/AEAAQQBCAEMARABFAEYARwBIAEkASgBLAEwATQBOAE8AUABRAFIAUwBUAFUAVgBXAFgAWQBaAFsAXABdAF4AXwBgAGEAYgBjAGQAZQBmAGcAaABpAGoAawBsAG0AbgBvAHAAcQByAHMAdAB1AHYAdwB4AHkAegB7AHwAfQB+AH8AgACBAIIAgwCEAIUAhgCHAIgAiQCKAIsAjACNAI4AjwCQAJEAkgCTAJQAlQCWAJcAmACZAJoAmwCcAJ0AngCfAKAAoQCiAKMApAClAKYApwCoAKkAqgCrAKwArQCuAK8AsACxALIAswC0ALUAtgC3ALgAuQC6ALsAvAC9AL4AvwDAAMEAwgDDAMQAxQDGAMcAyADJAMoAywDMAM0AzgDPANAA0QDSANMA1ADVANYA1wDYANkA2gDbANwA3QDeAN8A4ADhAOIA4wDkAOUA5gDnAOgA6QDqAOsA7ADtAO4A7wDwAPEA8gDzAPQA9QD2APcA+AD5APoA+wD8AP0A/gD/AAABAQECAQMBBAEFAQYBBwEIAQkBCgELAQwBDQEOAQ8BEAERARIBEwEUARUBFgEXARgBGQEaARsBHAEdAR4BHwEgASEBIgEjASQBJQEmAScBKAEpASoBKwEsAS0BLgEvATABMQEyATMBNAE1ATYBNwE4ATkBOgE7ATwBPQE+AT8BQAFBAUIBQwFEAUUBRgFHAUgBSQFKAUsBTAFNAU4BTwFQAVEBUgFTAVQBVQFWAVcBWAFZAVoBWwFcAV0BXgFfAWABYQFiAWMBZAFlAWYBZwFoAWkBagFrAWwBbQFuAW8BcAFxAXIBcwF0AXUBdgF3AXgBeQF6AXsBfAF9AX4BfwGAAYEBggGDAYQBhQGGAYcBiAGJAYoBiwGMAY0BjgGPAZABkQGSAZMBlAGVAZYBlwGYAZkBmgGbAZwBnQGeAZ8BoAGhAaIBowGkAaUBpgGnAagBqQGqAasBrAGtAa4BrwGwAbEBsgGzAbQBtQG2AbcBuAG5AboBuwG8Ab0BvgG/AcABwQHCAcMBxAHFAcYBxwHIAckBygHLAcwBzQHOAc8B0AHRAdIB0wHUAdUB1gHXAdgB2QHaAdsB3AHdAd4B3wHgAQ==",
          "dtype": "u2"
         },
         "xaxis": "x4",
         "y": {
          "bdata": "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",
          "dtype": "f4"
         },
         "yaxis": "y4"
        },
        {
         "hoverinfo": "skip",
         "legendgroup": "SRP(E,256)",
         "line": {
          "color": "#AB63FA"
         },
         "mode": "lines",
         "name": "SRP(E,256)",
         "showlegend": false,
         "type": "scatter",
         "x": {
          "bdata": "gACBAIIAgwCEAIUAhgCHAIgAiQCKAIsAjACNAI4AjwCQAJEAkgCTAJQAlQCWAJcAmACZAJoAmwCcAJ0AngCfAKAAoQCiAKMApAClAKYApwCoAKkAqgCrAKwArQCuAK8AsACxALIAswC0ALUAtgC3ALgAuQC6ALsAvAC9AL4AvwDAAMEAwgDDAMQAxQDGAMcAyADJAMoAywDMAM0AzgDPANAA0QDSANMA1ADVANYA1wDYANkA2gDbANwA3QDeAN8A4ADhAOIA4wDkAOUA5gDnAOgA6QDqAOsA7ADtAO4A7wDwAPEA8gDzAPQA9QD2APcA+AD5APoA+wD8AP0A/gD/AAABAQECAQMBBAEFAQYBBwEIAQkBCgELAQwBDQEOAQ8BEAERARIBEwEUARUBFgEXARgBGQEaARsBHAEdAR4BHwEgASEBIgEjASQBJQEmAScBKAEpASoBKwEsAS0BLgEvATABMQEyATMBNAE1ATYBNwE4ATkBOgE7ATwBPQE+AT8BQAFBAUIBQwFEAUUBRgFHAUgBSQFKAUsBTAFNAU4BTwFQAVEBUgFTAVQBVQFWAVcBWAFZAVoBWwFcAV0BXgFfAWABYQFiAWMBZAFlAWYBZwFoAWkBagFrAWwBbQFuAW8BcAFxAXIBcwF0AXUBdgF3AXgBeQF6AXsBfAF9AX4BfwGAAQ==",
          "dtype": "u2"
         },
         "xaxis": "x4",
         "y": {
          "bdata": "QgvhPva24T7wBuI+xTjiPpha4j45cuI+c4LiPv+M4j77k+I+tpfiPmWZ4j7PmOI+sJfiPpmV4j4nkuI+2Y3iPhWJ4j6Mg+I+kH3iPiZ34j7ncOI+KWriPlpi4j6zWuI+OVPiPndL4j5aQ+I+fzviPiIz4j7uKuI+SSPiPjsb4j5ZE+I+pgviPtUE4j50/eE+lvbhPrLv4T7c6OE+ROLhPgfc4T6B1uE+MdDhPo7J4T6awuE+47vhPhW14T7MruE+D6jhPkWh4T5cmuE+0pPhPuuM4T5ehuE+tn/hPkx44T55ceE+JGrhPmFj4T7wXOE+6VXhPstO4T7CR+E+GEDhPuM44T7xMeE+yyrhPtsj4T7mHOE+GxbhPhsQ4T7SCeE+PAThPub+4D5d+uA+GfXgPpfv4D4W6uA+sOTgPqXf4D5/2uA+H9XgPkLP4D6GyeA+gsTgPj+/4D4JuuA+2bTgPkqv4D43quA+KaXgPoqg4D78m+A+VZfgPq6S4D7HjeA+CIngPuOD4D5kfuA+inngPqp04D6Ob+A+m2rgPmtl4D4NYOA+MVvgPgBW4D67UOA+uUzgPltI4D5lQ+A+QD7gPpc54D4pNeA+YTDgPtcq4D5RJeA+xCDgPqcb4D5KF+A+RxPgPs4O4D5ZCuA+BwbgPoUB4D6z/d8+RvrfPo323z40898+vO/fPnHs3z7X6N8+cOXfPjfi3z593t8+QdrfPrjW3z69098+otDfPpHN3z4fyt8+qcbfPv7C3z4SwN8+Dr3fPjC63z5gt98+jbTfPpex3z6Mrt8+AazfPgep3z6ept8+BaTfPkSh3z6Qnt8+OZzfPkuZ3z7wlt8+VJTfPmSR3z73jd8+x4vfPtWJ3z7dh98+bobfPhqE3z6hgt8+l4DfPoh+3z5lfN8+MnrfPi943z7tdd8+YnPfPqlw3z7wbd8+UGvfPhpp3z6YZt8+d2TfPjxi3z77X98+Kl7fPkxc3z5xWd8+RFbfPs9T3z6vUd8+0k/fPshN3z6iS98+dknfPjJH3z4pRd8+hUPfPgtC3z6eQN8+8j7fPlQ93z7qO98+2DnfPqw33z5DNt8+eDTfPv8x3z71L98+zi3fPtQr3z4BKt8+WyjfPiom3z70I98+ryHfPpIf3z4EHt8+JRzfPh4a3z4uGN8+0RXfPtET3z6qEd8+Tw/fPvUM3z7ZCt8+dAnfPuUH3z4FBt8+LwTfPn0C3z7DAN8+qv/ePgX+3j4h/N4+TfrePtD43j4c994+r/XePnz03j7w8t4+kfHePkvw3j78794+Q+/ePgTu3j5K7N4+T+rePvzn3j5f5t4+w+TePgnj3j7w4N4+F9/ePkzd3j6y294+KNrePrjY3j4=",
          "dtype": "f4"
         },
         "yaxis": "y4"
        },
        {
         "hoverinfo": "skip",
         "legendgroup": "SRP(E,4)",
         "line": {
          "color": "#636EFA"
         },
         "mode": "lines",
         "name": "SRP(E,4)",
         "showlegend": false,
         "type": "scatter",
         "x": {
          "bdata": "AgADAAQABQAGAAcACAAJAAoACwAMAA0ADgAPABAAEQASABMAFAAVABYAFwAYABkAGgAbABwAHQAeAB8AIAAhACIAIwAkACUAJgAnACgAKQAqACsALAAtAC4ALwAwADEAMgAzADQANQA2ADcAOAA5ADoAOwA8AD0APgA/AEAAQQBCAEMARABFAEYARwBIAEkASgBLAEwATQBOAE8AUABRAFIAUwBUAFUAVgBXAFgAWQBaAFsAXABdAF4AXwBgAGEAYgBjAGQAZQBmAGcAaABpAGoAawBsAG0AbgBvAHAAcQByAHMAdAB1AHYAdwB4AHkAegB7AHwAfQB+AH8AgACBAIIAgwCEAIUAhgCHAIgAiQCKAIsAjACNAI4AjwCQAJEAkgCTAJQAlQCWAJcAmACZAJoAmwCcAJ0AngCfAKAAoQCiAKMApAClAKYApwCoAKkAqgCrAKwArQCuAK8AsACxALIAswC0ALUAtgC3ALgAuQC6ALsAvAC9AL4AvwDAAMEAwgDDAMQAxQDGAMcAyADJAMoAywDMAM0AzgDPANAA0QDSANMA1ADVANYA1wDYANkA2gDbANwA3QDeAN8A4ADhAOIA4wDkAOUA5gDnAOgA6QDqAOsA7ADtAO4A7wDwAPEA8gDzAPQA9QD2APcA+AD5APoA+wD8AP0A/gD/AAABAQECAQMBBAEFAQYBBwEIAQkBCgELAQwBDQEOAQ8BEAERARIBEwEUARUBFgEXARgBGQEaARsBHAEdAR4BHwEgASEBIgEjASQBJQEmAScBKAEpASoBKwEsAS0BLgEvATABMQEyATMBNAE1ATYBNwE4ATkBOgE7ATwBPQE+AT8BQAFBAUIBQwFEAUUBRgFHAUgBSQFKAUsBTAFNAU4BTwFQAVEBUgFTAVQBVQFWAVcBWAFZAVoBWwFcAV0BXgFfAWABYQFiAWMBZAFlAWYBZwFoAWkBagFrAWwBbQFuAW8BcAFxAXIBcwF0AXUBdgF3AXgBeQF6AXsBfAF9AX4BfwGAAYEBggGDAYQBhQGGAYcBiAGJAYoBiwGMAY0BjgGPAZABkQGSAZMBlAGVAZYBlwGYAZkBmgGbAZwBnQGeAZ8BoAGhAaIBowGkAaUBpgGnAagBqQGqAasBrAGtAa4BrwGwAbEBsgGzAbQBtQG2AbcBuAG5AboBuwG8Ab0BvgG/AcABwQHCAcMBxAHFAcYBxwHIAckBygHLAcwBzQHOAc8B0AHRAdIB0wHUAdUB1gHXAdgB2QHaAdsB3AHdAd4B3wHgAeEB4gHjAeQB5QHmAecB6AHpAeoB6wHsAe0B7gHvAfAB8QHyAfMB9AH1AfYB9wH4AfkB+gH7AfwB/QH+AQ==",
          "dtype": "u2"
         },
         "xaxis": "x5",
         "y": {
          "bdata": "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",
          "dtype": "f4"
         },
         "yaxis": "y5"
        },
        {
         "hoverinfo": "skip",
         "legendgroup": "SRP(E,16)",
         "line": {
          "color": "#EF553B"
         },
         "mode": "lines",
         "name": "SRP(E,16)",
         "showlegend": false,
         "type": "scatter",
         "x": {
          "bdata": "CAAJAAoACwAMAA0ADgAPABAAEQASABMAFAAVABYAFwAYABkAGgAbABwAHQAeAB8AIAAhACIAIwAkACUAJgAnACgAKQAqACsALAAtAC4ALwAwADEAMgAzADQANQA2ADcAOAA5ADoAOwA8AD0APgA/AEAAQQBCAEMARABFAEYARwBIAEkASgBLAEwATQBOAE8AUABRAFIAUwBUAFUAVgBXAFgAWQBaAFsAXABdAF4AXwBgAGEAYgBjAGQAZQBmAGcAaABpAGoAawBsAG0AbgBvAHAAcQByAHMAdAB1AHYAdwB4AHkAegB7AHwAfQB+AH8AgACBAIIAgwCEAIUAhgCHAIgAiQCKAIsAjACNAI4AjwCQAJEAkgCTAJQAlQCWAJcAmACZAJoAmwCcAJ0AngCfAKAAoQCiAKMApAClAKYApwCoAKkAqgCrAKwArQCuAK8AsACxALIAswC0ALUAtgC3ALgAuQC6ALsAvAC9AL4AvwDAAMEAwgDDAMQAxQDGAMcAyADJAMoAywDMAM0AzgDPANAA0QDSANMA1ADVANYA1wDYANkA2gDbANwA3QDeAN8A4ADhAOIA4wDkAOUA5gDnAOgA6QDqAOsA7ADtAO4A7wDwAPEA8gDzAPQA9QD2APcA+AD5APoA+wD8AP0A/gD/AAABAQECAQMBBAEFAQYBBwEIAQkBCgELAQwBDQEOAQ8BEAERARIBEwEUARUBFgEXARgBGQEaARsBHAEdAR4BHwEgASEBIgEjASQBJQEmAScBKAEpASoBKwEsAS0BLgEvATABMQEyATMBNAE1ATYBNwE4ATkBOgE7ATwBPQE+AT8BQAFBAUIBQwFEAUUBRgFHAUgBSQFKAUsBTAFNAU4BTwFQAVEBUgFTAVQBVQFWAVcBWAFZAVoBWwFcAV0BXgFfAWABYQFiAWMBZAFlAWYBZwFoAWkBagFrAWwBbQFuAW8BcAFxAXIBcwF0AXUBdgF3AXgBeQF6AXsBfAF9AX4BfwGAAYEBggGDAYQBhQGGAYcBiAGJAYoBiwGMAY0BjgGPAZABkQGSAZMBlAGVAZYBlwGYAZkBmgGbAZwBnQGeAZ8BoAGhAaIBowGkAaUBpgGnAagBqQGqAasBrAGtAa4BrwGwAbEBsgGzAbQBtQG2AbcBuAG5AboBuwG8Ab0BvgG/AcABwQHCAcMBxAHFAcYBxwHIAckBygHLAcwBzQHOAc8B0AHRAdIB0wHUAdUB1gHXAdgB2QHaAdsB3AHdAd4B3wHgAeEB4gHjAeQB5QHmAecB6AHpAeoB6wHsAe0B7gHvAfAB8QHyAfMB9AH1AfYB9wH4AQ==",
          "dtype": "u2"
         },
         "xaxis": "x5",
         "y": {
          "bdata": "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",
          "dtype": "f4"
         },
         "yaxis": "y5"
        },
        {
         "hoverinfo": "skip",
         "legendgroup": "SRP(E,64)",
         "line": {
          "color": "#00CC96"
         },
         "mode": "lines",
         "name": "SRP(E,64)",
         "showlegend": false,
         "type": "scatter",
         "x": {
          "bdata": "IAAhACIAIwAkACUAJgAnACgAKQAqACsALAAtAC4ALwAwADEAMgAzADQANQA2ADcAOAA5ADoAOwA8AD0APgA/AEAAQQBCAEMARABFAEYARwBIAEkASgBLAEwATQBOAE8AUABRAFIAUwBUAFUAVgBXAFgAWQBaAFsAXABdAF4AXwBgAGEAYgBjAGQAZQBmAGcAaABpAGoAawBsAG0AbgBvAHAAcQByAHMAdAB1AHYAdwB4AHkAegB7AHwAfQB+AH8AgACBAIIAgwCEAIUAhgCHAIgAiQCKAIsAjACNAI4AjwCQAJEAkgCTAJQAlQCWAJcAmACZAJoAmwCcAJ0AngCfAKAAoQCiAKMApAClAKYApwCoAKkAqgCrAKwArQCuAK8AsACxALIAswC0ALUAtgC3ALgAuQC6ALsAvAC9AL4AvwDAAMEAwgDDAMQAxQDGAMcAyADJAMoAywDMAM0AzgDPANAA0QDSANMA1ADVANYA1wDYANkA2gDbANwA3QDeAN8A4ADhAOIA4wDkAOUA5gDnAOgA6QDqAOsA7ADtAO4A7wDwAPEA8gDzAPQA9QD2APcA+AD5APoA+wD8AP0A/gD/AAABAQECAQMBBAEFAQYBBwEIAQkBCgELAQwBDQEOAQ8BEAERARIBEwEUARUBFgEXARgBGQEaARsBHAEdAR4BHwEgASEBIgEjASQBJQEmAScBKAEpASoBKwEsAS0BLgEvATABMQEyATMBNAE1ATYBNwE4ATkBOgE7ATwBPQE+AT8BQAFBAUIBQwFEAUUBRgFHAUgBSQFKAUsBTAFNAU4BTwFQAVEBUgFTAVQBVQFWAVcBWAFZAVoBWwFcAV0BXgFfAWABYQFiAWMBZAFlAWYBZwFoAWkBagFrAWwBbQFuAW8BcAFxAXIBcwF0AXUBdgF3AXgBeQF6AXsBfAF9AX4BfwGAAYEBggGDAYQBhQGGAYcBiAGJAYoBiwGMAY0BjgGPAZABkQGSAZMBlAGVAZYBlwGYAZkBmgGbAZwBnQGeAZ8BoAGhAaIBowGkAaUBpgGnAagBqQGqAasBrAGtAa4BrwGwAbEBsgGzAbQBtQG2AbcBuAG5AboBuwG8Ab0BvgG/AcABwQHCAcMBxAHFAcYBxwHIAckBygHLAcwBzQHOAc8B0AHRAdIB0wHUAdUB1gHXAdgB2QHaAdsB3AHdAd4B3wHgAQ==",
          "dtype": "u2"
         },
         "xaxis": "x5",
         "y": {
          "bdata": "M5vpPgMF7D5Lvew+0SrtPo517T5DtO0+mePtPl4J7j6aKe4+xUHuPoBV7j5MaO4+QnjuPvaD7j72je4+qpXuPoCc7j7joO4+D6buPjar7j5urO4+iq/uPm6y7j4ztO4+gLruPiK+7j4+xO4+2cjuPpLN7j5D0O4+2c3uPnPN7j4Jy+4+QczuPovM7j7Oy+4+vM3uPunL7j5Sz+4+Ic/uPmfU7j5K0O4+W8vuPgDH7j5Bxu4+AsXuPiHD7j4hv+4+lLzuPtG87j6uvu4+JrvuPtm67j4yvu4+IMDuPmnA7j7Rvu4+zcLuPt3F7j4txe4+U8PuPsHC7j7fxu4+BsjuPuTH7j7uzO4+SM7uPgvR7j590O4+CM3uPtTL7j47ze4+acvuPoDJ7j7iyO4+P8buPoPE7j77xO4+bcXuPlDC7j5xv+4+CsDuPje/7j5Dvu4+zb3uPnu87j5Dve4+HbzuPhq47j49te4+zbDuPv6r7j77qu4+zqjuPtuq7j5vqu4+R6zuPpSs7j4+q+4+RqvuPk6n7j7eqe4+RKzuPmyt7j7NrO4+fqzuPh2q7j7lq+4+z6vuPmyq7j48qu4+fajuPquk7j5aou4+4KDuPoSf7j5qnO4+XJnuPkeZ7j4Zl+4+/pLuPt6O7j7jju4+zY7uPomM7j67je4+047uPuCT7j6dl+4++JruPhWe7j7dne4+vp/uPlGg7j55oO4+tqHuPuej7j5xpe4+cKjuPpap7j4Wq+4+uqruPqOp7j4Oq+4+/KnuPrSo7j6Wpu4+eaTuPpWk7j4Apu4+8qLuPsOe7j6Tmu4+EZzuPhOg7j4upO4+96XuPkKn7j5upO4+/qDuPq+f7j5loe4+e6HuPoOi7j5bpu4+Q6buPpyj7j5Lnu4+HZruPuKV7j4klO4+opLuPteS7j5OkO4+6I7uPjSL7j7Hiu4+aYnuPluK7j5Jiu4+yIvuPkWQ7j7Ciu4+H4juPgWL7j4si+4+u4/uPnCV7j5jme4+mZruPkmb7j6vme4+gJvuPnyc7j4bn+4+0qHuPmij7j6Lpu4+Z6fuPu6m7j7Rpu4+K6buPqWm7j5xqe4+yq7uPiGy7j4xtO4+wrTuPvi07j65tu4+l7buPsi47j4Que4+CbnuPn267j7Ru+4+Lb/uPhvB7j4Kw+4+wMPuPqnF7j5Bx+4+a8ruPrTN7j7Pz+4+/tDuPubT7j4e1O4+m9DuPgbM7j42ye4+hMXuPr3B7j5fw+4+mMXuPrLG7j5Twu4+eMHuPinC7j42we4+iL3uPsO97j5rvu4+mcDuPnzB7j7Hvu4+9cDuPgvH7j54ye4+V8zuPpnJ7j7vwe4+AbzuPgG67j7nuu4+9bruPpO77j5ju+4+Z7zuPnu97j5gue4+WLnuPoW07j4Ar+4+Na7uPt6q7j5/qO4+CKbuPtii7j66o+4+JaPuPrGd7j7qmu4+upfuPmCX7j69k+4+tZHuPtKP7j4Cke4+1pLuPsGS7j4MlO4++pLuPs6R7j7xkO4+2o/uPheP7j73ju4+gY3uPkmL7j42jO4+YIvuPgiN7j7Mje4+g43uPviQ7j4Mj+4+BYruPmaG7j5Dgu4+EoDuPhWA7j4qge4+BobuPoSM7j4gkO4+PpTuPvmT7j7fke4+5pHuPu+Q7j4nje4+743uPraJ7j67iO4+qIvuPtaO7j50ke4+ZI7uPuKM7j4Jje4+w4zuPmaK7j5ui+4+1YvuPimL7j74jO4+xZHuPgCQ7j5Lju4+kIruPkOF7j7Xgu4+cIDuPrZ87j49fO4+sXruPqJ47j5vdu4+VHbuPop37j4edu4++3TuPlhz7j7ob+4+s2/uPtxx7j4vc+4+5XLuPlF37j5aeO4+JXnuPrl57j6de+4+63zuPuaA7j65gO4+koDuPpGE7j5Gge4+fYPuPgqH7j4jiu4+ao3uPq6U7j4nlu4++ZXuPjST7j7kj+4+hI7uPjyM7j7CjO4+vI/uPmaR7j5xk+4+ZJnuPjqd7j4Pnu4+YZ/uPj+h7j5no+4+CqbuPlmr7j4Tre4+l7DuPmKu7j4RsO4+2qzuPoyt7j7Vqe4+UqfuPjql7j79oe4+AKHuPlqj7j7Kp+4+9anuPrar7j5erO4+76nuPt2o7j7Jp+4+VqXuPiuk7j6LoO4+QaHuPr2f7j6On+4+zKHuPruh7j4ro+4+jqTuPtal7j6TpO4+NKTuPmmk7j6fpu4+J6XuPquk7j6eo+4+t6DuPu2e7j7lmu4+VpzuPm2c7j4ymu4+Y5fuPrCW7j6+le4+j5TuPpmS7j7wkO4+5Y/uPp+O7j7HjO4+7IruPk+N7j4pju4+l43uPuuM7j79iu4+M4vuPjeN7j6Qju4+QYvuPnOG7j7fhe4++IbuPpmI7j4=",
          "dtype": "f4"
         },
         "yaxis": "y5"
        },
        {
         "hoverinfo": "skip",
         "legendgroup": "SRP(E,256)",
         "line": {
          "color": "#AB63FA"
         },
         "mode": "lines",
         "name": "SRP(E,256)",
         "showlegend": false,
         "type": "scatter",
         "x": {
          "bdata": "gACBAIIAgwCEAIUAhgCHAIgAiQCKAIsAjACNAI4AjwCQAJEAkgCTAJQAlQCWAJcAmACZAJoAmwCcAJ0AngCfAKAAoQCiAKMApAClAKYApwCoAKkAqgCrAKwArQCuAK8AsACxALIAswC0ALUAtgC3ALgAuQC6ALsAvAC9AL4AvwDAAMEAwgDDAMQAxQDGAMcAyADJAMoAywDMAM0AzgDPANAA0QDSANMA1ADVANYA1wDYANkA2gDbANwA3QDeAN8A4ADhAOIA4wDkAOUA5gDnAOgA6QDqAOsA7ADtAO4A7wDwAPEA8gDzAPQA9QD2APcA+AD5APoA+wD8AP0A/gD/AAABAQECAQMBBAEFAQYBBwEIAQkBCgELAQwBDQEOAQ8BEAERARIBEwEUARUBFgEXARgBGQEaARsBHAEdAR4BHwEgASEBIgEjASQBJQEmAScBKAEpASoBKwEsAS0BLgEvATABMQEyATMBNAE1ATYBNwE4ATkBOgE7ATwBPQE+AT8BQAFBAUIBQwFEAUUBRgFHAUgBSQFKAUsBTAFNAU4BTwFQAVEBUgFTAVQBVQFWAVcBWAFZAVoBWwFcAV0BXgFfAWABYQFiAWMBZAFlAWYBZwFoAWkBagFrAWwBbQFuAW8BcAFxAXIBcwF0AXUBdgF3AXgBeQF6AXsBfAF9AX4BfwGAAQ==",
          "dtype": "u2"
         },
         "xaxis": "x5",
         "y": {
          "bdata": "3L3ePoRY3z4fit8+mqjfPjy+3z6dz98+Dt3fPuro3z7C8t8+OfvfPlAD4D5HCuA+DBHgPjMW4D7HGuA+/x7gPhQh4D5RJOA+GSfgPnEq4D6LLOA+Iy/gPtQw4D7nMeA+bjPgPi004D5fNeA+bDbgPiI44D5POeA+BjrgPig74D4SPOA+FD7gPgg/4D5dP+A+ikDgPpFA4D4cQeA+REHgPh9C4D6yQuA+fkPgPlBE4D4OROA+OkTgPq1E4D5lROA+NUTgPuVE4D7/ROA+xETgPjdF4D4JReA+GUXgPj9F4D5iReA+5EbgPnZH4D4iR+A++kXgPqtF4D5tRuA+d0bgPp5G4D5qR+A+IEjgPghJ4D58SeA+20jgPvdH4D6VR+A+a0fgPj5H4D5TR+A+j0fgPtJH4D44SOA+gUjgPmtI4D7tR+A+9EfgPlJH4D5XRuA+6kXgPmFF4D5xReA+PkXgPkhE4D4HROA+NkPgPgtC4D6tQeA+hkHgPppB4D5vQeA+NEHgPmhA4D7WP+A+PT/gPlE+4D56PuA+Tj7gPk4+4D6MPOA+NzvgPtM54D5IOeA+HDjgPjo34D56NuA+AjbgPl014D7qNOA+YzTgPgIz4D7AMeA+rTDgPpEv4D6XLuA+Oi7gPgEu4D7eLeA+Ny7gPjsu4D6pLuA+0i3gPtgt4D6iLeA+nS3gPhst4D4CLeA+5CzgPtAs4D6XLOA+IizgPsIr4D66K+A+PyvgPrkq4D4EKuA+TingPoEo4D6zKOA+SijgPlQn4D5PJuA+pybgPlIn4D5CJ+A+DifgPtUm4D7oJeA+dibgPvMm4D4lJ+A+SifgPrEn4D4QJ+A+SibgPlkl4D4SJeA+bCTgPsAj4D7zI+A+CiPgPuQi4D5EIuA+LSHgPuQg4D4TIeA+eyHgPkUh4D6LIOA+LiDgPhEg4D7YH+A+UR/gPncf4D6RH+A+mR/gPrIf4D4GH+A+dx/gPhwh4D7TIOA+FiHgPgMh4D69IeA+riHgPoEh4D6mIOA+ESDgPpYe4D49HuA+aB3gPvkc4D5dHOA+/BvgPuAa4D6KGuA+GRrgPvsZ4D46GuA+5RngPrAa4D43GuA+UxngPvAY4D7WF+A+YxfgPg4Y4D5AF+A+khbgPlEW4D4kF+A+TxjgPhoZ4D4ZGuA+QBrgPiYa4D5CGuA+rRrgPvYa4D4LHOA+yRvgPj4c4D50HOA+zxvgPmUb4D4bG+A+nBvgPj4b4D5BG+A+LhvgPmsb4D4aG+A+5RrgPu8Z4D5zGeA+YRngPnwZ4D64GeA+hBngPhca4D5GGuA+AxvgPnMc4D7BHOA+yRzgPnAc4D60G+A+JBvgPtUZ4D6kGeA+8BngPogZ4D4=",
          "dtype": "f4"
         },
         "yaxis": "y5"
        },
        {
         "hoverinfo": "skip",
         "legendgroup": "SRP(E,4)",
         "line": {
          "color": "#636EFA"
         },
         "mode": "lines",
         "name": "SRP(E,4)",
         "showlegend": false,
         "type": "scatter",
         "x": {
          "bdata": "AgADAAQABQAGAAcACAAJAAoACwAMAA0ADgAPABAAEQASABMAFAAVABYAFwAYABkAGgAbABwAHQAeAB8AIAAhACIAIwAkACUAJgAnACgAKQAqACsALAAtAC4ALwAwADEAMgAzADQANQA2ADcAOAA5ADoAOwA8AD0APgA/AEAAQQBCAEMARABFAEYARwBIAEkASgBLAEwATQBOAE8AUABRAFIAUwBUAFUAVgBXAFgAWQBaAFsAXABdAF4AXwBgAGEAYgBjAGQAZQBmAGcAaABpAGoAawBsAG0AbgBvAHAAcQByAHMAdAB1AHYAdwB4AHkAegB7AHwAfQB+AH8AgACBAIIAgwCEAIUAhgCHAIgAiQCKAIsAjACNAI4AjwCQAJEAkgCTAJQAlQCWAJcAmACZAJoAmwCcAJ0AngCfAKAAoQCiAKMApAClAKYApwCoAKkAqgCrAKwArQCuAK8AsACxALIAswC0ALUAtgC3ALgAuQC6ALsAvAC9AL4AvwDAAMEAwgDDAMQAxQDGAMcAyADJAMoAywDMAM0AzgDPANAA0QDSANMA1ADVANYA1wDYANkA2gDbANwA3QDeAN8A4ADhAOIA4wDkAOUA5gDnAOgA6QDqAOsA7ADtAO4A7wDwAPEA8gDzAPQA9QD2APcA+AD5APoA+wD8AP0A/gD/AAABAQECAQMBBAEFAQYBBwEIAQkBCgELAQwBDQEOAQ8BEAERARIBEwEUARUBFgEXARgBGQEaARsBHAEdAR4BHwEgASEBIgEjASQBJQEmAScBKAEpASoBKwEsAS0BLgEvATABMQEyATMBNAE1ATYBNwE4ATkBOgE7ATwBPQE+AT8BQAFBAUIBQwFEAUUBRgFHAUgBSQFKAUsBTAFNAU4BTwFQAVEBUgFTAVQBVQFWAVcBWAFZAVoBWwFcAV0BXgFfAWABYQFiAWMBZAFlAWYBZwFoAWkBagFrAWwBbQFuAW8BcAFxAXIBcwF0AXUBdgF3AXgBeQF6AXsBfAF9AX4BfwGAAYEBggGDAYQBhQGGAYcBiAGJAYoBiwGMAY0BjgGPAZABkQGSAZMBlAGVAZYBlwGYAZkBmgGbAZwBnQGeAZ8BoAGhAaIBowGkAaUBpgGnAagBqQGqAasBrAGtAa4BrwGwAbEBsgGzAbQBtQG2AbcBuAG5AboBuwG8Ab0BvgG/AcABwQHCAcMBxAHFAcYBxwHIAckBygHLAcwBzQHOAc8B0AHRAdIB0wHUAdUB1gHXAdgB2QHaAdsB3AHdAd4B3wHgAeEB4gHjAeQB5QHmAecB6AHpAeoB6wHsAe0B7gHvAfAB8QHyAfMB9AH1AfYB9wH4AfkB+gH7AfwB/QH+AQ==",
          "dtype": "u2"
         },
         "xaxis": "x6",
         "y": {
          "bdata": "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",
          "dtype": "f4"
         },
         "yaxis": "y6"
        },
        {
         "hoverinfo": "skip",
         "legendgroup": "SRP(E,16)",
         "line": {
          "color": "#EF553B"
         },
         "mode": "lines",
         "name": "SRP(E,16)",
         "showlegend": false,
         "type": "scatter",
         "x": {
          "bdata": "CAAJAAoACwAMAA0ADgAPABAAEQASABMAFAAVABYAFwAYABkAGgAbABwAHQAeAB8AIAAhACIAIwAkACUAJgAnACgAKQAqACsALAAtAC4ALwAwADEAMgAzADQANQA2ADcAOAA5ADoAOwA8AD0APgA/AEAAQQBCAEMARABFAEYARwBIAEkASgBLAEwATQBOAE8AUABRAFIAUwBUAFUAVgBXAFgAWQBaAFsAXABdAF4AXwBgAGEAYgBjAGQAZQBmAGcAaABpAGoAawBsAG0AbgBvAHAAcQByAHMAdAB1AHYAdwB4AHkAegB7AHwAfQB+AH8AgACBAIIAgwCEAIUAhgCHAIgAiQCKAIsAjACNAI4AjwCQAJEAkgCTAJQAlQCWAJcAmACZAJoAmwCcAJ0AngCfAKAAoQCiAKMApAClAKYApwCoAKkAqgCrAKwArQCuAK8AsACxALIAswC0ALUAtgC3ALgAuQC6ALsAvAC9AL4AvwDAAMEAwgDDAMQAxQDGAMcAyADJAMoAywDMAM0AzgDPANAA0QDSANMA1ADVANYA1wDYANkA2gDbANwA3QDeAN8A4ADhAOIA4wDkAOUA5gDnAOgA6QDqAOsA7ADtAO4A7wDwAPEA8gDzAPQA9QD2APcA+AD5APoA+wD8AP0A/gD/AAABAQECAQMBBAEFAQYBBwEIAQkBCgELAQwBDQEOAQ8BEAERARIBEwEUARUBFgEXARgBGQEaARsBHAEdAR4BHwEgASEBIgEjASQBJQEmAScBKAEpASoBKwEsAS0BLgEvATABMQEyATMBNAE1ATYBNwE4ATkBOgE7ATwBPQE+AT8BQAFBAUIBQwFEAUUBRgFHAUgBSQFKAUsBTAFNAU4BTwFQAVEBUgFTAVQBVQFWAVcBWAFZAVoBWwFcAV0BXgFfAWABYQFiAWMBZAFlAWYBZwFoAWkBagFrAWwBbQFuAW8BcAFxAXIBcwF0AXUBdgF3AXgBeQF6AXsBfAF9AX4BfwGAAYEBggGDAYQBhQGGAYcBiAGJAYoBiwGMAY0BjgGPAZABkQGSAZMBlAGVAZYBlwGYAZkBmgGbAZwBnQGeAZ8BoAGhAaIBowGkAaUBpgGnAagBqQGqAasBrAGtAa4BrwGwAbEBsgGzAbQBtQG2AbcBuAG5AboBuwG8Ab0BvgG/AcABwQHCAcMBxAHFAcYBxwHIAckBygHLAcwBzQHOAc8B0AHRAdIB0wHUAdUB1gHXAdgB2QHaAdsB3AHdAd4B3wHgAeEB4gHjAeQB5QHmAecB6AHpAeoB6wHsAe0B7gHvAfAB8QHyAfMB9AH1AfYB9wH4AQ==",
          "dtype": "u2"
         },
         "xaxis": "x6",
         "y": {
          "bdata": "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",
          "dtype": "f4"
         },
         "yaxis": "y6"
        },
        {
         "hoverinfo": "skip",
         "legendgroup": "SRP(E,64)",
         "line": {
          "color": "#00CC96"
         },
         "mode": "lines",
         "name": "SRP(E,64)",
         "showlegend": false,
         "type": "scatter",
         "x": {
          "bdata": "IAAhACIAIwAkACUAJgAnACgAKQAqACsALAAtAC4ALwAwADEAMgAzADQANQA2ADcAOAA5ADoAOwA8AD0APgA/AEAAQQBCAEMARABFAEYARwBIAEkASgBLAEwATQBOAE8AUABRAFIAUwBUAFUAVgBXAFgAWQBaAFsAXABdAF4AXwBgAGEAYgBjAGQAZQBmAGcAaABpAGoAawBsAG0AbgBvAHAAcQByAHMAdAB1AHYAdwB4AHkAegB7AHwAfQB+AH8AgACBAIIAgwCEAIUAhgCHAIgAiQCKAIsAjACNAI4AjwCQAJEAkgCTAJQAlQCWAJcAmACZAJoAmwCcAJ0AngCfAKAAoQCiAKMApAClAKYApwCoAKkAqgCrAKwArQCuAK8AsACxALIAswC0ALUAtgC3ALgAuQC6ALsAvAC9AL4AvwDAAMEAwgDDAMQAxQDGAMcAyADJAMoAywDMAM0AzgDPANAA0QDSANMA1ADVANYA1wDYANkA2gDbANwA3QDeAN8A4ADhAOIA4wDkAOUA5gDnAOgA6QDqAOsA7ADtAO4A7wDwAPEA8gDzAPQA9QD2APcA+AD5APoA+wD8AP0A/gD/AAABAQECAQMBBAEFAQYBBwEIAQkBCgELAQwBDQEOAQ8BEAERARIBEwEUARUBFgEXARgBGQEaARsBHAEdAR4BHwEgASEBIgEjASQBJQEmAScBKAEpASoBKwEsAS0BLgEvATABMQEyATMBNAE1ATYBNwE4ATkBOgE7ATwBPQE+AT8BQAFBAUIBQwFEAUUBRgFHAUgBSQFKAUsBTAFNAU4BTwFQAVEBUgFTAVQBVQFWAVcBWAFZAVoBWwFcAV0BXgFfAWABYQFiAWMBZAFlAWYBZwFoAWkBagFrAWwBbQFuAW8BcAFxAXIBcwF0AXUBdgF3AXgBeQF6AXsBfAF9AX4BfwGAAYEBggGDAYQBhQGGAYcBiAGJAYoBiwGMAY0BjgGPAZABkQGSAZMBlAGVAZYBlwGYAZkBmgGbAZwBnQGeAZ8BoAGhAaIBowGkAaUBpgGnAagBqQGqAasBrAGtAa4BrwGwAbEBsgGzAbQBtQG2AbcBuAG5AboBuwG8Ab0BvgG/AcABwQHCAcMBxAHFAcYBxwHIAckBygHLAcwBzQHOAc8B0AHRAdIB0wHUAdUB1gHXAdgB2QHaAdsB3AHdAd4B3wHgAQ==",
          "dtype": "u2"
         },
         "xaxis": "x6",
         "y": {
          "bdata": "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",
          "dtype": "f4"
         },
         "yaxis": "y6"
        },
        {
         "hoverinfo": "skip",
         "legendgroup": "SRP(E,256)",
         "line": {
          "color": "#AB63FA"
         },
         "mode": "lines",
         "name": "SRP(E,256)",
         "showlegend": false,
         "type": "scatter",
         "x": {
          "bdata": "gACBAIIAgwCEAIUAhgCHAIgAiQCKAIsAjACNAI4AjwCQAJEAkgCTAJQAlQCWAJcAmACZAJoAmwCcAJ0AngCfAKAAoQCiAKMApAClAKYApwCoAKkAqgCrAKwArQCuAK8AsACxALIAswC0ALUAtgC3ALgAuQC6ALsAvAC9AL4AvwDAAMEAwgDDAMQAxQDGAMcAyADJAMoAywDMAM0AzgDPANAA0QDSANMA1ADVANYA1wDYANkA2gDbANwA3QDeAN8A4ADhAOIA4wDkAOUA5gDnAOgA6QDqAOsA7ADtAO4A7wDwAPEA8gDzAPQA9QD2APcA+AD5APoA+wD8AP0A/gD/AAABAQECAQMBBAEFAQYBBwEIAQkBCgELAQwBDQEOAQ8BEAERARIBEwEUARUBFgEXARgBGQEaARsBHAEdAR4BHwEgASEBIgEjASQBJQEmAScBKAEpASoBKwEsAS0BLgEvATABMQEyATMBNAE1ATYBNwE4ATkBOgE7ATwBPQE+AT8BQAFBAUIBQwFEAUUBRgFHAUgBSQFKAUsBTAFNAU4BTwFQAVEBUgFTAVQBVQFWAVcBWAFZAVoBWwFcAV0BXgFfAWABYQFiAWMBZAFlAWYBZwFoAWkBagFrAWwBbQFuAW8BcAFxAXIBcwF0AXUBdgF3AXgBeQF6AXsBfAF9AX4BfwGAAQ==",
          "dtype": "u2"
         },
         "xaxis": "x6",
         "y": {
          "bdata": "cbvcPvsY3T4HL90+KzndPhU93T5nPd0+bTvdPgA43T7TMt0+MS3dPhwn3T5pIN0+EhjdPksP3T5mBt0+Yf3cPqH03D5g69w+wuHcPh/Y3D6bztw+K8TcPi263D5XsNw+kqXcPlqb3D7jkdw+xofcPpt93D6Kc9w+lGncPgxg3D5NVtw+30zcPsRD3D52Otw+yzHcPq4o3D7WHtw+qhXcPlUM3D5VA9w+1/nbPubw2z7m59s+S9/bPiTW2z5Ozds+nMTbPvy72z7ests+9arbPnii2z4rmts+RJLbPquK2z66gts+CHvbPgV02z6pbNs+NmTbPs5b2z5eU9s+i0vbPqVE2z6uPds+JjfbPlow2z4LKts+1SLbPiMc2z5jFds+oQ7bPj0I2z6aAds+U/vaPh302j4V7to+TejaPovh2j6229o+DtbaPv7P2j4Myto+FcTaPvq92j66t9o+O7HaPl+r2j7Ypdo+3J/aPpqa2j6kldo+XpDaPt6L2j6ehto++IHaPup82j5Rd9o+lXHaPr5s2j6/Zto+AWHaPihc2j7mV9o+O1PaPmpO2j4iSto+h0XaPupB2j5RPto+yznaPpg12j48Mdo+pizaPmAo2j6XI9o+lR/aPl8b2j42F9o+IxPaPtEO2j5fCto+ZwXaPjcB2j4f/dk+CPnZPh/12T428dk+ze3ZPgTq2T5D5tk+oeLZPr3e2T4t29k+pNfZPl3U2T5Q0dk+Y87ZPgLL2T5byNk+ScXZPtDB2T46vtk+nrvZPuK42T6Jttk+7rLZPuOu2T75q9k+lqjZPv2l2T6Xo9k+lKDZPnGd2T6rmtk+opfZPtuU2T4xkdk+NI7ZPkKL2T5AiNk+XYXZPuWC2T5ngNk+An7ZPqh62T71dtk+JnTZPgdy2T5mbtk+VWvZPodn2T47Y9k+Nl/ZPn9b2T5dWNk+dVXZPsJS2T4+UNk+CE3ZPh5K2T7oRtk+gETZPkpC2T4CQNk+vD3ZPg082T6rOtk+vzjZPjQ22T7mM9k+eDHZPhEv2T6aLdk+ZCvZPuYo2T5vJdk+IyLZPmQf2T7HHNk+ExvZPhEZ2T5aFtk+ahPZPqMR2T7PDtk+GwzZPhEK2T6TCNk+kAbZPhkE2T4SAtk+JQDZPsr92D5P+9g+PPjYPpb12D4l89g+VPDYPmbu2D4x7Ng+5unYPsTn2D695dg+VePYPvDg2D4439g+SN7YPjnd2D7Q29g+rNnYPkTX2D6L1dg+BtTYPkrS2D680Ng+as/YPpbN2D4NzNg+ysrYPj7J2D5xx9g+JsbYPo/E2D67wtg+qcDYPv++2D5zvNg+yrrYPvC52D5oudg+jLjYPgS42D69t9g+a7fYPmS22D4=",
          "dtype": "f4"
         },
         "yaxis": "y6"
        },
        {
         "hoverinfo": "skip",
         "legendgroup": "SRP(E,4)",
         "line": {
          "color": "#636EFA"
         },
         "mode": "lines",
         "name": "SRP(E,4)",
         "showlegend": false,
         "type": "scatter",
         "x": {
          "bdata": "AgADAAQABQAGAAcACAAJAAoACwAMAA0ADgAPABAAEQASABMAFAAVABYAFwAYABkAGgAbABwAHQAeAB8AIAAhACIAIwAkACUAJgAnACgAKQAqACsALAAtAC4ALwAwADEAMgAzADQANQA2ADcAOAA5ADoAOwA8AD0APgA/AEAAQQBCAEMARABFAEYARwBIAEkASgBLAEwATQBOAE8AUABRAFIAUwBUAFUAVgBXAFgAWQBaAFsAXABdAF4AXwBgAGEAYgBjAGQAZQBmAGcAaABpAGoAawBsAG0AbgBvAHAAcQByAHMAdAB1AHYAdwB4AHkAegB7AHwAfQB+AH8AgACBAIIAgwCEAIUAhgCHAIgAiQCKAIsAjACNAI4AjwCQAJEAkgCTAJQAlQCWAJcAmACZAJoAmwCcAJ0AngCfAKAAoQCiAKMApAClAKYApwCoAKkAqgCrAKwArQCuAK8AsACxALIAswC0ALUAtgC3ALgAuQC6ALsAvAC9AL4AvwDAAMEAwgDDAMQAxQDGAMcAyADJAMoAywDMAM0AzgDPANAA0QDSANMA1ADVANYA1wDYANkA2gDbANwA3QDeAN8A4ADhAOIA4wDkAOUA5gDnAOgA6QDqAOsA7ADtAO4A7wDwAPEA8gDzAPQA9QD2APcA+AD5APoA+wD8AP0A/gD/AAABAQECAQMBBAEFAQYBBwEIAQkBCgELAQwBDQEOAQ8BEAERARIBEwEUARUBFgEXARgBGQEaARsBHAEdAR4BHwEgASEBIgEjASQBJQEmAScBKAEpASoBKwEsAS0BLgEvATABMQEyATMBNAE1ATYBNwE4ATkBOgE7ATwBPQE+AT8BQAFBAUIBQwFEAUUBRgFHAUgBSQFKAUsBTAFNAU4BTwFQAVEBUgFTAVQBVQFWAVcBWAFZAVoBWwFcAV0BXgFfAWABYQFiAWMBZAFlAWYBZwFoAWkBagFrAWwBbQFuAW8BcAFxAXIBcwF0AXUBdgF3AXgBeQF6AXsBfAF9AX4BfwGAAYEBggGDAYQBhQGGAYcBiAGJAYoBiwGMAY0BjgGPAZABkQGSAZMBlAGVAZYBlwGYAZkBmgGbAZwBnQGeAZ8BoAGhAaIBowGkAaUBpgGnAagBqQGqAasBrAGtAa4BrwGwAbEBsgGzAbQBtQG2AbcBuAG5AboBuwG8Ab0BvgG/AcABwQHCAcMBxAHFAcYBxwHIAckBygHLAcwBzQHOAc8B0AHRAdIB0wHUAdUB1gHXAdgB2QHaAdsB3AHdAd4B3wHgAeEB4gHjAeQB5QHmAecB6AHpAeoB6wHsAe0B7gHvAfAB8QHyAfMB9AH1AfYB9wH4AfkB+gH7AfwB/QH+AQ==",
          "dtype": "u2"
         },
         "xaxis": "x7",
         "y": {
          "bdata": "I7UNPyz8Hz9TgiI/uF4jP1TeIz/eOCQ/RW8kPzaJJD/TfCQ/sYQkPzS5JD9M3yQ/xP4kP0HeJD/HvyQ/9pEkP+N0JD/GeiQ/yXQkP9CtJD8rmyQ/foQkP5ZwJD+YYyQ/yFAkPzZfJD8bViQ/KzkkPy1hJD+QYyQ/t08kP3w7JD9cJCQ/TCkkPygUJD+KNCQ/khQkPx01JD8vPCQ/QywkP+8TJD+jCCQ/VBAkP/IhJD/MLyQ/sB8kP8pAJD+eKiQ/FBEkPysMJD+CEiQ/bBUkP8oOJD8a/CM/9SckP2AhJD9OASQ/Gd0jP9HyIz/THCQ/bP0jP83jIz8h0iM/Cc8jP9CsIz+HzyM/wecjP3jVIz/1xyM/G6IjP+SjIz8kzyM//d8jP6rXIz/OxyM/2LcjP0a3Iz8ZlyM/hZcjP66YIz8gmyM/TJ8jPzxtIz90fCM/ApMjP76tIz+mziM/B+0jP7ibIz8IoSM/Fn0jPy5uIz9jgCM/AbQjP0q4Iz9uoCM/p4kjP1JyIz+PcyM/02cjP1VjIz+AaSM/JmAjPw9lIz++cCM/SIcjP52JIz9BmiM/KJsjP3WkIz/aqyM/OKYjP+mRIz9BkSM/7Y4jP16rIz8XjiM/R4cjP11fIz+DZiM/TjwjP406Iz+0UyM/HGMjP3FhIz9rXyM/myojP2tuIz/0XyM/8FgjP21AIz9tMyM/PEIjP3dQIz8KYyM/eUAjPyIyIz8BVyM/i1ojP/1IIz9BXSM/6GAjP49QIz/SQCM//EcjPxs3Iz9HPCM//1cjPwlcIz/xSyM/hiAjP8s+Iz+YNyM/v0kjPy1fIz97WSM/DTYjP/RRIz/7TCM/B00jP0s6Iz+vMyM/hTsjP8c8Iz9eQyM/digjPyAhIz/KHCM/tBwjP1hBIz+gLyM/yi8jP+BDIz8CViM/6UUjP81JIz8JbSM/q0QjP3heIz/XPiM/TzYjPyEtIz/qKCM/skEjP9ZPIz/lKSM/hSUjPxgsIz9pbSM/VWMjP9g5Iz9KPiM/T1YjP/AeIz8/ECM/kC8jP508Iz/wRiM/6FQjP4EzIz9tLCM/yCgjPxNdIz8FUiM/AzcjPxBKIz/oPCM/7ygjPxAcIz+JLCM/ZyojP0QzIz+rQyM/fE0jPxZKIz+ZNiM/xjEjP3MoIz8nMyM/KDEjP90VIz9zPyM/3k0jP2FIIz85PSM/gBMjPzIXIz/pEyM/7U8jP9lFIz84EyM/5QkjP5T3Ij/YGSM/rSAjP44jIz/GMSM/bT4jP7klIz/EJiM/sRIjPzkjIz8IOyM/DDwjP9c6Iz8+HiM/+j8jP0M/Iz9ZSCM/+WgjP2B0Iz9KWyM/EDYjP0BVIz+dXCM/zVkjP8ljIz+1WiM/I1gjP/xEIz+IKSM/JRcjP2kMIz+CGCM/QFQjPyRQIz+OQSM/GSUjP4wBIz9GMiM/iiUjP5UeIz90KCM/QCIjPxolIz+/IyM/SUYjP4Y3Iz/4JyM/+AUjP8clIz/iNCM/qz8jP1tAIz+rEiM/9BYjP10OIz+8/yI/xfYiPzr3Ij8eEiM/7QojP58bIz95IyM/bicjPyxJIz9rPSM/JGgjP7R2Iz/BYSM/ik4jP7QHIz9p7yI/1vYiP3n4Ij/r4yI/ZvgiPxz/Ij+hHyM/QjMjP10pIz/mCiM/TBgjP8z7Ij+h/yI/JgkjP/AgIz+FKCM/DygjP18kIz/6/SI/YQEjPxEeIz8oLyM/6BcjP3gOIz8iBiM/jCYjP4EMIz81DyM/yRgjP5ovIz9MJSM/Ox4jP4gXIz/gESM/PPYiPxLnIj+42iI/owkjP9QkIz/oKSM/lwMjP+YIIz/YACM/yvQiPzgZIz8jGiM/twwjP7U1Iz+XJyM/rBUjP7sPIz9n/CI/IAsjP3gZIz/j2CI/fr8iPwDLIj/RtiI/aNUiP2vjIj/K6SI/mOIiP0L4Ij8JIiM/CksjP5lHIz9RASM/se0iP9z0Ij8v/SI/EBMjP6kgIz+HHSM/UR0jP0AqIz8CGCM/lxYjP0cdIz9uGCM/qRUjP+swIz/0OyM/hA4jP9QfIz/cOCM/5zYjPy41Iz+RGyM/ORMjP0IDIz+ACSM/gfUiP5v4Ij8LCSM/Vf4iP94BIz8KCyM/vB0jP3YOIz+jJiM/gDAjP/4qIz/ZCCM/TxEjP+MqIz+7MyM/TUIjP3VKIz8+GiM/fggjP0T7Ij+zDSM/7RsjPwolIz8OGiM/wfsiP8wPIz+gDSM/hgcjPw4bIz/LBCM/IggjP50eIz/JFCM/zSojP98mIz/cFCM/pw4jP2QtIz9TOCM/hzAjP/AXIz9CDiM/uP0iP1EQIz9GAyM/hv4iP7rtIj9R7iI/JvkiP1UDIz9W9yI/zvUiP1jpIj9W3SI/jdkiP4LaIj9G5yI/4NEiPxzgIj+k1SI/vt4iP0X7Ij/pICM/yzwjP/ohIz8QJSM/rSUjPx4OIz+k3iI/+9EiPxzuIj/T7iI/2+wiPxPPIj891SI/S/giP08cIz8UFSM/EfUiPwUAIz+0FCM/dAgjP1sRIz/WBSM/ofQiPy/1Ij8mAyM/5fEiP5blIj8r6yI/HxYjP9saIz9G9iI/ut4iP0PgIj+B2SI/lvMiP5P1Ij+FGCM/6AwjP2v/Ij8WFSM/bBIjPx8PIz+p2iI/HtAiP5DXIj8J/SI/pAojP5odIz+sLCM/4RkjP6QQIz+99CI/P9AiPxzrIj8=",
          "dtype": "f4"
         },
         "yaxis": "y7"
        },
        {
         "hoverinfo": "skip",
         "legendgroup": "SRP(E,16)",
         "line": {
          "color": "#EF553B"
         },
         "mode": "lines",
         "name": "SRP(E,16)",
         "showlegend": false,
         "type": "scatter",
         "x": {
          "bdata": "CAAJAAoACwAMAA0ADgAPABAAEQASABMAFAAVABYAFwAYABkAGgAbABwAHQAeAB8AIAAhACIAIwAkACUAJgAnACgAKQAqACsALAAtAC4ALwAwADEAMgAzADQANQA2ADcAOAA5ADoAOwA8AD0APgA/AEAAQQBCAEMARABFAEYARwBIAEkASgBLAEwATQBOAE8AUABRAFIAUwBUAFUAVgBXAFgAWQBaAFsAXABdAF4AXwBgAGEAYgBjAGQAZQBmAGcAaABpAGoAawBsAG0AbgBvAHAAcQByAHMAdAB1AHYAdwB4AHkAegB7AHwAfQB+AH8AgACBAIIAgwCEAIUAhgCHAIgAiQCKAIsAjACNAI4AjwCQAJEAkgCTAJQAlQCWAJcAmACZAJoAmwCcAJ0AngCfAKAAoQCiAKMApAClAKYApwCoAKkAqgCrAKwArQCuAK8AsACxALIAswC0ALUAtgC3ALgAuQC6ALsAvAC9AL4AvwDAAMEAwgDDAMQAxQDGAMcAyADJAMoAywDMAM0AzgDPANAA0QDSANMA1ADVANYA1wDYANkA2gDbANwA3QDeAN8A4ADhAOIA4wDkAOUA5gDnAOgA6QDqAOsA7ADtAO4A7wDwAPEA8gDzAPQA9QD2APcA+AD5APoA+wD8AP0A/gD/AAABAQECAQMBBAEFAQYBBwEIAQkBCgELAQwBDQEOAQ8BEAERARIBEwEUARUBFgEXARgBGQEaARsBHAEdAR4BHwEgASEBIgEjASQBJQEmAScBKAEpASoBKwEsAS0BLgEvATABMQEyATMBNAE1ATYBNwE4ATkBOgE7ATwBPQE+AT8BQAFBAUIBQwFEAUUBRgFHAUgBSQFKAUsBTAFNAU4BTwFQAVEBUgFTAVQBVQFWAVcBWAFZAVoBWwFcAV0BXgFfAWABYQFiAWMBZAFlAWYBZwFoAWkBagFrAWwBbQFuAW8BcAFxAXIBcwF0AXUBdgF3AXgBeQF6AXsBfAF9AX4BfwGAAYEBggGDAYQBhQGGAYcBiAGJAYoBiwGMAY0BjgGPAZABkQGSAZMBlAGVAZYBlwGYAZkBmgGbAZwBnQGeAZ8BoAGhAaIBowGkAaUBpgGnAagBqQGqAasBrAGtAa4BrwGwAbEBsgGzAbQBtQG2AbcBuAG5AboBuwG8Ab0BvgG/AcABwQHCAcMBxAHFAcYBxwHIAckBygHLAcwBzQHOAc8B0AHRAdIB0wHUAdUB1gHXAdgB2QHaAdsB3AHdAd4B3wHgAeEB4gHjAeQB5QHmAecB6AHpAeoB6wHsAe0B7gHvAfAB8QHyAfMB9AH1AfYB9wH4AQ==",
          "dtype": "u2"
         },
         "xaxis": "x7",
         "y": {
          "bdata": "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",
          "dtype": "f4"
         },
         "yaxis": "y7"
        },
        {
         "hoverinfo": "skip",
         "legendgroup": "SRP(E,64)",
         "line": {
          "color": "#00CC96"
         },
         "mode": "lines",
         "name": "SRP(E,64)",
         "showlegend": false,
         "type": "scatter",
         "x": {
          "bdata": "IAAhACIAIwAkACUAJgAnACgAKQAqACsALAAtAC4ALwAwADEAMgAzADQANQA2ADcAOAA5ADoAOwA8AD0APgA/AEAAQQBCAEMARABFAEYARwBIAEkASgBLAEwATQBOAE8AUABRAFIAUwBUAFUAVgBXAFgAWQBaAFsAXABdAF4AXwBgAGEAYgBjAGQAZQBmAGcAaABpAGoAawBsAG0AbgBvAHAAcQByAHMAdAB1AHYAdwB4AHkAegB7AHwAfQB+AH8AgACBAIIAgwCEAIUAhgCHAIgAiQCKAIsAjACNAI4AjwCQAJEAkgCTAJQAlQCWAJcAmACZAJoAmwCcAJ0AngCfAKAAoQCiAKMApAClAKYApwCoAKkAqgCrAKwArQCuAK8AsACxALIAswC0ALUAtgC3ALgAuQC6ALsAvAC9AL4AvwDAAMEAwgDDAMQAxQDGAMcAyADJAMoAywDMAM0AzgDPANAA0QDSANMA1ADVANYA1wDYANkA2gDbANwA3QDeAN8A4ADhAOIA4wDkAOUA5gDnAOgA6QDqAOsA7ADtAO4A7wDwAPEA8gDzAPQA9QD2APcA+AD5APoA+wD8AP0A/gD/AAABAQECAQMBBAEFAQYBBwEIAQkBCgELAQwBDQEOAQ8BEAERARIBEwEUARUBFgEXARgBGQEaARsBHAEdAR4BHwEgASEBIgEjASQBJQEmAScBKAEpASoBKwEsAS0BLgEvATABMQEyATMBNAE1ATYBNwE4ATkBOgE7ATwBPQE+AT8BQAFBAUIBQwFEAUUBRgFHAUgBSQFKAUsBTAFNAU4BTwFQAVEBUgFTAVQBVQFWAVcBWAFZAVoBWwFcAV0BXgFfAWABYQFiAWMBZAFlAWYBZwFoAWkBagFrAWwBbQFuAW8BcAFxAXIBcwF0AXUBdgF3AXgBeQF6AXsBfAF9AX4BfwGAAYEBggGDAYQBhQGGAYcBiAGJAYoBiwGMAY0BjgGPAZABkQGSAZMBlAGVAZYBlwGYAZkBmgGbAZwBnQGeAZ8BoAGhAaIBowGkAaUBpgGnAagBqQGqAasBrAGtAa4BrwGwAbEBsgGzAbQBtQG2AbcBuAG5AboBuwG8Ab0BvgG/AcABwQHCAcMBxAHFAcYBxwHIAckBygHLAcwBzQHOAc8B0AHRAdIB0wHUAdUB1gHXAdgB2QHaAdsB3AHdAd4B3wHgAQ==",
          "dtype": "u2"
         },
         "xaxis": "x7",
         "y": {
          "bdata": "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",
          "dtype": "f4"
         },
         "yaxis": "y7"
        },
        {
         "hoverinfo": "skip",
         "legendgroup": "SRP(E,256)",
         "line": {
          "color": "#AB63FA"
         },
         "mode": "lines",
         "name": "SRP(E,256)",
         "showlegend": false,
         "type": "scatter",
         "x": {
          "bdata": "gACBAIIAgwCEAIUAhgCHAIgAiQCKAIsAjACNAI4AjwCQAJEAkgCTAJQAlQCWAJcAmACZAJoAmwCcAJ0AngCfAKAAoQCiAKMApAClAKYApwCoAKkAqgCrAKwArQCuAK8AsACxALIAswC0ALUAtgC3ALgAuQC6ALsAvAC9AL4AvwDAAMEAwgDDAMQAxQDGAMcAyADJAMoAywDMAM0AzgDPANAA0QDSANMA1ADVANYA1wDYANkA2gDbANwA3QDeAN8A4ADhAOIA4wDkAOUA5gDnAOgA6QDqAOsA7ADtAO4A7wDwAPEA8gDzAPQA9QD2APcA+AD5APoA+wD8AP0A/gD/AAABAQECAQMBBAEFAQYBBwEIAQkBCgELAQwBDQEOAQ8BEAERARIBEwEUARUBFgEXARgBGQEaARsBHAEdAR4BHwEgASEBIgEjASQBJQEmAScBKAEpASoBKwEsAS0BLgEvATABMQEyATMBNAE1ATYBNwE4ATkBOgE7ATwBPQE+AT8BQAFBAUIBQwFEAUUBRgFHAUgBSQFKAUsBTAFNAU4BTwFQAVEBUgFTAVQBVQFWAVcBWAFZAVoBWwFcAV0BXgFfAWABYQFiAWMBZAFlAWYBZwFoAWkBagFrAWwBbQFuAW8BcAFxAXIBcwF0AXUBdgF3AXgBeQF6AXsBfAF9AX4BfwGAAQ==",
          "dtype": "u2"
         },
         "xaxis": "x7",
         "y": {
          "bdata": "w8XXPutT2D4pftg+gJTYPoKi2D7Eq9g+4bHYPum12D4PuNg+IrnYPtS52D4cutg+CrrYPuK42D75ttg+qrTYPoew2D78rdg+yKrYPi2o2D4mpNg+O6HYPvWd2D6emdg+yZXYPgKS2D5Qjtg+H4rYPimH2D4PhNg+j4DYPi992D5medg+YHfYPit02D4Zcdg+Sm7YPrJq2D4PZ9g+UWPYPvVg2D65Xdg+uVrYPjVY2D5rVNg+BlHYPjtO2D6MStg+HkfYPmhE2D7+QNg+hD3YPs462D65N9g+KTXYPlMy2D5dL9g+wy3YPj0r2D46KNg+9SPYPvMg2D68Htg+DBzYPnAZ2D5pF9g+eBXYPmoT2D7nENg+zQ3YPpoK2D6KB9g+4wTYPmQC2D7a/9c+1v3XPnz71z5Q+dc+h/fXPhP11z6U8tc+TvDXPv7t1z7m6tc+bejXPrrl1z6b49c+K+HXPtLd1z6y29c+idjXPpnV1z4909c+tNDXPrXO1z6zzNc+fMrXPinI1z6nxdc+KMPXPrLA1z4Jv9c+7LzXPiy71z5ut9c+MbTXPmmx1z5/r9c+z6zXPuyp1z6sp9c+eaXXPmmj1z6Uodc+N5/XPr2c1z4Xmtc+pJfXPh6V1z7Bktc+sZDXPuaO1z6Vjdc+SozXPuaK1z7pidc+DYjXPjaH1z69hdc+a4TXPgyD1z6ngdc+e4DXPm9/1z5Jftc+63zXPmN71z4setc+eXjXPqd21z7YdNc+c3PXPmtx1z4UcNc+CG7XPjlr1z4radc+7mfXPuFm1z6fZdc+12PXPhti1z7qX9c+tl7XPjpe1z7uXNc+DlzXPhRb1z5qWdc+fVfXPutV1z5cVNc+eFLXPt5Q1z6jT9c+gU3XPjRM1z6LStc+qUjXPt1H1z45R9c+6UbXPsdF1z7NQ9c+H0LXPv9A1z5iP9c+Mz7XPnI91z6FPNc+dzvXPrU61z7vONc+XTjXPgY51z7YN9c+NzfXPoU21z5YNtc+TTXXPgs01z4PMtc+gzDXPmQu1z4ULdc+7irXPoop1z71J9c+PibXPsAj1z4CItc+aiDXPoAf1z6VHtc+CR7XPswd1z4QHNc+qhnXPkwY1z7aFdc+aBTXPukT1z4+Etc+eRDXPkMP1z51D9c+ChDXPkcQ1z5JENc+bw/XPgoP1z5QDtc+UA3XPn0M1z5CDNc++QrXPrYK1z7sCdc+OgjXPsQH1z44Btc+BgbXPgAF1z49BNc+WQPXPnkC1z4tAdc+jADXPj3/1j5K/tY+yv3WPmH91j55/dY+rPzWPmj81j6R+9Y+KvvWPqn71j65+9Y+Q/vWPo/61j5m+dY+TvjWPoT21j409dY+sPTWPp/z1j4=",
          "dtype": "f4"
         },
         "yaxis": "y7"
        },
        {
         "hoverinfo": "skip",
         "legendgroup": "SRP(E,4)",
         "line": {
          "color": "#636EFA"
         },
         "mode": "lines",
         "name": "SRP(E,4)",
         "showlegend": false,
         "type": "scatter",
         "x": {
          "bdata": "AgADAAQABQAGAAcACAAJAAoACwAMAA0ADgAPABAAEQASABMAFAAVABYAFwAYABkAGgAbABwAHQAeAB8AIAAhACIAIwAkACUAJgAnACgAKQAqACsALAAtAC4ALwAwADEAMgAzADQANQA2ADcAOAA5ADoAOwA8AD0APgA/AEAAQQBCAEMARABFAEYARwBIAEkASgBLAEwATQBOAE8AUABRAFIAUwBUAFUAVgBXAFgAWQBaAFsAXABdAF4AXwBgAGEAYgBjAGQAZQBmAGcAaABpAGoAawBsAG0AbgBvAHAAcQByAHMAdAB1AHYAdwB4AHkAegB7AHwAfQB+AH8AgACBAIIAgwCEAIUAhgCHAIgAiQCKAIsAjACNAI4AjwCQAJEAkgCTAJQAlQCWAJcAmACZAJoAmwCcAJ0AngCfAKAAoQCiAKMApAClAKYApwCoAKkAqgCrAKwArQCuAK8AsACxALIAswC0ALUAtgC3ALgAuQC6ALsAvAC9AL4AvwDAAMEAwgDDAMQAxQDGAMcAyADJAMoAywDMAM0AzgDPANAA0QDSANMA1ADVANYA1wDYANkA2gDbANwA3QDeAN8A4ADhAOIA4wDkAOUA5gDnAOgA6QDqAOsA7ADtAO4A7wDwAPEA8gDzAPQA9QD2APcA+AD5APoA+wD8AP0A/gD/AAABAQECAQMBBAEFAQYBBwEIAQkBCgELAQwBDQEOAQ8BEAERARIBEwEUARUBFgEXARgBGQEaARsBHAEdAR4BHwEgASEBIgEjASQBJQEmAScBKAEpASoBKwEsAS0BLgEvATABMQEyATMBNAE1ATYBNwE4ATkBOgE7ATwBPQE+AT8BQAFBAUIBQwFEAUUBRgFHAUgBSQFKAUsBTAFNAU4BTwFQAVEBUgFTAVQBVQFWAVcBWAFZAVoBWwFcAV0BXgFfAWABYQFiAWMBZAFlAWYBZwFoAWkBagFrAWwBbQFuAW8BcAFxAXIBcwF0AXUBdgF3AXgBeQF6AXsBfAF9AX4BfwGAAYEBggGDAYQBhQGGAYcBiAGJAYoBiwGMAY0BjgGPAZABkQGSAZMBlAGVAZYBlwGYAZkBmgGbAZwBnQGeAZ8BoAGhAaIBowGkAaUBpgGnAagBqQGqAasBrAGtAa4BrwGwAbEBsgGzAbQBtQG2AbcBuAG5AboBuwG8Ab0BvgG/AcABwQHCAcMBxAHFAcYBxwHIAckBygHLAcwBzQHOAc8B0AHRAdIB0wHUAdUB1gHXAdgB2QHaAdsB3AHdAd4B3wHgAeEB4gHjAeQB5QHmAecB6AHpAeoB6wHsAe0B7gHvAfAB8QHyAfMB9AH1AfYB9wH4AfkB+gH7AfwB/QH+AQ==",
          "dtype": "u2"
         },
         "xaxis": "x8",
         "y": {
          "bdata": "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",
          "dtype": "f4"
         },
         "yaxis": "y8"
        },
        {
         "hoverinfo": "skip",
         "legendgroup": "SRP(E,16)",
         "line": {
          "color": "#EF553B"
         },
         "mode": "lines",
         "name": "SRP(E,16)",
         "showlegend": false,
         "type": "scatter",
         "x": {
          "bdata": "CAAJAAoACwAMAA0ADgAPABAAEQASABMAFAAVABYAFwAYABkAGgAbABwAHQAeAB8AIAAhACIAIwAkACUAJgAnACgAKQAqACsALAAtAC4ALwAwADEAMgAzADQANQA2ADcAOAA5ADoAOwA8AD0APgA/AEAAQQBCAEMARABFAEYARwBIAEkASgBLAEwATQBOAE8AUABRAFIAUwBUAFUAVgBXAFgAWQBaAFsAXABdAF4AXwBgAGEAYgBjAGQAZQBmAGcAaABpAGoAawBsAG0AbgBvAHAAcQByAHMAdAB1AHYAdwB4AHkAegB7AHwAfQB+AH8AgACBAIIAgwCEAIUAhgCHAIgAiQCKAIsAjACNAI4AjwCQAJEAkgCTAJQAlQCWAJcAmACZAJoAmwCcAJ0AngCfAKAAoQCiAKMApAClAKYApwCoAKkAqgCrAKwArQCuAK8AsACxALIAswC0ALUAtgC3ALgAuQC6ALsAvAC9AL4AvwDAAMEAwgDDAMQAxQDGAMcAyADJAMoAywDMAM0AzgDPANAA0QDSANMA1ADVANYA1wDYANkA2gDbANwA3QDeAN8A4ADhAOIA4wDkAOUA5gDnAOgA6QDqAOsA7ADtAO4A7wDwAPEA8gDzAPQA9QD2APcA+AD5APoA+wD8AP0A/gD/AAABAQECAQMBBAEFAQYBBwEIAQkBCgELAQwBDQEOAQ8BEAERARIBEwEUARUBFgEXARgBGQEaARsBHAEdAR4BHwEgASEBIgEjASQBJQEmAScBKAEpASoBKwEsAS0BLgEvATABMQEyATMBNAE1ATYBNwE4ATkBOgE7ATwBPQE+AT8BQAFBAUIBQwFEAUUBRgFHAUgBSQFKAUsBTAFNAU4BTwFQAVEBUgFTAVQBVQFWAVcBWAFZAVoBWwFcAV0BXgFfAWABYQFiAWMBZAFlAWYBZwFoAWkBagFrAWwBbQFuAW8BcAFxAXIBcwF0AXUBdgF3AXgBeQF6AXsBfAF9AX4BfwGAAYEBggGDAYQBhQGGAYcBiAGJAYoBiwGMAY0BjgGPAZABkQGSAZMBlAGVAZYBlwGYAZkBmgGbAZwBnQGeAZ8BoAGhAaIBowGkAaUBpgGnAagBqQGqAasBrAGtAa4BrwGwAbEBsgGzAbQBtQG2AbcBuAG5AboBuwG8Ab0BvgG/AcABwQHCAcMBxAHFAcYBxwHIAckBygHLAcwBzQHOAc8B0AHRAdIB0wHUAdUB1gHXAdgB2QHaAdsB3AHdAd4B3wHgAeEB4gHjAeQB5QHmAecB6AHpAeoB6wHsAe0B7gHvAfAB8QHyAfMB9AH1AfYB9wH4AQ==",
          "dtype": "u2"
         },
         "xaxis": "x8",
         "y": {
          "bdata": "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",
          "dtype": "f4"
         },
         "yaxis": "y8"
        },
        {
         "hoverinfo": "skip",
         "legendgroup": "SRP(E,64)",
         "line": {
          "color": "#00CC96"
         },
         "mode": "lines",
         "name": "SRP(E,64)",
         "showlegend": false,
         "type": "scatter",
         "x": {
          "bdata": "IAAhACIAIwAkACUAJgAnACgAKQAqACsALAAtAC4ALwAwADEAMgAzADQANQA2ADcAOAA5ADoAOwA8AD0APgA/AEAAQQBCAEMARABFAEYARwBIAEkASgBLAEwATQBOAE8AUABRAFIAUwBUAFUAVgBXAFgAWQBaAFsAXABdAF4AXwBgAGEAYgBjAGQAZQBmAGcAaABpAGoAawBsAG0AbgBvAHAAcQByAHMAdAB1AHYAdwB4AHkAegB7AHwAfQB+AH8AgACBAIIAgwCEAIUAhgCHAIgAiQCKAIsAjACNAI4AjwCQAJEAkgCTAJQAlQCWAJcAmACZAJoAmwCcAJ0AngCfAKAAoQCiAKMApAClAKYApwCoAKkAqgCrAKwArQCuAK8AsACxALIAswC0ALUAtgC3ALgAuQC6ALsAvAC9AL4AvwDAAMEAwgDDAMQAxQDGAMcAyADJAMoAywDMAM0AzgDPANAA0QDSANMA1ADVANYA1wDYANkA2gDbANwA3QDeAN8A4ADhAOIA4wDkAOUA5gDnAOgA6QDqAOsA7ADtAO4A7wDwAPEA8gDzAPQA9QD2APcA+AD5APoA+wD8AP0A/gD/AAABAQECAQMBBAEFAQYBBwEIAQkBCgELAQwBDQEOAQ8BEAERARIBEwEUARUBFgEXARgBGQEaARsBHAEdAR4BHwEgASEBIgEjASQBJQEmAScBKAEpASoBKwEsAS0BLgEvATABMQEyATMBNAE1ATYBNwE4ATkBOgE7ATwBPQE+AT8BQAFBAUIBQwFEAUUBRgFHAUgBSQFKAUsBTAFNAU4BTwFQAVEBUgFTAVQBVQFWAVcBWAFZAVoBWwFcAV0BXgFfAWABYQFiAWMBZAFlAWYBZwFoAWkBagFrAWwBbQFuAW8BcAFxAXIBcwF0AXUBdgF3AXgBeQF6AXsBfAF9AX4BfwGAAYEBggGDAYQBhQGGAYcBiAGJAYoBiwGMAY0BjgGPAZABkQGSAZMBlAGVAZYBlwGYAZkBmgGbAZwBnQGeAZ8BoAGhAaIBowGkAaUBpgGnAagBqQGqAasBrAGtAa4BrwGwAbEBsgGzAbQBtQG2AbcBuAG5AboBuwG8Ab0BvgG/AcABwQHCAcMBxAHFAcYBxwHIAckBygHLAcwBzQHOAc8B0AHRAdIB0wHUAdUB1gHXAdgB2QHaAdsB3AHdAd4B3wHgAQ==",
          "dtype": "u2"
         },
         "xaxis": "x8",
         "y": {
          "bdata": "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",
          "dtype": "f4"
         },
         "yaxis": "y8"
        },
        {
         "hoverinfo": "skip",
         "legendgroup": "SRP(E,256)",
         "line": {
          "color": "#AB63FA"
         },
         "mode": "lines",
         "name": "SRP(E,256)",
         "showlegend": false,
         "type": "scatter",
         "x": {
          "bdata": "gACBAIIAgwCEAIUAhgCHAIgAiQCKAIsAjACNAI4AjwCQAJEAkgCTAJQAlQCWAJcAmACZAJoAmwCcAJ0AngCfAKAAoQCiAKMApAClAKYApwCoAKkAqgCrAKwArQCuAK8AsACxALIAswC0ALUAtgC3ALgAuQC6ALsAvAC9AL4AvwDAAMEAwgDDAMQAxQDGAMcAyADJAMoAywDMAM0AzgDPANAA0QDSANMA1ADVANYA1wDYANkA2gDbANwA3QDeAN8A4ADhAOIA4wDkAOUA5gDnAOgA6QDqAOsA7ADtAO4A7wDwAPEA8gDzAPQA9QD2APcA+AD5APoA+wD8AP0A/gD/AAABAQECAQMBBAEFAQYBBwEIAQkBCgELAQwBDQEOAQ8BEAERARIBEwEUARUBFgEXARgBGQEaARsBHAEdAR4BHwEgASEBIgEjASQBJQEmAScBKAEpASoBKwEsAS0BLgEvATABMQEyATMBNAE1ATYBNwE4ATkBOgE7ATwBPQE+AT8BQAFBAUIBQwFEAUUBRgFHAUgBSQFKAUsBTAFNAU4BTwFQAVEBUgFTAVQBVQFWAVcBWAFZAVoBWwFcAV0BXgFfAWABYQFiAWMBZAFlAWYBZwFoAWkBagFrAWwBbQFuAW8BcAFxAXIBcwF0AXUBdgF3AXgBeQF6AXsBfAF9AX4BfwGAAQ==",
          "dtype": "u2"
         },
         "xaxis": "x8",
         "y": {
          "bdata": "AXzZPm2Q2T5Mmtk+pqHZPpim2T4fqtk+dazZPhiu2T5sr9k+OrDZPrqw2T7OsNk+v7DZPlOw2T4PsNk+ha/ZPuSu2T4Wrtk+V63ZPpes2T65q9k+bqrZPpOp2T48qNk+c6fZPqSm2T6ppdk+qaTZPq+j2T44o9k+vaLZPhKi2T5Aodk+UqDZPpCf2T6antk+y53ZPuqc2T4FnNk+LZvZPhSa2T7kmNk+/5fZPjaX2T5Jltk+WJXZPvmT2T5pk9k+gpLZPqGR2T6XkNk+IZDZPrqP2T4tj9k+Qo7ZPluN2T7OjNk+2YvZPhCL2T5Jitk+UonZPvSI2T5niNk+8ofZPj6H2T6Xhtk+4YXZPiGF2T5mhNk+uYPZPoCD2T5ng9k+N4PZPp6C2T4zgtk+d4HZPv+A2T57gNk++H/ZPqN/2T5Mf9k+437ZPmh+2T6xfdk+NX3ZPtl82T6BfNk+GHzZPuh72T5je9k+9XrZPrF62T4wetk+83nZPoB52T5xedk+z3jZPvd32T4od9k+mXbZPg122T6/ddk+C3XZPkV02T6/c9k+X3PZPvpy2T7Dctk+onLZPmty2T5Sctk+OnLZPs1x2T5Ucdk+/3DZPpdw2T6CcNk+fHDZPmlw2T4wcNk+xm/ZPqBv2T48b9k++m7ZPs1u2T6Cbtk+dG7ZPn9u2T4nbtk+4W3ZPpRt2T4Zbdk+DG3ZPuZs2T6ubNk+h2zZPnds2T6FbNk+SWzZPuxr2T7Xa9k+vGvZPn1r2T5Ca9k+3GrZPuNq2T77atk+2mrZPqxq2T6Zatk+LWrZPv9p2T5Fatk+4mnZPrtp2T5tadk+8mjZPmho2T4JaNk+72fZPpdn2T5mZ9k+6GbZPstm2T7dZtk+pmbZPpZm2T6BZtk+OGbZPuhl2T6hZdk+nmXZPipl2T66ZNk+b2TZPihk2T7AY9k+ZGPZPn1j2T5eY9k+82LZPiRj2T4BY9k+rWLZPgti2T6aYdk+eWHZPilh2T78YNk+q2DZPnlg2T5NYNk+JWDZPsJf2T6tX9k+dV/ZPmFf2T5BX9k+PF/ZPlRf2T5fX9k+AF/ZPuJe2T7XXtk+x17ZPs1e2T7BXtk+SV7ZPuld2T5lXdk+O13ZPt5c2T6qXNk+N1zZPvxb2T65W9k+dlvZPmNb2T58W9k+yFvZPqtb2T5AW9k+6VrZPtJa2T7hWtk+4FrZPvda2T4jW9k+KlvZPh5b2T53W9k+OFvZPlRb2T5eW9k+GlvZPktb2T5aW9k+aFvZPn9b2T5MW9k+q1vZPphb2T5pW9k+KFvZPh9b2T7qWtk+61rZPsVa2T6dWtk+blrZPopa2T4yWtk++1nZPsBZ2T5JWdk+alnZPmZZ2T4=",
          "dtype": "f4"
         },
         "yaxis": "y8"
        },
        {
         "hoverinfo": "skip",
         "legendgroup": "SRP(E,4)",
         "line": {
          "color": "#636EFA"
         },
         "mode": "lines",
         "name": "SRP(E,4)",
         "showlegend": false,
         "type": "scatter",
         "x": {
          "bdata": "AgADAAQABQAGAAcACAAJAAoACwAMAA0ADgAPABAAEQASABMAFAAVABYAFwAYABkAGgAbABwAHQAeAB8AIAAhACIAIwAkACUAJgAnACgAKQAqACsALAAtAC4ALwAwADEAMgAzADQANQA2ADcAOAA5ADoAOwA8AD0APgA/AEAAQQBCAEMARABFAEYARwBIAEkASgBLAEwATQBOAE8AUABRAFIAUwBUAFUAVgBXAFgAWQBaAFsAXABdAF4AXwBgAGEAYgBjAGQAZQBmAGcAaABpAGoAawBsAG0AbgBvAHAAcQByAHMAdAB1AHYAdwB4AHkAegB7AHwAfQB+AH8AgACBAIIAgwCEAIUAhgCHAIgAiQCKAIsAjACNAI4AjwCQAJEAkgCTAJQAlQCWAJcAmACZAJoAmwCcAJ0AngCfAKAAoQCiAKMApAClAKYApwCoAKkAqgCrAKwArQCuAK8AsACxALIAswC0ALUAtgC3ALgAuQC6ALsAvAC9AL4AvwDAAMEAwgDDAMQAxQDGAMcAyADJAMoAywDMAM0AzgDPANAA0QDSANMA1ADVANYA1wDYANkA2gDbANwA3QDeAN8A4ADhAOIA4wDkAOUA5gDnAOgA6QDqAOsA7ADtAO4A7wDwAPEA8gDzAPQA9QD2APcA+AD5APoA+wD8AP0A/gD/AAABAQECAQMBBAEFAQYBBwEIAQkBCgELAQwBDQEOAQ8BEAERARIBEwEUARUBFgEXARgBGQEaARsBHAEdAR4BHwEgASEBIgEjASQBJQEmAScBKAEpASoBKwEsAS0BLgEvATABMQEyATMBNAE1ATYBNwE4ATkBOgE7ATwBPQE+AT8BQAFBAUIBQwFEAUUBRgFHAUgBSQFKAUsBTAFNAU4BTwFQAVEBUgFTAVQBVQFWAVcBWAFZAVoBWwFcAV0BXgFfAWABYQFiAWMBZAFlAWYBZwFoAWkBagFrAWwBbQFuAW8BcAFxAXIBcwF0AXUBdgF3AXgBeQF6AXsBfAF9AX4BfwGAAYEBggGDAYQBhQGGAYcBiAGJAYoBiwGMAY0BjgGPAZABkQGSAZMBlAGVAZYBlwGYAZkBmgGbAZwBnQGeAZ8BoAGhAaIBowGkAaUBpgGnAagBqQGqAasBrAGtAa4BrwGwAbEBsgGzAbQBtQG2AbcBuAG5AboBuwG8Ab0BvgG/AcABwQHCAcMBxAHFAcYBxwHIAckBygHLAcwBzQHOAc8B0AHRAdIB0wHUAdUB1gHXAdgB2QHaAdsB3AHdAd4B3wHgAeEB4gHjAeQB5QHmAecB6AHpAeoB6wHsAe0B7gHvAfAB8QHyAfMB9AH1AfYB9wH4AfkB+gH7AfwB/QH+AQ==",
          "dtype": "u2"
         },
         "xaxis": "x9",
         "y": {
          "bdata": "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",
          "dtype": "f4"
         },
         "yaxis": "y9"
        },
        {
         "hoverinfo": "skip",
         "legendgroup": "SRP(E,16)",
         "line": {
          "color": "#EF553B"
         },
         "mode": "lines",
         "name": "SRP(E,16)",
         "showlegend": false,
         "type": "scatter",
         "x": {
          "bdata": "CAAJAAoACwAMAA0ADgAPABAAEQASABMAFAAVABYAFwAYABkAGgAbABwAHQAeAB8AIAAhACIAIwAkACUAJgAnACgAKQAqACsALAAtAC4ALwAwADEAMgAzADQANQA2ADcAOAA5ADoAOwA8AD0APgA/AEAAQQBCAEMARABFAEYARwBIAEkASgBLAEwATQBOAE8AUABRAFIAUwBUAFUAVgBXAFgAWQBaAFsAXABdAF4AXwBgAGEAYgBjAGQAZQBmAGcAaABpAGoAawBsAG0AbgBvAHAAcQByAHMAdAB1AHYAdwB4AHkAegB7AHwAfQB+AH8AgACBAIIAgwCEAIUAhgCHAIgAiQCKAIsAjACNAI4AjwCQAJEAkgCTAJQAlQCWAJcAmACZAJoAmwCcAJ0AngCfAKAAoQCiAKMApAClAKYApwCoAKkAqgCrAKwArQCuAK8AsACxALIAswC0ALUAtgC3ALgAuQC6ALsAvAC9AL4AvwDAAMEAwgDDAMQAxQDGAMcAyADJAMoAywDMAM0AzgDPANAA0QDSANMA1ADVANYA1wDYANkA2gDbANwA3QDeAN8A4ADhAOIA4wDkAOUA5gDnAOgA6QDqAOsA7ADtAO4A7wDwAPEA8gDzAPQA9QD2APcA+AD5APoA+wD8AP0A/gD/AAABAQECAQMBBAEFAQYBBwEIAQkBCgELAQwBDQEOAQ8BEAERARIBEwEUARUBFgEXARgBGQEaARsBHAEdAR4BHwEgASEBIgEjASQBJQEmAScBKAEpASoBKwEsAS0BLgEvATABMQEyATMBNAE1ATYBNwE4ATkBOgE7ATwBPQE+AT8BQAFBAUIBQwFEAUUBRgFHAUgBSQFKAUsBTAFNAU4BTwFQAVEBUgFTAVQBVQFWAVcBWAFZAVoBWwFcAV0BXgFfAWABYQFiAWMBZAFlAWYBZwFoAWkBagFrAWwBbQFuAW8BcAFxAXIBcwF0AXUBdgF3AXgBeQF6AXsBfAF9AX4BfwGAAYEBggGDAYQBhQGGAYcBiAGJAYoBiwGMAY0BjgGPAZABkQGSAZMBlAGVAZYBlwGYAZkBmgGbAZwBnQGeAZ8BoAGhAaIBowGkAaUBpgGnAagBqQGqAasBrAGtAa4BrwGwAbEBsgGzAbQBtQG2AbcBuAG5AboBuwG8Ab0BvgG/AcABwQHCAcMBxAHFAcYBxwHIAckBygHLAcwBzQHOAc8B0AHRAdIB0wHUAdUB1gHXAdgB2QHaAdsB3AHdAd4B3wHgAeEB4gHjAeQB5QHmAecB6AHpAeoB6wHsAe0B7gHvAfAB8QHyAfMB9AH1AfYB9wH4AQ==",
          "dtype": "u2"
         },
         "xaxis": "x9",
         "y": {
          "bdata": "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",
          "dtype": "f4"
         },
         "yaxis": "y9"
        },
        {
         "hoverinfo": "skip",
         "legendgroup": "SRP(E,64)",
         "line": {
          "color": "#00CC96"
         },
         "mode": "lines",
         "name": "SRP(E,64)",
         "showlegend": false,
         "type": "scatter",
         "x": {
          "bdata": "IAAhACIAIwAkACUAJgAnACgAKQAqACsALAAtAC4ALwAwADEAMgAzADQANQA2ADcAOAA5ADoAOwA8AD0APgA/AEAAQQBCAEMARABFAEYARwBIAEkASgBLAEwATQBOAE8AUABRAFIAUwBUAFUAVgBXAFgAWQBaAFsAXABdAF4AXwBgAGEAYgBjAGQAZQBmAGcAaABpAGoAawBsAG0AbgBvAHAAcQByAHMAdAB1AHYAdwB4AHkAegB7AHwAfQB+AH8AgACBAIIAgwCEAIUAhgCHAIgAiQCKAIsAjACNAI4AjwCQAJEAkgCTAJQAlQCWAJcAmACZAJoAmwCcAJ0AngCfAKAAoQCiAKMApAClAKYApwCoAKkAqgCrAKwArQCuAK8AsACxALIAswC0ALUAtgC3ALgAuQC6ALsAvAC9AL4AvwDAAMEAwgDDAMQAxQDGAMcAyADJAMoAywDMAM0AzgDPANAA0QDSANMA1ADVANYA1wDYANkA2gDbANwA3QDeAN8A4ADhAOIA4wDkAOUA5gDnAOgA6QDqAOsA7ADtAO4A7wDwAPEA8gDzAPQA9QD2APcA+AD5APoA+wD8AP0A/gD/AAABAQECAQMBBAEFAQYBBwEIAQkBCgELAQwBDQEOAQ8BEAERARIBEwEUARUBFgEXARgBGQEaARsBHAEdAR4BHwEgASEBIgEjASQBJQEmAScBKAEpASoBKwEsAS0BLgEvATABMQEyATMBNAE1ATYBNwE4ATkBOgE7ATwBPQE+AT8BQAFBAUIBQwFEAUUBRgFHAUgBSQFKAUsBTAFNAU4BTwFQAVEBUgFTAVQBVQFWAVcBWAFZAVoBWwFcAV0BXgFfAWABYQFiAWMBZAFlAWYBZwFoAWkBagFrAWwBbQFuAW8BcAFxAXIBcwF0AXUBdgF3AXgBeQF6AXsBfAF9AX4BfwGAAYEBggGDAYQBhQGGAYcBiAGJAYoBiwGMAY0BjgGPAZABkQGSAZMBlAGVAZYBlwGYAZkBmgGbAZwBnQGeAZ8BoAGhAaIBowGkAaUBpgGnAagBqQGqAasBrAGtAa4BrwGwAbEBsgGzAbQBtQG2AbcBuAG5AboBuwG8Ab0BvgG/AcABwQHCAcMBxAHFAcYBxwHIAckBygHLAcwBzQHOAc8B0AHRAdIB0wHUAdUB1gHXAdgB2QHaAdsB3AHdAd4B3wHgAQ==",
          "dtype": "u2"
         },
         "xaxis": "x9",
         "y": {
          "bdata": "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",
          "dtype": "f4"
         },
         "yaxis": "y9"
        },
        {
         "hoverinfo": "skip",
         "legendgroup": "SRP(E,256)",
         "line": {
          "color": "#AB63FA"
         },
         "mode": "lines",
         "name": "SRP(E,256)",
         "showlegend": false,
         "type": "scatter",
         "x": {
          "bdata": "gACBAIIAgwCEAIUAhgCHAIgAiQCKAIsAjACNAI4AjwCQAJEAkgCTAJQAlQCWAJcAmACZAJoAmwCcAJ0AngCfAKAAoQCiAKMApAClAKYApwCoAKkAqgCrAKwArQCuAK8AsACxALIAswC0ALUAtgC3ALgAuQC6ALsAvAC9AL4AvwDAAMEAwgDDAMQAxQDGAMcAyADJAMoAywDMAM0AzgDPANAA0QDSANMA1ADVANYA1wDYANkA2gDbANwA3QDeAN8A4ADhAOIA4wDkAOUA5gDnAOgA6QDqAOsA7ADtAO4A7wDwAPEA8gDzAPQA9QD2APcA+AD5APoA+wD8AP0A/gD/AAABAQECAQMBBAEFAQYBBwEIAQkBCgELAQwBDQEOAQ8BEAERARIBEwEUARUBFgEXARgBGQEaARsBHAEdAR4BHwEgASEBIgEjASQBJQEmAScBKAEpASoBKwEsAS0BLgEvATABMQEyATMBNAE1ATYBNwE4ATkBOgE7ATwBPQE+AT8BQAFBAUIBQwFEAUUBRgFHAUgBSQFKAUsBTAFNAU4BTwFQAVEBUgFTAVQBVQFWAVcBWAFZAVoBWwFcAV0BXgFfAWABYQFiAWMBZAFlAWYBZwFoAWkBagFrAWwBbQFuAW8BcAFxAXIBcwF0AXUBdgF3AXgBeQF6AXsBfAF9AX4BfwGAAQ==",
          "dtype": "u2"
         },
         "xaxis": "x9",
         "y": {
          "bdata": "+EjWPihR1j7GVNY+BFXWPudT1j61UdY+e0/WPtZM1j4GStY+LEfWPmtE1j5mQdY+pD7WPuk71j4cOdY+CzbWPvoy1j4IMNY+NS3WPoYq1j6tJ9Y+BCXWPjsi1j6rH9Y+Qh3WPvQa1j7GGNY+fRbWPjUU1j7rEdY+cg/WPv8M1j5wCtY++QfWPp8F1j5LA9Y+CQHWPtL+1T67/NU+sPrVPoT41T6o9tU+6PTVPg7z1T5I8dU+ZO/VPr3t1T5N7NU+werVPgzp1T5n59U+xuXVPvbj1T5B4tU+mODVPgHf1T5/3dU+I9zVPqfa1T4D2dU+c9fVPt7V1T5Z1NU+A9PVPprR1T5b0NU+187VPofN1T4QzNU+ksrVPv3I1T5wx9U+GsbVPvHE1T6zw9U+nsLVPoTB1T5iwNU++r7VPpy91T5NvNU+HrvVPtG51T6kuNU+VrfVPhW21T4GtdU+67PVPguz1T4nstU+ULHVPmCw1T5tr9U+p67VPpet1T7crNU+9avVPkar1T57qtU+tKnVPsio1T7zp9U+76bVPiOm1T5QpdU+X6TVPoGj1T61otU+pqHVPuCg1T7hn9U+BJ/VPgCe1T4WndU+OZzVPmCb1T6SmtU+7JnVPvqY1T4VmNU+R5fVPkCW1T5nldU+oZTVPhOU1T5Yk9U+dpLVPoqR1T6nkNU+1Y/VPtWO1T7mjdU+74zVPh6M1T4Ti9U+R4rVPnGJ1T6YiNU+yofVPjmH1T5zhtU+0IXVPgOF1T5OhNU+tYPVPh6D1T5FgtU+lIHVPu+A1T4agNU+BX/VPgZ+1T4EfdU+HnzVPlN71T5TetU+w3nVPkV51T6ueNU+VXjVPsN31T41d9U+oHbVPhJ21T6oddU+AHXVPmd01T7wc9U+mnPVPj9z1T7SctU+UHLVPsNx1T5rcdU+1XDVPl1w1T7cb9U+jW/VPvJu1T7zbdU+N23VPnds1T7da9U+dGvVPkVr1T6/atU+W2rVPuVp1T6ladU+VGnVPrpo1T5baNU+EWjVPutn1T6UZ9U+I2fVPp5m1T4bZtU+hmXVPjhl1T7fZNU+wmTVPqlk1T5mZNU+22PVPkZj1T7YYtU+gmLVPv1h1T65YdU+kWHVPixh1T6/YNU+RGDVPvZf1T5pX9U+JV/VPtNe1T6QXtU+N17VPg9e1T6XXdU+AV3VPs5c1T5QXNU+11vVPkpb1T7MWtU+elrVPiRa1T6cWdU+QFnVPstY1T6BWNU+XVjVPiRY1T7HV9U+f1fVPipX1T7GVtU+X1bVPhpW1T7HVdU+UFXVPg1V1T7IVNU+WFTVPjdU1T4JVNU+2FPVPqFT1T6cU9U+pFPVPp5T1T5nU9U++lLVPphS1T4=",
          "dtype": "f4"
         },
         "yaxis": "y9"
        },
        {
         "hoverinfo": "skip",
         "legendgroup": "SRP(E,4)",
         "line": {
          "color": "#636EFA"
         },
         "mode": "lines",
         "name": "SRP(E,4)",
         "showlegend": false,
         "type": "scatter",
         "x": {
          "bdata": "AgADAAQABQAGAAcACAAJAAoACwAMAA0ADgAPABAAEQASABMAFAAVABYAFwAYABkAGgAbABwAHQAeAB8AIAAhACIAIwAkACUAJgAnACgAKQAqACsALAAtAC4ALwAwADEAMgAzADQANQA2ADcAOAA5ADoAOwA8AD0APgA/AEAAQQBCAEMARABFAEYARwBIAEkASgBLAEwATQBOAE8AUABRAFIAUwBUAFUAVgBXAFgAWQBaAFsAXABdAF4AXwBgAGEAYgBjAGQAZQBmAGcAaABpAGoAawBsAG0AbgBvAHAAcQByAHMAdAB1AHYAdwB4AHkAegB7AHwAfQB+AH8AgACBAIIAgwCEAIUAhgCHAIgAiQCKAIsAjACNAI4AjwCQAJEAkgCTAJQAlQCWAJcAmACZAJoAmwCcAJ0AngCfAKAAoQCiAKMApAClAKYApwCoAKkAqgCrAKwArQCuAK8AsACxALIAswC0ALUAtgC3ALgAuQC6ALsAvAC9AL4AvwDAAMEAwgDDAMQAxQDGAMcAyADJAMoAywDMAM0AzgDPANAA0QDSANMA1ADVANYA1wDYANkA2gDbANwA3QDeAN8A4ADhAOIA4wDkAOUA5gDnAOgA6QDqAOsA7ADtAO4A7wDwAPEA8gDzAPQA9QD2APcA+AD5APoA+wD8AP0A/gD/AAABAQECAQMBBAEFAQYBBwEIAQkBCgELAQwBDQEOAQ8BEAERARIBEwEUARUBFgEXARgBGQEaARsBHAEdAR4BHwEgASEBIgEjASQBJQEmAScBKAEpASoBKwEsAS0BLgEvATABMQEyATMBNAE1ATYBNwE4ATkBOgE7ATwBPQE+AT8BQAFBAUIBQwFEAUUBRgFHAUgBSQFKAUsBTAFNAU4BTwFQAVEBUgFTAVQBVQFWAVcBWAFZAVoBWwFcAV0BXgFfAWABYQFiAWMBZAFlAWYBZwFoAWkBagFrAWwBbQFuAW8BcAFxAXIBcwF0AXUBdgF3AXgBeQF6AXsBfAF9AX4BfwGAAYEBggGDAYQBhQGGAYcBiAGJAYoBiwGMAY0BjgGPAZABkQGSAZMBlAGVAZYBlwGYAZkBmgGbAZwBnQGeAZ8BoAGhAaIBowGkAaUBpgGnAagBqQGqAasBrAGtAa4BrwGwAbEBsgGzAbQBtQG2AbcBuAG5AboBuwG8Ab0BvgG/AcABwQHCAcMBxAHFAcYBxwHIAckBygHLAcwBzQHOAc8B0AHRAdIB0wHUAdUB1gHXAdgB2QHaAdsB3AHdAd4B3wHgAeEB4gHjAeQB5QHmAecB6AHpAeoB6wHsAe0B7gHvAfAB8QHyAfMB9AH1AfYB9wH4AfkB+gH7AfwB/QH+AQ==",
          "dtype": "u2"
         },
         "xaxis": "x10",
         "y": {
          "bdata": "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",
          "dtype": "f4"
         },
         "yaxis": "y10"
        },
        {
         "hoverinfo": "skip",
         "legendgroup": "SRP(E,16)",
         "line": {
          "color": "#EF553B"
         },
         "mode": "lines",
         "name": "SRP(E,16)",
         "showlegend": false,
         "type": "scatter",
         "x": {
          "bdata": "CAAJAAoACwAMAA0ADgAPABAAEQASABMAFAAVABYAFwAYABkAGgAbABwAHQAeAB8AIAAhACIAIwAkACUAJgAnACgAKQAqACsALAAtAC4ALwAwADEAMgAzADQANQA2ADcAOAA5ADoAOwA8AD0APgA/AEAAQQBCAEMARABFAEYARwBIAEkASgBLAEwATQBOAE8AUABRAFIAUwBUAFUAVgBXAFgAWQBaAFsAXABdAF4AXwBgAGEAYgBjAGQAZQBmAGcAaABpAGoAawBsAG0AbgBvAHAAcQByAHMAdAB1AHYAdwB4AHkAegB7AHwAfQB+AH8AgACBAIIAgwCEAIUAhgCHAIgAiQCKAIsAjACNAI4AjwCQAJEAkgCTAJQAlQCWAJcAmACZAJoAmwCcAJ0AngCfAKAAoQCiAKMApAClAKYApwCoAKkAqgCrAKwArQCuAK8AsACxALIAswC0ALUAtgC3ALgAuQC6ALsAvAC9AL4AvwDAAMEAwgDDAMQAxQDGAMcAyADJAMoAywDMAM0AzgDPANAA0QDSANMA1ADVANYA1wDYANkA2gDbANwA3QDeAN8A4ADhAOIA4wDkAOUA5gDnAOgA6QDqAOsA7ADtAO4A7wDwAPEA8gDzAPQA9QD2APcA+AD5APoA+wD8AP0A/gD/AAABAQECAQMBBAEFAQYBBwEIAQkBCgELAQwBDQEOAQ8BEAERARIBEwEUARUBFgEXARgBGQEaARsBHAEdAR4BHwEgASEBIgEjASQBJQEmAScBKAEpASoBKwEsAS0BLgEvATABMQEyATMBNAE1ATYBNwE4ATkBOgE7ATwBPQE+AT8BQAFBAUIBQwFEAUUBRgFHAUgBSQFKAUsBTAFNAU4BTwFQAVEBUgFTAVQBVQFWAVcBWAFZAVoBWwFcAV0BXgFfAWABYQFiAWMBZAFlAWYBZwFoAWkBagFrAWwBbQFuAW8BcAFxAXIBcwF0AXUBdgF3AXgBeQF6AXsBfAF9AX4BfwGAAYEBggGDAYQBhQGGAYcBiAGJAYoBiwGMAY0BjgGPAZABkQGSAZMBlAGVAZYBlwGYAZkBmgGbAZwBnQGeAZ8BoAGhAaIBowGkAaUBpgGnAagBqQGqAasBrAGtAa4BrwGwAbEBsgGzAbQBtQG2AbcBuAG5AboBuwG8Ab0BvgG/AcABwQHCAcMBxAHFAcYBxwHIAckBygHLAcwBzQHOAc8B0AHRAdIB0wHUAdUB1gHXAdgB2QHaAdsB3AHdAd4B3wHgAeEB4gHjAeQB5QHmAecB6AHpAeoB6wHsAe0B7gHvAfAB8QHyAfMB9AH1AfYB9wH4AQ==",
          "dtype": "u2"
         },
         "xaxis": "x10",
         "y": {
          "bdata": "3Gb2Psip9j7Zu/Y+TLH2Pnib9j48evY+clz2PgA/9j7eG/Y+Yfv1Pojl9T6d0PU+2bb1PqOf9T4KivU+Vnr1Pk1r9T6IWfU+T0f1PpUu9T4mGfU+Uwr1PvH99D7F8PQ+aOb0PsLb9D7kzvQ+3Lj0PrWp9D4fnPQ+uo/0PnGC9D4FfvQ+jXv0Po109D4sbfQ+Omf0Pk1c9D6PUfQ+JFD0PghE9D6pQPQ+YTP0PtIp9D7pI/Q+CRv0PvoW9D4qEvQ+SA30PhgK9D6Y//M+C/vzPiH28z7h8PM+gePzPu7T8z5V0vM+VNPzPr3H8z5nyPM+ccDzPhDC8z6lufM+MrHzPs+t8z5jqvM+FqPzPqWp8z4OsPM+hqPzPqmk8z4TovM+U5zzPqmi8z7Io/M+IpHzPhuI8z6KgfM+YoLzPv+B8z51gvM+2YDzPo948z7wdvM+I3TzPmZp8z4AY/M+xFzzPsVb8z6pW/M+0VfzPv5U8z7vWPM+BlfzPgJZ8z51WPM+YU7zPppI8z4sT/M+Tk/zPoJR8z7SUfM+xVLzPldL8z5VQ/M+ikLzPvs98z5BN/M+lSzzPtgs8z50KfM+MyzzPnkj8z4nH/M+HxjzPoEX8z4mGvM+BSPzPg0q8z5qKfM+SDDzPlo08z42NfM+jTPzPgkx8z69MfM+pjPzPucu8z4oI/M+Gh/zPpoX8z6MFvM+OhHzPnIT8z4AD/M+QRDzPmMN8z5VDfM+sgfzPp0F8z4CA/M+TQbzPmkH8z48B/M+yf7yPjv38j6F9/I+n/nyPtj38j5t9PI+O/TyPrP48j5F+vI+4vnyPh728j6K9/I+T/DyPqPv8j427fI+oevyPqzu8j7Z7PI+Wu7yPurz8j7t8PI+YfDyPmD18j4g9vI+gPXyPpHt8j7o2vI+fdvyPr3Y8j510/I+v8vyPr3H8j7AzPI+r9fyPl3Y8j6u3vI+nNjyPmfS8j55zvI+UMzyPkbA8j5KuvI+Rb3yPuK88j7rvvI+KMDyPprA8j7Ru/I+FL/yPiG/8j6twvI+xbzyPmW48j4swPI+hMfyPsbB8j6qwvI+7bjyPmi78j4eu/I+kb/yPpbC8j7axvI+hdDyPszO8j7axvI+I7/yPn238j65vfI+W73yPtm38j51s/I+ZrHyPuSy8j4srfI+e6/yPgqz8j5isfI+iq/yPpys8j7YpfI+WaXyPo+l8j4XqPI+16TyPiKq8j4yp/I+UKbyPhOt8j7+pfI++KXyPhmm8j6MpfI+X6HyPiyg8j7AofI+ap3yPrea8j44nPI+IJ3yPoKf8j41ovI+o6fyPg6n8j6ZqPI+t63yPpyr8j4EpPI+36PyPnOj8j71nfI+9aLyPp6f8j7RmfI+UpryPluZ8j5YmvI+Z53yPtSa8j6XmfI+XpzyPiyZ8j4in/I+kabyPm+h8j7FpPI+iaHyPsif8j4bm/I+FJfyPoeY8j5dlvI+eJPyPsqV8j6NkPI+GY/yPhGL8j5vgvI+/YTyPs6C8j7thfI+I4PyPll98j5UdfI+PXPyPmJ38j49efI+MnnyPoF78j6hdfI+OnbyPn1x8j7bd/I+CXryPr158j5Fd/I+EXbyPuJy8j7/efI+/HjyPoR+8j58gfI+p4PyPs2B8j7RfvI+2YHyPqyG8j5WifI+w43yPiSU8j5NmfI+cpDyPlWN8j6rkPI+5JHyPmGX8j6fmfI++JTyPlWR8j40lvI+qZTyPnKZ8j6nl/I+hpDyPi+C8j6dgfI+b4LyPgR+8j7XfvI+d3zyPmJ78j44ePI+UXryPiuB8j5WffI+coHyPgl88j7EdvI+omzyPgJo8j6DX/I+3lryPvtX8j5ZVfI+yFryPtdb8j50ZPI+c2byPjFr8j5lcvI+lnLyPvRp8j7MavI+NWzyPl9s8j49bvI+/G/yPgJw8j4Jc/I+8XPyPlJz8j4Gc/I+8HTyPjN78j5aevI+K3nyPm1/8j7Eg/I+z5DyPrKK8j6Mh/I+pYnyPniA8j6be/I+nHLyPlJo8j4LXfI+d1ryPnli8j51XPI+lVvyPihe8j7IX/I+P1/yPrxl8j4Ea/I+BGzyPkxz8j4lfPI+AH/yPoqF8j61gfI+eX3yPlt38j78dfI+KnfyPl588j5SevI+f3ryPqR58j6odvI+Q4LyPqKA8j43hvI+/nryPtx68j5OevI+TXHyPkNr8j4HafI+kHDyPplx8j6jcvI+LnPyPuZ68j5AdfI+OG3yPqlj8j6DYfI+CFryPudd8j46Y/I+U2PyPnRl8j6ocPI+hXnyPv948j7ngfI+Z37yPrh78j4FcvI+NGryPpZj8j4GW/I+6FbyPstY8j4nW/I+hl/yPuZh8j6XZvI+1WnyPoVm8j5NZ/I+x2XyPi1l8j5VYPI+PmDyPg5j8j5uZvI+VWLyPjVh8j7IY/I+4WPyPoxo8j5BaPI+k2zyPndr8j6qbfI+5GjyPiph8j4mXPI+iFXyPnxa8j4KXfI+oV3yPvhc8j6lX/I+h2DyPi1e8j7+XvI+jmHyPtJc8j6kXPI+q1zyPgFf8j5TW/I+3FzyPuth8j4iX/I+jl7yPjRf8j5tYfI+bGXyPpJr8j5ybvI+S2zyPhtl8j6JYPI+VFryPlVQ8j4CSvI+3UbyPkhE8j4=",
          "dtype": "f4"
         },
         "yaxis": "y10"
        },
        {
         "hoverinfo": "skip",
         "legendgroup": "SRP(E,64)",
         "line": {
          "color": "#00CC96"
         },
         "mode": "lines",
         "name": "SRP(E,64)",
         "showlegend": false,
         "type": "scatter",
         "x": {
          "bdata": "IAAhACIAIwAkACUAJgAnACgAKQAqACsALAAtAC4ALwAwADEAMgAzADQANQA2ADcAOAA5ADoAOwA8AD0APgA/AEAAQQBCAEMARABFAEYARwBIAEkASgBLAEwATQBOAE8AUABRAFIAUwBUAFUAVgBXAFgAWQBaAFsAXABdAF4AXwBgAGEAYgBjAGQAZQBmAGcAaABpAGoAawBsAG0AbgBvAHAAcQByAHMAdAB1AHYAdwB4AHkAegB7AHwAfQB+AH8AgACBAIIAgwCEAIUAhgCHAIgAiQCKAIsAjACNAI4AjwCQAJEAkgCTAJQAlQCWAJcAmACZAJoAmwCcAJ0AngCfAKAAoQCiAKMApAClAKYApwCoAKkAqgCrAKwArQCuAK8AsACxALIAswC0ALUAtgC3ALgAuQC6ALsAvAC9AL4AvwDAAMEAwgDDAMQAxQDGAMcAyADJAMoAywDMAM0AzgDPANAA0QDSANMA1ADVANYA1wDYANkA2gDbANwA3QDeAN8A4ADhAOIA4wDkAOUA5gDnAOgA6QDqAOsA7ADtAO4A7wDwAPEA8gDzAPQA9QD2APcA+AD5APoA+wD8AP0A/gD/AAABAQECAQMBBAEFAQYBBwEIAQkBCgELAQwBDQEOAQ8BEAERARIBEwEUARUBFgEXARgBGQEaARsBHAEdAR4BHwEgASEBIgEjASQBJQEmAScBKAEpASoBKwEsAS0BLgEvATABMQEyATMBNAE1ATYBNwE4ATkBOgE7ATwBPQE+AT8BQAFBAUIBQwFEAUUBRgFHAUgBSQFKAUsBTAFNAU4BTwFQAVEBUgFTAVQBVQFWAVcBWAFZAVoBWwFcAV0BXgFfAWABYQFiAWMBZAFlAWYBZwFoAWkBagFrAWwBbQFuAW8BcAFxAXIBcwF0AXUBdgF3AXgBeQF6AXsBfAF9AX4BfwGAAYEBggGDAYQBhQGGAYcBiAGJAYoBiwGMAY0BjgGPAZABkQGSAZMBlAGVAZYBlwGYAZkBmgGbAZwBnQGeAZ8BoAGhAaIBowGkAaUBpgGnAagBqQGqAasBrAGtAa4BrwGwAbEBsgGzAbQBtQG2AbcBuAG5AboBuwG8Ab0BvgG/AcABwQHCAcMBxAHFAcYBxwHIAckBygHLAcwBzQHOAc8B0AHRAdIB0wHUAdUB1gHXAdgB2QHaAdsB3AHdAd4B3wHgAQ==",
          "dtype": "u2"
         },
         "xaxis": "x10",
         "y": {
          "bdata": "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",
          "dtype": "f4"
         },
         "yaxis": "y10"
        },
        {
         "hoverinfo": "skip",
         "legendgroup": "SRP(E,256)",
         "line": {
          "color": "#AB63FA"
         },
         "mode": "lines",
         "name": "SRP(E,256)",
         "showlegend": false,
         "type": "scatter",
         "x": {
          "bdata": "gACBAIIAgwCEAIUAhgCHAIgAiQCKAIsAjACNAI4AjwCQAJEAkgCTAJQAlQCWAJcAmACZAJoAmwCcAJ0AngCfAKAAoQCiAKMApAClAKYApwCoAKkAqgCrAKwArQCuAK8AsACxALIAswC0ALUAtgC3ALgAuQC6ALsAvAC9AL4AvwDAAMEAwgDDAMQAxQDGAMcAyADJAMoAywDMAM0AzgDPANAA0QDSANMA1ADVANYA1wDYANkA2gDbANwA3QDeAN8A4ADhAOIA4wDkAOUA5gDnAOgA6QDqAOsA7ADtAO4A7wDwAPEA8gDzAPQA9QD2APcA+AD5APoA+wD8AP0A/gD/AAABAQECAQMBBAEFAQYBBwEIAQkBCgELAQwBDQEOAQ8BEAERARIBEwEUARUBFgEXARgBGQEaARsBHAEdAR4BHwEgASEBIgEjASQBJQEmAScBKAEpASoBKwEsAS0BLgEvATABMQEyATMBNAE1ATYBNwE4ATkBOgE7ATwBPQE+AT8BQAFBAUIBQwFEAUUBRgFHAUgBSQFKAUsBTAFNAU4BTwFQAVEBUgFTAVQBVQFWAVcBWAFZAVoBWwFcAV0BXgFfAWABYQFiAWMBZAFlAWYBZwFoAWkBagFrAWwBbQFuAW8BcAFxAXIBcwF0AXUBdgF3AXgBeQF6AXsBfAF9AX4BfwGAAQ==",
          "dtype": "u2"
         },
         "xaxis": "x10",
         "y": {
          "bdata": "YwbTPoIL0z4HDNM+wArTPnsI0z7tBdM+WwPTPogA0z6Q/dI+wfrSPuv30j4T9dI+OvLSPk/v0j7F7NI+RurSPsDn0j4M5dI+kOLSPuLf0j6Y3dI+NNvSPu3Y0j6Y1tI+V9TSPkjS0j4W0NI+wc3SPrTL0j7JydI+0cfSPtvF0j7dw9I+y8HSPsW/0j7EvdI+8LvSPuC50j7ct9I+77XSPge00j46stI+UbDSPp2u0j71rNI+IKvSPp2p0j4/qNI+Y6bSPt+k0j5yo9I+EqLSPtOg0j4tn9I+jp3SPiic0j4Im9I+pZnSPkOY0j7rltI+j5XSPkeU0j40k9I+uJHSPlmQ0j7+jtI+hI3SPjyM0j4Pi9I+0onSPkCJ0j6MiNI+rofSPqaG0j6phdI+pITSPrGD0j6HgtI+xoHSPuSA0j4IgNI+GX/SPuZ90j7ZfNI+wnvSPsp60j6wedI+2XjSPgF40j7kdtI+RnbSPq910j7JdNI+zXPSPsty0j7ncdI+w3DSPn5v0j5KbtI+HW3SPhBs0j4Va9I+/2nSPrpo0j6vZ9I+hWbSPnRl0j6qZNI+xWPSPtVi0j7/YdI+IGHSPidg0j44X9I+fl7SPqBd0j7pXNI+NFzSPoBb0j6fWtI+6VnSPg5Z0j5LWNI+f1fSPs9W0j4QVtI+e1XSPvBU0j5CVNI+kFPSPutS0j4PUtI+hVHSPiZR0j6qUNI+LFDSPp9P0j4nT9I+gE7SPvtN0j59TdI+4kzSPndM0j5yS9I+oUrSPgtK0j50SdI+DUnSPsZI0j6VSNI+LEjSPtVH0j5GR9I+y0bSPlFG0j6bRdI+60TSPmVE0j6ZQ9I+O0PSPsJC0j5LQtI+tEHSPhlB0j7PQNI+ekDSPvI/0j6hP9I+LD/SPpw+0j7rPdI+bT3SPgs90j5wPNI+4jvSPkc70j6yOtI+RDrSPvs50j6cOdI+FTnSPqM40j7lN9I+bzfSPqk20j4aNtI+mjXSPik10j6nNNI+DjTSPocz0j4fM9I+gjLSPgYy0j6dMdI+8TDSPmAw0j7vL9I+nC/SPnov0j4AL9I+Sy7SPrMt0j4sLdI+2CzSPoks0j4ZLNI+fCvSPgUr0j48KtI+fynSPv4o0j6rKNI+OSjSPqwn0j44J9I+sSbSPkwm0j7BJdI+YiXSPuok0j5lJNI+oCPSPjEj0j6+ItI+iSLSPkUi0j4rItI+8CHSPqYh0j51IdI+KSHSPr8g0j6DINI+ZSDSPgwg0j6yH9I+QR/SPggf0j61HtI+Kx7SPsAd0j4lHdI+phzSPhwc0j6bG9I+NRvSPrYa0j5MGtI+2xnSPqIZ0j7wGNI+oxjSPkIY0j69F9I+hhfSPjwX0j4=",
          "dtype": "f4"
         },
         "yaxis": "y10"
        },
        {
         "hoverinfo": "skip",
         "legendgroup": "SRP(E,4)",
         "line": {
          "color": "#636EFA"
         },
         "mode": "lines",
         "name": "SRP(E,4)",
         "showlegend": false,
         "type": "scatter",
         "x": {
          "bdata": "AgADAAQABQAGAAcACAAJAAoACwAMAA0ADgAPABAAEQASABMAFAAVABYAFwAYABkAGgAbABwAHQAeAB8AIAAhACIAIwAkACUAJgAnACgAKQAqACsALAAtAC4ALwAwADEAMgAzADQANQA2ADcAOAA5ADoAOwA8AD0APgA/AEAAQQBCAEMARABFAEYARwBIAEkASgBLAEwATQBOAE8AUABRAFIAUwBUAFUAVgBXAFgAWQBaAFsAXABdAF4AXwBgAGEAYgBjAGQAZQBmAGcAaABpAGoAawBsAG0AbgBvAHAAcQByAHMAdAB1AHYAdwB4AHkAegB7AHwAfQB+AH8AgACBAIIAgwCEAIUAhgCHAIgAiQCKAIsAjACNAI4AjwCQAJEAkgCTAJQAlQCWAJcAmACZAJoAmwCcAJ0AngCfAKAAoQCiAKMApAClAKYApwCoAKkAqgCrAKwArQCuAK8AsACxALIAswC0ALUAtgC3ALgAuQC6ALsAvAC9AL4AvwDAAMEAwgDDAMQAxQDGAMcAyADJAMoAywDMAM0AzgDPANAA0QDSANMA1ADVANYA1wDYANkA2gDbANwA3QDeAN8A4ADhAOIA4wDkAOUA5gDnAOgA6QDqAOsA7ADtAO4A7wDwAPEA8gDzAPQA9QD2APcA+AD5APoA+wD8AP0A/gD/AAABAQECAQMBBAEFAQYBBwEIAQkBCgELAQwBDQEOAQ8BEAERARIBEwEUARUBFgEXARgBGQEaARsBHAEdAR4BHwEgASEBIgEjASQBJQEmAScBKAEpASoBKwEsAS0BLgEvATABMQEyATMBNAE1ATYBNwE4ATkBOgE7ATwBPQE+AT8BQAFBAUIBQwFEAUUBRgFHAUgBSQFKAUsBTAFNAU4BTwFQAVEBUgFTAVQBVQFWAVcBWAFZAVoBWwFcAV0BXgFfAWABYQFiAWMBZAFlAWYBZwFoAWkBagFrAWwBbQFuAW8BcAFxAXIBcwF0AXUBdgF3AXgBeQF6AXsBfAF9AX4BfwGAAYEBggGDAYQBhQGGAYcBiAGJAYoBiwGMAY0BjgGPAZABkQGSAZMBlAGVAZYBlwGYAZkBmgGbAZwBnQGeAZ8BoAGhAaIBowGkAaUBpgGnAagBqQGqAasBrAGtAa4BrwGwAbEBsgGzAbQBtQG2AbcBuAG5AboBuwG8Ab0BvgG/AcABwQHCAcMBxAHFAcYBxwHIAckBygHLAcwBzQHOAc8B0AHRAdIB0wHUAdUB1gHXAdgB2QHaAdsB3AHdAd4B3wHgAeEB4gHjAeQB5QHmAecB6AHpAeoB6wHsAe0B7gHvAfAB8QHyAfMB9AH1AfYB9wH4AfkB+gH7AfwB/QH+AQ==",
          "dtype": "u2"
         },
         "xaxis": "x11",
         "y": {
          "bdata": "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",
          "dtype": "f4"
         },
         "yaxis": "y11"
        },
        {
         "hoverinfo": "skip",
         "legendgroup": "SRP(E,16)",
         "line": {
          "color": "#EF553B"
         },
         "mode": "lines",
         "name": "SRP(E,16)",
         "showlegend": false,
         "type": "scatter",
         "x": {
          "bdata": "CAAJAAoACwAMAA0ADgAPABAAEQASABMAFAAVABYAFwAYABkAGgAbABwAHQAeAB8AIAAhACIAIwAkACUAJgAnACgAKQAqACsALAAtAC4ALwAwADEAMgAzADQANQA2ADcAOAA5ADoAOwA8AD0APgA/AEAAQQBCAEMARABFAEYARwBIAEkASgBLAEwATQBOAE8AUABRAFIAUwBUAFUAVgBXAFgAWQBaAFsAXABdAF4AXwBgAGEAYgBjAGQAZQBmAGcAaABpAGoAawBsAG0AbgBvAHAAcQByAHMAdAB1AHYAdwB4AHkAegB7AHwAfQB+AH8AgACBAIIAgwCEAIUAhgCHAIgAiQCKAIsAjACNAI4AjwCQAJEAkgCTAJQAlQCWAJcAmACZAJoAmwCcAJ0AngCfAKAAoQCiAKMApAClAKYApwCoAKkAqgCrAKwArQCuAK8AsACxALIAswC0ALUAtgC3ALgAuQC6ALsAvAC9AL4AvwDAAMEAwgDDAMQAxQDGAMcAyADJAMoAywDMAM0AzgDPANAA0QDSANMA1ADVANYA1wDYANkA2gDbANwA3QDeAN8A4ADhAOIA4wDkAOUA5gDnAOgA6QDqAOsA7ADtAO4A7wDwAPEA8gDzAPQA9QD2APcA+AD5APoA+wD8AP0A/gD/AAABAQECAQMBBAEFAQYBBwEIAQkBCgELAQwBDQEOAQ8BEAERARIBEwEUARUBFgEXARgBGQEaARsBHAEdAR4BHwEgASEBIgEjASQBJQEmAScBKAEpASoBKwEsAS0BLgEvATABMQEyATMBNAE1ATYBNwE4ATkBOgE7ATwBPQE+AT8BQAFBAUIBQwFEAUUBRgFHAUgBSQFKAUsBTAFNAU4BTwFQAVEBUgFTAVQBVQFWAVcBWAFZAVoBWwFcAV0BXgFfAWABYQFiAWMBZAFlAWYBZwFoAWkBagFrAWwBbQFuAW8BcAFxAXIBcwF0AXUBdgF3AXgBeQF6AXsBfAF9AX4BfwGAAYEBggGDAYQBhQGGAYcBiAGJAYoBiwGMAY0BjgGPAZABkQGSAZMBlAGVAZYBlwGYAZkBmgGbAZwBnQGeAZ8BoAGhAaIBowGkAaUBpgGnAagBqQGqAasBrAGtAa4BrwGwAbEBsgGzAbQBtQG2AbcBuAG5AboBuwG8Ab0BvgG/AcABwQHCAcMBxAHFAcYBxwHIAckBygHLAcwBzQHOAc8B0AHRAdIB0wHUAdUB1gHXAdgB2QHaAdsB3AHdAd4B3wHgAeEB4gHjAeQB5QHmAecB6AHpAeoB6wHsAe0B7gHvAfAB8QHyAfMB9AH1AfYB9wH4AQ==",
          "dtype": "u2"
         },
         "xaxis": "x11",
         "y": {
          "bdata": "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",
          "dtype": "f4"
         },
         "yaxis": "y11"
        },
        {
         "hoverinfo": "skip",
         "legendgroup": "SRP(E,64)",
         "line": {
          "color": "#00CC96"
         },
         "mode": "lines",
         "name": "SRP(E,64)",
         "showlegend": false,
         "type": "scatter",
         "x": {
          "bdata": "IAAhACIAIwAkACUAJgAnACgAKQAqACsALAAtAC4ALwAwADEAMgAzADQANQA2ADcAOAA5ADoAOwA8AD0APgA/AEAAQQBCAEMARABFAEYARwBIAEkASgBLAEwATQBOAE8AUABRAFIAUwBUAFUAVgBXAFgAWQBaAFsAXABdAF4AXwBgAGEAYgBjAGQAZQBmAGcAaABpAGoAawBsAG0AbgBvAHAAcQByAHMAdAB1AHYAdwB4AHkAegB7AHwAfQB+AH8AgACBAIIAgwCEAIUAhgCHAIgAiQCKAIsAjACNAI4AjwCQAJEAkgCTAJQAlQCWAJcAmACZAJoAmwCcAJ0AngCfAKAAoQCiAKMApAClAKYApwCoAKkAqgCrAKwArQCuAK8AsACxALIAswC0ALUAtgC3ALgAuQC6ALsAvAC9AL4AvwDAAMEAwgDDAMQAxQDGAMcAyADJAMoAywDMAM0AzgDPANAA0QDSANMA1ADVANYA1wDYANkA2gDbANwA3QDeAN8A4ADhAOIA4wDkAOUA5gDnAOgA6QDqAOsA7ADtAO4A7wDwAPEA8gDzAPQA9QD2APcA+AD5APoA+wD8AP0A/gD/AAABAQECAQMBBAEFAQYBBwEIAQkBCgELAQwBDQEOAQ8BEAERARIBEwEUARUBFgEXARgBGQEaARsBHAEdAR4BHwEgASEBIgEjASQBJQEmAScBKAEpASoBKwEsAS0BLgEvATABMQEyATMBNAE1ATYBNwE4ATkBOgE7ATwBPQE+AT8BQAFBAUIBQwFEAUUBRgFHAUgBSQFKAUsBTAFNAU4BTwFQAVEBUgFTAVQBVQFWAVcBWAFZAVoBWwFcAV0BXgFfAWABYQFiAWMBZAFlAWYBZwFoAWkBagFrAWwBbQFuAW8BcAFxAXIBcwF0AXUBdgF3AXgBeQF6AXsBfAF9AX4BfwGAAYEBggGDAYQBhQGGAYcBiAGJAYoBiwGMAY0BjgGPAZABkQGSAZMBlAGVAZYBlwGYAZkBmgGbAZwBnQGeAZ8BoAGhAaIBowGkAaUBpgGnAagBqQGqAasBrAGtAa4BrwGwAbEBsgGzAbQBtQG2AbcBuAG5AboBuwG8Ab0BvgG/AcABwQHCAcMBxAHFAcYBxwHIAckBygHLAcwBzQHOAc8B0AHRAdIB0wHUAdUB1gHXAdgB2QHaAdsB3AHdAd4B3wHgAQ==",
          "dtype": "u2"
         },
         "xaxis": "x11",
         "y": {
          "bdata": "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",
          "dtype": "f4"
         },
         "yaxis": "y11"
        },
        {
         "hoverinfo": "skip",
         "legendgroup": "SRP(E,256)",
         "line": {
          "color": "#AB63FA"
         },
         "mode": "lines",
         "name": "SRP(E,256)",
         "showlegend": false,
         "type": "scatter",
         "x": {
          "bdata": "gACBAIIAgwCEAIUAhgCHAIgAiQCKAIsAjACNAI4AjwCQAJEAkgCTAJQAlQCWAJcAmACZAJoAmwCcAJ0AngCfAKAAoQCiAKMApAClAKYApwCoAKkAqgCrAKwArQCuAK8AsACxALIAswC0ALUAtgC3ALgAuQC6ALsAvAC9AL4AvwDAAMEAwgDDAMQAxQDGAMcAyADJAMoAywDMAM0AzgDPANAA0QDSANMA1ADVANYA1wDYANkA2gDbANwA3QDeAN8A4ADhAOIA4wDkAOUA5gDnAOgA6QDqAOsA7ADtAO4A7wDwAPEA8gDzAPQA9QD2APcA+AD5APoA+wD8AP0A/gD/AAABAQECAQMBBAEFAQYBBwEIAQkBCgELAQwBDQEOAQ8BEAERARIBEwEUARUBFgEXARgBGQEaARsBHAEdAR4BHwEgASEBIgEjASQBJQEmAScBKAEpASoBKwEsAS0BLgEvATABMQEyATMBNAE1ATYBNwE4ATkBOgE7ATwBPQE+AT8BQAFBAUIBQwFEAUUBRgFHAUgBSQFKAUsBTAFNAU4BTwFQAVEBUgFTAVQBVQFWAVcBWAFZAVoBWwFcAV0BXgFfAWABYQFiAWMBZAFlAWYBZwFoAWkBagFrAWwBbQFuAW8BcAFxAXIBcwF0AXUBdgF3AXgBeQF6AXsBfAF9AX4BfwGAAQ==",
          "dtype": "u2"
         },
         "xaxis": "x11",
         "y": {
          "bdata": "eyrQPoM00D7mNNA+NDTQPmMz0D63MtA+wTHQPr0w0D7hL9A+Bi/QPgEu0D77LNA+8ivQPs0q0D75KdA+MSnQPk4o0D6SJ9A+nibQPrYl0D4PJdA+eCTQPp8j0D7gItA+JyLQPkoh0D5gINA+wR/QPiMf0D5dHtA+rx3QPuMc0D41HNA+jhvQPrIa0D6hGdA+0hjQPvsX0D4ZF9A+cRbQPr0V0D4jFdA+TBTQPmkT0D6FEtA+7RHQPioR0D56ENA+DBDQPkAP0D7FDtA+Vw7QPuYN0D5PDdA+nAzQPuML0D5GC9A+0QrQPkEK0D6SCdA+FQnQPo4I0D5mCNA+/QfQPnYH0D6wBtA+RQbQPvkF0D52BdA+OwXQPtEE0D5FBNA+2APQPooD0D5QA9A++QLQPjcC0D68AdA+kQHQPv8A0D6FANA+HgDQPn//zz4u/88+1f7PPof+zz4W/s8+rf3PPmn9zz4Z/c8+d/zPPhb8zz6++88+LvvPPrr6zz5H+s8+8fnPPqb5zz5Z+c8+4/jPPtb4zz51+M8+6/fPPmD3zz4p988+A/fPPtD2zz539s8+MvbPPrv1zz5Z9c8+DvXPPvf0zz7G9M8+VvTPPvLzzz7R888+k/PPPizzzz7i8s8+ifLPPu7xzz6d8c8+b/HPPi7xzz4M8c8+//DPPsfwzz6t8M8+aPDPPj/wzz4d8M8+q+/PPpHvzz5V788+7e7PPozuzz4o7s8+re3PPlHtzz4b7c8+Du3PPuXszz5X7M8+GuzPPuvrzz6i688+bevPPkfrzz4f688+8+rPPr/qzz6E6s8+J+rPPsDpzz5n6c8+JunPPsXozz5h6M8+LujPPurnzz6g588+R+fPPgDnzz6f5s8+S+bPPtDlzz6f5c8+auXPPkvlzz4D5c8+6OTPPtTkzz6K5M8+P+TPPuTjzz6s488+dePPPnDjzz47488+0OLPPovizz5F4s8+IeLPPsfhzz6v4c8+oOHPPrLhzz5p4c8+I+HPPhfhzz7i4M8+x+DPPpXgzz5e4M8+QuDPPhfgzz7a388+td/PPn3fzz5t388+U9/PPhrfzz7R3s8+ot7PPnfezz5s3s8+T97PPkvezz4r3s8+6d3PPsjdzz7a3c8++d3PPrfdzz6p3c8+iN3PPmXdzz4b3c8+M93PPgndzz7f3M8+vNzPPpDczz5e3M8+NdzPPjnczz7z288+wdvPPn7bzz4y288+JNvPPhXbzz7M2s8+odrPPjPazz4B2s8++9nPPhDazz762c8+ANrPPuXZzz7T2c8+oNnPPn/Zzz6W2c8+l9nPPofZzz6F2c8+S9nPPgXZzz7R2M8+rNjPPnjYzz5I2M8+8dfPPu/Xzz4=",
          "dtype": "f4"
         },
         "yaxis": "y11"
        },
        {
         "hoverinfo": "skip",
         "legendgroup": "SRP(E,4)",
         "line": {
          "color": "#636EFA"
         },
         "mode": "lines",
         "name": "SRP(E,4)",
         "showlegend": false,
         "type": "scatter",
         "x": {
          "bdata": "AgADAAQABQAGAAcACAAJAAoACwAMAA0ADgAPABAAEQASABMAFAAVABYAFwAYABkAGgAbABwAHQAeAB8AIAAhACIAIwAkACUAJgAnACgAKQAqACsALAAtAC4ALwAwADEAMgAzADQANQA2ADcAOAA5ADoAOwA8AD0APgA/AEAAQQBCAEMARABFAEYARwBIAEkASgBLAEwATQBOAE8AUABRAFIAUwBUAFUAVgBXAFgAWQBaAFsAXABdAF4AXwBgAGEAYgBjAGQAZQBmAGcAaABpAGoAawBsAG0AbgBvAHAAcQByAHMAdAB1AHYAdwB4AHkAegB7AHwAfQB+AH8AgACBAIIAgwCEAIUAhgCHAIgAiQCKAIsAjACNAI4AjwCQAJEAkgCTAJQAlQCWAJcAmACZAJoAmwCcAJ0AngCfAKAAoQCiAKMApAClAKYApwCoAKkAqgCrAKwArQCuAK8AsACxALIAswC0ALUAtgC3ALgAuQC6ALsAvAC9AL4AvwDAAMEAwgDDAMQAxQDGAMcAyADJAMoAywDMAM0AzgDPANAA0QDSANMA1ADVANYA1wDYANkA2gDbANwA3QDeAN8A4ADhAOIA4wDkAOUA5gDnAOgA6QDqAOsA7ADtAO4A7wDwAPEA8gDzAPQA9QD2APcA+AD5APoA+wD8AP0A/gD/AAABAQECAQMBBAEFAQYBBwEIAQkBCgELAQwBDQEOAQ8BEAERARIBEwEUARUBFgEXARgBGQEaARsBHAEdAR4BHwEgASEBIgEjASQBJQEmAScBKAEpASoBKwEsAS0BLgEvATABMQEyATMBNAE1ATYBNwE4ATkBOgE7ATwBPQE+AT8BQAFBAUIBQwFEAUUBRgFHAUgBSQFKAUsBTAFNAU4BTwFQAVEBUgFTAVQBVQFWAVcBWAFZAVoBWwFcAV0BXgFfAWABYQFiAWMBZAFlAWYBZwFoAWkBagFrAWwBbQFuAW8BcAFxAXIBcwF0AXUBdgF3AXgBeQF6AXsBfAF9AX4BfwGAAYEBggGDAYQBhQGGAYcBiAGJAYoBiwGMAY0BjgGPAZABkQGSAZMBlAGVAZYBlwGYAZkBmgGbAZwBnQGeAZ8BoAGhAaIBowGkAaUBpgGnAagBqQGqAasBrAGtAa4BrwGwAbEBsgGzAbQBtQG2AbcBuAG5AboBuwG8Ab0BvgG/AcABwQHCAcMBxAHFAcYBxwHIAckBygHLAcwBzQHOAc8B0AHRAdIB0wHUAdUB1gHXAdgB2QHaAdsB3AHdAd4B3wHgAeEB4gHjAeQB5QHmAecB6AHpAeoB6wHsAe0B7gHvAfAB8QHyAfMB9AH1AfYB9wH4AfkB+gH7AfwB/QH+AQ==",
          "dtype": "u2"
         },
         "xaxis": "x12",
         "y": {
          "bdata": "/4MCPzPmDT+/QxA/QNIQP0TwED/VxxA/pI8QP5Z+ED91aRA/k1sQP78pED/E/A8/g90PP7u5Dz9Hlg8/k24PPwlpDz+lOQ8/RScPP+4JDz96+Q4/vccOP5K4Dj+Ylg4/In0OP5JpDj9jTw4/iDEOP+EQDj8oGQ4/FN4NP6epDT/IjQ0/EYMNP2qEDT/2Yw0/2DcNPxYtDT8FOw0/eSgNP4UODT8y9Aw/F9cMP7m8DD9htww/G6QMP7SHDD+Mfgw//2sMPy5KDD/rSgw/sEcMPwdEDD9pMQw/PhcMP/b3Cz994Qs/iNsLP8axCz+sygs/hLYLP+edCz9Edws/LngLPwWECz+7hgs/I3kLPzpqCz/3cAs/c2ULP901Cz9HOQs/fSoLP3s4Cz+HNgs/FSsLP5sUCz+CBQs/cu4KP6z6Cj9g6wo/+tYKP5/oCj+F1Ao/JMUKP+e2Cj/tpgo/0KwKPymiCj9Grwo/NJcKP9iZCj/jkwo//4cKP4lzCj8zbwo/7lIKP0lNCj9vPAo/v0cKP0Q8Cj/qOgo/li8KP8IfCj/dLgo/OTMKP+onCj+LGQo/lQ8KP+UWCj897gk/18AJP9nFCT85zgk/49QJP87QCT9O1wk/69cJPzbiCT9j6Ak//tcJPz62CT9zvQk/rMoJP5PUCT/fwgk/8LEJP5GiCT9/vwk/EaAJP2qcCT/wswk/Ap0JPxyMCT+8awk/N40JP8exCT8ttQk/A58JPwqNCT/5lQk/iHoJP2h3CT/7YAk/I2AJP2laCT/+Xgk/QWwJPwNxCT9mbQk/m2QJPzJiCT8lZQk/C0EJP9k/CT9JKAk/F0kJPyhJCT/2VAk/BlMJPxddCT94aQk/5VgJP9dkCT8yYQk/310JP3ZwCT9oawk/alIJP5pLCT9KEwk/nwcJPxURCT8KIQk/liQJPxUaCT/bAgk/kggJP2AmCT8SGAk/kw0JPzIHCT+NAQk/H/8IP5AMCT/UCgk/5RMJPw8WCT/rFAk/UhIJP0/3CD9m5Ag/MugIP/3LCD9r0wg/3N8IPwTnCD9L7wg/TOMIPxHbCD+Nygg/rdIIP4XUCD+95gg/2+AIPx/eCD9E3Ag/39IIP167CD+8ugg/nLsIP9a5CD/mxgg/Jr4IP9KfCD+JrQg/5bQIP1nECD8o2Ag/8MEIP2G6CD82vQg/8roIP8G1CD/Vrgg/3akIP63ACD8RuQg/fKAIP9SHCD83pgg/kq0IPwCQCD8bkAg/uIMIPz98CD+IfAg/iX0IP/1fCD+BWQg/u1sIPxVRCD+sYwg/qVcIPx9jCD/newg/14QIP+KSCD9sjwg/h2gIPytXCD/vTAg/tFQIP+xOCD8wXwg/PWQIPz49CD8WUQg/nkgIPyBHCD9ZXgg/a3AIPwSJCD9VYgg/Gj8IP9YwCD/qTQg/K2YIPwJkCD89UAg/CVUIPzVCCD8HOwg/PzgIP4tfCD94Ygg/hWIIPyJZCD8hUgg/yDQIP7crCD/ZSQg/bFsIP8tTCD90Sgg//iwIP64nCD9wNgg/dBgIP7gYCD/OOQg/JlEIPyxRCD/PRAg/YCcIP6cnCD/zKAg/KzoIP8w0CD+EKgg//RgIP3cUCD/mIAg/qS0IP1wkCD8MEwg/Uf8HP9kOCD+JGwg/nSQIPwgvCD/gIgg/LxYIPxgbCD81Hwg/2xwIP2UXCD+bEwg/bgkIP0sfCD8REQg/oBkIP2sLCD8v+Ac/NB0IP6MYCD9APQg/wj8IP5ZNCD9ZLAg/rSEIP5IzCD8xPQg/Cj4IPzMrCD8sKAg/DxkIPxQYCD9AHQg/+BAIP4YKCD/6/wc/thgIP478Bz8k9wc/cfoHP9sQCD9JDgg/+RUIPwoBCD+c+wc/2u8HP93uBz+6AQg/Ew4IPwDtBz+C7gc/YgQIP7XqBz9S6Ac/j98HP4zxBz+FAQg/1PoHP0D7Bz+C4gc/suQHPzLbBz9t3gc/2OgHP2XnBz/L3wc/YtIHP0zdBz+o5Ac/CsoHPx7WBz+k2gc/A9kHP5zFBz+G0gc/Cs0HP1TiBz9T3wc/b+4HPxbhBz8ewwc/Y84HP3fYBz9pyQc/JtcHP/W2Bz+usgc/h6kHP52YBz96lAc/h5UHPyGnBz+Prwc/pKcHP1isBz99wQc/vawHP8WJBz+Pngc/VbEHPz27Bz/prQc/Vq4HPwrHBz++xwc/jtYHP6C9Bz+R2Ac/v8sHP26uBz/4mAc/cLcHP+e/Bz+D1wc/uNYHPyLNBz+/xwc/kbMHP3mLBz+wpQc/hKwHP4m5Bz8BuAc/ascHP0G7Bz8nvQc/+7EHP+yoBz8usgc/2NUHP0vmBz+R3Ac/FMsHP8TbBz/fwwc//8sHP3LABz9A0Ac/Os8HP/LQBz/Ctwc/hbAHPzuwBz8mjAc/HZYHP8aRBz+0sQc/uKsHP0O1Bz+wyQc/UcoHP96uBz+roQc/ZZcHP3qmBz/bvAc/D74HPw/DBz/bxAc/ScMHPz2WBz8Ljwc/gJAHPxmEBz+giwc/eZ4HPx+wBz8ungc/NKUHPy6jBz+vowc/tKwHP56LBz8DoAc/oq0HP2yuBz8dsgc/4bEHPxyyBz9bzAc/prgHP4CxBz/Ssgc/QasHP4OYBz84mQc/oKQHPye6Bz9Upwc/za8HP6ScBz+5kwc/zZsHP+avBz+njgc/eW4HP45tBz8xZAc/i3IHP4B1Bz8Ikwc/QZ8HP96oBz8=",
          "dtype": "f4"
         },
         "yaxis": "y12"
        },
        {
         "hoverinfo": "skip",
         "legendgroup": "SRP(E,16)",
         "line": {
          "color": "#EF553B"
         },
         "mode": "lines",
         "name": "SRP(E,16)",
         "showlegend": false,
         "type": "scatter",
         "x": {
          "bdata": "CAAJAAoACwAMAA0ADgAPABAAEQASABMAFAAVABYAFwAYABkAGgAbABwAHQAeAB8AIAAhACIAIwAkACUAJgAnACgAKQAqACsALAAtAC4ALwAwADEAMgAzADQANQA2ADcAOAA5ADoAOwA8AD0APgA/AEAAQQBCAEMARABFAEYARwBIAEkASgBLAEwATQBOAE8AUABRAFIAUwBUAFUAVgBXAFgAWQBaAFsAXABdAF4AXwBgAGEAYgBjAGQAZQBmAGcAaABpAGoAawBsAG0AbgBvAHAAcQByAHMAdAB1AHYAdwB4AHkAegB7AHwAfQB+AH8AgACBAIIAgwCEAIUAhgCHAIgAiQCKAIsAjACNAI4AjwCQAJEAkgCTAJQAlQCWAJcAmACZAJoAmwCcAJ0AngCfAKAAoQCiAKMApAClAKYApwCoAKkAqgCrAKwArQCuAK8AsACxALIAswC0ALUAtgC3ALgAuQC6ALsAvAC9AL4AvwDAAMEAwgDDAMQAxQDGAMcAyADJAMoAywDMAM0AzgDPANAA0QDSANMA1ADVANYA1wDYANkA2gDbANwA3QDeAN8A4ADhAOIA4wDkAOUA5gDnAOgA6QDqAOsA7ADtAO4A7wDwAPEA8gDzAPQA9QD2APcA+AD5APoA+wD8AP0A/gD/AAABAQECAQMBBAEFAQYBBwEIAQkBCgELAQwBDQEOAQ8BEAERARIBEwEUARUBFgEXARgBGQEaARsBHAEdAR4BHwEgASEBIgEjASQBJQEmAScBKAEpASoBKwEsAS0BLgEvATABMQEyATMBNAE1ATYBNwE4ATkBOgE7ATwBPQE+AT8BQAFBAUIBQwFEAUUBRgFHAUgBSQFKAUsBTAFNAU4BTwFQAVEBUgFTAVQBVQFWAVcBWAFZAVoBWwFcAV0BXgFfAWABYQFiAWMBZAFlAWYBZwFoAWkBagFrAWwBbQFuAW8BcAFxAXIBcwF0AXUBdgF3AXgBeQF6AXsBfAF9AX4BfwGAAYEBggGDAYQBhQGGAYcBiAGJAYoBiwGMAY0BjgGPAZABkQGSAZMBlAGVAZYBlwGYAZkBmgGbAZwBnQGeAZ8BoAGhAaIBowGkAaUBpgGnAagBqQGqAasBrAGtAa4BrwGwAbEBsgGzAbQBtQG2AbcBuAG5AboBuwG8Ab0BvgG/AcABwQHCAcMBxAHFAcYBxwHIAckBygHLAcwBzQHOAc8B0AHRAdIB0wHUAdUB1gHXAdgB2QHaAdsB3AHdAd4B3wHgAeEB4gHjAeQB5QHmAecB6AHpAeoB6wHsAe0B7gHvAfAB8QHyAfMB9AH1AfYB9wH4AQ==",
          "dtype": "u2"
         },
         "xaxis": "x12",
         "y": {
          "bdata": "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",
          "dtype": "f4"
         },
         "yaxis": "y12"
        },
        {
         "hoverinfo": "skip",
         "legendgroup": "SRP(E,64)",
         "line": {
          "color": "#00CC96"
         },
         "mode": "lines",
         "name": "SRP(E,64)",
         "showlegend": false,
         "type": "scatter",
         "x": {
          "bdata": "IAAhACIAIwAkACUAJgAnACgAKQAqACsALAAtAC4ALwAwADEAMgAzADQANQA2ADcAOAA5ADoAOwA8AD0APgA/AEAAQQBCAEMARABFAEYARwBIAEkASgBLAEwATQBOAE8AUABRAFIAUwBUAFUAVgBXAFgAWQBaAFsAXABdAF4AXwBgAGEAYgBjAGQAZQBmAGcAaABpAGoAawBsAG0AbgBvAHAAcQByAHMAdAB1AHYAdwB4AHkAegB7AHwAfQB+AH8AgACBAIIAgwCEAIUAhgCHAIgAiQCKAIsAjACNAI4AjwCQAJEAkgCTAJQAlQCWAJcAmACZAJoAmwCcAJ0AngCfAKAAoQCiAKMApAClAKYApwCoAKkAqgCrAKwArQCuAK8AsACxALIAswC0ALUAtgC3ALgAuQC6ALsAvAC9AL4AvwDAAMEAwgDDAMQAxQDGAMcAyADJAMoAywDMAM0AzgDPANAA0QDSANMA1ADVANYA1wDYANkA2gDbANwA3QDeAN8A4ADhAOIA4wDkAOUA5gDnAOgA6QDqAOsA7ADtAO4A7wDwAPEA8gDzAPQA9QD2APcA+AD5APoA+wD8AP0A/gD/AAABAQECAQMBBAEFAQYBBwEIAQkBCgELAQwBDQEOAQ8BEAERARIBEwEUARUBFgEXARgBGQEaARsBHAEdAR4BHwEgASEBIgEjASQBJQEmAScBKAEpASoBKwEsAS0BLgEvATABMQEyATMBNAE1ATYBNwE4ATkBOgE7ATwBPQE+AT8BQAFBAUIBQwFEAUUBRgFHAUgBSQFKAUsBTAFNAU4BTwFQAVEBUgFTAVQBVQFWAVcBWAFZAVoBWwFcAV0BXgFfAWABYQFiAWMBZAFlAWYBZwFoAWkBagFrAWwBbQFuAW8BcAFxAXIBcwF0AXUBdgF3AXgBeQF6AXsBfAF9AX4BfwGAAYEBggGDAYQBhQGGAYcBiAGJAYoBiwGMAY0BjgGPAZABkQGSAZMBlAGVAZYBlwGYAZkBmgGbAZwBnQGeAZ8BoAGhAaIBowGkAaUBpgGnAagBqQGqAasBrAGtAa4BrwGwAbEBsgGzAbQBtQG2AbcBuAG5AboBuwG8Ab0BvgG/AcABwQHCAcMBxAHFAcYBxwHIAckBygHLAcwBzQHOAc8B0AHRAdIB0wHUAdUB1gHXAdgB2QHaAdsB3AHdAd4B3wHgAQ==",
          "dtype": "u2"
         },
         "xaxis": "x12",
         "y": {
          "bdata": "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",
          "dtype": "f4"
         },
         "yaxis": "y12"
        },
        {
         "hoverinfo": "skip",
         "legendgroup": "SRP(E,256)",
         "line": {
          "color": "#AB63FA"
         },
         "mode": "lines",
         "name": "SRP(E,256)",
         "showlegend": false,
         "type": "scatter",
         "x": {
          "bdata": "gACBAIIAgwCEAIUAhgCHAIgAiQCKAIsAjACNAI4AjwCQAJEAkgCTAJQAlQCWAJcAmACZAJoAmwCcAJ0AngCfAKAAoQCiAKMApAClAKYApwCoAKkAqgCrAKwArQCuAK8AsACxALIAswC0ALUAtgC3ALgAuQC6ALsAvAC9AL4AvwDAAMEAwgDDAMQAxQDGAMcAyADJAMoAywDMAM0AzgDPANAA0QDSANMA1ADVANYA1wDYANkA2gDbANwA3QDeAN8A4ADhAOIA4wDkAOUA5gDnAOgA6QDqAOsA7ADtAO4A7wDwAPEA8gDzAPQA9QD2APcA+AD5APoA+wD8AP0A/gD/AAABAQECAQMBBAEFAQYBBwEIAQkBCgELAQwBDQEOAQ8BEAERARIBEwEUARUBFgEXARgBGQEaARsBHAEdAR4BHwEgASEBIgEjASQBJQEmAScBKAEpASoBKwEsAS0BLgEvATABMQEyATMBNAE1ATYBNwE4ATkBOgE7ATwBPQE+AT8BQAFBAUIBQwFEAUUBRgFHAUgBSQFKAUsBTAFNAU4BTwFQAVEBUgFTAVQBVQFWAVcBWAFZAVoBWwFcAV0BXgFfAWABYQFiAWMBZAFlAWYBZwFoAWkBagFrAWwBbQFuAW8BcAFxAXIBcwF0AXUBdgF3AXgBeQF6AXsBfAF9AX4BfwGAAQ==",
          "dtype": "u2"
         },
         "xaxis": "x12",
         "y": {
          "bdata": "Z/qPPhU8kD4XVJA+O12QPp5fkD5OXpA+2FmQPhtUkD7JTJA+/0OQPlU6kD6hL5A+qSSQPnIZkD66DZA+gwGQPmz1jz6u6Y8+4t2PPtjRjz4MxY8+nriPPq6sjz5RoI8+kZOPPu+Gjz7ueo8+f26PPkVijz48V48+WEuPPnM/jz4XNI8+GSiPPqscjz6wEY8+bAaPPqT7jj408Y4++eaOPkncjj6v0Y4+usaOPku8jj65sY4+JKeOPmWcjj7YkY4+14eOPnp9jj6Bc44+g2mOPplfjj7AVY4+oUuOPo9Bjj4vOI4+qy6OPooljj6jHI4+chOOPqUJjj46AI4+RPeNPgDujT4p5Y0+NtyNPjXUjT62y40+hcONPuG6jT6jsY0+5KiNPi2gjT61l40+A4+NPpeGjT45fo0+xXWNPuRtjT65ZY0+a12NPnBVjT6LTY0+6UWNPiE+jT5ANo0+7y6NPoQnjT71H40+yRiNPrMQjT6KCI0+xwCNPtT5jD7S8ow+3OuMPm7ljD613ow+DNiMPqLRjD44y4w+48SMPgi+jD6Bt4w+47CMPk2qjD4NpIw+EZ2MPoaWjD7bj4w+P4mMPh6DjD7hfIw+N3eMPj5xjD59a4w+2mWMPjBgjD5vWow+olSMPoRPjD5oSow+zESMPs4/jD60Oow+mjWMPmEwjD5nK4w+bSaMPgYijD4lHYw+lxiMPg0UjD4FD4w+ewqMPrUFjD5LAIw+T/uLPiH2iz6M8Ys+mOyLPrTniz6T4os+6d2LPqfZiz6V1Ys+O9GLPu7Miz7HyIs+YcSLPgzAiz4LvIs+L7iLPm+0iz6EsIs+LK2LPoSpiz5TpYs+RqGLPlmdiz57mYs+5pWLPs+Riz4rjos+2IqLPh+Hiz7Ng4s+eICLPvp8iz6jeYs+G3aLPiRyiz5ebos+bGqLPkxmiz6ZYos+AV+LPopbiz5wV4s+oFOLPhFQiz4cTYs+wUmLPlBGiz56Qos+mT6LPkg7iz4wOIs+ejSLPlwwiz6hLIs+ZSmLPv8liz73Ios+MCCLPtUciz4vGYs+3xWLPjUSiz7rDos+/QuLPqwIiz6BBYs++gGLPoj+ij4s+4o+WviKPmz1ij488oo+Me+KPiXsij7+6Io+CuaKPv7iij4w4Io+Ot2KPnfaij5614o+5dOKPvjQij6yzYo+x8qKPnfHij6MxIo+v8GKPva+ij4fvIo+WbmKPnC2ij6/s4o+ELGKPi6uij6qq4o+YKmKPsemij7to4o+S6CKPimdij4Omoo+xpeKPoeVij5mk4o+5JCKPnmOij4njIo+rImKPsyHij4mhYo+JoKKPsR/ij5QfYo+L3uKPmR4ij5EdYo+YnKKPrZvij4=",
          "dtype": "f4"
         },
         "yaxis": "y12"
        },
        {
         "hoverinfo": "skip",
         "legendgroup": "SRP(E,4)",
         "line": {
          "color": "#636EFA"
         },
         "mode": "lines",
         "name": "SRP(E,4)",
         "showlegend": false,
         "type": "scatter",
         "x": {
          "bdata": "AgADAAQABQAGAAcACAAJAAoACwAMAA0ADgAPABAAEQASABMAFAAVABYAFwAYABkAGgAbABwAHQAeAB8AIAAhACIAIwAkACUAJgAnACgAKQAqACsALAAtAC4ALwAwADEAMgAzADQANQA2ADcAOAA5ADoAOwA8AD0APgA/AEAAQQBCAEMARABFAEYARwBIAEkASgBLAEwATQBOAE8AUABRAFIAUwBUAFUAVgBXAFgAWQBaAFsAXABdAF4AXwBgAGEAYgBjAGQAZQBmAGcAaABpAGoAawBsAG0AbgBvAHAAcQByAHMAdAB1AHYAdwB4AHkAegB7AHwAfQB+AH8AgACBAIIAgwCEAIUAhgCHAIgAiQCKAIsAjACNAI4AjwCQAJEAkgCTAJQAlQCWAJcAmACZAJoAmwCcAJ0AngCfAKAAoQCiAKMApAClAKYApwCoAKkAqgCrAKwArQCuAK8AsACxALIAswC0ALUAtgC3ALgAuQC6ALsAvAC9AL4AvwDAAMEAwgDDAMQAxQDGAMcAyADJAMoAywDMAM0AzgDPANAA0QDSANMA1ADVANYA1wDYANkA2gDbANwA3QDeAN8A4ADhAOIA4wDkAOUA5gDnAOgA6QDqAOsA7ADtAO4A7wDwAPEA8gDzAPQA9QD2APcA+AD5APoA+wD8AP0A/gD/AAABAQECAQMBBAEFAQYBBwEIAQkBCgELAQwBDQEOAQ8BEAERARIBEwEUARUBFgEXARgBGQEaARsBHAEdAR4BHwEgASEBIgEjASQBJQEmAScBKAEpASoBKwEsAS0BLgEvATABMQEyATMBNAE1ATYBNwE4ATkBOgE7ATwBPQE+AT8BQAFBAUIBQwFEAUUBRgFHAUgBSQFKAUsBTAFNAU4BTwFQAVEBUgFTAVQBVQFWAVcBWAFZAVoBWwFcAV0BXgFfAWABYQFiAWMBZAFlAWYBZwFoAWkBagFrAWwBbQFuAW8BcAFxAXIBcwF0AXUBdgF3AXgBeQF6AXsBfAF9AX4BfwGAAYEBggGDAYQBhQGGAYcBiAGJAYoBiwGMAY0BjgGPAZABkQGSAZMBlAGVAZYBlwGYAZkBmgGbAZwBnQGeAZ8BoAGhAaIBowGkAaUBpgGnAagBqQGqAasBrAGtAa4BrwGwAbEBsgGzAbQBtQG2AbcBuAG5AboBuwG8Ab0BvgG/AcABwQHCAcMBxAHFAcYBxwHIAckBygHLAcwBzQHOAc8B0AHRAdIB0wHUAdUB1gHXAdgB2QHaAdsB3AHdAd4B3wHgAeEB4gHjAeQB5QHmAecB6AHpAeoB6wHsAe0B7gHvAfAB8QHyAfMB9AH1AfYB9wH4AfkB+gH7AfwB/QH+AQ==",
          "dtype": "u2"
         },
         "xaxis": "x13",
         "y": {
          "bdata": "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",
          "dtype": "f4"
         },
         "yaxis": "y13"
        },
        {
         "hoverinfo": "skip",
         "legendgroup": "SRP(E,16)",
         "line": {
          "color": "#EF553B"
         },
         "mode": "lines",
         "name": "SRP(E,16)",
         "showlegend": false,
         "type": "scatter",
         "x": {
          "bdata": "CAAJAAoACwAMAA0ADgAPABAAEQASABMAFAAVABYAFwAYABkAGgAbABwAHQAeAB8AIAAhACIAIwAkACUAJgAnACgAKQAqACsALAAtAC4ALwAwADEAMgAzADQANQA2ADcAOAA5ADoAOwA8AD0APgA/AEAAQQBCAEMARABFAEYARwBIAEkASgBLAEwATQBOAE8AUABRAFIAUwBUAFUAVgBXAFgAWQBaAFsAXABdAF4AXwBgAGEAYgBjAGQAZQBmAGcAaABpAGoAawBsAG0AbgBvAHAAcQByAHMAdAB1AHYAdwB4AHkAegB7AHwAfQB+AH8AgACBAIIAgwCEAIUAhgCHAIgAiQCKAIsAjACNAI4AjwCQAJEAkgCTAJQAlQCWAJcAmACZAJoAmwCcAJ0AngCfAKAAoQCiAKMApAClAKYApwCoAKkAqgCrAKwArQCuAK8AsACxALIAswC0ALUAtgC3ALgAuQC6ALsAvAC9AL4AvwDAAMEAwgDDAMQAxQDGAMcAyADJAMoAywDMAM0AzgDPANAA0QDSANMA1ADVANYA1wDYANkA2gDbANwA3QDeAN8A4ADhAOIA4wDkAOUA5gDnAOgA6QDqAOsA7ADtAO4A7wDwAPEA8gDzAPQA9QD2APcA+AD5APoA+wD8AP0A/gD/AAABAQECAQMBBAEFAQYBBwEIAQkBCgELAQwBDQEOAQ8BEAERARIBEwEUARUBFgEXARgBGQEaARsBHAEdAR4BHwEgASEBIgEjASQBJQEmAScBKAEpASoBKwEsAS0BLgEvATABMQEyATMBNAE1ATYBNwE4ATkBOgE7ATwBPQE+AT8BQAFBAUIBQwFEAUUBRgFHAUgBSQFKAUsBTAFNAU4BTwFQAVEBUgFTAVQBVQFWAVcBWAFZAVoBWwFcAV0BXgFfAWABYQFiAWMBZAFlAWYBZwFoAWkBagFrAWwBbQFuAW8BcAFxAXIBcwF0AXUBdgF3AXgBeQF6AXsBfAF9AX4BfwGAAYEBggGDAYQBhQGGAYcBiAGJAYoBiwGMAY0BjgGPAZABkQGSAZMBlAGVAZYBlwGYAZkBmgGbAZwBnQGeAZ8BoAGhAaIBowGkAaUBpgGnAagBqQGqAasBrAGtAa4BrwGwAbEBsgGzAbQBtQG2AbcBuAG5AboBuwG8Ab0BvgG/AcABwQHCAcMBxAHFAcYBxwHIAckBygHLAcwBzQHOAc8B0AHRAdIB0wHUAdUB1gHXAdgB2QHaAdsB3AHdAd4B3wHgAeEB4gHjAeQB5QHmAecB6AHpAeoB6wHsAe0B7gHvAfAB8QHyAfMB9AH1AfYB9wH4AQ==",
          "dtype": "u2"
         },
         "xaxis": "x13",
         "y": {
          "bdata": "cv7VPrt81D5qOtM+sh/SPs0o0T79QtA+i4XPPsrczj41Ss4+RLvNPvdBzT4N4Mw+3IPMPjcnzD6ixss+kXHLPqYryz6T58o+XKXKPhlvyj6fNso+VwDKPi7GyT7Misk+O1/JPtJCyT4FIck+vv/IPkvjyD6+yMg+orHIPrGcyD5Qd8g+VE7IPv41yD7XFcg+zvHHPgDVxz55usc+SpjHPgOAxz5macc+LVjHPoROxz7tMsc+kSbHPiIkxz5JHcc+SAjHPnj5xj7t9cY+h+XGPvjbxj6Cz8Y+QcPGPtC7xj5gp8Y+qJLGPqWJxj4ifcY+RHLGPqJkxj6NWMY+mFjGPtNZxj7UVMY+AlbGPmxPxj4xScY+p0XGPlM1xj51J8Y+kB3GPhoPxj5mA8Y+OwPGPkLzxT5c7sU+l+rFPnTcxT6H3MU+Mt7FPunUxT4xv8U+8rDFPvqgxT5GjsU+pITFPip3xT4qbsU+jl/FPhpXxT4WUsU+ME3FPh5LxT7USsU+FkfFPrM/xT6IO8U+Ij3FPmU4xT45OcU+uDbFPukxxT4cNsU+7zfFPtklxT6sFcU+ihnFPscVxT5UEMU+0gzFPpYIxT49BMU+uAfFPi0KxT5XBcU+uPbEPtD7xD4m8MQ+OePEPj3UxD4fy8Q+q7zEPhWtxD6/rsQ+YbfEPrSyxD4UscQ+U6/EPgCpxD5dncQ+c5HEPvKMxD6piMQ+VYfEPjyJxD5FfsQ+/nzEPv9txD5cYMQ+BFfEPp1PxD5ZUsQ+jlDEPhhSxD7RWcQ+TFLEPjQ1xD5PJcQ+EhzEPoAZxD4qFMQ+MgjEPvL9wz6w8sM+J+XDPs/Zwz5VycM+/M/DPj/Twz5kzcM+jcPDPkK5wz4bscM+RKvDPtqjwz64oMM+BKDDPs2Wwz6JlcM+xojDPqiGwz4yhsM+gX/DPu12wz7vbcM+rnPDPmt2wz4hc8M+3WXDPnxZwz5/SsM+YDvDPmMpwz41GsM+OxDDPkwKwz489sI++O3CPvXrwj4/4MI+PN/CPsrkwj6y4MI+cuHCPrbUwj6j0cI+1szCPsPJwj4LycI+bMrCPvK+wj6cs8I+marCPmqbwj4mmMI+CZPCPkmVwj5emsI+nKzCPn26wj6EvMI+B7rCPufDwj4zx8I+R7/CPqjBwj5vw8I+icPCPmq5wj41rcI+JqXCPhyawj6WnMI+j6TCPs+cwj5HjcI+yIfCPkJ5wj6gfsI+2W7CPvNowj5OYcI+Ul3CPsJMwj4iScI+TEzCPq5Fwj4SOsI+qjfCPtMmwj6WIcI+jR3CPsccwj7ADsI+pgfCPnIMwj7dBcI+VgPCPgcLwj6yEsI+fRLCPtcQwj5fFcI+PwvCPh8Kwj58CcI+8xbCPmMLwj6q/cE+7gPCPrT/wT6S88E+W9zBPmXRwT6GxsE+KbrBPj65wT5st8E+P7bBPui2wT5SqcE+QaLBPqSfwT6vm8E+ppbBPraNwT5mgsE+Nn7BPipmwT6EbcE+0W/BPixvwT7wd8E+g3TBPlVywT6hb8E+42LBPiRSwT7GTME+F0jBPgZFwT4tQ8E+CUrBPmZTwT7tZsE+mWHBPudRwT5UUME+1EjBPqQwwT55M8E+uhzBPrEPwT7dE8E+PA/BPtMIwT4oBcE+7QPBPnUKwT7SGME+viDBPh4iwT7vHsE+zBjBPlMPwT4gBsE+YO/APkXowD4n3cA+Gt3APnDOwD4AzMA+8dHAPorOwD42tsA+yq/APuyowD6Ip8A+7anAPhurwD6WrcA+/6fAPmSgwD4sn8A+Q5zAPt2kwD6brcA+YZnAPh+SwD4dj8A+VpLAPgefwD6Jo8A+q6PAPtmowD4xp8A+P6rAPlWmwD7XpcA+cp/APuKiwD7Bn8A+L6DAPqaYwD6ph8A+b3zAPrB2wD6ydMA+23nAPol7wD4LaMA+CFzAPtJiwD7WX8A+j1vAPuJXwD7lXsA+XWzAPsRywD6saMA+P2PAPmtjwD5UVMA+OjvAPgo1wD5HLcA+CSbAPnEjwD4hDsA+NADAPi0CwD7yAsA+0APAPjQLwD6I/78+mP2/PggFwD77A8A+2QnAPsMUwD7GG8A+6hXAPhInwD6KJcA+RyTAPs8fwD57HsA+DRvAPt8hwD45I8A+4i/APl4rwD5IFsA+kQvAPnoGwD6/AMA+Mfq/PkPvvz4q7b8+Jeu/Pjrrvz5b5r8+Ud+/Pjfbvz4C0b8+qce/PsfAvz5Zur8+8be/Pja9vz5Ytr8+E7e/Pr+7vz6/u78+17i/PtK2vz7KtL8+FLG/Pg28vz52wr8+rsK/Pu69vz5tyr8+39G/PnDQvz7Bxb8+3Ly/Pryrvz5/qL8+x5+/PueXvz6ekb8+e5O/PsORvz4Wkr8+1Y2/PnWEvz6Lib8+KJO/Pg6Tvz7BnL8+aKa/PhCvvz7VuL8+Drm/Pp24vz4+s78+Va2/Phisvz6Epb8+XqK/Pvejvz7Lo78+YKa/Pqamvz5hpL8+Wpq/Pj+Rvz6pgL8+mXm/PrF8vz5FeL8+n3W/PlJvvz7xbb8+I2y/Psppvz6yZL8+QGy/Pn1rvz4kb78+7m2/Prxqvz73Z78+Dme/Pq9qvz7Rab8+mWa/PpFgvz7yWr8+UVe/PkFSvz4EVL8+tU2/PjtIvz4=",
          "dtype": "f4"
         },
         "yaxis": "y13"
        },
        {
         "hoverinfo": "skip",
         "legendgroup": "SRP(E,64)",
         "line": {
          "color": "#00CC96"
         },
         "mode": "lines",
         "name": "SRP(E,64)",
         "showlegend": false,
         "type": "scatter",
         "x": {
          "bdata": "IAAhACIAIwAkACUAJgAnACgAKQAqACsALAAtAC4ALwAwADEAMgAzADQANQA2ADcAOAA5ADoAOwA8AD0APgA/AEAAQQBCAEMARABFAEYARwBIAEkASgBLAEwATQBOAE8AUABRAFIAUwBUAFUAVgBXAFgAWQBaAFsAXABdAF4AXwBgAGEAYgBjAGQAZQBmAGcAaABpAGoAawBsAG0AbgBvAHAAcQByAHMAdAB1AHYAdwB4AHkAegB7AHwAfQB+AH8AgACBAIIAgwCEAIUAhgCHAIgAiQCKAIsAjACNAI4AjwCQAJEAkgCTAJQAlQCWAJcAmACZAJoAmwCcAJ0AngCfAKAAoQCiAKMApAClAKYApwCoAKkAqgCrAKwArQCuAK8AsACxALIAswC0ALUAtgC3ALgAuQC6ALsAvAC9AL4AvwDAAMEAwgDDAMQAxQDGAMcAyADJAMoAywDMAM0AzgDPANAA0QDSANMA1ADVANYA1wDYANkA2gDbANwA3QDeAN8A4ADhAOIA4wDkAOUA5gDnAOgA6QDqAOsA7ADtAO4A7wDwAPEA8gDzAPQA9QD2APcA+AD5APoA+wD8AP0A/gD/AAABAQECAQMBBAEFAQYBBwEIAQkBCgELAQwBDQEOAQ8BEAERARIBEwEUARUBFgEXARgBGQEaARsBHAEdAR4BHwEgASEBIgEjASQBJQEmAScBKAEpASoBKwEsAS0BLgEvATABMQEyATMBNAE1ATYBNwE4ATkBOgE7ATwBPQE+AT8BQAFBAUIBQwFEAUUBRgFHAUgBSQFKAUsBTAFNAU4BTwFQAVEBUgFTAVQBVQFWAVcBWAFZAVoBWwFcAV0BXgFfAWABYQFiAWMBZAFlAWYBZwFoAWkBagFrAWwBbQFuAW8BcAFxAXIBcwF0AXUBdgF3AXgBeQF6AXsBfAF9AX4BfwGAAYEBggGDAYQBhQGGAYcBiAGJAYoBiwGMAY0BjgGPAZABkQGSAZMBlAGVAZYBlwGYAZkBmgGbAZwBnQGeAZ8BoAGhAaIBowGkAaUBpgGnAagBqQGqAasBrAGtAa4BrwGwAbEBsgGzAbQBtQG2AbcBuAG5AboBuwG8Ab0BvgG/AcABwQHCAcMBxAHFAcYBxwHIAckBygHLAcwBzQHOAc8B0AHRAdIB0wHUAdUB1gHXAdgB2QHaAdsB3AHdAd4B3wHgAQ==",
          "dtype": "u2"
         },
         "xaxis": "x13",
         "y": {
          "bdata": "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",
          "dtype": "f4"
         },
         "yaxis": "y13"
        },
        {
         "hoverinfo": "skip",
         "legendgroup": "SRP(E,256)",
         "line": {
          "color": "#AB63FA"
         },
         "mode": "lines",
         "name": "SRP(E,256)",
         "showlegend": false,
         "type": "scatter",
         "x": {
          "bdata": "gACBAIIAgwCEAIUAhgCHAIgAiQCKAIsAjACNAI4AjwCQAJEAkgCTAJQAlQCWAJcAmACZAJoAmwCcAJ0AngCfAKAAoQCiAKMApAClAKYApwCoAKkAqgCrAKwArQCuAK8AsACxALIAswC0ALUAtgC3ALgAuQC6ALsAvAC9AL4AvwDAAMEAwgDDAMQAxQDGAMcAyADJAMoAywDMAM0AzgDPANAA0QDSANMA1ADVANYA1wDYANkA2gDbANwA3QDeAN8A4ADhAOIA4wDkAOUA5gDnAOgA6QDqAOsA7ADtAO4A7wDwAPEA8gDzAPQA9QD2APcA+AD5APoA+wD8AP0A/gD/AAABAQECAQMBBAEFAQYBBwEIAQkBCgELAQwBDQEOAQ8BEAERARIBEwEUARUBFgEXARgBGQEaARsBHAEdAR4BHwEgASEBIgEjASQBJQEmAScBKAEpASoBKwEsAS0BLgEvATABMQEyATMBNAE1ATYBNwE4ATkBOgE7ATwBPQE+AT8BQAFBAUIBQwFEAUUBRgFHAUgBSQFKAUsBTAFNAU4BTwFQAVEBUgFTAVQBVQFWAVcBWAFZAVoBWwFcAV0BXgFfAWABYQFiAWMBZAFlAWYBZwFoAWkBagFrAWwBbQFuAW8BcAFxAXIBcwF0AXUBdgF3AXgBeQF6AXsBfAF9AX4BfwGAAQ==",
          "dtype": "u2"
         },
         "xaxis": "x13",
         "y": {
          "bdata": "xC2SPlolkj7yG5I+phKSPlsIkj5k/pE+RPSRPtHqkT5C4ZE+4daRPjvNkT5aw5E+7rmRPuywkT5np5E+EJ+RPjGWkT4vjZE+oISRPil8kT4PdJE+BmyRPu5jkT7aW5E+H1SRPkNMkT7LRJE+WT2RPgc2kT6WLpE+lCeRPiUgkT6ZGJE+MRGRPn0JkT5kApE+ZPuQPkz0kD7p7JA+oOWQPrHekD5E2JA+CdKQPjrLkD65xJA+ib6QPoS4kD6TspA+c6yQPimmkD4XoJA+0JmQPtiTkD5OjZA+eoaQPrV/kD71eJA+uXKQPjNskD5hZZA+BF+QPspYkD5VUpA+ykuQPiVFkD70PpA+NjmQPkYzkD5sLZA+MyeQPuIgkD7vGpA+TBWQPigPkD5GCZA+PQOQPu/8jz5Y948+dfGPPpvrjz6E5o8+B+GPPtHajz4R1Y8+Ss+PPt7Jjz4OxI8+Fr6PPoG4jz41s48+Gq2PPmSnjz6moY8+d5yPPr+Wjz7IkY8+gYyPPlWHjz70gY8+pHyPPgN3jz76cY8+nWyPPiFnjz7EYY8+m1yPPgJXjz6XUY8+PUyPPv9Gjz6VQY8+ljyPPmM3jz55Mo8+ci2PPvwnjz56Io8+ex2PPnQYjz5fE48+JQ6PPg8Jjz7hA48+xf6OPrX5jj7A9I4+GvCOPiTrjj765Y4+UeGOPrDcjj7x144+cNKOPl3Njj7Fx44+UMKOPgO9jj4DuI4+JbOOPvOtjj4MqY4+W6SOPtefjj5pm44+wpaOPkuSjj5fjY4+AYmOPhuFjj5EgI4+lHuOPmZ3jj7qco4+UW6OPrVpjj6oZI4+/V+OPj5bjj5IVo4+q1GOPixNjj7ESI4+z0SOPhRAjj6iO44+vzeOPsEzjj6NL44+sCuOPtQnjj4iI44+oR6OPmoajj7nFY4+jhGOPhANjj4zCI4+KgOOPl3+jT73+Y0+ofWNPi7yjT6G7o0+FeuNPinnjT5X440+yt+NPhjcjT462I0+ItSNPkTQjT6CzI0+g8iNPobEjT6zwI0+I72NPny5jT42tY0+UrGNPmKtjT6+qY0+mqWNPkCijT5/no0+ypqNPsKWjT6ako0+0Y6NPtSKjT5/h40+RoSNPpiAjT4rfY0+x3mNPlR2jT6kco0+D2+NPm9rjT7yZ40+o2SNPv1gjT6XXY0+EVqNPoVWjT4jU40+k0+NPttLjT4wSI0+uESNPgpBjT6cPY0+zjmNPjM2jT5BMo0+wS6NPhwrjT5YJ40+mSONPpwfjT73G40+gRiNPs8UjT5cEY0+yg2NPv0JjT6wBo0+aAONPtb/jD6E/Iw+PPmMPkH1jD4B8ow+E+6MPoHqjD4v54w+1OOMPo7gjD4=",
          "dtype": "f4"
         },
         "yaxis": "y13"
        },
        {
         "hoverinfo": "skip",
         "legendgroup": "SRP(E,4)",
         "line": {
          "color": "#636EFA"
         },
         "mode": "lines",
         "name": "SRP(E,4)",
         "showlegend": false,
         "type": "scatter",
         "x": {
          "bdata": "AgADAAQABQAGAAcACAAJAAoACwAMAA0ADgAPABAAEQASABMAFAAVABYAFwAYABkAGgAbABwAHQAeAB8AIAAhACIAIwAkACUAJgAnACgAKQAqACsALAAtAC4ALwAwADEAMgAzADQANQA2ADcAOAA5ADoAOwA8AD0APgA/AEAAQQBCAEMARABFAEYARwBIAEkASgBLAEwATQBOAE8AUABRAFIAUwBUAFUAVgBXAFgAWQBaAFsAXABdAF4AXwBgAGEAYgBjAGQAZQBmAGcAaABpAGoAawBsAG0AbgBvAHAAcQByAHMAdAB1AHYAdwB4AHkAegB7AHwAfQB+AH8AgACBAIIAgwCEAIUAhgCHAIgAiQCKAIsAjACNAI4AjwCQAJEAkgCTAJQAlQCWAJcAmACZAJoAmwCcAJ0AngCfAKAAoQCiAKMApAClAKYApwCoAKkAqgCrAKwArQCuAK8AsACxALIAswC0ALUAtgC3ALgAuQC6ALsAvAC9AL4AvwDAAMEAwgDDAMQAxQDGAMcAyADJAMoAywDMAM0AzgDPANAA0QDSANMA1ADVANYA1wDYANkA2gDbANwA3QDeAN8A4ADhAOIA4wDkAOUA5gDnAOgA6QDqAOsA7ADtAO4A7wDwAPEA8gDzAPQA9QD2APcA+AD5APoA+wD8AP0A/gD/AAABAQECAQMBBAEFAQYBBwEIAQkBCgELAQwBDQEOAQ8BEAERARIBEwEUARUBFgEXARgBGQEaARsBHAEdAR4BHwEgASEBIgEjASQBJQEmAScBKAEpASoBKwEsAS0BLgEvATABMQEyATMBNAE1ATYBNwE4ATkBOgE7ATwBPQE+AT8BQAFBAUIBQwFEAUUBRgFHAUgBSQFKAUsBTAFNAU4BTwFQAVEBUgFTAVQBVQFWAVcBWAFZAVoBWwFcAV0BXgFfAWABYQFiAWMBZAFlAWYBZwFoAWkBagFrAWwBbQFuAW8BcAFxAXIBcwF0AXUBdgF3AXgBeQF6AXsBfAF9AX4BfwGAAYEBggGDAYQBhQGGAYcBiAGJAYoBiwGMAY0BjgGPAZABkQGSAZMBlAGVAZYBlwGYAZkBmgGbAZwBnQGeAZ8BoAGhAaIBowGkAaUBpgGnAagBqQGqAasBrAGtAa4BrwGwAbEBsgGzAbQBtQG2AbcBuAG5AboBuwG8Ab0BvgG/AcABwQHCAcMBxAHFAcYBxwHIAckBygHLAcwBzQHOAc8B0AHRAdIB0wHUAdUB1gHXAdgB2QHaAdsB3AHdAd4B3wHgAeEB4gHjAeQB5QHmAecB6AHpAeoB6wHsAe0B7gHvAfAB8QHyAfMB9AH1AfYB9wH4AfkB+gH7AfwB/QH+AQ==",
          "dtype": "u2"
         },
         "xaxis": "x14",
         "y": {
          "bdata": "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",
          "dtype": "f4"
         },
         "yaxis": "y14"
        },
        {
         "hoverinfo": "skip",
         "legendgroup": "SRP(E,16)",
         "line": {
          "color": "#EF553B"
         },
         "mode": "lines",
         "name": "SRP(E,16)",
         "showlegend": false,
         "type": "scatter",
         "x": {
          "bdata": "CAAJAAoACwAMAA0ADgAPABAAEQASABMAFAAVABYAFwAYABkAGgAbABwAHQAeAB8AIAAhACIAIwAkACUAJgAnACgAKQAqACsALAAtAC4ALwAwADEAMgAzADQANQA2ADcAOAA5ADoAOwA8AD0APgA/AEAAQQBCAEMARABFAEYARwBIAEkASgBLAEwATQBOAE8AUABRAFIAUwBUAFUAVgBXAFgAWQBaAFsAXABdAF4AXwBgAGEAYgBjAGQAZQBmAGcAaABpAGoAawBsAG0AbgBvAHAAcQByAHMAdAB1AHYAdwB4AHkAegB7AHwAfQB+AH8AgACBAIIAgwCEAIUAhgCHAIgAiQCKAIsAjACNAI4AjwCQAJEAkgCTAJQAlQCWAJcAmACZAJoAmwCcAJ0AngCfAKAAoQCiAKMApAClAKYApwCoAKkAqgCrAKwArQCuAK8AsACxALIAswC0ALUAtgC3ALgAuQC6ALsAvAC9AL4AvwDAAMEAwgDDAMQAxQDGAMcAyADJAMoAywDMAM0AzgDPANAA0QDSANMA1ADVANYA1wDYANkA2gDbANwA3QDeAN8A4ADhAOIA4wDkAOUA5gDnAOgA6QDqAOsA7ADtAO4A7wDwAPEA8gDzAPQA9QD2APcA+AD5APoA+wD8AP0A/gD/AAABAQECAQMBBAEFAQYBBwEIAQkBCgELAQwBDQEOAQ8BEAERARIBEwEUARUBFgEXARgBGQEaARsBHAEdAR4BHwEgASEBIgEjASQBJQEmAScBKAEpASoBKwEsAS0BLgEvATABMQEyATMBNAE1ATYBNwE4ATkBOgE7ATwBPQE+AT8BQAFBAUIBQwFEAUUBRgFHAUgBSQFKAUsBTAFNAU4BTwFQAVEBUgFTAVQBVQFWAVcBWAFZAVoBWwFcAV0BXgFfAWABYQFiAWMBZAFlAWYBZwFoAWkBagFrAWwBbQFuAW8BcAFxAXIBcwF0AXUBdgF3AXgBeQF6AXsBfAF9AX4BfwGAAYEBggGDAYQBhQGGAYcBiAGJAYoBiwGMAY0BjgGPAZABkQGSAZMBlAGVAZYBlwGYAZkBmgGbAZwBnQGeAZ8BoAGhAaIBowGkAaUBpgGnAagBqQGqAasBrAGtAa4BrwGwAbEBsgGzAbQBtQG2AbcBuAG5AboBuwG8Ab0BvgG/AcABwQHCAcMBxAHFAcYBxwHIAckBygHLAcwBzQHOAc8B0AHRAdIB0wHUAdUB1gHXAdgB2QHaAdsB3AHdAd4B3wHgAeEB4gHjAeQB5QHmAecB6AHpAeoB6wHsAe0B7gHvAfAB8QHyAfMB9AH1AfYB9wH4AQ==",
          "dtype": "u2"
         },
         "xaxis": "x14",
         "y": {
          "bdata": "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",
          "dtype": "f4"
         },
         "yaxis": "y14"
        },
        {
         "hoverinfo": "skip",
         "legendgroup": "SRP(E,64)",
         "line": {
          "color": "#00CC96"
         },
         "mode": "lines",
         "name": "SRP(E,64)",
         "showlegend": false,
         "type": "scatter",
         "x": {
          "bdata": "IAAhACIAIwAkACUAJgAnACgAKQAqACsALAAtAC4ALwAwADEAMgAzADQANQA2ADcAOAA5ADoAOwA8AD0APgA/AEAAQQBCAEMARABFAEYARwBIAEkASgBLAEwATQBOAE8AUABRAFIAUwBUAFUAVgBXAFgAWQBaAFsAXABdAF4AXwBgAGEAYgBjAGQAZQBmAGcAaABpAGoAawBsAG0AbgBvAHAAcQByAHMAdAB1AHYAdwB4AHkAegB7AHwAfQB+AH8AgACBAIIAgwCEAIUAhgCHAIgAiQCKAIsAjACNAI4AjwCQAJEAkgCTAJQAlQCWAJcAmACZAJoAmwCcAJ0AngCfAKAAoQCiAKMApAClAKYApwCoAKkAqgCrAKwArQCuAK8AsACxALIAswC0ALUAtgC3ALgAuQC6ALsAvAC9AL4AvwDAAMEAwgDDAMQAxQDGAMcAyADJAMoAywDMAM0AzgDPANAA0QDSANMA1ADVANYA1wDYANkA2gDbANwA3QDeAN8A4ADhAOIA4wDkAOUA5gDnAOgA6QDqAOsA7ADtAO4A7wDwAPEA8gDzAPQA9QD2APcA+AD5APoA+wD8AP0A/gD/AAABAQECAQMBBAEFAQYBBwEIAQkBCgELAQwBDQEOAQ8BEAERARIBEwEUARUBFgEXARgBGQEaARsBHAEdAR4BHwEgASEBIgEjASQBJQEmAScBKAEpASoBKwEsAS0BLgEvATABMQEyATMBNAE1ATYBNwE4ATkBOgE7ATwBPQE+AT8BQAFBAUIBQwFEAUUBRgFHAUgBSQFKAUsBTAFNAU4BTwFQAVEBUgFTAVQBVQFWAVcBWAFZAVoBWwFcAV0BXgFfAWABYQFiAWMBZAFlAWYBZwFoAWkBagFrAWwBbQFuAW8BcAFxAXIBcwF0AXUBdgF3AXgBeQF6AXsBfAF9AX4BfwGAAYEBggGDAYQBhQGGAYcBiAGJAYoBiwGMAY0BjgGPAZABkQGSAZMBlAGVAZYBlwGYAZkBmgGbAZwBnQGeAZ8BoAGhAaIBowGkAaUBpgGnAagBqQGqAasBrAGtAa4BrwGwAbEBsgGzAbQBtQG2AbcBuAG5AboBuwG8Ab0BvgG/AcABwQHCAcMBxAHFAcYBxwHIAckBygHLAcwBzQHOAc8B0AHRAdIB0wHUAdUB1gHXAdgB2QHaAdsB3AHdAd4B3wHgAQ==",
          "dtype": "u2"
         },
         "xaxis": "x14",
         "y": {
          "bdata": "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",
          "dtype": "f4"
         },
         "yaxis": "y14"
        },
        {
         "hoverinfo": "skip",
         "legendgroup": "SRP(E,256)",
         "line": {
          "color": "#AB63FA"
         },
         "mode": "lines",
         "name": "SRP(E,256)",
         "showlegend": false,
         "type": "scatter",
         "x": {
          "bdata": "gACBAIIAgwCEAIUAhgCHAIgAiQCKAIsAjACNAI4AjwCQAJEAkgCTAJQAlQCWAJcAmACZAJoAmwCcAJ0AngCfAKAAoQCiAKMApAClAKYApwCoAKkAqgCrAKwArQCuAK8AsACxALIAswC0ALUAtgC3ALgAuQC6ALsAvAC9AL4AvwDAAMEAwgDDAMQAxQDGAMcAyADJAMoAywDMAM0AzgDPANAA0QDSANMA1ADVANYA1wDYANkA2gDbANwA3QDeAN8A4ADhAOIA4wDkAOUA5gDnAOgA6QDqAOsA7ADtAO4A7wDwAPEA8gDzAPQA9QD2APcA+AD5APoA+wD8AP0A/gD/AAABAQECAQMBBAEFAQYBBwEIAQkBCgELAQwBDQEOAQ8BEAERARIBEwEUARUBFgEXARgBGQEaARsBHAEdAR4BHwEgASEBIgEjASQBJQEmAScBKAEpASoBKwEsAS0BLgEvATABMQEyATMBNAE1ATYBNwE4ATkBOgE7ATwBPQE+AT8BQAFBAUIBQwFEAUUBRgFHAUgBSQFKAUsBTAFNAU4BTwFQAVEBUgFTAVQBVQFWAVcBWAFZAVoBWwFcAV0BXgFfAWABYQFiAWMBZAFlAWYBZwFoAWkBagFrAWwBbQFuAW8BcAFxAXIBcwF0AXUBdgF3AXgBeQF6AXsBfAF9AX4BfwGAAQ==",
          "dtype": "u2"
         },
         "xaxis": "x14",
         "y": {
          "bdata": "A/yMPu5IjT47S40+zEaNPjo/jT5BNY0+qymNPnwdjT4REI0+KAONPl/1jD6454w+mtqMPrPNjD7tv4w+tbKMPm2kjD5Il4w+jYmMPiZ7jD4IbYw+gF+MPrtSjD69Row+WjqMPm4ujD5oIow+YhaMPisKjD6z/os+bPOLPi/oiz5+3Ys+r9KLPqXHiz61vYs+JbSLPrSpiz5Jn4s+cJWLPluMiz7mgos+u3mLPjhwiz4DZ4s+j12LPkFUiz6bS4s+zEKLPk86iz78MYs+mSmLPoEgiz6VGIs+VxGLPoQJiz4WAos+Q/qKPnPyij7P6oo+3+KKPjPbij4Q1Io+ucyKPo/Fij5pvoo+vbeKPq+wij7/qYo+E6SKPmidij5Bloo+MY+KPiKIij48gYo+fnqKPhd0ij67bYo+E2eKPg1gij5UWYo++FKKPglNij4lR4o+fEGKPjU8ij5xNoo+kDCKPrYqij7rJIo+EB+KPhYZij6zE4o+nQ2KPlsIij6kAoo+x/2JPn/4iT4B84k+T+6JPhjqiT635Yk+EuGJPpzciT4x2Ik+qtOJPlLPiT4Ey4k+48aJPrPCiT7ovok+zrqJPqK2iT6ksok+Xa6JPheqiT5Apok+baKJPkueiT5gmok+cJaJPoeSiT6fjok+a4qJPuyFiT74gYk+mn6JPuF6iT4Nd4k+nnKJPi9uiT5aaYk+E2WJPrJgiT5bXIk+F1iJPmNUiT7IUYk+Kk6JPtJKiT7wRok+q0OJPpNAiT7oPYk+iTqJPpM3iT4dNYk+6jGJPoYuiT52K4k+oCiJPh8liT70IYk+lB6JPoMbiT7rF4k+QxSJPmQQiT7sDIk+uwmJPpMGiT5MA4k+MACJPhr9iD7A+Yg+7PWIPr3yiD6y74g+GO2IPjnqiD6554g+FeWIPkriiD4k4Ig+Z92IPoHaiD4k14g+tdOIPszQiD6ezYg+icqIPqLHiD6pxIg+y8CIPmO9iD4Muog+xbaIPuGziD5RsYg+Bq6IPpeqiD5Ep4g+i6SIPuSgiD7CnYg+f5qIPiOXiD7rk4g+LZGIPlWOiD7yi4g+RImIPl6GiD6vgog+0X+IPut8iD4yeog+uHeIPpp1iD4yc4g+eXCIPqluiD7ObIg+FmqIPq5niD5xZYg+DmOIPlpgiD4UXog+dFuIPmRZiD61V4g+MFaIPtBUiD5HU4g+V1GIPiJPiD5YTIg+t0mIPnpHiD7sRIg+d0KIPoNAiD50Pog+UTyIPjQ6iD5dOIg+ojWIPjwziD58MYg+qS+IPiYuiD52LIg+jCqIPv8oiD46Jog+uyOIPoEhiD5wH4g+Vh2IPhEciD5DGog+pxiIPr8WiD7TFIg+BhOIPo0QiD4=",
          "dtype": "f4"
         },
         "yaxis": "y14"
        },
        {
         "hoverinfo": "skip",
         "legendgroup": "SRP(E,4)",
         "line": {
          "color": "#636EFA"
         },
         "mode": "lines",
         "name": "SRP(E,4)",
         "showlegend": false,
         "type": "scatter",
         "x": {
          "bdata": "AgADAAQABQAGAAcACAAJAAoACwAMAA0ADgAPABAAEQASABMAFAAVABYAFwAYABkAGgAbABwAHQAeAB8AIAAhACIAIwAkACUAJgAnACgAKQAqACsALAAtAC4ALwAwADEAMgAzADQANQA2ADcAOAA5ADoAOwA8AD0APgA/AEAAQQBCAEMARABFAEYARwBIAEkASgBLAEwATQBOAE8AUABRAFIAUwBUAFUAVgBXAFgAWQBaAFsAXABdAF4AXwBgAGEAYgBjAGQAZQBmAGcAaABpAGoAawBsAG0AbgBvAHAAcQByAHMAdAB1AHYAdwB4AHkAegB7AHwAfQB+AH8AgACBAIIAgwCEAIUAhgCHAIgAiQCKAIsAjACNAI4AjwCQAJEAkgCTAJQAlQCWAJcAmACZAJoAmwCcAJ0AngCfAKAAoQCiAKMApAClAKYApwCoAKkAqgCrAKwArQCuAK8AsACxALIAswC0ALUAtgC3ALgAuQC6ALsAvAC9AL4AvwDAAMEAwgDDAMQAxQDGAMcAyADJAMoAywDMAM0AzgDPANAA0QDSANMA1ADVANYA1wDYANkA2gDbANwA3QDeAN8A4ADhAOIA4wDkAOUA5gDnAOgA6QDqAOsA7ADtAO4A7wDwAPEA8gDzAPQA9QD2APcA+AD5APoA+wD8AP0A/gD/AAABAQECAQMBBAEFAQYBBwEIAQkBCgELAQwBDQEOAQ8BEAERARIBEwEUARUBFgEXARgBGQEaARsBHAEdAR4BHwEgASEBIgEjASQBJQEmAScBKAEpASoBKwEsAS0BLgEvATABMQEyATMBNAE1ATYBNwE4ATkBOgE7ATwBPQE+AT8BQAFBAUIBQwFEAUUBRgFHAUgBSQFKAUsBTAFNAU4BTwFQAVEBUgFTAVQBVQFWAVcBWAFZAVoBWwFcAV0BXgFfAWABYQFiAWMBZAFlAWYBZwFoAWkBagFrAWwBbQFuAW8BcAFxAXIBcwF0AXUBdgF3AXgBeQF6AXsBfAF9AX4BfwGAAYEBggGDAYQBhQGGAYcBiAGJAYoBiwGMAY0BjgGPAZABkQGSAZMBlAGVAZYBlwGYAZkBmgGbAZwBnQGeAZ8BoAGhAaIBowGkAaUBpgGnAagBqQGqAasBrAGtAa4BrwGwAbEBsgGzAbQBtQG2AbcBuAG5AboBuwG8Ab0BvgG/AcABwQHCAcMBxAHFAcYBxwHIAckBygHLAcwBzQHOAc8B0AHRAdIB0wHUAdUB1gHXAdgB2QHaAdsB3AHdAd4B3wHgAeEB4gHjAeQB5QHmAecB6AHpAeoB6wHsAe0B7gHvAfAB8QHyAfMB9AH1AfYB9wH4AfkB+gH7AfwB/QH+AQ==",
          "dtype": "u2"
         },
         "xaxis": "x15",
         "y": {
          "bdata": "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",
          "dtype": "f4"
         },
         "yaxis": "y15"
        },
        {
         "hoverinfo": "skip",
         "legendgroup": "SRP(E,16)",
         "line": {
          "color": "#EF553B"
         },
         "mode": "lines",
         "name": "SRP(E,16)",
         "showlegend": false,
         "type": "scatter",
         "x": {
          "bdata": "CAAJAAoACwAMAA0ADgAPABAAEQASABMAFAAVABYAFwAYABkAGgAbABwAHQAeAB8AIAAhACIAIwAkACUAJgAnACgAKQAqACsALAAtAC4ALwAwADEAMgAzADQANQA2ADcAOAA5ADoAOwA8AD0APgA/AEAAQQBCAEMARABFAEYARwBIAEkASgBLAEwATQBOAE8AUABRAFIAUwBUAFUAVgBXAFgAWQBaAFsAXABdAF4AXwBgAGEAYgBjAGQAZQBmAGcAaABpAGoAawBsAG0AbgBvAHAAcQByAHMAdAB1AHYAdwB4AHkAegB7AHwAfQB+AH8AgACBAIIAgwCEAIUAhgCHAIgAiQCKAIsAjACNAI4AjwCQAJEAkgCTAJQAlQCWAJcAmACZAJoAmwCcAJ0AngCfAKAAoQCiAKMApAClAKYApwCoAKkAqgCrAKwArQCuAK8AsACxALIAswC0ALUAtgC3ALgAuQC6ALsAvAC9AL4AvwDAAMEAwgDDAMQAxQDGAMcAyADJAMoAywDMAM0AzgDPANAA0QDSANMA1ADVANYA1wDYANkA2gDbANwA3QDeAN8A4ADhAOIA4wDkAOUA5gDnAOgA6QDqAOsA7ADtAO4A7wDwAPEA8gDzAPQA9QD2APcA+AD5APoA+wD8AP0A/gD/AAABAQECAQMBBAEFAQYBBwEIAQkBCgELAQwBDQEOAQ8BEAERARIBEwEUARUBFgEXARgBGQEaARsBHAEdAR4BHwEgASEBIgEjASQBJQEmAScBKAEpASoBKwEsAS0BLgEvATABMQEyATMBNAE1ATYBNwE4ATkBOgE7ATwBPQE+AT8BQAFBAUIBQwFEAUUBRgFHAUgBSQFKAUsBTAFNAU4BTwFQAVEBUgFTAVQBVQFWAVcBWAFZAVoBWwFcAV0BXgFfAWABYQFiAWMBZAFlAWYBZwFoAWkBagFrAWwBbQFuAW8BcAFxAXIBcwF0AXUBdgF3AXgBeQF6AXsBfAF9AX4BfwGAAYEBggGDAYQBhQGGAYcBiAGJAYoBiwGMAY0BjgGPAZABkQGSAZMBlAGVAZYBlwGYAZkBmgGbAZwBnQGeAZ8BoAGhAaIBowGkAaUBpgGnAagBqQGqAasBrAGtAa4BrwGwAbEBsgGzAbQBtQG2AbcBuAG5AboBuwG8Ab0BvgG/AcABwQHCAcMBxAHFAcYBxwHIAckBygHLAcwBzQHOAc8B0AHRAdIB0wHUAdUB1gHXAdgB2QHaAdsB3AHdAd4B3wHgAeEB4gHjAeQB5QHmAecB6AHpAeoB6wHsAe0B7gHvAfAB8QHyAfMB9AH1AfYB9wH4AQ==",
          "dtype": "u2"
         },
         "xaxis": "x15",
         "y": {
          "bdata": "Xd/DPuzkxz7tX8g+XpHIPq6cyD46icg+OGPIPvk8yD7VDcg+fO/HPv2/xz4Zhcc+BTnHPhgFxz5LwMY+9YDGPsJJxj5YEsY+kdbFPk2dxT6ST8U+6gbFPlXIxD4yhsQ+a1DEPnkixD7R98M+T9PDPq6nwz4Yj8M+cHDDPidMwz5/HMM+Fu/CPqfLwj5cpcI+2IrCPttcwj7VK8I+BwfCPrjqwT7DycE+m53BPuRuwT7xRME+TxjBPl30wD4E4cA+G9rAPjDPwD6Ht8A+z6DAPveCwD6SWsA+pEHAPjk1wD5lJMA+SgXAPsDwvz6I2b8+SMe/Ppe7vz7ooL8+w5m/PhePvz4dgr8+o3u/PnRuvz7SZb8+5VO/PupLvz6vO78+iTK/PnApvz79Ir8+ARi/PiYOvz4rCb8+s/e+Pvnvvj7m374+etm+Pr/Qvj7Gv74+Iqu+Pgedvj5bkL4+BoK+Ph12vj7Yab4+H1q+Pq1Xvj6BUL4+vkq+PoNBvj5vNb4+7y2+PmIovj5WJL4+gBy+PlAcvj6uFr4+egq+PogBvj6P+b0+cfS9PsLmvT5J3r0+Ude9Pv3LvT40xb0+Kb+9Pqe4vT7Msb0+T6m9PsqZvT7xkr0+IJa9PvaTvT42ir0+Poq9Phx0vT6GZL0+rF+9PkRkvT7rYb0+Ply9PiFZvT5ITr0+YUS9Pn4/vT41Nb0+qDC9PkEzvT48Nb0+2zW9PpQtvT5jIb0+lCa9PholvT67J70+Dy29Pk4ivT7mH70+vSO9Pk4xvT4vM70+2zi9Pr0uvT5oML0+3Cq9PusavT7sC70+tAC9Pjj1vD637Lw+0Oy8Po7pvD6C7Lw+Gfe8Pkn4vD4e+Lw+HfC8PlvkvD4j5Lw+8+a8PsTovD5z7Lw+beu8PiTcvD4717w+UtG8Pj/SvD7Sxrw+Ase8PjPBvD7Lx7w+q8C8Pg3AvD5Ls7w+UrW8Pti1vD59ubw+sri8Pp61vD5EuLw+JrK8PjG0vD7xtbw+7b28Plm4vD5etLw+wKu8PiaivD5xnLw+A5e8PrSDvD6Ggrw+PYm8PqePvD6anbw+v6O8Pu6lvD79n7w+c6a8PkKqvD6LqLw+5qS8PrqgvD4Mmbw+toe8Ppx9vD54frw+DXq8Pgl2vD5OaLw+72C8PohivD6LX7w+sle8Pn9RvD6pSLw+mkW8PkI7vD5KNLw+Ni+8PmotvD5vMbw++Su8PkMnvD4GK7w+fi68PkM5vD5nObw+4EK8PhdFvD6TSLw+JkS8Pn1HvD7CR7w+0Eu8PmZOvD6ASLw+kzi8PiEzvD6wKbw+DyK8PrAVvD4QDbw+zgS8Ptv+uz4XArw+wgW8PmIOvD67D7w+xhK8PioVvD5eFLw+wBS8PjQQvD46Abw+xAG8Ps/9uz7rBrw+/AK8PjkAvD6hA7w+BQq8PrYFvD42ALw+vPe7Pk35uz4HALw+SAa8PiQTvD5bILw+biK8PgAkvD7fKbw+Eym8PpYqvD4VKbw+uCW8PkwevD6WF7w+3BS8PkcTvD5FA7w+oe27Pq7iuz5e4Ls+39W7PuTTuz4r1bs+Xdq7Pvfiuz6t77s+qfi7Pqz8uz6+/rs+If+7Pm/yuz7i7rs+z+G7Pmbhuz614rs+i967PiLeuz4L1Ls+uNG7PuTNuz7hwLs+E8S7PsLEuz7Gx7s+fs+7PrzXuz591bs+kNO7PizNuz6qxbs++7m7PoSzuz5+rrs+Gqe7Prikuz4Wq7s++rK7PqKvuz43rbs+Yqa7Pkymuz6Yrbs+pa+7Pliquz5ko7s+UJy7Pg6Zuz69m7s+yZu7Ptqhuz4To7s+C6O7Pgumuz4Prrs+27q7PurDuz4lzbs+Wc+7PoPguz6z6rs+o/C7Phzvuz5u87s+C+67Pk/ruz6s4Ls+J9m7PkXRuz4Jxbs+Mbm7Pryxuz6bs7s+rLC7PtWxuz7Fsrs+Qa67Pviuuz7Pqrs+G6C7Pu6luz4jn7s+zqO7Pk+huz5xrbs+aLG7PmSxuz4TsLs+qK27PtWxuz5MuLs+Yry7PmS7uz6Qsrs+a6u7PhWauz5tj7s+rYq7PvGBuz5Cgrs+MoG7PjGDuz4Ahbs+0IG7PjWGuz7BhLs+AYe7PvqNuz6fk7s+3pe7PtSeuz6Ylrs+cpW7PiKZuz7KmLs+zpa7PsGauz47mLs+Bp27PjGeuz44obs+dpa7PoKHuz4xe7s+jHu7Prptuz4sbLs+zWe7Po5juz45Vbs+WE67PhhOuz6pVrs+EVu7Po9duz7AZLs+wlW7PhFcuz65WLs+UFW7Pp5Uuz6aUbs+vEy7Pu0/uz5CPbs+Pji7Pqwxuz7vMbs+zDe7Puw6uz5hNbs+8y+7Piwvuz7SK7s+/DK7PjYxuz5TOLs+Mzm7PqUuuz4cMLs+bii7PoInuz5+Lrs+iD67PuFBuz5VQ7s+RES7PmJCuz5tN7s+xTC7PtIyuz7rOrs+CkW7PnJEuz56Rrs+vUS7PsVHuz6pSLs+JE27Pu9Fuz7iSLs+aky7PlVOuz7RTbs+zUy7PqlTuz7aVrs+J1q7PgFRuz4yR7s+ITy7PhQ4uz77Lrs+oTC7PnU3uz4UOLs+JDa7Psc4uz5HQrs+jTe7PkM3uz6cNbs+Iiu7Po4muz4aKbs+FCi7Pignuz4=",
          "dtype": "f4"
         },
         "yaxis": "y15"
        },
        {
         "hoverinfo": "skip",
         "legendgroup": "SRP(E,64)",
         "line": {
          "color": "#00CC96"
         },
         "mode": "lines",
         "name": "SRP(E,64)",
         "showlegend": false,
         "type": "scatter",
         "x": {
          "bdata": "IAAhACIAIwAkACUAJgAnACgAKQAqACsALAAtAC4ALwAwADEAMgAzADQANQA2ADcAOAA5ADoAOwA8AD0APgA/AEAAQQBCAEMARABFAEYARwBIAEkASgBLAEwATQBOAE8AUABRAFIAUwBUAFUAVgBXAFgAWQBaAFsAXABdAF4AXwBgAGEAYgBjAGQAZQBmAGcAaABpAGoAawBsAG0AbgBvAHAAcQByAHMAdAB1AHYAdwB4AHkAegB7AHwAfQB+AH8AgACBAIIAgwCEAIUAhgCHAIgAiQCKAIsAjACNAI4AjwCQAJEAkgCTAJQAlQCWAJcAmACZAJoAmwCcAJ0AngCfAKAAoQCiAKMApAClAKYApwCoAKkAqgCrAKwArQCuAK8AsACxALIAswC0ALUAtgC3ALgAuQC6ALsAvAC9AL4AvwDAAMEAwgDDAMQAxQDGAMcAyADJAMoAywDMAM0AzgDPANAA0QDSANMA1ADVANYA1wDYANkA2gDbANwA3QDeAN8A4ADhAOIA4wDkAOUA5gDnAOgA6QDqAOsA7ADtAO4A7wDwAPEA8gDzAPQA9QD2APcA+AD5APoA+wD8AP0A/gD/AAABAQECAQMBBAEFAQYBBwEIAQkBCgELAQwBDQEOAQ8BEAERARIBEwEUARUBFgEXARgBGQEaARsBHAEdAR4BHwEgASEBIgEjASQBJQEmAScBKAEpASoBKwEsAS0BLgEvATABMQEyATMBNAE1ATYBNwE4ATkBOgE7ATwBPQE+AT8BQAFBAUIBQwFEAUUBRgFHAUgBSQFKAUsBTAFNAU4BTwFQAVEBUgFTAVQBVQFWAVcBWAFZAVoBWwFcAV0BXgFfAWABYQFiAWMBZAFlAWYBZwFoAWkBagFrAWwBbQFuAW8BcAFxAXIBcwF0AXUBdgF3AXgBeQF6AXsBfAF9AX4BfwGAAYEBggGDAYQBhQGGAYcBiAGJAYoBiwGMAY0BjgGPAZABkQGSAZMBlAGVAZYBlwGYAZkBmgGbAZwBnQGeAZ8BoAGhAaIBowGkAaUBpgGnAagBqQGqAasBrAGtAa4BrwGwAbEBsgGzAbQBtQG2AbcBuAG5AboBuwG8Ab0BvgG/AcABwQHCAcMBxAHFAcYBxwHIAckBygHLAcwBzQHOAc8B0AHRAdIB0wHUAdUB1gHXAdgB2QHaAdsB3AHdAd4B3wHgAQ==",
          "dtype": "u2"
         },
         "xaxis": "x15",
         "y": {
          "bdata": "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",
          "dtype": "f4"
         },
         "yaxis": "y15"
        },
        {
         "hoverinfo": "skip",
         "legendgroup": "SRP(E,256)",
         "line": {
          "color": "#AB63FA"
         },
         "mode": "lines",
         "name": "SRP(E,256)",
         "showlegend": false,
         "type": "scatter",
         "x": {
          "bdata": "gACBAIIAgwCEAIUAhgCHAIgAiQCKAIsAjACNAI4AjwCQAJEAkgCTAJQAlQCWAJcAmACZAJoAmwCcAJ0AngCfAKAAoQCiAKMApAClAKYApwCoAKkAqgCrAKwArQCuAK8AsACxALIAswC0ALUAtgC3ALgAuQC6ALsAvAC9AL4AvwDAAMEAwgDDAMQAxQDGAMcAyADJAMoAywDMAM0AzgDPANAA0QDSANMA1ADVANYA1wDYANkA2gDbANwA3QDeAN8A4ADhAOIA4wDkAOUA5gDnAOgA6QDqAOsA7ADtAO4A7wDwAPEA8gDzAPQA9QD2APcA+AD5APoA+wD8AP0A/gD/AAABAQECAQMBBAEFAQYBBwEIAQkBCgELAQwBDQEOAQ8BEAERARIBEwEUARUBFgEXARgBGQEaARsBHAEdAR4BHwEgASEBIgEjASQBJQEmAScBKAEpASoBKwEsAS0BLgEvATABMQEyATMBNAE1ATYBNwE4ATkBOgE7ATwBPQE+AT8BQAFBAUIBQwFEAUUBRgFHAUgBSQFKAUsBTAFNAU4BTwFQAVEBUgFTAVQBVQFWAVcBWAFZAVoBWwFcAV0BXgFfAWABYQFiAWMBZAFlAWYBZwFoAWkBagFrAWwBbQFuAW8BcAFxAXIBcwF0AXUBdgF3AXgBeQF6AXsBfAF9AX4BfwGAAQ==",
          "dtype": "u2"
         },
         "xaxis": "x15",
         "y": {
          "bdata": "PrSGPn7phj7L64Y+IuiGPhzihj7l2YY+K9CGPoTFhj5BuoY+dK6GPhWihj6FlYY+AImGPqN9hj6UcYY+PGWGPo5Yhj7jS4Y+jz+GPp4yhj7fJYY+LBqGPloOhj4IA4Y+rfeFPlbshT644YU+OteFPgLNhT7JwoU+57eFPlythT5no4U+L5mFPkePhT5whYU+qXuFPmVyhT5WaYU+XWCFPsNXhT4XT4U+okaFPn89hT7RNIU+XSyFPkAkhT5GHIU+oxSFPtwMhT5cBYU+ff2EPnj1hD6X7YQ+/eWEPpnehD6/1oQ+J8+EPk3HhD7Gv4Q+ULiEPtSwhD4pqYQ+HaKEPiybhD7JlIQ+q46EPh+IhD7ogYQ+znuEPm11hD6Cb4Q+XmmEPjhjhD49XYQ+/laEPvxQhD76SoQ+AUWEPlM/hD4MOYQ+OzOEPnUthD50J4Q+hSGEPoMchD6WFoQ+4BCEPiMLhD5HBoQ+DQGEPpb8gz5n+IM+q/ODPlDvgz7D6oM+guaDPnHigz5F3oM+adqDPufWgz4504M+rs6DPl3Kgz62xoM+EcODPrq/gz5qvIM+e7iDPuu0gz44sYM+7a2DPiCqgz47p4M+aaODPlifgz4MnIM+JJmDPlGVgz6qkYM+aY6DPlCKgz7VhoM+XYODPiCAgz75fIM+zXmDPkF3gz72c4M+EHGDPkZugz42a4M+a2iDPodlgz50YoM+IV+DPqhbgz4KWYM+n1aDPipUgz4JUoM+NFCDPlRNgz7gSoM+UkiDPkpGgz4mRIM+o0GDPoI+gz7oO4M+IzmDPuM2gz6RNIM+JzKDPnwvgz4CLYM+fiqDPhIogz7FJYM+WCODPsEggz4gHoM++RuDPlIZgz75FoM+ZRSDPmYSgz4uEIM+5Q2DPkYLgz5rCYM+WgeDPmcFgz7aA4M+mQKDPo8Agz5E/oI+aPuCPgb5gj5H9oI+8POCPnTxgj4674I+nOyCPvnpgj7O54I+geWCPrPjgj5g4YI+Ed+CPqjcgj7U2oI+r9iCPmXWgj7x04I+qdGCPsvOgj5TzII+L8qCPjfIgj6PxoI+q8SCPpnCgj6uv4I+P72CPpi6gj5GuII+x7WCPiyzgj6msII+pq2CPgqrgj4KqYI+vKaCPumkgj7JooI+tKCCPqWegj68nII+v5qCPhGZgj6Kl4I+8JaCPqiVgj5qlII+dJKCPl2Rgj7/j4I+HY6CPsmLgj41ioI+pIiCPtmGgj7mhII+ooOCPiOCgj54gII+vX6CPr18gj49e4I+8nmCPoV4gj5Gd4I+WHWCPg10gj5DcoI+uHCCPvtugj5KbYI+bGuCPhNqgj4raII+gWaCPv5kgj6VY4I+LGKCPkRggj4=",
          "dtype": "f4"
         },
         "yaxis": "y15"
        },
        {
         "hoverinfo": "skip",
         "legendgroup": "SRP(E,4)",
         "line": {
          "color": "#636EFA"
         },
         "mode": "lines",
         "name": "SRP(E,4)",
         "showlegend": false,
         "type": "scatter",
         "x": {
          "bdata": "AgADAAQABQAGAAcACAAJAAoACwAMAA0ADgAPABAAEQASABMAFAAVABYAFwAYABkAGgAbABwAHQAeAB8AIAAhACIAIwAkACUAJgAnACgAKQAqACsALAAtAC4ALwAwADEAMgAzADQANQA2ADcAOAA5ADoAOwA8AD0APgA/AEAAQQBCAEMARABFAEYARwBIAEkASgBLAEwATQBOAE8AUABRAFIAUwBUAFUAVgBXAFgAWQBaAFsAXABdAF4AXwBgAGEAYgBjAGQAZQBmAGcAaABpAGoAawBsAG0AbgBvAHAAcQByAHMAdAB1AHYAdwB4AHkAegB7AHwAfQB+AH8AgACBAIIAgwCEAIUAhgCHAIgAiQCKAIsAjACNAI4AjwCQAJEAkgCTAJQAlQCWAJcAmACZAJoAmwCcAJ0AngCfAKAAoQCiAKMApAClAKYApwCoAKkAqgCrAKwArQCuAK8AsACxALIAswC0ALUAtgC3ALgAuQC6ALsAvAC9AL4AvwDAAMEAwgDDAMQAxQDGAMcAyADJAMoAywDMAM0AzgDPANAA0QDSANMA1ADVANYA1wDYANkA2gDbANwA3QDeAN8A4ADhAOIA4wDkAOUA5gDnAOgA6QDqAOsA7ADtAO4A7wDwAPEA8gDzAPQA9QD2APcA+AD5APoA+wD8AP0A/gD/AAABAQECAQMBBAEFAQYBBwEIAQkBCgELAQwBDQEOAQ8BEAERARIBEwEUARUBFgEXARgBGQEaARsBHAEdAR4BHwEgASEBIgEjASQBJQEmAScBKAEpASoBKwEsAS0BLgEvATABMQEyATMBNAE1ATYBNwE4ATkBOgE7ATwBPQE+AT8BQAFBAUIBQwFEAUUBRgFHAUgBSQFKAUsBTAFNAU4BTwFQAVEBUgFTAVQBVQFWAVcBWAFZAVoBWwFcAV0BXgFfAWABYQFiAWMBZAFlAWYBZwFoAWkBagFrAWwBbQFuAW8BcAFxAXIBcwF0AXUBdgF3AXgBeQF6AXsBfAF9AX4BfwGAAYEBggGDAYQBhQGGAYcBiAGJAYoBiwGMAY0BjgGPAZABkQGSAZMBlAGVAZYBlwGYAZkBmgGbAZwBnQGeAZ8BoAGhAaIBowGkAaUBpgGnAagBqQGqAasBrAGtAa4BrwGwAbEBsgGzAbQBtQG2AbcBuAG5AboBuwG8Ab0BvgG/AcABwQHCAcMBxAHFAcYBxwHIAckBygHLAcwBzQHOAc8B0AHRAdIB0wHUAdUB1gHXAdgB2QHaAdsB3AHdAd4B3wHgAeEB4gHjAeQB5QHmAecB6AHpAeoB6wHsAe0B7gHvAfAB8QHyAfMB9AH1AfYB9wH4AfkB+gH7AfwB/QH+AQ==",
          "dtype": "u2"
         },
         "xaxis": "x16",
         "y": {
          "bdata": "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",
          "dtype": "f4"
         },
         "yaxis": "y16"
        },
        {
         "hoverinfo": "skip",
         "legendgroup": "SRP(E,16)",
         "line": {
          "color": "#EF553B"
         },
         "mode": "lines",
         "name": "SRP(E,16)",
         "showlegend": false,
         "type": "scatter",
         "x": {
          "bdata": "CAAJAAoACwAMAA0ADgAPABAAEQASABMAFAAVABYAFwAYABkAGgAbABwAHQAeAB8AIAAhACIAIwAkACUAJgAnACgAKQAqACsALAAtAC4ALwAwADEAMgAzADQANQA2ADcAOAA5ADoAOwA8AD0APgA/AEAAQQBCAEMARABFAEYARwBIAEkASgBLAEwATQBOAE8AUABRAFIAUwBUAFUAVgBXAFgAWQBaAFsAXABdAF4AXwBgAGEAYgBjAGQAZQBmAGcAaABpAGoAawBsAG0AbgBvAHAAcQByAHMAdAB1AHYAdwB4AHkAegB7AHwAfQB+AH8AgACBAIIAgwCEAIUAhgCHAIgAiQCKAIsAjACNAI4AjwCQAJEAkgCTAJQAlQCWAJcAmACZAJoAmwCcAJ0AngCfAKAAoQCiAKMApAClAKYApwCoAKkAqgCrAKwArQCuAK8AsACxALIAswC0ALUAtgC3ALgAuQC6ALsAvAC9AL4AvwDAAMEAwgDDAMQAxQDGAMcAyADJAMoAywDMAM0AzgDPANAA0QDSANMA1ADVANYA1wDYANkA2gDbANwA3QDeAN8A4ADhAOIA4wDkAOUA5gDnAOgA6QDqAOsA7ADtAO4A7wDwAPEA8gDzAPQA9QD2APcA+AD5APoA+wD8AP0A/gD/AAABAQECAQMBBAEFAQYBBwEIAQkBCgELAQwBDQEOAQ8BEAERARIBEwEUARUBFgEXARgBGQEaARsBHAEdAR4BHwEgASEBIgEjASQBJQEmAScBKAEpASoBKwEsAS0BLgEvATABMQEyATMBNAE1ATYBNwE4ATkBOgE7ATwBPQE+AT8BQAFBAUIBQwFEAUUBRgFHAUgBSQFKAUsBTAFNAU4BTwFQAVEBUgFTAVQBVQFWAVcBWAFZAVoBWwFcAV0BXgFfAWABYQFiAWMBZAFlAWYBZwFoAWkBagFrAWwBbQFuAW8BcAFxAXIBcwF0AXUBdgF3AXgBeQF6AXsBfAF9AX4BfwGAAYEBggGDAYQBhQGGAYcBiAGJAYoBiwGMAY0BjgGPAZABkQGSAZMBlAGVAZYBlwGYAZkBmgGbAZwBnQGeAZ8BoAGhAaIBowGkAaUBpgGnAagBqQGqAasBrAGtAa4BrwGwAbEBsgGzAbQBtQG2AbcBuAG5AboBuwG8Ab0BvgG/AcABwQHCAcMBxAHFAcYBxwHIAckBygHLAcwBzQHOAc8B0AHRAdIB0wHUAdUB1gHXAdgB2QHaAdsB3AHdAd4B3wHgAeEB4gHjAeQB5QHmAecB6AHpAeoB6wHsAe0B7gHvAfAB8QHyAfMB9AH1AfYB9wH4AQ==",
          "dtype": "u2"
         },
         "xaxis": "x16",
         "y": {
          "bdata": "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",
          "dtype": "f4"
         },
         "yaxis": "y16"
        },
        {
         "hoverinfo": "skip",
         "legendgroup": "SRP(E,64)",
         "line": {
          "color": "#00CC96"
         },
         "mode": "lines",
         "name": "SRP(E,64)",
         "showlegend": false,
         "type": "scatter",
         "x": {
          "bdata": "IAAhACIAIwAkACUAJgAnACgAKQAqACsALAAtAC4ALwAwADEAMgAzADQANQA2ADcAOAA5ADoAOwA8AD0APgA/AEAAQQBCAEMARABFAEYARwBIAEkASgBLAEwATQBOAE8AUABRAFIAUwBUAFUAVgBXAFgAWQBaAFsAXABdAF4AXwBgAGEAYgBjAGQAZQBmAGcAaABpAGoAawBsAG0AbgBvAHAAcQByAHMAdAB1AHYAdwB4AHkAegB7AHwAfQB+AH8AgACBAIIAgwCEAIUAhgCHAIgAiQCKAIsAjACNAI4AjwCQAJEAkgCTAJQAlQCWAJcAmACZAJoAmwCcAJ0AngCfAKAAoQCiAKMApAClAKYApwCoAKkAqgCrAKwArQCuAK8AsACxALIAswC0ALUAtgC3ALgAuQC6ALsAvAC9AL4AvwDAAMEAwgDDAMQAxQDGAMcAyADJAMoAywDMAM0AzgDPANAA0QDSANMA1ADVANYA1wDYANkA2gDbANwA3QDeAN8A4ADhAOIA4wDkAOUA5gDnAOgA6QDqAOsA7ADtAO4A7wDwAPEA8gDzAPQA9QD2APcA+AD5APoA+wD8AP0A/gD/AAABAQECAQMBBAEFAQYBBwEIAQkBCgELAQwBDQEOAQ8BEAERARIBEwEUARUBFgEXARgBGQEaARsBHAEdAR4BHwEgASEBIgEjASQBJQEmAScBKAEpASoBKwEsAS0BLgEvATABMQEyATMBNAE1ATYBNwE4ATkBOgE7ATwBPQE+AT8BQAFBAUIBQwFEAUUBRgFHAUgBSQFKAUsBTAFNAU4BTwFQAVEBUgFTAVQBVQFWAVcBWAFZAVoBWwFcAV0BXgFfAWABYQFiAWMBZAFlAWYBZwFoAWkBagFrAWwBbQFuAW8BcAFxAXIBcwF0AXUBdgF3AXgBeQF6AXsBfAF9AX4BfwGAAYEBggGDAYQBhQGGAYcBiAGJAYoBiwGMAY0BjgGPAZABkQGSAZMBlAGVAZYBlwGYAZkBmgGbAZwBnQGeAZ8BoAGhAaIBowGkAaUBpgGnAagBqQGqAasBrAGtAa4BrwGwAbEBsgGzAbQBtQG2AbcBuAG5AboBuwG8Ab0BvgG/AcABwQHCAcMBxAHFAcYBxwHIAckBygHLAcwBzQHOAc8B0AHRAdIB0wHUAdUB1gHXAdgB2QHaAdsB3AHdAd4B3wHgAQ==",
          "dtype": "u2"
         },
         "xaxis": "x16",
         "y": {
          "bdata": "+BqcPlJHnD7LNpw+6iKcPv4PnD7p/ps+oe+bPofhmz7X1Js+3smbPjW+mz40tZs+mKybPrakmz6Mm5s+g5ObPpOMmz7ahZs+93+bPgZ6mz6xdZs+73GbPihtmz6haps+/2ebPq5lmz4EY5s+FWCbPstbmz6NWZs+vFebPkhXmz5yV5s+LVibPm1Xmz7oVJs+4FKbPmVQmz6nT5s+kU6bPtJOmz4mT5s+9U+bPuxPmz5mT5s+H0+bPgtPmz7PTps+XE+bPlFPmz50T5s+Jk+bPtJOmz6qTps+302bPnpNmz4wTZs+pE2bPrFNmz6pTZs+IU2bPitMmz6cTJs+SkybPg1Nmz7nTZs+kE6bPqZOmz6OTps+vE+bPo9Qmz67UJs+hFGbPulRmz7LUZs+jVGbPitSmz79UZs+4lGbPtJSmz7dVJs+91KbPjNSmz6uUps+yVObPhBTmz4IU5s+J1KbPqJRmz6LUJs+jE+bPt9Omz5VTps+5EybPsVLmz5fS5s+BkubPghMmz6RTJs+IE2bPjBOmz74TZs+qU6bPslPmz6tT5s+k0+bPjlQmz5hUJs+zFCbPs5Rmz4VUps+4FKbPgVTmz5aU5s+zlKbPlZSmz53UZs+elCbPj5Qmz6lUJs+D1CbPjxQmz41UJs+EE+bPhhOmz4rTZs+Mk2bPo9Omz7pTZs+Ck2bPhBNmz6kTJs+v0ubPt5Lmz6fS5s+g0ubPhlLmz5QS5s+tUubPitLmz6FSps+H0qbPrFImz4nSJs+70ibPolJmz4oSps+dkubPrVMmz4aTZs+X0ybPklMmz4STJs+5UubPkRLmz76SZs+7kmbPs1Jmz40Sps+iEqbPthKmz4zS5s+skqbPrRLmz7bS5s+rk2bPvpNmz7wTps+hE6bPilPmz6DTps+0k6bPk5Pmz7IT5s+5U6bPsROmz4STps+QU2bPilMmz4KTZs+102bPoROmz7zTZs+mk2bPixNmz5aTZs+F06bPmhOmz5+TZs+cU2bPuZMmz6FTZs+pk2bPi5Omz6eTps+ME+bPvVOmz6TTps+oU+bPrVPmz4LUJs+IFGbPvtQmz6eUJs+klCbPjVRmz4eUZs+t0+bPjtPmz6YT5s+h0+bPtNPmz4TUJs+E1GbPshRmz67UZs+ElKbPvBSmz5NUps+CFObPidTmz4aU5s+rlKbPrBRmz4gUZs+yFCbPnRRmz7kUZs+61KbPhZTmz6yU5s++FObPrdUmz7xU5s+mFSbPgpVmz5JVZs+5VSbPqVVmz44Vps+61WbPp9Umz47VJs+H1ObPt9Rmz5SUps+p1GbPoFRmz4pUZs++VCbPg9Qmz7kT5s+LU+bPqZOmz77TZs+y0ybPlxLmz5oS5s+L0qbPm5Lmz4KS5s+2kqbPrJLmz71S5s+xUybPnlNmz6xTps+MU+bPiJQmz5dUJs+oU+bPqtPmz7vT5s+sU+bPrdPmz7qT5s+MU+bPrhOmz6ATps+Ck+bPopOmz5WTZs+EU2bPnZMmz7NTJs+Y02bPttMmz49Tps+2E2bPrBNmz4LTps+p02bPo9Nmz4ZTps+GU6bPjROmz7ITJs+vUqbPvVJmz6USZs+4kmbPvpJmz6RSps+L0ubPp1Lmz7oTJs+W02bPoVMmz7MS5s+SEubPk9Lmz57S5s+BkubPqNKmz4TS5s+lUqbPnRKmz6qSZs+1UibPuxHmz6wSJs+ZUibPtZHmz4hR5s+VkabPhpGmz4nRps+jEWbPsZFmz52RZs+QEWbPpNFmz7wRZs+b0abPuZHmz5tR5s+N0ebPiJGmz4MR5s+ukabPo1Gmz5KR5s+40ebPs9Imz6+SZs+fUmbPj9Imz4dR5s+wUabPpZGmz6+Rps+fkabPnNFmz5VRZs+oUWbPrBGmz5PRps+bkabPqZFmz6cRZs+v0abPmVGmz5YRps+uEabPpNGmz6vRps+KEWbPrREmz7tQps+6EKbPvJBmz4nQps+iUGbPndCmz4yQ5s+0kObPoBDmz7ZRJs+vUabPgtHmz4YR5s+eEabPkxFmz7lRJs+bUSbPudEmz4HRps+uUebPpZImz44SZs+hEmbPt1Lmz5cTJs+UkybPrtLmz6rS5s+3UybPhxOmz5/Tps+5U+bPqVPmz6ATps+WU6bPtJOmz5xT5s++0+bPjdQmz7QT5s+jVCbPjxRmz5HUZs+QlGbPh1Smz5zU5s+FlWbPmVWmz5dV5s+1FebPhtZmz65Wps+lVqbPsRbmz7IXJs+bF2bPltemz60X5s+J2CbPqRhmz6hYps+OmObPnhkmz6aY5s+bWSbPjVlmz7PZZs++WSbPhJlmz5UZZs+Z2WbPgBkmz4nZJs+mmKbPoBimz6qYps+oGKbPvJhmz4BYZs+dGGbPvVhmz4=",
          "dtype": "f4"
         },
         "yaxis": "y16"
        },
        {
         "hoverinfo": "skip",
         "legendgroup": "SRP(E,256)",
         "line": {
          "color": "#AB63FA"
         },
         "mode": "lines",
         "name": "SRP(E,256)",
         "showlegend": false,
         "type": "scatter",
         "x": {
          "bdata": "gACBAIIAgwCEAIUAhgCHAIgAiQCKAIsAjACNAI4AjwCQAJEAkgCTAJQAlQCWAJcAmACZAJoAmwCcAJ0AngCfAKAAoQCiAKMApAClAKYApwCoAKkAqgCrAKwArQCuAK8AsACxALIAswC0ALUAtgC3ALgAuQC6ALsAvAC9AL4AvwDAAMEAwgDDAMQAxQDGAMcAyADJAMoAywDMAM0AzgDPANAA0QDSANMA1ADVANYA1wDYANkA2gDbANwA3QDeAN8A4ADhAOIA4wDkAOUA5gDnAOgA6QDqAOsA7ADtAO4A7wDwAPEA8gDzAPQA9QD2APcA+AD5APoA+wD8AP0A/gD/AAABAQECAQMBBAEFAQYBBwEIAQkBCgELAQwBDQEOAQ8BEAERARIBEwEUARUBFgEXARgBGQEaARsBHAEdAR4BHwEgASEBIgEjASQBJQEmAScBKAEpASoBKwEsAS0BLgEvATABMQEyATMBNAE1ATYBNwE4ATkBOgE7ATwBPQE+AT8BQAFBAUIBQwFEAUUBRgFHAUgBSQFKAUsBTAFNAU4BTwFQAVEBUgFTAVQBVQFWAVcBWAFZAVoBWwFcAV0BXgFfAWABYQFiAWMBZAFlAWYBZwFoAWkBagFrAWwBbQFuAW8BcAFxAXIBcwF0AXUBdgF3AXgBeQF6AXsBfAF9AX4BfwGAAQ==",
          "dtype": "u2"
         },
         "xaxis": "x16",
         "y": {
          "bdata": "85eMPiqZjD5mnYw+AqCMPlGijD57pIw+YqaMPhiojD7vqYw+uKuMPi+tjD6Jrow+B7CMPm+xjD6Tsow+/LOMPhO1jD5itow+YLeMPhm4jD7yuIw+5bmMPue6jD4EvIw+ib2MPse+jD6Yv4w+csCMPhfBjD7/wYw+48KMPr7DjD6YxIw+k8WMPu/GjD70x4w+wsiMPp3JjD64yow+pMuMPp3MjD6KzYw+yM6MPp3PjD5t0Iw+gNGMPlnSjD4s04w+ydOMPnzUjD4T1Yw+tNWMPlrWjD611ow+AteMPlHXjD7Q14w+WNiMPvfYjD6Y2Yw++dmMPlrajD742ow+Y9uMPsXbjD4e3Iw+ltyMPgrdjD5F3Yw+gd2MPkLejD6T3ow+Hd+MPuXfjD5O4Iw+keCMPtzgjD4L4Yw+Z+GMPgzijD7I4ow++uKMPkXjjD7H44w+7eOMPhPkjD5x5Iw+teSMPuLkjD705Iw+HuWMPm3ljD7u5Yw+XOaMPm/mjD6z5ow+6eaMPh/njD5l54w+lOeMPsnnjD7j54w+EeiMPo3ojD6w6Iw+BOmMPjLpjD556Yw+kemMPu7pjD4m6ow+fuqMPsnqjD7n6ow+IeuMPh7rjD7w6ow+5uqMPjzrjD6Y64w+m+uMPoHrjD6464w+/OuMPhLsjD457Iw+buyMPtbsjD4e7Yw+Su2MPnPtjD7A7Yw+C+6MPkrujD5R7ow+Ve6MPnfujD6o7ow+De+MPivvjD4674w+Ju+MPjnvjD4q74w+R++MPmvvjD6574w+BvCMPlHwjD6L8Iw+4PCMPgnxjD4p8Yw+YfGMPo3xjD5+8Yw+a/GMPmvxjD7k8Yw+BvKMPhXyjD4K8ow+LvKMPkDyjD5q8ow+H/OMPgrzjD4984w+WfOMPq3zjD7J84w+8POMPgj0jD4h9Iw+F/SMPlv0jD5g9Iw+a/SMPmH0jD6Z9Iw+m/SMPtj0jD7+9Iw+NvWMPjX1jD5u9Yw+ifWMPtz1jD4w9ow+QfaMPvb1jD7B9Yw+pvWMPq71jD7/9Yw+TvaMPq/2jD7d9ow+TveMPpT3jD6e94w+kfeMPkn3jD5z94w+nPeMPsn3jD4M+Iw+NviMPmn4jD6K+Iw+uPiMPvD4jD4k+Yw+NvmMPnb5jD59+Yw+uvmMPs/5jD7L+Yw+DfqMPuL5jD7++Yw+M/qMPm36jD4z+ow+KfqMPl76jD64+ow+1vqMPg37jD5Q+4w+kfuMPuL7jD4X/Iw+K/yMPmb8jD6N/Iw+u/yMPgX9jD4D/Yw+Kf2MPgr9jD7t/Iw+8PyMPvH8jD75/Iw+5fyMPuv8jD7e/Iw+4fyMPq/8jD69/Iw+AP2MPrv8jD6S/Iw+x/yMPsX8jD4=",
          "dtype": "f4"
         },
         "yaxis": "y16"
        },
        {
         "hoverinfo": "skip",
         "legendgroup": "SRP(E,4)",
         "line": {
          "color": "#636EFA",
          "dash": "dot"
         },
         "mode": "lines",
         "name": "SRP(E,4)",
         "opacity": 0.5,
         "showlegend": false,
         "type": "scatter",
         "x": {
          "bdata": "AgADAAQABQAGAAcACAAJAAoACwAMAA0ADgAPABAAEQASABMAFAAVABYAFwAYABkAGgAbABwAHQAeAB8AIAAhACIAIwAkACUAJgAnACgAKQAqACsALAAtAC4ALwAwADEAMgAzADQANQA2ADcAOAA5ADoAOwA8AD0APgA/AEAAQQBCAEMARABFAEYARwBIAEkASgBLAEwATQBOAE8AUABRAFIAUwBUAFUAVgBXAFgAWQBaAFsAXABdAF4AXwBgAGEAYgBjAGQAZQBmAGcAaABpAGoAawBsAG0AbgBvAHAAcQByAHMAdAB1AHYAdwB4AHkAegB7AHwAfQB+AH8AgACBAIIAgwCEAIUAhgCHAIgAiQCKAIsAjACNAI4AjwCQAJEAkgCTAJQAlQCWAJcAmACZAJoAmwCcAJ0AngCfAKAAoQCiAKMApAClAKYApwCoAKkAqgCrAKwArQCuAK8AsACxALIAswC0ALUAtgC3ALgAuQC6ALsAvAC9AL4AvwDAAMEAwgDDAMQAxQDGAMcAyADJAMoAywDMAM0AzgDPANAA0QDSANMA1ADVANYA1wDYANkA2gDbANwA3QDeAN8A4ADhAOIA4wDkAOUA5gDnAOgA6QDqAOsA7ADtAO4A7wDwAPEA8gDzAPQA9QD2APcA+AD5APoA+wD8AP0A/gD/AAABAQECAQMBBAEFAQYBBwEIAQkBCgELAQwBDQEOAQ8BEAERARIBEwEUARUBFgEXARgBGQEaARsBHAEdAR4BHwEgASEBIgEjASQBJQEmAScBKAEpASoBKwEsAS0BLgEvATABMQEyATMBNAE1ATYBNwE4ATkBOgE7ATwBPQE+AT8BQAFBAUIBQwFEAUUBRgFHAUgBSQFKAUsBTAFNAU4BTwFQAVEBUgFTAVQBVQFWAVcBWAFZAVoBWwFcAV0BXgFfAWABYQFiAWMBZAFlAWYBZwFoAWkBagFrAWwBbQFuAW8BcAFxAXIBcwF0AXUBdgF3AXgBeQF6AXsBfAF9AX4BfwGAAYEBggGDAYQBhQGGAYcBiAGJAYoBiwGMAY0BjgGPAZABkQGSAZMBlAGVAZYBlwGYAZkBmgGbAZwBnQGeAZ8BoAGhAaIBowGkAaUBpgGnAagBqQGqAasBrAGtAa4BrwGwAbEBsgGzAbQBtQG2AbcBuAG5AboBuwG8Ab0BvgG/AcABwQHCAcMBxAHFAcYBxwHIAckBygHLAcwBzQHOAc8B0AHRAdIB0wHUAdUB1gHXAdgB2QHaAdsB3AHdAd4B3wHgAeEB4gHjAeQB5QHmAecB6AHpAeoB6wHsAe0B7gHvAfAB8QHyAfMB9AH1AfYB9wH4AfkB+gH7AfwB/QH+AQ==",
          "dtype": "u2"
         },
         "xaxis": "x17",
         "y": {
          "bdata": "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",
          "dtype": "f4"
         },
         "yaxis": "y17"
        },
        {
         "hoverinfo": "skip",
         "legendgroup": "SRP(E,4)",
         "line": {
          "color": "#636EFA",
          "dash": "solid"
         },
         "mode": "lines",
         "name": "SRP(E,4)",
         "opacity": 1,
         "showlegend": false,
         "type": "scatter",
         "x": {
          "bdata": "AgADAAQABQAGAAcACAAJAAoACwAMAA0ADgAPABAAEQASABMAFAAVABYAFwAYABkAGgAbABwAHQAeAB8AIAAhACIAIwAkACUAJgAnACgAKQAqACsALAAtAC4ALwAwADEAMgAzADQANQA2ADcAOAA5ADoAOwA8AD0APgA/AEAAQQBCAEMARABFAEYARwBIAEkASgBLAEwATQBOAE8AUABRAFIAUwBUAFUAVgBXAFgAWQBaAFsAXABdAF4AXwBgAGEAYgBjAGQAZQBmAGcAaABpAGoAawBsAG0AbgBvAHAAcQByAHMAdAB1AHYAdwB4AHkAegB7AHwAfQB+AH8AgACBAIIAgwCEAIUAhgCHAIgAiQCKAIsAjACNAI4AjwCQAJEAkgCTAJQAlQCWAJcAmACZAJoAmwCcAJ0AngCfAKAAoQCiAKMApAClAKYApwCoAKkAqgCrAKwArQCuAK8AsACxALIAswC0ALUAtgC3ALgAuQC6ALsAvAC9AL4AvwDAAMEAwgDDAMQAxQDGAMcAyADJAMoAywDMAM0AzgDPANAA0QDSANMA1ADVANYA1wDYANkA2gDbANwA3QDeAN8A4ADhAOIA4wDkAOUA5gDnAOgA6QDqAOsA7ADtAO4A7wDwAPEA8gDzAPQA9QD2APcA+AD5APoA+wD8AP0A/gD/AAABAQECAQMBBAEFAQYBBwEIAQkBCgELAQwBDQEOAQ8BEAERARIBEwEUARUBFgEXARgBGQEaARsBHAEdAR4BHwEgASEBIgEjASQBJQEmAScBKAEpASoBKwEsAS0BLgEvATABMQEyATMBNAE1ATYBNwE4ATkBOgE7ATwBPQE+AT8BQAFBAUIBQwFEAUUBRgFHAUgBSQFKAUsBTAFNAU4BTwFQAVEBUgFTAVQBVQFWAVcBWAFZAVoBWwFcAV0BXgFfAWABYQFiAWMBZAFlAWYBZwFoAWkBagFrAWwBbQFuAW8BcAFxAXIBcwF0AXUBdgF3AXgBeQF6AXsBfAF9AX4BfwGAAYEBggGDAYQBhQGGAYcBiAGJAYoBiwGMAY0BjgGPAZABkQGSAZMBlAGVAZYBlwGYAZkBmgGbAZwBnQGeAZ8BoAGhAaIBowGkAaUBpgGnAagBqQGqAasBrAGtAa4BrwGwAbEBsgGzAbQBtQG2AbcBuAG5AboBuwG8Ab0BvgG/AcABwQHCAcMBxAHFAcYBxwHIAckBygHLAcwBzQHOAc8B0AHRAdIB0wHUAdUB1gHXAdgB2QHaAdsB3AHdAd4B3wHgAeEB4gHjAeQB5QHmAecB6AHpAeoB6wHsAe0B7gHvAfAB8QHyAfMB9AH1AfYB9wH4AfkB+gH7AfwB/QH+AQ==",
          "dtype": "u2"
         },
         "xaxis": "x17",
         "y": {
          "bdata": "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",
          "dtype": "f4"
         },
         "yaxis": "y17"
        },
        {
         "hoverinfo": "skip",
         "legendgroup": "SRP(E,16)",
         "line": {
          "color": "#EF553B",
          "dash": "dot"
         },
         "mode": "lines",
         "name": "SRP(E,16)",
         "opacity": 0.5,
         "showlegend": false,
         "type": "scatter",
         "x": {
          "bdata": "CAAJAAoACwAMAA0ADgAPABAAEQASABMAFAAVABYAFwAYABkAGgAbABwAHQAeAB8AIAAhACIAIwAkACUAJgAnACgAKQAqACsALAAtAC4ALwAwADEAMgAzADQANQA2ADcAOAA5ADoAOwA8AD0APgA/AEAAQQBCAEMARABFAEYARwBIAEkASgBLAEwATQBOAE8AUABRAFIAUwBUAFUAVgBXAFgAWQBaAFsAXABdAF4AXwBgAGEAYgBjAGQAZQBmAGcAaABpAGoAawBsAG0AbgBvAHAAcQByAHMAdAB1AHYAdwB4AHkAegB7AHwAfQB+AH8AgACBAIIAgwCEAIUAhgCHAIgAiQCKAIsAjACNAI4AjwCQAJEAkgCTAJQAlQCWAJcAmACZAJoAmwCcAJ0AngCfAKAAoQCiAKMApAClAKYApwCoAKkAqgCrAKwArQCuAK8AsACxALIAswC0ALUAtgC3ALgAuQC6ALsAvAC9AL4AvwDAAMEAwgDDAMQAxQDGAMcAyADJAMoAywDMAM0AzgDPANAA0QDSANMA1ADVANYA1wDYANkA2gDbANwA3QDeAN8A4ADhAOIA4wDkAOUA5gDnAOgA6QDqAOsA7ADtAO4A7wDwAPEA8gDzAPQA9QD2APcA+AD5APoA+wD8AP0A/gD/AAABAQECAQMBBAEFAQYBBwEIAQkBCgELAQwBDQEOAQ8BEAERARIBEwEUARUBFgEXARgBGQEaARsBHAEdAR4BHwEgASEBIgEjASQBJQEmAScBKAEpASoBKwEsAS0BLgEvATABMQEyATMBNAE1ATYBNwE4ATkBOgE7ATwBPQE+AT8BQAFBAUIBQwFEAUUBRgFHAUgBSQFKAUsBTAFNAU4BTwFQAVEBUgFTAVQBVQFWAVcBWAFZAVoBWwFcAV0BXgFfAWABYQFiAWMBZAFlAWYBZwFoAWkBagFrAWwBbQFuAW8BcAFxAXIBcwF0AXUBdgF3AXgBeQF6AXsBfAF9AX4BfwGAAYEBggGDAYQBhQGGAYcBiAGJAYoBiwGMAY0BjgGPAZABkQGSAZMBlAGVAZYBlwGYAZkBmgGbAZwBnQGeAZ8BoAGhAaIBowGkAaUBpgGnAagBqQGqAasBrAGtAa4BrwGwAbEBsgGzAbQBtQG2AbcBuAG5AboBuwG8Ab0BvgG/AcABwQHCAcMBxAHFAcYBxwHIAckBygHLAcwBzQHOAc8B0AHRAdIB0wHUAdUB1gHXAdgB2QHaAdsB3AHdAd4B3wHgAeEB4gHjAeQB5QHmAecB6AHpAeoB6wHsAe0B7gHvAfAB8QHyAfMB9AH1AfYB9wH4AQ==",
          "dtype": "u2"
         },
         "xaxis": "x17",
         "y": {
          "bdata": "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",
          "dtype": "f4"
         },
         "yaxis": "y17"
        },
        {
         "hoverinfo": "skip",
         "legendgroup": "SRP(E,16)",
         "line": {
          "color": "#EF553B",
          "dash": "solid"
         },
         "mode": "lines",
         "name": "SRP(E,16)",
         "opacity": 1,
         "showlegend": false,
         "type": "scatter",
         "x": {
          "bdata": "CAAJAAoACwAMAA0ADgAPABAAEQASABMAFAAVABYAFwAYABkAGgAbABwAHQAeAB8AIAAhACIAIwAkACUAJgAnACgAKQAqACsALAAtAC4ALwAwADEAMgAzADQANQA2ADcAOAA5ADoAOwA8AD0APgA/AEAAQQBCAEMARABFAEYARwBIAEkASgBLAEwATQBOAE8AUABRAFIAUwBUAFUAVgBXAFgAWQBaAFsAXABdAF4AXwBgAGEAYgBjAGQAZQBmAGcAaABpAGoAawBsAG0AbgBvAHAAcQByAHMAdAB1AHYAdwB4AHkAegB7AHwAfQB+AH8AgACBAIIAgwCEAIUAhgCHAIgAiQCKAIsAjACNAI4AjwCQAJEAkgCTAJQAlQCWAJcAmACZAJoAmwCcAJ0AngCfAKAAoQCiAKMApAClAKYApwCoAKkAqgCrAKwArQCuAK8AsACxALIAswC0ALUAtgC3ALgAuQC6ALsAvAC9AL4AvwDAAMEAwgDDAMQAxQDGAMcAyADJAMoAywDMAM0AzgDPANAA0QDSANMA1ADVANYA1wDYANkA2gDbANwA3QDeAN8A4ADhAOIA4wDkAOUA5gDnAOgA6QDqAOsA7ADtAO4A7wDwAPEA8gDzAPQA9QD2APcA+AD5APoA+wD8AP0A/gD/AAABAQECAQMBBAEFAQYBBwEIAQkBCgELAQwBDQEOAQ8BEAERARIBEwEUARUBFgEXARgBGQEaARsBHAEdAR4BHwEgASEBIgEjASQBJQEmAScBKAEpASoBKwEsAS0BLgEvATABMQEyATMBNAE1ATYBNwE4ATkBOgE7ATwBPQE+AT8BQAFBAUIBQwFEAUUBRgFHAUgBSQFKAUsBTAFNAU4BTwFQAVEBUgFTAVQBVQFWAVcBWAFZAVoBWwFcAV0BXgFfAWABYQFiAWMBZAFlAWYBZwFoAWkBagFrAWwBbQFuAW8BcAFxAXIBcwF0AXUBdgF3AXgBeQF6AXsBfAF9AX4BfwGAAYEBggGDAYQBhQGGAYcBiAGJAYoBiwGMAY0BjgGPAZABkQGSAZMBlAGVAZYBlwGYAZkBmgGbAZwBnQGeAZ8BoAGhAaIBowGkAaUBpgGnAagBqQGqAasBrAGtAa4BrwGwAbEBsgGzAbQBtQG2AbcBuAG5AboBuwG8Ab0BvgG/AcABwQHCAcMBxAHFAcYBxwHIAckBygHLAcwBzQHOAc8B0AHRAdIB0wHUAdUB1gHXAdgB2QHaAdsB3AHdAd4B3wHgAeEB4gHjAeQB5QHmAecB6AHpAeoB6wHsAe0B7gHvAfAB8QHyAfMB9AH1AfYB9wH4AQ==",
          "dtype": "u2"
         },
         "xaxis": "x17",
         "y": {
          "bdata": "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",
          "dtype": "f4"
         },
         "yaxis": "y17"
        },
        {
         "hoverinfo": "skip",
         "legendgroup": "SRP(E,64)",
         "line": {
          "color": "#00CC96",
          "dash": "dot"
         },
         "mode": "lines",
         "name": "SRP(E,64)",
         "opacity": 0.5,
         "showlegend": false,
         "type": "scatter",
         "x": {
          "bdata": "IAAhACIAIwAkACUAJgAnACgAKQAqACsALAAtAC4ALwAwADEAMgAzADQANQA2ADcAOAA5ADoAOwA8AD0APgA/AEAAQQBCAEMARABFAEYARwBIAEkASgBLAEwATQBOAE8AUABRAFIAUwBUAFUAVgBXAFgAWQBaAFsAXABdAF4AXwBgAGEAYgBjAGQAZQBmAGcAaABpAGoAawBsAG0AbgBvAHAAcQByAHMAdAB1AHYAdwB4AHkAegB7AHwAfQB+AH8AgACBAIIAgwCEAIUAhgCHAIgAiQCKAIsAjACNAI4AjwCQAJEAkgCTAJQAlQCWAJcAmACZAJoAmwCcAJ0AngCfAKAAoQCiAKMApAClAKYApwCoAKkAqgCrAKwArQCuAK8AsACxALIAswC0ALUAtgC3ALgAuQC6ALsAvAC9AL4AvwDAAMEAwgDDAMQAxQDGAMcAyADJAMoAywDMAM0AzgDPANAA0QDSANMA1ADVANYA1wDYANkA2gDbANwA3QDeAN8A4ADhAOIA4wDkAOUA5gDnAOgA6QDqAOsA7ADtAO4A7wDwAPEA8gDzAPQA9QD2APcA+AD5APoA+wD8AP0A/gD/AAABAQECAQMBBAEFAQYBBwEIAQkBCgELAQwBDQEOAQ8BEAERARIBEwEUARUBFgEXARgBGQEaARsBHAEdAR4BHwEgASEBIgEjASQBJQEmAScBKAEpASoBKwEsAS0BLgEvATABMQEyATMBNAE1ATYBNwE4ATkBOgE7ATwBPQE+AT8BQAFBAUIBQwFEAUUBRgFHAUgBSQFKAUsBTAFNAU4BTwFQAVEBUgFTAVQBVQFWAVcBWAFZAVoBWwFcAV0BXgFfAWABYQFiAWMBZAFlAWYBZwFoAWkBagFrAWwBbQFuAW8BcAFxAXIBcwF0AXUBdgF3AXgBeQF6AXsBfAF9AX4BfwGAAYEBggGDAYQBhQGGAYcBiAGJAYoBiwGMAY0BjgGPAZABkQGSAZMBlAGVAZYBlwGYAZkBmgGbAZwBnQGeAZ8BoAGhAaIBowGkAaUBpgGnAagBqQGqAasBrAGtAa4BrwGwAbEBsgGzAbQBtQG2AbcBuAG5AboBuwG8Ab0BvgG/AcABwQHCAcMBxAHFAcYBxwHIAckBygHLAcwBzQHOAc8B0AHRAdIB0wHUAdUB1gHXAdgB2QHaAdsB3AHdAd4B3wHgAQ==",
          "dtype": "u2"
         },
         "xaxis": "x17",
         "y": {
          "bdata": "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",
          "dtype": "f4"
         },
         "yaxis": "y17"
        },
        {
         "hoverinfo": "skip",
         "legendgroup": "SRP(E,64)",
         "line": {
          "color": "#00CC96",
          "dash": "solid"
         },
         "mode": "lines",
         "name": "SRP(E,64)",
         "opacity": 1,
         "showlegend": false,
         "type": "scatter",
         "x": {
          "bdata": "IAAhACIAIwAkACUAJgAnACgAKQAqACsALAAtAC4ALwAwADEAMgAzADQANQA2ADcAOAA5ADoAOwA8AD0APgA/AEAAQQBCAEMARABFAEYARwBIAEkASgBLAEwATQBOAE8AUABRAFIAUwBUAFUAVgBXAFgAWQBaAFsAXABdAF4AXwBgAGEAYgBjAGQAZQBmAGcAaABpAGoAawBsAG0AbgBvAHAAcQByAHMAdAB1AHYAdwB4AHkAegB7AHwAfQB+AH8AgACBAIIAgwCEAIUAhgCHAIgAiQCKAIsAjACNAI4AjwCQAJEAkgCTAJQAlQCWAJcAmACZAJoAmwCcAJ0AngCfAKAAoQCiAKMApAClAKYApwCoAKkAqgCrAKwArQCuAK8AsACxALIAswC0ALUAtgC3ALgAuQC6ALsAvAC9AL4AvwDAAMEAwgDDAMQAxQDGAMcAyADJAMoAywDMAM0AzgDPANAA0QDSANMA1ADVANYA1wDYANkA2gDbANwA3QDeAN8A4ADhAOIA4wDkAOUA5gDnAOgA6QDqAOsA7ADtAO4A7wDwAPEA8gDzAPQA9QD2APcA+AD5APoA+wD8AP0A/gD/AAABAQECAQMBBAEFAQYBBwEIAQkBCgELAQwBDQEOAQ8BEAERARIBEwEUARUBFgEXARgBGQEaARsBHAEdAR4BHwEgASEBIgEjASQBJQEmAScBKAEpASoBKwEsAS0BLgEvATABMQEyATMBNAE1ATYBNwE4ATkBOgE7ATwBPQE+AT8BQAFBAUIBQwFEAUUBRgFHAUgBSQFKAUsBTAFNAU4BTwFQAVEBUgFTAVQBVQFWAVcBWAFZAVoBWwFcAV0BXgFfAWABYQFiAWMBZAFlAWYBZwFoAWkBagFrAWwBbQFuAW8BcAFxAXIBcwF0AXUBdgF3AXgBeQF6AXsBfAF9AX4BfwGAAYEBggGDAYQBhQGGAYcBiAGJAYoBiwGMAY0BjgGPAZABkQGSAZMBlAGVAZYBlwGYAZkBmgGbAZwBnQGeAZ8BoAGhAaIBowGkAaUBpgGnAagBqQGqAasBrAGtAa4BrwGwAbEBsgGzAbQBtQG2AbcBuAG5AboBuwG8Ab0BvgG/AcABwQHCAcMBxAHFAcYBxwHIAckBygHLAcwBzQHOAc8B0AHRAdIB0wHUAdUB1gHXAdgB2QHaAdsB3AHdAd4B3wHgAQ==",
          "dtype": "u2"
         },
         "xaxis": "x17",
         "y": {
          "bdata": "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",
          "dtype": "f4"
         },
         "yaxis": "y17"
        },
        {
         "hoverinfo": "skip",
         "legendgroup": "SRP(E,256)",
         "line": {
          "color": "#AB63FA",
          "dash": "dot"
         },
         "mode": "lines",
         "name": "SRP(E,256)",
         "opacity": 0.5,
         "showlegend": false,
         "type": "scatter",
         "x": {
          "bdata": "gACBAIIAgwCEAIUAhgCHAIgAiQCKAIsAjACNAI4AjwCQAJEAkgCTAJQAlQCWAJcAmACZAJoAmwCcAJ0AngCfAKAAoQCiAKMApAClAKYApwCoAKkAqgCrAKwArQCuAK8AsACxALIAswC0ALUAtgC3ALgAuQC6ALsAvAC9AL4AvwDAAMEAwgDDAMQAxQDGAMcAyADJAMoAywDMAM0AzgDPANAA0QDSANMA1ADVANYA1wDYANkA2gDbANwA3QDeAN8A4ADhAOIA4wDkAOUA5gDnAOgA6QDqAOsA7ADtAO4A7wDwAPEA8gDzAPQA9QD2APcA+AD5APoA+wD8AP0A/gD/AAABAQECAQMBBAEFAQYBBwEIAQkBCgELAQwBDQEOAQ8BEAERARIBEwEUARUBFgEXARgBGQEaARsBHAEdAR4BHwEgASEBIgEjASQBJQEmAScBKAEpASoBKwEsAS0BLgEvATABMQEyATMBNAE1ATYBNwE4ATkBOgE7ATwBPQE+AT8BQAFBAUIBQwFEAUUBRgFHAUgBSQFKAUsBTAFNAU4BTwFQAVEBUgFTAVQBVQFWAVcBWAFZAVoBWwFcAV0BXgFfAWABYQFiAWMBZAFlAWYBZwFoAWkBagFrAWwBbQFuAW8BcAFxAXIBcwF0AXUBdgF3AXgBeQF6AXsBfAF9AX4BfwGAAQ==",
          "dtype": "u2"
         },
         "xaxis": "x17",
         "y": {
          "bdata": "qCgPPp2lDz4+xg8++d4PPsTzDz4uBhA+YxkQPuYrED5cQBA+GFEQPoViED4scxA+8YIQPmWSED5aoRA+37EQPhfDED6+1BA+p+gQPuj6ED7RChE+KxwRPgguET4sQBE+11IRPglmET7qeBE+lY0RPkWgET7sshE+DcYRPuzbET7q8hE+twkSPkYgEj65OBI+3FMSPpRxEj7TkRI+NrISPrXVEj5v+BI+xhwTPpdDEz4XbBM+PZUTPgjBEz6I7RM+bxwUPqpLFD6lfBQ+Sa4UPpjiFD47FRU+yEcVPgF8FT42sBU+ReYVPmcgFj4PWRY+dpMWPtPOFj4PChc++EQXPqqAFz5Yvhc+TPwXPgQ+GD68gBg+tMEYPiwBGT7PQhk+8YIZPgPFGT6XBho+jEkaPjGLGj7MzRo+nw8bPrxRGz47lRs++9cbPi0bHD66XRw+uKAcPm7jHD6dJR0+o2cdPuypHT4V6h0++SkePlhqHj4bqR4+FekePvQqHz7ybR8+5q8fPifwHz6KNCA+9HogPl7BID5JBiE+fk0hPjWSIT6Z1iE+Eh0iPhtkIj7FrSI+ffYiPsM/Iz6RiSM++9MjPnceJD5xaCQ+d7AkPtf5JD6fQyU+4IwlPsfZJT5BJiY+fHEmPpW9Jj5+CCc+8VAnPt2ZJz6l5Cc+nTMoPtCDKD430Sg+bSEpPhtxKT4hwCk+5RAqPldhKj4osSo+hgArPmJOKz6amys+cOsrPms7LD4Hiyw+OtssPuorLT7aei0+zMgtPuUXLj45Zi4+4rMuPu3+Lj5bSC8+wJIvPnXbLz51KDA+FHowPtXKMD7rFjE+NmQxPputMT6l8zE+ZTkyPjd+Mj5TwjI+LwUzPhxFMz51gTM+ar8zPlT9Mz72OjQ+93c0Ppe3ND7P9jQ+ozQ1PlBzNT4isjU+WO41PrgmNj5SXTY+t5A2Po3CNj7c8zY+9yY3Pj1bNz7tjzc+j783PtXwNz5rIzg+qlY4PoWLOD5ivzg+Y/I4PvYkOT6xVDk+wYA5PoesOT581Dk+/Po5PuUfOj49RDo+5mc6PnSLOj4xrTo+a9A6Pkn1Oj4mGzs+0UI7PpdpOz6VkDs+iLk7PoXiOz4BCzw+8TM8PhlePD6Xhzw+o648PmvUPD6G+Dw+9R09Pmo/PT4GXz0+wno9PvmVPT49rD0+bcA9PlbTPT6e5D0+tPI9Pt7+PT4OCD4+UxI+PmobPj7LIj4+Nio+PvAyPj4qOj4+CT8+PlJFPj72ST4+NU4+PsJUPj6MWz4+Y2E+Pk5nPj5qbD4+rnE+Pq91Pj6Qdz4+FXo+Pmx9Pj6TgD4+AoQ+PlOGPj6DiT4+Uo4+PiiRPj7Lkz4+yJY+PkSYPj4=",
          "dtype": "f4"
         },
         "yaxis": "y17"
        },
        {
         "hoverinfo": "skip",
         "legendgroup": "SRP(E,256)",
         "line": {
          "color": "#AB63FA",
          "dash": "solid"
         },
         "mode": "lines",
         "name": "SRP(E,256)",
         "opacity": 1,
         "showlegend": false,
         "type": "scatter",
         "x": {
          "bdata": "gACBAIIAgwCEAIUAhgCHAIgAiQCKAIsAjACNAI4AjwCQAJEAkgCTAJQAlQCWAJcAmACZAJoAmwCcAJ0AngCfAKAAoQCiAKMApAClAKYApwCoAKkAqgCrAKwArQCuAK8AsACxALIAswC0ALUAtgC3ALgAuQC6ALsAvAC9AL4AvwDAAMEAwgDDAMQAxQDGAMcAyADJAMoAywDMAM0AzgDPANAA0QDSANMA1ADVANYA1wDYANkA2gDbANwA3QDeAN8A4ADhAOIA4wDkAOUA5gDnAOgA6QDqAOsA7ADtAO4A7wDwAPEA8gDzAPQA9QD2APcA+AD5APoA+wD8AP0A/gD/AAABAQECAQMBBAEFAQYBBwEIAQkBCgELAQwBDQEOAQ8BEAERARIBEwEUARUBFgEXARgBGQEaARsBHAEdAR4BHwEgASEBIgEjASQBJQEmAScBKAEpASoBKwEsAS0BLgEvATABMQEyATMBNAE1ATYBNwE4ATkBOgE7ATwBPQE+AT8BQAFBAUIBQwFEAUUBRgFHAUgBSQFKAUsBTAFNAU4BTwFQAVEBUgFTAVQBVQFWAVcBWAFZAVoBWwFcAV0BXgFfAWABYQFiAWMBZAFlAWYBZwFoAWkBagFrAWwBbQFuAW8BcAFxAXIBcwF0AXUBdgF3AXgBeQF6AXsBfAF9AX4BfwGAAQ==",
          "dtype": "u2"
         },
         "xaxis": "x17",
         "y": {
          "bdata": "UPZSPvuSUz4jClQ+ZSNUPtIrVD4iLFQ+XilUPgshVD7RF1Q+3QxUPk8AVD529FM+N+VTPnHWUz4Px1M+y7ZTPnelUz71lFM+M4JTPlFuUz4GW1M+40hTPoo3Uz73JVM+gRRTPpABUz4/61I+VdVSPljAUj4grVI+5ZpSPmOLUj6Ue1I+mGtSPshaUj5XS1I+dztSPvMsUj6uHVI+vAxSPj76UT4H6VE+vdVRPuTDUT5QsVE+gJ9RPsqJUT5Cc1E+0FxRPuhGUT4pNFE+QCNRPlMSUT5BA1E+4vNQPnTkUD4o2FA+psxQPrDBUD78uVA+LbFQPqeoUD7tnlA+9pZQPraPUD6diVA+zIRQPguDUD7sglA+wYJQPuiCUD70glA+NoNQPmKEUD5fh1A+64pQPiuRUD5DmVA+/qFQPlmrUD61tFA+HL1QPljFUD4P0VA+QN5QPo7sUD4O/lA+UhBRPnsiUT7VNlE+NkpRPk1gUT4VeFE+KI9RPvSnUT6SwlE+Xt5RPhv9UT79GVI+vzlSPmRaUj68flI+Y6RSPsXMUj6T9FI+oR9TPntLUz73d1M+CalTPg/aUz5bDlQ+HEJUPv93VD5JslQ+z+tUPgAnVT40Y1U+KqFVPpLfVT6nH1Y+3WFWPnGkVj7+51Y+qCtXPsxwVz5Qt1c+BwFYPh9PWD6HoFg+TPJYPgxIWT6Ym1k+1+5ZPm5GWj4Xn1o+xfhaPpNTWz5Erls+1AhcPgNkXD51wFw+Wx1dPgZ7XT5B2l0+tjdePrmUXj5t8l4+ZU5fPtesXz7fCmA+dGxgPkfNYD4eK2E+O4phPg/sYT5PTWI+Xa1iPsEMYz5paGM+RsJjPogcZD6ydmQ+BdFkPoorZT6Wg2U+a9hlPmMvZj4qhGY+FtpmPoouZz62gWc+6tJnPukjaD78dGg+LspoPgofaT6pb2k+NL9pPm4Laj4yVWo+j6FqPojwaj6OP2s+J41rPjrYaz5mImw+Dm9sPu66bD6mBW0+KlFtPgKcbT755m0+zzFuPqJ7bj7yxW4+7A9vPrxcbz7Yp28+0vJvPihBcD4Mj3A+3ttwPnopcT7Wd3E+ScdxPhQYcj5KanI+fLpyPqYKcz6wWnM+k6xzPiL/cz5aUnQ+YKJ0PoXudD4MO3U+GYl1PuvYdT7dJXY+d3F2PhC6dj7HA3c+jkp3PrGSdz5423c+NSR4Po9teD7zt3g+o/94Po1IeT7jk3k+o+F5PnEtej6seHo+LsR6PmgOez7tWHs+paV7Pgbyez5VPXw+OIl8Pu3TfD7XH30+QGt9Poe3fT5LAX4+lEt+PoOVfj5B334+eih/PrFyfz6avH8+SwOAPs4pgD5oT4A+S3aAPq6cgD4=",
          "dtype": "f4"
         },
         "yaxis": "y17"
        },
        {
         "hoverinfo": "skip",
         "legendgroup": "SRP(E,4)",
         "line": {
          "color": "#636EFA"
         },
         "mode": "lines",
         "name": "SRP(E,4)",
         "showlegend": false,
         "type": "scatter",
         "x": {
          "bdata": "AgADAAQABQAGAAcACAAJAAoACwAMAA0ADgAPABAAEQASABMAFAAVABYAFwAYABkAGgAbABwAHQAeAB8AIAAhACIAIwAkACUAJgAnACgAKQAqACsALAAtAC4ALwAwADEAMgAzADQANQA2ADcAOAA5ADoAOwA8AD0APgA/AEAAQQBCAEMARABFAEYARwBIAEkASgBLAEwATQBOAE8AUABRAFIAUwBUAFUAVgBXAFgAWQBaAFsAXABdAF4AXwBgAGEAYgBjAGQAZQBmAGcAaABpAGoAawBsAG0AbgBvAHAAcQByAHMAdAB1AHYAdwB4AHkAegB7AHwAfQB+AH8AgACBAIIAgwCEAIUAhgCHAIgAiQCKAIsAjACNAI4AjwCQAJEAkgCTAJQAlQCWAJcAmACZAJoAmwCcAJ0AngCfAKAAoQCiAKMApAClAKYApwCoAKkAqgCrAKwArQCuAK8AsACxALIAswC0ALUAtgC3ALgAuQC6ALsAvAC9AL4AvwDAAMEAwgDDAMQAxQDGAMcAyADJAMoAywDMAM0AzgDPANAA0QDSANMA1ADVANYA1wDYANkA2gDbANwA3QDeAN8A4ADhAOIA4wDkAOUA5gDnAOgA6QDqAOsA7ADtAO4A7wDwAPEA8gDzAPQA9QD2APcA+AD5APoA+wD8AP0A/gD/AAABAQECAQMBBAEFAQYBBwEIAQkBCgELAQwBDQEOAQ8BEAERARIBEwEUARUBFgEXARgBGQEaARsBHAEdAR4BHwEgASEBIgEjASQBJQEmAScBKAEpASoBKwEsAS0BLgEvATABMQEyATMBNAE1ATYBNwE4ATkBOgE7ATwBPQE+AT8BQAFBAUIBQwFEAUUBRgFHAUgBSQFKAUsBTAFNAU4BTwFQAVEBUgFTAVQBVQFWAVcBWAFZAVoBWwFcAV0BXgFfAWABYQFiAWMBZAFlAWYBZwFoAWkBagFrAWwBbQFuAW8BcAFxAXIBcwF0AXUBdgF3AXgBeQF6AXsBfAF9AX4BfwGAAYEBggGDAYQBhQGGAYcBiAGJAYoBiwGMAY0BjgGPAZABkQGSAZMBlAGVAZYBlwGYAZkBmgGbAZwBnQGeAZ8BoAGhAaIBowGkAaUBpgGnAagBqQGqAasBrAGtAa4BrwGwAbEBsgGzAbQBtQG2AbcBuAG5AboBuwG8Ab0BvgG/AcABwQHCAcMBxAHFAcYBxwHIAckBygHLAcwBzQHOAc8B0AHRAdIB0wHUAdUB1gHXAdgB2QHaAdsB3AHdAd4B3wHgAeEB4gHjAeQB5QHmAecB6AHpAeoB6wHsAe0B7gHvAfAB8QHyAfMB9AH1AfYB9wH4AfkB+gH7AfwB/QH+AQ==",
          "dtype": "u2"
         },
         "xaxis": "x18",
         "y": {
          "bdata": "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",
          "dtype": "f4"
         },
         "yaxis": "y18"
        },
        {
         "hoverinfo": "skip",
         "legendgroup": "SRP(E,16)",
         "line": {
          "color": "#EF553B"
         },
         "mode": "lines",
         "name": "SRP(E,16)",
         "showlegend": false,
         "type": "scatter",
         "x": {
          "bdata": "CAAJAAoACwAMAA0ADgAPABAAEQASABMAFAAVABYAFwAYABkAGgAbABwAHQAeAB8AIAAhACIAIwAkACUAJgAnACgAKQAqACsALAAtAC4ALwAwADEAMgAzADQANQA2ADcAOAA5ADoAOwA8AD0APgA/AEAAQQBCAEMARABFAEYARwBIAEkASgBLAEwATQBOAE8AUABRAFIAUwBUAFUAVgBXAFgAWQBaAFsAXABdAF4AXwBgAGEAYgBjAGQAZQBmAGcAaABpAGoAawBsAG0AbgBvAHAAcQByAHMAdAB1AHYAdwB4AHkAegB7AHwAfQB+AH8AgACBAIIAgwCEAIUAhgCHAIgAiQCKAIsAjACNAI4AjwCQAJEAkgCTAJQAlQCWAJcAmACZAJoAmwCcAJ0AngCfAKAAoQCiAKMApAClAKYApwCoAKkAqgCrAKwArQCuAK8AsACxALIAswC0ALUAtgC3ALgAuQC6ALsAvAC9AL4AvwDAAMEAwgDDAMQAxQDGAMcAyADJAMoAywDMAM0AzgDPANAA0QDSANMA1ADVANYA1wDYANkA2gDbANwA3QDeAN8A4ADhAOIA4wDkAOUA5gDnAOgA6QDqAOsA7ADtAO4A7wDwAPEA8gDzAPQA9QD2APcA+AD5APoA+wD8AP0A/gD/AAABAQECAQMBBAEFAQYBBwEIAQkBCgELAQwBDQEOAQ8BEAERARIBEwEUARUBFgEXARgBGQEaARsBHAEdAR4BHwEgASEBIgEjASQBJQEmAScBKAEpASoBKwEsAS0BLgEvATABMQEyATMBNAE1ATYBNwE4ATkBOgE7ATwBPQE+AT8BQAFBAUIBQwFEAUUBRgFHAUgBSQFKAUsBTAFNAU4BTwFQAVEBUgFTAVQBVQFWAVcBWAFZAVoBWwFcAV0BXgFfAWABYQFiAWMBZAFlAWYBZwFoAWkBagFrAWwBbQFuAW8BcAFxAXIBcwF0AXUBdgF3AXgBeQF6AXsBfAF9AX4BfwGAAYEBggGDAYQBhQGGAYcBiAGJAYoBiwGMAY0BjgGPAZABkQGSAZMBlAGVAZYBlwGYAZkBmgGbAZwBnQGeAZ8BoAGhAaIBowGkAaUBpgGnAagBqQGqAasBrAGtAa4BrwGwAbEBsgGzAbQBtQG2AbcBuAG5AboBuwG8Ab0BvgG/AcABwQHCAcMBxAHFAcYBxwHIAckBygHLAcwBzQHOAc8B0AHRAdIB0wHUAdUB1gHXAdgB2QHaAdsB3AHdAd4B3wHgAeEB4gHjAeQB5QHmAecB6AHpAeoB6wHsAe0B7gHvAfAB8QHyAfMB9AH1AfYB9wH4AQ==",
          "dtype": "u2"
         },
         "xaxis": "x18",
         "y": {
          "bdata": "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",
          "dtype": "f4"
         },
         "yaxis": "y18"
        },
        {
         "hoverinfo": "skip",
         "legendgroup": "SRP(E,64)",
         "line": {
          "color": "#00CC96"
         },
         "mode": "lines",
         "name": "SRP(E,64)",
         "showlegend": false,
         "type": "scatter",
         "x": {
          "bdata": "IAAhACIAIwAkACUAJgAnACgAKQAqACsALAAtAC4ALwAwADEAMgAzADQANQA2ADcAOAA5ADoAOwA8AD0APgA/AEAAQQBCAEMARABFAEYARwBIAEkASgBLAEwATQBOAE8AUABRAFIAUwBUAFUAVgBXAFgAWQBaAFsAXABdAF4AXwBgAGEAYgBjAGQAZQBmAGcAaABpAGoAawBsAG0AbgBvAHAAcQByAHMAdAB1AHYAdwB4AHkAegB7AHwAfQB+AH8AgACBAIIAgwCEAIUAhgCHAIgAiQCKAIsAjACNAI4AjwCQAJEAkgCTAJQAlQCWAJcAmACZAJoAmwCcAJ0AngCfAKAAoQCiAKMApAClAKYApwCoAKkAqgCrAKwArQCuAK8AsACxALIAswC0ALUAtgC3ALgAuQC6ALsAvAC9AL4AvwDAAMEAwgDDAMQAxQDGAMcAyADJAMoAywDMAM0AzgDPANAA0QDSANMA1ADVANYA1wDYANkA2gDbANwA3QDeAN8A4ADhAOIA4wDkAOUA5gDnAOgA6QDqAOsA7ADtAO4A7wDwAPEA8gDzAPQA9QD2APcA+AD5APoA+wD8AP0A/gD/AAABAQECAQMBBAEFAQYBBwEIAQkBCgELAQwBDQEOAQ8BEAERARIBEwEUARUBFgEXARgBGQEaARsBHAEdAR4BHwEgASEBIgEjASQBJQEmAScBKAEpASoBKwEsAS0BLgEvATABMQEyATMBNAE1ATYBNwE4ATkBOgE7ATwBPQE+AT8BQAFBAUIBQwFEAUUBRgFHAUgBSQFKAUsBTAFNAU4BTwFQAVEBUgFTAVQBVQFWAVcBWAFZAVoBWwFcAV0BXgFfAWABYQFiAWMBZAFlAWYBZwFoAWkBagFrAWwBbQFuAW8BcAFxAXIBcwF0AXUBdgF3AXgBeQF6AXsBfAF9AX4BfwGAAYEBggGDAYQBhQGGAYcBiAGJAYoBiwGMAY0BjgGPAZABkQGSAZMBlAGVAZYBlwGYAZkBmgGbAZwBnQGeAZ8BoAGhAaIBowGkAaUBpgGnAagBqQGqAasBrAGtAa4BrwGwAbEBsgGzAbQBtQG2AbcBuAG5AboBuwG8Ab0BvgG/AcABwQHCAcMBxAHFAcYBxwHIAckBygHLAcwBzQHOAc8B0AHRAdIB0wHUAdUB1gHXAdgB2QHaAdsB3AHdAd4B3wHgAQ==",
          "dtype": "u2"
         },
         "xaxis": "x18",
         "y": {
          "bdata": "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",
          "dtype": "f4"
         },
         "yaxis": "y18"
        },
        {
         "hoverinfo": "skip",
         "legendgroup": "SRP(E,256)",
         "line": {
          "color": "#AB63FA"
         },
         "mode": "lines",
         "name": "SRP(E,256)",
         "showlegend": false,
         "type": "scatter",
         "x": {
          "bdata": "gACBAIIAgwCEAIUAhgCHAIgAiQCKAIsAjACNAI4AjwCQAJEAkgCTAJQAlQCWAJcAmACZAJoAmwCcAJ0AngCfAKAAoQCiAKMApAClAKYApwCoAKkAqgCrAKwArQCuAK8AsACxALIAswC0ALUAtgC3ALgAuQC6ALsAvAC9AL4AvwDAAMEAwgDDAMQAxQDGAMcAyADJAMoAywDMAM0AzgDPANAA0QDSANMA1ADVANYA1wDYANkA2gDbANwA3QDeAN8A4ADhAOIA4wDkAOUA5gDnAOgA6QDqAOsA7ADtAO4A7wDwAPEA8gDzAPQA9QD2APcA+AD5APoA+wD8AP0A/gD/AAABAQECAQMBBAEFAQYBBwEIAQkBCgELAQwBDQEOAQ8BEAERARIBEwEUARUBFgEXARgBGQEaARsBHAEdAR4BHwEgASEBIgEjASQBJQEmAScBKAEpASoBKwEsAS0BLgEvATABMQEyATMBNAE1ATYBNwE4ATkBOgE7ATwBPQE+AT8BQAFBAUIBQwFEAUUBRgFHAUgBSQFKAUsBTAFNAU4BTwFQAVEBUgFTAVQBVQFWAVcBWAFZAVoBWwFcAV0BXgFfAWABYQFiAWMBZAFlAWYBZwFoAWkBagFrAWwBbQFuAW8BcAFxAXIBcwF0AXUBdgF3AXgBeQF6AXsBfAF9AX4BfwGAAQ==",
          "dtype": "u2"
         },
         "xaxis": "x18",
         "y": {
          "bdata": "KdVCPiAMQz7aBkM+mfxCPuLwQj6i5EI+ItZCPsbHQj6TuUI+oapCPoCbQj7EjEI+6n5CPq9wQj5QYkI+bVNCPndEQj4NNkI+midCPisZQj7DCkI+Mf5BPr/wQT7L40E+IthBPljNQT4PwUE+nLRBPhSpQT7ZnUE+uZJBPv6HQT6FfUE+mHNBPl9pQT6nX0E+1lZBPhVOQT7ZRUE+1z1BPtc2QT7eLkE+XiZBPkceQT5EFkE+lA5BPhgGQT4R/kA+7PVAPlfsQD4O40A+qNpAPmbSQD4mykA+RcFAPqS3QD4Hr0A+0KZAPoafQD7pl0A+o49APi2IQD6TgEA+qXdAPlJvQD6ZZkA+ul5APgdYQD7nT0A+o0dAPiRBQD6bOkA+pzRAPqQuQD6dJ0A+7SBAPisbQD5JFEA+dQ5APu0IQD4lA0A+F/0/Phz4Pz7u8j8+7+0/Pn/oPz594z8+HN4/PuDXPz450j8+6Mw/PgLIPz6+wj8+d74/PtS4Pz40sz8+kq0/PhmpPz7JpD8+tqA/PlebPz4Klj8+xJE/PtSNPz5ViT8+wYQ/Psp/Pz43fD8+l3g/PvR0Pz6UcD8+J20/PtloPz4PZD8+m2A/PvNbPz6EVz8+RVM/PkpPPz5YSj8+uEU/PshAPz5wPD8+vjg/Puk0Pz4RMT8+SS0/PnAqPz6AJz8+/SM/PpYgPz67HD8+5hk/PvgWPz5gEz8+Vw8/PuULPz4oCT8+UQY/Pm4DPz4cAD8+X/w+Psn5Pj799j4+s/Q+PpvxPj4k7z4+bew+PmHpPj5K5z4+1eQ+PsTiPj7J3z4+yN0+PhbbPj5X2D4+TNU+PvrSPj5o0T4+fs8+PqfMPj6qyD4+38U+PvfDPj75wT4+YcA+PmO9Pj7nuz4+9Lg+Phe3Pj4FtT4+ybE+PvauPj5Wqz4+/ac+PoWlPj5Hoj4++p8+Pn+dPj6Qmj4+upc+Pm2UPj4ykj4+3Y8+Ps2MPj6Rij4+CYg+PtqFPj5DhD4+moE+PuN+Pj5nez4+ang+Pm52Pj5IdD4+n3I+PgdxPj6Sbz4+720+PoxrPj7AaD4+12U+PvRiPj4CYT4+bV8+PvxdPj4EXD4+SFk+Pi1YPj7fVj4+rFQ+PuRSPj5sUT4+gE8+PjdNPj4vSz4+gEk+PtJGPj5XRD4+YUI+PuE/Pj4/PT4+Azs+PgE5Pj5KNj4+wzQ+PqQzPj7DMT4+VDA+PvAuPj6kLT4+vSw+PqEqPj4nKT4+1Cc+PjsnPj6iJj4+OSY+Pq8lPj7BJD4+PyI+PiAgPj7AHj4+9Bw+PsgbPj4tGj4+Ahk+PksXPj77FT4+zhQ+PiYTPj7aED4+oA8+PpsNPj4nCz4+Ego+Pl0IPj4=",
          "dtype": "f4"
         },
         "yaxis": "y18"
        },
        {
         "hoverinfo": "skip",
         "legendgroup": "SRP(E,4)",
         "line": {
          "color": "#636EFA"
         },
         "mode": "lines",
         "name": "SRP(E,4)",
         "showlegend": false,
         "type": "scatter",
         "x": {
          "bdata": "AgADAAQABQAGAAcACAAJAAoACwAMAA0ADgAPABAAEQASABMAFAAVABYAFwAYABkAGgAbABwAHQAeAB8AIAAhACIAIwAkACUAJgAnACgAKQAqACsALAAtAC4ALwAwADEAMgAzADQANQA2ADcAOAA5ADoAOwA8AD0APgA/AEAAQQBCAEMARABFAEYARwBIAEkASgBLAEwATQBOAE8AUABRAFIAUwBUAFUAVgBXAFgAWQBaAFsAXABdAF4AXwBgAGEAYgBjAGQAZQBmAGcAaABpAGoAawBsAG0AbgBvAHAAcQByAHMAdAB1AHYAdwB4AHkAegB7AHwAfQB+AH8AgACBAIIAgwCEAIUAhgCHAIgAiQCKAIsAjACNAI4AjwCQAJEAkgCTAJQAlQCWAJcAmACZAJoAmwCcAJ0AngCfAKAAoQCiAKMApAClAKYApwCoAKkAqgCrAKwArQCuAK8AsACxALIAswC0ALUAtgC3ALgAuQC6ALsAvAC9AL4AvwDAAMEAwgDDAMQAxQDGAMcAyADJAMoAywDMAM0AzgDPANAA0QDSANMA1ADVANYA1wDYANkA2gDbANwA3QDeAN8A4ADhAOIA4wDkAOUA5gDnAOgA6QDqAOsA7ADtAO4A7wDwAPEA8gDzAPQA9QD2APcA+AD5APoA+wD8AP0A/gD/AAABAQECAQMBBAEFAQYBBwEIAQkBCgELAQwBDQEOAQ8BEAERARIBEwEUARUBFgEXARgBGQEaARsBHAEdAR4BHwEgASEBIgEjASQBJQEmAScBKAEpASoBKwEsAS0BLgEvATABMQEyATMBNAE1ATYBNwE4ATkBOgE7ATwBPQE+AT8BQAFBAUIBQwFEAUUBRgFHAUgBSQFKAUsBTAFNAU4BTwFQAVEBUgFTAVQBVQFWAVcBWAFZAVoBWwFcAV0BXgFfAWABYQFiAWMBZAFlAWYBZwFoAWkBagFrAWwBbQFuAW8BcAFxAXIBcwF0AXUBdgF3AXgBeQF6AXsBfAF9AX4BfwGAAYEBggGDAYQBhQGGAYcBiAGJAYoBiwGMAY0BjgGPAZABkQGSAZMBlAGVAZYBlwGYAZkBmgGbAZwBnQGeAZ8BoAGhAaIBowGkAaUBpgGnAagBqQGqAasBrAGtAa4BrwGwAbEBsgGzAbQBtQG2AbcBuAG5AboBuwG8Ab0BvgG/AcABwQHCAcMBxAHFAcYBxwHIAckBygHLAcwBzQHOAc8B0AHRAdIB0wHUAdUB1gHXAdgB2QHaAdsB3AHdAd4B3wHgAeEB4gHjAeQB5QHmAecB6AHpAeoB6wHsAe0B7gHvAfAB8QHyAfMB9AH1AfYB9wH4AfkB+gH7AfwB/QH+AQ==",
          "dtype": "u2"
         },
         "xaxis": "x19",
         "y": {
          "bdata": "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",
          "dtype": "f4"
         },
         "yaxis": "y19"
        },
        {
         "hoverinfo": "skip",
         "legendgroup": "SRP(E,16)",
         "line": {
          "color": "#EF553B"
         },
         "mode": "lines",
         "name": "SRP(E,16)",
         "showlegend": false,
         "type": "scatter",
         "x": {
          "bdata": "CAAJAAoACwAMAA0ADgAPABAAEQASABMAFAAVABYAFwAYABkAGgAbABwAHQAeAB8AIAAhACIAIwAkACUAJgAnACgAKQAqACsALAAtAC4ALwAwADEAMgAzADQANQA2ADcAOAA5ADoAOwA8AD0APgA/AEAAQQBCAEMARABFAEYARwBIAEkASgBLAEwATQBOAE8AUABRAFIAUwBUAFUAVgBXAFgAWQBaAFsAXABdAF4AXwBgAGEAYgBjAGQAZQBmAGcAaABpAGoAawBsAG0AbgBvAHAAcQByAHMAdAB1AHYAdwB4AHkAegB7AHwAfQB+AH8AgACBAIIAgwCEAIUAhgCHAIgAiQCKAIsAjACNAI4AjwCQAJEAkgCTAJQAlQCWAJcAmACZAJoAmwCcAJ0AngCfAKAAoQCiAKMApAClAKYApwCoAKkAqgCrAKwArQCuAK8AsACxALIAswC0ALUAtgC3ALgAuQC6ALsAvAC9AL4AvwDAAMEAwgDDAMQAxQDGAMcAyADJAMoAywDMAM0AzgDPANAA0QDSANMA1ADVANYA1wDYANkA2gDbANwA3QDeAN8A4ADhAOIA4wDkAOUA5gDnAOgA6QDqAOsA7ADtAO4A7wDwAPEA8gDzAPQA9QD2APcA+AD5APoA+wD8AP0A/gD/AAABAQECAQMBBAEFAQYBBwEIAQkBCgELAQwBDQEOAQ8BEAERARIBEwEUARUBFgEXARgBGQEaARsBHAEdAR4BHwEgASEBIgEjASQBJQEmAScBKAEpASoBKwEsAS0BLgEvATABMQEyATMBNAE1ATYBNwE4ATkBOgE7ATwBPQE+AT8BQAFBAUIBQwFEAUUBRgFHAUgBSQFKAUsBTAFNAU4BTwFQAVEBUgFTAVQBVQFWAVcBWAFZAVoBWwFcAV0BXgFfAWABYQFiAWMBZAFlAWYBZwFoAWkBagFrAWwBbQFuAW8BcAFxAXIBcwF0AXUBdgF3AXgBeQF6AXsBfAF9AX4BfwGAAYEBggGDAYQBhQGGAYcBiAGJAYoBiwGMAY0BjgGPAZABkQGSAZMBlAGVAZYBlwGYAZkBmgGbAZwBnQGeAZ8BoAGhAaIBowGkAaUBpgGnAagBqQGqAasBrAGtAa4BrwGwAbEBsgGzAbQBtQG2AbcBuAG5AboBuwG8Ab0BvgG/AcABwQHCAcMBxAHFAcYBxwHIAckBygHLAcwBzQHOAc8B0AHRAdIB0wHUAdUB1gHXAdgB2QHaAdsB3AHdAd4B3wHgAeEB4gHjAeQB5QHmAecB6AHpAeoB6wHsAe0B7gHvAfAB8QHyAfMB9AH1AfYB9wH4AQ==",
          "dtype": "u2"
         },
         "xaxis": "x19",
         "y": {
          "bdata": "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",
          "dtype": "f4"
         },
         "yaxis": "y19"
        },
        {
         "hoverinfo": "skip",
         "legendgroup": "SRP(E,64)",
         "line": {
          "color": "#00CC96"
         },
         "mode": "lines",
         "name": "SRP(E,64)",
         "showlegend": false,
         "type": "scatter",
         "x": {
          "bdata": "IAAhACIAIwAkACUAJgAnACgAKQAqACsALAAtAC4ALwAwADEAMgAzADQANQA2ADcAOAA5ADoAOwA8AD0APgA/AEAAQQBCAEMARABFAEYARwBIAEkASgBLAEwATQBOAE8AUABRAFIAUwBUAFUAVgBXAFgAWQBaAFsAXABdAF4AXwBgAGEAYgBjAGQAZQBmAGcAaABpAGoAawBsAG0AbgBvAHAAcQByAHMAdAB1AHYAdwB4AHkAegB7AHwAfQB+AH8AgACBAIIAgwCEAIUAhgCHAIgAiQCKAIsAjACNAI4AjwCQAJEAkgCTAJQAlQCWAJcAmACZAJoAmwCcAJ0AngCfAKAAoQCiAKMApAClAKYApwCoAKkAqgCrAKwArQCuAK8AsACxALIAswC0ALUAtgC3ALgAuQC6ALsAvAC9AL4AvwDAAMEAwgDDAMQAxQDGAMcAyADJAMoAywDMAM0AzgDPANAA0QDSANMA1ADVANYA1wDYANkA2gDbANwA3QDeAN8A4ADhAOIA4wDkAOUA5gDnAOgA6QDqAOsA7ADtAO4A7wDwAPEA8gDzAPQA9QD2APcA+AD5APoA+wD8AP0A/gD/AAABAQECAQMBBAEFAQYBBwEIAQkBCgELAQwBDQEOAQ8BEAERARIBEwEUARUBFgEXARgBGQEaARsBHAEdAR4BHwEgASEBIgEjASQBJQEmAScBKAEpASoBKwEsAS0BLgEvATABMQEyATMBNAE1ATYBNwE4ATkBOgE7ATwBPQE+AT8BQAFBAUIBQwFEAUUBRgFHAUgBSQFKAUsBTAFNAU4BTwFQAVEBUgFTAVQBVQFWAVcBWAFZAVoBWwFcAV0BXgFfAWABYQFiAWMBZAFlAWYBZwFoAWkBagFrAWwBbQFuAW8BcAFxAXIBcwF0AXUBdgF3AXgBeQF6AXsBfAF9AX4BfwGAAYEBggGDAYQBhQGGAYcBiAGJAYoBiwGMAY0BjgGPAZABkQGSAZMBlAGVAZYBlwGYAZkBmgGbAZwBnQGeAZ8BoAGhAaIBowGkAaUBpgGnAagBqQGqAasBrAGtAa4BrwGwAbEBsgGzAbQBtQG2AbcBuAG5AboBuwG8Ab0BvgG/AcABwQHCAcMBxAHFAcYBxwHIAckBygHLAcwBzQHOAc8B0AHRAdIB0wHUAdUB1gHXAdgB2QHaAdsB3AHdAd4B3wHgAQ==",
          "dtype": "u2"
         },
         "xaxis": "x19",
         "y": {
          "bdata": "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",
          "dtype": "f4"
         },
         "yaxis": "y19"
        },
        {
         "hoverinfo": "skip",
         "legendgroup": "SRP(E,256)",
         "line": {
          "color": "#AB63FA"
         },
         "mode": "lines",
         "name": "SRP(E,256)",
         "showlegend": false,
         "type": "scatter",
         "x": {
          "bdata": "gACBAIIAgwCEAIUAhgCHAIgAiQCKAIsAjACNAI4AjwCQAJEAkgCTAJQAlQCWAJcAmACZAJoAmwCcAJ0AngCfAKAAoQCiAKMApAClAKYApwCoAKkAqgCrAKwArQCuAK8AsACxALIAswC0ALUAtgC3ALgAuQC6ALsAvAC9AL4AvwDAAMEAwgDDAMQAxQDGAMcAyADJAMoAywDMAM0AzgDPANAA0QDSANMA1ADVANYA1wDYANkA2gDbANwA3QDeAN8A4ADhAOIA4wDkAOUA5gDnAOgA6QDqAOsA7ADtAO4A7wDwAPEA8gDzAPQA9QD2APcA+AD5APoA+wD8AP0A/gD/AAABAQECAQMBBAEFAQYBBwEIAQkBCgELAQwBDQEOAQ8BEAERARIBEwEUARUBFgEXARgBGQEaARsBHAEdAR4BHwEgASEBIgEjASQBJQEmAScBKAEpASoBKwEsAS0BLgEvATABMQEyATMBNAE1ATYBNwE4ATkBOgE7ATwBPQE+AT8BQAFBAUIBQwFEAUUBRgFHAUgBSQFKAUsBTAFNAU4BTwFQAVEBUgFTAVQBVQFWAVcBWAFZAVoBWwFcAV0BXgFfAWABYQFiAWMBZAFlAWYBZwFoAWkBagFrAWwBbQFuAW8BcAFxAXIBcwF0AXUBdgF3AXgBeQF6AXsBfAF9AX4BfwGAAQ==",
          "dtype": "u2"
         },
         "xaxis": "x19",
         "y": {
          "bdata": "7XJKPidiSj4jTUo+eTlKPvohSj5lCko+qO9JPnDSST6gs0k+/ZJJPoVyST60UEk+Vi9JPosNST5y6Ug+FsZIPvqgSD4WfUg+qFlIPvw0SD78Ekg+ePFHPtPQRz5askc+lZNHPl50Rz64VUc+4DZHPvYYRz5k+0Y+0txGPvvARj4rpEY+4YlGPgVvRj6WVEY+EzxGPmAhRj78BkY+BO5FPqnURT6Uu0U+lKRFPmqLRT4Sc0U+3VtFPkxERT6aLEU+bBZFPvP+RD6x50Q+VtFEPny7RD4dp0Q+QJFEPtF8RD7nZkQ+0FFEPgw8RD71KUQ+3xZEPrwCRD6A7UM+c9lDPn7FQz7kskM+M55DPpaLQz7NeEM+72VDPuVRQz4dP0M+hSxDPjgaQz5rCUM+6/dCPt/mQj6k1UI+xcJCPrqxQj7uokI+Y5JCPuKBQj7mb0I+FWBCPtROQj45PEI+9ytCPgQbQj69CkI+8/hBPmvoQT4a2EE+/sZBPrm1QT4UpUE+hpNBPiyDQT7TdEE+h2VBPhBXQT43R0E+qjZBPnIlQT55FkE+JQZBPkT0QD4A5EA+ltRAPjvFQD6VtEA+v6VAPiWYQD7tiEA+jHlAPgVrQD7QW0A+6EtAPjw9QD4wMEA+XiJAPiQTQD5yBEA+bfY/Pu3oPz7H3D8+Hc8/Pt/BPz4GtD8+yKY/PuSYPz4cjD8+2X0/PjNwPz6sYj8+81Q/PodKPz5EPT8+KzE/PtIjPz7yGD8+ag0/PmcBPz7c9D4+Iuk+PobePj7h0T4+ScY+Pgm8Pj4UsT4+CqY+PtuaPj5Cjz4+BoI+Plp2Pj6Eaj4+9V0+PjJRPj78RD4+Jjk+PoIsPj7fHz4++BM+PtgHPj7e/D0+vPE9PlznPT763D0+C9M9Pg7IPT7hvT0+7bQ9PqyqPT55nz0+EZU9PoqKPT6EgD0+wnY9PiBsPT4WYz0+jlg9PuRNPT5LRD0+6zk9PrExPT6qJz0+6h49PlgWPT52DT0+kAU9PkX8PD7P8zw+Mes8PqzhPD4Q2Tw+N888Po3GPD6ivjw+y7M8PgKrPD6xojw+1pg8PqqOPD6LhTw+KH08Ps1zPD7Eajw+RWI8PpNYPD6zTjw+uUU8PpQ7PD6+Mzw+/io8PqEjPD4iGzw+fhI8PlsKPD7nADw+V/c7PtruOz5h6Ds+/+A7PpjZOz5A0Ts+0cc7Pii/Oz7Htjs+D687PlGpOz6LoTs+E5s7Pt2SOz43iTs+O4A7Pqx4Oz59cDs+amk7PvliOz50Wjs+3VA7Pr5KOz6fRTs+EUE7Pn46Oz4ZNTs+ki47PqQmOz4cHTs+MxU7Pg4OOz5cBzs+Yf86Pir5Oj7X8To+q+s6PtLjOj4=",
          "dtype": "f4"
         },
         "yaxis": "y19"
        },
        {
         "hoverinfo": "skip",
         "legendgroup": "SRP(E,4)",
         "line": {
          "color": "#636EFA",
          "dash": "dot"
         },
         "mode": "lines",
         "name": "SRP(E,4)",
         "opacity": 0.5,
         "showlegend": false,
         "type": "scatter",
         "x": {
          "bdata": "AgADAAQABQAGAAcACAAJAAoACwAMAA0ADgAPABAAEQASABMAFAAVABYAFwAYABkAGgAbABwAHQAeAB8AIAAhACIAIwAkACUAJgAnACgAKQAqACsALAAtAC4ALwAwADEAMgAzADQANQA2ADcAOAA5ADoAOwA8AD0APgA/AEAAQQBCAEMARABFAEYARwBIAEkASgBLAEwATQBOAE8AUABRAFIAUwBUAFUAVgBXAFgAWQBaAFsAXABdAF4AXwBgAGEAYgBjAGQAZQBmAGcAaABpAGoAawBsAG0AbgBvAHAAcQByAHMAdAB1AHYAdwB4AHkAegB7AHwAfQB+AH8AgACBAIIAgwCEAIUAhgCHAIgAiQCKAIsAjACNAI4AjwCQAJEAkgCTAJQAlQCWAJcAmACZAJoAmwCcAJ0AngCfAKAAoQCiAKMApAClAKYApwCoAKkAqgCrAKwArQCuAK8AsACxALIAswC0ALUAtgC3ALgAuQC6ALsAvAC9AL4AvwDAAMEAwgDDAMQAxQDGAMcAyADJAMoAywDMAM0AzgDPANAA0QDSANMA1ADVANYA1wDYANkA2gDbANwA3QDeAN8A4ADhAOIA4wDkAOUA5gDnAOgA6QDqAOsA7ADtAO4A7wDwAPEA8gDzAPQA9QD2APcA+AD5APoA+wD8AP0A/gD/AAABAQECAQMBBAEFAQYBBwEIAQkBCgELAQwBDQEOAQ8BEAERARIBEwEUARUBFgEXARgBGQEaARsBHAEdAR4BHwEgASEBIgEjASQBJQEmAScBKAEpASoBKwEsAS0BLgEvATABMQEyATMBNAE1ATYBNwE4ATkBOgE7ATwBPQE+AT8BQAFBAUIBQwFEAUUBRgFHAUgBSQFKAUsBTAFNAU4BTwFQAVEBUgFTAVQBVQFWAVcBWAFZAVoBWwFcAV0BXgFfAWABYQFiAWMBZAFlAWYBZwFoAWkBagFrAWwBbQFuAW8BcAFxAXIBcwF0AXUBdgF3AXgBeQF6AXsBfAF9AX4BfwGAAYEBggGDAYQBhQGGAYcBiAGJAYoBiwGMAY0BjgGPAZABkQGSAZMBlAGVAZYBlwGYAZkBmgGbAZwBnQGeAZ8BoAGhAaIBowGkAaUBpgGnAagBqQGqAasBrAGtAa4BrwGwAbEBsgGzAbQBtQG2AbcBuAG5AboBuwG8Ab0BvgG/AcABwQHCAcMBxAHFAcYBxwHIAckBygHLAcwBzQHOAc8B0AHRAdIB0wHUAdUB1gHXAdgB2QHaAdsB3AHdAd4B3wHgAeEB4gHjAeQB5QHmAecB6AHpAeoB6wHsAe0B7gHvAfAB8QHyAfMB9AH1AfYB9wH4AfkB+gH7AfwB/QH+AQ==",
          "dtype": "u2"
         },
         "xaxis": "x20",
         "y": {
          "bdata": "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",
          "dtype": "f4"
         },
         "yaxis": "y20"
        },
        {
         "hoverinfo": "skip",
         "legendgroup": "SRP(E,4)",
         "line": {
          "color": "#636EFA",
          "dash": "solid"
         },
         "mode": "lines",
         "name": "SRP(E,4)",
         "opacity": 1,
         "showlegend": false,
         "type": "scatter",
         "x": {
          "bdata": "AgADAAQABQAGAAcACAAJAAoACwAMAA0ADgAPABAAEQASABMAFAAVABYAFwAYABkAGgAbABwAHQAeAB8AIAAhACIAIwAkACUAJgAnACgAKQAqACsALAAtAC4ALwAwADEAMgAzADQANQA2ADcAOAA5ADoAOwA8AD0APgA/AA==",
          "dtype": "u2"
         },
         "xaxis": "x20",
         "y": {
          "bdata": "Wx7RPsVo1D4GHNQ+qT7UPoUd1D4/T9Q+Vv3TPtRM1D7z8tM+owrUPnjs0z5VONQ+3fLTPtYu1D5I2tM+QyTUPqbn0z7/QNQ+gvvTPqwr1D5K8NM+LC3UPqbo0z7wHNQ+W93TPj841D556tM+FETUPm750z6uI9Q+gOLTPgAy1D6179M+ljDUPvD10z5qM9Q+2PrTPtYw1D6H9NM+lErUPi8f1D7batQ+mCTUPoRm1D5aH9Q+cGrUPn9E1D4MmdQ+bWHUPiSd1D4GbNQ+AabUPg9+1D7qo9Q+MWvTPpwa1D4+dus+sTLsPlai7D7nUuw+TIjrPgMN6z4=",
          "dtype": "f4"
         },
         "yaxis": "y20"
        },
        {
         "hoverinfo": "skip",
         "legendgroup": "SRP(E,16)",
         "line": {
          "color": "#EF553B",
          "dash": "dot"
         },
         "mode": "lines",
         "name": "SRP(E,16)",
         "opacity": 0.5,
         "showlegend": false,
         "type": "scatter",
         "x": {
          "bdata": "CAAJAAoACwAMAA0ADgAPABAAEQASABMAFAAVABYAFwAYABkAGgAbABwAHQAeAB8AIAAhACIAIwAkACUAJgAnACgAKQAqACsALAAtAC4ALwAwADEAMgAzADQANQA2ADcAOAA5ADoAOwA8AD0APgA/AEAAQQBCAEMARABFAEYARwBIAEkASgBLAEwATQBOAE8AUABRAFIAUwBUAFUAVgBXAFgAWQBaAFsAXABdAF4AXwBgAGEAYgBjAGQAZQBmAGcAaABpAGoAawBsAG0AbgBvAHAAcQByAHMAdAB1AHYAdwB4AHkAegB7AHwAfQB+AH8AgACBAIIAgwCEAIUAhgCHAIgAiQCKAIsAjACNAI4AjwCQAJEAkgCTAJQAlQCWAJcAmACZAJoAmwCcAJ0AngCfAKAAoQCiAKMApAClAKYApwCoAKkAqgCrAKwArQCuAK8AsACxALIAswC0ALUAtgC3ALgAuQC6ALsAvAC9AL4AvwDAAMEAwgDDAMQAxQDGAMcAyADJAMoAywDMAM0AzgDPANAA0QDSANMA1ADVANYA1wDYANkA2gDbANwA3QDeAN8A4ADhAOIA4wDkAOUA5gDnAOgA6QDqAOsA7ADtAO4A7wDwAPEA8gDzAPQA9QD2APcA+AD5APoA+wD8AP0A/gD/AAABAQECAQMBBAEFAQYBBwEIAQkBCgELAQwBDQEOAQ8BEAERARIBEwEUARUBFgEXARgBGQEaARsBHAEdAR4BHwEgASEBIgEjASQBJQEmAScBKAEpASoBKwEsAS0BLgEvATABMQEyATMBNAE1ATYBNwE4ATkBOgE7ATwBPQE+AT8BQAFBAUIBQwFEAUUBRgFHAUgBSQFKAUsBTAFNAU4BTwFQAVEBUgFTAVQBVQFWAVcBWAFZAVoBWwFcAV0BXgFfAWABYQFiAWMBZAFlAWYBZwFoAWkBagFrAWwBbQFuAW8BcAFxAXIBcwF0AXUBdgF3AXgBeQF6AXsBfAF9AX4BfwGAAYEBggGDAYQBhQGGAYcBiAGJAYoBiwGMAY0BjgGPAZABkQGSAZMBlAGVAZYBlwGYAZkBmgGbAZwBnQGeAZ8BoAGhAaIBowGkAaUBpgGnAagBqQGqAasBrAGtAa4BrwGwAbEBsgGzAbQBtQG2AbcBuAG5AboBuwG8Ab0BvgG/AcABwQHCAcMBxAHFAcYBxwHIAckBygHLAcwBzQHOAc8B0AHRAdIB0wHUAdUB1gHXAdgB2QHaAdsB3AHdAd4B3wHgAeEB4gHjAeQB5QHmAecB6AHpAeoB6wHsAe0B7gHvAfAB8QHyAfMB9AH1AfYB9wH4AQ==",
          "dtype": "u2"
         },
         "xaxis": "x20",
         "y": {
          "bdata": "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",
          "dtype": "f4"
         },
         "yaxis": "y20"
        },
        {
         "hoverinfo": "skip",
         "legendgroup": "SRP(E,16)",
         "line": {
          "color": "#EF553B",
          "dash": "solid"
         },
         "mode": "lines",
         "name": "SRP(E,16)",
         "opacity": 1,
         "showlegend": false,
         "type": "scatter",
         "x": {
          "bdata": "CAAJAAoACwAMAA0ADgAPABAAEQASABMAFAAVABYAFwAYABkAGgAbABwAHQAeAB8AIAAhACIAIwAkACUAJgAnACgAKQAqACsALAAtAC4ALwAwADEAMgAzADQANQA2ADcAOAA5AA==",
          "dtype": "u2"
         },
         "xaxis": "x20",
         "y": {
          "bdata": "sbo7PqRiQj5OPEI+OjdCPlH8QT6EKEI+5/JBPmftQT7ds0E+/eFBPuvEQT5m4UE+bMZBPvoHQj64x0E+ePtBPpXXQT6rBEI+eudBPmIMQj7nBkI+KxhCPrXKQT7U6kE+RsJBPpTvQT6Dv0E+5fpBPjzsQT48T0I+pjpCPtl+Qj6MbEI+4s1CPoPXQj6/PkM+6jBDPgCdQz7KqUM+gSFEPsQ4RD4QtkQ+1QdCPjtaQj6xX0k+V+xJPnlGWD6V7Fg+tphqPpcwaz4=",
          "dtype": "f4"
         },
         "yaxis": "y20"
        },
        {
         "hoverinfo": "skip",
         "legendgroup": "SRP(E,64)",
         "line": {
          "color": "#00CC96",
          "dash": "dot"
         },
         "mode": "lines",
         "name": "SRP(E,64)",
         "opacity": 0.5,
         "showlegend": false,
         "type": "scatter",
         "x": {
          "bdata": "IAAhACIAIwAkACUAJgAnACgAKQAqACsALAAtAC4ALwAwADEAMgAzADQANQA2ADcAOAA5ADoAOwA8AD0APgA/AEAAQQBCAEMARABFAEYARwBIAEkASgBLAEwATQBOAE8AUABRAFIAUwBUAFUAVgBXAFgAWQBaAFsAXABdAF4AXwBgAGEAYgBjAGQAZQBmAGcAaABpAGoAawBsAG0AbgBvAHAAcQByAHMAdAB1AHYAdwB4AHkAegB7AHwAfQB+AH8AgACBAIIAgwCEAIUAhgCHAIgAiQCKAIsAjACNAI4AjwCQAJEAkgCTAJQAlQCWAJcAmACZAJoAmwCcAJ0AngCfAKAAoQCiAKMApAClAKYApwCoAKkAqgCrAKwArQCuAK8AsACxALIAswC0ALUAtgC3ALgAuQC6ALsAvAC9AL4AvwDAAMEAwgDDAMQAxQDGAMcAyADJAMoAywDMAM0AzgDPANAA0QDSANMA1ADVANYA1wDYANkA2gDbANwA3QDeAN8A4ADhAOIA4wDkAOUA5gDnAOgA6QDqAOsA7ADtAO4A7wDwAPEA8gDzAPQA9QD2APcA+AD5APoA+wD8AP0A/gD/AAABAQECAQMBBAEFAQYBBwEIAQkBCgELAQwBDQEOAQ8BEAERARIBEwEUARUBFgEXARgBGQEaARsBHAEdAR4BHwEgASEBIgEjASQBJQEmAScBKAEpASoBKwEsAS0BLgEvATABMQEyATMBNAE1ATYBNwE4ATkBOgE7ATwBPQE+AT8BQAFBAUIBQwFEAUUBRgFHAUgBSQFKAUsBTAFNAU4BTwFQAVEBUgFTAVQBVQFWAVcBWAFZAVoBWwFcAV0BXgFfAWABYQFiAWMBZAFlAWYBZwFoAWkBagFrAWwBbQFuAW8BcAFxAXIBcwF0AXUBdgF3AXgBeQF6AXsBfAF9AX4BfwGAAYEBggGDAYQBhQGGAYcBiAGJAYoBiwGMAY0BjgGPAZABkQGSAZMBlAGVAZYBlwGYAZkBmgGbAZwBnQGeAZ8BoAGhAaIBowGkAaUBpgGnAagBqQGqAasBrAGtAa4BrwGwAbEBsgGzAbQBtQG2AbcBuAG5AboBuwG8Ab0BvgG/AcABwQHCAcMBxAHFAcYBxwHIAckBygHLAcwBzQHOAc8B0AHRAdIB0wHUAdUB1gHXAdgB2QHaAdsB3AHdAd4B3wHgAQ==",
          "dtype": "u2"
         },
         "xaxis": "x20",
         "y": {
          "bdata": "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",
          "dtype": "f4"
         },
         "yaxis": "y20"
        },
        {
         "hoverinfo": "skip",
         "legendgroup": "SRP(E,64)",
         "line": {
          "color": "#00CC96",
          "dash": "solid"
         },
         "mode": "lines",
         "name": "SRP(E,64)",
         "opacity": 1,
         "showlegend": false,
         "type": "scatter",
         "x": {
          "bdata": "IAAhAA==",
          "dtype": "u2"
         },
         "xaxis": "x20",
         "y": {
          "bdata": "O/DvPXpb8j0=",
          "dtype": "f4"
         },
         "yaxis": "y20"
        },
        {
         "hoverinfo": "skip",
         "legendgroup": "SRP(E,256)",
         "line": {
          "color": "#AB63FA",
          "dash": "dot"
         },
         "mode": "lines",
         "name": "SRP(E,256)",
         "opacity": 0.5,
         "showlegend": false,
         "type": "scatter",
         "x": {
          "bdata": "gACBAIIAgwCEAIUAhgCHAIgAiQCKAIsAjACNAI4AjwCQAJEAkgCTAJQAlQCWAJcAmACZAJoAmwCcAJ0AngCfAKAAoQCiAKMApAClAKYApwCoAKkAqgCrAKwArQCuAK8AsACxALIAswC0ALUAtgC3ALgAuQC6ALsAvAC9AL4AvwDAAMEAwgDDAMQAxQDGAMcAyADJAMoAywDMAM0AzgDPANAA0QDSANMA1ADVANYA1wDYANkA2gDbANwA3QDeAN8A4ADhAOIA4wDkAOUA5gDnAOgA6QDqAOsA7ADtAO4A7wDwAPEA8gDzAPQA9QD2APcA+AD5APoA+wD8AP0A/gD/AAABAQECAQMBBAEFAQYBBwEIAQkBCgELAQwBDQEOAQ8BEAERARIBEwEUARUBFgEXARgBGQEaARsBHAEdAR4BHwEgASEBIgEjASQBJQEmAScBKAEpASoBKwEsAS0BLgEvATABMQEyATMBNAE1ATYBNwE4ATkBOgE7ATwBPQE+AT8BQAFBAUIBQwFEAUUBRgFHAUgBSQFKAUsBTAFNAU4BTwFQAVEBUgFTAVQBVQFWAVcBWAFZAVoBWwFcAV0BXgFfAWABYQFiAWMBZAFlAWYBZwFoAWkBagFrAWwBbQFuAW8BcAFxAXIBcwF0AXUBdgF3AXgBeQF6AXsBfAF9AX4BfwGAAQ==",
          "dtype": "u2"
         },
         "xaxis": "x20",
         "y": {
          "bdata": "fx/QPSMD0D2l6889nNPPPcK+zz0Qq8896ZnPPWKIzz0Adc899HLPPbtqzz1kVs89lEDPPWktzz2xHM89YQ7PPfv4zj0G58491NTOParDzj13s849WqXOPReXzj3MjM49foXOPVKEzj3ff849pHfOPTJtzj21YM49j1LOPadBzj0pNM49ZB/OPXsPzj1LAs49efXNPe7qzT0e4c099dLNPVTGzT1zxc09OcDNPVG4zT2CsM0986jNPZuczT0Fkc099IbNPaF3zT3ras09XGDNPdtbzT3iVM09k03NPeVLzT3XRc093EXNPSVFzT3jQM09YDrNPdkyzT1TK809KiPNPZgazT19Es09EwrNPRL+zD1c9cw9CevMPdbjzD2o3sw93dXMPQHWzD0r1cw9VdPMPQjRzD0kzsw9OMrMPanFzD2Cwsw9GLvMPTGyzD3orsw9gKvMPb+izD3Ynsw99pXMPSmTzD2sk8w9ZI7MPY+MzD3licw9f4bMPY5+zD0ze8w94XXMPfVtzD3QZ8w9gmTMPSdkzD3DZMw96GLMPd1izD0dYcw9qGHMPVtnzD1JZ8w9o2HMPd5fzD0UXcw9AVrMPaBRzD31S8w91ELMPQFAzD2cOcw9NDTMPWA1zD1XM8w9kDTMPaA0zD0RNsw99DfMPfo0zD0LNMw9zzDMPWorzD27Jcw9ECPMPQ4gzD3CHMw9bxnMPTAYzD2KGcw9IRzMPaoXzD2/F8w99RTMPT4bzD2sHMw9+hnMPc4YzD0TF8w9JRPMPa0RzD0WEMw9zRLMPcAQzD0bFMw9bxXMPbwTzD3tE8w9nBTMPVgWzD2pFsw9YhbMPfQUzD0aF8w9pRTMPdMXzD3sF8w92xjMPdgazD3aGsw9OR/MPR0fzD1DIcw9xSjMPccpzD3kK8w9HzXMPco7zD0SQMw9mkPMPYNHzD2WUMw971bMPVJTzD3EWMw9R1zMPXdgzD0sacw93G7MPThvzD1nbsw9eWfMPeRhzD35Xcw9TWDMPa1azD2JV8w9/FHMPVhMzD08Qsw98DnMPRkvzD1GI8w9axfMPUQIzD1eCsw9UgXMPcgBzD3q8ss9XeDLPfTPyz3awss9ZLXLPVOqyz3Zoss9A5bLPYGHyz2ufcs9R3XLPd9wyz1EaMs9nWXLPYBoyz1iZMs9+VXLPWlIyz0JPcs9DzjLPdUtyz0OKcs9bCXLPbMfyz2iGss9zxPLPb0Nyz0TBcs9EP7KPUkDyz0/E8s95Q/LPUAFyz2r+so9a/bKPRvyyj2568o9iOzKPVntyj3j6co91ejKPVrpyj0V68o9p+jKPYPnyj1y78o9khDLPQMZyz0KD8s9hQTLPZEDyz26A8s95wTLPQwQyz0=",
          "dtype": "f4"
         },
         "yaxis": "y20"
        }
       ],
       "layout": {
        "annotations": [
         {
          "font": {
           "size": 20
          },
          "showarrow": false,
          "text": "LLaMA-MoE-v2",
          "x": 0.04775,
          "xanchor": "center",
          "xref": "paper",
          "y": 1,
          "yanchor": "bottom",
          "yref": "paper"
         },
         {
          "font": {
           "size": 20
          },
          "showarrow": false,
          "text": "Yuan2.0",
          "x": 0.14825,
          "xanchor": "center",
          "xref": "paper",
          "y": 1,
          "yanchor": "bottom",
          "yref": "paper"
         },
         {
          "font": {
           "size": 20
          },
          "showarrow": false,
          "text": "PowerMoE",
          "x": 0.24875,
          "xanchor": "center",
          "xref": "paper",
          "y": 1,
          "yanchor": "bottom",
          "yref": "paper"
         },
         {
          "font": {
           "size": 20
          },
          "showarrow": false,
          "text": "Qwen3",
          "x": 0.34925,
          "xanchor": "center",
          "xref": "paper",
          "y": 1,
          "yanchor": "bottom",
          "yref": "paper"
         },
         {
          "font": {
           "size": 20
          },
          "showarrow": false,
          "text": "Phi-3.5-MoE",
          "x": 0.44975000000000004,
          "xanchor": "center",
          "xref": "paper",
          "y": 1,
          "yanchor": "bottom",
          "yref": "paper"
         },
         {
          "font": {
           "size": 20
          },
          "showarrow": false,
          "text": "OLMoE",
          "x": 0.5502500000000001,
          "xanchor": "center",
          "xref": "paper",
          "y": 1,
          "yanchor": "bottom",
          "yref": "paper"
         },
         {
          "font": {
           "size": 20
          },
          "showarrow": false,
          "text": "GRIN-MoE",
          "x": 0.6507499999999999,
          "xanchor": "center",
          "xref": "paper",
          "y": 1,
          "yanchor": "bottom",
          "yref": "paper"
         },
         {
          "font": {
           "size": 20
          },
          "showarrow": false,
          "text": "Mixtral-8x7B",
          "x": 0.75125,
          "xanchor": "center",
          "xref": "paper",
          "y": 1,
          "yanchor": "bottom",
          "yref": "paper"
         },
         {
          "font": {
           "size": 20
          },
          "showarrow": false,
          "text": "MiniCPM-MoE",
          "x": 0.85175,
          "xanchor": "center",
          "xref": "paper",
          "y": 1,
          "yanchor": "bottom",
          "yref": "paper"
         },
         {
          "font": {
           "size": 20
          },
          "showarrow": false,
          "text": "JetMoE",
          "x": 0.95225,
          "xanchor": "center",
          "xref": "paper",
          "y": 1,
          "yanchor": "bottom",
          "yref": "paper"
         },
         {
          "font": {
           "size": 20
          },
          "showarrow": false,
          "text": "LLaMA-MoE-v1",
          "x": 0.04775,
          "xanchor": "center",
          "xref": "paper",
          "y": 0.445,
          "yanchor": "bottom",
          "yref": "paper"
         },
         {
          "font": {
           "size": 20
          },
          "showarrow": false,
          "text": "XVERSE-MoE",
          "x": 0.14825,
          "xanchor": "center",
          "xref": "paper",
          "y": 0.445,
          "yanchor": "bottom",
          "yref": "paper"
         },
         {
          "font": {
           "size": 20
          },
          "showarrow": false,
          "text": "Jamba-Mini",
          "x": 0.24875,
          "xanchor": "center",
          "xref": "paper",
          "y": 0.445,
          "yanchor": "bottom",
          "yref": "paper"
         },
         {
          "font": {
           "size": 20
          },
          "showarrow": false,
          "text": "DeepSeek-V2-Lite",
          "x": 0.34925,
          "xanchor": "center",
          "xref": "paper",
          "y": 0.445,
          "yanchor": "bottom",
          "yref": "paper"
         },
         {
          "font": {
           "size": 20
          },
          "showarrow": false,
          "text": "DeepSeekMoE",
          "x": 0.44975000000000004,
          "xanchor": "center",
          "xref": "paper",
          "y": 0.445,
          "yanchor": "bottom",
          "yref": "paper"
         },
         {
          "font": {
           "size": 20
          },
          "showarrow": false,
          "text": "Qwen2",
          "x": 0.5502500000000001,
          "xanchor": "center",
          "xref": "paper",
          "y": 0.445,
          "yanchor": "bottom",
          "yref": "paper"
         },
         {
          "font": {
           "size": 20
          },
          "showarrow": false,
          "text": "NLLB-MoE",
          "x": 0.6507499999999999,
          "xanchor": "center",
          "xref": "paper",
          "y": 0.445,
          "yanchor": "bottom",
          "yref": "paper"
         },
         {
          "font": {
           "size": 20
          },
          "showarrow": false,
          "text": "Qwen1.5-MoE",
          "x": 0.75125,
          "xanchor": "center",
          "xref": "paper",
          "y": 0.445,
          "yanchor": "bottom",
          "yref": "paper"
         },
         {
          "font": {
           "size": 20
          },
          "showarrow": false,
          "text": "OpenMoE",
          "x": 0.85175,
          "xanchor": "center",
          "xref": "paper",
          "y": 0.445,
          "yanchor": "bottom",
          "yref": "paper"
         },
         {
          "font": {
           "size": 20
          },
          "showarrow": false,
          "text": "SwitchTransformers",
          "x": 0.95225,
          "xanchor": "center",
          "xref": "paper",
          "y": 0.445,
          "yanchor": "bottom",
          "yref": "paper"
         }
        ],
        "height": 500,
        "legend": {
         "font": {
          "size": 18
         },
         "orientation": "h",
         "x": 0.47,
         "xanchor": "center"
        },
        "margin": {
         "b": 15,
         "l": 60,
         "r": 15,
         "t": 30
        },
        "template": {
         "data": {
          "bar": [
           {
            "error_x": {
             "color": "#2a3f5f"
            },
            "error_y": {
             "color": "#2a3f5f"
            },
            "marker": {
             "line": {
              "color": "#E5ECF6",
              "width": 0.5
             },
             "pattern": {
              "fillmode": "overlay",
              "size": 10,
              "solidity": 0.2
             }
            },
            "type": "bar"
           }
          ],
          "barpolar": [
           {
            "marker": {
             "line": {
              "color": "#E5ECF6",
              "width": 0.5
             },
             "pattern": {
              "fillmode": "overlay",
              "size": 10,
              "solidity": 0.2
             }
            },
            "type": "barpolar"
           }
          ],
          "carpet": [
           {
            "aaxis": {
             "endlinecolor": "#2a3f5f",
             "gridcolor": "white",
             "linecolor": "white",
             "minorgridcolor": "white",
             "startlinecolor": "#2a3f5f"
            },
            "baxis": {
             "endlinecolor": "#2a3f5f",
             "gridcolor": "white",
             "linecolor": "white",
             "minorgridcolor": "white",
             "startlinecolor": "#2a3f5f"
            },
            "type": "carpet"
           }
          ],
          "choropleth": [
           {
            "colorbar": {
             "outlinewidth": 0,
             "ticks": ""
            },
            "type": "choropleth"
           }
          ],
          "contour": [
           {
            "colorbar": {
             "outlinewidth": 0,
             "ticks": ""
            },
            "colorscale": [
             [
              0,
              "#0d0887"
             ],
             [
              0.1111111111111111,
              "#46039f"
             ],
             [
              0.2222222222222222,
              "#7201a8"
             ],
             [
              0.3333333333333333,
              "#9c179e"
             ],
             [
              0.4444444444444444,
              "#bd3786"
             ],
             [
              0.5555555555555556,
              "#d8576b"
             ],
             [
              0.6666666666666666,
              "#ed7953"
             ],
             [
              0.7777777777777778,
              "#fb9f3a"
             ],
             [
              0.8888888888888888,
              "#fdca26"
             ],
             [
              1,
              "#f0f921"
             ]
            ],
            "type": "contour"
           }
          ],
          "contourcarpet": [
           {
            "colorbar": {
             "outlinewidth": 0,
             "ticks": ""
            },
            "type": "contourcarpet"
           }
          ],
          "heatmap": [
           {
            "colorbar": {
             "outlinewidth": 0,
             "ticks": ""
            },
            "colorscale": [
             [
              0,
              "#0d0887"
             ],
             [
              0.1111111111111111,
              "#46039f"
             ],
             [
              0.2222222222222222,
              "#7201a8"
             ],
             [
              0.3333333333333333,
              "#9c179e"
             ],
             [
              0.4444444444444444,
              "#bd3786"
             ],
             [
              0.5555555555555556,
              "#d8576b"
             ],
             [
              0.6666666666666666,
              "#ed7953"
             ],
             [
              0.7777777777777778,
              "#fb9f3a"
             ],
             [
              0.8888888888888888,
              "#fdca26"
             ],
             [
              1,
              "#f0f921"
             ]
            ],
            "type": "heatmap"
           }
          ],
          "histogram": [
           {
            "marker": {
             "pattern": {
              "fillmode": "overlay",
              "size": 10,
              "solidity": 0.2
             }
            },
            "type": "histogram"
           }
          ],
          "histogram2d": [
           {
            "colorbar": {
             "outlinewidth": 0,
             "ticks": ""
            },
            "colorscale": [
             [
              0,
              "#0d0887"
             ],
             [
              0.1111111111111111,
              "#46039f"
             ],
             [
              0.2222222222222222,
              "#7201a8"
             ],
             [
              0.3333333333333333,
              "#9c179e"
             ],
             [
              0.4444444444444444,
              "#bd3786"
             ],
             [
              0.5555555555555556,
              "#d8576b"
             ],
             [
              0.6666666666666666,
              "#ed7953"
             ],
             [
              0.7777777777777778,
              "#fb9f3a"
             ],
             [
              0.8888888888888888,
              "#fdca26"
             ],
             [
              1,
              "#f0f921"
             ]
            ],
            "type": "histogram2d"
           }
          ],
          "histogram2dcontour": [
           {
            "colorbar": {
             "outlinewidth": 0,
             "ticks": ""
            },
            "colorscale": [
             [
              0,
              "#0d0887"
             ],
             [
              0.1111111111111111,
              "#46039f"
             ],
             [
              0.2222222222222222,
              "#7201a8"
             ],
             [
              0.3333333333333333,
              "#9c179e"
             ],
             [
              0.4444444444444444,
              "#bd3786"
             ],
             [
              0.5555555555555556,
              "#d8576b"
             ],
             [
              0.6666666666666666,
              "#ed7953"
             ],
             [
              0.7777777777777778,
              "#fb9f3a"
             ],
             [
              0.8888888888888888,
              "#fdca26"
             ],
             [
              1,
              "#f0f921"
             ]
            ],
            "type": "histogram2dcontour"
           }
          ],
          "mesh3d": [
           {
            "colorbar": {
             "outlinewidth": 0,
             "ticks": ""
            },
            "type": "mesh3d"
           }
          ],
          "parcoords": [
           {
            "line": {
             "colorbar": {
              "outlinewidth": 0,
              "ticks": ""
             }
            },
            "type": "parcoords"
           }
          ],
          "pie": [
           {
            "automargin": true,
            "type": "pie"
           }
          ],
          "scatter": [
           {
            "fillpattern": {
             "fillmode": "overlay",
             "size": 10,
             "solidity": 0.2
            },
            "type": "scatter"
           }
          ],
          "scatter3d": [
           {
            "line": {
             "colorbar": {
              "outlinewidth": 0,
              "ticks": ""
             }
            },
            "marker": {
             "colorbar": {
              "outlinewidth": 0,
              "ticks": ""
             }
            },
            "type": "scatter3d"
           }
          ],
          "scattercarpet": [
           {
            "marker": {
             "colorbar": {
              "outlinewidth": 0,
              "ticks": ""
             }
            },
            "type": "scattercarpet"
           }
          ],
          "scattergeo": [
           {
            "marker": {
             "colorbar": {
              "outlinewidth": 0,
              "ticks": ""
             }
            },
            "type": "scattergeo"
           }
          ],
          "scattergl": [
           {
            "marker": {
             "colorbar": {
              "outlinewidth": 0,
              "ticks": ""
             }
            },
            "type": "scattergl"
           }
          ],
          "scattermap": [
           {
            "marker": {
             "colorbar": {
              "outlinewidth": 0,
              "ticks": ""
             }
            },
            "type": "scattermap"
           }
          ],
          "scattermapbox": [
           {
            "marker": {
             "colorbar": {
              "outlinewidth": 0,
              "ticks": ""
             }
            },
            "type": "scattermapbox"
           }
          ],
          "scatterpolar": [
           {
            "marker": {
             "colorbar": {
              "outlinewidth": 0,
              "ticks": ""
             }
            },
            "type": "scatterpolar"
           }
          ],
          "scatterpolargl": [
           {
            "marker": {
             "colorbar": {
              "outlinewidth": 0,
              "ticks": ""
             }
            },
            "type": "scatterpolargl"
           }
          ],
          "scatterternary": [
           {
            "marker": {
             "colorbar": {
              "outlinewidth": 0,
              "ticks": ""
             }
            },
            "type": "scatterternary"
           }
          ],
          "surface": [
           {
            "colorbar": {
             "outlinewidth": 0,
             "ticks": ""
            },
            "colorscale": [
             [
              0,
              "#0d0887"
             ],
             [
              0.1111111111111111,
              "#46039f"
             ],
             [
              0.2222222222222222,
              "#7201a8"
             ],
             [
              0.3333333333333333,
              "#9c179e"
             ],
             [
              0.4444444444444444,
              "#bd3786"
             ],
             [
              0.5555555555555556,
              "#d8576b"
             ],
             [
              0.6666666666666666,
              "#ed7953"
             ],
             [
              0.7777777777777778,
              "#fb9f3a"
             ],
             [
              0.8888888888888888,
              "#fdca26"
             ],
             [
              1,
              "#f0f921"
             ]
            ],
            "type": "surface"
           }
          ],
          "table": [
           {
            "cells": {
             "fill": {
              "color": "#EBF0F8"
             },
             "line": {
              "color": "white"
             }
            },
            "header": {
             "fill": {
              "color": "#C8D4E3"
             },
             "line": {
              "color": "white"
             }
            },
            "type": "table"
           }
          ]
         },
         "layout": {
          "annotationdefaults": {
           "arrowcolor": "#2a3f5f",
           "arrowhead": 0,
           "arrowwidth": 1
          },
          "autotypenumbers": "strict",
          "coloraxis": {
           "colorbar": {
            "outlinewidth": 0,
            "ticks": ""
           }
          },
          "colorscale": {
           "diverging": [
            [
             0,
             "#8e0152"
            ],
            [
             0.1,
             "#c51b7d"
            ],
            [
             0.2,
             "#de77ae"
            ],
            [
             0.3,
             "#f1b6da"
            ],
            [
             0.4,
             "#fde0ef"
            ],
            [
             0.5,
             "#f7f7f7"
            ],
            [
             0.6,
             "#e6f5d0"
            ],
            [
             0.7,
             "#b8e186"
            ],
            [
             0.8,
             "#7fbc41"
            ],
            [
             0.9,
             "#4d9221"
            ],
            [
             1,
             "#276419"
            ]
           ],
           "sequential": [
            [
             0,
             "#0d0887"
            ],
            [
             0.1111111111111111,
             "#46039f"
            ],
            [
             0.2222222222222222,
             "#7201a8"
            ],
            [
             0.3333333333333333,
             "#9c179e"
            ],
            [
             0.4444444444444444,
             "#bd3786"
            ],
            [
             0.5555555555555556,
             "#d8576b"
            ],
            [
             0.6666666666666666,
             "#ed7953"
            ],
            [
             0.7777777777777778,
             "#fb9f3a"
            ],
            [
             0.8888888888888888,
             "#fdca26"
            ],
            [
             1,
             "#f0f921"
            ]
           ],
           "sequentialminus": [
            [
             0,
             "#0d0887"
            ],
            [
             0.1111111111111111,
             "#46039f"
            ],
            [
             0.2222222222222222,
             "#7201a8"
            ],
            [
             0.3333333333333333,
             "#9c179e"
            ],
            [
             0.4444444444444444,
             "#bd3786"
            ],
            [
             0.5555555555555556,
             "#d8576b"
            ],
            [
             0.6666666666666666,
             "#ed7953"
            ],
            [
             0.7777777777777778,
             "#fb9f3a"
            ],
            [
             0.8888888888888888,
             "#fdca26"
            ],
            [
             1,
             "#f0f921"
            ]
           ]
          },
          "colorway": [
           "#636efa",
           "#EF553B",
           "#00cc96",
           "#ab63fa",
           "#FFA15A",
           "#19d3f3",
           "#FF6692",
           "#B6E880",
           "#FF97FF",
           "#FECB52"
          ],
          "font": {
           "color": "#2a3f5f"
          },
          "geo": {
           "bgcolor": "white",
           "lakecolor": "white",
           "landcolor": "#E5ECF6",
           "showlakes": true,
           "showland": true,
           "subunitcolor": "white"
          },
          "hoverlabel": {
           "align": "left"
          },
          "hovermode": "closest",
          "mapbox": {
           "style": "light"
          },
          "paper_bgcolor": "white",
          "plot_bgcolor": "#E5ECF6",
          "polar": {
           "angularaxis": {
            "gridcolor": "white",
            "linecolor": "white",
            "ticks": ""
           },
           "bgcolor": "#E5ECF6",
           "radialaxis": {
            "gridcolor": "white",
            "linecolor": "white",
            "ticks": ""
           }
          },
          "scene": {
           "xaxis": {
            "backgroundcolor": "#E5ECF6",
            "gridcolor": "white",
            "gridwidth": 2,
            "linecolor": "white",
            "showbackground": true,
            "ticks": "",
            "zerolinecolor": "white"
           },
           "yaxis": {
            "backgroundcolor": "#E5ECF6",
            "gridcolor": "white",
            "gridwidth": 2,
            "linecolor": "white",
            "showbackground": true,
            "ticks": "",
            "zerolinecolor": "white"
           },
           "zaxis": {
            "backgroundcolor": "#E5ECF6",
            "gridcolor": "white",
            "gridwidth": 2,
            "linecolor": "white",
            "showbackground": true,
            "ticks": "",
            "zerolinecolor": "white"
           }
          },
          "shapedefaults": {
           "line": {
            "color": "#2a3f5f"
           }
          },
          "ternary": {
           "aaxis": {
            "gridcolor": "white",
            "linecolor": "white",
            "ticks": ""
           },
           "baxis": {
            "gridcolor": "white",
            "linecolor": "white",
            "ticks": ""
           },
           "bgcolor": "#E5ECF6",
           "caxis": {
            "gridcolor": "white",
            "linecolor": "white",
            "ticks": ""
           }
          },
          "title": {
           "x": 0.05
          },
          "xaxis": {
           "automargin": true,
           "gridcolor": "white",
           "linecolor": "white",
           "ticks": "",
           "title": {
            "standoff": 15
           },
           "zerolinecolor": "white",
           "zerolinewidth": 2
          },
          "yaxis": {
           "automargin": true,
           "gridcolor": "white",
           "linecolor": "white",
           "ticks": "",
           "title": {
            "standoff": 15
           },
           "zerolinecolor": "white",
           "zerolinewidth": 2
          }
         }
        },
        "width": 2000,
        "xaxis": {
         "anchor": "y",
         "domain": [
          0,
          0.0955
         ],
         "matches": "x11",
         "showticklabels": true,
         "tickfont": {
          "size": 16
         }
        },
        "xaxis10": {
         "anchor": "y10",
         "domain": [
          0.9045000000000001,
          1
         ],
         "matches": "x11",
         "showticklabels": true,
         "tickfont": {
          "size": 16
         }
        },
        "xaxis11": {
         "anchor": "y11",
         "domain": [
          0,
          0.0955
         ],
         "showticklabels": true,
         "tickfont": {
          "size": 16
         },
         "title": {
          "font": {
           "size": 18
          },
          "standoff": 1,
          "text": "Position"
         }
        },
        "xaxis12": {
         "anchor": "y12",
         "domain": [
          0.1005,
          0.196
         ],
         "matches": "x11",
         "showticklabels": true,
         "tickfont": {
          "size": 16
         },
         "title": {
          "font": {
           "size": 18
          },
          "standoff": 1,
          "text": "Position"
         }
        },
        "xaxis13": {
         "anchor": "y13",
         "domain": [
          0.201,
          0.2965
         ],
         "matches": "x11",
         "showticklabels": true,
         "tickfont": {
          "size": 16
         },
         "title": {
          "font": {
           "size": 18
          },
          "standoff": 1,
          "text": "Position"
         }
        },
        "xaxis14": {
         "anchor": "y14",
         "domain": [
          0.3015,
          0.397
         ],
         "matches": "x11",
         "showticklabels": true,
         "tickfont": {
          "size": 16
         },
         "title": {
          "font": {
           "size": 18
          },
          "standoff": 1,
          "text": "Position"
         }
        },
        "xaxis15": {
         "anchor": "y15",
         "domain": [
          0.402,
          0.49750000000000005
         ],
         "matches": "x11",
         "showticklabels": true,
         "tickfont": {
          "size": 16
         },
         "title": {
          "font": {
           "size": 18
          },
          "standoff": 1,
          "text": "Position"
         }
        },
        "xaxis16": {
         "anchor": "y16",
         "domain": [
          0.5025000000000001,
          0.5980000000000001
         ],
         "matches": "x11",
         "showticklabels": true,
         "tickfont": {
          "size": 16
         },
         "title": {
          "font": {
           "size": 18
          },
          "standoff": 1,
          "text": "Position"
         }
        },
        "xaxis17": {
         "anchor": "y17",
         "domain": [
          0.603,
          0.6985
         ],
         "matches": "x11",
         "showticklabels": true,
         "tickfont": {
          "size": 16
         },
         "title": {
          "font": {
           "size": 18
          },
          "standoff": 1,
          "text": "Position"
         }
        },
        "xaxis18": {
         "anchor": "y18",
         "domain": [
          0.7035,
          0.799
         ],
         "matches": "x11",
         "showticklabels": true,
         "tickfont": {
          "size": 16
         },
         "title": {
          "font": {
           "size": 18
          },
          "standoff": 1,
          "text": "Position"
         }
        },
        "xaxis19": {
         "anchor": "y19",
         "domain": [
          0.804,
          0.8995000000000001
         ],
         "matches": "x11",
         "showticklabels": true,
         "tickfont": {
          "size": 16
         },
         "title": {
          "font": {
           "size": 18
          },
          "standoff": 1,
          "text": "Position"
         }
        },
        "xaxis2": {
         "anchor": "y2",
         "domain": [
          0.1005,
          0.196
         ],
         "matches": "x11",
         "showticklabels": true,
         "tickfont": {
          "size": 16
         }
        },
        "xaxis20": {
         "anchor": "y20",
         "domain": [
          0.9045000000000001,
          1
         ],
         "matches": "x11",
         "showticklabels": true,
         "tickfont": {
          "size": 16
         },
         "title": {
          "font": {
           "size": 18
          },
          "standoff": 1,
          "text": "Position"
         }
        },
        "xaxis3": {
         "anchor": "y3",
         "domain": [
          0.201,
          0.2965
         ],
         "matches": "x11",
         "showticklabels": true,
         "tickfont": {
          "size": 16
         }
        },
        "xaxis4": {
         "anchor": "y4",
         "domain": [
          0.3015,
          0.397
         ],
         "matches": "x11",
         "showticklabels": true,
         "tickfont": {
          "size": 16
         }
        },
        "xaxis5": {
         "anchor": "y5",
         "domain": [
          0.402,
          0.49750000000000005
         ],
         "matches": "x11",
         "showticklabels": true,
         "tickfont": {
          "size": 16
         }
        },
        "xaxis6": {
         "anchor": "y6",
         "domain": [
          0.5025000000000001,
          0.5980000000000001
         ],
         "matches": "x11",
         "showticklabels": true,
         "tickfont": {
          "size": 16
         }
        },
        "xaxis7": {
         "anchor": "y7",
         "domain": [
          0.603,
          0.6985
         ],
         "matches": "x11",
         "showticklabels": true,
         "tickfont": {
          "size": 16
         }
        },
        "xaxis8": {
         "anchor": "y8",
         "domain": [
          0.7035,
          0.799
         ],
         "matches": "x11",
         "showticklabels": true,
         "tickfont": {
          "size": 16
         }
        },
        "xaxis9": {
         "anchor": "y9",
         "domain": [
          0.804,
          0.8995000000000001
         ],
         "matches": "x11",
         "showticklabels": true,
         "tickfont": {
          "size": 16
         }
        },
        "yaxis": {
         "anchor": "x",
         "domain": [
          0.555,
          1
         ],
         "matches": "y11",
         "showticklabels": true,
         "tickfont": {
          "size": 16
         },
         "title": {
          "font": {
           "size": 18
          },
          "text": "SRP(E,m)"
         }
        },
        "yaxis10": {
         "anchor": "x10",
         "domain": [
          0.555,
          1
         ],
         "matches": "y11",
         "showticklabels": false
        },
        "yaxis11": {
         "anchor": "x11",
         "domain": [
          0,
          0.445
         ],
         "showticklabels": true,
         "tickfont": {
          "size": 16
         },
         "title": {
          "font": {
           "size": 18
          },
          "text": "SRP(E,m)"
         }
        },
        "yaxis12": {
         "anchor": "x12",
         "domain": [
          0,
          0.445
         ],
         "matches": "y11",
         "showticklabels": false
        },
        "yaxis13": {
         "anchor": "x13",
         "domain": [
          0,
          0.445
         ],
         "matches": "y11",
         "showticklabels": false
        },
        "yaxis14": {
         "anchor": "x14",
         "domain": [
          0,
          0.445
         ],
         "matches": "y11",
         "showticklabels": false
        },
        "yaxis15": {
         "anchor": "x15",
         "domain": [
          0,
          0.445
         ],
         "matches": "y11",
         "showticklabels": false
        },
        "yaxis16": {
         "anchor": "x16",
         "domain": [
          0,
          0.445
         ],
         "matches": "y11",
         "showticklabels": false
        },
        "yaxis17": {
         "anchor": "x17",
         "domain": [
          0,
          0.445
         ],
         "matches": "y11",
         "showticklabels": false
        },
        "yaxis18": {
         "anchor": "x18",
         "domain": [
          0,
          0.445
         ],
         "matches": "y11",
         "showticklabels": false
        },
        "yaxis19": {
         "anchor": "x19",
         "domain": [
          0,
          0.445
         ],
         "matches": "y11",
         "showticklabels": false
        },
        "yaxis2": {
         "anchor": "x2",
         "domain": [
          0.555,
          1
         ],
         "matches": "y11",
         "showticklabels": false
        },
        "yaxis20": {
         "anchor": "x20",
         "domain": [
          0,
          0.445
         ],
         "matches": "y11",
         "showticklabels": false
        },
        "yaxis3": {
         "anchor": "x3",
         "domain": [
          0.555,
          1
         ],
         "matches": "y11",
         "showticklabels": false
        },
        "yaxis4": {
         "anchor": "x4",
         "domain": [
          0.555,
          1
         ],
         "matches": "y11",
         "showticklabels": false
        },
        "yaxis5": {
         "anchor": "x5",
         "domain": [
          0.555,
          1
         ],
         "matches": "y11",
         "showticklabels": false
        },
        "yaxis6": {
         "anchor": "x6",
         "domain": [
          0.555,
          1
         ],
         "matches": "y11",
         "showticklabels": false
        },
        "yaxis7": {
         "anchor": "x7",
         "domain": [
          0.555,
          1
         ],
         "matches": "y11",
         "showticklabels": false
        },
        "yaxis8": {
         "anchor": "x8",
         "domain": [
          0.555,
          1
         ],
         "matches": "y11",
         "showticklabels": false
        },
        "yaxis9": {
         "anchor": "x9",
         "domain": [
          0.555,
          1
         ],
         "matches": "y11",
         "showticklabels": false
        }
       }
      }
     },
     "metadata": {},
     "output_type": "display_data"
    }
   ],
   "source": [
    "num_cols = 10\n",
    "num_rows = (len(main_model_config) - 1) // num_cols + 1\n",
    "\n",
    "fig = make_subplots(\n",
    "    rows=num_rows,\n",
    "    cols=num_cols,\n",
    "    shared_xaxes=\"all\",\n",
    "    shared_yaxes=\"all\",\n",
    "    horizontal_spacing=0.005,\n",
    "    vertical_spacing=0.11,\n",
    "    subplot_titles=sorted_model_keys.map(new_name).values,\n",
    ")\n",
    "\n",
    "font_size = [16, 16, 18, 20]\n",
    "show_legend = True\n",
    "\n",
    "for i, key in enumerate(sorted_model_keys):\n",
    "    if (mgdf[\"model\"] == key).sum() == 0:\n",
    "        continue\n",
    "\n",
    "    row = i // num_cols + 1\n",
    "    col = i % num_cols + 1\n",
    "    num_layers = model_config.loc[key, \"num_layers\"]\n",
    "\n",
    "    for seg_len in seg_lens:\n",
    "        tmpdf = mgdf.query(f\"model == '{key}' and seg_len == {seg_len}\")\n",
    "        if len(tmpdf) == 0:\n",
    "            continue\n",
    "\n",
    "        line_name = f\"SRP(E,{seg_len})\"\n",
    "\n",
    "        if main_model_config.loc[key, \"model_type\"] == \"seq2seq\":\n",
    "            for is_decoder in (False, True):\n",
    "                subdf = tmpdf.query(f\"is_decoder == {is_decoder}\")\n",
    "                if len(subdf) == 0:\n",
    "                    continue\n",
    "\n",
    "                fig.add_scatter(\n",
    "                    x=subdf[\"seg_pos\"],\n",
    "                    y=subdf[\"best_f1\"],\n",
    "                    hoverinfo=\"skip\",\n",
    "                    legendgroup=line_name,\n",
    "                    line=go.scatter.Line(\n",
    "                        color=seg_len_colors[seg_len], dash=\"solid\" if is_decoder else \"dot\"\n",
    "                    ),\n",
    "                    mode=\"lines\",\n",
    "                    name=line_name,\n",
    "                    opacity=1 if is_decoder else 0.5,\n",
    "                    showlegend=show_legend,\n",
    "                    row=row,\n",
    "                    col=col,\n",
    "                )\n",
    "        else:\n",
    "            fig.add_scatter(\n",
    "                x=tmpdf[\"seg_pos\"],\n",
    "                y=tmpdf[\"best_f1\"],\n",
    "                hoverinfo=\"skip\",\n",
    "                legendgroup=line_name,\n",
    "                line=go.scatter.Line(color=seg_len_colors[seg_len]),\n",
    "                mode=\"lines\",\n",
    "                name=line_name,\n",
    "                showlegend=show_legend,\n",
    "                row=row,\n",
    "                col=col,\n",
    "            )\n",
    "\n",
    "    show_legend = False\n",
    "\n",
    "    fig.update_xaxes(\n",
    "        showticklabels=True,\n",
    "        tickfont=go.layout.xaxis.Tickfont(size=font_size[1]),\n",
    "        row=row,\n",
    "        col=col,\n",
    "    )\n",
    "\n",
    "    if row == num_rows:\n",
    "        fig.update_xaxes(\n",
    "            title=go.layout.xaxis.Title(\n",
    "                font=go.layout.xaxis.title.Font(size=font_size[2]), standoff=1, text=\"Position\"\n",
    "            ),\n",
    "            row=row,\n",
    "            col=col,\n",
    "        )\n",
    "\n",
    "    fig.update_yaxes(showticklabels=col == 1, row=row, col=col)\n",
    "\n",
    "    if col == 1:\n",
    "        fig.update_yaxes(\n",
    "            tickfont=go.layout.yaxis.Tickfont(size=font_size[1]),\n",
    "            title=go.layout.yaxis.Title(\n",
    "                font=go.layout.yaxis.title.Font(size=font_size[2]), text=\"SRP(E,m)\"\n",
    "            ),\n",
    "            row=row,\n",
    "            col=col,\n",
    "        )\n",
    "\n",
    "fig.update_annotations(font=go.layout.annotation.Font(size=font_size[3]))\n",
    "\n",
    "fig.update_layout(\n",
    "    legend=go.layout.Legend(\n",
    "        font=go.layout.legend.Font(size=font_size[2]), orientation=\"h\", x=0.47, xanchor=\"center\"\n",
    "    ),\n",
    "    margin=go.layout.Margin(l=60, r=15, t=30, b=15),\n",
    "    width=2000,\n",
    "    height=500,\n",
    ")\n",
    "\n",
    "fig.write_image(\"./plot/msrpp.pdf\", width=fig.layout.width, height=fig.layout.height)\n",
    "fig.show()"
   ]
  }
 ],
 "metadata": {
  "kernelspec": {
   "display_name": "moe-lrc",
   "language": "python",
   "name": "python3"
  },
  "language_info": {
   "codemirror_mode": {
    "name": "ipython",
    "version": 3
   },
   "file_extension": ".py",
   "mimetype": "text/x-python",
   "name": "python",
   "nbconvert_exporter": "python",
   "pygments_lexer": "ipython3",
   "version": "3.13.3"
  }
 },
 "nbformat": 4,
 "nbformat_minor": 5
}
